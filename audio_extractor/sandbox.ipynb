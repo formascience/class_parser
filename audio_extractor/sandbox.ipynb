{
 "cells": [
  {
   "cell_type": "code",
   "execution_count": null,
   "id": "33c6f5e9",
   "metadata": {},
   "outputs": [
    {
     "name": "stderr",
     "output_type": "stream",
     "text": [
      "2025-07-27 15:48:19 - audio_extractor.audio_processor - INFO - Extracting audio from /Users/youssefjanjar/Documents/formascience/volume/cours_1.mp4\n",
      "2025-07-27 15:48:23 - audio_extractor.audio_processor - INFO - Audio extracted successfully: /Users/youssefjanjar/Documents/formascience/volume/transcripts/cours_1_audio.wav\n"
     ]
    },
    {
     "data": {
      "text/plain": [
       "'/Users/youssefjanjar/Documents/formascience/volume/transcripts/cours_1_audio.wav'"
      ]
     },
     "execution_count": 1,
     "metadata": {},
     "output_type": "execute_result"
    }
   ],
   "source": [
    "from audio_extractor.audio_processor import AudioExtractor, AudioChunker, VideoToTextPipeline\n",
    "\n",
    "video_path = \"/Users/youssefjanjar/Documents/formascience/volume/cours_1.mp4\"\n",
    "output_path = \"/Users/youssefjanjar/Documents/formascience/volume/transcripts\"\n",
    "\n",
    "\n",
    "\n",
    "audio_extractor = AudioExtractor()\n",
    "audio_extractor.extract_audio(video_path, output_path)"
   ]
  },
  {
   "cell_type": "code",
   "execution_count": 2,
   "id": "209ab430",
   "metadata": {},
   "outputs": [
    {
     "name": "stderr",
     "output_type": "stream",
     "text": [
      "2025-07-27 15:59:51 - audio_extractor.audio_processor - INFO - Splitting audio into 3.0 minute chunks\n",
      "2025-07-27 15:59:51 - audio_extractor.audio_processor - INFO - Output directory: /Users/youssefjanjar/Documents/formascience/volume/audio/cours_1_audio_chunks\n",
      "2025-07-27 15:59:52 - audio_extractor.audio_processor - INFO - Created 25 audio chunks\n"
     ]
    },
    {
     "name": "stdout",
     "output_type": "stream",
     "text": [
      "Created 25 chunks\n",
      "Chunks saved in: /Users/youssefjanjar/Documents/formascience/volume/audio/cours_1_audio_chunks\n",
      "  Chunk 1: cours_1_audio_chunk_001.wav\n",
      "  Chunk 2: cours_1_audio_chunk_002.wav\n",
      "  Chunk 3: cours_1_audio_chunk_003.wav\n"
     ]
    }
   ],
   "source": [
    "from audio_extractor.audio_processor import AudioChunker\n",
    "import os\n",
    "\n",
    "audio_chunker = AudioChunker()\n",
    "audio_path = \"/Users/youssefjanjar/Documents/formascience/volume/audio/cours_1_audio.wav\"\n",
    "output_path = \"/Users/youssefjanjar/Documents/formascience/volume/transcripts\"\n",
    "\n",
    "# Initialize chunker\n",
    "chunker = AudioChunker()\n",
    "\n",
    "# Split audio into 3-minute chunks\n",
    "# This creates a folder named \"audio_filename_chunks\" automatically\n",
    "chunk_paths = chunker.split_audio(\n",
    "    audio_path, \n",
    "    chunk_duration_minutes=3.0  # 3-minute chunks\n",
    ")\n",
    "\n",
    "print(f\"Created {len(chunk_paths)} chunks\")\n",
    "print(f\"Chunks saved in: {os.path.dirname(chunk_paths[0]) if chunk_paths else 'N/A'}\")\n",
    "\n",
    "# Show first few chunk paths\n",
    "for i, chunk in enumerate(chunk_paths[:3], 1):\n",
    "    print(f\"  Chunk {i}: {os.path.basename(chunk)}\")\n",
    "\n",
    "\n",
    "\n",
    "\n",
    "\n",
    "\n"
   ]
  },
  {
   "cell_type": "code",
   "execution_count": null,
   "id": "2f725dbc",
   "metadata": {},
   "outputs": [],
   "source": [
    "from transcription.whisper_client import WhisperTranscriber\n",
    "prompt = \"\"\"\n",
    "Transcription académique d'un cours de médecine universitaire, en français.\n",
    "Le locuteur est un professeur qui commente des diapositives.\n",
    "Transcrivez uniquement le discours du professeur, en bon français, sans ajouter de descriptions de diapositives.\n",
    "Ignorez les répétitions ou hésitations.\n",
    "Privilégiez la clarté.\n",
    "\"\"\"\n",
    "timestamp_granularities = [\"segment\"]\n",
    "\n",
    "\n",
    "\n",
    "\n",
    "\n",
    "\n",
    "\n",
    "\n"
   ]
  },
  {
   "cell_type": "markdown",
   "id": "3d97810c",
   "metadata": {},
   "source": [
    "# Transcription with timestamps"
   ]
  },
  {
   "cell_type": "code",
   "execution_count": 2,
   "id": "fa3e2ab8",
   "metadata": {},
   "outputs": [
    {
     "name": "stderr",
     "output_type": "stream",
     "text": [
      "2025-07-27 16:52:05 - audio_extractor.transcription.whisper_client - INFO - Transcribing with timestamps: /Users/youssefjanjar/Documents/formascience/volume/audio/cours_1_audio_chunks/cours_1_audio_chunk_001.wav\n",
      "2025-07-27 16:52:17 - audio_extractor.transcription.whisper_client - INFO - Transcription saved: /Users/youssefjanjar/Documents/formascience/volume/transcripts/json/cours_1_audio_chunk_001_transcription.json\n",
      "2025-07-27 16:52:17 - audio_extractor.transcription.whisper_client - INFO - JSON transcription saved to: /Users/youssefjanjar/Documents/formascience/volume/transcripts/json/cours_1_audio_chunk_001_transcription.json\n",
      "2025-07-27 16:52:17 - audio_extractor.transcription.whisper_client - INFO - Parsed timestamps saved to: /Users/youssefjanjar/Documents/formascience/volume/transcripts/parsed/cours_1_audio_chunk_001_timestamps.txt\n"
     ]
    },
    {
     "name": "stdout",
     "output_type": "stream",
     "text": [
      "✅ JSON saved to: /Users/youssefjanjar/Documents/formascience/volume/transcripts/json/cours_1_audio_chunk_001_transcription.json\n",
      "✅ Parsed timestamps saved to: /Users/youssefjanjar/Documents/formascience/volume/transcripts/parsed/cours_1_audio_chunk_001_timestamps.txt\n"
     ]
    }
   ],
   "source": [
    "# Your specific use case - French academic transcription\n",
    "from audio_extractor import WhisperTranscriber\n",
    "\n",
    "# Academic French transcription prompt\n",
    "prompt = \"\"\"\n",
    "Transcription académique d'un cours de médecine universitaire, en français.\n",
    "Le locuteur est un professeur qui commente des diapositives.\n",
    "Utilisez la terminologie médicale appropriée.\n",
    "Indiquez les pauses importantes par des points.\n",
    "Privilégiez la clarté.\n",
    "\"\"\"\n",
    "\n",
    "# Your audio file path\n",
    "audio_path = \"/Users/youssefjanjar/Documents/formascience/volume/audio/cours_1_audio_chunks/cours_1_audio_chunk_001.wav\"\n",
    "\n",
    "from audio_extractor import WhisperTranscriber\n",
    "\n",
    "transcriber = WhisperTranscriber()\n",
    "\n",
    "# French academic transcription with timestamp parsing\n",
    "result = transcriber.transcribe_with_timestamps(\n",
    "    audio_path=audio_path,\n",
    "    language=\"fr\",\n",
    "    prompt=prompt,\n",
    "    timestamp_granularities=[\"segment\"]\n",
    ")\n",
    "\n",
    "print(f\"✅ JSON saved to: {result['json_file']}\")\n",
    "print(f\"✅ Parsed timestamps saved to: {result['parsed_file']}\")"
   ]
  },
  {
   "cell_type": "code",
   "execution_count": null,
   "id": "d01486bf",
   "metadata": {},
   "outputs": [],
   "source": []
  }
 ],
 "metadata": {
  "kernelspec": {
   "display_name": "Audio Extractor (Poetry)",
   "language": "python",
   "name": "audio-extractor"
  },
  "language_info": {
   "codemirror_mode": {
    "name": "ipython",
    "version": 3
   },
   "file_extension": ".py",
   "mimetype": "text/x-python",
   "name": "python",
   "nbconvert_exporter": "python",
   "pygments_lexer": "ipython3",
   "version": "3.11.4"
  }
 },
 "nbformat": 4,
 "nbformat_minor": 5
}
