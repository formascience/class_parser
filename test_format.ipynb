{
 "cells": [
  {
   "cell_type": "code",
   "execution_count": 1,
   "id": "96a57d4e",
   "metadata": {},
   "outputs": [],
   "source": [
    "from src import Course"
   ]
  },
  {
   "cell_type": "code",
   "execution_count": 2,
   "id": "cc8fbc7c",
   "metadata": {},
   "outputs": [
    {
     "data": {
      "text/plain": [
       "['architecture_du_génome_humain_20250818_113431.json',\n",
       " 'architecture_du_génome_humain_20250818_123215.json',\n",
       " 'réplication_et_réparation_de_l’adn_20250818_120405.json',\n",
       " 'sucres_et_lipides_20250818_170401.json',\n",
       " 'acides_aminés_et_protéines_20250818_181001.json',\n",
       " 'architecture_du_génome_humain_20250818_114200.json',\n",
       " 'architecture_du_génome_humain_20250818_132011.json']"
      ]
     },
     "execution_count": 2,
     "metadata": {},
     "output_type": "execute_result"
    }
   ],
   "source": [
    "import os\n",
    "os.listdir(\"/Users/youssefjanjar/Documents/formascience/class_parser/volume/artifacts/json\")"
   ]
  },
  {
   "cell_type": "code",
   "execution_count": 3,
   "id": "bc517d62",
   "metadata": {},
   "outputs": [
    {
     "name": "stdout",
     "output_type": "stream",
     "text": [
      "Course: Sucres et lipides\n",
      "Level: L1\n",
      "Block: SANTE\n",
      "Semester: S1\n",
      "Subject: UE-2\n",
      "Chapter: 1\n",
      "\n",
      "\n",
      "Course Outline:\n",
      "==================================================\n",
      "Introduction et repères du support de cours\n",
      "Notions d'oxydoréduction et rappels de chimie organique\n",
      "Glucides : structures, réactivité, osides et polyosides\n",
      "  Structures et représentations des oses monosaccharides\n",
      "    Structure de base et projection de Fischer\n",
      "    Isoméries et filiation chimique des oses\n",
      "    Cyclisation, anomérie, mutarotation et conformations cycliques\n",
      "  Réactivité des oses et principaux dérivés fonctionnels\n",
      "    Substitutions et dérivés: désoxy, phosphorylés et osamines\n",
      "    Oxydations et formation d'acides uroniques dérivés\n",
      "  Osides, polyosides homogènes et hétérogènes: notions générales\n",
      "    Liaison osidique: mécanismes, anomérie et conséquences\n",
      "    Diholosides: structures, exemples biologiques et propriétés\n",
      "    Hydrolyse enzymatique et classification des glycosidases intestinales\n",
      "    Polyosides homogènes: amidon, glycogène, cellulose, chitine\n",
      "    Polyosides hétérogènes: glycosaminoglycanes et rôles\n",
      "    Hétérosides et glycosylation: glycoprotéines, glycolipides, antigènes\n",
      "Lipides: catégories structurales, propriétés et fonctions biologiques\n",
      "  Acides gras: nomenclature, propriétés et comportement en solution\n",
      "  Acylglycérols et triacylglycérols: structure et diversité\n",
      "  Glycérophospholipides: structure des membranes et biosynthèse\n",
      "  Cérides et sphingolipides: structure, distribution et rôles\n",
      "  Isoprénoïdes et vitamines liposolubles: exemples et fonctions\n",
      "  Stérols et stéroïdes: cholestérol, esters et hormones dérivées\n"
     ]
    }
   ],
   "source": [
    "course = Course.load_from_json(\"volume/artifacts/json/sucres_et_lipides_20250818_170401.json\")\n",
    "print(course.print_outline())"
   ]
  },
  {
   "cell_type": "code",
   "execution_count": 4,
   "id": "1bb615f0",
   "metadata": {},
   "outputs": [
    {
     "name": "stdout",
     "output_type": "stream",
     "text": [
      "📄 Course exported to DOCX: volume/artifacts/docx/Chapitre_1_sucres_et_lipides.docx\n"
     ]
    },
    {
     "data": {
      "text/plain": [
       "'volume/artifacts/docx/Chapitre_1_sucres_et_lipides.docx'"
      ]
     },
     "execution_count": 4,
     "metadata": {},
     "output_type": "execute_result"
    }
   ],
   "source": [
    "course.to_docx(template_path=\"volume/templates/fs_template.docx\", output_path=\"volume/artifacts/docx\")"
   ]
  },
  {
   "cell_type": "code",
   "execution_count": null,
   "id": "bb85e7dc",
   "metadata": {},
   "outputs": [],
   "source": []
  }
 ],
 "metadata": {
  "kernelspec": {
   "display_name": ".venv",
   "language": "python",
   "name": "python3"
  },
  "language_info": {
   "codemirror_mode": {
    "name": "ipython",
    "version": 3
   },
   "file_extension": ".py",
   "mimetype": "text/x-python",
   "name": "python",
   "nbconvert_exporter": "python",
   "pygments_lexer": "ipython3",
   "version": "3.11.13"
  }
 },
 "nbformat": 4,
 "nbformat_minor": 5
}
