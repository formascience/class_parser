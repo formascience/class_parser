{
 "cells": [
  {
   "cell_type": "code",
   "execution_count": 1,
   "id": "96a57d4e",
   "metadata": {},
   "outputs": [],
   "source": [
    "from src import Course"
   ]
  },
  {
   "cell_type": "code",
   "execution_count": 2,
   "id": "cc8fbc7c",
   "metadata": {},
   "outputs": [
    {
     "data": {
      "text/plain": [
       "['test_front_back_20250821_153451.json',\n",
       " \"transcription,_maturation_et_régulation_de_l'adn_20250822_110252.json\",\n",
       " 'code_genetique_et_traduction_20250822_115527.json',\n",
       " 'test_api_20250821_203247.json',\n",
       " 'p_test_code_genetique_et_traduction_20250822_120025.json',\n",
       " 'test_api_20250822_120351.json',\n",
       " 'code_genetique_et_traduction_20250820_221143.json',\n",
       " 'code_genetique_et_traduction_20250822_115806.json',\n",
       " 'code_genetique_et_traduction_20250821_152846.json',\n",
       " \"transcription,_maturation_et_régulation_de_l'adn_20250822_110338.json\"]"
      ]
     },
     "execution_count": 2,
     "metadata": {},
     "output_type": "execute_result"
    }
   ],
   "source": [
    "import os\n",
    "os.listdir(\"/Users/youssefjanjar/Documents/formascience/class_parser/volume/artifacts/json\")"
   ]
  },
  {
   "cell_type": "code",
   "execution_count": 3,
   "id": "bc517d62",
   "metadata": {},
   "outputs": [],
   "source": [
    "course = Course.load_from_json(\"volume/artifacts/json/transcription,_maturation_et_régulation_de_l'adn_20250822_110252.json\")\n",
    "course.course_title, course.name = 'testing_format', 'testing_format'\n"
   ]
  },
  {
   "cell_type": "code",
   "execution_count": 5,
   "id": "1bb615f0",
   "metadata": {},
   "outputs": [
    {
     "name": "stdout",
     "output_type": "stream",
     "text": [
      "📄 Course exported to DOCX: volume/artifacts/docx/Chapitre_5_testing_format.docx\n"
     ]
    },
    {
     "data": {
      "text/plain": [
       "('volume/artifacts/docx', 'Chapitre_5_testing_format.docx')"
      ]
     },
     "execution_count": 5,
     "metadata": {},
     "output_type": "execute_result"
    }
   ],
   "source": [
    "docx_path, docx_filename = course.to_docx(template_path=\"volume/templates/fs_template.docx\", output_path=\"volume/artifacts/docx\")\n",
    "docx_path, docx_filename"
   ]
  },
  {
   "cell_type": "code",
   "execution_count": null,
   "id": "3c52d7d6",
   "metadata": {},
   "outputs": [],
   "source": []
  }
 ],
 "metadata": {
  "kernelspec": {
   "display_name": ".venv",
   "language": "python",
   "name": "python3"
  },
  "language_info": {
   "codemirror_mode": {
    "name": "ipython",
    "version": 3
   },
   "file_extension": ".py",
   "mimetype": "text/x-python",
   "name": "python",
   "nbconvert_exporter": "python",
   "pygments_lexer": "ipython3",
   "version": "3.11.13"
  }
 },
 "nbformat": 4,
 "nbformat_minor": 5
}
