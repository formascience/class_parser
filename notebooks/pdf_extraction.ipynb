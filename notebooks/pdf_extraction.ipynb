{
 "cells": [
  {
   "cell_type": "markdown",
   "id": "328a1516",
   "metadata": {},
   "source": [
    "# LLM calls"
   ]
  },
  {
   "cell_type": "markdown",
   "id": "4f000627",
   "metadata": {},
   "source": [
    "# Test the content generation"
   ]
  },
  {
   "cell_type": "code",
   "execution_count": 12,
   "id": "bc8309de",
   "metadata": {},
   "outputs": [
    {
     "name": "stdout",
     "output_type": "stream",
     "text": [
      "Course Outline:\n",
      "==================================================\n",
      "Chapitre 4 - Réplication et réparation de l’ADN\n",
      "  I. Structure et propriétés des acides nucléiques\n",
      "    1. Les nucléotides\n",
      "      1.1. Les bases azotées\n",
      "        1.1.1. Les bases pyrimidiques\n",
      "        1.1.2. Les bases puriques\n",
      "        1.1.3. Les bases modifiées dans l’ADN et l’ARN\n",
      "        1.1.4. Autres dérivés : molécules d’intérêt biologique et médical\n",
      "        1.1.5. Propriétés des bases azotées\n",
      "        1.1.6. Transformation chimique des bases\n",
      "      1.2. Les nucléosides\n",
      "        1.2.1. Le pentose\n",
      "        1.2.2. La liaison osidique\n",
      "        1.2.3. Nomenclature\n",
      "      1.3. Les nucléotides\n",
      "        1.3.1. Nomenclature\n",
      "        1.3.2. Nucléotides d’intérêt biologique\n",
      "    2. Les acides nucléiques\n",
      "      2.1. La liaison phosphodiester\n",
      "      2.2. Structure spatiale des acides desoxyribonucléiques (ADN)\n",
      "      2.3. Propriétés des ADN\n",
      "        2.3.1. État ionique et solubilité\n",
      "        2.3.2. Dénaturation de l’ADN / Effet sur l’absorbance\n",
      "      2.4. Organisation des ADN\n",
      "        2.4.1. Organisation de l’ADN viral\n",
      "        2.4.2. Organisation de l’ADN des bactéries\n",
      "        2.4.3. Organisation de l’ADN nucléaire des eucaryotes\n",
      "        2.4.4. Organisation de l’ADN mitochondrial\n",
      "      2.5. Les acides ribonucléiques (ARN): structure et organisation\n",
      "        2.5.1. ARN génomiques viraux\n",
      "        2.5.2. ARN cellulaire (procaryotes et eucaryotes)\n",
      "        2.5.3. Autres ARN fonctionnels eucaryotes - ARN “non codants”\n",
      "        2.5.4. Structure secondaire / tertiaire des ARN\n",
      "      2.6. L’hydrolyse enzymatique des acides nucléiques\n",
      "  II. Réplication de l’ADN\n",
      "    1. Introduction / Aperçu du cycle cellulaire\n",
      "    2. Principe / notions fondamentales sur la synthèse d’ADN\n",
      "      2.1. Mode de réplication: conservatif ou semi-conservatif ?\n",
      "      2.2. Les unités de réplication (“Réplicons”)\n",
      "      2.3. La réplication est bidirectionnelle\n",
      "      2.4. Réplication et contraintes physiques\n",
      "      2.5. Principe de la synthèse - mode d’action des ADN polymérases\n",
      "    3. La réaction de polymérisation de l’ADN\n",
      "      3.1. Mode d'action de l'ADN polymérase\n",
      "        3.2. Mécanisme\n",
      "    4. Les ADN polymérases\n",
      "      4.1. Types\n",
      "      4.2. Rôles\n",
      "      4.3. Substrats et conditions d'activité\n",
      "      4.4. Activité catalytique additionnelle des ADN polymérases\n",
      "      4.5. Un type très particulier d'ADN polymérase: transcriptase inverse\n",
      "    5. Autres protéines impliquées dans la réplication / Mise en place et progression de la fourche réplicative\n",
      "      5.1. ADN hélicase\n",
      "      5.2. ADN primase : synthèse d'amorces pour les ADN polymérases\n",
      "      5.3. Mise en place du clamp (“collier coulissant”)\n",
      "      5.4. Protéines SSB\n",
      "      5.5. Topoisomérase\n",
      "      5.6. Mécanisme de dégradation des amorces ARN\n",
      "      5.7. ADN ligase\n",
      "      5.8. Résumé: schéma de la chronologie de la synthèse du brin retardé\n",
      "      5.9. Retour à la vue d’ensemble de la fourche de réplication et des complexes moléculaires y agissant\n",
      "    6. Réplication des chromosomes eucaryotes: Télomères – enzyme télomérase\n",
      "    7. La réplication est une cible thérapeutique\n",
      "  III. Réparation de l’ADN - Anomalies de l'ADN et mécanismes de correction\n",
      "    Introduction\n",
      "    1. Anomalies (lésions) de l'ADN\n",
      "      1.1. Causes physiques\n",
      "      1.2. Agents mutagènes chimiques : exemples\n",
      "      1.3. Causes \"(patho)physiologiques\"\n",
      "    2. Mécanismes de correction\n",
      "      2.1. Correction immédiate\n",
      "      2.2. Réparation par excision de base (BER)\n",
      "      2.3. Réparation par excision de nucléotides (NER)\n",
      "      2.4. Correction des mésappariements (\"Mismatch Repair\")\n",
      "      2.5. Réparation des coupures double brin\n",
      "      2.6. Les ADN polymérases translésionnelles (\"DNA damage bypass\")\n",
      "    3. Syndromes et maladies dus à des défauts de réparation de l'ADN\n",
      "  VI. Recombinaison de l’ADN\n",
      "    Introduction\n",
      "    1. Recombinaison générale ou homologue\n",
      "      1.1. Principes généraux et contexte\n",
      "      1.2. Étapes de la recombinaison homologue\n",
      "      1.3. Anomalies de la recombinaison\n",
      "    2. Recombinaison spécifique de site\n",
      "      2.1. Recombinaisons spécifiques de gènes du système immunitaire\n",
      "      2.2. La recombinase appelée Cre est produite normalement par un bactériophage.\n"
     ]
    }
   ],
   "source": [
    "from pdf_extractor import ContentGenerator\n",
    "from pdf_extractor import Course\n",
    "\n",
    "course = Course(\n",
    "    level=\"L1\",\n",
    "    block=\"BLOC_SANTE\",\n",
    "    semester=\"S1\",\n",
    "    subject=\"UE2 - Les molécules du vivant\",\n",
    "    chapter=\"CHAPITRE_4\",\n",
    "    title=\"Réplication et réparation de l’ADN\",\n",
    "    total_slides=144,\n",
    "    year=2024,\n",
    ")\n",
    "\n",
    "course_metadata = {\n",
    "    'level': course.level,\n",
    "    'block': course.block,\n",
    "    'semester': course.semester,\n",
    "    'subject': course.subject,\n",
    "    'chapter': course.chapter,\n",
    "    'title': course.title,\n",
    "    'total_slides': course.total_slides,\n",
    "    'year': course.year\n",
    "}\n",
    "\n",
    "models = [\"gpt-4.1-mini\", \"gpt-4o-mini-2024-07-18\"]\n",
    "content_generator = ContentGenerator(model=models[0])\n",
    "\n",
    "outline = content_generator._phase1_create_outline(\n",
    "    course_plan=course_plan,\n",
    "    course_content=course_content,\n",
    "    course_metadata=course_metadata\n",
    ")\n",
    "\n",
    "print(outline.print_outline())\n"
   ]
  },
  {
   "cell_type": "code",
   "execution_count": 10,
   "id": "30ada3cc",
   "metadata": {},
   "outputs": [
    {
     "name": "stdout",
     "output_type": "stream",
     "text": [
      "[]\n"
     ]
    }
   ],
   "source": [
    "pprint(outline.slide_mappings)"
   ]
  },
  {
   "cell_type": "code",
   "execution_count": 4,
   "id": "a2474c80",
   "metadata": {},
   "outputs": [
    {
     "name": "stdout",
     "output_type": "stream",
     "text": [
      "Course Content:\n",
      "==================================================\n",
      "Chapitre 4 - Réplication et réparation de l’ADN\n",
      "  I. STRUCTURE ET PROPRIÉTÉS DES ACIDES NUCLÉIQUES\n",
      "    L'ADN et l'ARN sont des acides nucléiques essentiels à la vie. Leur\n",
      "    structure est composée de nucléotides, qui sont les unités de base. Chaque\n",
      "    nucléotide se compose d'une base azotée, d'un sucre et d'un groupe\n",
      "    phosphate. Les acides nucléiques peuvent être simples ou doubles brins,\n",
      "    selon le type d'organisme.\n",
      "    L'ADN, en particulier, possède une structure en double hélice, où deux brins\n",
      "    s'enroulent l'un autour de l'autre, stabilisés par des liaisons hydrogène\n",
      "    entre les bases azotées complémentaires. Ces bases se divisent en deux\n",
      "    catégories principales : les purines (adénine et guanine) et les pyrimidines\n",
      "    (cytosine, thymine et uracile pour l'ARN).\n",
      "    Les propriétés physico-chimiques des acides nucléiques, telles que\n",
      "    l'absorption des UV et la stabilité thermique, sont cruciales pour leur rôle\n",
      "    dans le stockage et la transmission de l'information génétique.\n",
      "\n",
      "    1. Les nucléotides\n",
      "      Les nucléotides, éléments de base des acides nucléiques, se forment par la\n",
      "      condensation d'un sucre et d'une base azotée. Par estérification avec un\n",
      "      acide phosphorique, ils se transforment en nucléotides.\n",
      "      Chaque nucléotide est caractérisé par sa base azotée, qui peut être une\n",
      "      purine ou une pyrimidine. Cette diversité confère aux macromolécules des\n",
      "      fonctions variées au sein de la cellule.\n",
      "      Tous les nucléotides jouent également un rôle important en tant que\n",
      "      coenzymes et dans le transport d'énergie au sein des cellules, par exemple\n",
      "      via l'ATP.\n",
      "    1.1. Les bases azotées\n",
      "      Les bases azotées se divisent en pyrimidines et purines. Les pyrimidines\n",
      "      comprennent la cytosine, la thymine et l'uracile, tandis que les purines\n",
      "      incluent l'adénine et la guanine.\n",
      "      Ces bases azotées interagissent pour former des paires spécifiques dans\n",
      "      l'ADN et l'ARN, soit entre thymine et adénine ou entre cytosine et\n",
      "      guanine.\n",
      "      Les bases peuvent subir des modifications chimiques qui influencent\n",
      "      l'expression des gènes, ce qui est fondamental pour les processus\n",
      "      cellulaires.\n",
      "    1.2. Les nucléosides\n",
      "      Les nucléosides se forment par la liaison d'une base azotée à un sucre,\n",
      "      sans la présence d'un groupe phosphate.\n",
      "      Cette structure de base est essentielle car elle constitue la précurseur\n",
      "      des nucléotides qui, par ajout d'un phosphate, formeront les éléments de\n",
      "      l'ADN et de l'ARN.\n",
      "      Dans les acides nucléiques, le type de pentose (ribose ou désoxyribose)\n",
      "      influence la structure et la fonction des acides nucléiques.\n",
      "  II. RÉPLICATION DE L’ADN\n",
      "    La réplication de l'ADN est une étape cruciale du cycle cellulaire,\n",
      "    permettant la duplication fidèle de l'information génétique avant la\n",
      "    division cellulaire. Ce processus est semi-conservatif, chaque brin d'ADN\n",
      "    servant de matrice pour former un nouveau brin.\n",
      "    Les ADN polymérases jouent un rôle central dans la synthèse des nouveaux\n",
      "    brins et nécessitent un amorce pour initier la synthèse, se propageant dans\n",
      "    le sens 5' vers 3'. Cela implique également des protéines auxiliaires telles\n",
      "    que les helicases et les ligases pour assurer la progression et l'intégrité\n",
      "    de la fourche de réplication.\n",
      "    Des mécanismes de correction des erreurs sont également en place pour\n",
      "    garantir la fidélité de la réplication, évitant ainsi l'accumulation de\n",
      "    mutations.\n",
      "\n",
      "    1. Introduction\n",
      "      Le cycle cellulaire comprend des phases de croissance et de division, avec\n",
      "      une phase S dédiée à la réplication de l'ADN. Cette phase est cruciale\n",
      "      pour la préparation de la cellule à mitose.\n",
      "      La réplication commence à des points spécifiques appelés origines de\n",
      "      réplication, et progresse dans deux directions, aboutissant à la formation\n",
      "      de bulles de réplication.\n",
      "      Chaque chromosome doit être répliqué fidèlement pour assurer la\n",
      "      distribution correcte de l'information génétique aux cellules filles.\n",
      "    2. Principe de la réplication\n",
      "      La réplication de l’ADN repose sur deux modes : conservatif et semi-\n",
      "      conservatif. Le modèle semi-conservatif a été démontré par l'expérience de\n",
      "      Meselson et Stahl.\n",
      "      Chaque brin parental de l'ADN sert de matrice pour la synthèse d'un\n",
      "      nouveau brin, garantissant ainsi que chaque cellule fille reçoit une copie\n",
      "      exacte de l'ADN d'origine.\n",
      "      Les unités de réplication (replicons) varient entre les organismes, avec\n",
      "      des implications significatives sur la dynamique de la réplication.\n",
      "    3. La réaction de polymérisation de l’ADN\n",
      "      La réaction de polymérisation de l’ADN se produit par une série de\n",
      "      réactions enzymatiques, où les nucléotides sont ajoutés à la chaîne\n",
      "      naissante.\n",
      "      Cette polymérisation exige de l'énergie, libérée par la rupture des\n",
      "      liaisons phosphoanhydrides des désoxyribonucléosides triphosphates (dNTP).\n",
      "      Les ADN polymérases, en reconnaissant les bases azotées sur le brin\n",
      "      matriciel, assurent l'appariement correct et l'ajout de nouveaux\n",
      "      nucléotides.\n",
      "    4. Les ADN polymérases\n",
      "      Les ADN polymérases sont des enzymes essentielles à la réplication de\n",
      "      l'ADN et se caractérisent par leur capacité à synthétiser de nouveaux\n",
      "      brins.\n",
      "      Il existe plusieurs types d'ADN polymérases, chacune ayant des rôles\n",
      "      spécifiques, comme la réparation ou l'élongation d'ADN pendant la\n",
      "      réplication.\n",
      "      Ces enzymes intègrent également des mécanismes de correction, permettant\n",
      "      de réduire considérablement le taux d'erreurs durant la synthèse.\n",
      "    5. Protéines impliquées dans la réplication\n",
      "      La fourche de réplication nécessite plusieurs protéines pour maintenir son\n",
      "      intégrité et sa fonctionnalité durant la synthèse de l'ADN.\n",
      "      Les hélicases déroulent les brins d'ADN, tandis que les protéines SSB\n",
      "      stabilisent les brins simples pour prévenir leur réassociation.\n",
      "      Les topoisomérases régulent le sur-enroulement de l'ADN, permettant une\n",
      "      progression fluide de la réplication.\n",
      "  III. RÉPARATION DE L’ADN\n",
      "    La réparation de l'ADN est cruciale pour maintenir l'intégrité génomique, en\n",
      "    corrigeant les erreurs et en globalement prévenant les mutations.\n",
      "    Les mécanismes de réparation incluent des systèmes sophistiqués tels que la\n",
      "    réparation par excision et la recombinaison homologue, qui rétablissent la\n",
      "    séquence originelle de l'ADN.\n",
      "    Ces mécanismes sont essentiels pour éviter les maladies génétiques et sont\n",
      "    également ciblés par certaines thérapies anticancéreuses.\n",
      "\n",
      "    1. Anomalies de l'ADN\n",
      "      Les anomalies de l'ADN peuvent découler d'expositions à des agents\n",
      "      mutagènes, de stress oxydatif, ou d'erreurs de réplication.\n",
      "      Les lésions les plus courantes incluent les dimères de thymine, la\n",
      "      désamination et les aduits, pouvant entraîner des mutations si elles ne\n",
      "      sont pas réparées.\n",
      "      Ces lésions nécessitent une réponse rapide de la cellule pour restaurer\n",
      "      l'intégrité du génome et pour éviter des conséquences potentiellement\n",
      "      létales.\n",
      "    2. Mécanismes de correction\n",
      "      Les cellules disposent de différents mécanismes de correction pour réparer\n",
      "      l'ADN endommagé, y compris la réparation par excision de bases (BER) et de\n",
      "      nucléotides (NER).\n",
      "      En cas d'anomalies détectées, des enzymes spécifiques éliminent la partie\n",
      "      endommagée et réparent le site par synthèse de novo avec l'ADN polymérase.\n",
      "      Ces réparations sont indispensables pour éviter l'accumulation de preuves\n",
      "      de mutations délétères qui alimenteraient le cancer et d'autres\n",
      "      pathologies.\n",
      "    3. Syndromes et maladies\n",
      "      Certaines maladies génétiques proviennent de mutations dans les gènes\n",
      "      responsables des systèmes de réparation de l'ADN, augmentant le risque de\n",
      "      cancers.\n",
      "      Les syndromes comme le syndrome de Lynch, Xeroderma pigmentosum et Ataxie\n",
      "      télangiectasie illustrent les conséquences graves des défauts de\n",
      "      réparation.\n",
      "      Ces syndromes sont associés à un risque accru de diverses formes de\n",
      "      cancer, soulignant l'importance des mécanismes de réparation.\n"
     ]
    }
   ],
   "source": [
    "course_content = content_generator._phase2_fill_content(\n",
    "    outline=outline,\n",
    "    course_content=course_content,\n",
    "    course_metadata=course_metadata\n",
    ")\n",
    "\n",
    "print(course_content.print_content())"
   ]
  },
  {
   "cell_type": "code",
   "execution_count": 9,
   "id": "d2d09e0d",
   "metadata": {},
   "outputs": [
    {
     "name": "stdout",
     "output_type": "stream",
     "text": [
      "Content(sections=[ContentSection(title='Chapitre 4 - Réplication et réparation de l’ADN', content=[\"Ce chapitre traite des processus fondamentaux touchant aux acides nucléiques, notamment la réplication et la réparation de l'ADN, essentiels pour le maintien de l'intégrité et de la transmission de l'information génétique.\", \"Nous commençons par examiner la structure et les propriétés des acides nucléiques, les molécules porteuses de l'information génétique dans les cellules, avant de nous intéresser aux mécanismes moléculaires régissant la réplication de l'ADN.\", \"Les mécanismes de réparation de l'ADN sont cruciaux pour corriger les lésions naturelles ou induites, évitant ainsi les mutations et les maladies comme le cancer.\", \"Enfin, la recombinaison de l'ADN, qui permet le brassage génétique et participe aussi à la réparation, est développée avec ses implications pathologiques et scientifiques.\", 'Les connaissances acquises sur ces processus sont fondamentales pour comprendre la biologie cellulaire, la génétique et les pathologies associées.'], subsections=[ContentSection(title='I. STRUCTURE ET PROPRIÉTÉS DES ACIDES NUCLÉIQUES', content=[\"Les acides nucléiques, ADN et ARN, sont des polymères constitués de nucléotides, eux-mêmes composés d'une base azotée, d'un pentose et d'un groupe phosphate.\", \"L'organisation tridimensionnelle de l'ADN, notamment sa fameuse double hélice, permet la complémentarité et la stabilité de l'information génétique.\", \"Les bases azotées appartiennent à deux familles principales : les purines (adénine, guanine) et les pyrimidines (cytosine, thymine pour l'ADN, uracile pour l'ARN).\", 'Des bases modifiées et des dérivés biologiquement et médicalement importants, comme la méthylcytosine et certains alcaloïdes, jouent des rôles spécifiques.', \"Les acides nucléiques présentent des propriétés physico-chimiques spécifiques, telles que la solubilité en milieu aqueux, la dénaturation thermique et le spectre d'absorption à 260 nm, exploitée pour leur étude en laboratoire.\"], subsections=[ContentSection(title='1. Les nucléotides', content=[\"Les nucléotides sont formés par condensation d'un pentose (ribose ou désoxyribose) avec une base azotée, puis estérifiés par un groupe phosphate.\", \"Cette structure de nucléotide est la base constitutive des acides nucléiques supportant l'information génétique.\", 'Les bases azotées se divisent en pyrimidiques (cytosine, thymine, uracile) et puriques (adénine, guanine), chacune avec des propriétés chimiques distinctes.', \"Des bases modifiées, telles que la 5-méthylcytosine dans l'ADN des plantes et animaux, ou des bases inhabituelles dans les ARN spécialisés, sont également rencontrées.\", 'Des composés chimiquement modifiés, analogues ou dérivés des bases azotées, ont des applications en marquage expérimental et en thérapies, comme des antiviraux ou antitumoraux.'], subsections=[ContentSection(title='1.1. Les bases azotées', content=[\"Les bases pyrimidiques comprennent la cytosine, la thymine (spécifique à l'ADN), et l'uracile (spécifique à l'ARN). Elles ont été identifiées grâce à leurs propriétés chimiques et biologiques distinctes.\", \"Les bases puriques comprennent l'adénine et la guanine, nommées d'après leurs sources d'isolement initiales et propriétés organiques.\", \"Ces bases présentent des phénomènes de tautomérie, l'existence de formes cétone/énol ou amine imine, influençant leur appariement dans l'ADN.\", \"Les bases absorbent spécifiquement dans l'ultraviolet à 260 nm, ce qui permet leur détection et dosage en laboratoire.\", \"La cytosine peut subir une désamination spontanée donnant de l'uracile, ce qui constitue un dommage potentiel corrigé par des mécanismes cellulaires de réparation.\"], subsections=[]), ContentSection(title='1.1.3. Les bases modifiées dans l’ADN et l’ARN', content=['Des modifications chimiques des bases azotées sont courantes, telles que la méthylation de la cytosine en 5-méthylcytosine, importante dans la régulation génétique.', 'Chez certaines bactéries, la méthylation de bases sert à différencier l’ADN propre de celui des agents étrangers, protégé par des enzymes de restriction.', \"Les ARN, notamment les ARN de transfert, contiennent souvent des bases modifiées, comme l'hypoxanthine ou la xanthine, qui contribuent à leur fonction.\", 'Ces modifications sont essentielles à la stabilité, au repliement et aux interactions des acides nucléiques dans la cellule.', \"La diversité des bases modifiées illustre la complexité et la spécialisation des acides nucléiques au-delà de leur simple rôle de support d'information.\"], subsections=[]), ContentSection(title='1.1.4. Autres dérivés : molécules d’intérêt biologique et médical', content=['Certaines bases dérivées, comme la caféine et la théophylline, sont consommées couramment et possèdent des propriétés pharmacologiques reconnues.', 'La théobromine, dérivée du cacao, agit comme antioxydant et a des effets sur le système cardiovasculaire et respiratoire.', 'Ces composés, bien que liés chimiquement aux bases azotées, interviennent dans la modulation de fonctions physiologiques.', 'Ils illustrent la diversité des molécules issues des bases azotées qui ont des usages médicaux et nutritionnels.', 'Ainsi, la biochimie des bases azotées dépasse leur simple rôle structurel pour inclure des fonctions biologiques larges et variées.'], subsections=[]), ContentSection(title='1.1.5. Propriétés des bases azotées', content=['Les bases azotées sont stabilisées par une structure cyclique plane favorisant la conjugaison des doubles liaisons.', \"Elles existent sous différentes formes tautomères entre cétone/énol ou amine/imine, qui influencent l'appariement des bases et la stabilité de l’ADN.\", 'La tautomérie est un équilibre dynamique impliquant des déplacements de protons, affectant la reconnaissance spécifique lors de la réplication.', 'Ces propriétés chimiques expliquent en partie les spécificités des appariements dans la double hélice d’ADN.', 'La compréhension de ces propriétés est essentielle pour justifier les mécanismes de réplication et les erreurs éventuelles.'], subsections=[]), ContentSection(title='1.1.6. Transformation chimique des bases', content=['Des transformations chimiques peuvent altérer les bases azotées, comme la désamination spontanée des pyrimidines, modifiant leur appariement.', 'Les rayonnements UV induisent la formation de dimères de pyrimidines, notamment des pontages covalents entre thymine adjacentes, endommageant l’ADN.', 'Des agents chimiques, tels que l’acide nitreux, peuvent provoquer des désaminations oxydatives, engendrant des mutations si non réparées.', 'Ces lésions peuvent entraver la réplication et transcription, nécessitant des mécanismes cellulaires de réparation spécialisés.', 'La connaissance de ces altérations chimiques est centrale pour comprendre le développement des lésions génétiques et pathologies associées.'], subsections=[])]), ContentSection(title='1.2. Les nucléosides', content=['Les nucléosides résultent de la liaison covalente (liaison N-osidique) entre un pentose et une base azotée.', \"Dans l'ARN, le pentose est le ribose, dans l'ADN c'est le 2'-désoxyribose, forme réduite du ribose par absence d'OH en position 2'.\", \"La liaison N-osidique unit le carbone anomérique (C1') du sucre à l’azote N1 des pyrimidines ou N9 des purines.\", \"La numérotation des atomes du pentose utilise un système spécifique avec primes (ex : 1', 2'), pour différencier de la base.\", 'Il existe des nucléosides inhabituels impliqués dans la biologie spéciale de certains organismes ou dans la chimiothérapie.'], subsections=[ContentSection(title='1.2.1. Le pentose', content=['Le pentose est le sucre cyclique en conformation furanose, sous forme hémiacétalique.', \"Dans l'ADN, le pentose est le désoxyribose, caractérisé par l’absence du groupe hydroxyle sur le carbone 2'.\", 'La conformation hémiacétalique et la configuration stéréochimique sont importantes pour la reconnaissance enzymatique.', 'Les nucléosides peuvent impliquer des sucres autres que le ribose et le désoxyribose dans certains micro-organismes.', 'Le pentose détermine en grande partie les propriétés physico-chimiques du nucléoside et sa réactivité.'], subsections=[]), ContentSection(title='1.2.2. La liaison osidique', content=['La liaison N-osidique est une liaison covalente entre le carbone anomérique du pentose et la base azotée.', 'Elle confère une certaine stabilité à la molécule, mais peut être sujette à hydrolyse dans des conditions acides.', 'Cette liaison est essentielle pour retenir la base dans la structure du nucléoside et former ultérieurement les nucléotides.', 'Elle définit la distinction entre nucléosides (sans phosphate) et nucléotides (avec phosphate).', 'Des modifications sur cette liaison ou sur le pentose ont des implications pharmacologiques importantes.'], subsections=[]), ContentSection(title='1.2.3. Nomenclature', content=['Les nucléosides des bases pyrimidiques se terminent par le suffixe « -idine » et ceux des bases puriques par « -osine ».', \"Par exemple, la cytosine donne la cytidine, l'adénine donne l'adénosine.\", 'Des désoxynucléosides spécifiques portent également des noms précis avec indication du sucre désoxyribose.', 'Ce système de nomenclature facilite la classification et la communication scientifique.', 'La nomenclature abrégée utilise les lettres initiales des bases : A, G, C, T, U ou I pour inosine.'], subsections=[])]), ContentSection(title='1.3. Les nucléotides', content=[\"Les nucléotides sont formés par l'estérification d'un nucléoside avec un ou plusieurs groupes phosphate, généralement en position 5'.\", \"Ils sont les unités monomériques des acides nucléiques et jouent aussi des rôles cellulaires multiples (ATP comme source d'énergie, coenzymes, messagers).\", \"Les liaisons phosphate sont des liaisons ester et anhydride riches en énergie, essentielles lors de la synthèse des brins d'ADN.\", 'Les différentes formes de nucléotides en fonction du nombre de phosphates (mono-, di-, triphosphates) ont des fonctions spécifiques.', \"Les désoxynucléotides triphosphates sont les substrats utilisés par les ADN polymérases lors de la synthèse d'ADN.\"], subsections=[])])])], slide_mappings=[SlideMapping(slide_number=1, section_path=['Chapitre 4 - Réplication et réparation de l’ADN']), SlideMapping(slide_number=2, section_path=['Chapitre 4 - Réplication et réparation de l’ADN']), SlideMapping(slide_number=3, section_path=['I. STRUCTURE ET PROPRIÉTÉS DES ACIDES NUCLÉIQUES']), SlideMapping(slide_number=6, section_path=['I. STRUCTURE ET PROPRIÉTÉS DES ACIDES NUCLÉIQUES']), SlideMapping(slide_number=7, section_path=['I. STRUCTURE ET PROPRIÉTÉS DES ACIDES NUCLÉIQUES', '1. Les nucléotides']), SlideMapping(slide_number=8, section_path=['I. STRUCTURE ET PROPRIÉTÉS DES ACIDES NUCLÉIQUES', '1. Les nucléotides', '1.1. Les bases azotées']), SlideMapping(slide_number=9, section_path=['I. STRUCTURE ET PROPRIÉTÉS DES ACIDES NUCLÉIQUES', '1. Les nucléotides', '1.1. Les bases azotées']), SlideMapping(slide_number=10, section_path=['I. STRUCTURE ET PROPRIÉTÉS DES ACIDES NUCLÉIQUES', '1. Les nucléotides', '1.1. Les bases azotées']), SlideMapping(slide_number=11, section_path=['I. STRUCTURE ET PROPRIÉTÉS DES ACIDES NUCLÉIQUES', '1. Les nucléotides', '1.1. Les bases azotées', '1.1.3. Les bases modifiées dans l’ADN et l’ARN']), SlideMapping(slide_number=12, section_path=['I. STRUCTURE ET PROPRIÉTÉS DES ACIDES NUCLÉIQUES', '1. Les nucléotides', '1.1. Les bases azotées', '1.1.4. Autres dérivés : molécules d’intérêt biologique et médical']), SlideMapping(slide_number=13, section_path=['I. STRUCTURE ET PROPRIÉTÉS DES ACIDES NUCLÉIQUES', '1. Les nucléotides', '1.1. Les bases azotées', '1.1.4. Autres dérivés : molécules d’intérêt biologique et médical']), SlideMapping(slide_number=14, section_path=['I. STRUCTURE ET PROPRIÉTÉS DES ACIDES NUCLÉIQUES', '1. Les nucléotides', '1.1. Les bases azotées', '1.1.5. Propriétés des bases azotées']), SlideMapping(slide_number=15, section_path=['I. STRUCTURE ET PROPRIÉTÉS DES ACIDES NUCLÉIQUES', '1. Les nucléotides', '1.1. Les bases azotées', '1.1.5. Propriétés des bases azotées']), SlideMapping(slide_number=16, section_path=['I. STRUCTURE ET PROPRIÉTÉS DES ACIDES NUCLÉIQUES', '1. Les nucléotides', '1.1. Les bases azotées', '1.1.6. Transformation chimique des bases']), SlideMapping(slide_number=17, section_path=['I. STRUCTURE ET PROPRIÉTÉS DES ACIDES NUCLÉIQUES', '1. Les nucléotides', '1.1. Les bases azotées', '1.1.6. Transformation chimique des bases']), SlideMapping(slide_number=18, section_path=['I. STRUCTURE ET PROPRIÉTÉS DES ACIDES NUCLÉIQUES', '1. Les nucléotides', '1.2. Les nucléosides']), SlideMapping(slide_number=19, section_path=['I. STRUCTURE ET PROPRIÉTÉS DES ACIDES NUCLÉIQUES', '1. Les nucléotides', '1.2. Les nucléosides']), SlideMapping(slide_number=20, section_path=['I. STRUCTURE ET PROPRIÉTÉS DES ACIDES NUCLÉIQUES', '1. Les nucléotides', '1.2. Les nucléosides']), SlideMapping(slide_number=21, section_path=['I. STRUCTURE ET PROPRIÉTÉS DES ACIDES NUCLÉIQUES', '1. Les nucléotides', '1.2. Les nucléosides']), SlideMapping(slide_number=22, section_path=['I. STRUCTURE ET PROPRIÉTÉS DES ACIDES NUCLÉIQUES', '1. Les nucléotides', '1.3. Les nucléotides']), SlideMapping(slide_number=23, section_path=['I. STRUCTURE ET PROPRIÉTÉS DES ACIDES NUCLÉIQUES', '1. Les nucléotides', '1.3. Les nucléotides']), SlideMapping(slide_number=24, section_path=['I. STRUCTURE ET PROPRIÉTÉS DES ACIDES NUCLÉIQUES', '1. Les nucléotides', '1.3. Les nucléotides'])])\n"
     ]
    }
   ],
   "source": [
    "pprint(course_content, width=120, sort_dicts=False)"
   ]
  },
  {
   "cell_type": "code",
   "execution_count": 10,
   "id": "4d915b58",
   "metadata": {},
   "outputs": [
    {
     "name": "stdout",
     "output_type": "stream",
     "text": [
      "4072\n"
     ]
    }
   ],
   "source": [
    "encoder = tiktoken.get_encoding(\"cl100k_base\")  # GPT-4 encoding\n",
    "text_course_content = str(course_content)\n",
    "token_count = len(encoder.encode(text_course_content))\n",
    "print(token_count)"
   ]
  },
  {
   "cell_type": "markdown",
   "id": "ab67a553",
   "metadata": {},
   "source": [
    "# Test the full pipeline"
   ]
  },
  {
   "cell_type": "code",
   "execution_count": 11,
   "id": "e68c1dad",
   "metadata": {},
   "outputs": [
    {
     "name": "stdout",
     "output_type": "stream",
     "text": [
      "📄 Processing PDF: ./volume/slides/cours_1.pdf\n"
     ]
    },
    {
     "name": "stderr",
     "output_type": "stream",
     "text": [
      "Cannot set gray non-stroke color because /'P412' is an invalid float value\n",
      "Cannot set gray non-stroke color because /'P414' is an invalid float value\n",
      "Cannot set gray non-stroke color because /'P444' is an invalid float value\n",
      "Cannot set gray non-stroke color because /'P451' is an invalid float value\n",
      "Cannot set gray non-stroke color because /'P455' is an invalid float value\n",
      "Cannot set gray non-stroke color because /'P465' is an invalid float value\n",
      "Cannot set gray non-stroke color because /'P467' is an invalid float value\n",
      "Cannot set gray non-stroke color because /'P482' is an invalid float value\n",
      "Cannot set gray non-stroke color because /'P488' is an invalid float value\n"
     ]
    },
    {
     "name": "stdout",
     "output_type": "stream",
     "text": [
      "✅ PDF processed - Plan extracted, 110 content slides\n",
      "🤖 Generating course content with AI...\n",
      "✅ Content generated - 6 sections created\n",
      "📄 Course exported to: volume/Les_molécules_du_vivant.docx\n",
      "🎉 Course processing complete!\n"
     ]
    }
   ],
   "source": [
    "from pdf_extractor import CoursePipeline\n",
    "\n",
    "pipeline = CoursePipeline()\n",
    "\n",
    "cours_1 = pipeline.process_course_from_path(\n",
    "    pdf_path=\"./volume/slides/cours_1.pdf\",\n",
    "    course_name=\"Les molécules du vivant\",\n",
    "    subject=\"Biologie\",\n",
    "    year=2025,\n",
    "    professor=\"Professeur 1\"\n",
    ")"
   ]
  },
  {
   "cell_type": "code",
   "execution_count": null,
   "id": "edcdb996",
   "metadata": {},
   "outputs": [],
   "source": []
  },
  {
   "cell_type": "code",
   "execution_count": null,
   "id": "dae9626e",
   "metadata": {},
   "outputs": [],
   "source": []
  }
 ],
 "metadata": {
  "kernelspec": {
   "display_name": ".venv",
   "language": "python",
   "name": "python3"
  },
  "language_info": {
   "codemirror_mode": {
    "name": "ipython",
    "version": 3
   },
   "file_extension": ".py",
   "mimetype": "text/x-python",
   "name": "python",
   "nbconvert_exporter": "python",
   "pygments_lexer": "ipython3",
   "version": "3.11.4"
  }
 },
 "nbformat": 4,
 "nbformat_minor": 5
}
