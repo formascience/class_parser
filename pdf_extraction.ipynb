{
 "cells": [
  {
   "cell_type": "code",
   "execution_count": null,
   "id": "685be1a5",
   "metadata": {},
   "outputs": [],
   "source": [
    "from pdf_extractor import CoursePipeline\n",
    "\n",
    "pipeline = CoursePipeline()\n",
    "\n",
    "course = pipeline.process_course_from_path(\n",
    "    pdf_path=\"./volume/slides/cours_1.pdf\",\n",
    "    course_name=\"Les molécules du vivant\",\n",
    "    subject=\"Biologie\",\n",
    "    year=2025,\n",
    "    professor=\"Professeur 1\"\n",
    ")\n",
    "\n"
   ]
  },
  {
   "cell_type": "markdown",
   "id": "17222d25",
   "metadata": {},
   "source": [
    "# Test the pdf processor\n"
   ]
  },
  {
   "cell_type": "code",
   "execution_count": 3,
   "id": "d2a9983f",
   "metadata": {},
   "outputs": [
    {
     "name": "stderr",
     "output_type": "stream",
     "text": [
      "Cannot set gray non-stroke color because /'P412' is an invalid float value\n",
      "Cannot set gray non-stroke color because /'P414' is an invalid float value\n",
      "Cannot set gray non-stroke color because /'P444' is an invalid float value\n",
      "Cannot set gray non-stroke color because /'P451' is an invalid float value\n",
      "Cannot set gray non-stroke color because /'P455' is an invalid float value\n",
      "Cannot set gray non-stroke color because /'P465' is an invalid float value\n",
      "Cannot set gray non-stroke color because /'P467' is an invalid float value\n",
      "Cannot set gray non-stroke color because /'P482' is an invalid float value\n",
      "Cannot set gray non-stroke color because /'P488' is an invalid float value\n"
     ]
    },
    {
     "name": "stdout",
     "output_type": "stream",
     "text": [
      "{'page': 2,\n",
      " 'title': 'Plan du cours',\n",
      " 'tree': [{'text': 'L1SpS: UE 2 Les molécules du vivant',\n",
      "           'children': [{'text': 'Plan du cours',\n",
      "                         'children': [{'text': 'Introduction',\n",
      "                                       'children': [{'text': 'Notions fondamentales', 'children': []}]},\n",
      "                                      {'text': 'Le génome humain',\n",
      "                                       'children': [{'text': 'Projet de séquençage', 'children': []},\n",
      "                                                    {'text': 'Architecture globale',\n",
      "                                                     'children': [{'text': 'Génome mitochondrial', 'children': []},\n",
      "                                                                  {'text': 'Génome nucléaire', 'children': []}]},\n",
      "                                                    {'text': 'Description des principaux éléments constituants',\n",
      "                                                     'children': [{'text': 'Gènes (codants et non-codants), '\n",
      "                                                                           'pseudogènes et éléments répétés',\n",
      "                                                                   'children': []}]}]},\n",
      "                                      {'text': 'Comparaison aux autres génomes', 'children': []},\n",
      "                                      {'text': 'Les types de variations du génome humain et leurs conséquences',\n",
      "                                       'children': []},\n",
      "                                      {'text': 'La variabilité du génome humain', 'children': []},\n",
      "                                      {'text': 'Evolution des génomes: notions essentielles, mécanismes',\n",
      "                                       'children': []}]}]}]}\n"
     ]
    }
   ],
   "source": [
    "from pdf_extractor import PDFProcessor\n",
    "from pprint import pprint\n",
    "\n",
    "pdf_processor = PDFProcessor()\n",
    "\n",
    "course_plan, course_content = pdf_processor.process_pdf(\"./volume/slides/cours_1.pdf\")\n",
    "\n",
    "pprint(course_plan, width=120, sort_dicts=False)"
   ]
  },
  {
   "cell_type": "markdown",
   "id": "4f000627",
   "metadata": {},
   "source": [
    "# Test the content generation"
   ]
  },
  {
   "cell_type": "code",
   "execution_count": null,
   "id": "bc8309de",
   "metadata": {},
   "outputs": [
    {
     "name": "stdout",
     "output_type": "stream",
     "text": [
      "{'page': 2,\n",
      " 'title': 'Plan du cours',\n",
      " 'tree': [{'text': 'L1SpS: UE 2 Les molécules du vivant',\n",
      "           'children': [{'text': 'Plan du cours',\n",
      "                         'children': [{'text': 'Introduction',\n",
      "                                       'children': [{'text': 'Notions fondamentales', 'children': []}]},\n",
      "                                      {'text': 'Le génome humain',\n",
      "                                       'children': [{'text': 'Projet de séquençage', 'children': []},\n",
      "                                                    {'text': 'Architecture globale',\n",
      "                                                     'children': [{'text': 'Génome mitochondrial', 'children': []},\n",
      "                                                                  {'text': 'Génome nucléaire', 'children': []}]},\n",
      "                                                    {'text': 'Description des principaux éléments constituants',\n",
      "                                                     'children': [{'text': 'Gènes (codants et non-codants), '\n",
      "                                                                           'pseudogènes et éléments répétés',\n",
      "                                                                   'children': []}]}]},\n",
      "                                      {'text': 'Comparaison aux autres génomes', 'children': []},\n",
      "                                      {'text': 'Les types de variations du génome humain et leurs conséquences',\n",
      "                                       'children': []},\n",
      "                                      {'text': 'La variabilité du génome humain', 'children': []},\n",
      "                                      {'text': 'Evolution des génomes: notions essentielles, mécanismes',\n",
      "                                       'children': []}]}]}]}\n"
     ]
    }
   ],
   "source": [
    "from pdf_extractor import ContentGenerator\n",
    "\n",
    "content_generator = ContentGenerator()\n",
    "\n",
    "\n"
   ]
  },
  {
   "cell_type": "code",
   "execution_count": 5,
   "id": "f351c075",
   "metadata": {},
   "outputs": [
    {
     "data": {
      "text/plain": [
       "Content(sections=[ContentSection(title='Introduction', content=[], subsections=[ContentSection(title='Notions fondamentales', content=[], subsections=[])]), ContentSection(title='Le génome humain', content=[], subsections=[ContentSection(title='Projet de séquençage', content=[], subsections=[]), ContentSection(title='Architecture globale', content=[], subsections=[ContentSection(title='Génome mitochondrial', content=[], subsections=[]), ContentSection(title='Génome nucléaire', content=[], subsections=[])]), ContentSection(title='Description des principaux éléments constituants', content=[], subsections=[ContentSection(title='Gènes (codants et non-codants), pseudogènes et éléments répétés', content=[], subsections=[])])]), ContentSection(title='Comparaison aux autres génomes', content=[], subsections=[]), ContentSection(title='Les types de variations du génome humain et leurs conséquences', content=[], subsections=[]), ContentSection(title='La variabilité du génome humain', content=[], subsections=[]), ContentSection(title='Evolution des génomes: notions essentielles, mécanismes', content=[], subsections=[])], slide_mappings=[SlideMapping(slide_number=1, section_path=['Introduction']), SlideMapping(slide_number=3, section_path=['Introduction']), SlideMapping(slide_number=4, section_path=['Introduction', 'Notions fondamentales']), SlideMapping(slide_number=5, section_path=['Introduction', 'Notions fondamentales']), SlideMapping(slide_number=6, section_path=['Introduction', 'Notions fondamentales']), SlideMapping(slide_number=7, section_path=['Introduction', 'Notions fondamentales']), SlideMapping(slide_number=8, section_path=['Introduction', 'Notions fondamentales']), SlideMapping(slide_number=9, section_path=['Introduction', 'Notions fondamentales']), SlideMapping(slide_number=10, section_path=['Introduction', 'Notions fondamentales']), SlideMapping(slide_number=11, section_path=['Introduction', 'Notions fondamentales']), SlideMapping(slide_number=12, section_path=['Le génome humain']), SlideMapping(slide_number=13, section_path=['Le génome humain']), SlideMapping(slide_number=14, section_path=['Le génome humain', 'Architecture globale']), SlideMapping(slide_number=15, section_path=['Le génome humain', 'Architecture globale']), SlideMapping(slide_number=16, section_path=['Le génome humain', 'Architecture globale']), SlideMapping(slide_number=17, section_path=['Le génome humain', 'Architecture globale']), SlideMapping(slide_number=18, section_path=['Le génome humain', 'Projet de séquençage']), SlideMapping(slide_number=19, section_path=['Le génome humain', 'Projet de séquençage']), SlideMapping(slide_number=20, section_path=['Le génome humain', 'Projet de séquençage']), SlideMapping(slide_number=21, section_path=['Le génome humain', 'Projet de séquençage']), SlideMapping(slide_number=22, section_path=['Le génome humain', 'Projet de séquençage']), SlideMapping(slide_number=23, section_path=['Le génome humain', 'Projet de séquençage']), SlideMapping(slide_number=24, section_path=['Le génome humain', 'Architecture globale']), SlideMapping(slide_number=25, section_path=['Le génome humain', 'Architecture globale']), SlideMapping(slide_number=26, section_path=['Le génome humain', 'Architecture globale']), SlideMapping(slide_number=27, section_path=['Le génome humain', 'Architecture globale']), SlideMapping(slide_number=28, section_path=['Le génome humain', 'Architecture globale']), SlideMapping(slide_number=29, section_path=['Le génome humain', 'Architecture globale']), SlideMapping(slide_number=30, section_path=['Le génome humain', 'Architecture globale']), SlideMapping(slide_number=31, section_path=['Le génome humain', 'Architecture globale', 'Génome mitochondrial']), SlideMapping(slide_number=32, section_path=['Le génome humain', 'Architecture globale', 'Génome mitochondrial']), SlideMapping(slide_number=33, section_path=['Le génome humain', 'Architecture globale', 'Génome mitochondrial']), SlideMapping(slide_number=34, section_path=['Le génome humain', 'Architecture globale', 'Génome nucléaire']), SlideMapping(slide_number=35, section_path=['Le génome humain', 'Architecture globale', 'Génome nucléaire']), SlideMapping(slide_number=36, section_path=['Le génome humain', 'Description des principaux éléments constituants']), SlideMapping(slide_number=37, section_path=['Le génome humain', 'Description des principaux éléments constituants', 'Gènes (codants et non-codants), pseudogènes et éléments répétés']), SlideMapping(slide_number=38, section_path=['Le génome humain', 'Description des principaux éléments constituants', 'Gènes (codants et non-codants), pseudogènes et éléments répétés']), SlideMapping(slide_number=39, section_path=['Le génome humain', 'Description des principaux éléments constituants', 'Gènes (codants et non-codants), pseudogènes et éléments répétés']), SlideMapping(slide_number=40, section_path=['Le génome humain', 'Description des principaux éléments constituants', 'Gènes (codants et non-codants), pseudogènes et éléments répétés']), SlideMapping(slide_number=41, section_path=['Le génome humain', 'Description des principaux éléments constituants', 'Gènes (codants et non-codants), pseudogènes et éléments répétés']), SlideMapping(slide_number=42, section_path=['Le génome humain', 'Description des principaux éléments constituants', 'Gènes (codants et non-codants), pseudogènes et éléments répétés']), SlideMapping(slide_number=43, section_path=['Le génome humain', 'Description des principaux éléments constituants', 'Gènes (codants et non-codants), pseudogènes et éléments répétés']), SlideMapping(slide_number=44, section_path=['Le génome humain', 'Description des principaux éléments constituants', 'Gènes (codants et non-codants), pseudogènes et éléments répétés']), SlideMapping(slide_number=45, section_path=['Le génome humain', 'Description des principaux éléments constituants', 'Gènes (codants et non-codants), pseudogènes et éléments répétés']), SlideMapping(slide_number=46, section_path=['Le génome humain', 'Description des principaux éléments constituants', 'Gènes (codants et non-codants), pseudogènes et éléments répétés']), SlideMapping(slide_number=47, section_path=['Le génome humain', 'Description des principaux éléments constituants', 'Gènes (codants et non-codants), pseudogènes et éléments répétés']), SlideMapping(slide_number=48, section_path=['Le génome humain', 'Description des principaux éléments constituants', 'Gènes (codants et non-codants), pseudogènes et éléments répétés']), SlideMapping(slide_number=49, section_path=['Le génome humain', 'Description des principaux éléments constituants', 'Gènes (codants et non-codants), pseudogènes et éléments répétés']), SlideMapping(slide_number=50, section_path=['Le génome humain', 'Description des principaux éléments constituants', 'Gènes (codants et non-codants), pseudogènes et éléments répétés']), SlideMapping(slide_number=51, section_path=['Le génome humain', 'Description des principaux éléments constituants', 'Gènes (codants et non-codants), pseudogènes et éléments répétés']), SlideMapping(slide_number=52, section_path=['Le génome humain', 'Description des principaux éléments constituants', 'Gènes (codants et non-codants), pseudogènes et éléments répétés']), SlideMapping(slide_number=53, section_path=['Le génome humain', 'Description des principaux éléments constituants', 'Gènes (codants et non-codants), pseudogènes et éléments répétés']), SlideMapping(slide_number=54, section_path=['Le génome humain', 'Description des principaux éléments constituants', 'Gènes (codants et non-codants), pseudogènes et éléments répétés']), SlideMapping(slide_number=55, section_path=['Le génome humain', 'Description des principaux éléments constituants', 'Gènes (codants et non-codants), pseudogènes et éléments répétés']), SlideMapping(slide_number=56, section_path=['Le génome humain', 'Description des principaux éléments constituants', 'Gènes (codants et non-codants), pseudogènes et éléments répétés']), SlideMapping(slide_number=57, section_path=['Le génome humain', 'Description des principaux éléments constituants', 'Gènes (codants et non-codants), pseudogènes et éléments répétés']), SlideMapping(slide_number=58, section_path=['Le génome humain', 'Description des principaux éléments constituants', 'Gènes (codants et non-codants), pseudogènes et éléments répétés']), SlideMapping(slide_number=59, section_path=['Le génome humain', 'Description des principaux éléments constituants', 'Gènes (codants et non-codants), pseudogènes et éléments répétés']), SlideMapping(slide_number=60, section_path=['Le génome humain', 'Description des principaux éléments constituants', 'Gènes (codants et non-codants), pseudogènes et éléments répétés']), SlideMapping(slide_number=61, section_path=['Le génome humain', 'Description des principaux éléments constituants', 'Gènes (codants et non-codants), pseudogènes et éléments répétés']), SlideMapping(slide_number=62, section_path=['Le génome humain', 'Description des principaux éléments constituants', 'Gènes (codants et non-codants), pseudogènes et éléments répétés']), SlideMapping(slide_number=63, section_path=['Le génome humain', 'Description des principaux éléments constituants', 'Gènes (codants et non-codants), pseudogènes et éléments répétés']), SlideMapping(slide_number=64, section_path=['Le génome humain', 'Description des principaux éléments constituants', 'Gènes (codants et non-codants), pseudogènes et éléments répétés']), SlideMapping(slide_number=65, section_path=['Le génome humain', 'Description des principaux éléments constituants', 'Gènes (codants et non-codants), pseudogènes et éléments répétés']), SlideMapping(slide_number=66, section_path=['Le génome humain', 'Description des principaux éléments constituants', 'Gènes (codants et non-codants), pseudogènes et éléments répétés']), SlideMapping(slide_number=67, section_path=['Comparaison aux autres génomes']), SlideMapping(slide_number=68, section_path=['Comparaison aux autres génomes']), SlideMapping(slide_number=69, section_path=['Comparaison aux autres génomes']), SlideMapping(slide_number=70, section_path=['Comparaison aux autres génomes']), SlideMapping(slide_number=71, section_path=['Comparaison aux autres génomes']), SlideMapping(slide_number=72, section_path=['Comparaison aux autres génomes']), SlideMapping(slide_number=73, section_path=['Comparaison aux autres génomes']), SlideMapping(slide_number=74, section_path=['Les types de variations du génome humain et leurs conséquences']), SlideMapping(slide_number=75, section_path=['Les types de variations du génome humain et leurs conséquences']), SlideMapping(slide_number=76, section_path=['Les types de variations du génome humain et leurs conséquences']), SlideMapping(slide_number=77, section_path=['Les types de variations du génome humain et leurs conséquences']), SlideMapping(slide_number=78, section_path=['Les types de variations du génome humain et leurs conséquences']), SlideMapping(slide_number=79, section_path=['Les types de variations du génome humain et leurs conséquences']), SlideMapping(slide_number=80, section_path=['Les types de variations du génome humain et leurs conséquences']), SlideMapping(slide_number=81, section_path=['Les types de variations du génome humain et leurs conséquences']), SlideMapping(slide_number=82, section_path=['Les types de variations du génome humain et leurs conséquences']), SlideMapping(slide_number=83, section_path=['Les types de variations du génome humain et leurs conséquences']), SlideMapping(slide_number=84, section_path=['Les types de variations du génome humain et leurs conséquences']), SlideMapping(slide_number=85, section_path=['Les types de variations du génome humain et leurs conséquences']), SlideMapping(slide_number=86, section_path=['Les types de variations du génome humain et leurs conséquences']), SlideMapping(slide_number=87, section_path=['Les types de variations du génome humain et leurs conséquences']), SlideMapping(slide_number=88, section_path=['Les types de variations du génome humain et leurs conséquences']), SlideMapping(slide_number=89, section_path=['Les types de variations du génome humain et leurs conséquences']), SlideMapping(slide_number=90, section_path=['Les types de variations du génome humain et leurs conséquences']), SlideMapping(slide_number=91, section_path=['Les types de variations du génome humain et leurs conséquences']), SlideMapping(slide_number=92, section_path=['Les types de variations du génome humain et leurs conséquences']), SlideMapping(slide_number=93, section_path=['Les types de variations du génome humain et leurs conséquences']), SlideMapping(slide_number=94, section_path=['Les types de variations du génome humain et leurs conséquences']), SlideMapping(slide_number=95, section_path=['Les types de variations du génome humain et leurs conséquences']), SlideMapping(slide_number=96, section_path=['Les types de variations du génome humain et leurs conséquences']), SlideMapping(slide_number=97, section_path=['Les types de variations du génome humain et leurs conséquences']), SlideMapping(slide_number=98, section_path=['Les types de variations du génome humain et leurs conséquences']), SlideMapping(slide_number=99, section_path=['Les types de variations du génome humain et leurs conséquences']), SlideMapping(slide_number=100, section_path=['Les types de variations du génome humain et leurs conséquences']), SlideMapping(slide_number=101, section_path=['Les types de variations du génome humain et leurs conséquences']), SlideMapping(slide_number=102, section_path=['Les types de variations du génome humain et leurs conséquences']), SlideMapping(slide_number=103, section_path=['La variabilité du génome humain']), SlideMapping(slide_number=104, section_path=['La variabilité du génome humain']), SlideMapping(slide_number=105, section_path=['Evolution des génomes: notions essentielles, mécanismes']), SlideMapping(slide_number=106, section_path=['Evolution des génomes: notions essentielles, mécanismes']), SlideMapping(slide_number=107, section_path=['Evolution des génomes: notions essentielles, mécanismes']), SlideMapping(slide_number=108, section_path=['Evolution des génomes: notions essentielles, mécanismes']), SlideMapping(slide_number=109, section_path=['Evolution des génomes: notions essentielles, mécanismes']), SlideMapping(slide_number=110, section_path=['Evolution des génomes: notions essentielles, mécanismes']), SlideMapping(slide_number=111, section_path=['Introduction'])])"
      ]
     },
     "execution_count": 5,
     "metadata": {},
     "output_type": "execute_result"
    }
   ],
   "source": [
    "from pdf_extractor import ContentGenerator\n",
    "\n",
    "content_generator = ContentGenerator()\n",
    "\n",
    "generated_plan = content_generator._phase1_create_outline(course_plan, course_content)\n",
    "\n",
    "generated_plan"
   ]
  },
  {
   "cell_type": "code",
   "execution_count": 7,
   "id": "94de61e4",
   "metadata": {},
   "outputs": [
    {
     "name": "stdout",
     "output_type": "stream",
     "text": [
      "Course Outline:\n",
      "==================================================\n",
      "Introduction\n",
      "  Notions fondamentales\n",
      "Le génome humain\n",
      "  Projet de séquençage\n",
      "  Architecture globale\n",
      "    Génome mitochondrial\n",
      "    Génome nucléaire\n",
      "  Description des principaux éléments constituants\n",
      "    Gènes (codants et non-codants), pseudogènes et éléments répétés\n",
      "Comparaison aux autres génomes\n",
      "Les types de variations du génome humain et leurs conséquences\n",
      "La variabilité du génome humain\n",
      "Evolution des génomes: notions essentielles, mécanismes\n"
     ]
    }
   ],
   "source": [
    "print(generated_plan.print_outline())"
   ]
  },
  {
   "cell_type": "code",
   "execution_count": 8,
   "id": "7a3b9217",
   "metadata": {},
   "outputs": [
    {
     "data": {
      "text/plain": [
       "Content(sections=[ContentSection(title='Introduction', content=[\"Ce cours s'inscrit dans le cadre de l'UE 2 « Les molécules du vivant ». Il explore la structure et l'organisation du génome humain, ainsi que les méthodes modernes de biotechnologie pour son étude.\", \"Le thème principal abordé est l'architecture du génome humain, déterminant fondamental pour comprendre les fonctions biologiques complexes et les pathologies humaines.\", \"Sous la supervision du professeur Jean Muller, spécialiste en génétique médicale, ce module met en lumière l'importance de la génomique et des avancées techniques récentes dans la compréhension des maladies et du vivant.\", 'Le génome humain, en tant que référence biologique universelle, englobe plusieurs champs tels que le protéome, le transcriptome, le méthylome et bien sûr le génome lui-même, chacun jouant un rôle dans la compréhension globale des mécanismes vivants.'], subsections=[ContentSection(title='Notions fondamentales', content=[\"L'arbre de la vie illustre la diversité du vivant et ses ramifications depuis le dernier ancêtre commun universel (LUCA). Les concepts fondamentaux incluent l'évolution, le temps, l'adaptation et la sélection naturelle, qui permettent d'expliquer la diversité génétique.\", \"L'arbre des eucaryotes met en avant le recours à des organismes modèles, choisis pour leurs intérêts économiques, techniques ou scientifiques, et leur facilité à être manipulés ou maintenus en laboratoire. Par exemple, sur 35 eucaryotes, 18 sont des métazoaires.\", \"L'homologie est un concept central: il s'agit de caractères ou de séquences appartenant à différentes espèces, hérités d'un ancêtre commun. Cela s'oppose à l'analogie, qui décrit des similitudes résultant d'évolutions séparées (ex: ailes d'oiseaux et d'insectes).\", \"On distingue l'orthologie (gènes orthologues dans deux espèces issues d'une spéciation) et la paralogie (gènes homologues au sein d'une même espèce, nés par duplication puis évolution). La détermination de l'homologie passe par le calcul du pourcentage d'identité et de similarité entre séquences, ces critères dépendant du contexte et de la famille de gènes.\", \"Un pourcentage d'identité faible n'exclut pas une origine homologue; il peut s'agir d'un hasard, d'une convergence évolutive, ou encore d'une complexité réduite. Parfois, deux gènes très ressemblants remplissent des fonctions très différentes et vice versa.\", \"La biologie du gène repose sur le « dogme central », selon lequel l'information génétique circule de l'ADN à l'ARN, puis à la protéine. Ce principe explique comment la séquence du génome conduit à l'expression phénotypique des organismes.\", \"Ainsi, l'étude de la structure et de la variation du génome permet d'approfondir la compréhension des bases moléculaires de la vie et de l'évolution, tout en éclairant les principes de la diversité biologique observée chez les espèces.\"], subsections=[])]), ContentSection(title='Le génome humain', content=[\"Le génome humain se divise en deux grandes entités : le génome nucléaire et le génome mitochondrial, chacun possédant ses spécificités en termes d'organisation, de taille, et de fonction.\", \"Le génome humain a fait l'objet d'un vaste projet de séquençage international, le Projet Génome Humain, débuté en 1990 et achevé en 2003, avec pour ambition de dresser la carte complète de l'ADN humain. Ce travail a permis de délimiter les principaux composants du génome et d'ouvrir la voie à la médecine génomique.\", \"Les récentes évolutions technologiques ont permis l'amélioration des versions du génome humain, avec une résolution toujours plus fine, et l'intégration régulière de nouvelles données, rendant possible des analyses pointues et personnalisées.\", \"Des outils de visualisation, comme les « genome browsers » (ex: UCSC Genome Browser), facilitent l'accès aux séquences, à l'annotation des gènes, et à de nombreuses informations sur la conservation, la fonction et la pathologie humaine associée au génome.\"], subsections=[ContentSection(title='Projet de séquençage', content=[\"Le Projet Génome Humain a représenté un défi scientifique et technique monumental, impliquant une coopération internationale sur plus d'une décennie, avec un budget d’environ 3 milliards de dollars.\", 'Les premières étapes ont concerné la cartographie génétique, basée sur les fréquences de recombinaison (centimorgans), puis la cartographie physique (distances réelles en kilobases ou mégabases).', 'Le séquençage a été initié en 1999 par une vingtaine de centres à travers six pays. Une première version « draft » a été dévoilée en 2000 (environ 90% du génome, de qualité variable) ; la séquence dite finale, couvrant 99% du génome avec une haute qualité, a été publiée en 2003.', \"La gestion des versions successives du génome humain permet une actualisation constante des connaissances, avec des mises à jour majeures telles que hg38 (GRCh38) en 2013 et des versions mineures régulières jusqu'à l’obtention, récemment, de la séquence complète du chromosome Y en 2023.\", \"L'accès et l'exploration du génome via des plateformes spécialisées (UCSC, Ensembl) donnent la possibilité d’effectuer des analyses détaillées, de repérer et d’annoter exons, introns, signaux régulateurs, variations, et autres éléments essentiels à la compréhension de la biologie humaine.\", \"Ainsi, ces efforts de séquençage et d'annotation facilitent l'étude des maladies génétiques, l’identification de nouveaux gènes associés à des pathologies, et ouvrent la perspective d’une médecine personnalisée fondée sur le génome individuel.\", 'L’évolution constante de ces ressources génomiques contribue à perfectionner la précision des diagnostics et le suivi de l’évolution génétique chez l’homme au fil du temps.'], subsections=[]), ContentSection(title='Architecture globale', content=['Le génome humain se compose principalement de deux structures complémentaires : le génome nucléaire et le génome mitochondrial.', 'Le génome nucléaire, contenu dans le noyau cellulaire, comprend chez l’homme 22 paires de chromosomes autosomiques et une paire de chromosomes sexuels (gonosomes : X et Y). Il est organisé de façon diploïde (matériel hérité des deux parents) et totalise environ 3,1 Gb (gigabases) par ensemble haploïde.', 'À côté de cette structure principale, on retrouve le génome mitochondrial, beaucoup plus compact (16,6 kb seulement), présent en de très nombreuses copies dans chaque cellule, et caractérisé par une transmission exclusivement maternelle.', 'L’architecture du génome implique des régions euchromatiques (riches en gènes, transcriptionnellement actives) et hétérochromatiques (compactes, peu ou non actives, souvent constituées d’ADN répété).', 'La nomenclature chromosomique se base sur les conventions de Paris (1971) et distingue les régions, bandes, bras courts (p) et longs (q), facilitant l’analyse cytogénétique.', \"Les explorations du génome permettent d’identifier la structure des gènes avec leurs exons (régions codantes) et introns (régions non codantes), d'observer les sens de transcription et les multiples niveaux de résolution, allant des chromosomes entiers à la séquence nucléotidique.\", 'Globalement, seulement environ 5% du génome humain sont hautement conservés au cours de l’évolution, témoignant de leur importance fonctionnelle. Le reste du génome est soumis à la variation et à l’évolution continue.'], subsections=[ContentSection(title='Génome mitochondrial', content=['Le génome mitochondrial humain est une petite molécule d’ADN circulaire de 16,6 kb, séquencée pour la première fois en 1981. Il est très compact et présente une forte densité génique (37 gènes en tout, dont 13 codent pour des protéines essentielles à la phosphorylation oxydative, et 24 pour des ARN de transfert et ribosomaux).', 'Le code génétique mitochondrial montre des différences par rapport au code génétique standard ; ainsi, certains codons universels y jouent des rôles distincts. Ce code alternatif impacte la traduction des protéines exclusivement mitochondriales.', 'L’origine endosymbiotique du génome mitochondrial (proche d’une alpha-protéobactérie) explique sa ressemblance avec les génomes bactériens et son héritage uniquement maternel.', 'On dénombre plus de 1 000 copies de mitochondries par cellule. Un phénomène appelé hétéroplasmie correspond à la co-existence de plusieurs variants mitochondriaux dans la même cellule ou d’un tissu à l’autre, ce qui a des répercussions sur des maladies liées à l’ADN mitochondrial.', \"La comparaison avec d'autres organismes (ex: Drosophila, Saccharomyces, Arabidopsis) montre, chez l’humain, une taille moyenne et un nombre limité de gènes, reflet à la fois d’une compacité exceptionnelle et de spécificités fonctionnelles.\"], subsections=[]), ContentSection(title='Génome nucléaire', content=['Le génome nucléaire humain montre une taille d’environ 3,1 Gb en version haploïde. La première version séquencée était un brouillon en 2001 ; elle n’a été complète qu’en 2022, intégrant désormais l’ensemble des chromosomes, y compris le très difficile chromosome Y.', 'Le génome nucléaire est constitué d’une grande partie euchromatique (2,9 Gb, riche en gènes et transcriptionnellement active) et d’une minorité hétérochromatique (0,2 Gb, zones densément compactées et principalement transcriptionnellement silencieuses, souvent sources d’éléments répétés).', 'L’euchromatine accueille la quasi-totalité des gènes codants, alors que l’hétérochromatine concentre des séquences répétées et stables.', \"L'étude des chromosomes humains révèle une organisation complexe, influencée par leur nature diploïde : chaque individu possède un ensemble de chromosomes d'origine paternelle et un autre d'origine maternelle, les éventuelles divergences constituant la base de la variabilité génétique.\", 'Dans cette organisation, l’identification des zones fonctionnelles (gènes, régions régulatrices, séquences répétées, etc.) est essentielle pour appréhender la biologie, les pathologies, et les spécificités liées à chaque personne.'], subsections=[])]), ContentSection(title='Description des principaux éléments constituants', content=['Le génome humain est composé de différents éléments structuraux et fonctionnels, dont les gènes codants et non-codants, les pseudogènes et de nombreux éléments répétés, qui participent à la complexité et à la régulation du matériel héréditaire.'], subsections=[ContentSection(title='Gènes (codants et non-codants), pseudogènes et éléments répétés', content=['Un gène est défini comme un segment d’ADN utilisé comme matrice pour transcrire un ARN simple brin, lequel pourra être traduit (ARN messager) ou exercer une fonction structurale ou régulatrice (ARN non-codant). Les gènes codants (~20 000 chez l’homme) représentent environ 1,1% du génome, tandis que ceux non-codants (>40 000) relèvent d’une diversité fonctionnelle importante (ARNt, ARNr, miARN, snARN, lncARN...).', 'Le nombre total de gènes reste sujet à révision et nécessite des validations fonctionnelles constantes, mais tourne autour de 60 000 éléments, tous types confondus.', 'La structure des gènes varie : on retrouve de petits gènes de quelques centaines de bases jusqu’à des géants dépassant le million de bases (ex: dystrophine). Les gènes comportent un nombre variable d’exons et d’introns, leurs tailles et organisations étant très diversifiées.', 'L’organisation des gènes sur le génome peut être dispersée, sans regroupement particulier (gènes indépendants aux fonctions variées, territoires géniques définis, séquences peu similaires) ou au contraire groupée en clusters issus de duplications en tandem (ex: famille des histones, récepteurs olfactifs). Ces clusters peuvent aussi renfermer des pseudogènes.', 'Les gènes non-codants regroupent notamment une grande diversité d’ARNt (~500 gènes, ~300 pseudogènes), d’ARNr (rôles structuraux dans le ribosome), dont certains organisés en clusters, souvent en nombre de copies important.', 'Les pseudogènes sont des copies défectueuses de gènes fonctionnels, avec lesquels ils partagent une forte similarité de séquence. On distingue trois principales catégories : processés (issus de la rétrotransposition, perte d’introns et de régulation), non processés (issus d’une duplication suivie de mutations, gardant structure intron/exon) et unitaires (perte de fonction par accumulation de mutations sans duplication). Plus de 14 000 pseudogènes sont décrits chez l’homme.', 'Si longtemps vus comme des « fossiles » génétiques sans fonction, certains pseudogènes sont transcrits et peuvent jouer des rôles dans la régulation ou l’évolution du génome.', 'Les éléments répétés occupent une large portion du génome (>50%). Ils se répartissent en éléments en tandem (ADN satellite, minisatellites, microsatellites) et éléments dispersés (rétrotransposons comme LINEs, SINEs, LTRs et transposons dits « fossiles »). Les microsatellites sont particulièrement polymorphiques, utilisés pour le génotypage, l’empreinte génétique et la médecine légale.', 'Les rétrotransposons sont majoritaires parmi les éléments mobiles : LINE-1 est le seul encore actif, et de nombreux SINEs (ex: Alu) abondent dans le génome humain. Les transposons classiques, eux, sont éteints dans le génome humain.', 'La majorité de ces éléments sont inactifs mais représentent un mécanisme d’évolution du génome, participant à sa restructuration, à la diversité et aux pathologies associées à des remaniements génomiques.'], subsections=[])])]), ContentSection(title='Comparaison aux autres génomes', content=[\"La comparaison du génome humain à d'autres génomes révèle que la capacité codante d'un organisme n'est pas simplement liée à la taille du génome ou au nombre de chromosomes.\", 'Ainsi, certaines espèces, même avec des génomes bien plus petits, peuvent exprimer un nombre de gènes comparable, ou inversement, il existe des organismes avec des génomes immenses mais relativement peu de gènes.', \"La distribution du nombre de gènes varie selon les domaines du vivant (procaryotes, eucaryotes, archées). Chez les eucaryotes, il n'existe pas de vraie corrélation entre la taille du génome et la complexité ou le nombre de gènes.\", \"Parmi les organismes modèles étudiés, Drosophila (la mouche), Saccharomyces (la levure), Oryza sativa (le riz) et Paris japonica (plante à très grand génome) illustrent cette extrême diversité : Paris japonica possède le plus grand génome connu (~150 Gb), bien supérieur à l'humain (3,1 Gb), mais sans être pour autant plus complexe.\", \"La densité génique diffère également : le génome nucléaire humain a une densité génique faible (~1 gène pour 120 kb) alors que le génome mitochondrial a une organisation très compacte (~1 gène pour 0,45 kb). Les zones répétées prédominent dans le génome nucléaire humain, alors qu'elles sont rares dans les mitochondries.\", \"Enfin, ces comparaisons mettent en lumière la plasticité génomique et les différentes stratégies évolutives selon les espèces pour organiser et réguler l'information génétique.\"], subsections=[]), ContentSection(title='Les types de variations du génome humain et leurs conséquences', content=['Les variations du génome humain sont nombreuses et diverses et leurs conséquences sont multiples sur la santé, la diversité et l’évolution.', \"On distingue les mutations (modifications héritées de l'information génétique), les polymorphismes (variations bénignes présentes à une fréquence élevée), et les variants pathogènes ou délétères (associés à des maladies). Les variations peuvent toucher une base (SNV), quelques bases (indels), ou bien de grands segments (variants structuraux, CNV).\", 'La nomenclature des variations répond à des référentiels précis, permettant de localiser et de décrire chaque changement sur l’ADN, l’ARNm, et la protéine résultante (ex: c.76A>T montre une variation sur l’ARNm). La description protéique suit le code à une lettre (p.Arg22Ser, p.Arg22*…).', 'Les variations multiples sur un même gène (génotypes complexes) doivent être distinguées, car elles peuvent être en cis (même allèle) ou en trans (allèles différents), impactant le phénotype.', \"Un polymorphisme désigne une variation fréquente (≥1%) dans la population ; les exemples incluent les SNPs, chacun variant selon l'origine géographique de la population.\", 'Les variants pathogènes affectent la fonction des protéines, parfois par des substitutions, délétions, insertions ou mutations d’épissage. Certaines maladies génétiques illustrent l’effet de tels variants : par exemple, la rétinopathie pigmentaire ou le syndrome de Bardet-Biedl.', 'On distingue plusieurs types de variations selon le mécanisme : substitutions (transitions/transversions), indels (ajout/retrait de bases), expansions de triplets (à l’origine de pathologies dynamiques comme le syndrome de l’X fragile ou la maladie de Huntington), et variations de structure (délétion, duplication, inversion, translocation, CNV…).', 'Les effet des variations s’observent à tous les niveaux du gène : substitutions silencieuses, faux-sens, non-sens, indels causant un décalage du cadre de lecture, mutation des sites d’épissage impactant la structure de l’ARNm, etc.', 'Les conséquences biologiques sont multiples : perte de fonction, gain fonctionnel, effet dominant négatif, voire aucun effet si la variation est neutre ou compensée.', 'Enfin, ces variations, rares ou fréquentes, sont responsables de la majorité des pathologies humaines d’origine génétique, des maladies rares aux cancers, et constituent la base de la diversité humaine.', 'Le nombre de variations caractérisées ne cesse d’augmenter, grâce au développement de bases de données mondiales (dbSNP, DGV) qui recensent les variations ponctuelles et structurelles.'], subsections=[]), ContentSection(title='La variabilité du génome humain', content=[\"La variabilité du génome humain est immense, résultant d'une multitude de mécanismes moléculaires.\", 'On estime à plus de 1,1 milliard le nombre de variations ponctuelles connues, soit près d’un tiers du génome humain ; les variations structurales seraient encore plus vastes, couvrant près de 80% du génome d’après les grandes bases de données.', 'Cette variabilité se traduit en diversité phénotypique, adaptation, et susceptibilité différente aux maladies. Certaines variations sont rares (très spécifiques à des familles ou populations), d’autres sont communes et participent à l’hérédité de traits et de pathologies.', 'Les variations prennent différentes formes (polymorphismes, CNV, indels, variations d’épissage, mutations de structure…) ; leur influence dépend de leur nature, de leur fréquence, et de leur localisation dans le génome (zones codantes, introniques ou d’épissage, régions régulatrices, etc.).', 'Le suivi et l’identification de la variabilité génomique sont cruciaux pour la recherche biomédicale, la médecine prédictive, et la compréhension des mécanismes fondamentaux de la biologie humaine.'], subsections=[]), ContentSection(title='Evolution des génomes: notions essentielles, mécanismes', content=['L’évolution des génomes est un processus dynamique qui se poursuit au fil du temps, permettant l’ajout, la perte ou la réorganisation du matériel génétique.', 'Les concepts d’adaptation, de sélection et de dérive génétique sont au cœur de ce processus : les variations génomiques peuvent conférer des avantages évolutifs, favorisant l’émergence de nouvelles espèces plus « adaptées » à leur environnement.', 'Les mécanismes moléculaires comprennent les variations ponctuelles (substitutions et indels), les variations structurales, mais également la duplication de gènes, d’exons ou même de l’ensemble du génome (polyploïdie).', 'La duplication d’exons permet la formation de domaines répétés dans les protéines et concerne environ 10% des gènes humains. Le « shuffling » ou brassage d’exons, via recombinaison non-allélique ou par l’action d’éléments mobiles (LINEs), contribue à la diversification des gènes et fonctions protidiques.', 'La duplication de gènes engendre des familles génétiques, potentiellement sources de néofonctions ou de spécialisation fonctionnelle. La duplication complète du génome, bien que rare chez l’humain, est courante chez certains végétaux.', 'En résumé, l’évolution du génome s’effectue par de multiples mécanismes, assurant ainsi la diversité et la capacité d’adaptation des espèces face aux pressions environnementales ou pathologiques.', 'L’étude de ces processus éclaire les origines de la biodiversité, la survenue des pathologies génétiques, et guide la recherche contemporaine sur les thérapies ciblées et la médecine personnalisée.'], subsections=[])], slide_mappings=[SlideMapping(slide_number=1, section_path=['Introduction']), SlideMapping(slide_number=3, section_path=['Introduction']), SlideMapping(slide_number=4, section_path=['Introduction', 'Notions fondamentales']), SlideMapping(slide_number=5, section_path=['Introduction', 'Notions fondamentales']), SlideMapping(slide_number=6, section_path=['Introduction', 'Notions fondamentales']), SlideMapping(slide_number=7, section_path=['Introduction', 'Notions fondamentales']), SlideMapping(slide_number=8, section_path=['Introduction', 'Notions fondamentales']), SlideMapping(slide_number=9, section_path=['Introduction', 'Notions fondamentales']), SlideMapping(slide_number=10, section_path=['Introduction', 'Notions fondamentales']), SlideMapping(slide_number=11, section_path=['Introduction', 'Notions fondamentales']), SlideMapping(slide_number=12, section_path=['Le génome humain']), SlideMapping(slide_number=13, section_path=['Le génome humain']), SlideMapping(slide_number=14, section_path=['Le génome humain', 'Architecture globale']), SlideMapping(slide_number=15, section_path=['Le génome humain', 'Architecture globale']), SlideMapping(slide_number=16, section_path=['Le génome humain', 'Architecture globale']), SlideMapping(slide_number=17, section_path=['Le génome humain', 'Architecture globale']), SlideMapping(slide_number=18, section_path=['Le génome humain', 'Projet de séquençage']), SlideMapping(slide_number=19, section_path=['Le génome humain', 'Projet de séquençage']), SlideMapping(slide_number=20, section_path=['Le génome humain', 'Projet de séquençage']), SlideMapping(slide_number=21, section_path=['Le génome humain', 'Projet de séquençage']), SlideMapping(slide_number=22, section_path=['Le génome humain', 'Projet de séquençage']), SlideMapping(slide_number=23, section_path=['Le génome humain', 'Projet de séquençage']), SlideMapping(slide_number=24, section_path=['Le génome humain', 'Architecture globale']), SlideMapping(slide_number=25, section_path=['Le génome humain', 'Architecture globale']), SlideMapping(slide_number=26, section_path=['Le génome humain', 'Architecture globale']), SlideMapping(slide_number=27, section_path=['Le génome humain', 'Architecture globale']), SlideMapping(slide_number=28, section_path=['Le génome humain', 'Architecture globale']), SlideMapping(slide_number=29, section_path=['Le génome humain', 'Architecture globale']), SlideMapping(slide_number=30, section_path=['Le génome humain', 'Architecture globale']), SlideMapping(slide_number=31, section_path=['Le génome humain', 'Architecture globale', 'Génome mitochondrial']), SlideMapping(slide_number=32, section_path=['Le génome humain', 'Architecture globale', 'Génome mitochondrial']), SlideMapping(slide_number=33, section_path=['Le génome humain', 'Architecture globale', 'Génome mitochondrial']), SlideMapping(slide_number=34, section_path=['Le génome humain', 'Architecture globale', 'Génome nucléaire']), SlideMapping(slide_number=35, section_path=['Le génome humain', 'Architecture globale', 'Génome nucléaire']), SlideMapping(slide_number=36, section_path=['Le génome humain', 'Description des principaux éléments constituants']), SlideMapping(slide_number=37, section_path=['Le génome humain', 'Description des principaux éléments constituants', 'Gènes (codants et non-codants), pseudogènes et éléments répétés']), SlideMapping(slide_number=38, section_path=['Le génome humain', 'Description des principaux éléments constituants', 'Gènes (codants et non-codants), pseudogènes et éléments répétés']), SlideMapping(slide_number=39, section_path=['Le génome humain', 'Description des principaux éléments constituants', 'Gènes (codants et non-codants), pseudogènes et éléments répétés']), SlideMapping(slide_number=40, section_path=['Le génome humain', 'Description des principaux éléments constituants', 'Gènes (codants et non-codants), pseudogènes et éléments répétés']), SlideMapping(slide_number=41, section_path=['Le génome humain', 'Description des principaux éléments constituants', 'Gènes (codants et non-codants), pseudogènes et éléments répétés']), SlideMapping(slide_number=42, section_path=['Le génome humain', 'Description des principaux éléments constituants', 'Gènes (codants et non-codants), pseudogènes et éléments répétés']), SlideMapping(slide_number=43, section_path=['Le génome humain', 'Description des principaux éléments constituants', 'Gènes (codants et non-codants), pseudogènes et éléments répétés']), SlideMapping(slide_number=44, section_path=['Le génome humain', 'Description des principaux éléments constituants', 'Gènes (codants et non-codants), pseudogènes et éléments répétés']), SlideMapping(slide_number=45, section_path=['Le génome humain', 'Description des principaux éléments constituants', 'Gènes (codants et non-codants), pseudogènes et éléments répétés']), SlideMapping(slide_number=46, section_path=['Le génome humain', 'Description des principaux éléments constituants', 'Gènes (codants et non-codants), pseudogènes et éléments répétés']), SlideMapping(slide_number=47, section_path=['Le génome humain', 'Description des principaux éléments constituants', 'Gènes (codants et non-codants), pseudogènes et éléments répétés']), SlideMapping(slide_number=48, section_path=['Le génome humain', 'Description des principaux éléments constituants', 'Gènes (codants et non-codants), pseudogènes et éléments répétés']), SlideMapping(slide_number=49, section_path=['Le génome humain', 'Description des principaux éléments constituants', 'Gènes (codants et non-codants), pseudogènes et éléments répétés']), SlideMapping(slide_number=50, section_path=['Le génome humain', 'Description des principaux éléments constituants', 'Gènes (codants et non-codants), pseudogènes et éléments répétés']), SlideMapping(slide_number=51, section_path=['Le génome humain', 'Description des principaux éléments constituants', 'Gènes (codants et non-codants), pseudogènes et éléments répétés']), SlideMapping(slide_number=52, section_path=['Le génome humain', 'Description des principaux éléments constituants', 'Gènes (codants et non-codants), pseudogènes et éléments répétés']), SlideMapping(slide_number=53, section_path=['Le génome humain', 'Description des principaux éléments constituants', 'Gènes (codants et non-codants), pseudogènes et éléments répétés']), SlideMapping(slide_number=54, section_path=['Le génome humain', 'Description des principaux éléments constituants', 'Gènes (codants et non-codants), pseudogènes et éléments répétés']), SlideMapping(slide_number=55, section_path=['Le génome humain', 'Description des principaux éléments constituants', 'Gènes (codants et non-codants), pseudogènes et éléments répétés']), SlideMapping(slide_number=56, section_path=['Le génome humain', 'Description des principaux éléments constituants', 'Gènes (codants et non-codants), pseudogènes et éléments répétés']), SlideMapping(slide_number=57, section_path=['Le génome humain', 'Description des principaux éléments constituants', 'Gènes (codants et non-codants), pseudogènes et éléments répétés']), SlideMapping(slide_number=58, section_path=['Le génome humain', 'Description des principaux éléments constituants', 'Gènes (codants et non-codants), pseudogènes et éléments répétés']), SlideMapping(slide_number=59, section_path=['Le génome humain', 'Description des principaux éléments constituants', 'Gènes (codants et non-codants), pseudogènes et éléments répétés']), SlideMapping(slide_number=60, section_path=['Le génome humain', 'Description des principaux éléments constituants', 'Gènes (codants et non-codants), pseudogènes et éléments répétés']), SlideMapping(slide_number=61, section_path=['Le génome humain', 'Description des principaux éléments constituants', 'Gènes (codants et non-codants), pseudogènes et éléments répétés']), SlideMapping(slide_number=62, section_path=['Le génome humain', 'Description des principaux éléments constituants', 'Gènes (codants et non-codants), pseudogènes et éléments répétés']), SlideMapping(slide_number=63, section_path=['Le génome humain', 'Description des principaux éléments constituants', 'Gènes (codants et non-codants), pseudogènes et éléments répétés']), SlideMapping(slide_number=64, section_path=['Le génome humain', 'Description des principaux éléments constituants', 'Gènes (codants et non-codants), pseudogènes et éléments répétés']), SlideMapping(slide_number=65, section_path=['Le génome humain', 'Description des principaux éléments constituants', 'Gènes (codants et non-codants), pseudogènes et éléments répétés']), SlideMapping(slide_number=66, section_path=['Le génome humain', 'Description des principaux éléments constituants', 'Gènes (codants et non-codants), pseudogènes et éléments répétés']), SlideMapping(slide_number=67, section_path=['Comparaison aux autres génomes']), SlideMapping(slide_number=68, section_path=['Comparaison aux autres génomes']), SlideMapping(slide_number=69, section_path=['Comparaison aux autres génomes']), SlideMapping(slide_number=70, section_path=['Comparaison aux autres génomes']), SlideMapping(slide_number=71, section_path=['Comparaison aux autres génomes']), SlideMapping(slide_number=72, section_path=['Comparaison aux autres génomes']), SlideMapping(slide_number=73, section_path=['Comparaison aux autres génomes']), SlideMapping(slide_number=74, section_path=['Les types de variations du génome humain et leurs conséquences']), SlideMapping(slide_number=75, section_path=['Les types de variations du génome humain et leurs conséquences']), SlideMapping(slide_number=76, section_path=['Les types de variations du génome humain et leurs conséquences']), SlideMapping(slide_number=77, section_path=['Les types de variations du génome humain et leurs conséquences']), SlideMapping(slide_number=78, section_path=['Les types de variations du génome humain et leurs conséquences']), SlideMapping(slide_number=79, section_path=['Les types de variations du génome humain et leurs conséquences']), SlideMapping(slide_number=80, section_path=['Les types de variations du génome humain et leurs conséquences']), SlideMapping(slide_number=81, section_path=['Les types de variations du génome humain et leurs conséquences']), SlideMapping(slide_number=82, section_path=['Les types de variations du génome humain et leurs conséquences']), SlideMapping(slide_number=83, section_path=['Les types de variations du génome humain et leurs conséquences']), SlideMapping(slide_number=84, section_path=['Les types de variations du génome humain et leurs conséquences']), SlideMapping(slide_number=85, section_path=['Les types de variations du génome humain et leurs conséquences']), SlideMapping(slide_number=86, section_path=['Les types de variations du génome humain et leurs conséquences']), SlideMapping(slide_number=87, section_path=['Les types de variations du génome humain et leurs conséquences']), SlideMapping(slide_number=88, section_path=['Les types de variations du génome humain et leurs conséquences']), SlideMapping(slide_number=89, section_path=['Les types de variations du génome humain et leurs conséquences']), SlideMapping(slide_number=90, section_path=['Les types de variations du génome humain et leurs conséquences']), SlideMapping(slide_number=91, section_path=['Les types de variations du génome humain et leurs conséquences']), SlideMapping(slide_number=92, section_path=['Les types de variations du génome humain et leurs conséquences']), SlideMapping(slide_number=93, section_path=['Les types de variations du génome humain et leurs conséquences']), SlideMapping(slide_number=94, section_path=['Les types de variations du génome humain et leurs conséquences']), SlideMapping(slide_number=95, section_path=['Les types de variations du génome humain et leurs conséquences']), SlideMapping(slide_number=96, section_path=['Les types de variations du génome humain et leurs conséquences']), SlideMapping(slide_number=97, section_path=['Les types de variations du génome humain et leurs conséquences']), SlideMapping(slide_number=98, section_path=['Les types de variations du génome humain et leurs conséquences']), SlideMapping(slide_number=99, section_path=['Les types de variations du génome humain et leurs conséquences']), SlideMapping(slide_number=100, section_path=['Les types de variations du génome humain et leurs conséquences']), SlideMapping(slide_number=101, section_path=['Les types de variations du génome humain et leurs conséquences']), SlideMapping(slide_number=102, section_path=['Les types de variations du génome humain et leurs conséquences']), SlideMapping(slide_number=103, section_path=['La variabilité du génome humain']), SlideMapping(slide_number=104, section_path=['La variabilité du génome humain']), SlideMapping(slide_number=105, section_path=['Evolution des génomes: notions essentielles, mécanismes']), SlideMapping(slide_number=106, section_path=['Evolution des génomes: notions essentielles, mécanismes']), SlideMapping(slide_number=107, section_path=['Evolution des génomes: notions essentielles, mécanismes']), SlideMapping(slide_number=108, section_path=['Evolution des génomes: notions essentielles, mécanismes']), SlideMapping(slide_number=109, section_path=['Evolution des génomes: notions essentielles, mécanismes']), SlideMapping(slide_number=110, section_path=['Evolution des génomes: notions essentielles, mécanismes']), SlideMapping(slide_number=111, section_path=['Introduction'])])"
      ]
     },
     "execution_count": 8,
     "metadata": {},
     "output_type": "execute_result"
    }
   ],
   "source": [
    "from pdf_extractor import ContentGenerator\n",
    "\n",
    "content_generator = ContentGenerator()\n",
    "\n",
    "generated_course = content_generator._phase2_fill_content(generated_plan, course_content)\n",
    "\n",
    "generated_course"
   ]
  },
  {
   "cell_type": "code",
   "execution_count": 10,
   "id": "36f34d9a",
   "metadata": {},
   "outputs": [
    {
     "name": "stdout",
     "output_type": "stream",
     "text": [
      "Course Content:\n",
      "==================================================\n",
      "Introduction\n",
      "  Ce cours s'inscrit dans le cadre de l'UE 2 « Les molécules du vivant ». Il explore la structure et l'organisation du\n",
      "  génome humain, ainsi que les méthodes modernes de biotechnologie pour son étude.\n",
      "  Le thème principal abordé est l'architecture du génome humain, déterminant fondamental pour comprendre les fonctions\n",
      "  biologiques complexes et les pathologies humaines.\n",
      "  Sous la supervision du professeur Jean Muller, spécialiste en génétique médicale, ce module met en lumière\n",
      "  l'importance de la génomique et des avancées techniques récentes dans la compréhension des maladies et du vivant.\n",
      "  Le génome humain, en tant que référence biologique universelle, englobe plusieurs champs tels que le protéome, le\n",
      "  transcriptome, le méthylome et bien sûr le génome lui-même, chacun jouant un rôle dans la compréhension globale des\n",
      "  mécanismes vivants.\n",
      "\n",
      "  Notions fondamentales\n",
      "    L'arbre de la vie illustre la diversité du vivant et ses ramifications depuis le dernier ancêtre commun universel\n",
      "    (LUCA). Les concepts fondamentaux incluent l'évolution, le temps, l'adaptation et la sélection naturelle, qui\n",
      "    permettent d'expliquer la diversité génétique.\n",
      "    L'arbre des eucaryotes met en avant le recours à des organismes modèles, choisis pour leurs intérêts économiques,\n",
      "    techniques ou scientifiques, et leur facilité à être manipulés ou maintenus en laboratoire. Par exemple, sur 35\n",
      "    eucaryotes, 18 sont des métazoaires.\n",
      "    L'homologie est un concept central: il s'agit de caractères ou de séquences appartenant à différentes espèces,\n",
      "    hérités d'un ancêtre commun. Cela s'oppose à l'analogie, qui décrit des similitudes résultant d'évolutions séparées\n",
      "    (ex: ailes d'oiseaux et d'insectes).\n",
      "    On distingue l'orthologie (gènes orthologues dans deux espèces issues d'une spéciation) et la paralogie (gènes\n",
      "    homologues au sein d'une même espèce, nés par duplication puis évolution). La détermination de l'homologie passe par\n",
      "    le calcul du pourcentage d'identité et de similarité entre séquences, ces critères dépendant du contexte et de la\n",
      "    famille de gènes.\n",
      "    Un pourcentage d'identité faible n'exclut pas une origine homologue; il peut s'agir d'un hasard, d'une convergence\n",
      "    évolutive, ou encore d'une complexité réduite. Parfois, deux gènes très ressemblants remplissent des fonctions très\n",
      "    différentes et vice versa.\n",
      "    La biologie du gène repose sur le « dogme central », selon lequel l'information génétique circule de l'ADN à l'ARN,\n",
      "    puis à la protéine. Ce principe explique comment la séquence du génome conduit à l'expression phénotypique des\n",
      "    organismes.\n",
      "    Ainsi, l'étude de la structure et de la variation du génome permet d'approfondir la compréhension des bases\n",
      "    moléculaires de la vie et de l'évolution, tout en éclairant les principes de la diversité biologique observée chez\n",
      "    les espèces.\n",
      "Le génome humain\n",
      "  Le génome humain se divise en deux grandes entités : le génome nucléaire et le génome mitochondrial, chacun possédant\n",
      "  ses spécificités en termes d'organisation, de taille, et de fonction.\n",
      "  Le génome humain a fait l'objet d'un vaste projet de séquençage international, le Projet Génome Humain, débuté en 1990\n",
      "  et achevé en 2003, avec pour ambition de dresser la carte complète de l'ADN humain. Ce travail a permis de délimiter\n",
      "  les principaux composants du génome et d'ouvrir la voie à la médecine génomique.\n",
      "  Les récentes évolutions technologiques ont permis l'amélioration des versions du génome humain, avec une résolution\n",
      "  toujours plus fine, et l'intégration régulière de nouvelles données, rendant possible des analyses pointues et\n",
      "  personnalisées.\n",
      "  Des outils de visualisation, comme les « genome browsers » (ex: UCSC Genome Browser), facilitent l'accès aux\n",
      "  séquences, à l'annotation des gènes, et à de nombreuses informations sur la conservation, la fonction et la pathologie\n",
      "  humaine associée au génome.\n",
      "\n",
      "  Projet de séquençage\n",
      "    Le Projet Génome Humain a représenté un défi scientifique et technique monumental, impliquant une coopération\n",
      "    internationale sur plus d'une décennie, avec un budget d’environ 3 milliards de dollars.\n",
      "    Les premières étapes ont concerné la cartographie génétique, basée sur les fréquences de recombinaison\n",
      "    (centimorgans), puis la cartographie physique (distances réelles en kilobases ou mégabases).\n",
      "    Le séquençage a été initié en 1999 par une vingtaine de centres à travers six pays. Une première version « draft » a\n",
      "    été dévoilée en 2000 (environ 90% du génome, de qualité variable) ; la séquence dite finale, couvrant 99% du génome\n",
      "    avec une haute qualité, a été publiée en 2003.\n",
      "    La gestion des versions successives du génome humain permet une actualisation constante des connaissances, avec des\n",
      "    mises à jour majeures telles que hg38 (GRCh38) en 2013 et des versions mineures régulières jusqu'à l’obtention,\n",
      "    récemment, de la séquence complète du chromosome Y en 2023.\n",
      "    L'accès et l'exploration du génome via des plateformes spécialisées (UCSC, Ensembl) donnent la possibilité\n",
      "    d’effectuer des analyses détaillées, de repérer et d’annoter exons, introns, signaux régulateurs, variations, et\n",
      "    autres éléments essentiels à la compréhension de la biologie humaine.\n",
      "    Ainsi, ces efforts de séquençage et d'annotation facilitent l'étude des maladies génétiques, l’identification de\n",
      "    nouveaux gènes associés à des pathologies, et ouvrent la perspective d’une médecine personnalisée fondée sur le\n",
      "    génome individuel.\n",
      "    L’évolution constante de ces ressources génomiques contribue à perfectionner la précision des diagnostics et le\n",
      "    suivi de l’évolution génétique chez l’homme au fil du temps.\n",
      "  Architecture globale\n",
      "    Le génome humain se compose principalement de deux structures complémentaires : le génome nucléaire et le génome\n",
      "    mitochondrial.\n",
      "    Le génome nucléaire, contenu dans le noyau cellulaire, comprend chez l’homme 22 paires de chromosomes autosomiques\n",
      "    et une paire de chromosomes sexuels (gonosomes : X et Y). Il est organisé de façon diploïde (matériel hérité des\n",
      "    deux parents) et totalise environ 3,1 Gb (gigabases) par ensemble haploïde.\n",
      "    À côté de cette structure principale, on retrouve le génome mitochondrial, beaucoup plus compact (16,6 kb\n",
      "    seulement), présent en de très nombreuses copies dans chaque cellule, et caractérisé par une transmission\n",
      "    exclusivement maternelle.\n",
      "    L’architecture du génome implique des régions euchromatiques (riches en gènes, transcriptionnellement actives) et\n",
      "    hétérochromatiques (compactes, peu ou non actives, souvent constituées d’ADN répété).\n",
      "    La nomenclature chromosomique se base sur les conventions de Paris (1971) et distingue les régions, bandes, bras\n",
      "    courts (p) et longs (q), facilitant l’analyse cytogénétique.\n",
      "    Les explorations du génome permettent d’identifier la structure des gènes avec leurs exons (régions codantes) et\n",
      "    introns (régions non codantes), d'observer les sens de transcription et les multiples niveaux de résolution, allant\n",
      "    des chromosomes entiers à la séquence nucléotidique.\n",
      "    Globalement, seulement environ 5% du génome humain sont hautement conservés au cours de l’évolution, témoignant de\n",
      "    leur importance fonctionnelle. Le reste du génome est soumis à la variation et à l’évolution continue.\n",
      "\n",
      "    Génome mitochondrial\n",
      "      Le génome mitochondrial humain est une petite molécule d’ADN circulaire de 16,6 kb, séquencée pour la première\n",
      "      fois en 1981. Il est très compact et présente une forte densité génique (37 gènes en tout, dont 13 codent pour des\n",
      "      protéines essentielles à la phosphorylation oxydative, et 24 pour des ARN de transfert et ribosomaux).\n",
      "      Le code génétique mitochondrial montre des différences par rapport au code génétique standard ; ainsi, certains\n",
      "      codons universels y jouent des rôles distincts. Ce code alternatif impacte la traduction des protéines\n",
      "      exclusivement mitochondriales.\n",
      "      L’origine endosymbiotique du génome mitochondrial (proche d’une alpha-protéobactérie) explique sa ressemblance\n",
      "      avec les génomes bactériens et son héritage uniquement maternel.\n",
      "      On dénombre plus de 1 000 copies de mitochondries par cellule. Un phénomène appelé hétéroplasmie correspond à la\n",
      "      co-existence de plusieurs variants mitochondriaux dans la même cellule ou d’un tissu à l’autre, ce qui a des\n",
      "      répercussions sur des maladies liées à l’ADN mitochondrial.\n",
      "      La comparaison avec d'autres organismes (ex: Drosophila, Saccharomyces, Arabidopsis) montre, chez l’humain, une\n",
      "      taille moyenne et un nombre limité de gènes, reflet à la fois d’une compacité exceptionnelle et de spécificités\n",
      "      fonctionnelles.\n",
      "    Génome nucléaire\n",
      "      Le génome nucléaire humain montre une taille d’environ 3,1 Gb en version haploïde. La première version séquencée\n",
      "      était un brouillon en 2001 ; elle n’a été complète qu’en 2022, intégrant désormais l’ensemble des chromosomes, y\n",
      "      compris le très difficile chromosome Y.\n",
      "      Le génome nucléaire est constitué d’une grande partie euchromatique (2,9 Gb, riche en gènes et\n",
      "      transcriptionnellement active) et d’une minorité hétérochromatique (0,2 Gb, zones densément compactées et\n",
      "      principalement transcriptionnellement silencieuses, souvent sources d’éléments répétés).\n",
      "      L’euchromatine accueille la quasi-totalité des gènes codants, alors que l’hétérochromatine concentre des séquences\n",
      "      répétées et stables.\n",
      "      L'étude des chromosomes humains révèle une organisation complexe, influencée par leur nature diploïde : chaque\n",
      "      individu possède un ensemble de chromosomes d'origine paternelle et un autre d'origine maternelle, les éventuelles\n",
      "      divergences constituant la base de la variabilité génétique.\n",
      "      Dans cette organisation, l’identification des zones fonctionnelles (gènes, régions régulatrices, séquences\n",
      "      répétées, etc.) est essentielle pour appréhender la biologie, les pathologies, et les spécificités liées à chaque\n",
      "      personne.\n",
      "  Description des principaux éléments constituants\n",
      "    Le génome humain est composé de différents éléments structuraux et fonctionnels, dont les gènes codants et non-\n",
      "    codants, les pseudogènes et de nombreux éléments répétés, qui participent à la complexité et à la régulation du\n",
      "    matériel héréditaire.\n",
      "\n",
      "    Gènes (codants et non-codants), pseudogènes et éléments répétés\n",
      "      Un gène est défini comme un segment d’ADN utilisé comme matrice pour transcrire un ARN simple brin, lequel pourra\n",
      "      être traduit (ARN messager) ou exercer une fonction structurale ou régulatrice (ARN non-codant). Les gènes codants\n",
      "      (~20 000 chez l’homme) représentent environ 1,1% du génome, tandis que ceux non-codants (>40 000) relèvent d’une\n",
      "      diversité fonctionnelle importante (ARNt, ARNr, miARN, snARN, lncARN...).\n",
      "      Le nombre total de gènes reste sujet à révision et nécessite des validations fonctionnelles constantes, mais\n",
      "      tourne autour de 60 000 éléments, tous types confondus.\n",
      "      La structure des gènes varie : on retrouve de petits gènes de quelques centaines de bases jusqu’à des géants\n",
      "      dépassant le million de bases (ex: dystrophine). Les gènes comportent un nombre variable d’exons et d’introns,\n",
      "      leurs tailles et organisations étant très diversifiées.\n",
      "      L’organisation des gènes sur le génome peut être dispersée, sans regroupement particulier (gènes indépendants aux\n",
      "      fonctions variées, territoires géniques définis, séquences peu similaires) ou au contraire groupée en clusters\n",
      "      issus de duplications en tandem (ex: famille des histones, récepteurs olfactifs). Ces clusters peuvent aussi\n",
      "      renfermer des pseudogènes.\n",
      "      Les gènes non-codants regroupent notamment une grande diversité d’ARNt (~500 gènes, ~300 pseudogènes), d’ARNr\n",
      "      (rôles structuraux dans le ribosome), dont certains organisés en clusters, souvent en nombre de copies important.\n",
      "      Les pseudogènes sont des copies défectueuses de gènes fonctionnels, avec lesquels ils partagent une forte\n",
      "      similarité de séquence. On distingue trois principales catégories : processés (issus de la rétrotransposition,\n",
      "      perte d’introns et de régulation), non processés (issus d’une duplication suivie de mutations, gardant structure\n",
      "      intron/exon) et unitaires (perte de fonction par accumulation de mutations sans duplication). Plus de 14 000\n",
      "      pseudogènes sont décrits chez l’homme.\n",
      "      Si longtemps vus comme des « fossiles » génétiques sans fonction, certains pseudogènes sont transcrits et peuvent\n",
      "      jouer des rôles dans la régulation ou l’évolution du génome.\n",
      "      Les éléments répétés occupent une large portion du génome (>50%). Ils se répartissent en éléments en tandem (ADN\n",
      "      satellite, minisatellites, microsatellites) et éléments dispersés (rétrotransposons comme LINEs, SINEs, LTRs et\n",
      "      transposons dits « fossiles »). Les microsatellites sont particulièrement polymorphiques, utilisés pour le\n",
      "      génotypage, l’empreinte génétique et la médecine légale.\n",
      "      Les rétrotransposons sont majoritaires parmi les éléments mobiles : LINE-1 est le seul encore actif, et de\n",
      "      nombreux SINEs (ex: Alu) abondent dans le génome humain. Les transposons classiques, eux, sont éteints dans le\n",
      "      génome humain.\n",
      "      La majorité de ces éléments sont inactifs mais représentent un mécanisme d’évolution du génome, participant à sa\n",
      "      restructuration, à la diversité et aux pathologies associées à des remaniements génomiques.\n",
      "Comparaison aux autres génomes\n",
      "  La comparaison du génome humain à d'autres génomes révèle que la capacité codante d'un organisme n'est pas simplement\n",
      "  liée à la taille du génome ou au nombre de chromosomes.\n",
      "  Ainsi, certaines espèces, même avec des génomes bien plus petits, peuvent exprimer un nombre de gènes comparable, ou\n",
      "  inversement, il existe des organismes avec des génomes immenses mais relativement peu de gènes.\n",
      "  La distribution du nombre de gènes varie selon les domaines du vivant (procaryotes, eucaryotes, archées). Chez les\n",
      "  eucaryotes, il n'existe pas de vraie corrélation entre la taille du génome et la complexité ou le nombre de gènes.\n",
      "  Parmi les organismes modèles étudiés, Drosophila (la mouche), Saccharomyces (la levure), Oryza sativa (le riz) et\n",
      "  Paris japonica (plante à très grand génome) illustrent cette extrême diversité : Paris japonica possède le plus grand\n",
      "  génome connu (~150 Gb), bien supérieur à l'humain (3,1 Gb), mais sans être pour autant plus complexe.\n",
      "  La densité génique diffère également : le génome nucléaire humain a une densité génique faible (~1 gène pour 120 kb)\n",
      "  alors que le génome mitochondrial a une organisation très compacte (~1 gène pour 0,45 kb). Les zones répétées\n",
      "  prédominent dans le génome nucléaire humain, alors qu'elles sont rares dans les mitochondries.\n",
      "  Enfin, ces comparaisons mettent en lumière la plasticité génomique et les différentes stratégies évolutives selon les\n",
      "  espèces pour organiser et réguler l'information génétique.\n",
      "Les types de variations du génome humain et leurs conséquences\n",
      "  Les variations du génome humain sont nombreuses et diverses et leurs conséquences sont multiples sur la santé, la\n",
      "  diversité et l’évolution.\n",
      "  On distingue les mutations (modifications héritées de l'information génétique), les polymorphismes (variations\n",
      "  bénignes présentes à une fréquence élevée), et les variants pathogènes ou délétères (associés à des maladies). Les\n",
      "  variations peuvent toucher une base (SNV), quelques bases (indels), ou bien de grands segments (variants structuraux,\n",
      "  CNV).\n",
      "  La nomenclature des variations répond à des référentiels précis, permettant de localiser et de décrire chaque\n",
      "  changement sur l’ADN, l’ARNm, et la protéine résultante (ex: c.76A>T montre une variation sur l’ARNm). La description\n",
      "  protéique suit le code à une lettre (p.Arg22Ser, p.Arg22*…).\n",
      "  Les variations multiples sur un même gène (génotypes complexes) doivent être distinguées, car elles peuvent être en\n",
      "  cis (même allèle) ou en trans (allèles différents), impactant le phénotype.\n",
      "  Un polymorphisme désigne une variation fréquente (≥1%) dans la population ; les exemples incluent les SNPs, chacun\n",
      "  variant selon l'origine géographique de la population.\n",
      "  Les variants pathogènes affectent la fonction des protéines, parfois par des substitutions, délétions, insertions ou\n",
      "  mutations d’épissage. Certaines maladies génétiques illustrent l’effet de tels variants : par exemple, la rétinopathie\n",
      "  pigmentaire ou le syndrome de Bardet-Biedl.\n",
      "  On distingue plusieurs types de variations selon le mécanisme : substitutions (transitions/transversions), indels\n",
      "  (ajout/retrait de bases), expansions de triplets (à l’origine de pathologies dynamiques comme le syndrome de l’X\n",
      "  fragile ou la maladie de Huntington), et variations de structure (délétion, duplication, inversion, translocation,\n",
      "  CNV…).\n",
      "  Les effet des variations s’observent à tous les niveaux du gène : substitutions silencieuses, faux-sens, non-sens,\n",
      "  indels causant un décalage du cadre de lecture, mutation des sites d’épissage impactant la structure de l’ARNm, etc.\n",
      "  Les conséquences biologiques sont multiples : perte de fonction, gain fonctionnel, effet dominant négatif, voire aucun\n",
      "  effet si la variation est neutre ou compensée.\n",
      "  Enfin, ces variations, rares ou fréquentes, sont responsables de la majorité des pathologies humaines d’origine\n",
      "  génétique, des maladies rares aux cancers, et constituent la base de la diversité humaine.\n",
      "  Le nombre de variations caractérisées ne cesse d’augmenter, grâce au développement de bases de données mondiales\n",
      "  (dbSNP, DGV) qui recensent les variations ponctuelles et structurelles.\n",
      "La variabilité du génome humain\n",
      "  La variabilité du génome humain est immense, résultant d'une multitude de mécanismes moléculaires.\n",
      "  On estime à plus de 1,1 milliard le nombre de variations ponctuelles connues, soit près d’un tiers du génome humain ;\n",
      "  les variations structurales seraient encore plus vastes, couvrant près de 80% du génome d’après les grandes bases de\n",
      "  données.\n",
      "  Cette variabilité se traduit en diversité phénotypique, adaptation, et susceptibilité différente aux maladies.\n",
      "  Certaines variations sont rares (très spécifiques à des familles ou populations), d’autres sont communes et\n",
      "  participent à l’hérédité de traits et de pathologies.\n",
      "  Les variations prennent différentes formes (polymorphismes, CNV, indels, variations d’épissage, mutations de\n",
      "  structure…) ; leur influence dépend de leur nature, de leur fréquence, et de leur localisation dans le génome (zones\n",
      "  codantes, introniques ou d’épissage, régions régulatrices, etc.).\n",
      "  Le suivi et l’identification de la variabilité génomique sont cruciaux pour la recherche biomédicale, la médecine\n",
      "  prédictive, et la compréhension des mécanismes fondamentaux de la biologie humaine.\n",
      "Evolution des génomes: notions essentielles, mécanismes\n",
      "  L’évolution des génomes est un processus dynamique qui se poursuit au fil du temps, permettant l’ajout, la perte ou la\n",
      "  réorganisation du matériel génétique.\n",
      "  Les concepts d’adaptation, de sélection et de dérive génétique sont au cœur de ce processus : les variations\n",
      "  génomiques peuvent conférer des avantages évolutifs, favorisant l’émergence de nouvelles espèces plus « adaptées » à\n",
      "  leur environnement.\n",
      "  Les mécanismes moléculaires comprennent les variations ponctuelles (substitutions et indels), les variations\n",
      "  structurales, mais également la duplication de gènes, d’exons ou même de l’ensemble du génome (polyploïdie).\n",
      "  La duplication d’exons permet la formation de domaines répétés dans les protéines et concerne environ 10% des gènes\n",
      "  humains. Le « shuffling » ou brassage d’exons, via recombinaison non-allélique ou par l’action d’éléments mobiles\n",
      "  (LINEs), contribue à la diversification des gènes et fonctions protidiques.\n",
      "  La duplication de gènes engendre des familles génétiques, potentiellement sources de néofonctions ou de spécialisation\n",
      "  fonctionnelle. La duplication complète du génome, bien que rare chez l’humain, est courante chez certains végétaux.\n",
      "  En résumé, l’évolution du génome s’effectue par de multiples mécanismes, assurant ainsi la diversité et la capacité\n",
      "  d’adaptation des espèces face aux pressions environnementales ou pathologiques.\n",
      "  L’étude de ces processus éclaire les origines de la biodiversité, la survenue des pathologies génétiques, et guide la\n",
      "  recherche contemporaine sur les thérapies ciblées et la médecine personnalisée.\n"
     ]
    }
   ],
   "source": [
    "print(generated_course.print_content(max_chars_per_line=120))"
   ]
  },
  {
   "cell_type": "markdown",
   "id": "ab67a553",
   "metadata": {},
   "source": [
    "# Test the full pipeline"
   ]
  },
  {
   "cell_type": "code",
   "execution_count": 11,
   "id": "e68c1dad",
   "metadata": {},
   "outputs": [
    {
     "name": "stdout",
     "output_type": "stream",
     "text": [
      "📄 Processing PDF: ./volume/slides/cours_1.pdf\n"
     ]
    },
    {
     "name": "stderr",
     "output_type": "stream",
     "text": [
      "Cannot set gray non-stroke color because /'P412' is an invalid float value\n",
      "Cannot set gray non-stroke color because /'P414' is an invalid float value\n",
      "Cannot set gray non-stroke color because /'P444' is an invalid float value\n",
      "Cannot set gray non-stroke color because /'P451' is an invalid float value\n",
      "Cannot set gray non-stroke color because /'P455' is an invalid float value\n",
      "Cannot set gray non-stroke color because /'P465' is an invalid float value\n",
      "Cannot set gray non-stroke color because /'P467' is an invalid float value\n",
      "Cannot set gray non-stroke color because /'P482' is an invalid float value\n",
      "Cannot set gray non-stroke color because /'P488' is an invalid float value\n"
     ]
    },
    {
     "name": "stdout",
     "output_type": "stream",
     "text": [
      "✅ PDF processed - Plan extracted, 110 content slides\n",
      "🤖 Generating course content with AI...\n",
      "✅ Content generated - 6 sections created\n",
      "📄 Course exported to: volume/Les_molécules_du_vivant.docx\n",
      "🎉 Course processing complete!\n"
     ]
    }
   ],
   "source": [
    "from pdf_extractor import CoursePipeline\n",
    "\n",
    "pipeline = CoursePipeline()\n",
    "\n",
    "cours_1 = pipeline.process_course_from_path(\n",
    "    pdf_path=\"./volume/slides/cours_1.pdf\",\n",
    "    course_name=\"Les molécules du vivant\",\n",
    "    subject=\"Biologie\",\n",
    "    year=2025,\n",
    "    professor=\"Professeur 1\"\n",
    ")"
   ]
  },
  {
   "cell_type": "code",
   "execution_count": null,
   "id": "edcdb996",
   "metadata": {},
   "outputs": [],
   "source": []
  }
 ],
 "metadata": {
  "kernelspec": {
   "display_name": ".venv",
   "language": "python",
   "name": "python3"
  },
  "language_info": {
   "codemirror_mode": {
    "name": "ipython",
    "version": 3
   },
   "file_extension": ".py",
   "mimetype": "text/x-python",
   "name": "python",
   "nbconvert_exporter": "python",
   "pygments_lexer": "ipython3",
   "version": "3.11.4"
  }
 },
 "nbformat": 4,
 "nbformat_minor": 5
}
