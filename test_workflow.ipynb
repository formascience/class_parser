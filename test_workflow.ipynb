{
  "cells": [
    {
      "cell_type": "markdown",
      "metadata": {},
      "source": [
        "# Class Parser Workflow Test\n",
        "\n",
        "This notebook reproduces the workflow from poc.ipynb step by step using the new src/ structure.\n",
        "Test each component individually and then run the complete pipeline.\n",
        "\n",
        "## Workflow Overview\n",
        "1. **Data Extraction** - Extract slides and plan from PDF (deterministic)\n",
        "2. **Branch A** - With plan: outline_two_pass → mapping_two_pass → enrich → writer\n",
        "3. **Branch B** - No plan: outline_one_shot → enrich → writer\n",
        "4. **Export** - Generate DOCX document\n"
      ]
    },
    {
      "cell_type": "code",
      "execution_count": 1,
      "metadata": {},
      "outputs": [
        {
          "name": "stdout",
          "output_type": "stream",
          "text": [
            "✅ All imports successful!\n",
            "📁 Working directory: /Users/youssefjanjar/Documents/formascience/class_parser\n",
            "📂 Volume directory exists: True\n",
            "📂 Slides directory exists: True\n",
            "📄 PDF files found: 3\n",
            "  - cours_4_plan.pdf\n",
            "  - cours_1.pdf\n",
            "  - cours_4.pdf\n"
          ]
        }
      ],
      "source": [
        "# Setup and imports\n",
        "import os\n",
        "import json\n",
        "import logging\n",
        "import sys\n",
        "from pathlib import Path\n",
        "\n",
        "# Configure logging for the src package\n",
        "logging.basicConfig(\n",
        "    level=logging.INFO,\n",
        "    format=\"%(asctime)s [%(levelname)s] %(name)s: %(message)s\",\n",
        "    handlers=[logging.StreamHandler(sys.stdout)]\n",
        ")\n",
        "\n",
        "# Set our package to DEBUG level for detailed progress\n",
        "logging.getLogger(\"src\").setLevel(logging.DEBUG)\n",
        "\n",
        "# Load environment variables\n",
        "import dotenv\n",
        "dotenv.load_dotenv()\n",
        "\n",
        "# Import our src modules\n",
        "from src import (\n",
        "    Course, CoursePipeline, Content, ContentSection, \n",
        "    MappingItem, SectionSlideMapping, Slides\n",
        ")\n",
        "from src.data_extraction import SlidesExtractor, PlanExtractor\n",
        "from src.llm import (\n",
        "    OutlineOneShot, OutlineTwoPass, MappingTwoPass, Writer, PromptManager\n",
        ")\n",
        "# Ensure src is importable when running the notebook directly\n",
        "import sys\n",
        "sys.path.append(str(Path('.').resolve()))\n",
        "\n",
        "print(\"✅ All imports successful!\")\n",
        "print(f\"📁 Working directory: {os.getcwd()}\")\n",
        "\n",
        "# Check if volume directory exists\n",
        "volume_path = Path(\"./volume\")\n",
        "slides_path = volume_path / \"slides\"\n",
        "print(f\"📂 Volume directory exists: {volume_path.exists()}\")\n",
        "print(f\"📂 Slides directory exists: {slides_path.exists()}\")\n",
        "\n",
        "if slides_path.exists():\n",
        "    pdf_files = list(slides_path.glob(\"*.pdf\"))\n",
        "    print(f\"📄 PDF files found: {len(pdf_files)}\")\n",
        "    for pdf in pdf_files:\n",
        "        print(f\"  - {pdf.name}\")\n"
      ]
    },
    {
      "cell_type": "code",
      "execution_count": 53,
      "metadata": {},
      "outputs": [
        {
          "name": "stdout",
          "output_type": "stream",
          "text": [
            "The autoreload extension is already loaded. To reload it, use:\n",
            "  %reload_ext autoreload\n",
            "🔁 Imports refreshed\n"
          ]
        }
      ],
      "source": [
        "# Dev hot-reload setup (no kernel restart needed)\n",
        "%load_ext autoreload\n",
        "%autoreload 2\n",
        "\n",
        "import sys, importlib\n",
        "from pathlib import Path\n",
        "# Ensure project root is on sys.path\n",
        "sys.path.insert(0, str(Path('.').resolve()))\n",
        "\n",
        "import src\n",
        "import src.models as models\n",
        "import src.llm as llm\n",
        "import src.data_extraction as data_extraction\n",
        "import src.course as course_mod\n",
        "import src.pipeline as pipeline_mod\n",
        "\n",
        "\n",
        "def refresh_imports():\n",
        "    \"\"\"Reload modules and rebind notebook aliases.\"\"\"\n",
        "    importlib.reload(src)\n",
        "    importlib.reload(models)\n",
        "    importlib.reload(llm)\n",
        "    importlib.reload(data_extraction)\n",
        "    importlib.reload(course_mod)\n",
        "    importlib.reload(pipeline_mod)\n",
        "    \n",
        "    globals().update({\n",
        "        # Models\n",
        "        \"Content\": models.Content,\n",
        "        \"ContentSection\": models.ContentSection,\n",
        "        \"MappingItem\": models.MappingItem,\n",
        "        \"SectionSlideMapping\": models.SectionSlideMapping,\n",
        "        \"Slides\": models.Slides,\n",
        "        \"OutlineAndMapping\": models.OutlineAndMapping,\n",
        "        # LLM\n",
        "        \"OutlineOneShot\": llm.OutlineOneShot,\n",
        "        \"OutlineTwoPass\": llm.OutlineTwoPass,\n",
        "        \"MappingTwoPass\": llm.MappingTwoPass,\n",
        "        \"Writer\": llm.Writer,\n",
        "        \"PromptManager\": llm.PromptManager,\n",
        "        # Deterministic extractors\n",
        "        \"SlidesExtractor\": data_extraction.SlidesExtractor,\n",
        "        \"PlanExtractor\": data_extraction.PlanExtractor,\n",
        "        # Orchestrators\n",
        "        \"Course\": course_mod.Course,\n",
        "        \"CoursePipeline\": pipeline_mod.CoursePipeline,\n",
        "    })\n",
        "    print(\"🔁 Imports refreshed\")\n",
        "\n",
        "# Initial bind\n",
        "refresh_imports()\n"
      ]
    },
    {
      "cell_type": "markdown",
      "metadata": {},
      "source": [
        "## Step 1: Data Extraction - Slides\n",
        "\n",
        "Extract slides from PDF using the exact logic from poc.ipynb\n"
      ]
    },
    {
      "cell_type": "code",
      "execution_count": 5,
      "metadata": {},
      "outputs": [
        {
          "name": "stdout",
          "output_type": "stream",
          "text": [
            "🔍 Extracting slides from: ./volume/slides/cours_1.pdf\n",
            "2025-08-17 16:02:26,950 [DEBUG] src.data_extraction.slides_extractor: Starting slide extraction from ./volume/slides/cours_1.pdf\n",
            "2025-08-17 16:02:27,002 [DEBUG] src.data_extraction.slides_extractor: PDF opened, found 111 pages\n",
            "2025-08-17 16:02:27,744 [WARNING] pdfminer.pdfinterp: Cannot set gray non-stroke color because /'P412' is an invalid float value\n",
            "2025-08-17 16:02:27,746 [WARNING] pdfminer.pdfinterp: Cannot set gray non-stroke color because /'P414' is an invalid float value\n",
            "2025-08-17 16:02:27,761 [WARNING] pdfminer.pdfinterp: Cannot set gray non-stroke color because /'P444' is an invalid float value\n",
            "2025-08-17 16:02:27,822 [WARNING] pdfminer.pdfinterp: Cannot set gray non-stroke color because /'P451' is an invalid float value\n",
            "2025-08-17 16:02:27,823 [WARNING] pdfminer.pdfinterp: Cannot set gray non-stroke color because /'P455' is an invalid float value\n",
            "2025-08-17 16:02:27,838 [WARNING] pdfminer.pdfinterp: Cannot set gray non-stroke color because /'P465' is an invalid float value\n",
            "2025-08-17 16:02:27,839 [WARNING] pdfminer.pdfinterp: Cannot set gray non-stroke color because /'P467' is an invalid float value\n",
            "2025-08-17 16:02:27,861 [WARNING] pdfminer.pdfinterp: Cannot set gray non-stroke color because /'P482' is an invalid float value\n",
            "2025-08-17 16:02:27,868 [WARNING] pdfminer.pdfinterp: Cannot set gray non-stroke color because /'P488' is an invalid float value\n",
            "2025-08-17 16:02:28,018 [DEBUG] src.data_extraction.slides_extractor: Successfully extracted 110 slides\n",
            "✅ Extracted 110 slides\n",
            "\n",
            "📋 First 3 slides:\n",
            "\n",
            "--- Slide 1: SL_001 ---\n",
            "Title: 7.1 Architecture du génome\n",
            "Content (first 200 chars): L1SpS: UE 2 Les molécules du vivant\n",
            "U.E.2 Les molécules du vivant\n",
            "7. Organisation du génome humain, méthodes en\n",
            "biotechnologie\n",
            "7.1 Architecture du génome\n",
            "humain\n",
            "Jean Muller\n",
            "Laboratoire Diagnostic Géné...\n",
            "==================================================\n",
            "\n",
            "--- Slide 2: SL_002 ---\n",
            "Title: Plan du cours\n",
            "Content (first 200 chars): L1SpS: UE 2 Les molécules du vivant\n",
            "Plan du cours\n",
            "• Introduction\n",
            "• Notions fondamentales\n",
            "• Le génome humain\n",
            "• Projet de séquençage\n",
            "• Architecture globale\n",
            "• Génome mitochondrial\n",
            "• Génome nucléaire\n",
            "• De...\n",
            "==================================================\n",
            "\n",
            "--- Slide 3: SL_003 ---\n",
            "Title: Introduction\n",
            "Content (first 200 chars): L1SpS: UE 2 Les molécules du vivant\n",
            "Introduction\n",
            "3...\n",
            "==================================================\n"
          ]
        }
      ],
      "source": [
        "# Test slides extraction\n",
        "pdf_path = \"./volume/slides/cours_1.pdf\"  # Update this path as needed\n",
        "\n",
        "# Initialize extractor\n",
        "slides_extractor = SlidesExtractor(\n",
        "    min_avg_len=10,\n",
        "    max_lines=20,\n",
        "    merge_tol=2.0\n",
        ")\n",
        "\n",
        "print(f\"🔍 Extracting slides from: {pdf_path}\")\n",
        "\n",
        "try:\n",
        "    # Extract slides as Slides objects\n",
        "    slides = slides_extractor.extract_slides(pdf_path)\n",
        "    print(f\"✅ Extracted {len(slides)} slides\")\n",
        "    \n",
        "    # Display first few slides\n",
        "    print(\"\\n📋 First 3 slides:\")\n",
        "    for i, slide in enumerate(slides[:3]):\n",
        "        print(f\"\\n--- Slide {i+1}: {slide.id} ---\")\n",
        "        print(f\"Title: {slide.title}\")\n",
        "        print(f\"Content (first 200 chars): {slide.content[:200]}...\")\n",
        "        print(\"=\" * 50)\n",
        "        \n",
        "except FileNotFoundError:\n",
        "    print(f\"❌ PDF file not found: {pdf_path}\")\n",
        "    print(\"Please ensure the PDF file exists in ./volume/slides/\")\n",
        "    slides = []  # Empty list for testing\n",
        "except Exception as e:\n",
        "    print(f\"❌ Error extracting slides: {e}\")\n",
        "    slides = []\n"
      ]
    },
    {
      "cell_type": "markdown",
      "metadata": {},
      "source": [
        "# Single Shot"
      ]
    },
    {
      "cell_type": "markdown",
      "metadata": {},
      "source": [
        "# Single shot:  Extract the plan for this class "
      ]
    },
    {
      "cell_type": "code",
      "execution_count": 6,
      "metadata": {},
      "outputs": [
        {
          "name": "stdout",
          "output_type": "stream",
          "text": [
            "2025-08-17 16:02:39,149 [DEBUG] src.llm.outline_one_shot: Starting one-shot outline and mapping generation with 20 slides\n",
            "2025-08-17 16:04:34,809 [INFO] httpx: HTTP Request: POST https://api.openai.com/v1/responses \"HTTP/1.1 200 OK\"\n",
            "2025-08-17 16:04:34,867 [DEBUG] src.llm.outline_one_shot: Successfully generated outline with 5 sections and mapping with 13 entries\n",
            "Course Outline:\n",
            "==================================================\n",
            "Présentation du module et plan du cours\n",
            "Introduction au contexte évolutif et organismes modèles\n",
            "  Arbre de la vie et concept de LUCA\n",
            "  Arbre des eucaryotes et choix d'organismes modèles\n",
            "Notions fondamentales et définitions clés\n",
            "  Homologie: définition, orthologie, paralogie et méthodes de détection\n",
            "  Biologie du gène, dogme central et omiques\n",
            "Le génome humain: composition et organisation générale\n",
            "  Composition générale du génome: haploïde et diploïde\n",
            "Détermination et séquençage du génome humain\n",
            "  Historique, objectifs et ciblage de l’assemblage initial\n",
            "  Cartographie génétique basée sur fréquences de recombinaison\n",
            "  Cartographie physique: distances en kilobases et mégabases\n"
          ]
        }
      ],
      "source": [
        "outline_one_shot = OutlineOneShot()\n",
        "\n",
        "outline, mapping = outline_one_shot.build_outline_and_mapping(slides[:20])\n",
        "\n",
        "print(outline.print_outline())"
      ]
    },
    {
      "cell_type": "code",
      "execution_count": 11,
      "metadata": {},
      "outputs": [
        {
          "data": {
            "text/plain": [
              "Content(sections=[ContentSection(id='SEC_1', title='Présentation du module et plan du cours', content=['L1SpS: UE 2 Les molécules du vivant\\nU.E.2 Les molécules du vivant\\n7. Organisation du génome humain, méthodes en\\nbiotechnologie\\n7.1 Architecture du génome\\nhumain\\nJean Muller\\nLaboratoire Diagnostic Génétique (HUS)\\nLaboratoire de Génétique médicale (Inserm U1112)\\njeanmuller@unistra.fr', 'L1SpS: UE 2 Les molécules du vivant\\nPlan du cours\\n• Introduction\\n• Notions fondamentales\\n• Le génome humain\\n• Projet de séquençage\\n• Architecture globale\\n• Génome mitochondrial\\n• Génome nucléaire\\n• Description des principaux éléments constituants\\n• Gènes (codants et non-codants), pseudogènes et éléments répétés\\n• Comparaison aux autres génomes\\n• Les types de variations du génome humain et leurs conséquences\\n• La variabilité du génome humain\\n• Evolution des génomes: notions essentielles, mécanismes\\n2'], subsections=[]), ContentSection(id='SEC_2', title='Introduction au contexte évolutif et organismes modèles', content=['L1SpS: UE 2 Les molécules du vivant\\nIntroduction\\n3'], subsections=[ContentSection(id='SEC_2.1', title='Arbre de la vie et concept de LUCA', content=['L1SpS: UE 2 Les molécules du vivant\\nL’arbre de la vie\\nNotions essentielles:\\n• Evolution\\n• Temps\\n• Adaptation\\n• Sélection\\nLUCA\\nLast Universal Common Ancestor\\n4'], subsections=[]), ContentSection(id='SEC_2.2', title=\"Arbre des eucaryotes et choix d'organismes modèles\", content=['L1SpS: UE 2 Les molécules du vivant\\nArbre des eucaryotes\\nChoix d’organismes modèles\\n• Intérêt(s) économique(s)\\n• Intérêt(s) technique(s)\\n• Facilités hébergement,\\n• Développement embryonnaire/temps\\nde génération\\n• Partage d’éléments communs (ADN)\\n• Hérités/Transmis\\n35 eucaryotes\\n18 métazoaires\\n5'], subsections=[])]), ContentSection(id='SEC_3', title='Notions fondamentales et définitions clés', content=[\"L1SpS: UE 2 Les molécules du vivant\\nA propos de l’homologie\\n• Définition\\n• En biologie, l'homologie désigne un caractère propre à plusieurs\\nespèces hérité d'un ancêtre commun. Les structures en question, qu'elles\\nsoient d'ordre anatomique, moléculaire ou génétique, partagent donc une\\nhistoire évolutive.\\n• ≠ analogie (ex: ailes oiseaux et insectes qui est une évolution séparée)\\n• Orthologie (gènes orthologues): gènes homologues dans 2 espèces ayant\\névolué à partir d’un gène ancestral suite à une spéciation\\n• Paralogie (gènes paralogues): gènes homologues au sein de la même\\nespèce ayant évolué à partir d’un gène ancestral par duplication au cours de\\nl’évolution de cette espèce.\\n6\"], subsections=[ContentSection(id='SEC_3.1', title='Homologie: définition, orthologie, paralogie et méthodes de détection', content=[\"L1SpS: UE 2 Les molécules du vivant\\nA propos de l’homologie\\n• Définition\\n• En biologie, l'homologie désigne un caractère propre à plusieurs\\nespèces hérité d'un ancêtre commun. Les structures en question, qu'elles\\nsoient d'ordre anatomique, moléculaire ou génétique, partagent donc une\\nhistoire évolutive.\\n• ≠ analogie (ex: ailes oiseaux et insectes qui est une évolution séparée)\\n• Orthologie (gènes orthologues): gènes homologues dans 2 espèces ayant\\névolué à partir d’un gène ancestral suite à une spéciation\\n• Paralogie (gènes paralogues): gènes homologues au sein de la même\\nespèce ayant évolué à partir d’un gène ancestral par duplication au cours de\\nl’évolution de cette espèce.\\n6\", \"L1SpS: UE 2 Les molécules du vivant\\nA propos de l’homologie\\n• Définition\\n• En biologie, l'homologie désigne un caractère propre à plusieurs espèces\\nhérité d'un ancêtre commun. Les structures en question, qu'elles soient\\nd'ordre anatomique, moléculaire ou génétique, partagent donc une histoire\\névolutive.\\n• Orthologie (gènes orthologues): gènes homologues dans 2 espèces ayant\\névolué à partir d’un gène ancestral suite à une spéciation\\n• Paralogie (gènes paralogues): gènes homologues au sein de la même\\nespèce ayant évolué à partir d’un gène ancestral par duplication au cours de\\nl’évolution de cette espèce.\\n7\", 'L1SpS: UE 2 Les molécules du vivant\\nA propos de l’homologie\\n• Exemple\\n8', 'L1SpS: UE 2 Les molécules du vivant\\nA propos de l’homologie\\n• Comment déterminer si les gènes sont homologues ou pas?\\n• Les séquences des génomes peuvent être alignées entres elles tout comme\\nles séquences des protéines.\\n• La comparaison de 2 séquences permet d’établir une évaluation de leur\\nproximité ou de leur éloignement par le calcul:\\n• du pourcentage d’identité* entre ces 2 séquences\\n* résidus strictement identique\\n• du pourcentage de similarité* entre ces 2 séquences\\n* résidus identique + proche (critère à déterminer; ex: caractéristiques physicochimiques)\\n• Seuil de significativité >20% (dépendant de la famille de protéines)\\n9', 'L1SpS: UE 2 Les molécules du vivant\\nA propos de l’homologie\\n• Remarques:\\n• Un % similarité/identité non significatif ne veut pas dire que les gènes, ne sont\\npas homologues.\\n• 2 séquences similaires peuvent l’être :\\n• par hasard (région de faible complexité)\\n• par convergence évolutive\\n<15% identité\\nActine humaine MreB bactérienne\\n10'], subsections=[]), ContentSection(id='SEC_3.2', title='Biologie du gène, dogme central et omiques', content=['L1SpS: UE 2 Les molécules du vivant\\nBiologie du gène – dogme central\\n11', 'L1SpS: UE 2 Les molécules du vivant\\nRéférences\\n• Le génome est une des références d’un organisme\\n…\\nméthylome\\nprotéome\\ntranscriptome\\ngénome\\n12'], subsections=[])]), ContentSection(id='SEC_4', title='Le génome humain: composition et organisation générale', content=['L1SpS: UE 2 Les molécules du vivant\\nLe génome humain\\n13'], subsections=[ContentSection(id='SEC_4.1', title='Composition générale du génome: haploïde et diploïde', content=['L1SpS: UE 2 Les molécules du vivant\\nHomo sapiens\\n• Composition du génome humain :\\n• Génome nucléaire\\n• 22 paires chromosomes homologues (autosomes: 1 à 22)\\n• 1 paire chromosomes sexuels (gonosomes: X et Y)\\n• Génome mitochondrial\\n• Molécule circulaire\\nIllustration des chromosomes humains condensés en métaphase du cycle cellulaire (≠organisation des chromosomes dans le noyau hors métaphase)\\n14', 'L1SpS: UE 2 Les molécules du vivant\\nComposition générale du génome\\nGénome haploïde\\nNomenclature de Paris (1971)\\n15', 'L1SpS: UE 2 Les molécules du vivant\\nComposition générale du génome\\nRésolution\\nNomenclature de Paris (1971)\\n16', 'L1SpS: UE 2 Les molécules du vivant\\nComposition générale du génome\\nGénome diploïde\\n• Génome maternel et paternel\\n17'], subsections=[])]), ContentSection(id='SEC_5', title='Détermination et séquençage du génome humain', content=['L1SpS: UE 2 Les molécules du vivant\\nDétermination de la séquence du génome Humain\\n• Projet international: durée ~15 ans, budget global ~3 milliards $\\n• Démarrage en 1990\\n• Cible principale: séquence de l’euchromatine\\n18'], subsections=[ContentSection(id='SEC_5.1', title='Historique, objectifs et ciblage de l’assemblage initial', content=['L1SpS: UE 2 Les molécules du vivant\\nDétermination de la séquence du génome Humain\\n• Projet international: durée ~15 ans, budget global ~3 milliards $\\n• Démarrage en 1990\\n• Cible principale: séquence de l’euchromatine\\n18'], subsections=[]), ContentSection(id='SEC_5.2', title='Cartographie génétique basée sur fréquences de recombinaison', content=['L1SpS: UE 2 Les molécules du vivant\\nProjet Génome Humain\\n• Projet international: durée ~15 ans, budget global ~3 milliards $\\n• Cartographie génétique: basée sur les fréquences de recombinaison (cM)\\n19'], subsections=[]), ContentSection(id='SEC_5.3', title='Cartographie physique: distances en kilobases et mégabases', content=['L1SpS: UE 2 Les molécules du vivant\\nProjet Génome Humain\\n• Projet international: durée ~15 ans, budget global ~3 milliards $\\n• Cartographie physique: distance réelle (en kb ou Mb)\\n20'], subsections=[])])], slides=[Slides(id='SL_001', title='7.1 Architecture du génome', content='L1SpS: UE 2 Les molécules du vivant\\nU.E.2 Les molécules du vivant\\n7. Organisation du génome humain, méthodes en\\nbiotechnologie\\n7.1 Architecture du génome\\nhumain\\nJean Muller\\nLaboratoire Diagnostic Génétique (HUS)\\nLaboratoire de Génétique médicale (Inserm U1112)\\njeanmuller@unistra.fr'), Slides(id='SL_002', title='Plan du cours', content='L1SpS: UE 2 Les molécules du vivant\\nPlan du cours\\n• Introduction\\n• Notions fondamentales\\n• Le génome humain\\n• Projet de séquençage\\n• Architecture globale\\n• Génome mitochondrial\\n• Génome nucléaire\\n• Description des principaux éléments constituants\\n• Gènes (codants et non-codants), pseudogènes et éléments répétés\\n• Comparaison aux autres génomes\\n• Les types de variations du génome humain et leurs conséquences\\n• La variabilité du génome humain\\n• Evolution des génomes: notions essentielles, mécanismes\\n2'), Slides(id='SL_003', title='Introduction', content='L1SpS: UE 2 Les molécules du vivant\\nIntroduction\\n3'), Slides(id='SL_004', title='L’arbre de la vie', content='L1SpS: UE 2 Les molécules du vivant\\nL’arbre de la vie\\nNotions essentielles:\\n• Evolution\\n• Temps\\n• Adaptation\\n• Sélection\\nLUCA\\nLast Universal Common Ancestor\\n4'), Slides(id='SL_005', title='Arbre des eucaryotes', content='L1SpS: UE 2 Les molécules du vivant\\nArbre des eucaryotes\\nChoix d’organismes modèles\\n• Intérêt(s) économique(s)\\n• Intérêt(s) technique(s)\\n• Facilités hébergement,\\n• Développement embryonnaire/temps\\nde génération\\n• Partage d’éléments communs (ADN)\\n• Hérités/Transmis\\n35 eucaryotes\\n18 métazoaires\\n5'), Slides(id='SL_006', title='A propos de l’homologie', content=\"L1SpS: UE 2 Les molécules du vivant\\nA propos de l’homologie\\n• Définition\\n• En biologie, l'homologie désigne un caractère propre à plusieurs\\nespèces hérité d'un ancêtre commun. Les structures en question, qu'elles\\nsoient d'ordre anatomique, moléculaire ou génétique, partagent donc une\\nhistoire évolutive.\\n• ≠ analogie (ex: ailes oiseaux et insectes qui est une évolution séparée)\\n• Orthologie (gènes orthologues): gènes homologues dans 2 espèces ayant\\névolué à partir d’un gène ancestral suite à une spéciation\\n• Paralogie (gènes paralogues): gènes homologues au sein de la même\\nespèce ayant évolué à partir d’un gène ancestral par duplication au cours de\\nl’évolution de cette espèce.\\n6\"), Slides(id='SL_007', title='A propos de l’homologie', content=\"L1SpS: UE 2 Les molécules du vivant\\nA propos de l’homologie\\n• Définition\\n• En biologie, l'homologie désigne un caractère propre à plusieurs espèces\\nhérité d'un ancêtre commun. Les structures en question, qu'elles soient\\nd'ordre anatomique, moléculaire ou génétique, partagent donc une histoire\\névolutive.\\n• Orthologie (gènes orthologues): gènes homologues dans 2 espèces ayant\\névolué à partir d’un gène ancestral suite à une spéciation\\n• Paralogie (gènes paralogues): gènes homologues au sein de la même\\nespèce ayant évolué à partir d’un gène ancestral par duplication au cours de\\nl’évolution de cette espèce.\\n7\"), Slides(id='SL_008', title='A propos de l’homologie', content='L1SpS: UE 2 Les molécules du vivant\\nA propos de l’homologie\\n• Exemple\\n8'), Slides(id='SL_009', title='A propos de l’homologie', content='L1SpS: UE 2 Les molécules du vivant\\nA propos de l’homologie\\n• Comment déterminer si les gènes sont homologues ou pas?\\n• Les séquences des génomes peuvent être alignées entres elles tout comme\\nles séquences des protéines.\\n• La comparaison de 2 séquences permet d’établir une évaluation de leur\\nproximité ou de leur éloignement par le calcul:\\n• du pourcentage d’identité* entre ces 2 séquences\\n* résidus strictement identique\\n• du pourcentage de similarité* entre ces 2 séquences\\n* résidus identique + proche (critère à déterminer; ex: caractéristiques physicochimiques)\\n• Seuil de significativité >20% (dépendant de la famille de protéines)\\n9'), Slides(id='SL_010', title='A propos de l’homologie', content='L1SpS: UE 2 Les molécules du vivant\\nA propos de l’homologie\\n• Remarques:\\n• Un % similarité/identité non significatif ne veut pas dire que les gènes, ne sont\\npas homologues.\\n• 2 séquences similaires peuvent l’être :\\n• par hasard (région de faible complexité)\\n• par convergence évolutive\\n<15% identité\\nActine humaine MreB bactérienne\\n10'), Slides(id='SL_011', title='Biologie du gène – dogme central', content='L1SpS: UE 2 Les molécules du vivant\\nBiologie du gène – dogme central\\n11'), Slides(id='SL_012', title='Références', content='L1SpS: UE 2 Les molécules du vivant\\nRéférences\\n• Le génome est une des références d’un organisme\\n…\\nméthylome\\nprotéome\\ntranscriptome\\ngénome\\n12'), Slides(id='SL_013', title='Le génome humain', content='L1SpS: UE 2 Les molécules du vivant\\nLe génome humain\\n13'), Slides(id='SL_014', title='Homo sapiens', content='L1SpS: UE 2 Les molécules du vivant\\nHomo sapiens\\n• Composition du génome humain :\\n• Génome nucléaire\\n• 22 paires chromosomes homologues (autosomes: 1 à 22)\\n• 1 paire chromosomes sexuels (gonosomes: X et Y)\\n• Génome mitochondrial\\n• Molécule circulaire\\nIllustration des chromosomes humains condensés en métaphase du cycle cellulaire (≠organisation des chromosomes dans le noyau hors métaphase)\\n14'), Slides(id='SL_015', title='Composition générale du génome', content='L1SpS: UE 2 Les molécules du vivant\\nComposition générale du génome\\nGénome haploïde\\nNomenclature de Paris (1971)\\n15'), Slides(id='SL_016', title='Composition générale du génome', content='L1SpS: UE 2 Les molécules du vivant\\nComposition générale du génome\\nRésolution\\nNomenclature de Paris (1971)\\n16'), Slides(id='SL_017', title='Composition générale du génome', content='L1SpS: UE 2 Les molécules du vivant\\nComposition générale du génome\\nGénome diploïde\\n• Génome maternel et paternel\\n17'), Slides(id='SL_018', title='Détermination de la séquence du génome Humain', content='L1SpS: UE 2 Les molécules du vivant\\nDétermination de la séquence du génome Humain\\n• Projet international: durée ~15 ans, budget global ~3 milliards $\\n• Démarrage en 1990\\n• Cible principale: séquence de l’euchromatine\\n18'), Slides(id='SL_019', title='Projet Génome Humain', content='L1SpS: UE 2 Les molécules du vivant\\nProjet Génome Humain\\n• Projet international: durée ~15 ans, budget global ~3 milliards $\\n• Cartographie génétique: basée sur les fréquences de recombinaison (cM)\\n19'), Slides(id='SL_020', title='Projet Génome Humain', content='L1SpS: UE 2 Les molécules du vivant\\nProjet Génome Humain\\n• Projet international: durée ~15 ans, budget global ~3 milliards $\\n• Cartographie physique: distance réelle (en kb ou Mb)\\n20'), Slides(id='SL_021', title='Projet Génome Humain', content='L1SpS: UE 2 Les molécules du vivant\\nProjet Génome Humain\\n• Projet international: durée ~15 ans, budget global ~3 milliards $\\n• Début du séquençage en 1999 (20 centres, 6 pays)\\n21'), Slides(id='SL_022', title='Projet Génome Humain', content='L1SpS: UE 2 Les molécules du vivant\\nProjet Génome Humain\\n• Projet international: durée ~15 ans, budget global ~3 milliards $\\n• Séquence complète en 2000, version brouillon ou « draft » (90%, qualité variable)\\n• Séquence finalisée en 2003, version finale (99%, haute qualité)\\n• Fini, vraiment ?\\n22'), Slides(id='SL_024', title='Visualisation et exploration du génome humain', content='L1SpS: UE 2 Les molécules du vivant\\nVisualisation et exploration du génome humain\\n« Genome browser » (navigateur) de l’Université de Californie, Santa Cruz (UCSC)\\nChromosome\\nZoom\\nAnnotations:\\n• Gènes\\nhttp://genome-euro.ucsc.edu/\\n• Protéines\\n• Conservation…\\n24'), Slides(id='SL_025', title='Exploration du génome humain', content='L1SpS: UE 2 Les molécules du vivant\\nExploration du génome humain\\nGène X, Y et Z\\nZoom\\n25'), Slides(id='SL_026', title='Sens de transcription', content='L1SpS: UE 2 Les molécules du vivant\\nGène X\\nZoom\\nSens de transcription\\n26'), Slides(id='SL_027', title='Exons', content='L1SpS: UE 2 Les molécules du vivant\\nExons\\nZoom\\nIntrons\\n27'), Slides(id='SL_028', title='Zoom', content='L1SpS: UE 2 Les molécules du vivant\\nZoom\\n28'), Slides(id='SL_029', title='Nucléotides', content='L1SpS: UE 2 Les molécules du vivant\\nNucléotides\\nAcide aminés\\n29'), Slides(id='SL_030', title='Composition générale du génome', content='L1SpS: UE 2 Les molécules du vivant\\nComposition générale du génome\\n5% du génome conservé au cours de l’évolution\\n30'), Slides(id='SL_031', title='Génome mitochondrial', content='L1SpS: UE 2 Les molécules du vivant\\nGénome mitochondrial\\n• Génome compact\\n• 16,6 kb\\n• Séquence complète en 1981\\n• 37 gènes au total:\\n• 13 codants pour des protéines\\n• Phosphorylation oxydative\\n• 24 non codants (22 ARNt et 2 ARNr)\\n• Code génétique universel mais\\nutilisation différente (cf chapitre 9):\\n• 60 codons codants pour des AA,\\n• 4 codons STOP\\n31'), Slides(id='SL_032', title='Génome mitochondrial', content='L1SpS: UE 2 Les molécules du vivant\\nGénome mitochondrial\\n• Très proche d’un génome de bactérie\\n• Origine endosymbiotique (alpha-protéobactérie)\\n• Héritage maternel\\n• >1000 copies/cellule\\n• Hétéroplasmie: présence de copies différentes du génome mitochondrial\\nau sein de la même cellule:\\n• Selon le tissu\\n• Selon l’âge\\nStewart, J., Larsson, N. PLOS Genetics2014 32'), Slides(id='SL_033', title='Comparaison des génomes mitochondriaux', content='L1SpS: UE 2 Les molécules du vivant\\nComparaison des génomes mitochondriaux\\nDrosophila Saccharomyces Arabidopsis\\nGénome Homo sapiens\\nmelanogaster cerevisiae thaliana\\nTaille 16,6 kb 19,5 kb 86 kb 367 kb\\nOrganisation circulaire linéaire/circulaire\\nNombre de copies >1000 20-200\\nTotal gènes 37 37 55 60\\nGènes codants 13 13 28 33\\nGènes ARN 24 24 27 25\\nhttps://www.yeastgenome.org/contig/Chromosome_Mito#feature 33'), Slides(id='SL_034', title='Génome nucléaire', content='L1SpS: UE 2 Les molécules du vivant\\nGénome nucléaire\\n• Taille: 3,1 Gb (haploïde)\\n• Séquencé et disponible en 2001 (brouillon)\\n• Complète en 2022\\n• Hétérochromatine constitutive\\n• 0,2 Gb: partie condensée du génome, transcription inactive\\n(zones hautement répétées)\\n• Euchromatine\\n• 2,9 Gb: partie riche en gènes et dont la transcription est active\\nCf cours Didier Devys 34'), Slides(id='SL_035', title='Génome nucléaire', content='L1SpS: UE 2 Les molécules du vivant\\nGénome nucléaire\\n35'), Slides(id='SL_036', title='Les éléments constitutifs du', content='L1SpS: UE 2 Les molécules du vivant\\nLes éléments constitutifs du\\ngénome humain\\n36'), Slides(id='SL_037', title='Gène', content='L1SpS: UE 2 Les molécules du vivant\\nGène\\n• Définition:\\n• Segment d’ADN génomique utilisé comme matrice pour\\nsynthétiser un ARN simple brin (transcription).\\n• ARN codants, ARNm:\\n• contiennent l’information pour la synthèse protéique\\n• ARN non-codants:\\n• 11 classes majeures\\n• ARNt, ARNr: utilisés pour la traduction\\n• miARN (microARN): régulation de l’expression\\n• snARN, snoARN, lncARN…\\n37'), Slides(id='SL_038', title='Définition - Gène', content='L1SpS: UE 2 Les molécules du vivant\\nDéfinition - Gène\\n38'), Slides(id='SL_039', title='Définition - Gène', content='L1SpS: UE 2 Les molécules du vivant\\nDéfinition - Gène\\n• Définition:\\n• Segment d’ADN génomique utilisé comme matrice pour\\nsynthétiser un ARN simple brin (transcription).\\n• ARN codants: ~20 000 gènes pour ~35 Mb (~1,1% du génome)*\\n• ARN non-codants: > 40 000\\n• Le nombre définitif de gènes (codants + non codants) est proche des\\n60 000 mais demeure encore incertain (besoin de validation) mais se\\nstabilise avec le temps et l’amélioration des annotations.\\n*En ne tenant compte que les régions codantes (exclusion des régions régulatrices)\\nNurk et al., Science 2022 39'), Slides(id='SL_040', title='Evolution du compte total: gènes codants', content='L1SpS: UE 2 Les molécules du vivant\\nEvolution du compte total: gènes codants\\n19,969\\n2022\\n40'), Slides(id='SL_041', title='Ordres de grandeurs', content='L1SpS: UE 2 Les molécules du vivant\\nOrdres de grandeurs\\n• Taille des gènes: • Taille des protéines:\\n• Moyenne: 54 kb • Plus petite: ~10 AA\\n• Plus petit: quelques 100aines pb • Plus grande: 34 350 AA (Titin)\\n• Plus grand: 2,5 Mb (DMD, dystrophine)\\n• Nombre / taille d’exons • Taille des introns\\n• Moyenne: 10 / 280 pb • Plus petit: <30 pb\\n• Plus petit: 1 (pas d’intron) / <10 pb • Plus grand: 1 Mb\\n• Plus grand: 363 (titin) / 18 kb\\nLe valeurs sont arrondies au plus proche\\nAA:AcideAminé\\n41'), Slides(id='SL_042', title='Quelques exemples de structures de gènes codants', content='L1SpS: UE 2 Les molécules du vivant\\nQuelques exemples de structures de gènes codants\\nGène CDS AA Nombre d’exons\\nBleu: exons numérotés ALMS1 13 kb 4169 23 exons\\nJaune: intron CEP290 7,4 kb 2403 54 exons\\nCDS: séquence codante MKKS 1,7 kb 571 6 exons (3 codants)\\nBBS10 2,1 kb 724 2 exons (2 codants)\\nBBS12 2,1 kb 711 3 exons (1 codant)\\nALMS1\\nCEP290\\nMKKS\\nBBS10\\nBBS12\\nVisualisation avecAlamut Visual (InteractiveBiosoftware) 42'), Slides(id='SL_043', title='Organisation des gènes sur le génome', content='L1SpS: UE 2 Les molécules du vivant\\nOrganisation des gènes sur le génome\\n• 2 organisation possibles\\n• Non regroupée:\\n• Territoire génique indépendant et bien défini\\n• Gènes avec des fonctions différentes\\n• Pas de similarité de séquence particulière\\n• Sens de transcription variable\\n43'), Slides(id='SL_044', title='Organisation des gènes sur le génome', content='L1SpS: UE 2 Les molécules du vivant\\nOrganisation des gènes sur le génome\\n• Non regroupée:\\n• Situation bien souvent plus complexe\\n• Territoires chevauchants\\n44'), Slides(id='SL_045', title='Organisation des gènes sur le génome', content='L1SpS: UE 2 Les molécules du vivant\\nOrganisation des gènes sur le génome\\n• Groupée ou dite en « cluster »:\\n• Origine: liée à une duplication en tandem\\n• Les gènes partagent souvent:\\n• Sens de transcription identique\\n• Séquences homologues\\n• Présence de pseudogènes\\n• 1 cluster sur 1 chromosome\\n• 2 clusters sur 2 chromosomes\\n45'), Slides(id='SL_046', title='Exemples d’organisations remarquables', content='L1SpS: UE 2 Les molécules du vivant\\nExemples d’organisations remarquables\\n• Famille des gènes d’histones (>60 gènes)\\n• 3 clusters principaux\\n• 2 sur le chromosome 6\\n• 1 sur le chromosome 1\\n• Plusieurs pseudogènes\\nVisualisation avecensemblgenomebrowser 46'), Slides(id='SL_047', title='Exemples d’organisations remarquables', content='L1SpS: UE 2 Les molécules du vivant\\nExemples d’organisations remarquables\\n• Famille de gènes des récepteurs olfactifs\\n• Répertoire définissant notre capacité à détecter des\\nodeurs différentes\\n• >900 gènes\\n• 25 grands clusters\\nVisualisation avecensemblgenomebrowser 47'), Slides(id='SL_048', title='Gènes non codants', content='L1SpS: UE 2 Les molécules du vivant\\nGènes non codants\\n• ARN de transfert (ARNt):\\n• Fonction lors de la traduction\\n• ~500 gènes et ~300 pseudogènes\\n• Plusieurs clusters répartis un peu partout sur le génome\\n• ARN ribosomaux (ARNr):\\n• Fonction lors de la traduction (composants du ribosome)\\n• 5S: plusieurs copies dans de petits clusters (le plus grands\\ncontient 16 gènes sur le chromosome 1)\\n• 45S incluant 28S/5,8S/18S: 30-40 répétitions\\n• Le nombre total est mal connu (exclu du projet initial du\\ngénome humain)\\n48'), Slides(id='SL_049', title='Pseudogène', content='L1SpS: UE 2 Les molécules du vivant\\nPseudogène\\n• Définition:\\n• Copie généralement défectueuse d’un gène fonctionnel avec lequel le\\npseudogène partage une similarité de séquence significative.\\n• Concerne 10% des gènes codants, avec un nombre plus important\\npour des gènes activement transcrits\\n• >14000 décrits pour 3 catégories principales:\\n• Pseudogène processé (~72%, ~10 000 copies)\\n• Pseudogène non processé (~23%, ~3 500 copies)\\n• Pseudogène unitaire (~1,4%, ~200 copies)\\n49'), Slides(id='SL_050', title='Origine des pseudogènes', content='L1SpS: UE 2 Les molécules du vivant\\nOrigine des pseudogènes\\n• Pseudogène dit non processé\\n• Mécanisme lié à la duplication d’une partie du génome\\n• Conservation de la structure intron/exon*\\n• Conservation de la région de régulation\\n* divergence par accumulation de variations 50'), Slides(id='SL_051', title='Origine des pseudogènes', content='L1SpS: UE 2 Les molécules du vivant\\nOrigine des pseudogènes\\n• Pseudogène dit processé\\n• Mécanisme lié à la rétrotransposition\\nd’un ARNm\\n• Perte de la structure intron/exon\\n(le pseudogène ne contient que de\\nl’exon)\\n• Perte de la région de régulation\\n51'), Slides(id='SL_052', title='Origine des pseudogènes', content='L1SpS: UE 2 Les molécules du vivant\\nOrigine des pseudogènes\\n• Pseudogène dit unitaire\\n• Mécanisme de fin de vie du gène (pression de sélection diminuée\\n-> accumulation de mutations)\\n52'), Slides(id='SL_053', title='Pseudogènes - remarques', content='L1SpS: UE 2 Les molécules du vivant\\nPseudogènes - remarques\\n• Remarques:\\n• Longtemps catégorisés comme des gènes « fossiles », leur\\nfonction est encore mal connue\\n• Pourtant, 15% des pseudogènes sont transcrits\\n• Un des mécanismes de l’évolution des génomes\\n• En règle générale:\\n• Les gènes les plus fortement exprimés ont plus de pseudogènes,\\net en particulier de type « processé »\\n• Les pseudogènes non processés sont souvent physiquement\\nproches des gènes dont ils sont dérivés\\n53'), Slides(id='SL_054', title='Eléments répétés', content='L1SpS: UE 2 Les molécules du vivant\\nEléments répétés\\n• Eléments répétés en tandem\\n• 6,5% du génome\\n• ADN satellite\\n• ADN minisatellite\\n• ADN microsatellite\\n• Eléments répétés dispersés (« interspersed »)\\n• 40-45% du génome\\n• Rétrotransposons\\n• LINE, SINE (Long/Short Interspersed Elements), rétrovirus\\n• Autonomes, non autonomes\\n• Transposons\\n54'), Slides(id='SL_055', title='Eléments répétés', content='L1SpS: UE 2 Les molécules du vivant\\nEléments répétés\\n• Eléments répétés en tandem\\n• 6,5% du génome\\n• Hétérochromatine constitutive\\n• 3 classes d’éléments selon la taille totale de la zone répétée\\n• Chaque élément est constitué d’unités plus petites hautement répétées\\n55'), Slides(id='SL_056', title='Eléments répétés', content='L1SpS: UE 2 Les molécules du vivant\\nEléments répétés\\n• Eléments répétés en tandem\\n• 6,5% du génome\\n• Hétérochromatine constitutive\\n• 3 classes d’éléments selon la taille totale de la zone répétée\\n• Chaque élément est constitué d’unités plus petites hautement répétées\\n56'), Slides(id='SL_057', title='Eléments répétés', content='L1SpS: UE 2 Les molécules du vivant\\nEléments répétés\\n• Eléments répétés en tandem\\n• 6,5% du génome\\n• Hétérochromatine constitutive\\n• 3 classes d’éléments selon la taille totale de la zone répétée\\n• Chaque élément est constitué d’unités plus petites hautement répétées\\n57'), Slides(id='SL_058', title='Eléments répétés', content='L1SpS: UE 2 Les molécules du vivant\\nEléments répétés\\n• Eléments répétés en tandem\\n• 6,5% du génome\\n• Hétérochromatine constitutive\\n• 3 classes d’éléments selon la taille totale de la zone répétée\\n• Chaque élément est constitué d’unités plus petites hautement répétées\\n58'), Slides(id='SL_059', title='Eléments répétés', content=\"L1SpS: UE 2 Les molécules du vivant\\nEléments répétés\\n• Eléments répétés en tandem\\n• Microsatellites\\n• Disposés en moyenne tous les 30 kb sur le génome humain\\n• Polymorphiques (séquences et/ou nombre de répétitions variables d'un\\ngénome/individu à l'autre)\\n• Application génotypage\\n• Carte génétique pour le génome humain\\n• Empreintes génétiques et médecine légale\\nIndividu 1 Individu 2\\n(CA)20 (CA)10\\n(CA)35 (CA)40\\n59\"), Slides(id='SL_060', title='Eléments répétés', content='L1SpS: UE 2 Les molécules du vivant\\nEléments répétés\\n• Eléments répétés dispersés (« interspersed »)\\n• 40-45% du génome\\n• Eléments dérivés des transposons. Ce sont des éléments mobiles\\ncapables de migrer d’une région du génome à une autre\\n• 2 grandes catégories:\\n• Rétrotransposons\\n• LINE, SINE, rétrovirus\\n• Autonomes, non autonomes\\n• Transposons\\n60'), Slides(id='SL_061', title='Eléments répétés', content='L1SpS: UE 2 Les molécules du vivant\\nEléments répétés\\n• Eléments répétés dispersés (« interspersed »)\\n• Rétrotransposons (« Copié/Collé »): Passage par une étape de\\ntranscription (ARN), transcription inverse (ADN) puis intégration\\n• LINE: « Long Interspersed Nuclear Elements »\\n• 3 sous-familles (Line-1, Line-2, Line-3), seule la 1ère est encore active\\n• 1 000 000 de copies dont <1% sont complètes\\n• ~100 éléments encore actifs (Line-1)\\nORF1: protéine de fixation à l’ARN\\nORF2: endonucléase, transcriptase inverse\\n61'), Slides(id='SL_062', title='Eléments répétés', content='L1SpS: UE 2 Les molécules du vivant\\nEléments répétés\\n• Eléments répétés dispersés (« interspersed »)\\n• Rétrotransposons (« Copié/Collé »)\\n• SINE: « Short Interspersed Nuclear Elements » répartis en 3 sous-\\nfamilles dont principalement:\\n• Alu: spécifique des primates (élément le plus abondant du génome)\\n• MIR: présent chez les mammifères\\n• Non autonomes, ils utilisent la machinerie des LINEs\\n62'), Slides(id='SL_063', title='Eléments répétés', content='L1SpS: UE 2 Les molécules du vivant\\nEléments répétés\\n• Eléments répétés dispersés (« interspersed »)\\n• Rétrotransposons (« Copié/Collé »):\\n• LTR transposons ou rétrovirus\\n• LTR (Long Terminal Repeat) contiennent la machinerie utile à la\\ntranscription\\n2-3 gènes typiques de rétrovirus (gag/pol/env) codent pour une protéase,\\ntranscriptase inverse, RNAseH et une intégrase\\n63'), Slides(id='SL_064', title='Eléments répétés', content='L1SpS: UE 2 Les molécules du vivant\\nEléments répétés\\n• Eléments répétés dispersés (« interspersed »)\\n• Transposons (« Coupé/Collé »)\\n• Déplacement par une transposase qui va exciser l’élément et le\\nréinsérer à une autre localisation du génome\\n• De nombreuses sous-familles\\n• Durée de vie limitée dans un génome\\n• Eléments considérés comme inactifs ou « fossiles » du génome\\nhumain\\n64'), Slides(id='SL_065', title='Conclusion: éléments répétés', content='L1SpS: UE 2 Les molécules du vivant\\nConclusion: éléments répétés\\n• Une part importante de notre génome\\n• La plupart de ces éléments sont inactifs\\n• Un des mécanismes de l’évolution des génomes\\n65'), Slides(id='SL_066', title='Exemples: visualisation des éléments répétés', content='L1SpS: UE 2 Les molécules du vivant\\nExemples: visualisation des éléments répétés\\n66'), Slides(id='SL_067', title='Comparaison de nos 2 génomes', content=\"L1SpS: UE 2 Les molécules du vivant\\nComparaison de nos 2 génomes\\nGénome Nucléaire Mitochondrial\\nTaille 3,1Gb 16,6 kb\\nNombre de molécules 23/24 1 circulaire\\nNombre de copies 23/46 >1000\\nGène codant ~20 000 13\\nGène non codant >40 000 (incertitude) 24\\nDensité en gène ~1/120 kb 1/0,45 kb\\nZones répétées >50% peu\\nIntrons Oui Non\\n% codant ~1,1% ~66%\\n% G+C 41% [38-49] 44%\\nHérédité Mendélienne* Maternelle\\n* 1 allèle d'origine paternelle et 1 d'origine maternelle\\n67\"), Slides(id='SL_068', title='Comparaison aux autres génomes', content='L1SpS: UE 2 Les molécules du vivant\\nComparaison aux autres génomes\\n68'), Slides(id='SL_069', title='Comparaison des génomes', content=\"L1SpS: UE 2 Les molécules du vivant\\nComparaison des génomes\\nLa capacité codante d'une espèce n’est pas proportionnelle à la taille du génome en\\npaires de bases ni au nombre de chromosomes.\\n69\\nProtozoaires: eucaryotes unicellulaires, métazoaires: animaux (eucaryotes multicellulaires)\"), Slides(id='SL_070', title='Comparaison des génomes', content='L1SpS: UE 2 Les molécules du vivant\\nComparaison des génomes\\n• Distribution du nombre de gènes dans les 3\\ndomaines du vivant:\\n• Le nombre de gènes est variable selon les groupes\\nd’organismes\\n• Le nombre de gènes n’est pas le reflet de la complexité\\nd’un organisme\\n70'), Slides(id='SL_071', title='Comparaison des génomes', content='L1SpS: UE 2 Les molécules du vivant\\nComparaison des génomes\\nRelation linéaire, génomes compacts et denses en gènes\\n71'), Slides(id='SL_072', title='Comparaison des génomes', content='L1SpS: UE 2 Les molécules du vivant\\nComparaison des génomes\\nPas de lien entre la taille d’un génome eucaryote et le nombre de gènes\\n72'), Slides(id='SL_073', title='Comparaison des génomes nucléaires', content='L1SpS: UE 2 Les molécules du vivant\\nComparaison des génomes nucléaires\\nDrosophila Saccharomyces Oryza Paris\\nGénome Homme\\nmelanogaster cerevisiae sativa japonica\\nTaille 3,1 Gb 122,6 Mb 12,2 Mb 430 Mb ~150 Gb\\nTotal\\n~21 000 ~14 000 ~5 800 ~40 000 ?\\ngènes\\nLe plus grand génome connu (40 chromosomes)\\n73'), Slides(id='SL_074', title='Les types de variations du génome', content='L1SpS: UE 2 Les molécules du vivant\\nLes types de variations du génome\\nhumain et leurs conséquences\\n74'), Slides(id='SL_075', title='Définitions', content=\"L1SpS: UE 2 Les molécules du vivant\\nDéfinitions\\n• Une mutation?\\n• En biologie: une modification héritée de l'information contenue\\ndans le génome d’une espèce.\\n• En génétique/santé: modification de la séquence du génome\\nresponsable d’un phénotype (modification d’un caractère\\npathologique) pour cette espèce.\\n• Un polymorphisme?\\n• Une mutation bénigne/non pathologique\\n• Mutation pathogène ou délétère?\\n• Possible confusion, besoin d’un vocabulaire contrôlé\\n75\"), Slides(id='SL_076', title='Définitions', content='L1SpS: UE 2 Les molécules du vivant\\nDéfinitions\\n• Vocabulaire et nomenclature contrôlée et non ambiguë\\n• Une variation: mutation\\n• Différence entre la séquence d’un génome de référence et la\\nséquence d’un individu de la même espère\\n• Une ou quelques bases (1-50 bases)\\n• SNV: Single Nucleotide Variation\\n• Un grande nombre de bases (>50 bases ou >1 kb)\\n• Variation de structure équilibrée ou non\\n• CNV: Copy Number Variation\\nRéférence GTAAAAGC\\nex1 GTATAAGC\\nex2 GTA--AGC\\n76'), Slides(id='SL_077', title='Définitions', content='L1SpS: UE 2 Les molécules du vivant\\nDéfinitions\\n• Nomenclature\\n• Mémorisable, éloquente, stable, non équivoque\\n• Plusieurs référentiels:\\n• Nom de gène, référence ARNm/protéine\\n• Position (génomique, ARNm, protéique)\\n• g. génomique\\n• c. ARN messager/cDNA\\nRéférence GTAAAAGC\\n• p. protéique\\nex1 GTATAAGC\\nex2 GTA--AGC\\nc.76A>T\\nRéférentiel Base mutée\\nPosition(s) Type de changement\\nBase de référence\\n77'), Slides(id='SL_078', title='Nomenclature des protéines', content='L1SpS: UE 2 Les molécules du vivant\\nNomenclature des protéines\\n• Uniquement en plus des informations ADN et ARN\\n• Acides aminés décrit sous la forme \"Trp26\" ou \"W26“ (1ère\\nlettre majuscule)\\np.Arg22fs*5\\np.Arg22*\\np.Arg22Ser\\nRéférentiel AA muté\\nAA de référence Position(s)\\n78'), Slides(id='SL_079', title='Des variations multiples dans un individu', content='L1SpS: UE 2 Les molécules du vivant\\nDes variations multiples dans un individu\\n• Génotype\\n• 2 variations sur des allèles différents\\n• c.[76A>C];[87delG]\\n• 2 variations sur le même allèle\\n• c.[76A>C;83G>C]\\n• 2 variations avec aucune appréciation\\n• c.[76A>C(;)83G>C] ? ?\\n79'), Slides(id='SL_080', title='Définitions', content='L1SpS: UE 2 Les molécules du vivant\\nDéfinitions\\n• Un polymorphisme:\\n• Variation présente à une fréquence élevée (≥1%) dans une\\npopulation donnée\\n• SNP: Single Nucleotide Polymorphism\\n• Exemples:\\n• NM_024649.4(BBS1):c.1413C>T, p.Leu471=\\n• EU 38%, AFR 3,77%\\n• NM_024649.4(BBS1):c.1169T>G, p.Met390Arg\\n• EU 0,27%, AFR 0,09%\\n• NM_000492.4(CFTR):c.1521_1523del, p.Phe508del\\n– EU 1,24%, AFR 0,26%, SAS 0,0019%\\n80'), Slides(id='SL_081', title='Définitions', content='L1SpS: UE 2 Les molécules du vivant\\nDéfinitions\\n• Variant pathogène ou délétère?\\n• Affecte la fonction de la protéine\\n• Selon le contexte la variation est responsable de la pathologie\\n(causale)\\n• Ex. 1: Rétinopathie pigmentaire, gène RPGR (chromosome X)\\n• Mode de transmission lié à l’X\\n• Variation affectant la fonction de la protéine RPGR\\n• Homme: rétinopathie pigmentaire\\n• Femme: asymptomatique ou apparition très tardive\\n• Ex. 2: Syndrome de Bardet-Biedl, gène BBS1 (chromosome 11)\\n• Mode de transmission autosomique récessif\\n• Causale d’un syndrome de Bardet-Biedl, si homozygote ou en\\nprésence d’un second allèle affectant la fonction de la protéine\\n81'), Slides(id='SL_082', title='Définitions', content='L1SpS: UE 2 Les molécules du vivant\\nDéfinitions\\n• Notions complémentaires\\n• Variation rare / fréquente\\n• Variation bénigne vs pathogène/délétère\\n• Variation causale d’un phénotype\\n• Ex: Couleur des cheveux…\\n• Une des plus grandes variabilités du génome humain\\n• Responsables de la plupart des pathologies humaines liées à\\nl’ADN (cancer et maladies rares génétiques)\\n82'), Slides(id='SL_083', title='Conséquences - Gène', content='L1SpS: UE 2 Les molécules du vivant\\nConséquences - Gène\\n83'), Slides(id='SL_084', title='Conséquences - Gène', content='L1SpS: UE 2 Les molécules du vivant\\nConséquences - Gène\\n84'), Slides(id='SL_085', title='Définitions – quelles variations?', content='L1SpS: UE 2 Les molécules du vivant\\nDéfinitions – quelles variations?\\nRéférence GTAAAAGC\\nex1 GTATAAGC\\n• Substitution:\\n• Modification d’une base par une autre\\n• Transition: Pu<->Pu ou Py<->Py\\n• Transversion: Pu<->Py\\nPurine\\nPyrimidine\\n85'), Slides(id='SL_086', title='Définitions – quelles variations?', content='L1SpS: UE 2 Les molécules du vivant\\nDéfinitions – quelles variations?\\n• Insertion/délétion (indel) :\\n• Indel ou petites insertion/délétions (<50pb)\\n• Ajout ou délétion d’une ou plusieurs bases\\nRéférence GTAAAAGC Référence GTAAAA-GC\\nex1 GTAA--GC ex2 GTAAAAAGC\\n86'), Slides(id='SL_087', title='Substitutions/indels', content='L1SpS: UE 2 Les molécules du vivant\\nSubstitutions/indels\\n• Localisation :\\n• Partout sur le génome (exon, intron et intergénique)\\n• Fréquence:\\n• 3-5 millions entre 2 génomes (même sexe)\\n• La plus grande source de variation du génome en\\nnombre d’évènements\\n87'), Slides(id='SL_088', title='Variation du gène', content='L1SpS: UE 2 Les molécules du vivant\\nVariation du gène\\nSéquence de référence/normale/Sauvage\\n88'), Slides(id='SL_089', title='Variation du gène', content='L1SpS: UE 2 Les molécules du vivant\\nVariation du gène\\nSubstitution dans le gène\\nModification d’une base de l’ADN/ARN\\nVariation faux-sens Variation silencieuse\\n89'), Slides(id='SL_090', title='Variation du gène', content='L1SpS: UE 2 Les molécules du vivant\\nVariation du gène\\nVariation non-sens\\nRappel: 3 codons STOP du génome nucléaire humain: UAA, UAG, UGA\\n90'), Slides(id='SL_091', title='Variation du gène', content='L1SpS: UE 2 Les molécules du vivant\\nVariation du gène\\n• Variation de la 1ère base\\n• 95% de chance d’avoir un faux sens\\n• Variation de la 2ème base\\n• 100% de chance d’avoir un impact (faux\\nsens ou non-sens)\\n• Variation de la 3ème base\\n• 28% de chance d’avoir un faux sens\\n91'), Slides(id='SL_092', title='Variation du gène', content='L1SpS: UE 2 Les molécules du vivant\\nVariation du gène\\nInsertion/délétion d’un nombre de bases non multiple de 3\\ninsertion 1 base délétion 1 base\\n...\\n...\\nDécalage du cadre de lecture Décalage du cadre de lecture\\nprotéine erronée protéine erronée\\n92'), Slides(id='SL_093', title='Variation du gène', content='L1SpS: UE 2 Les molécules du vivant\\nVariation du gène\\nInsertion/délétion d’un nombre de bases multiple de 3\\ndélétion 3 bases insertion 3 bases\\nCadre de lecture conservé Cadre de lecture conservé\\nperte d’un acide aminé gain d’un acide aminé\\n93'), Slides(id='SL_094', title='Variation du gène', content='L1SpS: UE 2 Les molécules du vivant\\nVariation du gène\\nSite de branchement\\n60 100 100\\n70 100 100\\nADN T T T\\nprotéine\\nExon n Intron n Exon n+1\\nSite donneur (5’) Site accepteur (3’)\\nVariation d’épissage\\nGT-AG: >98% site d’épissage canonique 94'), Slides(id='SL_095', title='Variation du gène', content='L1SpS: UE 2 Les molécules du vivant\\nVariation du gène\\nConséquences sur l’épissage:\\nRétention complète de l’intron\\nRétention partielle de l’intron (5’)\\nRétention partielle de l’intron (3’)\\nSaut complet d’un exon\\nTrès probable décalage du cadre de lecture\\n95'), Slides(id='SL_096', title='Variation du gène', content='L1SpS: UE 2 Les molécules du vivant\\nVariation du gène\\nInsertion / délétion dans le gène Substitution dans le gène\\nprotéine erronée variation faux-sens\\nprotéine erronée variation non-sens\\nInsertion/délétion d’un multiple\\nde 3 bases\\nmutation épissage\\n96'), Slides(id='SL_097', title='Définitions – quelles variations?', content='L1SpS: UE 2 Les molécules du vivant\\nDéfinitions – quelles variations?\\n• Expansion de triplet\\n• Les répétitions (n) de trinucléotides et aussi tétra, penta,\\nhexanucléotides\\n• X-Fragile: (CGG)\\nn\\n• Huntington: (CAG)\\nn\\n• Localisation: 5’UTR, exon, intron ou 3’UTR\\n• Zones instables lors de la réplication\\n• Expansion du nombre de répétitions\\n• Mutation dite dynamique\\n• ~ 50 pathologies causées par expansion dans un gène\\nDepienne& Mandel AJHG 2021 97'), Slides(id='SL_098', title='Définitions – quelles variations?', content='L1SpS: UE 2 Les molécules du vivant\\nDéfinitions – quelles variations?\\n• Variations de structures:\\n• Modification de la localisation d’un « morceau » du génome\\n• Affecte un nombre important de bases (>50 pb à plusieurs Mb)\\n• Origine: remaniements chromosomiques ou autres mécanismes\\nspécifiques\\n• 2 classes:\\n• Equilibrées\\n• Déséquilibrées (variation du nombre de copies ou CNV\\npour Copy Number Variant)\\n98'), Slides(id='SL_099', title='Variations de structure', content='L1SpS: UE 2 Les molécules du vivant\\nVariations de structure\\nDéséquilibrées\\nEquilibrées\\n99'), Slides(id='SL_100', title='Variations de structure', content='L1SpS: UE 2 Les molécules du vivant\\nVariations de structure\\n• Localisation :\\n• Partout dans le génome (exon, intron et intergénique)\\n• Fréquence:\\n• 2 000 à 10 000 entre 2 génomes (même sexe)\\n• ~1000 grandes délétions\\n• ~160 CNV\\n• ~1000 insertions éléments mobiles\\n• ~10 inversions\\n• La plus grande source de variation du génome en nombre de\\nbases affectées (20 millions)\\nSudmant et al 2015 100'), Slides(id='SL_101', title='Autres mécanismes rares et commentaires', content='L1SpS: UE 2 Les molécules du vivant\\nAutres mécanismes rares et commentaires\\n• Conversion génique\\n• Séquences très homologues entres elles\\n• Empreinte parentale\\n• Modification spécifique de la méthylation du génome\\n• Selon le gène (pathologie)\\n• Chaque type de variations doit être évalué et potentiellement identifié\\ncomme causal\\n• Type de mutations spécifiques\\n• Que des mutations faux sens\\n• Grandes délétions du gène\\n101'), Slides(id='SL_102', title='Les différents effets des variations', content='L1SpS: UE 2 Les molécules du vivant\\nLes différents effets des variations\\n• Perte de fonction (totale ou partielle):\\n• Non sens, décalage du cadre de lecture\\n• Faux sens si il y a un effet drastique sur la fonction, la localisation ou\\nla stabilité de la protéine\\n• Gain de fonction:\\n• Protéine plus active ou avec une action différente ou alors il y a un\\ngain de propriété toxique\\n• Variations très spécifiques (ex: activation site catalytique d’une\\nenzyme)\\n• Dominant négatif:\\n• La protéine mutée perd sa fonction et interfère avec la fonction de la\\nprotéine codée par l’allèle normal\\n102'), Slides(id='SL_103', title='Variabilité du génome humain', content='L1SpS: UE 2 Les molécules du vivant\\nVariabilité du génome humain\\n103'), Slides(id='SL_104', title='Bilan sur la variabilité du génome humain', content='L1SpS: UE 2 Les molécules du vivant\\nBilan sur la variabilité du génome humain\\n• De nombreuses sources de variabilité\\n• Variations qui sont rares et d’autres plus fréquentes (effet fondateur ou\\nmécanique)\\n• >1,1 milliard de variations déjà décrites dans dbSNP soit ~34% du génome\\n• >7 millions de variations structurales décrites dans DGV soit ~79% du génome\\nhttp://www.ncbi.nlm.nih.gov/snp http://dgv.tcag.ca/dgv/app/statistics 104'), Slides(id='SL_105', title='notions essentielles et mécanismes', content='L1SpS: UE 2 Les molécules du vivant\\nEvolution des génomes:\\nnotions essentielles et mécanismes\\n105'), Slides(id='SL_106', title='Evolution des génomes', content='L1SpS: UE 2 Les molécules du vivant\\nEvolution des génomes\\nNotions essentielles:\\n• Evolution, Temps, Adaptation, Sélection\\n• Les génomes des espèces se modifient au cours du temps\\n• Processus dynamique qui permet l’ajout, la perte et/ou un\\nremaniement du matériel génétique (ADN)\\n• Adaptation aux conditions environnementales ou non: les\\nvariations du génome peuvent permettre un avantage sélectif\\n• Espèces plus performantes au regard des conditions de vie\\n• Nouvelles espèces\\n• Comment?\\n• Variations ponctuelles (substitutions et indels)\\n• Variations structurales\\n106'), Slides(id='SL_107', title='Duplication d’exons', content='L1SpS: UE 2 Les molécules du vivant\\nDuplication d’exons\\n• Duplication en tandem des exons d’un gène\\n• ~10% des gènes chez l’Homme\\n• Responsable de domaines répétés dans une protéine\\n• Recombinaison illégitime avec une résolution inégale d’un\\n« crossing-over » (cf autre cours)\\n107'), Slides(id='SL_108', title='Brassage d’exon ou exon « shuffling »', content='L1SpS: UE 2 Les molécules du vivant\\nBrassage d’exon ou exon « shuffling »\\n• Plusieurs mécanismes possibles:\\n• Recombinaison non-allélique\\n• Rétransposons (LINEs)\\n108'), Slides(id='SL_109', title='Duplication des gènes', content='L1SpS: UE 2 Les molécules du vivant\\nDuplication des gènes\\n• Scénarios possibles:\\n109'), Slides(id='SL_110', title='Duplication complète du génome', content='L1SpS: UE 2 Les molécules du vivant\\nDuplication complète du génome\\n110'), Slides(id='SL_111', title=\"Certains schémas de ce cours ont été adaptés à partir d'illustrations provenant des ouvrages\", content=\"L1SpS: UE 2 Les molécules du vivant\\nCertains schémas de ce cours ont été adaptés à partir d'illustrations provenant des ouvrages\\nsuivants:\\n-Biologie moléculaire de la cellule, B. Alberts et al. 6ième ed. (Garland science)\\n-Human Molecular Genetics, Strachan and Reed, 4ième ed., (Garland science)\\n-Génétique médicale, Enseignement thématique, Collège National des Enseignants et Praticiens\\nde Génétique Médicale (Elsevier Masson)\\nCertaines illustrations sont tirées d'articles scientifiques (références sur les diapos) ou de l'espace\\nnumérique (creative commons licensing)\\nCourtesy: National Human Genome Research Institute and the Smithsonian National Museum of\\nNatural History“ ou du DataBase Center for Life Science (DBCLS)\\nMentions légales :\\nL'utilisation des documents de cours est strictement réservée à l'usage privé des étudiants inscrits à\\nl'université de Strasbourg. Leur diffusion et/ou mise en réseau est strictement réservée à l'université\\nde Strasbourg, et à une association agréée (association amicale des étudiants en médecine de\\nStrasbourg). Toute autre utilisation, diffusion ou mise en réseau est interdite. Ces documents sont\\ninterdits à la vente ou à la location, et à tout usage par des organismes privés (préparations, etc).\\nL'ensemble de ces documents relève des législations française et internationale sur le droit d'auteur\\net la propriété intellectuelle.\\n111\")], mapping=SectionSlideMapping(mapping=[MappingItem(section_id='SEC_1', slide_ids=['SL_001', 'SL_002']), MappingItem(section_id='SEC_2', slide_ids=['SL_003']), MappingItem(section_id='SEC_2.1', slide_ids=['SL_004']), MappingItem(section_id='SEC_2.2', slide_ids=['SL_005']), MappingItem(section_id='SEC_3', slide_ids=['SL_006']), MappingItem(section_id='SEC_3.1', slide_ids=['SL_006', 'SL_007', 'SL_008', 'SL_009', 'SL_010']), MappingItem(section_id='SEC_3.2', slide_ids=['SL_011', 'SL_012']), MappingItem(section_id='SEC_4', slide_ids=['SL_013']), MappingItem(section_id='SEC_4.1', slide_ids=['SL_014', 'SL_015', 'SL_016', 'SL_017']), MappingItem(section_id='SEC_5', slide_ids=['SL_018']), MappingItem(section_id='SEC_5.1', slide_ids=['SL_018']), MappingItem(section_id='SEC_5.2', slide_ids=['SL_019']), MappingItem(section_id='SEC_5.3', slide_ids=['SL_020'])]))"
            ]
          },
          "execution_count": 11,
          "metadata": {},
          "output_type": "execute_result"
        }
      ],
      "source": [
        "outline "
      ]
    },
    {
      "cell_type": "code",
      "execution_count": 12,
      "metadata": {},
      "outputs": [
        {
          "name": "stdout",
          "output_type": "stream",
          "text": [
            "Section-to-Slides Mapping:\n",
            "============================================================\n",
            "\n",
            "[Root] SEC_1\n",
            "Title: Présentation du module et plan du cours\n",
            "Slides: 2 slide(s)\n",
            "Slide IDs: SL_001, SL_002\n",
            "\n",
            "[Root] SEC_2\n",
            "Title: Introduction au contexte évolutif et organismes modèles\n",
            "Slides: 1 slide(s)\n",
            "Slide IDs: SL_003\n",
            "\n",
            "  [Level 1] SEC_2.1\n",
            "  Title: Arbre de la vie et concept de LUCA\n",
            "  Slides: 1 slide(s)\n",
            "  Slide IDs: SL_004\n",
            "\n",
            "  [Level 1] SEC_2.2\n",
            "  Title: Arbre des eucaryotes et choix d'organismes modèles\n",
            "  Slides: 1 slide(s)\n",
            "  Slide IDs: SL_005\n",
            "\n",
            "[Root] SEC_3\n",
            "Title: Notions fondamentales et définitions clés\n",
            "Slides: 1 slide(s)\n",
            "Slide IDs: SL_006\n",
            "\n",
            "  [Level 1] SEC_3.1\n",
            "  Title: Homologie: définition, orthologie, paralogie et méthodes de détection\n",
            "  Slides: 5 slide(s)\n",
            "  Slide IDs: SL_006, SL_007, SL_008, SL_009, SL_010\n",
            "\n",
            "  [Level 1] SEC_3.2\n",
            "  Title: Biologie du gène, dogme central et omiques\n",
            "  Slides: 2 slide(s)\n",
            "  Slide IDs: SL_011, SL_012\n",
            "\n",
            "[Root] SEC_4\n",
            "Title: Le génome humain: composition et organisation générale\n",
            "Slides: 1 slide(s)\n",
            "Slide IDs: SL_013\n",
            "\n",
            "  [Level 1] SEC_4.1\n",
            "  Title: Composition générale du génome: haploïde et diploïde\n",
            "  Slides: 4 slide(s)\n",
            "  Slide IDs: SL_014, SL_015, SL_016, SL_017\n",
            "\n",
            "[Root] SEC_5\n",
            "Title: Détermination et séquençage du génome humain\n",
            "Slides: 1 slide(s)\n",
            "Slide IDs: SL_018\n",
            "\n",
            "  [Level 1] SEC_5.1\n",
            "  Title: Historique, objectifs et ciblage de l’assemblage initial\n",
            "  Slides: 1 slide(s)\n",
            "  Slide IDs: SL_018\n",
            "\n",
            "  [Level 1] SEC_5.2\n",
            "  Title: Cartographie génétique basée sur fréquences de recombinaison\n",
            "  Slides: 1 slide(s)\n",
            "  Slide IDs: SL_019\n",
            "\n",
            "  [Level 1] SEC_5.3\n",
            "  Title: Cartographie physique: distances en kilobases et mégabases\n",
            "  Slides: 1 slide(s)\n",
            "  Slide IDs: SL_020\n"
          ]
        }
      ],
      "source": [
        "print(mapping.visualize_mapping(outline))"
      ]
    },
    {
      "cell_type": "markdown",
      "metadata": {},
      "source": [
        "# Single shot: Writing content from mapping and the outline"
      ]
    },
    {
      "cell_type": "code",
      "execution_count": 13,
      "metadata": {},
      "outputs": [
        {
          "name": "stdout",
          "output_type": "stream",
          "text": [
            "2025-08-17 16:07:26,856 [DEBUG] src.llm.writer: Starting content enhancement for 5 sections\n",
            "2025-08-17 16:10:02,399 [INFO] httpx: HTTP Request: POST https://api.openai.com/v1/responses \"HTTP/1.1 200 OK\"\n",
            "2025-08-17 16:10:02,491 [DEBUG] src.llm.writer: Successfully enhanced content with 5 sections\n"
          ]
        },
        {
          "data": {
            "text/plain": [
              "src.models.Content"
            ]
          },
          "execution_count": 13,
          "metadata": {},
          "output_type": "execute_result"
        }
      ],
      "source": [
        "outline_with_slides = outline.enrich_with_slides(slides=slides, mapping=mapping)\n",
        "writer = Writer()\n",
        "\n",
        "course = writer.write_course(enriched_content=outline_with_slides)\n",
        "\n",
        "type(course)"
      ]
    },
    {
      "cell_type": "code",
      "execution_count": 24,
      "metadata": {},
      "outputs": [
        {
          "data": {
            "text/plain": [
              "src.models.Content"
            ]
          },
          "execution_count": 24,
          "metadata": {},
          "output_type": "execute_result"
        }
      ],
      "source": [
        "type(course)"
      ]
    },
    {
      "cell_type": "code",
      "execution_count": 25,
      "metadata": {},
      "outputs": [
        {
          "name": "stdout",
          "output_type": "stream",
          "text": [
            "Course Content:\n",
            "============================================================\n",
            "\n",
            "[Root] ID: SEC_1\n",
            "Title: Présentation du module et plan du cours\n",
            "Content:\n",
            "  [1] Ce module porte sur l'organisation du génome humain et sur les méthodes\n",
            "      biotechnologiques permettant de le caractériser et de l'analyser. Il vise\n",
            "      à donner une vision intégrée de la composition, de l'architecture et de la\n",
            "      dynamique des génomes, ainsi que des conséquences fonctionnelles et\n",
            "      médicales des variations génomiques.\n",
            "  [2] Le plan du cours présente successivement une introduction aux concepts\n",
            "      évolutifs et aux organismes modèles, les notions fondamentales de\n",
            "      génétique moléculaire, la description du génome humain (nucléaire et\n",
            "      mitochondrial), le projet de séquençage, l'architecture globale du génome,\n",
            "      la description des éléments constitutifs (gènes codants et non codants,\n",
            "      pseudogènes, éléments répétés), la comparaison intergénomique, les\n",
            "      différents types de variations et leurs conséquences, la variabilité du\n",
            "      génome humain et, enfin, les notions essentielles et mécanismes de\n",
            "      l'évolution des génomes.\n",
            "  [3] Les objectifs pédagogiques incluent la compréhension des éléments\n",
            "      structuraux et fonctionnels du génome, la capacité à interpréter les\n",
            "      résultats de cartographie et de séquençage, et l'aptitude à appréhender\n",
            "      les mécanismes évolutifs et les types de variations qui façonnent la\n",
            "      diversité génomique. Le cours associera présentations conceptuelles et\n",
            "      introduction aux outils d'exploration des données génomiques.\n",
            "\n",
            "[Root] ID: SEC_2\n",
            "Title: Introduction au contexte évolutif et organismes modèles\n",
            "Content:\n",
            "  [1] L'étude du génome s'inscrit dans un cadre évolutif où les concepts de\n",
            "      temps, d'adaptation et de sélection expliquent la conservation et la\n",
            "      divergence des caractères moléculaires et structuraux entre espèces.\n",
            "      Comprendre ces notions est indispensable pour interpréter la distribution\n",
            "      des gènes, des éléments répétitifs et des variations observées au sein des\n",
            "      populations et entre espèces.\n",
            "  [2] L'approche comparative et l'utilisation d'organismes modèles constituent\n",
            "      des outils méthodologiques majeurs pour déduire des fonctions biologiques,\n",
            "      tester des hypothèses mécanistiques et reconstituer des histoires\n",
            "      évolutives à partir d'observations expérimentales et de données\n",
            "      génomiques.\n",
            "\n",
            "  [Level 1] ID: SEC_2.1\n",
            "  Title: Arbre de la vie et concept de LUCA\n",
            "  Content:\n",
            "    [1] L'arbre de la vie représente les relations phylogénétiques entre les\n",
            "        êtres vivants et illustre comment la variation accumulée au fil du temps\n",
            "        a conduit à la diversification des lignées. Il fournit le cadre\n",
            "        conceptuel pour comprendre la parenté entre espèces et la distribution\n",
            "        des caractères hérités d'ancêtres communs.\n",
            "    [2] Le concept de LUCA (Last Universal Common Ancestor) renvoie à l'ancêtre\n",
            "        commun le plus récent à l'origine de l'ensemble des organismes actuels ;\n",
            "        il constitue une reconstruction phylogénétique permettant d'identifier\n",
            "        des traits ancestraux partagés au niveau moléculaire et métabolique, et\n",
            "        d'envisager les étapes initiales de l'évolution de la vie.\n",
            "\n",
            "  [Level 1] ID: SEC_2.2\n",
            "  Title: Arbre des eucaryotes et choix d'organismes modèles\n",
            "  Content:\n",
            "    [1] L'arbre des eucaryotes organise les grands groupes (levures, plantes,\n",
            "        protistes, métazoaires, etc.) et sert de référence pour sélectionner des\n",
            "        organismes modèles représentatifs des processus biologiques étudiés. La\n",
            "        diversité des eucaryotes permet de comparer des mécanismes conservés et\n",
            "        des innovations spécifiques à certaines lignées.\n",
            "    [2] Le choix d'un organisme modèle repose sur des critères pratiques et\n",
            "        scientifiques : intérêts économique et technique, facilité d'hébergement\n",
            "        et de manipulation, durée du développement embryonnaire et du temps de\n",
            "        génération, ainsi que le partage d'éléments moléculaires et cellulaires\n",
            "        fondamentaux (machinerie de transcription, ADN, voies métaboliques) qui\n",
            "        rendent les résultats transférables à d'autres systèmes.\n",
            "\n",
            "[Root] ID: SEC_3\n",
            "Title: Notions fondamentales et définitions clés\n",
            "Content:\n",
            "  [1] Parmi les notions fondamentales figurent la définition de l'homologie, la\n",
            "      distinction avec l'analogie, et les ramifications conceptuelles associées\n",
            "      telles que l'orthologie et la paralogie. Ces concepts permettent\n",
            "      d'interpréter les similitudes entre caractères anatomiques, moléculaires\n",
            "      ou génétiques à la lumière de leur histoire évolutive.\n",
            "  [2] La maîtrise de ces définitions et des méthodes de comparaison des\n",
            "      séquences est essentielle pour inférer des fonctions, reconstituer des\n",
            "      arbres phylogénétiques et comprendre l'origine des duplications et des\n",
            "      divergences au sein des génomes.\n",
            "\n",
            "  [Level 1] ID: SEC_3.1\n",
            "  Title: Homologie: définition, orthologie, paralogie et méthodes de détection\n",
            "  Content:\n",
            "    [1] L'homologie désigne une origine évolutive commune pour un caractère\n",
            "        observé dans plusieurs espèces ; il convient de la distinguer de\n",
            "        l'analogie, qui traduit une similarité fonctionnelle apparue\n",
            "        indépendamment par convergence évolutive. Au niveau génétique, on\n",
            "        distingue deux cas fréquents : les gènes orthologues, issus d'une\n",
            "        spéciation et souvent conservant une fonction similaire entre espèces,\n",
            "        et les gènes paralogues, résultant d'une duplication et susceptibles\n",
            "        d'évoluer vers des fonctions différentes.\n",
            "    [2] La détection de l'homologie repose essentiellement sur l'alignement des\n",
            "        séquences d'ADN ou de protéines et sur des mesures quantitatives telles\n",
            "        que le pourcentage d'identité (résidus strictement identiques) et le\n",
            "        pourcentage de similarité (résidus identiques ou physico‑chimiquement\n",
            "        proches). Ces mesures fournissent des indications de proximité mais leur\n",
            "        interprétation dépend de la famille protéique considérée ; des seuils\n",
            "        empiriques (par exemple une identité souvent jugée significative au-delà\n",
            "        d'un certain pourcentage) peuvent orienter l'analyse, sans constituer\n",
            "        une règle absolue.\n",
            "    [3] Plusieurs précautions méthodologiques sont nécessaires : un faible\n",
            "        pourcentage d'identité n'exclut pas l'homologie, car des séquences\n",
            "        peuvent diverger fortement tout en conservant une relation évolutive, et\n",
            "        des similarités peuvent résulter de régions de faible complexité ou de\n",
            "        convergence fonctionnelle. Par conséquent, l'interprétation doit\n",
            "        intégrer le contexte évolutif et analytique.\n",
            "    [4] Des approches complémentaires renforcent les inférences d'homologie :\n",
            "        alignements multiples, analyses phylogénétiques, conservation de la\n",
            "        syntenie, études structurales, et méthodes statistiques basées sur des\n",
            "        profils ou modèles de Markov cachés (HMM) sont couramment employées pour\n",
            "        distinguer relations homologues et similitudes fortuites.\n",
            "\n",
            "  [Level 1] ID: SEC_3.2\n",
            "  Title: Biologie du gène, dogme central et omiques\n",
            "  Content:\n",
            "    [1] Le gène est défini comme un segment d'ADN utilisé comme matrice pour\n",
            "        synthétiser un ARN simple brin au cours de la transcription. La\n",
            "        distinction fondamentale entre ARN codants (ARNm, porteurs de\n",
            "        l'information pour la synthèse protéique) et ARN non codants (ARNt,\n",
            "        ARNr, miARN, snARN, snoARN, lncARN, etc.) souligne la diversité des\n",
            "        fonctions moléculaires qui ne se résument pas à la production de\n",
            "        protéines.\n",
            "    [2] Le génome constitue une référence structurelle et fonctionnelle, mais il\n",
            "        doit être considéré en relation avec d'autres couches d'information : le\n",
            "        transcriptome (ensemble des ARN exprimés), le protéome (ensemble des\n",
            "        protéines), le méthylome (marquages épigénétiques) et d'autres jeux de\n",
            "        données omiques. L'intégration de ces niveaux permet de relier la\n",
            "        séquence à l'expression, à la régulation et aux phénotypes observables.\n",
            "\n",
            "[Root] ID: SEC_4\n",
            "Title: Le génome humain: composition et organisation générale\n",
            "Content:\n",
            "  [1] Le génome humain se compose d'un génome nucléaire, organisé en chromosomes\n",
            "      linéaires abondamment compactés et régulés, et d'un génome mitochondrial,\n",
            "      de structure circulaire et d'une taille nettement plus réduite. La\n",
            "      connaissance de la composition et de l'organisation de ces deux\n",
            "      compartiments est essentielle pour comprendre l'héritage et la variabilité\n",
            "      génétique.\n",
            "  [2] L'organisation chromosomique varie selon l'état cellulaire (par exemple\n",
            "      condensation lors de la métaphase versus organisation plus lâche en\n",
            "      interphase) et reflète à la fois des niveaux d'expression différents et\n",
            "      des structures répétitives qui posent des défis techniques pour\n",
            "      l'assemblage et l'annotation.\n",
            "\n",
            "  [Level 1] ID: SEC_4.1\n",
            "  Title: Composition générale du génome: haploïde et diploïde\n",
            "  Content:\n",
            "    [1] Chez l'Homo sapiens, le génome nucléaire est réparti en 22 paires\n",
            "        d'autosomes et une paire de chromosomes sexuels (X et Y) ; la plupart\n",
            "        des cellules somatiques sont diploïdes et contiennent donc deux\n",
            "        exemplaires (origines maternelle et paternelle) de chaque chromosome. La\n",
            "        condensation des chromosomes pendant la mitose contraste avec leur\n",
            "        organisation en territoires chromosomiques plus diffus en interphase.\n",
            "    [2] Le génome mitochondrial est une molécule circulaire compacte, présente\n",
            "        en de nombreuses copies par cellule et transmise le plus souvent selon\n",
            "        un mode maternel. Sa compacité et son mode d'hérédité entraînent des\n",
            "        dynamiques de variation et d'expression distinctes de celles du génome\n",
            "        nucléaire.\n",
            "    [3] Les notions de génome haploïde (un seul jeu chromosomique, par exemple\n",
            "        dans les gamètes) et diploïde (deux jeux, caractéristiques des cellules\n",
            "        somatiques) ont des conséquences immédiates pour la génétique\n",
            "        mendélienne, la cartographie et l'interprétation des variations\n",
            "        alléliques chez l'individu et au sein des populations.\n",
            "\n",
            "[Root] ID: SEC_5\n",
            "Title: Détermination et séquençage du génome humain\n",
            "Content:\n",
            "  [1] La détermination de la séquence du génome humain a été conduite dans le\n",
            "      cadre d'un projet international d'envergure lancé au début des années\n",
            "      1990, d'une durée d'environ quinze ans et d'un coût global évalué à\n",
            "      plusieurs milliards de dollars. Un objectif prioritaire de ce projet était\n",
            "      la production d'une séquence de référence pour la région euchromatique,\n",
            "      riche en gènes et plus accessible aux approches d'assemblage initiales.\n",
            "  [2] Ce travail visait à fournir une ressource de base pour la découverte des\n",
            "      gènes, l'analyse des variations interindividuelles et le développement\n",
            "      d'outils diagnostics et de recherche. Il a nécessité le développement et\n",
            "      la combinaison de stratégies de cartographie, de séquençage et\n",
            "      d'assemblage adaptées aux contraintes liées aux régions répétées et à la\n",
            "      complexité chromosomique.\n",
            "\n",
            "  [Level 1] ID: SEC_5.1\n",
            "  Title: Historique, objectifs et ciblage de l’assemblage initial\n",
            "  Content:\n",
            "    [1] L'assemblage initial du génome humain a ciblé prioritairement\n",
            "        l'euchromatine en raison de son contenu en gènes et de sa plus grande\n",
            "        tractabilité pour l'assemblage séquentiel. Cette stratégie permettait\n",
            "        d'établir rapidement une référence fonctionnelle pour la majorité des\n",
            "        régions codantes et régulatrices.\n",
            "    [2] La mise en place d'une carte de référence a nécessité des étapes\n",
            "        successives d'amélioration afin de traiter ensuite les zones plus riches\n",
            "        en répétitions (hétérochromatine), qui exigent des approches\n",
            "        méthodologiques et technologiques spécifiques pour être résolues\n",
            "        correctement.\n",
            "\n",
            "  [Level 1] ID: SEC_5.2\n",
            "  Title: Cartographie génétique basée sur fréquences de recombinaison\n",
            "  Content:\n",
            "    [1] La cartographie génétique s'appuie sur les fréquences de recombinaison\n",
            "        observées lors de la méiose et s'exprime en centimorgans (cM). Les\n",
            "        distances en cM reflètent la probabilité d'un événement de recombinaison\n",
            "        entre deux loci et permettent d'ordonner et d'estimer des distances\n",
            "        relatives le long des chromosomes.\n",
            "    [2] Les cartes génétiques sont un outil essentiel pour localiser des gènes\n",
            "        responsables de phénotypes, pour concevoir des croisements expérimentaux\n",
            "        et pour ancrer des fragments lors de l'assemblage du génome ; toutefois,\n",
            "        elles n'indiquent pas la distance physique exacte en nucléotides et sont\n",
            "        soumises aux variations locales du taux de recombinaison.\n",
            "\n",
            "  [Level 1] ID: SEC_5.3\n",
            "  Title: Cartographie physique: distances en kilobases et mégabases\n",
            "  Content:\n",
            "    [1] La cartographie physique mesure les distances moléculaires en paires de\n",
            "        bases et s'exprime ordinairement en kilobases (kb) ou en mégabases (Mb).\n",
            "        Elle renseigne sur la distance réelle entre séquences et constitue la\n",
            "        base de l'assemblage physique et de l'annotation structurale du génome.\n",
            "    [2] La combinaison des cartes physiques et génétiques fournit une vision\n",
            "        complémentaire de l'organisation génomique : la carte physique précise\n",
            "        l'espacement réel en nucléotides, tandis que la carte génétique informe\n",
            "        sur le comportement des régions au cours de la recombinaison,\n",
            "        information utile pour étudier la structure chromosomique et les\n",
            "        mécanismes évolutifs.\n"
          ]
        }
      ],
      "source": [
        "print(course.print_content())"
      ]
    },
    {
      "cell_type": "markdown",
      "metadata": {},
      "source": [
        "# Store a course as a artifact that I can load again into Course"
      ]
    },
    {
      "cell_type": "code",
      "execution_count": 35,
      "metadata": {},
      "outputs": [
        {
          "name": "stdout",
          "output_type": "stream",
          "text": [
            "🔁 Imports refreshed\n"
          ]
        },
        {
          "data": {
            "text/plain": [
              "Course(name='Architecture du génome humain', course_title='Architecture du génome humain', level='L1', block='SANTE', semester='S1', subject='UE-1 Constitution et transformation de la matière', chapter='CHAPITRE_9', content=Content(sections=[ContentSection(id='SEC_1', title='Présentation du module et plan du cours', content=[\"Ce module porte sur l'organisation du génome humain et sur les méthodes biotechnologiques permettant de le caractériser et de l'analyser. Il vise à donner une vision intégrée de la composition, de l'architecture et de la dynamique des génomes, ainsi que des conséquences fonctionnelles et médicales des variations génomiques.\", \"Le plan du cours présente successivement une introduction aux concepts évolutifs et aux organismes modèles, les notions fondamentales de génétique moléculaire, la description du génome humain (nucléaire et mitochondrial), le projet de séquençage, l'architecture globale du génome, la description des éléments constitutifs (gènes codants et non codants, pseudogènes, éléments répétés), la comparaison intergénomique, les différents types de variations et leurs conséquences, la variabilité du génome humain et, enfin, les notions essentielles et mécanismes de l'évolution des génomes.\", \"Les objectifs pédagogiques incluent la compréhension des éléments structuraux et fonctionnels du génome, la capacité à interpréter les résultats de cartographie et de séquençage, et l'aptitude à appréhender les mécanismes évolutifs et les types de variations qui façonnent la diversité génomique. Le cours associera présentations conceptuelles et introduction aux outils d'exploration des données génomiques.\"], subsections=[]), ContentSection(id='SEC_2', title='Introduction au contexte évolutif et organismes modèles', content=[\"L'étude du génome s'inscrit dans un cadre évolutif où les concepts de temps, d'adaptation et de sélection expliquent la conservation et la divergence des caractères moléculaires et structuraux entre espèces. Comprendre ces notions est indispensable pour interpréter la distribution des gènes, des éléments répétitifs et des variations observées au sein des populations et entre espèces.\", \"L'approche comparative et l'utilisation d'organismes modèles constituent des outils méthodologiques majeurs pour déduire des fonctions biologiques, tester des hypothèses mécanistiques et reconstituer des histoires évolutives à partir d'observations expérimentales et de données génomiques.\"], subsections=[ContentSection(id='SEC_2.1', title='Arbre de la vie et concept de LUCA', content=[\"L'arbre de la vie représente les relations phylogénétiques entre les êtres vivants et illustre comment la variation accumulée au fil du temps a conduit à la diversification des lignées. Il fournit le cadre conceptuel pour comprendre la parenté entre espèces et la distribution des caractères hérités d'ancêtres communs.\", \"Le concept de LUCA (Last Universal Common Ancestor) renvoie à l'ancêtre commun le plus récent à l'origine de l'ensemble des organismes actuels ; il constitue une reconstruction phylogénétique permettant d'identifier des traits ancestraux partagés au niveau moléculaire et métabolique, et d'envisager les étapes initiales de l'évolution de la vie.\"], subsections=[]), ContentSection(id='SEC_2.2', title=\"Arbre des eucaryotes et choix d'organismes modèles\", content=[\"L'arbre des eucaryotes organise les grands groupes (levures, plantes, protistes, métazoaires, etc.) et sert de référence pour sélectionner des organismes modèles représentatifs des processus biologiques étudiés. La diversité des eucaryotes permet de comparer des mécanismes conservés et des innovations spécifiques à certaines lignées.\", \"Le choix d'un organisme modèle repose sur des critères pratiques et scientifiques : intérêts économique et technique, facilité d'hébergement et de manipulation, durée du développement embryonnaire et du temps de génération, ainsi que le partage d'éléments moléculaires et cellulaires fondamentaux (machinerie de transcription, ADN, voies métaboliques) qui rendent les résultats transférables à d'autres systèmes.\"], subsections=[])]), ContentSection(id='SEC_3', title='Notions fondamentales et définitions clés', content=[\"Parmi les notions fondamentales figurent la définition de l'homologie, la distinction avec l'analogie, et les ramifications conceptuelles associées telles que l'orthologie et la paralogie. Ces concepts permettent d'interpréter les similitudes entre caractères anatomiques, moléculaires ou génétiques à la lumière de leur histoire évolutive.\", \"La maîtrise de ces définitions et des méthodes de comparaison des séquences est essentielle pour inférer des fonctions, reconstituer des arbres phylogénétiques et comprendre l'origine des duplications et des divergences au sein des génomes.\"], subsections=[ContentSection(id='SEC_3.1', title='Homologie: définition, orthologie, paralogie et méthodes de détection', content=[\"L'homologie désigne une origine évolutive commune pour un caractère observé dans plusieurs espèces ; il convient de la distinguer de l'analogie, qui traduit une similarité fonctionnelle apparue indépendamment par convergence évolutive. Au niveau génétique, on distingue deux cas fréquents : les gènes orthologues, issus d'une spéciation et souvent conservant une fonction similaire entre espèces, et les gènes paralogues, résultant d'une duplication et susceptibles d'évoluer vers des fonctions différentes.\", \"La détection de l'homologie repose essentiellement sur l'alignement des séquences d'ADN ou de protéines et sur des mesures quantitatives telles que le pourcentage d'identité (résidus strictement identiques) et le pourcentage de similarité (résidus identiques ou physico‑chimiquement proches). Ces mesures fournissent des indications de proximité mais leur interprétation dépend de la famille protéique considérée ; des seuils empiriques (par exemple une identité souvent jugée significative au-delà d'un certain pourcentage) peuvent orienter l'analyse, sans constituer une règle absolue.\", \"Plusieurs précautions méthodologiques sont nécessaires : un faible pourcentage d'identité n'exclut pas l'homologie, car des séquences peuvent diverger fortement tout en conservant une relation évolutive, et des similarités peuvent résulter de régions de faible complexité ou de convergence fonctionnelle. Par conséquent, l'interprétation doit intégrer le contexte évolutif et analytique.\", \"Des approches complémentaires renforcent les inférences d'homologie : alignements multiples, analyses phylogénétiques, conservation de la syntenie, études structurales, et méthodes statistiques basées sur des profils ou modèles de Markov cachés (HMM) sont couramment employées pour distinguer relations homologues et similitudes fortuites.\"], subsections=[]), ContentSection(id='SEC_3.2', title='Biologie du gène, dogme central et omiques', content=[\"Le gène est défini comme un segment d'ADN utilisé comme matrice pour synthétiser un ARN simple brin au cours de la transcription. La distinction fondamentale entre ARN codants (ARNm, porteurs de l'information pour la synthèse protéique) et ARN non codants (ARNt, ARNr, miARN, snARN, snoARN, lncARN, etc.) souligne la diversité des fonctions moléculaires qui ne se résument pas à la production de protéines.\", \"Le génome constitue une référence structurelle et fonctionnelle, mais il doit être considéré en relation avec d'autres couches d'information : le transcriptome (ensemble des ARN exprimés), le protéome (ensemble des protéines), le méthylome (marquages épigénétiques) et d'autres jeux de données omiques. L'intégration de ces niveaux permet de relier la séquence à l'expression, à la régulation et aux phénotypes observables.\"], subsections=[])]), ContentSection(id='SEC_4', title='Le génome humain: composition et organisation générale', content=[\"Le génome humain se compose d'un génome nucléaire, organisé en chromosomes linéaires abondamment compactés et régulés, et d'un génome mitochondrial, de structure circulaire et d'une taille nettement plus réduite. La connaissance de la composition et de l'organisation de ces deux compartiments est essentielle pour comprendre l'héritage et la variabilité génétique.\", \"L'organisation chromosomique varie selon l'état cellulaire (par exemple condensation lors de la métaphase versus organisation plus lâche en interphase) et reflète à la fois des niveaux d'expression différents et des structures répétitives qui posent des défis techniques pour l'assemblage et l'annotation.\"], subsections=[ContentSection(id='SEC_4.1', title='Composition générale du génome: haploïde et diploïde', content=[\"Chez l'Homo sapiens, le génome nucléaire est réparti en 22 paires d'autosomes et une paire de chromosomes sexuels (X et Y) ; la plupart des cellules somatiques sont diploïdes et contiennent donc deux exemplaires (origines maternelle et paternelle) de chaque chromosome. La condensation des chromosomes pendant la mitose contraste avec leur organisation en territoires chromosomiques plus diffus en interphase.\", \"Le génome mitochondrial est une molécule circulaire compacte, présente en de nombreuses copies par cellule et transmise le plus souvent selon un mode maternel. Sa compacité et son mode d'hérédité entraînent des dynamiques de variation et d'expression distinctes de celles du génome nucléaire.\", \"Les notions de génome haploïde (un seul jeu chromosomique, par exemple dans les gamètes) et diploïde (deux jeux, caractéristiques des cellules somatiques) ont des conséquences immédiates pour la génétique mendélienne, la cartographie et l'interprétation des variations alléliques chez l'individu et au sein des populations.\"], subsections=[])]), ContentSection(id='SEC_5', title='Détermination et séquençage du génome humain', content=[\"La détermination de la séquence du génome humain a été conduite dans le cadre d'un projet international d'envergure lancé au début des années 1990, d'une durée d'environ quinze ans et d'un coût global évalué à plusieurs milliards de dollars. Un objectif prioritaire de ce projet était la production d'une séquence de référence pour la région euchromatique, riche en gènes et plus accessible aux approches d'assemblage initiales.\", \"Ce travail visait à fournir une ressource de base pour la découverte des gènes, l'analyse des variations interindividuelles et le développement d'outils diagnostics et de recherche. Il a nécessité le développement et la combinaison de stratégies de cartographie, de séquençage et d'assemblage adaptées aux contraintes liées aux régions répétées et à la complexité chromosomique.\"], subsections=[ContentSection(id='SEC_5.1', title='Historique, objectifs et ciblage de l’assemblage initial', content=[\"L'assemblage initial du génome humain a ciblé prioritairement l'euchromatine en raison de son contenu en gènes et de sa plus grande tractabilité pour l'assemblage séquentiel. Cette stratégie permettait d'établir rapidement une référence fonctionnelle pour la majorité des régions codantes et régulatrices.\", \"La mise en place d'une carte de référence a nécessité des étapes successives d'amélioration afin de traiter ensuite les zones plus riches en répétitions (hétérochromatine), qui exigent des approches méthodologiques et technologiques spécifiques pour être résolues correctement.\"], subsections=[]), ContentSection(id='SEC_5.2', title='Cartographie génétique basée sur fréquences de recombinaison', content=[\"La cartographie génétique s'appuie sur les fréquences de recombinaison observées lors de la méiose et s'exprime en centimorgans (cM). Les distances en cM reflètent la probabilité d'un événement de recombinaison entre deux loci et permettent d'ordonner et d'estimer des distances relatives le long des chromosomes.\", \"Les cartes génétiques sont un outil essentiel pour localiser des gènes responsables de phénotypes, pour concevoir des croisements expérimentaux et pour ancrer des fragments lors de l'assemblage du génome ; toutefois, elles n'indiquent pas la distance physique exacte en nucléotides et sont soumises aux variations locales du taux de recombinaison.\"], subsections=[]), ContentSection(id='SEC_5.3', title='Cartographie physique: distances en kilobases et mégabases', content=[\"La cartographie physique mesure les distances moléculaires en paires de bases et s'exprime ordinairement en kilobases (kb) ou en mégabases (Mb). Elle renseigne sur la distance réelle entre séquences et constitue la base de l'assemblage physique et de l'annotation structurale du génome.\", \"La combinaison des cartes physiques et génétiques fournit une vision complémentaire de l'organisation génomique : la carte physique précise l'espacement réel en nucléotides, tandis que la carte génétique informe sur le comportement des régions au cours de la recombinaison, information utile pour étudier la structure chromosomique et les mécanismes évolutifs.\"], subsections=[])])], slides=None, mapping=None), total_slides=None)"
            ]
          },
          "execution_count": 35,
          "metadata": {},
          "output_type": "execute_result"
        }
      ],
      "source": [
        "refresh_imports()\n",
        "# Get the raw data\n",
        "content_data = course.model_dump()\n",
        "\n",
        "# Recreate with current Content class\n",
        "from src.models import Content\n",
        "fresh_content = Content.model_validate(content_data)\n",
        "\n",
        "pilot_course = Course(\n",
        "    name=\"Architecture du génome humain\",\n",
        "    course_title=\"Architecture du génome humain\",\n",
        "    level=\"L1\",\n",
        "    block=\"SANTE\",\n",
        "    semester=\"S1\",\n",
        "    subject=\"UE-1 Constitution et transformation de la matière\",\n",
        "    chapter=\"CHAPITRE_9\",\n",
        "    content=fresh_content\n",
        ")\n",
        "\n",
        "pilot_course"
      ]
    },
    {
      "cell_type": "code",
      "execution_count": 36,
      "metadata": {},
      "outputs": [
        {
          "name": "stdout",
          "output_type": "stream",
          "text": [
            "💾 Course saved to: volume/artifacts/architecture_du_génome_humain_20250817_162748.json\n"
          ]
        },
        {
          "data": {
            "text/plain": [
              "'volume/artifacts/architecture_du_génome_humain_20250817_162748.json'"
            ]
          },
          "execution_count": 36,
          "metadata": {},
          "output_type": "execute_result"
        }
      ],
      "source": [
        "pilot_course.save_to_json()"
      ]
    },
    {
      "cell_type": "code",
      "execution_count": 32,
      "metadata": {},
      "outputs": [
        {
          "name": "stdout",
          "output_type": "stream",
          "text": [
            "Type: <class 'src.models.Content'>\n",
            "Is Content? True\n",
            "Sections type: <class 'list'>\n",
            "First section type: <class 'src.models.ContentSection'>\n",
            "First section: id='SEC_1' title='Présentation du module et plan du cours' content=[\"Ce module porte sur l'organisation du génome humain et sur les méthodes biotechnologiques permettant de le caractériser et de l'analyser. Il vise à donner une vision intégrée de la composition, de l'architecture et de la dynamique des génomes, ainsi que des conséquences fonctionnelles et médicales des variations génomiques.\", \"Le plan du cours présente successivement une introduction aux concepts évolutifs et aux organismes modèles, les notions fondamentales de génétique moléculaire, la description du génome humain (nucléaire et mitochondrial), le projet de séquençage, l'architecture globale du génome, la description des éléments constitutifs (gènes codants et non codants, pseudogènes, éléments répétés), la comparaison intergénomique, les différents types de variations et leurs conséquences, la variabilité du génome humain et, enfin, les notions essentielles et mécanismes de l'évolution des génomes.\", \"Les objectifs pédagogiques incluent la compréhension des éléments structuraux et fonctionnels du génome, la capacité à interpréter les résultats de cartographie et de séquençage, et l'aptitude à appréhender les mécanismes évolutifs et les types de variations qui façonnent la diversité génomique. Le cours associera présentations conceptuelles et introduction aux outils d'exploration des données génomiques.\"] subsections=[]\n",
            "Content class: <class 'src.models.Content'>\n",
            "fresh_content's content class: src.models.Content\n"
          ]
        }
      ],
      "source": [
        "# Check what's actually in your fresh_content variable\n",
        "print(f\"Type: {type(fresh_content)}\")\n",
        "print(f\"Is Content? {isinstance(fresh_content, Content)}\")\n",
        "\n",
        "# Check the sections\n",
        "if hasattr(fresh_content, 'sections'):\n",
        "    print(f\"Sections type: {type(fresh_content.sections)}\")\n",
        "    if fresh_content.sections:\n",
        "        print(f\"First section type: {type(fresh_content.sections[0])}\")\n",
        "        print(f\"First section: {fresh_content.sections[0]}\")\n",
        "else:\n",
        "    print(\"No sections attribute\")\n",
        "\n",
        "# Check if it's the right Content class\n",
        "print(f\"Content class: {Content}\")\n",
        "print(f\"fresh_content's content class: {type(fresh_content).__module__}.{type(fresh_content).__name__}\")"
      ]
    },
    {
      "cell_type": "markdown",
      "metadata": {},
      "source": [
        "# Two-shots"
      ]
    },
    {
      "cell_type": "markdown",
      "metadata": {},
      "source": [
        "# Two-shots"
      ]
    },
    {
      "cell_type": "markdown",
      "metadata": {},
      "source": [
        "## Plan from page\n",
        "\n",
        "Extract plan text from PDF for Branch A (two-pass approach)\n"
      ]
    },
    {
      "cell_type": "markdown",
      "metadata": {},
      "source": [
        "## Extract the slides"
      ]
    },
    {
      "cell_type": "code",
      "execution_count": 70,
      "metadata": {},
      "outputs": [
        {
          "name": "stdout",
          "output_type": "stream",
          "text": [
            "2025-08-18 10:12:25,875 [DEBUG] src.data_extraction.slides_extractor: Starting slide extraction from ./volume/slides/cours_1.pdf\n",
            "2025-08-18 10:12:25,924 [DEBUG] src.data_extraction.slides_extractor: PDF opened, found 111 pages\n",
            "2025-08-18 10:12:26,844 [WARNING] pdfminer.pdfinterp: Cannot set gray non-stroke color because /'P412' is an invalid float value\n",
            "2025-08-18 10:12:26,845 [WARNING] pdfminer.pdfinterp: Cannot set gray non-stroke color because /'P414' is an invalid float value\n",
            "2025-08-18 10:12:26,861 [WARNING] pdfminer.pdfinterp: Cannot set gray non-stroke color because /'P444' is an invalid float value\n",
            "2025-08-18 10:12:26,876 [WARNING] pdfminer.pdfinterp: Cannot set gray non-stroke color because /'P451' is an invalid float value\n",
            "2025-08-18 10:12:26,877 [WARNING] pdfminer.pdfinterp: Cannot set gray non-stroke color because /'P455' is an invalid float value\n",
            "2025-08-18 10:12:26,894 [WARNING] pdfminer.pdfinterp: Cannot set gray non-stroke color because /'P465' is an invalid float value\n",
            "2025-08-18 10:12:26,895 [WARNING] pdfminer.pdfinterp: Cannot set gray non-stroke color because /'P467' is an invalid float value\n",
            "2025-08-18 10:12:26,915 [WARNING] pdfminer.pdfinterp: Cannot set gray non-stroke color because /'P482' is an invalid float value\n",
            "2025-08-18 10:12:26,923 [WARNING] pdfminer.pdfinterp: Cannot set gray non-stroke color because /'P488' is an invalid float value\n",
            "2025-08-18 10:12:27,073 [DEBUG] src.data_extraction.slides_extractor: Successfully extracted 110 slides\n"
          ]
        },
        {
          "data": {
            "text/plain": [
              "[Slides(id='SL_001', title='7.1 Architecture du génome', content='L1SpS: UE 2 Les molécules du vivant\\nU.E.2 Les molécules du vivant\\n7. Organisation du génome humain, méthodes en\\nbiotechnologie\\n7.1 Architecture du génome\\nhumain\\nJean Muller\\nLaboratoire Diagnostic Génétique (HUS)\\nLaboratoire de Génétique médicale (Inserm U1112)\\njeanmuller@unistra.fr'),\n",
              " Slides(id='SL_002', title='Plan du cours', content='L1SpS: UE 2 Les molécules du vivant\\nPlan du cours\\n• Introduction\\n• Notions fondamentales\\n• Le génome humain\\n• Projet de séquençage\\n• Architecture globale\\n• Génome mitochondrial\\n• Génome nucléaire\\n• Description des principaux éléments constituants\\n• Gènes (codants et non-codants), pseudogènes et éléments répétés\\n• Comparaison aux autres génomes\\n• Les types de variations du génome humain et leurs conséquences\\n• La variabilité du génome humain\\n• Evolution des génomes: notions essentielles, mécanismes\\n2'),\n",
              " Slides(id='SL_003', title='Introduction', content='L1SpS: UE 2 Les molécules du vivant\\nIntroduction\\n3'),\n",
              " Slides(id='SL_004', title='L’arbre de la vie', content='L1SpS: UE 2 Les molécules du vivant\\nL’arbre de la vie\\nNotions essentielles:\\n• Evolution\\n• Temps\\n• Adaptation\\n• Sélection\\nLUCA\\nLast Universal Common Ancestor\\n4'),\n",
              " Slides(id='SL_005', title='Arbre des eucaryotes', content='L1SpS: UE 2 Les molécules du vivant\\nArbre des eucaryotes\\nChoix d’organismes modèles\\n• Intérêt(s) économique(s)\\n• Intérêt(s) technique(s)\\n• Facilités hébergement,\\n• Développement embryonnaire/temps\\nde génération\\n• Partage d’éléments communs (ADN)\\n• Hérités/Transmis\\n35 eucaryotes\\n18 métazoaires\\n5')]"
            ]
          },
          "execution_count": 70,
          "metadata": {},
          "output_type": "execute_result"
        }
      ],
      "source": [
        "pdf_path = './volume/slides/cours_1.pdf'\n",
        "plan_path = './volume/slides/cours_4_plan.pdf'\n",
        "\n",
        "extractor = SlidesExtractor()\n",
        "\n",
        "slides = extractor.extract_slides(pdf_path=pdf_path)\n",
        "\n",
        "slides[:5]\n",
        "\n"
      ]
    },
    {
      "cell_type": "code",
      "execution_count": 74,
      "metadata": {},
      "outputs": [
        {
          "name": "stdout",
          "output_type": "stream",
          "text": [
            "2025-08-18 10:13:00,872 [DEBUG] src.data_extraction.plan_extractor: Starting plan extraction from ./volume/slides/cours_1.pdf (page 2)\n",
            "2025-08-18 10:13:00,928 [DEBUG] src.data_extraction.plan_extractor: PDF opened, found 111 pages\n",
            "2025-08-18 10:13:00,948 [DEBUG] src.data_extraction.plan_extractor: Successfully extracted plan from page 2 (1599 chars)\n",
            "   L1SpS: UE 2 Les molécules du vivant                                                             \n",
            "      Plan      du     cours                                                                       \n",
            "        •  Introduction                                                                            \n",
            "             •  Notions  fondamentales                                                             \n",
            "        •  Le génome    humain                                                                     \n",
            "             •  Projet de séquençage                                                               \n",
            "             •  Architecture globale                                                               \n",
            "                  •  Génome    mitochondrial                                                       \n",
            "                  •  Génome    nucléaire                                                           \n",
            "             •  Description  des principaux  éléments   constituants                               \n",
            "                  •  Gènes  (codants   et non-codants),  pseudogènes     et éléments  répétés      \n",
            "        •  Comparaison    aux  autres génomes                                                      \n",
            "        •  Les types  de variations  du génome    humain   et leurs conséquences                   \n",
            "        •  La variabilité du génome   humain                                                       \n",
            "        •  Evolution des  génomes:    notions essentielles,  mécanismes                            \n",
            "                                                                                                 2 \n"
          ]
        }
      ],
      "source": [
        "# Test plan extraction\n",
        "plan_extractor = PlanExtractor()\n",
        "\n",
        "plan_txt = plan_extractor.extract_plan_from_page(pdf_path=pdf_path, page_number=2)\n",
        "\n",
        "print(plan_txt)"
      ]
    },
    {
      "cell_type": "markdown",
      "metadata": {},
      "source": [
        "## Build the Outline"
      ]
    },
    {
      "cell_type": "code",
      "execution_count": 75,
      "metadata": {},
      "outputs": [
        {
          "name": "stdout",
          "output_type": "stream",
          "text": [
            "2025-08-18 10:13:26,958 [DEBUG] src.llm.outline_two_pass: Starting outline generation from plan text (1599 chars)\n",
            "2025-08-18 10:13:41,765 [INFO] httpx: HTTP Request: POST https://api.openai.com/v1/responses \"HTTP/1.1 200 OK\"\n",
            "2025-08-18 10:13:41,817 [DEBUG] src.llm.outline_two_pass: Successfully generated outline with 6 sections\n"
          ]
        }
      ],
      "source": [
        "out_builder = OutlineTwoPass()\n",
        "\n",
        "outline = out_builder.build_outline(plan_txt)"
      ]
    },
    {
      "cell_type": "code",
      "execution_count": 78,
      "metadata": {},
      "outputs": [
        {
          "name": "stdout",
          "output_type": "stream",
          "text": [
            "Course Outline:\n",
            "==================================================\n",
            "Introduction\n",
            "  Notions fondamentales\n",
            "Le génome humain\n",
            "  Projet de séquençage\n",
            "  Architecture globale\n",
            "    Génome mitochondrial\n",
            "    Génome nucléaire\n",
            "  Description des principaux éléments constituants\n",
            "    Gènes (codants et non-codants), pseudogènes et éléments répétés\n",
            "Comparaison aux autres génomes\n",
            "Les types de variations du génome humain et leurs conséquences\n",
            "La variabilité du génome humain\n",
            "Evolution des génomes: notions essentielles, mécanismes\n"
          ]
        }
      ],
      "source": [
        "print(outline.print_outline())"
      ]
    },
    {
      "cell_type": "markdown",
      "metadata": {},
      "source": [
        "## Build the mapping"
      ]
    },
    {
      "cell_type": "code",
      "execution_count": 79,
      "metadata": {},
      "outputs": [],
      "source": [
        "slides = slides[:10]"
      ]
    },
    {
      "cell_type": "code",
      "execution_count": 80,
      "metadata": {},
      "outputs": [
        {
          "name": "stdout",
          "output_type": "stream",
          "text": [
            "2025-08-18 10:14:02,625 [DEBUG] src.llm.mapping_two_pass: Starting mapping generation for 10 slides and 6 sections\n",
            "2025-08-18 10:15:20,967 [INFO] httpx: HTTP Request: POST https://api.openai.com/v1/responses \"HTTP/1.1 200 OK\"\n",
            "2025-08-18 10:15:20,996 [DEBUG] src.llm.mapping_two_pass: Successfully generated mapping with 13 entries\n"
          ]
        },
        {
          "data": {
            "text/plain": [
              "src.models.SectionSlideMapping"
            ]
          },
          "execution_count": 80,
          "metadata": {},
          "output_type": "execute_result"
        }
      ],
      "source": [
        "mapping_builder = MappingTwoPass()\n",
        "\n",
        "mapping = mapping_builder.build_mapping(slides=slides, outline=outline) \n",
        "\n",
        "type(mapping)"
      ]
    },
    {
      "cell_type": "code",
      "execution_count": 82,
      "metadata": {},
      "outputs": [
        {
          "name": "stdout",
          "output_type": "stream",
          "text": [
            "Section-to-Slides Mapping:\n",
            "============================================================\n",
            "\n",
            "[Root] SEC_1\n",
            "Title: Introduction\n",
            "Slides: 2 slide(s)\n",
            "Slide IDs: SL_002, SL_003\n",
            "\n",
            "  [Level 1] SEC_1.1\n",
            "  Title: Notions fondamentales\n",
            "  Slides: 7 slide(s)\n",
            "  Slide IDs: SL_004, SL_005, SL_006, SL_007, SL_008, SL_009, SL_010\n",
            "\n",
            "[Root] SEC_2\n",
            "Title: Le génome humain\n",
            "Slides: 1 slide(s)\n",
            "Slide IDs: SL_001\n",
            "\n",
            "  [Level 1] SEC_2.1\n",
            "  Title: Projet de séquençage\n",
            "  Slides: 1 slide(s)\n",
            "  Slide IDs: SL_002\n",
            "\n",
            "  [Level 1] SEC_2.2\n",
            "  Title: Architecture globale\n",
            "  Slides: 1 slide(s)\n",
            "  Slide IDs: SL_001\n",
            "\n",
            "    [Level 2] SEC_2.2.1\n",
            "    Title: Génome mitochondrial\n",
            "    Slides: 1 slide(s)\n",
            "    Slide IDs: SL_001\n",
            "\n",
            "    [Level 2] SEC_2.2.2\n",
            "    Title: Génome nucléaire\n",
            "    Slides: 1 slide(s)\n",
            "    Slide IDs: SL_001\n",
            "\n",
            "  [Level 1] SEC_2.3\n",
            "  Title: Description des principaux éléments constituants\n",
            "  Slides: 1 slide(s)\n",
            "  Slide IDs: SL_001\n",
            "\n",
            "    [Level 2] SEC_2.3.1\n",
            "    Title: Gènes (codants et non-codants), pseudogènes et éléments répétés\n",
            "    Slides: 1 slide(s)\n",
            "    Slide IDs: SL_001\n",
            "\n",
            "[Root] SEC_3\n",
            "Title: Comparaison aux autres génomes\n",
            "Slides: 2 slide(s)\n",
            "Slide IDs: SL_005, SL_009\n",
            "\n",
            "[Root] SEC_4\n",
            "Title: Les types de variations du génome humain et leurs conséquences\n",
            "Slides: 1 slide(s)\n",
            "Slide IDs: SL_009\n",
            "\n",
            "[Root] SEC_5\n",
            "Title: La variabilité du génome humain\n",
            "Slides: 1 slide(s)\n",
            "Slide IDs: SL_006\n",
            "\n",
            "[Root] SEC_6\n",
            "Title: Evolution des génomes: notions essentielles, mécanismes\n",
            "Slides: 2 slide(s)\n",
            "Slide IDs: SL_004, SL_006\n"
          ]
        }
      ],
      "source": [
        "print(mapping.visualize_mapping(outline))"
      ]
    },
    {
      "cell_type": "code",
      "execution_count": 87,
      "metadata": {},
      "outputs": [
        {
          "name": "stdout",
          "output_type": "stream",
          "text": [
            "Course Outline:\n",
            "==================================================\n",
            "Introduction\n",
            "  Notions fondamentales\n",
            "Le génome humain\n",
            "  Projet de séquençage\n",
            "  Architecture globale\n",
            "    Génome mitochondrial\n",
            "    Génome nucléaire\n",
            "  Description des principaux éléments constituants\n",
            "    Gènes (codants et non-codants), pseudogènes et éléments répétés\n",
            "Comparaison aux autres génomes\n",
            "Les types de variations du génome humain et leurs conséquences\n",
            "La variabilité du génome humain\n",
            "Evolution des génomes: notions essentielles, mécanismes\n"
          ]
        }
      ],
      "source": [
        "course_with_slides = outline.enrich_with_slides(slides=slides, mapping=mapping)\n",
        "\n",
        "print(course_with_slides.print_outline())"
      ]
    },
    {
      "cell_type": "markdown",
      "metadata": {},
      "source": [
        "## Write the course"
      ]
    },
    {
      "cell_type": "code",
      "execution_count": 84,
      "metadata": {},
      "outputs": [
        {
          "name": "stdout",
          "output_type": "stream",
          "text": [
            "2025-08-18 10:16:07,926 [DEBUG] src.llm.writer: Starting content enhancement for 6 sections\n",
            "2025-08-18 10:19:58,868 [INFO] httpx: HTTP Request: POST https://api.openai.com/v1/responses \"HTTP/1.1 200 OK\"\n",
            "2025-08-18 10:19:58,980 [DEBUG] src.llm.writer: Successfully enhanced content with 6 sections\n"
          ]
        },
        {
          "data": {
            "text/plain": [
              "src.models.Content"
            ]
          },
          "execution_count": 84,
          "metadata": {},
          "output_type": "execute_result"
        }
      ],
      "source": [
        "writer = Writer()\n",
        "\n",
        "course = writer.write_course(enriched_content=course_with_slides)\n",
        "type(course)"
      ]
    },
    {
      "cell_type": "code",
      "execution_count": 89,
      "metadata": {},
      "outputs": [
        {
          "data": {
            "text/plain": [
              "src.models.Content"
            ]
          },
          "execution_count": 89,
          "metadata": {},
          "output_type": "execute_result"
        }
      ],
      "source": [
        "type(course)"
      ]
    },
    {
      "cell_type": "code",
      "execution_count": 88,
      "metadata": {},
      "outputs": [
        {
          "ename": "ValidationError",
          "evalue": "1 validation error for Course\ncontent\n  Input should be a valid dictionary or instance of Content [type=model_type, input_value=Content(sections=[Content...ides=None, mapping=None), input_type=Content]\n    For further information visit https://errors.pydantic.dev/2.11/v/model_type",
          "output_type": "error",
          "traceback": [
            "\u001b[0;31m---------------------------------------------------------------------------\u001b[0m",
            "\u001b[0;31mValidationError\u001b[0m                           Traceback (most recent call last)",
            "Cell \u001b[0;32mIn[88], line 1\u001b[0m\n\u001b[0;32m----> 1\u001b[0m test_course \u001b[38;5;241m=\u001b[39m \u001b[43mCourse\u001b[49m\u001b[43m(\u001b[49m\n\u001b[1;32m      2\u001b[0m \u001b[43m    \u001b[49m\u001b[43mname\u001b[49m\u001b[38;5;241;43m=\u001b[39;49m\u001b[38;5;124;43m\"\u001b[39;49m\u001b[38;5;124;43mArchitecture du génome humain\u001b[39;49m\u001b[38;5;124;43m\"\u001b[39;49m\u001b[43m,\u001b[49m\n\u001b[1;32m      3\u001b[0m \u001b[43m    \u001b[49m\u001b[43mcourse_title\u001b[49m\u001b[38;5;241;43m=\u001b[39;49m\u001b[38;5;124;43m\"\u001b[39;49m\u001b[38;5;124;43mArchitecture du génome humain\u001b[39;49m\u001b[38;5;124;43m\"\u001b[39;49m\u001b[43m,\u001b[49m\n\u001b[1;32m      4\u001b[0m \u001b[43m    \u001b[49m\u001b[43mlevel\u001b[49m\u001b[38;5;241;43m=\u001b[39;49m\u001b[38;5;124;43m\"\u001b[39;49m\u001b[38;5;124;43mL1\u001b[39;49m\u001b[38;5;124;43m\"\u001b[39;49m\u001b[43m,\u001b[49m\n\u001b[1;32m      5\u001b[0m \u001b[43m    \u001b[49m\u001b[43mblock\u001b[49m\u001b[38;5;241;43m=\u001b[39;49m\u001b[38;5;124;43m\"\u001b[39;49m\u001b[38;5;124;43mSANTE\u001b[39;49m\u001b[38;5;124;43m\"\u001b[39;49m\u001b[43m,\u001b[49m\n\u001b[1;32m      6\u001b[0m \u001b[43m    \u001b[49m\u001b[43msemester\u001b[49m\u001b[38;5;241;43m=\u001b[39;49m\u001b[38;5;124;43m\"\u001b[39;49m\u001b[38;5;124;43mS1\u001b[39;49m\u001b[38;5;124;43m\"\u001b[39;49m\u001b[43m,\u001b[49m\n\u001b[1;32m      7\u001b[0m \u001b[43m    \u001b[49m\u001b[43msubject\u001b[49m\u001b[38;5;241;43m=\u001b[39;49m\u001b[38;5;124;43m\"\u001b[39;49m\u001b[38;5;124;43mUE-1 Constitution et transformation de la matière\u001b[39;49m\u001b[38;5;124;43m\"\u001b[39;49m\u001b[43m,\u001b[49m\n\u001b[1;32m      8\u001b[0m \u001b[43m    \u001b[49m\u001b[43mcontent\u001b[49m\u001b[38;5;241;43m=\u001b[39;49m\u001b[43mcourse\u001b[49m\n\u001b[1;32m      9\u001b[0m \u001b[43m)\u001b[49m\n\u001b[1;32m     11\u001b[0m \u001b[38;5;28mprint\u001b[39m(test_course\u001b[38;5;241m.\u001b[39mprint_outline())\n",
            "File \u001b[0;32m~/Documents/formascience/class_parser/.venv/lib/python3.11/site-packages/pydantic/main.py:253\u001b[0m, in \u001b[0;36mBaseModel.__init__\u001b[0;34m(self, **data)\u001b[0m\n\u001b[1;32m    251\u001b[0m \u001b[38;5;66;03m# `__tracebackhide__` tells pytest and some other tools to omit this function from tracebacks\u001b[39;00m\n\u001b[1;32m    252\u001b[0m __tracebackhide__ \u001b[38;5;241m=\u001b[39m \u001b[38;5;28;01mTrue\u001b[39;00m\n\u001b[0;32m--> 253\u001b[0m validated_self \u001b[38;5;241m=\u001b[39m \u001b[38;5;28;43mself\u001b[39;49m\u001b[38;5;241;43m.\u001b[39;49m\u001b[43m__pydantic_validator__\u001b[49m\u001b[38;5;241;43m.\u001b[39;49m\u001b[43mvalidate_python\u001b[49m\u001b[43m(\u001b[49m\u001b[43mdata\u001b[49m\u001b[43m,\u001b[49m\u001b[43m \u001b[49m\u001b[43mself_instance\u001b[49m\u001b[38;5;241;43m=\u001b[39;49m\u001b[38;5;28;43mself\u001b[39;49m\u001b[43m)\u001b[49m\n\u001b[1;32m    254\u001b[0m \u001b[38;5;28;01mif\u001b[39;00m \u001b[38;5;28mself\u001b[39m \u001b[38;5;129;01mis\u001b[39;00m \u001b[38;5;129;01mnot\u001b[39;00m validated_self:\n\u001b[1;32m    255\u001b[0m     warnings\u001b[38;5;241m.\u001b[39mwarn(\n\u001b[1;32m    256\u001b[0m         \u001b[38;5;124m'\u001b[39m\u001b[38;5;124mA custom validator is returning a value other than `self`.\u001b[39m\u001b[38;5;130;01m\\n\u001b[39;00m\u001b[38;5;124m'\u001b[39m\n\u001b[1;32m    257\u001b[0m         \u001b[38;5;124m\"\u001b[39m\u001b[38;5;124mReturning anything other than `self` from a top level model validator isn\u001b[39m\u001b[38;5;124m'\u001b[39m\u001b[38;5;124mt supported when validating via `__init__`.\u001b[39m\u001b[38;5;130;01m\\n\u001b[39;00m\u001b[38;5;124m\"\u001b[39m\n\u001b[1;32m    258\u001b[0m         \u001b[38;5;124m'\u001b[39m\u001b[38;5;124mSee the `model_validator` docs (https://docs.pydantic.dev/latest/concepts/validators/#model-validators) for more details.\u001b[39m\u001b[38;5;124m'\u001b[39m,\n\u001b[1;32m    259\u001b[0m         stacklevel\u001b[38;5;241m=\u001b[39m\u001b[38;5;241m2\u001b[39m,\n\u001b[1;32m    260\u001b[0m     )\n",
            "\u001b[0;31mValidationError\u001b[0m: 1 validation error for Course\ncontent\n  Input should be a valid dictionary or instance of Content [type=model_type, input_value=Content(sections=[Content...ides=None, mapping=None), input_type=Content]\n    For further information visit https://errors.pydantic.dev/2.11/v/model_type"
          ]
        }
      ],
      "source": [
        "test_course = Course(\n",
        "    name=\"Architecture du génome humain\",\n",
        "    course_title=\"Architecture du génome humain\",\n",
        "    level=\"L1\",\n",
        "    block=\"SANTE\",\n",
        "    semester=\"S1\",\n",
        "    subject=\"UE-1 Constitution et transformation de la matière\",\n",
        "    content=course\n",
        ")\n",
        "\n",
        "print(test_course.print_outline())"
      ]
    },
    {
      "cell_type": "code",
      "execution_count": 90,
      "metadata": {},
      "outputs": [
        {
          "name": "stdout",
          "output_type": "stream",
          "text": [
            "Course content annotation -> <class 'src.models.Content'> src.models\n",
            "Returned content instance -> <class 'src.models.Content'> src.models\n",
            "Same class object? -> False\n"
          ]
        }
      ],
      "source": [
        "from src.models import Content as ModelsContent\n",
        "print(\"Course content annotation ->\", ModelsContent, ModelsContent.__module__)\n",
        "\n",
        "print(\"Returned content instance ->\", type(course), type(course).__module__)\n",
        "\n",
        "print(\"Same class object? ->\", type(course) is ModelsContent)"
      ]
    },
    {
      "cell_type": "markdown",
      "metadata": {},
      "source": [
        "## Tests\n"
      ]
    },
    {
      "cell_type": "code",
      "execution_count": 64,
      "metadata": {},
      "outputs": [
        {
          "name": "stdout",
          "output_type": "stream",
          "text": [
            "🔁 Imports refreshed\n"
          ]
        },
        {
          "data": {
            "text/plain": [
              "({'slides_pdf': '/Users/youssefjanjar/Documents/formascience/class_parser/volume/slides/cours_1.pdf',\n",
              "  'plan_page': 2},\n",
              " {'save_json': True,\n",
              "  'save_docx': True,\n",
              "  'template_path': '/Users/youssefjanjar/Documents/formascience/class_parser/volume/templates/fs_template.docx',\n",
              "  'output_dir': '/Users/youssefjanjar/Documents/formascience/class_parser/volume/artifacts'},\n",
              " CourseMetadata(name='Architecture du génome humain', course_title='Architecture du génome humain', level='L1', block='SANTE', semester='S1', subject='UE-1 - Les bases de la biologie', chapter=None, year=2024, professor='Youssef Janjar'))"
            ]
          },
          "execution_count": 64,
          "metadata": {},
          "output_type": "execute_result"
        }
      ],
      "source": [
        "refresh_imports()\n",
        "\n",
        "from src.models import PipelineConfig\n",
        "\n",
        "config = PipelineConfig.load(\"pipeline.yaml\")\n",
        "config.inputs, config.outputs, config.metadata"
      ]
    },
    {
      "cell_type": "code",
      "execution_count": 65,
      "metadata": {},
      "outputs": [
        {
          "data": {
            "text/plain": [
              "['architecture_du_génome_humain_20250817_224951.json',\n",
              " '.DS_Store',\n",
              " 'architecture_du_génome_humain_filled.docx',\n",
              " 'docx']"
            ]
          },
          "execution_count": 65,
          "metadata": {},
          "output_type": "execute_result"
        }
      ],
      "source": [
        "import os \n",
        "os.listdir(config.outputs['output_dir'])"
      ]
    },
    {
      "cell_type": "code",
      "execution_count": 66,
      "metadata": {},
      "outputs": [
        {
          "name": "stdout",
          "output_type": "stream",
          "text": [
            "Course Outline:\n",
            "==================================================\n",
            "Introduction\n",
            "  Notions fondamentales\n",
            "Le génome humain\n",
            "  Projet de séquençage\n",
            "  Architecture globale\n",
            "    Génome mitochondrial\n",
            "    Génome nucléaire\n",
            "  Description des principaux éléments constituants\n",
            "    Gènes (codants et non-codants), pseudogènes et éléments répétés\n",
            "Comparaison aux autres génomes\n",
            "Les types de variations du génome humain et leurs conséquences\n",
            "La variabilité du génome humain\n",
            "Evolution des génomes: notions essentielles, mécanismes\n"
          ]
        }
      ],
      "source": [
        "from src.course import Course\n",
        "\n",
        "course = Course.load_from_json(config.outputs['output_dir']+'/architecture_du_génome_humain_20250817_224951.json')\n",
        "\n",
        "print(course.content.print_outline())"
      ]
    },
    {
      "cell_type": "code",
      "execution_count": 67,
      "metadata": {},
      "outputs": [
        {
          "name": "stdout",
          "output_type": "stream",
          "text": [
            "💾 Course saved to: /Users/youssefjanjar/Documents/formascience/class_parser/volume/artifacts/json/architecture_du_génome_humain_20250818_082858.json\n"
          ]
        },
        {
          "data": {
            "text/plain": [
              "'/Users/youssefjanjar/Documents/formascience/class_parser/volume/artifacts/json/architecture_du_génome_humain_20250818_082858.json'"
            ]
          },
          "execution_count": 67,
          "metadata": {},
          "output_type": "execute_result"
        }
      ],
      "source": [
        "course.save_to_json(output_path=config.outputs['output_dir'])"
      ]
    },
    {
      "cell_type": "code",
      "execution_count": 61,
      "metadata": {},
      "outputs": [
        {
          "name": "stdout",
          "output_type": "stream",
          "text": [
            "📄 Course exported to DOCX: /Users/youssefjanjar/Documents/formascience/class_parser/volume/artifacts/docx/architecture_du_génome_humain.docx\n"
          ]
        },
        {
          "data": {
            "text/plain": [
              "'/Users/youssefjanjar/Documents/formascience/class_parser/volume/artifacts/docx/architecture_du_génome_humain.docx'"
            ]
          },
          "execution_count": 61,
          "metadata": {},
          "output_type": "execute_result"
        }
      ],
      "source": [
        "course.to_docx(template_path=config.outputs['template_path'], output_path=config.outputs['output_dir']+'/docx')"
      ]
    },
    {
      "cell_type": "markdown",
      "metadata": {},
      "source": [
        "# Testing the pipeline"
      ]
    },
    {
      "cell_type": "code",
      "execution_count": 68,
      "metadata": {},
      "outputs": [
        {
          "name": "stdout",
          "output_type": "stream",
          "text": [
            "Current working directory: /Users/youssefjanjar/Documents/formascience/class_parser\n",
            "Root folder (pathlib): /Users/youssefjanjar/Documents/formascience/class_parser\n",
            "Absolute path: /Users/youssefjanjar/Documents/formascience/class_parser\n",
            "\n",
            "Contents of root folder:\n",
            "📁 .cursor/\n",
            "📄 .DS_Store\n",
            "📄 create_structure.sh\n",
            "📁 audio_extractor/\n",
            "📄 pyproject.toml\n",
            "📄 data_structure.md\n",
            "📁 tests/\n",
            "📁 __pycache__/\n",
            "📄 README.md\n",
            "📁 .mypy_cache/\n",
            "📄 .gitignore\n",
            "📄 diagram.mermaid\n",
            "📄 .env\n",
            "📁 .venv/\n",
            "📄 pipeline.yaml\n",
            "📄 poetry.lock\n",
            "📁 .git/\n",
            "📄 main.py\n",
            "📄 test_workflow.ipynb\n",
            "📁 data/\n",
            "📁 volume/\n",
            "📁 notebooks/\n",
            "📁 src/\n"
          ]
        }
      ],
      "source": [
        "import os\n",
        "from pathlib import Path\n",
        "\n",
        "# Print current working directory\n",
        "print(\"Current working directory:\", os.getcwd())\n",
        "\n",
        "# Print root folder using pathlib\n",
        "root_path = Path.cwd()\n",
        "print(\"Root folder (pathlib):\", root_path)\n",
        "\n",
        "# Print absolute path\n",
        "print(\"Absolute path:\", root_path.absolute())\n",
        "\n",
        "# List contents of root folder\n",
        "print(\"\\nContents of root folder:\")\n",
        "for item in root_path.iterdir():\n",
        "    if item.is_dir():\n",
        "        print(f\"📁 {item.name}/\")\n",
        "    else:\n",
        "        print(f\"📄 {item.name}\")\n"
      ]
    },
    {
      "cell_type": "code",
      "execution_count": 1,
      "metadata": {},
      "outputs": [
        {
          "ename": "ValidationError",
          "evalue": "1 validation error for CourseMetadata\nchapter\n  Input should be a valid string [type=string_type, input_value=4, input_type=int]\n    For further information visit https://errors.pydantic.dev/2.11/v/string_type",
          "output_type": "error",
          "traceback": [
            "\u001b[0;31m---------------------------------------------------------------------------\u001b[0m",
            "\u001b[0;31mValidationError\u001b[0m                           Traceback (most recent call last)",
            "Cell \u001b[0;32mIn[1], line 21\u001b[0m\n\u001b[1;32m     19\u001b[0m pipeline \u001b[38;5;241m=\u001b[39m CoursePipeline()\n\u001b[1;32m     20\u001b[0m \u001b[38;5;66;03m# Method 1: Using config file\u001b[39;00m\n\u001b[0;32m---> 21\u001b[0m course \u001b[38;5;241m=\u001b[39m \u001b[43mpipeline\u001b[49m\u001b[38;5;241;43m.\u001b[39;49m\u001b[43mprocess_from_config\u001b[49m\u001b[43m(\u001b[49m\u001b[38;5;124;43m\"\u001b[39;49m\u001b[38;5;124;43mconfigs/cours_4.yaml\u001b[39;49m\u001b[38;5;124;43m\"\u001b[39;49m\u001b[43m)\u001b[49m\n\u001b[1;32m     24\u001b[0m \u001b[38;5;66;03m# Get processing statistics\u001b[39;00m\n\u001b[1;32m     25\u001b[0m stats \u001b[38;5;241m=\u001b[39m pipeline\u001b[38;5;241m.\u001b[39mget_processing_statistics(course)\n",
            "File \u001b[0;32m~/Documents/formascience/class_parser/src/pipeline.py:246\u001b[0m, in \u001b[0;36mCoursePipeline.process_from_config\u001b[0;34m(self, config_path)\u001b[0m\n\u001b[1;32m    238\u001b[0m \u001b[38;5;250m\u001b[39m\u001b[38;5;124;03m\"\"\"Read a YAML/JSON file and run the pipeline accordingly.\u001b[39;00m\n\u001b[1;32m    239\u001b[0m \n\u001b[1;32m    240\u001b[0m \u001b[38;5;124;03mExpected keys:\u001b[39;00m\n\u001b[0;32m   (...)\u001b[0m\n\u001b[1;32m    243\u001b[0m \u001b[38;5;124;03m  outputs:  { save_json?, save_docx?, template_path?, output_dir?, test_mode? }\u001b[39;00m\n\u001b[1;32m    244\u001b[0m \u001b[38;5;124;03m\"\"\"\u001b[39;00m\n\u001b[1;32m    245\u001b[0m \u001b[38;5;66;03m# Load and validate config using PipelineConfig\u001b[39;00m\n\u001b[0;32m--> 246\u001b[0m config \u001b[38;5;241m=\u001b[39m \u001b[43mPipelineConfig\u001b[49m\u001b[38;5;241;43m.\u001b[39;49m\u001b[43mload\u001b[49m\u001b[43m(\u001b[49m\u001b[43mconfig_path\u001b[49m\u001b[43m)\u001b[49m\n\u001b[1;32m    248\u001b[0m \u001b[38;5;66;03m# Validate minimal required fields\u001b[39;00m\n\u001b[1;32m    249\u001b[0m \u001b[38;5;28;01mif\u001b[39;00m \u001b[38;5;129;01mnot\u001b[39;00m config\u001b[38;5;241m.\u001b[39minputs\u001b[38;5;241m.\u001b[39mget(\u001b[38;5;124m\"\u001b[39m\u001b[38;5;124mslides_pdf\u001b[39m\u001b[38;5;124m\"\u001b[39m):\n",
            "File \u001b[0;32m~/Documents/formascience/class_parser/src/models.py:83\u001b[0m, in \u001b[0;36mPipelineConfig.load\u001b[0;34m(cls, path)\u001b[0m\n\u001b[1;32m     80\u001b[0m data\u001b[38;5;241m.\u001b[39msetdefault(\u001b[38;5;124m\"\u001b[39m\u001b[38;5;124minputs\u001b[39m\u001b[38;5;124m\"\u001b[39m, {})\n\u001b[1;32m     81\u001b[0m data\u001b[38;5;241m.\u001b[39msetdefault(\u001b[38;5;124m\"\u001b[39m\u001b[38;5;124moutputs\u001b[39m\u001b[38;5;124m\"\u001b[39m, {})\n\u001b[1;32m     82\u001b[0m \u001b[38;5;28;01mreturn\u001b[39;00m \u001b[38;5;28mcls\u001b[39m(\n\u001b[0;32m---> 83\u001b[0m     metadata\u001b[38;5;241m=\u001b[39m\u001b[43mCourseMetadata\u001b[49m\u001b[43m(\u001b[49m\u001b[38;5;241;43m*\u001b[39;49m\u001b[38;5;241;43m*\u001b[39;49m\u001b[43mdata\u001b[49m\u001b[43m[\u001b[49m\u001b[38;5;124;43m\"\u001b[39;49m\u001b[38;5;124;43mmetadata\u001b[39;49m\u001b[38;5;124;43m\"\u001b[39;49m\u001b[43m]\u001b[49m\u001b[43m)\u001b[49m,\n\u001b[1;32m     84\u001b[0m     inputs\u001b[38;5;241m=\u001b[39mdata[\u001b[38;5;124m\"\u001b[39m\u001b[38;5;124minputs\u001b[39m\u001b[38;5;124m\"\u001b[39m],\n\u001b[1;32m     85\u001b[0m     outputs\u001b[38;5;241m=\u001b[39mdata[\u001b[38;5;124m\"\u001b[39m\u001b[38;5;124moutputs\u001b[39m\u001b[38;5;124m\"\u001b[39m],\n\u001b[1;32m     86\u001b[0m )\n",
            "File \u001b[0;32m~/Documents/formascience/class_parser/.venv/lib/python3.11/site-packages/pydantic/main.py:253\u001b[0m, in \u001b[0;36mBaseModel.__init__\u001b[0;34m(self, **data)\u001b[0m\n\u001b[1;32m    251\u001b[0m \u001b[38;5;66;03m# `__tracebackhide__` tells pytest and some other tools to omit this function from tracebacks\u001b[39;00m\n\u001b[1;32m    252\u001b[0m __tracebackhide__ \u001b[38;5;241m=\u001b[39m \u001b[38;5;28;01mTrue\u001b[39;00m\n\u001b[0;32m--> 253\u001b[0m validated_self \u001b[38;5;241m=\u001b[39m \u001b[38;5;28;43mself\u001b[39;49m\u001b[38;5;241;43m.\u001b[39;49m\u001b[43m__pydantic_validator__\u001b[49m\u001b[38;5;241;43m.\u001b[39;49m\u001b[43mvalidate_python\u001b[49m\u001b[43m(\u001b[49m\u001b[43mdata\u001b[49m\u001b[43m,\u001b[49m\u001b[43m \u001b[49m\u001b[43mself_instance\u001b[49m\u001b[38;5;241;43m=\u001b[39;49m\u001b[38;5;28;43mself\u001b[39;49m\u001b[43m)\u001b[49m\n\u001b[1;32m    254\u001b[0m \u001b[38;5;28;01mif\u001b[39;00m \u001b[38;5;28mself\u001b[39m \u001b[38;5;129;01mis\u001b[39;00m \u001b[38;5;129;01mnot\u001b[39;00m validated_self:\n\u001b[1;32m    255\u001b[0m     warnings\u001b[38;5;241m.\u001b[39mwarn(\n\u001b[1;32m    256\u001b[0m         \u001b[38;5;124m'\u001b[39m\u001b[38;5;124mA custom validator is returning a value other than `self`.\u001b[39m\u001b[38;5;130;01m\\n\u001b[39;00m\u001b[38;5;124m'\u001b[39m\n\u001b[1;32m    257\u001b[0m         \u001b[38;5;124m\"\u001b[39m\u001b[38;5;124mReturning anything other than `self` from a top level model validator isn\u001b[39m\u001b[38;5;124m'\u001b[39m\u001b[38;5;124mt supported when validating via `__init__`.\u001b[39m\u001b[38;5;130;01m\\n\u001b[39;00m\u001b[38;5;124m\"\u001b[39m\n\u001b[1;32m    258\u001b[0m         \u001b[38;5;124m'\u001b[39m\u001b[38;5;124mSee the `model_validator` docs (https://docs.pydantic.dev/latest/concepts/validators/#model-validators) for more details.\u001b[39m\u001b[38;5;124m'\u001b[39m,\n\u001b[1;32m    259\u001b[0m         stacklevel\u001b[38;5;241m=\u001b[39m\u001b[38;5;241m2\u001b[39m,\n\u001b[1;32m    260\u001b[0m     )\n",
            "\u001b[0;31mValidationError\u001b[0m: 1 validation error for CourseMetadata\nchapter\n  Input should be a valid string [type=string_type, input_value=4, input_type=int]\n    For further information visit https://errors.pydantic.dev/2.11/v/string_type"
          ]
        }
      ],
      "source": [
        "import logging\n",
        "import sys\n",
        "from pathlib import Path\n",
        "\n",
        "from src.pipeline import CoursePipeline\n",
        "from src.models import CourseMetadata\n",
        "\n",
        "# Configure logging level\n",
        "logging.basicConfig(\n",
        "    level=logging.INFO,  # Change to DEBUG for more detailed logs, WARNING for less\n",
        "    format='%(asctime)s - %(name)s - %(levelname)s - %(message)s',\n",
        "    handlers=[\n",
        "        logging.StreamHandler(),  # Console output\n",
        "        logging.FileHandler('pipeline.log')  # Optional: save to file\n",
        "    ]\n",
        ")\n",
        "\n",
        "# Initialize the pipeline\n",
        "pipeline = CoursePipeline()\n",
        "# Method 1: Using config file\n",
        "course = pipeline.process_from_config(\"configs/cours_4.yaml\")\n",
        "\n",
        "\n",
        "# Get processing statistics\n",
        "stats = pipeline.get_processing_statistics(course)\n",
        "print(f\"Processed {stats['total_sections']} sections from {stats['total_slides']} slides\")"
      ]
    },
    {
      "cell_type": "code",
      "execution_count": 9,
      "metadata": {},
      "outputs": [
        {
          "data": {
            "text/plain": [
              "'/Users/youssefjanjar/Documents/formascience/class_parser/volume/artifacts/json/architecture_du_génome_humain_20250818_114200.json'"
            ]
          },
          "execution_count": 9,
          "metadata": {},
          "output_type": "execute_result"
        }
      ],
      "source": [
        "import os\n",
        "\n",
        "jsons = os.listdir(\"/Users/youssefjanjar/Documents/formascience/class_parser/volume/artifacts/json/\")\n",
        "file_path = \"/Users/youssefjanjar/Documents/formascience/class_parser/volume/artifacts/json/\" + jsons[-1]\n",
        "\n",
        "file_path"
      ]
    },
    {
      "cell_type": "code",
      "execution_count": 10,
      "metadata": {},
      "outputs": [
        {
          "data": {
            "text/plain": [
              "Course(name='Architecture du génome humain', course_title='Architecture du génome humain', level='L1', block='SANTE', semester='S1', subject='UE-1', chapter=None, content=Content(sections=[ContentSection(id='SEC_1', title='Introduction', content=[\"Ce cours propose une vue d'ensemble de la biologie des molécules du vivant, centrée sur la structure, la fonction, la variabilité et l'évolution du génome humain. Les thèmes abordés couvrent les notions fondamentales d'évolution et d'homologie, la description du génome humain (nucléaire et mitochondrial), le projet de séquençage, l'architecture globale du génome, les principaux constituants (gènes codants et non codants, pseudogènes, éléments répétés), la comparaison avec d'autres génomes, les types de variations génomiques et leurs conséquences, ainsi que les mécanismes évolutifs responsables des remaniements génomiques.\", \"L'objectif pédagogique est de fournir aux étudiants les concepts et le vocabulaire nécessaires pour comprendre comment le génome est organisé, comment il varie entre individus et espèces, et comment ces variations peuvent conduire à des phénotypes ou à des innovations évolutives. Le cours vise également à familiariser les étudiants avec les outils d'exploration du génome et avec les grandes étapes historiques et méthodologiques qui ont conduit à la séquence de référence du génome humain.\"], subsections=[ContentSection(id='SEC_1.1', title='Notions fondamentales', content=[\"La représentation phylogénétique des êtres vivants illustre des notions essentielles telles que l'évolution, le temps, l'adaptation et la sélection. Les caractéristiques partagées entre espèces sont interprétées à la lumière d'ancêtres communs hypothétiques, le concept de LUCA (Last Universal Common Ancestor) restant un repère pour la compréhension des origines moléculaires et cellulaires.\", \"Le choix d'organismes modèles en biologie repose sur des critères pratiques et théoriques : intérêts économique et technique, facilité d'hébergement et de manipulation, durée de génération, développement embryonnaire, et degré de conservation de mécanismes moléculaires pertinents. Ces critères orientent l'utilisation d'organismes permettant d'aborder des questions biologiques générales à l'aide d'approches expérimentales robustes.\", \"L'homologie est une notion centrale en biologie évolutive et moléculaire : deux caractères homologues sont hérités d'un ancêtre commun, contrairement à des caractères analogues issus d'évolution convergente. Au niveau des gènes, on distingue notamment l'orthologie — gènes homologues séparés par une spéciation — et la paralogie — gènes homologues issus d'une duplication intragénique ou intergénique.\", \"La détermination de l'homologie repose largement sur l'alignement de séquences et l'estimation du pourcentage d'identité ou de similarité entre séquences protéiques ou nucléotidiques. Des seuils empiriques existent (la significativité dépendant des familles protéiques), mais des similarités faibles n'excluent pas une homologie réelle en raison de convergence ou de hasard dans des régions de faible complexité. Enfin, la biologie du gène s'inscrit dans le cadre du dogme central où l'information génétique est transmise et interprétée via les flux ADN → ARN → protéine.\"], subsections=[])]), ContentSection(id='SEC_2', title='Le génome humain', content=[\"Le génome humain se compose de deux compartiments principaux : le génome nucléaire, réparti en 22 paires d'autosomes et une paire de chromosomes sexuels (X et Y), et le génome mitochondrial, présent sous forme de molécule circulaire indépendante. Cette organisation implique des modalités d'héritage et de régulation distinctes entre l'ADN nucléaire et l'ADN mitochondrial.\", \"Le concept de génome haploïde et diploïde est central pour comprendre la constitution chromosomique : la cellule somatique humaine est diploïde et porte généralement deux copies de chaque chromosome autosomique, l'une d'origine maternelle et l'autre d'origine paternelle. Les représentations cytogénétiques (karyotype) et l'organisation chromosomique varient selon l'état cellulaire (par exemple métaphase vs interphase), ce qui influence la visualisation et l'analyse des chromosomes.\"], subsections=[ContentSection(id='SEC_2.1', title='Projet de séquençage', content=[\"La détermination de la séquence complète du génome humain a été entreprise dans le cadre d'un effort international d'envergure, combinant cartographie génétique et cartographie physique avant l'ère des technologies de séquençage à haut débit. Le projet a ciblé en priorité l'euchromatine, la fraction du génome la plus riche en gènes et en éléments informatifs pour l'annotation fonctionnelle.\", 'Sur le plan opérationnel, la cartographie génétique a reposé sur des fréquences de recombinaison exprimées en centimorgans tandis que la cartographie physique a permis de positionner des marqueurs en kilobases ou mégabases. Après des années de travail réparti entre plusieurs centres, des versions de brouillon puis finalisées de la séquence de référence ont été publiées ; néanmoins, la séquence de référence a été et demeure progressivement améliorée au gré des avancées technologiques et des nouvelles annotations.'], subsections=[]), ContentSection(id='SEC_2.2', title='Architecture globale', content=[\"L'architecture du génome humain se déploie à plusieurs échelles — du chromosome entier aux régions localisées et jusqu'à la séquence nucléotidique — et nécessite des outils d'exploration permettant un zoom progressif et l'accès à des annotations multiples (gènes, protéines, conservation évolutive, etc.). Les navigateurs génomiques modernes rendent ces couches d'information accessibles et facilitent l'investigation comparative et fonctionnelle.\", \"Sur le plan évolutif, seule une fraction limitée du génome est fortement conservée entre espèces ; des estimations indiquent qu'environ 5 % du génome humain présente une conservation marquée au cours de l'évolution, ces régions correspondant majoritairement à des éléments fonctionnels conservés (ex. exons codants, éléments régulateurs). Le reste du génome contient de nombreux éléments spécifiques, répétitifs ou faiblement contraints, qui participent à la diversité génomique.\"], subsections=[ContentSection(id='SEC_2.2.1', title='Génome mitochondrial', content=[\"Le génome mitochondrial humain est une petite molécule circulaire d'environ 16,6 kilobases, compacte et riche en information fonctionnelle. Il contient 37 gènes au total, dont 13 codant pour des protéines impliquées dans la phosphorylation oxydative et 24 ARN de transfert et ribosomaux nécessaires à la traduction mitochondriale.\", \"Sur le plan évolutif et structural, le génome mitochondrial présente des similarités avec les génomes bactériens, ce qui soutient l'hypothèse d'une origine endosymbiotique. Son hérédité est majoritairement maternelle et il existe un grand nombre de copies par cellule (souvent >1000), avec la possibilité d'hétéroplasmie — c'est‑à‑dire la coexistence de génomes mitochondriaux différents au sein d'un même individu, variant selon le tissu et l'âge.\", \"Comparativement aux génomes mitochondriaux d'autres espèces, il existe une forte variabilité de taille et d'organisation : certains organismes présentent des mitochondries beaucoup plus volumineuses ou différemment organisées, et le nombre total de gènes mitochondriaux varie selon les lignées, ce qui illustre la plasticité de ce compartiment génomique.\"], subsections=[]), ContentSection(id='SEC_2.2.2', title='Génome nucléaire', content=[\"Le génome nucléaire humain a une taille haploïde d'environ 3,1 gigabases. Sa séquence de référence a été produite progressivement à partir d'un brouillon publicisé au début des années 2000 et les efforts d'achèvement et d'amélioration se sont poursuivis jusqu'aux récentes versions de référence complètes.\", \"Fonctionnellement, le génome nucléaire est partitionné en régions d'euchromatine, relativement richement pourvues en gènes et transcriptionnellement actives, et en hétérochromatine constitutive, plus condensée et généralement transcriptionnellement inerte. Dans l'ensemble, l'euchromatine représente la majeure partie du matériel transcrit, tandis que la portion hétérochromatique contient de nombreuses séquences répétées et satellites.\", \"En comparaison avec le génome mitochondrial, le génome nucléaire présente une densité de gènes beaucoup plus faible et une représentation importante d'introns et d'éléments répétitifs ; il est hérité de façon mendélienne via des allèles d'origine paternelle et maternelle, alors que le génome mitochondrial est transmis quasi exclusivement par la mère.\"], subsections=[])]), ContentSection(id='SEC_2.3', title='Description des principaux éléments constituants', content=[\"Le génome humain est composé de différents types d'éléments : gènes codants et non codants, pseudogènes, et une grande proportion d'éléments répétés répartis selon des modalités diverses. Chacun de ces constituants présente des caractéristiques structurales et fonctionnelles spécifiques que l'on doit connaître pour interpréter les annotations génomiques.\", \"L'étude détaillée de ces éléments permet de relier la structure génomique à la fonction moléculaire et aux phénomènes évolutifs ; les sections suivantes décrivent successivement la définition et l'organisation des gènes, la nature et l'origine des pseudogènes, ainsi que la classification et les mécanismes d'action des éléments répétitifs.\"], subsections=[ContentSection(id='SEC_2.3.1', title='Gènes (codants et non-codants), pseudogènes et éléments répétés', content=[\"Un gène peut être défini comme un segment d'ADN utilisé comme matrice pour la synthèse d'un ARN simple brin. Les ARN issus de ces transcriptions peuvent être codants (ARNm, porteurs d'information pour la traduction) ou non codants (ARNt, ARNr, miARN, snARN, snoARN, lncARN, etc.), et ces derniers remplissent des fonctions variées liées à la traduction, à la régulation et au remodelage chromatinien.\", \"Le génome humain compte aux alentours de 20 000 gènes codants responsables d'environ 35 Mb de séquences codantes (≈1,1 % du génome) et un nombre significatif d'ARN non codants — plusieurs dizaines de milliers selon les annotations récentes. Le nombre total de loci transcrits estimé (codants + non codants) se stabilise autour de valeurs proches de 60 000, bien que ce chiffre puisse évoluer avec l'amélioration des annotations.\", \"Les gènes varient grandement en taille et en architecture : la taille moyenne d'un gène est de l'ordre de quelques dizaines de kilobases, mais l'étendue va de quelques centaines de paires de bases à plusieurs mégabases pour des gènes comme DMD. Le nombre et la taille des exons et des introns sont également très variables et conditionnent la complexité des isoformes transcriptionnelles.\", \"Sur le plan organisationnel, les gènes peuvent être dispersés ou regroupés en clusters résultant souvent de duplications en tandem. Ces clusters rassemblent fréquemment des gènes homologues partageant un sens de transcription et parfois des pseudogènes dérivés locaux ; des exemples marquants incluent les familles d'histones et les récepteurs olfactifs où l'organisation en clusters est associée à des expansions fonctionnelles.\", \"Les gènes non codants comprennent des familles abondantes et multi‑copies : par exemple, on rencontre plusieurs centaines de copies d'ARNt (et de pseudogènes associés) et des répétitions d'unités ARNr (5S, 45S) dont le recensement exhaustif reste techniquement difficile en raison de leur présence dans des régions hautement répétées non toujours résolues dans les assemblages.\", \"Les pseudogènes sont des copies généralement inactives de gènes fonctionnels et se répartissent en trois catégories principales : pseudogènes processés (issus de rétrotransposition d'ARNm, pertes d'introns et de régions régulatrices), pseudogènes non processés (résultant de duplications conservant la structure intron/exon) et pseudogènes unitaires liés à la dégénérescence d'un gène. On recense plusieurs milliers de pseudogènes et, bien que longtemps considérés comme des fossiles, certains sont transcrits et participent potentiellement à la régulation et à l'évolution génomique.\", \"Les éléments répétitifs représentent une part importante du génome. Les répétitions en tandem (satellites, minisatellites, microsatellites) occupent une fraction notable (~6,5 %) et jouent des rôles structuraux et génétiques (polymorphisme utile en génotypage et médecine légale). Les éléments répétés dispersés, qui constituent environ 40–45 % du génome, incluent des rétrotransposons (LINE, SINE, LTR) et des transposons ; ces éléments se sont insérés par différents mécanismes (copié/collé via un intermédiaire ARN pour les rétrotransposons, coupé/collé via une transposase pour certains transposons) et sont majoritairement inactifs aujourd'hui mais ont marqué l'évolution du génome.\", \"Les rétrotransposons LINE, en particulier LINE‑1, possèdent des ORF codant des protéines nécessaires à leur propagation (protéine de fixation à l'ARN, endonucléase et transcriptase inverse) et quelques copies encore complètes et actives subsistent. Les SINEs, comme les éléments Alu spécifiques des primates, sont non autonomes et exploitent la machinerie des LINE pour leur propagation. Globalement, la diversité et l'abondance des éléments répétitifs façonnent la structure génomique, influencent la variabilité interindividuelle et constituent un moteur majeur de remaniements génomiques.\"], subsections=[])])]), ContentSection(id='SEC_3', title='Comparaison aux autres génomes', content=[\"La comparaison des génomes met en évidence que la capacité codante d'une espèce n'est pas simplement proportionnelle à la taille de son génome en paires de bases ni au nombre de chromosomes. Cette observation illustre le paradoxe dit du contenu génomique (C-value paradox) selon lequel la complexité apparente d'un organisme ne se déduit pas directement de la quantité d'ADN qu'il porte.\", \"La distribution du nombre de gènes varie selon les grands groupes d'organismes et il n'existe pas de corrélation simple entre nombre de gènes et niveau de complexité phénotypique. Des génomes compacts et très denses en gènes existent chez certains eucaryotes, tandis que d'autres présentent de grands génomes contenant une large proportion d'ADN répétitif et non codant.\", \"Des exemples comparatifs (insectes, levures, plantes, mammifères) montrent des tailles et des contenus très différents : par exemple, certains organismes possèdent des génomes beaucoup plus petits mais avec un nombre élevé de gènes codants relatifs, tandis que d'autres ont des génomes considérablement plus grands sans augmentation corrélée du nombre de gènes. Ces différences résultent d'histoires évolutives distinctes incluant duplications, insertions d'éléments mobiles et expansions répétitives.\"], subsections=[]), ContentSection(id='SEC_4', title='Les types de variations du génome humain et leurs conséquences', content=[\"Une variation génomique se définit comme une différence entre la séquence d'un individu et la séquence de référence d'une espèce. Dans un contexte général, le terme mutation désigne une modification héritée de l'information génétique, tandis qu'en génétique médicale on distingue les variations pathogènes associées à un phénotype clinique des polymorphismes qui sont des variations fréquentes et généralement bénignes.\", \"Pour une communication rigoureuse, les variations sont décrites selon des référentiels normalisés : on utilise des positions et des notations génomiques (g.), d'ARN messager (c.) et protéiques (p.), accompagnées d'un format explicite pour indiquer le type de changement et sa localisation. La nomenclature protéique donne par exemple p.Arg22Ser pour indiquer la substitution d'une arginine en position 22 par une sérine.\", \"Le concept de polymorphisme repose sur une fréquence allélique dans une population donnée (classiquement ≥1 % pour un SNP). Les fréquences alléliques diffèrent selon les populations et peuvent illustrer des effets d'histoire démographique, d'effet fondateur ou d'adaptation locale ; des variants bien connus présentent des fréquences très variables entre populations.\", \"Un individu peut porter plusieurs variations affectant un même gène, ces variations pouvant être en trans (sur des allèles différents) ou en cis (sur le même allèle), et la notation des génotypes reflète cette organisation (par exemple c.[76A>C];[87delG] pour deux variations en trans). L'interprétation clinique tient compte de la combinaison allélique et du mode de transmission attendu.\", \"Parmi les petites variations, les substitutions de nucléotides (SNV) et les petites insertions/délétions (indels <50 pb) constituent la majorité des événements en nombre. On observe typiquement plusieurs millions de différences ponctuelles entre deux génomes humains et ces substitutions sont la source principale du polymorphisme en nombre d'événements.\", \"Les conséquences des variantes ponctuelles sur la protéine codée dépendent du changement de codon : une substitution peut être silencieuse (synonyme), faux sens (missense) ou non sens (nonsense). Les indels non multiples de trois bases provoquent un décalage du cadre de lecture (frameshift) entraînant souvent une protéine tronquée ou non fonctionnelle, tandis que les indels multiples de trois conservant le cadre conduisent à la perte ou au gain d'acides aminés sans décalage du cadre.\", \"Les variations affectant les sites d'épissage peuvent avoir des conséquences sévères sur la maturation de l'ARNm : la perturbation des jonctions donneur/acceptor (GT‑AG étant le motif canonique) peut entraîner rétention d'introns, saut d'exons ou usage de sites cryptiques, avec des effets parfois comparables à des frameshifts.\", \"Certaines mutations sont liées à l'expansion dynamique de motifs répétitifs (trinucléotides, tétra-, penta- ou hexanucléotides) et provoquent des pathologies spécifiques lorsque le nombre de répétitions dépasse un seuil critique (ex. expansion de CAG dans la maladie de Huntington, expansion de CGG dans le syndrome X fragile). Ces mutations dynamiques se caractérisent par une instabilité de la répétition lors de la réplication.\", 'Les variations de structure englobent des modifications affectant des segments supérieurs à ~50 pb et comprennent des délétions, duplications, inversions et translocations. Ces remaniements peuvent être équilibrés ou déséquilibrés (variations du nombre de copies, CNV) et représentent la source principale de variation en nombre de bases affectées entre individus. Les inventaires de population montrent des milliers de variations structurales par paire de génomes, contribuant significativement à la diversité génomique et, parfois, aux pathologies.', \"Enfin, d'autres mécanismes tels que la conversion génique et l'empreinte parentale (modulations épigénétiques de la méthylation) peuvent influer sur l'expression et la transmission des gènes. Du point de vue fonctionnel, les variations peuvent entraîner une perte de fonction, un gain de fonction, ou des effets dominants négatifs, et l'évaluation du caractère causal d'une variation demande une appréciation intégrée du contexte moléculaire, génétique et phénotypique.\"], subsections=[]), ContentSection(id='SEC_5', title='La variabilité du génome humain', content=[\"La variabilité du génome humain résulte d'une multitude de mécanismes et d'événements : substitutions, indels, expansions de répétitions, variations de structure et mobilité d'éléments transposables contribuent tous à créer une diversité considérable entre individus. Certaines variations sont rares alors que d'autres sont fréquentes et parfois spécifiques à des populations, reflet d'effets démographiques et sélectifs.\", \"Les bases de données de variations comportent aujourd'hui des inventaires colossaux — des centaines de millions à plus d'un milliard de variants ponctuels recensés dans les ressources publiques et plusieurs millions de variations structurelles documentées — mais ces catalogues restent incomplets et continuellement enrichis par des projets de séquençage et d'assemblage plus profonds. L'étude de cette variabilité est essentielle pour relier le génotype au phénotype, pour l'épidémiologie des maladies génétiques et pour la compréhension des processus évolutifs.\"], subsections=[]), ContentSection(id='SEC_6', title='Evolution des génomes: notions essentielles, mécanismes', content=[\"L'évolution des génomes est un processus dynamique au cours duquel le matériel génétique s'ajoute, se perd ou se réarrange au fil du temps. Ces modifications peuvent conférer des avantages adaptatifs dans certains contextes écologiques, conduire à l'apparition de nouvelles fonctions moléculaires et, à long terme, participer à la formation de nouvelles espèces par accumulation de différences génomiques.\", \"Les mécanismes moléculaires sous-jacents incluent les variations ponctuelles (substitutions et indels), les remaniements structuraux (délétions, duplications, inversions, translocations) et l'activité d'éléments mobiles. Ces événements génèrent matière première sur laquelle la sélection naturelle, la dérive génétique et d'autres forces évolutives opèrent.\", \"La duplication d'exons ou d'exons en tandem est une source fréquente d'innovation protéique, responsable de l'apparition de domaines répétés au sein de protéines. De façon complémentaire, le « brassage » d'exons (exon shuffling) par recombinaisons non allélique ou via des éléments transposables permet la création de nouvelles combinaisons fonctionnelles entre modules protéiques.\", \"La duplication génique, qu'elle soit locale ou étendue à l'ensemble du génome (duplication complète), fournit des copies libres de contraintes initiales qui peuvent diverger fonctionnellement par accumulation de mutations. Ces duplications expliquent la constitution de familles multigéniques et l'apparition progressive de nouvelles fonctions au cours de l'évolution.\", \"En conclusion, l'évolution des génomes résulte d'un ensemble de processus moléculaires — du simple substitutionnel jusqu'aux duplications massives — et de leurs interactions avec les forces évolutives. L'analyse comparative, l'identification des duplications et l'étude des éléments mobiles fournissent des clefs pour comprendre l'origine des traits biologiques et la structuration du vivant au niveau moléculaire.\", \"Certaines illustrations et certains schémas utilisés pour expliquer ces mécanismes proviennent de la littérature scientifique et d'ouvrages de référence ; ces ressources ont servi à adapter des concepts et des figures pédagogiques en vue d'une présentation synthétique des processus génomiques. Il convient de respecter les droits d'auteur et les conditions d'utilisation associées à ces documents.\"], subsections=[])], slides=None, mapping=None), total_slides=110)"
            ]
          },
          "execution_count": 10,
          "metadata": {},
          "output_type": "execute_result"
        }
      ],
      "source": [
        "from src.course import Course\n",
        "\n",
        "course = Course.load_from_json(\n",
        "file_path)\n",
        "course"
      ]
    },
    {
      "cell_type": "code",
      "execution_count": 11,
      "metadata": {},
      "outputs": [
        {
          "data": {
            "text/plain": [
              "'UE-1'"
            ]
          },
          "execution_count": 11,
          "metadata": {},
          "output_type": "execute_result"
        }
      ],
      "source": [
        "course.subject"
      ]
    },
    {
      "cell_type": "code",
      "execution_count": 7,
      "metadata": {},
      "outputs": [
        {
          "name": "stdout",
          "output_type": "stream",
          "text": [
            "💾 Course saved to: volume/artifacts/json/architecture_du_génome_humain_20250818_114200.json\n"
          ]
        },
        {
          "data": {
            "text/plain": [
              "'volume/artifacts/json/architecture_du_génome_humain_20250818_114200.json'"
            ]
          },
          "execution_count": 7,
          "metadata": {},
          "output_type": "execute_result"
        }
      ],
      "source": [
        "course.save_to_json(output_path=\"volume/artifacts/json\")"
      ]
    },
    {
      "cell_type": "code",
      "execution_count": 12,
      "metadata": {},
      "outputs": [
        {
          "name": "stdout",
          "output_type": "stream",
          "text": [
            "📄 Course exported to DOCX: volume/artifacts/docx/architecture_du_génome_humain.docx\n"
          ]
        },
        {
          "data": {
            "text/plain": [
              "'volume/artifacts/docx/architecture_du_génome_humain.docx'"
            ]
          },
          "execution_count": 12,
          "metadata": {},
          "output_type": "execute_result"
        }
      ],
      "source": [
        "atifacts_path = \"volume/artifacts/docx\"\n",
        "template_path = \"volume/templates/fs_template.docx\"\n",
        "course.to_docx(output_path=atifacts_path, template_path=template_path)"
      ]
    },
    {
      "cell_type": "markdown",
      "metadata": {},
      "source": [
        "## Step 1: Data Extraction - Slides\n",
        "\n",
        "Extract slides from PDF using the exact logic from poc.ipynb\n"
      ]
    },
    {
      "cell_type": "code",
      "execution_count": null,
      "metadata": {},
      "outputs": [],
      "source": [
        "# Method 2: Direct method call\n",
        "metadata = CourseMetadata(\n",
        "    name=\"Architecture du génome humain\",\n",
        "    course_title=\"Architecture du génome humain\",\n",
        "    level=\"L1\",\n",
        "    block=\"SANTE\",\n",
        "    semester=\"S1\",\n",
        "    subject=\"UE-1 Constitution et transformation de la matière\"\n",
        ")\n",
        "\n",
        "course = pipeline.process_course_no_plan(\n",
        "    slides=slides,  # Your slides list\n",
        "    metadata=metadata,\n",
        "    save_json=True,\n",
        "    save_docx=True,\n",
        "    test_mode=True,  # Process only first 10 slides\n",
        "    output_path=\"\"\n",
        ")\n",
        "\n",
        "# Get processing statistics\n",
        "stats = pipeline.get_processing_statistics(course)\n",
        "print(f\"Processed {stats['total_sections']} sections from {stats['total_slides']} slides\")"
      ]
    }
  ],
  "metadata": {
    "kernelspec": {
      "display_name": ".venv",
      "language": "python",
      "name": "python3"
    },
    "language_info": {
      "codemirror_mode": {
        "name": "ipython",
        "version": 3
      },
      "file_extension": ".py",
      "mimetype": "text/x-python",
      "name": "python",
      "nbconvert_exporter": "python",
      "pygments_lexer": "ipython3",
      "version": "3.11.13"
    }
  },
  "nbformat": 4,
  "nbformat_minor": 2
}
