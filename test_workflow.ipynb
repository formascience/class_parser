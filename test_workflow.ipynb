{
  "cells": [
    {
      "cell_type": "markdown",
      "metadata": {},
      "source": [
        "# Class Parser Workflow Test\n",
        "\n",
        "This notebook reproduces the workflow from poc.ipynb step by step using the new src/ structure.\n",
        "Test each component individually and then run the complete pipeline.\n",
        "\n",
        "## Workflow Overview\n",
        "1. **Data Extraction** - Extract slides and plan from PDF (deterministic)\n",
        "2. **Branch A** - With plan: outline_two_pass → mapping_two_pass → enrich → writer\n",
        "3. **Branch B** - No plan: outline_one_shot → enrich → writer\n",
        "4. **Export** - Generate DOCX document\n"
      ]
    },
    {
      "cell_type": "code",
      "execution_count": 1,
      "metadata": {},
      "outputs": [
        {
          "name": "stdout",
          "output_type": "stream",
          "text": [
            "🔁 Imports refreshed\n"
          ]
        }
      ],
      "source": [
        "# Dev hot-reload setup (no kernel restart needed)\n",
        "%load_ext autoreload\n",
        "%autoreload 2\n",
        "\n",
        "import sys, importlib\n",
        "from pathlib import Path\n",
        "# Ensure project root is on sys.path\n",
        "sys.path.insert(0, str(Path('.').resolve()))\n",
        "\n",
        "import src\n",
        "import src.models as models\n",
        "import src.llm as llm\n",
        "import src.data_extraction as data_extraction\n",
        "import src.course as course_mod\n",
        "import src.pipeline as pipeline_mod\n",
        "\n",
        "\n",
        "def refresh_imports():\n",
        "    \"\"\"Reload modules and rebind notebook aliases.\"\"\"\n",
        "    importlib.reload(src)\n",
        "    importlib.reload(models)\n",
        "    importlib.reload(llm)\n",
        "    importlib.reload(data_extraction)\n",
        "    importlib.reload(course_mod)\n",
        "    importlib.reload(pipeline_mod)\n",
        "    \n",
        "    globals().update({\n",
        "        # Models\n",
        "        \"Content\": models.Content,\n",
        "        \"ContentSection\": models.ContentSection,\n",
        "        \"MappingItem\": models.MappingItem,\n",
        "        \"SectionSlideMapping\": models.SectionSlideMapping,\n",
        "        \"Slides\": models.Slides,\n",
        "        \"OutlineAndMapping\": models.OutlineAndMapping,\n",
        "        # LLM\n",
        "        \"OutlineOneShot\": llm.OutlineOneShot,\n",
        "        \"OutlineTwoPass\": llm.OutlineTwoPass,\n",
        "        \"MappingTwoPass\": llm.MappingTwoPass,\n",
        "        \"Writer\": llm.Writer,\n",
        "        \"PromptManager\": llm.PromptManager,\n",
        "        # Deterministic extractors\n",
        "        \"SlidesExtractor\": data_extraction.SlidesExtractor,\n",
        "        \"PlanExtractor\": data_extraction.PlanExtractor,\n",
        "        # Orchestrators\n",
        "        \"Course\": course_mod.Course,\n",
        "        \"CoursePipeline\": pipeline_mod.CoursePipeline,\n",
        "    })\n",
        "    print(\"🔁 Imports refreshed\")\n",
        "\n",
        "# Initial bind\n",
        "refresh_imports()\n"
      ]
    },
    {
      "cell_type": "markdown",
      "metadata": {},
      "source": [
        "## Step 1: Data Extraction - Slides\n",
        "\n",
        "Extract slides from PDF using the exact logic from poc.ipynb\n"
      ]
    },
    {
      "cell_type": "code",
      "execution_count": 2,
      "metadata": {},
      "outputs": [
        {
          "name": "stdout",
          "output_type": "stream",
          "text": [
            "id 0 : cours_4_plan.pdf\n",
            "id 1 : .DS_Store\n",
            "id 2 : Ch6-Code génétique et traduction.pdf\n",
            "id 3 : cours_1.pdf\n",
            "id 4 : cours_4.pdf\n",
            "id 5 : Ch1-Sucres et Lipides.pdf\n",
            "id 6 : Ch3_Métabolisme des glucides.pdf\n",
            "id 7 : Ch2-Acides aminés et protéines.pdf\n",
            "id 8 : Ch7.1-Génome humain.pdf\n",
            "id 9 : Ch7.2-Techniques de biologie moléculaire.pdf\n",
            "id 10 : Ch4-Plan du polycopié.docx\n",
            "id 11 : Ch4-Structure, réplication et réparation de l_ADN.pdf\n",
            "id 12 : Ch5-Transcription, maturation et régulation.pdf\n"
          ]
        }
      ],
      "source": [
        "slides_path = \"/Users/youssefjanjar/Documents/formascience/class_parser/volume/slides/\"\n",
        "import os \n",
        "chapters = os.listdir(slides_path)\n",
        "for index, chapter in enumerate(chapters):\n",
        "    print(f\"id {index} : {chapter}\")"
      ]
    },
    {
      "cell_type": "code",
      "execution_count": 3,
      "metadata": {},
      "outputs": [
        {
          "name": "stdout",
          "output_type": "stream",
          "text": [
            "🔍 Extracting slides from: /Users/youssefjanjar/Documents/formascience/class_parser/volume/slides/Ch6-Code génétique et traduction.pdf\n",
            "✅ Extracted 68 slides\n",
            "\n",
            "📋 First 3 slides:\n",
            "\n",
            "--- Slide 1: SL_001 ---\n",
            "Title: Code génétique et traduction\n",
            "Content (first 200 chars): U.E.2 2024\n",
            "Chapitre 6\n",
            "Code génétique et traduction\n",
            "Philippe KASTNER\n",
            "Texte en caractères normaux: connaissances requises pour l’examen\n",
            "Texte en italiques: non requis pour l’examen...\n",
            "==================================================\n",
            "\n",
            "--- Slide 2: SL_002 ---\n",
            "Title: Première partie: le code génétique\n",
            "Content (first 200 chars): Première partie: le code génétique\n",
            "I. Nature du code génétique\n",
            "II. Mécanisme de déchiffrage: les ARN de transfert\n",
            "III. Les aminoacyl-tRNA synthétases...\n",
            "==================================================\n",
            "\n",
            "--- Slide 3: SL_003 ---\n",
            "Title: I. Nature du code génétique\n",
            "Content (first 200 chars): I. Nature du code génétique\n",
            "II. Mécanisme de déchiffrage: les ARN de transfert\n",
            "III. Les aminoacyl-tRNA synthétases...\n",
            "==================================================\n"
          ]
        }
      ],
      "source": [
        "# Test slides extraction\n",
        "pdf_path = slides_path+chapters[2]\n",
        "\n",
        "# Initialize extractor\n",
        "slides_extractor = SlidesExtractor(\n",
        "    min_avg_len=10,\n",
        "    max_lines=20,\n",
        "    merge_tol=2.0\n",
        ")\n",
        "\n",
        "print(f\"🔍 Extracting slides from: {pdf_path}\")\n",
        "\n",
        "try:\n",
        "    # Extract slides as Slides objects\n",
        "    slides = slides_extractor.extract_slides(pdf_path)\n",
        "    print(f\"✅ Extracted {len(slides)} slides\")\n",
        "    \n",
        "    # Display first few slides\n",
        "    print(\"\\n📋 First 3 slides:\")\n",
        "    for i, slide in enumerate(slides[:3]):\n",
        "        print(f\"\\n--- Slide {i+1}: {slide.id} ---\")\n",
        "        print(f\"Title: {slide.title}\")\n",
        "        print(f\"Content (first 200 chars): {slide.content[:200]}...\")\n",
        "        print(\"=\" * 50)\n",
        "        \n",
        "except FileNotFoundError:\n",
        "    print(f\"❌ PDF file not found: {pdf_path}\")\n",
        "    print(\"Please ensure the PDF file exists in ./volume/slides/\")\n",
        "    slides = []  # Empty list for testing\n",
        "except Exception as e:\n",
        "    print(f\"❌ Error extracting slides: {e}\")\n",
        "    slides = []\n"
      ]
    },
    {
      "cell_type": "code",
      "execution_count": 4,
      "metadata": {},
      "outputs": [
        {
          "name": "stdout",
          "output_type": "stream",
          "text": [
            "📊 Slides JSON dump:\n",
            "Number of slides: 68\n",
            "JSON size: 36152 characters\n",
            "Estimated tokens (GPT-4 encoding): 11539\n",
            "\n",
            "📋 JSON content (first 1000 chars):\n",
            "[\n",
            "  {\n",
            "    \"id\": \"SL_001\",\n",
            "    \"title\": \"Code génétique et traduction\",\n",
            "    \"content\": \"U.E.2 2024\\nChapitre 6\\nCode génétique et traduction\\nPhilippe KASTNER\\nTexte en caractères normaux: connaissances requises pour l’examen\\nTexte en italiques: non requis pour l’examen\"\n",
            "  },\n",
            "  {\n",
            "    \"id\": \"SL_002\",\n",
            "    \"title\": \"Première partie: le code génétique\",\n",
            "    \"content\": \"Première partie: le code génétique\\nI. Nature du code génétique\\nII. Mécanisme de déchiffrage: les ARN de transfert\\nIII. Les aminoacyl-tRNA synthétases\"\n",
            "  },\n",
            "  {\n",
            "    \"id\": \"SL_003\",\n",
            "    \"title\": \"I. Nature du code génétique\",\n",
            "    \"content\": \"I. Nature du code génétique\\nII. Mécanisme de déchiffrage: les ARN de transfert\\nIII. Les aminoacyl-tRNA synthétases\"\n",
            "  },\n",
            "  {\n",
            "    \"id\": \"SL_004\",\n",
            "    \"title\": \"Découverte du code génétique\",\n",
            "    \"content\": \"Découverte du code génétique\\n1953: élucidation de la structure de l’ADN\\nHypothèse: la séquence des acides nucléiques porte l’information génétique\\nProblème: comment un alphabet d...\n"
          ]
        }
      ],
      "source": [
        "import json\n",
        "import tiktoken\n",
        "\n",
        "# Dump slides to JSON\n",
        "slides_json = json.dumps([slide.model_dump() for slide in slides], ensure_ascii=False, indent=2)\n",
        "\n",
        "# Calculate tokens using GPT-4 encoding (tiktoken doesn't have GPT-5 yet, using GPT-4 as closest)\n",
        "encoding = tiktoken.encoding_for_model(\"gpt-4\")\n",
        "token_count = len(encoding.encode(slides_json))\n",
        "\n",
        "print(f\"📊 Slides JSON dump:\")\n",
        "print(f\"Number of slides: {len(slides)}\")\n",
        "print(f\"JSON size: {len(slides_json)} characters\")\n",
        "print(f\"Estimated tokens (GPT-4 encoding): {token_count}\")\n",
        "\n",
        "# Display the JSON (truncated for readability)\n",
        "print(f\"\\n📋 JSON content (first 1000 chars):\")\n",
        "print(slides_json[:1000] + \"...\" if len(slides_json) > 1000 else slides_json)"
      ]
    },
    {
      "cell_type": "markdown",
      "metadata": {},
      "source": [
        "# Single Shot"
      ]
    },
    {
      "cell_type": "markdown",
      "metadata": {},
      "source": [
        "# Single shot:  Extract the plan for this class "
      ]
    },
    {
      "cell_type": "code",
      "execution_count": 5,
      "metadata": {},
      "outputs": [
        {
          "name": "stdout",
          "output_type": "stream",
          "text": [
            "Course Outline:\n",
            "==================================================\n",
            "Nature du code génétique\n",
            "  Découverte et preuves expérimentales du code triplet\n",
            "  Propriétés du code (triplets, dégénérescence, codons initiateur/stop, universalité)\n",
            "  Variations et exceptions au code (mitochondrial, sélénocystéine)\n",
            "  Structure du message codant et conséquences des mutations (phases de lecture)\n",
            "Décodage : ARN de transfert, appariement codon‑anticodon et modifications\n",
            "  Fonction et architecture des ARNt (anticodon, extrémité 3’, structure 3D)\n",
            "  Modifications post‑transcriptionnelles des ARN (nucléosides tRNA, rRNA, pseudo‑uridine en ARNm)\n",
            "  Appariements bancals (wobble) et correspondance codon‑anticodon\n",
            "  Biais d’usage des codons (codon usage bias, abondance d’ARNt)\n",
            "  Aminoacyl‑tRNA synthétases : activation, greffe et édition (fidelité)\n",
            "Structure et biogenèse du ribosome\n",
            "  Organisation des sous‑unités, ARNr et sites fonctionnels (A, P, E)\n",
            "  Modifications des ARNr et implications fonctionnelles\n",
            "  Biogenèse et assemblage des ribosomes (nucléole, snoARN, facteurs d’assemblage)\n",
            "  Hétérogénéité ribosomale et implications physiopathologiques\n",
            "Mécanisme de la traduction\n",
            "  Principes généraux et polysomes\n",
            "  Initiation de la traduction (eucaryotes : scanning/Kozak ; procaryotes : Shine‑Dalgarno)\n",
            "  Élongation et translocation (mécanique des sites A/P/E)\n",
            "  Facteurs d’élongation et contrôle de la fidélité du décodage (GTPase, qualité d’appariement)\n",
            "  Effets du codon (codons rares) sur la vitesse de traduction\n",
            "  Antibiotiques ciblant le ribosome (mécanismes d’action)\n",
            "  Traduction compartimentalisée (RER, neurones) et traduction mitochondriale\n",
            "Régulation de la traduction\n",
            "  Régulation globale (eIF4E, 4E‑BP, voie mTOR)\n",
            "  Régulation spécifique (5’UTR/3’UTR, micro‑ARN, RBP, uORFs ; exemple FMRP)\n"
          ]
        }
      ],
      "source": [
        "outline_one_shot = OutlineOneShot()\n",
        "\n",
        "outline, mapping = outline_one_shot.build_outline_and_mapping(slides)\n",
        "\n",
        "print(outline.print_outline())"
      ]
    },
    {
      "cell_type": "code",
      "execution_count": 6,
      "metadata": {},
      "outputs": [
        {
          "name": "stdout",
          "output_type": "stream",
          "text": [
            "Section-to-Slides Mapping:\n",
            "============================================================\n",
            "\n",
            "[Root] SEC_1\n",
            "Title: Nature du code génétique\n",
            "Slides: 10 slide(s)\n",
            "Slide IDs: SL_004, SL_005, SL_006, SL_007, SL_008, SL_009, SL_010, SL_011, SL_012, SL_013\n",
            "\n",
            "  [Level 1] SEC_1.1\n",
            "  Title: Découverte et preuves expérimentales du code triplet\n",
            "  Slides: 2 slide(s)\n",
            "  Slide IDs: SL_004, SL_005\n",
            "\n",
            "  [Level 1] SEC_1.2\n",
            "  Title: Propriétés du code (triplets, dégénérescence, codons initiateur/stop, universalité)\n",
            "  Slides: 3 slide(s)\n",
            "  Slide IDs: SL_006, SL_007, SL_008\n",
            "\n",
            "  [Level 1] SEC_1.3\n",
            "  Title: Variations et exceptions au code (mitochondrial, sélénocystéine)\n",
            "  Slides: 2 slide(s)\n",
            "  Slide IDs: SL_009, SL_013\n",
            "\n",
            "  [Level 1] SEC_1.4\n",
            "  Title: Structure du message codant et conséquences des mutations (phases de lecture)\n",
            "  Slides: 3 slide(s)\n",
            "  Slide IDs: SL_010, SL_011, SL_012\n",
            "\n",
            "[Root] SEC_2\n",
            "Title: Décodage : ARN de transfert, appariement codon‑anticodon et modifications\n",
            "Slides: 11 slide(s)\n",
            "Slide IDs: SL_015, SL_016, SL_017, SL_018, SL_020, SL_021, SL_022, SL_023, SL_025, SL_026, SL_027\n",
            "\n",
            "  [Level 1] SEC_2.1\n",
            "  Title: Fonction et architecture des ARNt (anticodon, extrémité 3’, structure 3D)\n",
            "  Slides: 2 slide(s)\n",
            "  Slide IDs: SL_015, SL_017\n",
            "\n",
            "  [Level 1] SEC_2.2\n",
            "  Title: Modifications post‑transcriptionnelles des ARN (nucléosides tRNA, rRNA, pseudo‑uridine en ARNm)\n",
            "  Slides: 3 slide(s)\n",
            "  Slide IDs: SL_016, SL_018, SL_020\n",
            "\n",
            "  [Level 1] SEC_2.3\n",
            "  Title: Appariements bancals (wobble) et correspondance codon‑anticodon\n",
            "  Slides: 2 slide(s)\n",
            "  Slide IDs: SL_021, SL_022\n",
            "\n",
            "  [Level 1] SEC_2.4\n",
            "  Title: Biais d’usage des codons (codon usage bias, abondance d’ARNt)\n",
            "  Slides: 1 slide(s)\n",
            "  Slide IDs: SL_023\n",
            "\n",
            "  [Level 1] SEC_2.5\n",
            "  Title: Aminoacyl‑tRNA synthétases : activation, greffe et édition (fidelité)\n",
            "  Slides: 3 slide(s)\n",
            "  Slide IDs: SL_025, SL_026, SL_027\n",
            "\n",
            "[Root] SEC_3\n",
            "Title: Structure et biogenèse du ribosome\n",
            "Slides: 10 slide(s)\n",
            "Slide IDs: SL_032, SL_033, SL_034, SL_035, SL_036, SL_037, SL_038, SL_039, SL_040, SL_041\n",
            "\n",
            "  [Level 1] SEC_3.1\n",
            "  Title: Organisation des sous‑unités, ARNr et sites fonctionnels (A, P, E)\n",
            "  Slides: 3 slide(s)\n",
            "  Slide IDs: SL_032, SL_033, SL_034\n",
            "\n",
            "  [Level 1] SEC_3.2\n",
            "  Title: Modifications des ARNr et implications fonctionnelles\n",
            "  Slides: 1 slide(s)\n",
            "  Slide IDs: SL_035\n",
            "\n",
            "  [Level 1] SEC_3.3\n",
            "  Title: Biogenèse et assemblage des ribosomes (nucléole, snoARN, facteurs d’assemblage)\n",
            "  Slides: 3 slide(s)\n",
            "  Slide IDs: SL_036, SL_037, SL_038\n",
            "\n",
            "  [Level 1] SEC_3.4\n",
            "  Title: Hétérogénéité ribosomale et implications physiopathologiques\n",
            "  Slides: 3 slide(s)\n",
            "  Slide IDs: SL_039, SL_040, SL_041\n",
            "\n",
            "[Root] SEC_4\n",
            "Title: Mécanisme de la traduction\n",
            "Slides: 20 slide(s)\n",
            "Slide IDs: SL_030, SL_031, SL_043, SL_045, SL_046, SL_047, SL_049, SL_050, SL_051, SL_052, SL_053, SL_054, SL_055, SL_056, SL_058, SL_060, SL_061, SL_062, SL_063, SL_064\n",
            "\n",
            "  [Level 1] SEC_4.1\n",
            "  Title: Principes généraux et polysomes\n",
            "  Slides: 2 slide(s)\n",
            "  Slide IDs: SL_030, SL_031\n",
            "\n",
            "  [Level 1] SEC_4.2\n",
            "  Title: Initiation de la traduction (eucaryotes : scanning/Kozak ; procaryotes : Shine‑Dalgarno)\n",
            "  Slides: 4 slide(s)\n",
            "  Slide IDs: SL_043, SL_045, SL_046, SL_047\n",
            "\n",
            "  [Level 1] SEC_4.3\n",
            "  Title: Élongation et translocation (mécanique des sites A/P/E)\n",
            "  Slides: 3 slide(s)\n",
            "  Slide IDs: SL_049, SL_050, SL_051\n",
            "\n",
            "  [Level 1] SEC_4.4\n",
            "  Title: Facteurs d’élongation et contrôle de la fidélité du décodage (GTPase, qualité d’appariement)\n",
            "  Slides: 4 slide(s)\n",
            "  Slide IDs: SL_052, SL_053, SL_054, SL_055\n",
            "\n",
            "  [Level 1] SEC_4.5\n",
            "  Title: Effets du codon (codons rares) sur la vitesse de traduction\n",
            "  Slides: 1 slide(s)\n",
            "  Slide IDs: SL_056\n",
            "\n",
            "  [Level 1] SEC_4.6\n",
            "  Title: Antibiotiques ciblant le ribosome (mécanismes d’action)\n",
            "  Slides: 1 slide(s)\n",
            "  Slide IDs: SL_058\n",
            "\n",
            "  [Level 1] SEC_4.7\n",
            "  Title: Traduction compartimentalisée (RER, neurones) et traduction mitochondriale\n",
            "  Slides: 5 slide(s)\n",
            "  Slide IDs: SL_060, SL_061, SL_062, SL_063, SL_064\n",
            "\n",
            "[Root] SEC_5\n",
            "Title: Régulation de la traduction\n",
            "Slides: 7 slide(s)\n",
            "Slide IDs: SL_065, SL_066, SL_067, SL_068, SL_070, SL_071, SL_072\n",
            "\n",
            "  [Level 1] SEC_5.1\n",
            "  Title: Régulation globale (eIF4E, 4E‑BP, voie mTOR)\n",
            "  Slides: 2 slide(s)\n",
            "  Slide IDs: SL_065, SL_066\n",
            "\n",
            "  [Level 1] SEC_5.2\n",
            "  Title: Régulation spécifique (5’UTR/3’UTR, micro‑ARN, RBP, uORFs ; exemple FMRP)\n",
            "  Slides: 5 slide(s)\n",
            "  Slide IDs: SL_067, SL_068, SL_070, SL_071, SL_072\n"
          ]
        }
      ],
      "source": [
        "print(mapping.visualize_mapping(outline))"
      ]
    },
    {
      "cell_type": "markdown",
      "metadata": {},
      "source": [
        "# Single shot: Writing content from mapping and the outline"
      ]
    },
    {
      "cell_type": "code",
      "execution_count": 7,
      "metadata": {},
      "outputs": [
        {
          "data": {
            "text/plain": [
              "src.models.Content"
            ]
          },
          "execution_count": 7,
          "metadata": {},
          "output_type": "execute_result"
        }
      ],
      "source": [
        "outline_with_slides = outline.enrich_with_slides(slides=slides, mapping=mapping)\n",
        "writer = Writer()\n",
        "\n",
        "course = writer.write_course(enriched_content=outline_with_slides)\n",
        "\n",
        "type(course)"
      ]
    },
    {
      "cell_type": "code",
      "execution_count": 10,
      "metadata": {},
      "outputs": [
        {
          "data": {
            "text/plain": [
              "src.models.Content"
            ]
          },
          "execution_count": 10,
          "metadata": {},
          "output_type": "execute_result"
        }
      ],
      "source": [
        "type(course)"
      ]
    },
    {
      "cell_type": "code",
      "execution_count": 11,
      "metadata": {},
      "outputs": [
        {
          "name": "stdout",
          "output_type": "stream",
          "text": [
            "Course Content:\n",
            "============================================================\n",
            "\n",
            "[Root] ID: SEC_1\n",
            "Title: Nature du code génétique\n",
            "Content:\n",
            "  [1] Le code génétique définit la correspondance entre la séquence de\n",
            "      nucléotides d’un ARN messager et la séquence d’acides aminés d’une\n",
            "      protéine. Il permet de traduire l’information contenue dans l’ARNm en une\n",
            "      chaîne polypeptidique fonctionnelle.\n",
            "  [2] Repères historiques et preuves expérimentales :\n",
            "  [3] • 1953 : découverte de la structure de l’ADN, posant le cadre pour\n",
            "      l’hypothèse d’un support séquentiel de l’information génétique.\n",
            "  [4] • 1961 : démonstration que les acides aminés sont spécifiés par des\n",
            "      triplets de bases adjacents (modèle non chevauchant).\n",
            "  [5] • 1961–1968 : déchiffrage expérimental progressif des correspondances\n",
            "      codon → acide aminé (récompensé par le Prix Nobel en 1968).\n",
            "  [6] Caractéristiques fondamentales du code :\n",
            "  [7] • Les codons sont des triplets de bases ; 4^3 = 64 combinaisons possibles,\n",
            "      suffisantes pour coder 20 acides aminés et des signaux de fin.\n",
            "  [8] • 61 codons spécifient les 20 acides aminés (dégénérescence du code) : la\n",
            "      plupart des acides aminés sont codés par plusieurs codons.\n",
            "  [9] • Deux acides aminés sont codés par un seul codon (méthionine,\n",
            "      tryptophane) ; trois codons servent d’arrêts (UAA, UAG, UGA).\n",
            "  [10] • AUG sert généralement d’initiateur (codon de démarrage) en plus de coder\n",
            "      la méthionine.\n",
            "  [11] Universalité et exceptions :\n",
            "  [12] • Le code génétique est largement universel chez les bactéries, archées et\n",
            "      eucaryotes, preuve indirecte d’une origine commune de la vie ; des\n",
            "      changements du code seraient délétères car affecteraient de nombreuses\n",
            "      protéines.\n",
            "  [13] • Des exceptions existent localement : certaines mitochondries et quelques\n",
            "      procaryotes au génome réduit ont réaffecté certains codons.\n",
            "  [14] Structure du message codant et remarques générales :\n",
            "  [15] • Un ARNm se compose typiquement d’une coiffe en 5’, d’une région 5’ non\n",
            "      traduite (5’UTR), d’une séquence codante débutant par un codon initiateur\n",
            "      et se terminant par un codon Stop, puis d’une 3’UTR ; les limites exonales\n",
            "      ne coïncident pas toujours avec les frontières des codons.\n",
            "  [16] • Les changements de base et les insertions/délétions peuvent modifier la\n",
            "      protéine de façon très différente selon leur position et leur nature (voir\n",
            "      section sur phases de lecture).\n",
            "\n",
            "  [Level 1] ID: SEC_1.1\n",
            "  Title: Découverte et preuves expérimentales du code triplet\n",
            "  Content:\n",
            "    [1] Question centrale initiale : comment un alphabet de 4 nucléotides peut-\n",
            "        il coder 20 acides aminés ? Une considération combinatoire montre que\n",
            "        4^1 = 4 et 4^2 = 16 sont insuffisants, alors que 4^3 = 64 fournit un\n",
            "        nombre de codons suffisant pour coder 20 acides aminés et des signaux\n",
            "        d’arrêt.\n",
            "    [2] Expériences déterminantes :\n",
            "    [3] • Preuves conceptuelles et expérimentales dans les années 1950–1960 ont\n",
            "        montré que l’unité minimale de codage est le triplet.\n",
            "    [4] • 1961 : travaux démontrant que les codons sont immédiatement adjacents\n",
            "        et non chevauchants ; période 1961–1968 : établissement expérimental de\n",
            "        la table des codons.\n",
            "\n",
            "  [Level 1] ID: SEC_1.2\n",
            "  Title: Propriétés du code (triplets, dégénérescence, codons initiateur/stop, universalité)\n",
            "  Content:\n",
            "    [1] Principales propriétés du code génétique :\n",
            "    [2] • Les acides aminés sont spécifiés par des codons (triplets de bases)\n",
            "        lus sur l’ARNm en phase de lecture.\n",
            "    [3] • Dégénérescence : 61 codons codent pour 20 acides aminés, la plupart\n",
            "        des acides aminés étant spécifiés par plusieurs codons (ex. leucine :\n",
            "        plusieurs codons possibles).\n",
            "    [4] • Codons particuliers : AUG est fréquemment codon initiateur ; trois\n",
            "        codons (UAA, UAG, UGA) sont codons Stop.\n",
            "    [5] Universalité :\n",
            "    [6] • Le code génétique est conservé chez la plupart des organismes\n",
            "        (bactéries, archées, eucaryotes), ce qui soutient l’hypothèse d’un\n",
            "        ancêtre commun ; les réaffectations du code sont rares et souvent\n",
            "        incompatibles avec la viabilité.\n",
            "\n",
            "  [Level 1] ID: SEC_1.3\n",
            "  Title: Variations et exceptions au code (mitochondrial, sélénocystéine)\n",
            "  Content:\n",
            "    [1] Des variations localisées du code existent chez des organismes ou\n",
            "        organelles au génome restreint :\n",
            "    [2] • Code mitochondrial : certaines mitochondries (par ex. chez les\n",
            "        vertébrés) ont réaffecté quelques codons, car leur génome code pour un\n",
            "        petit nombre de protéines ; d’autres mitochondries (ex. levure)\n",
            "        présentent des variations différentes, tandis que certaines conservent\n",
            "        le code standard.\n",
            "    [3] Recodage pour la sélénocystéine :\n",
            "    [4] 1. Le codon UGA, habituellement Stop, peut être recodé en sélénocystéine\n",
            "        (Sec) dans certains ARNm lorsque survient une structure en boucle\n",
            "        spécifique (élément SECIS) en voisinage de l’UGA.\n",
            "    [5] 2. Mécanisme : un ARNt‑Sec spécialisé (anticodon UCA) et un complexe\n",
            "        protéique reconnaissant la structure en boucle permettent d’insérer la\n",
            "        sélénocystéine ; la Sec contient un atome de sélénium remplaçant le\n",
            "        soufre et intervient dans des fonctions redox (présente dans un nombre\n",
            "        limité de protéines humaines, notamment anti‑oxydantes).\n",
            "\n",
            "  [Level 1] ID: SEC_1.4\n",
            "  Title: Structure du message codant et conséquences des mutations (phases de lecture)\n",
            "  Content:\n",
            "    [1] Organisation générale d’un ARNm codant : coiffe 5’, région 5’ non\n",
            "        traduite (5’UTR), séquence codante (débutant par un codon initiateur et\n",
            "        se terminant par un codon Stop), puis 3’UTR. Les découpages en exons\n",
            "        d’un gène ne coïncident pas nécessairement avec les frontières des\n",
            "        codons.\n",
            "    [2] Effets des substitutions selon la position dans le codon :\n",
            "    [3] • Première base : une mutation conduit souvent à un changement d’acide\n",
            "        aminé, parfois à l’apparition d’un codon Stop.\n",
            "    [4] • Seconde base : une mutation entraîne le plus souvent un changement\n",
            "        d’acide aminé ou un codon Stop (impact élevé).\n",
            "    [5] • Troisième base : la plupart des substitutions sont synonymes (effet\n",
            "        conservatif ou nul) en raison de la dégénérescence du code.\n",
            "    [6] Concept de phase de lecture et conséquences des insertions/délétions :\n",
            "    [7] 1. Si N (nombre de nucléotides insérés/délétionnés) est multiple de 3 :\n",
            "        la phase est maintenue et la protéine subit l’ajout/la perte de N/3\n",
            "        acides aminés (sauf si un codon Stop est inséré).\n",
            "    [8] 2. Si N n’est pas multiple de 3 : décalage de phase (frameshift),\n",
            "        généralement traduction d’une nouvelle séquence erronée puis apparition\n",
            "        d’un codon Stop prématuré et protéine tronquée.\n",
            "\n",
            "[Root] ID: SEC_2\n",
            "Title: Décodage : ARN de transfert, appariement codon‑anticodon et modifications\n",
            "Content:\n",
            "  [1] Les ARN de transfert (ARNt) sont les adaptateurs moléculaires qui assurent\n",
            "      le décodage : ils reconnaissent un codon par leur anticodon et portent\n",
            "      l’acide aminé correspondant à leur extrémité 3’.\n",
            "  [2] Propriétés essentielles des ARNt :\n",
            "  [3] • Chaque ARNt possède un anticodon complémentaire à son codon cible et\n",
            "      porte un seul type d’acide aminé au site 3’ (liaison ester).\n",
            "  [4] • Un type d’ARNt assure en général la reconnaissance d’un acide aminé\n",
            "      donné ; la correspondance ARNt ↔ acide aminé est garantie par les\n",
            "      aminoacyl‑tRNA synthétases.\n",
            "  [5] Structure et repliement :\n",
            "  [6] • Structure secondaire en trèfle (4 bras d’appariement) et conformation\n",
            "      tridimensionnelle en « L » ; la stabilité de la conformation 3D dépend de\n",
            "      nucléotides modifiés non conventionnels.\n",
            "  [7] Modifications post‑transcriptionnelles des ARNt (rôles structuraux et\n",
            "      fonctionnels) :\n",
            "  [8] • Exemples de modifications : méthylations (ex. mG), dihydro‑uridine (D),\n",
            "      pseudo‑uridine (ψ), désamination (adénine → hypoxanthine = inosine), ajout\n",
            "      terminal CCA en 3’.\n",
            "  [9] • L’inosine en position 5' de l’anticodon est fréquente et élargit la\n",
            "      reconnaissance des codons (wobble).\n",
            "  [10] Pseudo‑uridine et applications biotechnologiques :\n",
            "  [11] • La substitution des uridines par des pseudo‑uridines dans certains ARNm\n",
            "      thérapeutiques réduit leur détection par le système immunitaire inné et\n",
            "      diminue l’inflammation, ce qui améliore la stabilité et l’efficacité des\n",
            "      ARNm utilisés en vaccins.\n",
            "  [12] Wobble pairing et dégénérescence :\n",
            "  [13] • Il existe moins d’ARNt que de codons (ex. environ 48 ARNt codants en\n",
            "      Homo sapiens) ; certains ARNt reconnaissent plusieurs codons grâce à des\n",
            "      appariements non conventionnels en position 5' de l’anticodon (ex.\n",
            "      inosine).\n",
            "  [14] Usage des codons et abondance des ARNt :\n",
            "  [15] • La fréquence d’utilisation des codons pour un même acide aminé varie\n",
            "      (codon fréquent vs codon rare) et corrèle souvent avec l’abondance des\n",
            "      ARNt qui les reconnaissent (dépendant du nombre de gènes ARNt).\n",
            "  [16] Rôle des aminoacyl‑tRNA synthétases : activation et greffe de l’acide\n",
            "      aminé\n",
            "  [17] • Ces enzymes catalysent la formation de la liaison ester entre\n",
            "      l’adénosine terminale 3’ de l’ARNt et l’acide aminé via une réaction en\n",
            "      deux étapes (activation par ATP puis transfert sur l’ARNt) ; elles\n",
            "      assurent la spécificité aa ↔ ARNt par reconnaissance conjointe.\n",
            "  [18] Correction d’erreurs par les tRNA synthétases :\n",
            "  [19] • Ces enzymes possèdent des fonctions d’édition (site d’édition) qui\n",
            "      hydrolysent une liaison si un acide aminé incorrect a été greffé ; le taux\n",
            "      d’erreur observé est très faible (ordre de 1/40 000), essentiel pour la\n",
            "      fidélité de la synthèse protéique.\n",
            "\n",
            "  [Level 1] ID: SEC_2.1\n",
            "  Title: Fonction et architecture des ARNt (anticodon, extrémité 3’, structure 3D)\n",
            "  Content:\n",
            "    [1] Rôle fonctionnel des ARNt : assurer la reconnaissance du codon sur\n",
            "        l’ARNm via l’anticodon et fournir l’acide aminé correspondant au site\n",
            "        catalytique du ribosome.\n",
            "    [2] Caractéristiques structurales :\n",
            "    [3] • Anticodon : triplet de nucléotides complémentaire au codon\n",
            "        (appariement anti‑parallèle).\n",
            "    [4] • Extrémité 3’ : adénosine terminale chargée d’un acide aminé par une\n",
            "        liaison ester riche en énergie.\n",
            "    [5] • Conformation tridimensionnelle : forme en « L » stabilisée par\n",
            "        nucléotides modifiés non conventionnels.\n",
            "\n",
            "  [Level 1] ID: SEC_2.2\n",
            "  Title: Modifications post‑transcriptionnelles des ARN (nucléosides tRNA, rRNA, pseudo‑uridine en ARNm)\n",
            "  Content:\n",
            "    [1] Les ARNt et les ARNr subissent de nombreuses modifications chimiques\n",
            "        post‑transcriptionnelles qui contribuent à la stabilité et à la fonction\n",
            "        du ribonucléotide.\n",
            "    [2] Principales modifications observées :\n",
            "    [3] • Méthylations (ex. T, mG), dihydro‑uridine (D), pseudo‑uridine (ψ),\n",
            "        désaminations (adénine → hypoxanthine/inosine), ajout terminal CCA en\n",
            "        3’.\n",
            "    [4] Rôles et conséquences :\n",
            "    [5] • Ces modifications jouent des rôles structuraux (stabilisation du\n",
            "        repliement), fonctionnels (affectent la reconnaissance codon‑anticodon)\n",
            "        et, pour certaines modifications, modulatrices selon le tissu.\n",
            "    [6] Impact biotechnologique :\n",
            "    [7] • Le remplacement des uridines par des pseudo‑uridines dans des ARNm\n",
            "        thérapeutiques empêche leur reconnaissance par certaines voies de\n",
            "        détection immunitaire innée et améliore la stabilité des ARNm.\n",
            "\n",
            "  [Level 1] ID: SEC_2.3\n",
            "  Title: Appariements bancals (wobble) et correspondance codon‑anticodon\n",
            "  Content:\n",
            "    [1] Le phénomène de « wobble » explique comment un nombre limité d’ARNt peut\n",
            "        reconnaître plusieurs codons synonymes : la flexibilité d’appariement en\n",
            "        position 5' de l’anticodon augmente la capacité de reconnaissance.\n",
            "    [2] Conséquences et règles générales :\n",
            "    [3] • Quelques appariements non standard sont permis (par ex. la présence\n",
            "        d’inosine en 5' de l’anticodon permet l’appariement avec plusieurs bases\n",
            "        complémentaires), ce qui réduit le nombre nécessaire d’ARNt.\n",
            "    [4] Exemple conceptuel :\n",
            "    [5] • Les codons de la valine (GUU, GUC, GUA, GUG) peuvent être reconnus par\n",
            "        un groupe limité d’ARNt ; certains ARNt reconnaissent jusqu’à trois\n",
            "        codons différents grâce au wobble, et certains codons peuvent être\n",
            "        appariés par plusieurs ARNt distincts.\n",
            "\n",
            "  [Level 1] ID: SEC_2.4\n",
            "  Title: Biais d’usage des codons (codon usage bias, abondance d’ARNt)\n",
            "  Content:\n",
            "    [1] Le choix des codons dans les séquences codantes n’est pas aléatoire et\n",
            "        varie entre gènes et espèces : certains codons consitituent des\n",
            "        préférences d’usage (codon bias).\n",
            "    [2] Principaux points :\n",
            "    [3] • La fréquence d’utilisation d’un codon pour un acide aminé donné dépend\n",
            "        souvent de l’abondance des ARNt capables de le reconnaître.\n",
            "    [4] • L’abondance d’un ARNt est corrélée au nombre de gènes codant pour cet\n",
            "        ARNt ; un codon fréquent est généralement reconnu par un ARNt abondant.\n",
            "    [5] • La présence de codons rares peut ralentir la traduction localement,\n",
            "        modulant la vitesse d’élongation et influençant le repliement\n",
            "        co‑traductionnel et l’expression protéique.\n",
            "\n",
            "  [Level 1] ID: SEC_2.5\n",
            "  Title: Aminoacyl‑tRNA synthétases : activation, greffe et édition (fidelité)\n",
            "  Content:\n",
            "    [1] Rôle central des aminoacyl‑tRNA synthétases : coupler de façon fidèle\n",
            "        chaque acide aminé à son ARNt cognate pour assurer l’exactitude du code.\n",
            "    [2] Mécanisme général en deux étapes :\n",
            "    [3] 1. Activation de l’acide aminé : hydrolyse d’ATP en AMP et formation\n",
            "        d’un aminoacyl‑AMP (liaison riche en énergie).\n",
            "    [4] 2. Transfert sur l’ARNt : greffe de l’acide aminé activé sur le\n",
            "        groupement 3’‑OH de l’adénosine terminale de l’ARNt, formant\n",
            "        l’aminoacyl‑ARNt prêt à intervenir en traduction.\n",
            "    [5] Contrôle de qualité et édition :\n",
            "    [6] • De nombreuses aminoacyl‑tRNA synthétases possèdent un site d’édition\n",
            "        capable d’hydrolyser une liaison lorsqu’un acide aminé incorrect a été\n",
            "        greffé ; ce mécanisme réduit fortement le taux d’erreur (ex. ordre de\n",
            "        1/40 000) et est crucial pour la fidélité de la synthèse protéique.\n",
            "\n",
            "[Root] ID: SEC_3\n",
            "Title: Structure et biogenèse du ribosome\n",
            "Content:\n",
            "  [1] Le ribosome est une machinerie ribonucléoprotéique massive, composée de\n",
            "      deux sous‑unités (eucaryotes : 40S + 60S ; procaryotes : 30S + 50S), de\n",
            "      plusieurs ARNr et d’un grand nombre de protéines ribosomales.\n",
            "  [2] Caractéristiques générales :\n",
            "  [3] • Le ribosome contient en eucaryotes environ 80 protéines ribosomales\n",
            "      (nombre modulable selon le tissu/état) et plusieurs ARNr ; son poids\n",
            "      moléculaire est de l’ordre de plusieurs millions de daltons.\n",
            "  [4] Rôle majeur des ARNr :\n",
            "  [5] • Les ARNr déterminent le repliement global du ribosome et assurent la\n",
            "      fonction catalytique essentielle (centre peptidyl‑transférase) ; les\n",
            "      protéines ribosomales jouent un rôle principalement stabilisateur.\n",
            "  [6] Sites fonctionnels et canal de sortie :\n",
            "  [7] • Le ribosome comporte trois sites de liaison pour les ARNt (A =\n",
            "      aminoacyl, P = peptide, E = exit) et un canal de sortie pour le\n",
            "      polypeptide naissant.\n",
            "  [8] Modifications des ARNr et implications :\n",
            "  [9] • Les ARNr humains portent de nombreuses modifications (>200 nucléotides\n",
            "      modifiés, principalement des 2’‑O‑méthylations et des pseudo‑uridines) ;\n",
            "      beaucoup de ces modifications sont conservées et situées à proximité de\n",
            "      sites fonctionnels, tandis que d’autres varient selon les tissus et\n",
            "      pourraient moduler la fonction ribosomale.\n",
            "  [10] Biogenèse et assemblage :\n",
            "  [11] • La maturation des ARNr a lieu dans le nucléole : transcription d’un\n",
            "      pré‑ARNr par l’ARN polymérase I, modifications guidées (2’‑O‑méthylations,\n",
            "      pseudouridylations) par des snoARN, puis clivages pour générer les ARNr\n",
            "      matures.\n",
            "  [12] Complexité de l’assemblage :\n",
            "  [13] • La biogenèse ribosomale mobilise une centaine à plusieurs centaines de\n",
            "      facteurs d’assemblage protéiques et ARN guides (snoARN) dont l’association\n",
            "      au pré‑ribosome est transitoire ; le processus implique plusieurs\n",
            "      compartiments cellulaires successifs.\n",
            "  [14] Hétérogénéité des ribosomes et implications pathologiques :\n",
            "  [15] • Des variations dans les modifications d’ARNr, l’incorporation de\n",
            "      certaines protéines ribosomales ou l’expression différentielle des\n",
            "      composants génèrent une hétérogénéité ribosomale entre types cellulaires\n",
            "      et états physiologiques ; certains ribosomes peuvent traduire\n",
            "      préférentiellement des sous‑ensembles d’ARNm, et des altérations de la\n",
            "      biogenèse ribosomale sont associées à des pathologies (ex. cancers) et\n",
            "      constituent des cibles thérapeutiques.\n",
            "\n",
            "  [Level 1] ID: SEC_3.1\n",
            "  Title: Organisation des sous‑unités, ARNr et sites fonctionnels (A, P, E)\n",
            "  Content:\n",
            "    [1] Organisation générale : deux sous‑unités qui s’associent lors de la\n",
            "        traduction (eucaryotes : petite 40S, grande 60S).\n",
            "    [2] Rôle des éléments constitutifs :\n",
            "    [3] • Les ARNr déterminent la charpente du ribosome et forment le site actif\n",
            "        catalysant la formation de la liaison peptidique.\n",
            "    [4] • Les protéines ribosomales renforcent la structure et contribuent à la\n",
            "        stabilité des assemblages.\n",
            "    [5] Sites fonctionnels : A (aminoacyl), P (peptidyl) et E (exit) sont les\n",
            "        sites successifs occupés par les ARNt au cours de l’élongation, le canal\n",
            "        de sortie de la grande sous‑unité guidant le polypeptide naissant.\n",
            "\n",
            "  [Level 1] ID: SEC_3.2\n",
            "  Title: Modifications des ARNr et implications fonctionnelles\n",
            "  Content:\n",
            "    [1] Nature et étendue des modifications :\n",
            "    [2] • Les ARNr subissent de nombreuses modifications\n",
            "        post‑transcriptionnelles (notamment 2’‑O‑méthylations et pseudouridines)\n",
            "        ; plus de 200 nucléotides modifiés ont été identifiés dans les ARNr\n",
            "        humains.\n",
            "    [3] Implications fonctionnelles :\n",
            "    [4] • Beaucoup de modifications sont conservées et situées à proximité de\n",
            "        sites fonctionnels essentiels, suggérant un rôle dans l’efficacité et la\n",
            "        spécificité de la traduction ; d’autres modifications varient selon les\n",
            "        tissus et pourraient moduler localement l’activité ribosomale.\n",
            "\n",
            "  [Level 1] ID: SEC_3.3\n",
            "  Title: Biogenèse et assemblage des ribosomes (nucléole, snoARN, facteurs d’assemblage)\n",
            "  Content:\n",
            "    [1] Étapes majeures de la biogenèse ribosomique :\n",
            "    [2] • Transcription d’un pré‑ARNr par l’ARN polymérase I dans le nucléole,\n",
            "        modifications guidées (2’‑O‑méthylations, pseudouridylations) et\n",
            "        clivages pour produire les ARNr matures.\n",
            "    [3] Rôle des snoARN :\n",
            "    [4] • Les snoARN sont des ARN‑guides qui s’apparient à des régions cibles\n",
            "        des ARNr et recrutent des enzymes de modification pour positionner\n",
            "        précisément les modifications ; ils possèdent des motifs structuraux et\n",
            "        séquences permettant le recrutement de protéines effectrices.\n",
            "    [5] Facteurs d’assemblage :\n",
            "    [6] • Environ 200 facteurs protéiques interviennent de manière transitoire\n",
            "        pour chaperonner le repliement, le clivage et l’assemblage des\n",
            "        sous‑unités ribosomiques avant leur export cytoplasmique.\n",
            "\n",
            "  [Level 1] ID: SEC_3.4\n",
            "  Title: Hétérogénéité ribosomale et implications physiopathologiques\n",
            "  Content:\n",
            "    [1] Sources d’hétérogénéité :\n",
            "    [2] • Variations des modifications d’ARNr, présence/absence de protéines\n",
            "        ribosomales spécifiques et différences d’expression selon les types\n",
            "        cellulaires ou états physiologiques.\n",
            "    [3] Conséquences biologiques et pathologiques :\n",
            "    [4] • Certains ribosomes ‘spécialisés’ traduisent préférentiellement des\n",
            "        pools d’ARNm ; dans les cellules tumorales, des mutations ou altérations\n",
            "        des protéines ribosomales peuvent favoriser la traduction de messages\n",
            "        pro‑oncogéniques.\n",
            "    [5] Ciblage thérapeutique :\n",
            "    [6] • La biogenèse ribosomale est exploitée comme cible thérapeutique (ex.\n",
            "        certains agents perturbent l’architecture nucléolaire et bloquent\n",
            "        l’assemblage des ribosomes, conduisant à la mort cellulaire).\n",
            "\n",
            "[Root] ID: SEC_4\n",
            "Title: Mécanisme de la traduction\n",
            "Content:\n",
            "  [1] La traduction est le processus par lequel le ribosome lit l’ARNm en\n",
            "      assemblant les acides aminés portés par les ARNt pour former une protéine.\n",
            "      Dans une cellule proliférante de mammifère, le nombre total de ribosomes\n",
            "      peut atteindre plusieurs millions et la vitesse d’incorporation est\n",
            "      typiquement de l’ordre de 5–10 acides aminés par seconde.\n",
            "  [2] Polysomes et rendement :\n",
            "  [3] • Un ARNm peut être simultanément traduit par de nombreux ribosomes\n",
            "      assemblés en polysomes (espacement d’environ 80 nt entre ribosomes\n",
            "      successifs) ; un ARNm peut conduire à la synthèse d’un grand nombre de\n",
            "      molécules protéiques au cours de sa vie.\n",
            "  [4] Initiation de la traduction chez les eucaryotes : principes clés\n",
            "  [5] • Objectif : positionner correctement le ribosome au niveau du codon\n",
            "      initiateur ; mécanisme complexe faisant intervenir de nombreux facteurs\n",
            "      d’initiation (eIFs) et un ARNt initiateur spécifique (ARNt‑iMet) qui\n",
            "      s’installe au site P.\n",
            "  [6] Reconnaissance du codon initiateur en eucaryotes :\n",
            "  [7] • Le modèle général repose sur la reconnaissance du premier AUG à partir\n",
            "      de la coiffe 5’ par un mécanisme de scanning ; l’efficacité d’initiation\n",
            "      dépend du contexte de séquence autour de l’AUG (séquence « Kozak » :\n",
            "      gccA/GccAUGG).\n",
            "  [8] Initiation chez les procaryotes :\n",
            "  [9] • Repose sur la reconnaissance d’une séquence d’ancrage en amont du codon\n",
            "      initiateur (séquence Shine‑Dalgarno) ; de multiples sites d’initiation\n",
            "      peuvent exister sur un même ARNm polycistronique.\n",
            "  [10] Élongation — mécanique des sites A, P et E :\n",
            "  [11] • Cycle en quatre étapes : fixation d’un aa‑ARNt au site A, formation\n",
            "      d’une nouvelle liaison peptidique (transfert du peptide depuis le site P),\n",
            "      mouvement de la grande sous‑unité de trois nucléotides, puis translocation\n",
            "      de la petite sous‑unité libérant le site A pour le codon suivant.\n",
            "  [12] Contrôle de la fidélité par les facteurs d’élongation :\n",
            "  [13] • Les aa‑ARNt arrivent au site A complexés avec un facteur d’élongation\n",
            "      lié à la GTP ; un appariement correct induit un changement conformationnel\n",
            "      qui active l’activité GTPase du facteur, entraînant l’hydrolyse du GTP, la\n",
            "      dissociation du facteur et l’accès du résidu porté par l’ARNt à la\n",
            "      réaction de formation de la liaison peptidique.\n",
            "  [14] Mécanismes empêchant les erreurs :\n",
            "  [15] • Un appariement non spécifique n’induit pas l’activation GTPase et\n",
            "      favorise la dissociation rapide de l’ARNt incorrect ; couplé à l’édition\n",
            "      par les aminoacyl‑tRNA synthétases, ces mécanismes limitent\n",
            "      l’incorporation d’acides aminés erronés.\n",
            "  [16] Effet des codons rares :\n",
            "  [17] • Les codons rares, reconnus par des ARNt peu abondants, ralentissent la\n",
            "      traduction locale ; ce ralentissement peut réguler la vitesse de synthèse,\n",
            "      l’efficacité d’expression et le repliement co‑traductionnel des protéines.\n",
            "  [18] Inhibiteurs de la traduction ciblant le ribosome :\n",
            "  [19] • De nombreux antibiotiques bactériens ciblent le ribosome et perturbent\n",
            "      différentes étapes de la traduction (ex. chloramphénicol inhibe la\n",
            "      peptidyl‑transférase sur la 50S, érythromycine bloque le déplacement du\n",
            "      ribosome, tétracyclines interfèrent avec l’appariement codon‑ARNt,\n",
            "      streptomycine induit des erreurs de lecture).\n",
            "  [20] Traduction compartimentalisée : protéines sécrétées, neurones et\n",
            "      mitochondries\n",
            "  [21] • Protéines sécrétées/membranaires : synthèse initiée dans le cytosol,\n",
            "      reconnaissance du peptide signal par la SRP, pause de la traduction,\n",
            "      ancrage du ribosome au réticulum endoplasmique et translocation du peptide\n",
            "      via un canal membranaire ; suivi d’un clivage du signal et d’un transport\n",
            "      Golgi.\n",
            "  [22] • Neurones : transport localisé d’ARNm vers les synapses et traduction à\n",
            "      la demande pour une disponibilité rapide et économique en énergie.\n",
            "  [23] • Mitochondries : machinerie de traduction propre pour les 13 protéines\n",
            "      codées par le génome mitochondrial (22 ARNt et 2 ARNr codés localement) ;\n",
            "      code mitochondrial présente quelques divergences et des règles de wobble\n",
            "      assouplies ; défauts de traduction mitochondriale peuvent causer des\n",
            "      pathologies (cardiomyopathies, myopathies).\n",
            "\n",
            "  [Level 1] ID: SEC_4.1\n",
            "  Title: Principes généraux et polysomes\n",
            "  Content:\n",
            "    [1] Principe général : le ribosome lit l’ARNm et assemble les acides aminés\n",
            "        portés par les ARNt pour construire la protéine.\n",
            "    [2] Points essentiels :\n",
            "    [3] • Une cellule proliférante peut contenir des millions de ribosomes, et\n",
            "        la vitesse d’élongation est d’environ 5–10 acides aminés par seconde\n",
            "        chez les mammifères.\n",
            "    [4] • Polysomes : plusieurs ribosomes traduisent simultanément une même\n",
            "        molécule d’ARNm, augmentant fortement le rendement protéique d’un ARNm\n",
            "        donné.\n",
            "\n",
            "  [Level 1] ID: SEC_4.2\n",
            "  Title: Initiation de la traduction (eucaryotes : scanning/Kozak ; procaryotes : Shine‑Dalgarno)\n",
            "  Content:\n",
            "    [1] Initiation eucaryote : objectif et acteurs principaux :\n",
            "    [2] • But : positionner l’ARNt initiateur (ARNt‑iMet) au site P en regard du\n",
            "        codon initiateur ; processus dépendant de nombreux facteurs d’initiation\n",
            "        (eIFs).\n",
            "    [3] Étapes et éléments déterminants :\n",
            "    [4] • Le complexe pré‑initiation se lie à la coiffe 5’ et ‘‘scanne’’ l’ARNm\n",
            "        jusqu’au premier AUG dans un contexte favorable (séquence Kozak :\n",
            "        gccA/GccAUGG) ; si le contexte est faible, initiation possible sur un\n",
            "        AUG en aval (leaky scanning).\n",
            "    [5] Initiation procaryote : particularités :\n",
            "    [6] • Le ribosome reconnaît une séquence d’appareillage (Shine‑Dalgarno)\n",
            "        située en amont du codon initiateur ; les ARNm bactériens peuvent être\n",
            "        polycistroniques et posséder plusieurs sites d’initiation.\n",
            "\n",
            "  [Level 1] ID: SEC_4.3\n",
            "  Title: Élongation et translocation (mécanique des sites A/P/E)\n",
            "  Content:\n",
            "    [1] Cycle d’élongation — quatre étapes successives :\n",
            "    [2] 1. Fixation de l’aa‑ARNt au site A du ribosome (sélection par\n",
            "        appariement codon‑anticodon).\n",
            "    [3] 2. Catalyse d’une nouvelle liaison peptidique : transfert du peptide (ou\n",
            "        du résidu amincé) depuis le site P vers l’acide aminé porté par l’ARNt\n",
            "        au site A.\n",
            "    [4] 3. Déplacement de la grande sous‑unité de trois nucléotides vers\n",
            "        l’extrémité 3’ de l’ARNm (mouvement relatif des ARNt).\n",
            "    [5] 4. Translocation de la petite sous‑unité ; résultat : l’ancien ARNt au\n",
            "        site A passe au site P, l’ancien ARNt au site P va au site E et le site\n",
            "        A redevient libre pour un nouvel aa‑ARNt.\n",
            "\n",
            "  [Level 1] ID: SEC_4.4\n",
            "  Title: Facteurs d’élongation et contrôle de la fidélité du décodage (GTPase, qualité d’appariement)\n",
            "  Content:\n",
            "    [1] Mécanisme de sélection et rôle des facteurs d’élongation :\n",
            "    [2] • Les aa‑ARNt sont fournis au site A sous forme de complexes avec des\n",
            "        facteurs d’élongation liés à la GTP ; un appariement correct\n",
            "        codon‑anticodon induit des changements conformationnels du ribosome et\n",
            "        du facteur qui activent l’activité GTPase du facteur.\n",
            "    [3] Conséquences de l’activation GTPase :\n",
            "    [4] • Hydrolyse du GTP → dissociation du facteur d’élongation → accès de\n",
            "        l’acide aminé porté par l’ARNt à la catalyse de la liaison peptidique ;\n",
            "        l’énergie de l’hydrolyse contribue également à la translocation.\n",
            "    [5] Mécanisme en cas d’appariement incorrect :\n",
            "    [6] • Aucun changement conformationnel favorable, pas d’hydrolyse de GTP;\n",
            "        l’ARNt incorrect se dissocie rapidement, réduisant l’incorporation\n",
            "        d’acides aminés erronés.\n",
            "\n",
            "  [Level 1] ID: SEC_4.5\n",
            "  Title: Effets du codon (codons rares) sur la vitesse de traduction\n",
            "  Content:\n",
            "    [1] Impact des codons rares :\n",
            "    [2] • Les codons reconnus par des ARNt peu abondants ralentissent la\n",
            "        reconnaissance et donc la vitesse d’élongation locale.\n",
            "    [3] Conséquences biologiques :\n",
            "    [4] • Ce ralentissement peut réguler la quantité de protéine produite et\n",
            "        influencer le repliement co‑traductionnel, la maturation et l’assemblage\n",
            "        des protéines.\n",
            "\n",
            "  [Level 1] ID: SEC_4.6\n",
            "  Title: Antibiotiques ciblant le ribosome (mécanismes d’action)\n",
            "  Content:\n",
            "    [1] Le ribosome bactérien est la cible de nombreux antibiotiques agissant à\n",
            "        différents sites et étapes de la traduction :\n",
            "    [2] • Chloramphénicol : se lie à la sous‑unité 50S et inhibe la formation de\n",
            "        la liaison peptidique (peptidyl‑transférase).\n",
            "    [3] • Érythromycine (macrolides) : se lie à la sous‑unité 50S et empêche le\n",
            "        déplacement du ribosome le long de l’ARNm (bloque la translocation).\n",
            "    [4] • Tétracyclines : interfèrent avec l’appariement entre le codon et\n",
            "        l’ARNt (bloquent le site A).\n",
            "    [5] • Streptomycine : se lie à la sous‑unité 30S et favorise l’incorporation\n",
            "        d’acides aminés incorrects (perturbation du contrôle de lecture).\n",
            "\n",
            "  [Level 1] ID: SEC_4.7\n",
            "  Title: Traduction compartimentalisée (RER, neurones) et traduction mitochondriale\n",
            "  Content:\n",
            "    [1] Traduction des protéines sécrétées et membranaires :\n",
            "    [2] • Début cytosolique ; synthèse d’un peptide signal suivi de sa\n",
            "        reconnaissance par le complexe SRP (signal recognition particle) qui\n",
            "        arrête temporairement la traduction, ancre le ribosome au réticulum\n",
            "        endoplasmique, permet l’engagement du peptide dans un canal membranaire,\n",
            "        puis le relâchement de SRP et la reprise de la traduction à la membrane\n",
            "        ; le peptide signal est ensuite clivé et la protéine traitée via\n",
            "        l’appareil de Golgi.\n",
            "    [3] Traduction localisée dans les neurones :\n",
            "    [4] • Certains ARNm sont transportés vers les terminaisons synaptiques et\n",
            "        traduits localement, permettant une réponse rapide et économe en\n",
            "        énergie.\n",
            "    [5] Traduction mitochondriale :\n",
            "    [6] • Les mitochondries possèdent une machinerie de traduction propre pour\n",
            "        traduire 13 protéines codées par le génome mitochondrial ; 22 ARNt et 2\n",
            "        ARNr sont codés localement, le ribosome mitochondrial est apparenté au\n",
            "        ribosome bactérien, et le code mitochondrial diverge pour quelques\n",
            "        codons avec des règles de wobble assouplies.\n",
            "    [7] Raison de la synthèse locale :\n",
            "    [8] • Certaines protéines mitochondriales sont très hydrophobes et ne\n",
            "        peuvent pas être repliées ou insérées correctement si synthétisées dans\n",
            "        le cytoplasme ; leur synthèse intra‑mitochondriale est nécessaire pour\n",
            "        assurer leur fonction et leur insertion dans la membrane respiratoire.\n",
            "\n",
            "[Root] ID: SEC_5\n",
            "Title: Régulation de la traduction\n",
            "Content:\n",
            "  [1] La régulation de la traduction module la quantité et le moment de synthèse\n",
            "      des protéines et complète les mécanismes de contrôle au niveau de la\n",
            "      transcription et de la stabilité des ARNm/protéines.\n",
            "  [2] Régulation globale de la traduction :\n",
            "  [3] • La disponibilité de facteurs d’initiation (notamment eIF4E, qui\n",
            "      reconnaît la coiffe 5’) peut être régulée pour affecter la traduction de\n",
            "      manière générale.\n",
            "  [4] Mécanisme majeur impliquant eIF4E et 4E‑BP :\n",
            "  [5] • Les protéines 4E‑BP se lient à eIF4E et inhibent sa fonction ; la\n",
            "      phosphorylation des 4E‑BP (via la voie mTOR en aval des facteurs de\n",
            "      croissance et d’insuline) entraîne leur dissociation d’eIF4E, libérant\n",
            "      eIF4E pour l’initiation et provoquant une activation globale de la\n",
            "      traduction.\n",
            "  [6] Régulation spécifique via les régions non traduites des ARNm :\n",
            "  [7] • Les 5’UTR et 3’UTR contiennent des éléments de régulation (motifs,\n",
            "      structures, courts cadres de lecture en amont) qui contrôlent la\n",
            "      traduction d’un ARNm particulier via des interactions avec ARN ou\n",
            "      protéines.\n",
            "  [8] Mécanismes spécifiques : micro‑ARN, protéines liant l’ARN et uORFs\n",
            "  [9] • Les micro‑ARN se lient souvent à des sites situés dans les 3’UTR et\n",
            "      recrutent le complexe RISC pour inhiber l’initiation de la traduction ou\n",
            "      favoriser la dégradation des ARNm cibles.\n",
            "  [10] • Les protéines de liaison à l’ARN (RBP) reconnaissent des motifs\n",
            "      spécifiques dans les UTR et modulent l’initiation (ex. blocage de la\n",
            "      formation du complexe d’initiation).\n",
            "  [11] • De nombreux ARNm contiennent des petits cadres de lecture ouverts en\n",
            "      amont (uORFs) qui, lorsqu’ils sont traduits, peuvent réduire l’initiation\n",
            "      sur le cadre principal et nécessitent des mécanismes de ré‑initiation pour\n",
            "      restaurer la traduction de la protéine d’intérêt.\n",
            "\n",
            "  [Level 1] ID: SEC_5.1\n",
            "  Title: Régulation globale (eIF4E, 4E‑BP, voie mTOR)\n",
            "  Content:\n",
            "    [1] Mécanisme d’action : régulation de la disponibilité du facteur\n",
            "        d’initiation eIF4E.\n",
            "    [2] Points clefs :\n",
            "    [3] • Les protéines 4E‑BP se lient à eIF4E et empêchent la formation du\n",
            "        complexe d’initiation ; lorsque 4E‑BP est phosphorylé (voie mTOR activée\n",
            "        par facteurs de croissance comme l’insuline), il se dissocie d’eIF4E,\n",
            "        permettant l’initiation de la traduction.\n",
            "    [4] • Ce mécanisme module la traduction de façon globale et coordonnée en\n",
            "        réponse à l’état nutritionnel et aux signaux de croissance.\n",
            "\n",
            "  [Level 1] ID: SEC_5.2\n",
            "  Title: Régulation spécifique (5’UTR/3’UTR, micro‑ARN, RBP, uORFs ; exemple FMRP)\n",
            "  Content:\n",
            "    [1] Régulation via les UTR et facteurs associés :\n",
            "    [2] • Les 5’UTR et 3’UTR comportent des éléments cis‑régulateurs reconnus\n",
            "        par des ARN ou des protéines qui modulèrent l’initiation et la stabilité\n",
            "        des ARNm.\n",
            "    [3] Micro‑ARNs et complexe RISC :\n",
            "    [4] • Les micro‑ARN se fixent majoritairement sur des séquences présentes\n",
            "        dans la 3’UTR et recrutent le complexe RISC, ce qui conduit à\n",
            "        l’inhibition de l’initiation de la traduction et parfois à la\n",
            "        dégradation ciblée de l’ARNm.\n",
            "    [5] Protéines de liaison à l’ARN (RBP) :\n",
            "    [6] • De nombreuses RBP (>1000 identifiées) reconnaissent des motifs d’ARN\n",
            "        et influencent la traduction par divers mécanismes (blocage de l’accès\n",
            "        des facteurs d’initiation, remodelage de structures ARN, recrutement de\n",
            "        complexes inhibiteurs ou activateurs).\n",
            "    [7] Exemple fonctionnel — FMRP et régulation synaptique :\n",
            "    [8] • FMRP (protéine impliquée dans le syndrome de l’X fragile) lie la 3’UTR\n",
            "        d’environ 100 ARNm neuronaux et forme un complexe qui se lie à eIF4E,\n",
            "        inhibant l’initiation ; l’activation synaptique conduit à la\n",
            "        phosphorylation de FMRP, dissociation du complexe et initiation locale\n",
            "        de la traduction. L’absence de FMRP provoque une régulation anormale de\n",
            "        la traduction synaptique et des dysfonctions neuronales.\n",
            "    [9] Rôle des uORFs :\n",
            "    [10] • De nombreux transcrits possèdent des uORFs en amont de l’AUG principal\n",
            "        ; leur traduction peut provoquer la dissociation prématurée du ribosome\n",
            "        et réduire la traduction du cadre principal, sauf si des mécanismes de\n",
            "        ré‑initiation sont mis en œuvre.\n"
          ]
        }
      ],
      "source": [
        "print(course.print_content())"
      ]
    },
    {
      "cell_type": "markdown",
      "metadata": {},
      "source": [
        "# Store a course as a artifact that I can load again into Course"
      ]
    },
    {
      "cell_type": "code",
      "execution_count": 12,
      "metadata": {},
      "outputs": [
        {
          "data": {
            "text/plain": [
              "src.models.Content"
            ]
          },
          "execution_count": 12,
          "metadata": {},
          "output_type": "execute_result"
        }
      ],
      "source": [
        "type(course)"
      ]
    },
    {
      "cell_type": "code",
      "execution_count": 13,
      "metadata": {},
      "outputs": [
        {
          "name": "stdout",
          "output_type": "stream",
          "text": [
            "Course Outline:\n",
            "==================================================\n",
            "Nature du code génétique\n",
            "  Découverte et preuves expérimentales du code triplet\n",
            "  Propriétés du code (triplets, dégénérescence, codons initiateur/stop, universalité)\n",
            "  Variations et exceptions au code (mitochondrial, sélénocystéine)\n",
            "  Structure du message codant et conséquences des mutations (phases de lecture)\n",
            "Décodage : ARN de transfert, appariement codon‑anticodon et modifications\n",
            "  Fonction et architecture des ARNt (anticodon, extrémité 3’, structure 3D)\n",
            "  Modifications post‑transcriptionnelles des ARN (nucléosides tRNA, rRNA, pseudo‑uridine en ARNm)\n",
            "  Appariements bancals (wobble) et correspondance codon‑anticodon\n",
            "  Biais d’usage des codons (codon usage bias, abondance d’ARNt)\n",
            "  Aminoacyl‑tRNA synthétases : activation, greffe et édition (fidelité)\n",
            "Structure et biogenèse du ribosome\n",
            "  Organisation des sous‑unités, ARNr et sites fonctionnels (A, P, E)\n",
            "  Modifications des ARNr et implications fonctionnelles\n",
            "  Biogenèse et assemblage des ribosomes (nucléole, snoARN, facteurs d’assemblage)\n",
            "  Hétérogénéité ribosomale et implications physiopathologiques\n",
            "Mécanisme de la traduction\n",
            "  Principes généraux et polysomes\n",
            "  Initiation de la traduction (eucaryotes : scanning/Kozak ; procaryotes : Shine‑Dalgarno)\n",
            "  Élongation et translocation (mécanique des sites A/P/E)\n",
            "  Facteurs d’élongation et contrôle de la fidélité du décodage (GTPase, qualité d’appariement)\n",
            "  Effets du codon (codons rares) sur la vitesse de traduction\n",
            "  Antibiotiques ciblant le ribosome (mécanismes d’action)\n",
            "  Traduction compartimentalisée (RER, neurones) et traduction mitochondriale\n",
            "Régulation de la traduction\n",
            "  Régulation globale (eIF4E, 4E‑BP, voie mTOR)\n",
            "  Régulation spécifique (5’UTR/3’UTR, micro‑ARN, RBP, uORFs ; exemple FMRP)\n"
          ]
        }
      ],
      "source": [
        "print(course.print_outline())"
      ]
    },
    {
      "cell_type": "code",
      "execution_count": 16,
      "metadata": {},
      "outputs": [
        {
          "name": "stdout",
          "output_type": "stream",
          "text": [
            "✅ Course created successfully!\n"
          ]
        }
      ],
      "source": [
        "try:\n",
        "    course_json = course.model_dump_json()\n",
        "    course_dict = json.loads(course_json)\n",
        "    course_formatted = Content.model_validate(course_dict)\n",
        "    \n",
        "    pilot_course = Course(\n",
        "        name=\"Code Genetique et traduction\",\n",
        "        course_title=\"Code Genetique et traduction\",\n",
        "        level=\"L1\", \n",
        "        block=\"SANTE\",\n",
        "        semester=\"S1\",\n",
        "        subject=\"UE2\",\n",
        "        chapter=\"6\",\n",
        "        content=course_formatted\n",
        "    )\n",
        "    \n",
        "    print(\"✅ Course created successfully!\")\n",
        "    \n",
        "except Exception as e:\n",
        "    print(f\"❌ Error creating course: {e}\")\n",
        "    # You could inspect the course_dict here to debug\n",
        "    print(\"Course data structure:\")\n",
        "    print(json.dumps(course_dict, indent=2)[:500] + \"...\")"
      ]
    },
    {
      "cell_type": "code",
      "execution_count": 17,
      "metadata": {},
      "outputs": [
        {
          "name": "stdout",
          "output_type": "stream",
          "text": [
            "Course: Code Genetique et traduction\n",
            "Level: L1\n",
            "Block: SANTE\n",
            "Semester: S1\n",
            "Subject: UE2\n",
            "Chapter: 6\n",
            "\n",
            "\n",
            "Course Outline:\n",
            "==================================================\n",
            "Nature du code génétique\n",
            "  Découverte et preuves expérimentales du code triplet\n",
            "  Propriétés du code (triplets, dégénérescence, codons initiateur/stop, universalité)\n",
            "  Variations et exceptions au code (mitochondrial, sélénocystéine)\n",
            "  Structure du message codant et conséquences des mutations (phases de lecture)\n",
            "Décodage : ARN de transfert, appariement codon‑anticodon et modifications\n",
            "  Fonction et architecture des ARNt (anticodon, extrémité 3’, structure 3D)\n",
            "  Modifications post‑transcriptionnelles des ARN (nucléosides tRNA, rRNA, pseudo‑uridine en ARNm)\n",
            "  Appariements bancals (wobble) et correspondance codon‑anticodon\n",
            "  Biais d’usage des codons (codon usage bias, abondance d’ARNt)\n",
            "  Aminoacyl‑tRNA synthétases : activation, greffe et édition (fidelité)\n",
            "Structure et biogenèse du ribosome\n",
            "  Organisation des sous‑unités, ARNr et sites fonctionnels (A, P, E)\n",
            "  Modifications des ARNr et implications fonctionnelles\n",
            "  Biogenèse et assemblage des ribosomes (nucléole, snoARN, facteurs d’assemblage)\n",
            "  Hétérogénéité ribosomale et implications physiopathologiques\n",
            "Mécanisme de la traduction\n",
            "  Principes généraux et polysomes\n",
            "  Initiation de la traduction (eucaryotes : scanning/Kozak ; procaryotes : Shine‑Dalgarno)\n",
            "  Élongation et translocation (mécanique des sites A/P/E)\n",
            "  Facteurs d’élongation et contrôle de la fidélité du décodage (GTPase, qualité d’appariement)\n",
            "  Effets du codon (codons rares) sur la vitesse de traduction\n",
            "  Antibiotiques ciblant le ribosome (mécanismes d’action)\n",
            "  Traduction compartimentalisée (RER, neurones) et traduction mitochondriale\n",
            "Régulation de la traduction\n",
            "  Régulation globale (eIF4E, 4E‑BP, voie mTOR)\n",
            "  Régulation spécifique (5’UTR/3’UTR, micro‑ARN, RBP, uORFs ; exemple FMRP)\n"
          ]
        }
      ],
      "source": [
        "print(pilot_course.print_outline())"
      ]
    },
    {
      "cell_type": "code",
      "execution_count": 18,
      "metadata": {},
      "outputs": [
        {
          "name": "stdout",
          "output_type": "stream",
          "text": [
            "💾 Course saved to: volume/artifacts/json/code_genetique_et_traduction_20250819_181142.json\n"
          ]
        },
        {
          "data": {
            "text/plain": [
              "'volume/artifacts/json/code_genetique_et_traduction_20250819_181142.json'"
            ]
          },
          "execution_count": 18,
          "metadata": {},
          "output_type": "execute_result"
        }
      ],
      "source": [
        "pilot_course.save_to_json(output_path=\"volume/artifacts/json\")"
      ]
    },
    {
      "cell_type": "code",
      "execution_count": 19,
      "metadata": {},
      "outputs": [
        {
          "name": "stdout",
          "output_type": "stream",
          "text": [
            "📄 Course exported to DOCX: volume/artifacts/docx/Chapitre_6_code_genetique_et_traduction.docx\n"
          ]
        },
        {
          "data": {
            "text/plain": [
              "'volume/artifacts/docx/Chapitre_6_code_genetique_et_traduction.docx'"
            ]
          },
          "execution_count": 19,
          "metadata": {},
          "output_type": "execute_result"
        }
      ],
      "source": [
        "pilot_course.to_docx(output_path=\"volume/artifacts/docx\", template_path=\"volume/templates/fs_template.docx\")"
      ]
    },
    {
      "cell_type": "code",
      "execution_count": 32,
      "metadata": {},
      "outputs": [
        {
          "name": "stdout",
          "output_type": "stream",
          "text": [
            "Type: <class 'src.models.Content'>\n",
            "Is Content? True\n",
            "Sections type: <class 'list'>\n",
            "First section type: <class 'src.models.ContentSection'>\n",
            "First section: id='SEC_1' title='Présentation du module et plan du cours' content=[\"Ce module porte sur l'organisation du génome humain et sur les méthodes biotechnologiques permettant de le caractériser et de l'analyser. Il vise à donner une vision intégrée de la composition, de l'architecture et de la dynamique des génomes, ainsi que des conséquences fonctionnelles et médicales des variations génomiques.\", \"Le plan du cours présente successivement une introduction aux concepts évolutifs et aux organismes modèles, les notions fondamentales de génétique moléculaire, la description du génome humain (nucléaire et mitochondrial), le projet de séquençage, l'architecture globale du génome, la description des éléments constitutifs (gènes codants et non codants, pseudogènes, éléments répétés), la comparaison intergénomique, les différents types de variations et leurs conséquences, la variabilité du génome humain et, enfin, les notions essentielles et mécanismes de l'évolution des génomes.\", \"Les objectifs pédagogiques incluent la compréhension des éléments structuraux et fonctionnels du génome, la capacité à interpréter les résultats de cartographie et de séquençage, et l'aptitude à appréhender les mécanismes évolutifs et les types de variations qui façonnent la diversité génomique. Le cours associera présentations conceptuelles et introduction aux outils d'exploration des données génomiques.\"] subsections=[]\n",
            "Content class: <class 'src.models.Content'>\n",
            "fresh_content's content class: src.models.Content\n"
          ]
        }
      ],
      "source": [
        "# Check what's actually in your fresh_content variable\n",
        "print(f\"Type: {type(fresh_content)}\")\n",
        "print(f\"Is Content? {isinstance(fresh_content, Content)}\")\n",
        "\n",
        "# Check the sections\n",
        "if hasattr(fresh_content, 'sections'):\n",
        "    print(f\"Sections type: {type(fresh_content.sections)}\")\n",
        "    if fresh_content.sections:\n",
        "        print(f\"First section type: {type(fresh_content.sections[0])}\")\n",
        "        print(f\"First section: {fresh_content.sections[0]}\")\n",
        "else:\n",
        "    print(\"No sections attribute\")\n",
        "\n",
        "# Check if it's the right Content class\n",
        "print(f\"Content class: {Content}\")\n",
        "print(f\"fresh_content's content class: {type(fresh_content).__module__}.{type(fresh_content).__name__}\")"
      ]
    },
    {
      "cell_type": "markdown",
      "metadata": {},
      "source": [
        "# Two-shots"
      ]
    },
    {
      "cell_type": "markdown",
      "metadata": {},
      "source": [
        "# Two-shots"
      ]
    },
    {
      "cell_type": "markdown",
      "metadata": {},
      "source": [
        "## Plan from page\n",
        "\n",
        "Extract plan text from PDF for Branch A (two-pass approach)\n"
      ]
    },
    {
      "cell_type": "markdown",
      "metadata": {},
      "source": [
        "## Extract the slides"
      ]
    },
    {
      "cell_type": "code",
      "execution_count": 70,
      "metadata": {},
      "outputs": [
        {
          "name": "stdout",
          "output_type": "stream",
          "text": [
            "2025-08-18 10:12:25,875 [DEBUG] src.data_extraction.slides_extractor: Starting slide extraction from ./volume/slides/cours_1.pdf\n",
            "2025-08-18 10:12:25,924 [DEBUG] src.data_extraction.slides_extractor: PDF opened, found 111 pages\n",
            "2025-08-18 10:12:26,844 [WARNING] pdfminer.pdfinterp: Cannot set gray non-stroke color because /'P412' is an invalid float value\n",
            "2025-08-18 10:12:26,845 [WARNING] pdfminer.pdfinterp: Cannot set gray non-stroke color because /'P414' is an invalid float value\n",
            "2025-08-18 10:12:26,861 [WARNING] pdfminer.pdfinterp: Cannot set gray non-stroke color because /'P444' is an invalid float value\n",
            "2025-08-18 10:12:26,876 [WARNING] pdfminer.pdfinterp: Cannot set gray non-stroke color because /'P451' is an invalid float value\n",
            "2025-08-18 10:12:26,877 [WARNING] pdfminer.pdfinterp: Cannot set gray non-stroke color because /'P455' is an invalid float value\n",
            "2025-08-18 10:12:26,894 [WARNING] pdfminer.pdfinterp: Cannot set gray non-stroke color because /'P465' is an invalid float value\n",
            "2025-08-18 10:12:26,895 [WARNING] pdfminer.pdfinterp: Cannot set gray non-stroke color because /'P467' is an invalid float value\n",
            "2025-08-18 10:12:26,915 [WARNING] pdfminer.pdfinterp: Cannot set gray non-stroke color because /'P482' is an invalid float value\n",
            "2025-08-18 10:12:26,923 [WARNING] pdfminer.pdfinterp: Cannot set gray non-stroke color because /'P488' is an invalid float value\n",
            "2025-08-18 10:12:27,073 [DEBUG] src.data_extraction.slides_extractor: Successfully extracted 110 slides\n"
          ]
        },
        {
          "data": {
            "text/plain": [
              "[Slides(id='SL_001', title='7.1 Architecture du génome', content='L1SpS: UE 2 Les molécules du vivant\\nU.E.2 Les molécules du vivant\\n7. Organisation du génome humain, méthodes en\\nbiotechnologie\\n7.1 Architecture du génome\\nhumain\\nJean Muller\\nLaboratoire Diagnostic Génétique (HUS)\\nLaboratoire de Génétique médicale (Inserm U1112)\\njeanmuller@unistra.fr'),\n",
              " Slides(id='SL_002', title='Plan du cours', content='L1SpS: UE 2 Les molécules du vivant\\nPlan du cours\\n• Introduction\\n• Notions fondamentales\\n• Le génome humain\\n• Projet de séquençage\\n• Architecture globale\\n• Génome mitochondrial\\n• Génome nucléaire\\n• Description des principaux éléments constituants\\n• Gènes (codants et non-codants), pseudogènes et éléments répétés\\n• Comparaison aux autres génomes\\n• Les types de variations du génome humain et leurs conséquences\\n• La variabilité du génome humain\\n• Evolution des génomes: notions essentielles, mécanismes\\n2'),\n",
              " Slides(id='SL_003', title='Introduction', content='L1SpS: UE 2 Les molécules du vivant\\nIntroduction\\n3'),\n",
              " Slides(id='SL_004', title='L’arbre de la vie', content='L1SpS: UE 2 Les molécules du vivant\\nL’arbre de la vie\\nNotions essentielles:\\n• Evolution\\n• Temps\\n• Adaptation\\n• Sélection\\nLUCA\\nLast Universal Common Ancestor\\n4'),\n",
              " Slides(id='SL_005', title='Arbre des eucaryotes', content='L1SpS: UE 2 Les molécules du vivant\\nArbre des eucaryotes\\nChoix d’organismes modèles\\n• Intérêt(s) économique(s)\\n• Intérêt(s) technique(s)\\n• Facilités hébergement,\\n• Développement embryonnaire/temps\\nde génération\\n• Partage d’éléments communs (ADN)\\n• Hérités/Transmis\\n35 eucaryotes\\n18 métazoaires\\n5')]"
            ]
          },
          "execution_count": 70,
          "metadata": {},
          "output_type": "execute_result"
        }
      ],
      "source": [
        "pdf_path = './volume/slides/cours_1.pdf'\n",
        "plan_path = './volume/slides/cours_4_plan.pdf'\n",
        "\n",
        "extractor = SlidesExtractor()\n",
        "\n",
        "slides = extractor.extract_slides(pdf_path=pdf_path)\n",
        "\n",
        "slides[:5]\n",
        "\n"
      ]
    },
    {
      "cell_type": "code",
      "execution_count": 74,
      "metadata": {},
      "outputs": [
        {
          "name": "stdout",
          "output_type": "stream",
          "text": [
            "2025-08-18 10:13:00,872 [DEBUG] src.data_extraction.plan_extractor: Starting plan extraction from ./volume/slides/cours_1.pdf (page 2)\n",
            "2025-08-18 10:13:00,928 [DEBUG] src.data_extraction.plan_extractor: PDF opened, found 111 pages\n",
            "2025-08-18 10:13:00,948 [DEBUG] src.data_extraction.plan_extractor: Successfully extracted plan from page 2 (1599 chars)\n",
            "   L1SpS: UE 2 Les molécules du vivant                                                             \n",
            "      Plan      du     cours                                                                       \n",
            "        •  Introduction                                                                            \n",
            "             •  Notions  fondamentales                                                             \n",
            "        •  Le génome    humain                                                                     \n",
            "             •  Projet de séquençage                                                               \n",
            "             •  Architecture globale                                                               \n",
            "                  •  Génome    mitochondrial                                                       \n",
            "                  •  Génome    nucléaire                                                           \n",
            "             •  Description  des principaux  éléments   constituants                               \n",
            "                  •  Gènes  (codants   et non-codants),  pseudogènes     et éléments  répétés      \n",
            "        •  Comparaison    aux  autres génomes                                                      \n",
            "        •  Les types  de variations  du génome    humain   et leurs conséquences                   \n",
            "        •  La variabilité du génome   humain                                                       \n",
            "        •  Evolution des  génomes:    notions essentielles,  mécanismes                            \n",
            "                                                                                                 2 \n"
          ]
        }
      ],
      "source": [
        "# Test plan extraction\n",
        "plan_extractor = PlanExtractor()\n",
        "\n",
        "plan_txt = plan_extractor.extract_plan_from_page(pdf_path=pdf_path, page_number=2)\n",
        "\n",
        "print(plan_txt)"
      ]
    },
    {
      "cell_type": "markdown",
      "metadata": {},
      "source": [
        "## Build the Outline"
      ]
    },
    {
      "cell_type": "code",
      "execution_count": 75,
      "metadata": {},
      "outputs": [
        {
          "name": "stdout",
          "output_type": "stream",
          "text": [
            "2025-08-18 10:13:26,958 [DEBUG] src.llm.outline_two_pass: Starting outline generation from plan text (1599 chars)\n",
            "2025-08-18 10:13:41,765 [INFO] httpx: HTTP Request: POST https://api.openai.com/v1/responses \"HTTP/1.1 200 OK\"\n",
            "2025-08-18 10:13:41,817 [DEBUG] src.llm.outline_two_pass: Successfully generated outline with 6 sections\n"
          ]
        }
      ],
      "source": [
        "out_builder = OutlineTwoPass()\n",
        "\n",
        "outline = out_builder.build_outline(plan_txt)"
      ]
    },
    {
      "cell_type": "code",
      "execution_count": 78,
      "metadata": {},
      "outputs": [
        {
          "name": "stdout",
          "output_type": "stream",
          "text": [
            "Course Outline:\n",
            "==================================================\n",
            "Introduction\n",
            "  Notions fondamentales\n",
            "Le génome humain\n",
            "  Projet de séquençage\n",
            "  Architecture globale\n",
            "    Génome mitochondrial\n",
            "    Génome nucléaire\n",
            "  Description des principaux éléments constituants\n",
            "    Gènes (codants et non-codants), pseudogènes et éléments répétés\n",
            "Comparaison aux autres génomes\n",
            "Les types de variations du génome humain et leurs conséquences\n",
            "La variabilité du génome humain\n",
            "Evolution des génomes: notions essentielles, mécanismes\n"
          ]
        }
      ],
      "source": [
        "print(outline.print_outline())"
      ]
    },
    {
      "cell_type": "markdown",
      "metadata": {},
      "source": [
        "## Build the mapping"
      ]
    },
    {
      "cell_type": "code",
      "execution_count": 79,
      "metadata": {},
      "outputs": [],
      "source": [
        "slides = slides[:10]"
      ]
    },
    {
      "cell_type": "code",
      "execution_count": 80,
      "metadata": {},
      "outputs": [
        {
          "name": "stdout",
          "output_type": "stream",
          "text": [
            "2025-08-18 10:14:02,625 [DEBUG] src.llm.mapping_two_pass: Starting mapping generation for 10 slides and 6 sections\n",
            "2025-08-18 10:15:20,967 [INFO] httpx: HTTP Request: POST https://api.openai.com/v1/responses \"HTTP/1.1 200 OK\"\n",
            "2025-08-18 10:15:20,996 [DEBUG] src.llm.mapping_two_pass: Successfully generated mapping with 13 entries\n"
          ]
        },
        {
          "data": {
            "text/plain": [
              "src.models.SectionSlideMapping"
            ]
          },
          "execution_count": 80,
          "metadata": {},
          "output_type": "execute_result"
        }
      ],
      "source": [
        "mapping_builder = MappingTwoPass()\n",
        "\n",
        "mapping = mapping_builder.build_mapping(slides=slides, outline=outline) \n",
        "\n",
        "type(mapping)"
      ]
    },
    {
      "cell_type": "code",
      "execution_count": 82,
      "metadata": {},
      "outputs": [
        {
          "name": "stdout",
          "output_type": "stream",
          "text": [
            "Section-to-Slides Mapping:\n",
            "============================================================\n",
            "\n",
            "[Root] SEC_1\n",
            "Title: Introduction\n",
            "Slides: 2 slide(s)\n",
            "Slide IDs: SL_002, SL_003\n",
            "\n",
            "  [Level 1] SEC_1.1\n",
            "  Title: Notions fondamentales\n",
            "  Slides: 7 slide(s)\n",
            "  Slide IDs: SL_004, SL_005, SL_006, SL_007, SL_008, SL_009, SL_010\n",
            "\n",
            "[Root] SEC_2\n",
            "Title: Le génome humain\n",
            "Slides: 1 slide(s)\n",
            "Slide IDs: SL_001\n",
            "\n",
            "  [Level 1] SEC_2.1\n",
            "  Title: Projet de séquençage\n",
            "  Slides: 1 slide(s)\n",
            "  Slide IDs: SL_002\n",
            "\n",
            "  [Level 1] SEC_2.2\n",
            "  Title: Architecture globale\n",
            "  Slides: 1 slide(s)\n",
            "  Slide IDs: SL_001\n",
            "\n",
            "    [Level 2] SEC_2.2.1\n",
            "    Title: Génome mitochondrial\n",
            "    Slides: 1 slide(s)\n",
            "    Slide IDs: SL_001\n",
            "\n",
            "    [Level 2] SEC_2.2.2\n",
            "    Title: Génome nucléaire\n",
            "    Slides: 1 slide(s)\n",
            "    Slide IDs: SL_001\n",
            "\n",
            "  [Level 1] SEC_2.3\n",
            "  Title: Description des principaux éléments constituants\n",
            "  Slides: 1 slide(s)\n",
            "  Slide IDs: SL_001\n",
            "\n",
            "    [Level 2] SEC_2.3.1\n",
            "    Title: Gènes (codants et non-codants), pseudogènes et éléments répétés\n",
            "    Slides: 1 slide(s)\n",
            "    Slide IDs: SL_001\n",
            "\n",
            "[Root] SEC_3\n",
            "Title: Comparaison aux autres génomes\n",
            "Slides: 2 slide(s)\n",
            "Slide IDs: SL_005, SL_009\n",
            "\n",
            "[Root] SEC_4\n",
            "Title: Les types de variations du génome humain et leurs conséquences\n",
            "Slides: 1 slide(s)\n",
            "Slide IDs: SL_009\n",
            "\n",
            "[Root] SEC_5\n",
            "Title: La variabilité du génome humain\n",
            "Slides: 1 slide(s)\n",
            "Slide IDs: SL_006\n",
            "\n",
            "[Root] SEC_6\n",
            "Title: Evolution des génomes: notions essentielles, mécanismes\n",
            "Slides: 2 slide(s)\n",
            "Slide IDs: SL_004, SL_006\n"
          ]
        }
      ],
      "source": [
        "print(mapping.visualize_mapping(outline))"
      ]
    },
    {
      "cell_type": "code",
      "execution_count": 87,
      "metadata": {},
      "outputs": [
        {
          "name": "stdout",
          "output_type": "stream",
          "text": [
            "Course Outline:\n",
            "==================================================\n",
            "Introduction\n",
            "  Notions fondamentales\n",
            "Le génome humain\n",
            "  Projet de séquençage\n",
            "  Architecture globale\n",
            "    Génome mitochondrial\n",
            "    Génome nucléaire\n",
            "  Description des principaux éléments constituants\n",
            "    Gènes (codants et non-codants), pseudogènes et éléments répétés\n",
            "Comparaison aux autres génomes\n",
            "Les types de variations du génome humain et leurs conséquences\n",
            "La variabilité du génome humain\n",
            "Evolution des génomes: notions essentielles, mécanismes\n"
          ]
        }
      ],
      "source": [
        "course_with_slides = outline.enrich_with_slides(slides=slides, mapping=mapping)\n",
        "\n",
        "print(course_with_slides.print_outline())"
      ]
    },
    {
      "cell_type": "markdown",
      "metadata": {},
      "source": [
        "## Write the course"
      ]
    },
    {
      "cell_type": "code",
      "execution_count": 84,
      "metadata": {},
      "outputs": [
        {
          "name": "stdout",
          "output_type": "stream",
          "text": [
            "2025-08-18 10:16:07,926 [DEBUG] src.llm.writer: Starting content enhancement for 6 sections\n",
            "2025-08-18 10:19:58,868 [INFO] httpx: HTTP Request: POST https://api.openai.com/v1/responses \"HTTP/1.1 200 OK\"\n",
            "2025-08-18 10:19:58,980 [DEBUG] src.llm.writer: Successfully enhanced content with 6 sections\n"
          ]
        },
        {
          "data": {
            "text/plain": [
              "src.models.Content"
            ]
          },
          "execution_count": 84,
          "metadata": {},
          "output_type": "execute_result"
        }
      ],
      "source": [
        "writer = Writer()\n",
        "\n",
        "course = writer.write_course(enriched_content=course_with_slides)\n",
        "type(course)"
      ]
    },
    {
      "cell_type": "code",
      "execution_count": 89,
      "metadata": {},
      "outputs": [
        {
          "data": {
            "text/plain": [
              "src.models.Content"
            ]
          },
          "execution_count": 89,
          "metadata": {},
          "output_type": "execute_result"
        }
      ],
      "source": [
        "type(course)"
      ]
    },
    {
      "cell_type": "code",
      "execution_count": 88,
      "metadata": {},
      "outputs": [
        {
          "ename": "ValidationError",
          "evalue": "1 validation error for Course\ncontent\n  Input should be a valid dictionary or instance of Content [type=model_type, input_value=Content(sections=[Content...ides=None, mapping=None), input_type=Content]\n    For further information visit https://errors.pydantic.dev/2.11/v/model_type",
          "output_type": "error",
          "traceback": [
            "\u001b[0;31m---------------------------------------------------------------------------\u001b[0m",
            "\u001b[0;31mValidationError\u001b[0m                           Traceback (most recent call last)",
            "Cell \u001b[0;32mIn[88], line 1\u001b[0m\n\u001b[0;32m----> 1\u001b[0m test_course \u001b[38;5;241m=\u001b[39m \u001b[43mCourse\u001b[49m\u001b[43m(\u001b[49m\n\u001b[1;32m      2\u001b[0m \u001b[43m    \u001b[49m\u001b[43mname\u001b[49m\u001b[38;5;241;43m=\u001b[39;49m\u001b[38;5;124;43m\"\u001b[39;49m\u001b[38;5;124;43mArchitecture du génome humain\u001b[39;49m\u001b[38;5;124;43m\"\u001b[39;49m\u001b[43m,\u001b[49m\n\u001b[1;32m      3\u001b[0m \u001b[43m    \u001b[49m\u001b[43mcourse_title\u001b[49m\u001b[38;5;241;43m=\u001b[39;49m\u001b[38;5;124;43m\"\u001b[39;49m\u001b[38;5;124;43mArchitecture du génome humain\u001b[39;49m\u001b[38;5;124;43m\"\u001b[39;49m\u001b[43m,\u001b[49m\n\u001b[1;32m      4\u001b[0m \u001b[43m    \u001b[49m\u001b[43mlevel\u001b[49m\u001b[38;5;241;43m=\u001b[39;49m\u001b[38;5;124;43m\"\u001b[39;49m\u001b[38;5;124;43mL1\u001b[39;49m\u001b[38;5;124;43m\"\u001b[39;49m\u001b[43m,\u001b[49m\n\u001b[1;32m      5\u001b[0m \u001b[43m    \u001b[49m\u001b[43mblock\u001b[49m\u001b[38;5;241;43m=\u001b[39;49m\u001b[38;5;124;43m\"\u001b[39;49m\u001b[38;5;124;43mSANTE\u001b[39;49m\u001b[38;5;124;43m\"\u001b[39;49m\u001b[43m,\u001b[49m\n\u001b[1;32m      6\u001b[0m \u001b[43m    \u001b[49m\u001b[43msemester\u001b[49m\u001b[38;5;241;43m=\u001b[39;49m\u001b[38;5;124;43m\"\u001b[39;49m\u001b[38;5;124;43mS1\u001b[39;49m\u001b[38;5;124;43m\"\u001b[39;49m\u001b[43m,\u001b[49m\n\u001b[1;32m      7\u001b[0m \u001b[43m    \u001b[49m\u001b[43msubject\u001b[49m\u001b[38;5;241;43m=\u001b[39;49m\u001b[38;5;124;43m\"\u001b[39;49m\u001b[38;5;124;43mUE-1 Constitution et transformation de la matière\u001b[39;49m\u001b[38;5;124;43m\"\u001b[39;49m\u001b[43m,\u001b[49m\n\u001b[1;32m      8\u001b[0m \u001b[43m    \u001b[49m\u001b[43mcontent\u001b[49m\u001b[38;5;241;43m=\u001b[39;49m\u001b[43mcourse\u001b[49m\n\u001b[1;32m      9\u001b[0m \u001b[43m)\u001b[49m\n\u001b[1;32m     11\u001b[0m \u001b[38;5;28mprint\u001b[39m(test_course\u001b[38;5;241m.\u001b[39mprint_outline())\n",
            "File \u001b[0;32m~/Documents/formascience/class_parser/.venv/lib/python3.11/site-packages/pydantic/main.py:253\u001b[0m, in \u001b[0;36mBaseModel.__init__\u001b[0;34m(self, **data)\u001b[0m\n\u001b[1;32m    251\u001b[0m \u001b[38;5;66;03m# `__tracebackhide__` tells pytest and some other tools to omit this function from tracebacks\u001b[39;00m\n\u001b[1;32m    252\u001b[0m __tracebackhide__ \u001b[38;5;241m=\u001b[39m \u001b[38;5;28;01mTrue\u001b[39;00m\n\u001b[0;32m--> 253\u001b[0m validated_self \u001b[38;5;241m=\u001b[39m \u001b[38;5;28;43mself\u001b[39;49m\u001b[38;5;241;43m.\u001b[39;49m\u001b[43m__pydantic_validator__\u001b[49m\u001b[38;5;241;43m.\u001b[39;49m\u001b[43mvalidate_python\u001b[49m\u001b[43m(\u001b[49m\u001b[43mdata\u001b[49m\u001b[43m,\u001b[49m\u001b[43m \u001b[49m\u001b[43mself_instance\u001b[49m\u001b[38;5;241;43m=\u001b[39;49m\u001b[38;5;28;43mself\u001b[39;49m\u001b[43m)\u001b[49m\n\u001b[1;32m    254\u001b[0m \u001b[38;5;28;01mif\u001b[39;00m \u001b[38;5;28mself\u001b[39m \u001b[38;5;129;01mis\u001b[39;00m \u001b[38;5;129;01mnot\u001b[39;00m validated_self:\n\u001b[1;32m    255\u001b[0m     warnings\u001b[38;5;241m.\u001b[39mwarn(\n\u001b[1;32m    256\u001b[0m         \u001b[38;5;124m'\u001b[39m\u001b[38;5;124mA custom validator is returning a value other than `self`.\u001b[39m\u001b[38;5;130;01m\\n\u001b[39;00m\u001b[38;5;124m'\u001b[39m\n\u001b[1;32m    257\u001b[0m         \u001b[38;5;124m\"\u001b[39m\u001b[38;5;124mReturning anything other than `self` from a top level model validator isn\u001b[39m\u001b[38;5;124m'\u001b[39m\u001b[38;5;124mt supported when validating via `__init__`.\u001b[39m\u001b[38;5;130;01m\\n\u001b[39;00m\u001b[38;5;124m\"\u001b[39m\n\u001b[1;32m    258\u001b[0m         \u001b[38;5;124m'\u001b[39m\u001b[38;5;124mSee the `model_validator` docs (https://docs.pydantic.dev/latest/concepts/validators/#model-validators) for more details.\u001b[39m\u001b[38;5;124m'\u001b[39m,\n\u001b[1;32m    259\u001b[0m         stacklevel\u001b[38;5;241m=\u001b[39m\u001b[38;5;241m2\u001b[39m,\n\u001b[1;32m    260\u001b[0m     )\n",
            "\u001b[0;31mValidationError\u001b[0m: 1 validation error for Course\ncontent\n  Input should be a valid dictionary or instance of Content [type=model_type, input_value=Content(sections=[Content...ides=None, mapping=None), input_type=Content]\n    For further information visit https://errors.pydantic.dev/2.11/v/model_type"
          ]
        }
      ],
      "source": [
        "test_course = Course(\n",
        "    name=\"Architecture du génome humain\",\n",
        "    course_title=\"Architecture du génome humain\",\n",
        "    level=\"L1\",\n",
        "    block=\"SANTE\",\n",
        "    semester=\"S1\",\n",
        "    subject=\"UE-1 Constitution et transformation de la matière\",\n",
        "    content=course\n",
        ")\n",
        "\n",
        "print(test_course.print_outline())"
      ]
    },
    {
      "cell_type": "code",
      "execution_count": 90,
      "metadata": {},
      "outputs": [
        {
          "name": "stdout",
          "output_type": "stream",
          "text": [
            "Course content annotation -> <class 'src.models.Content'> src.models\n",
            "Returned content instance -> <class 'src.models.Content'> src.models\n",
            "Same class object? -> False\n"
          ]
        }
      ],
      "source": [
        "from src.models import Content as ModelsContent\n",
        "print(\"Course content annotation ->\", ModelsContent, ModelsContent.__module__)\n",
        "\n",
        "print(\"Returned content instance ->\", type(course), type(course).__module__)\n",
        "\n",
        "print(\"Same class object? ->\", type(course) is ModelsContent)"
      ]
    },
    {
      "cell_type": "markdown",
      "metadata": {},
      "source": [
        "## Tests\n"
      ]
    },
    {
      "cell_type": "code",
      "execution_count": 64,
      "metadata": {},
      "outputs": [
        {
          "name": "stdout",
          "output_type": "stream",
          "text": [
            "🔁 Imports refreshed\n"
          ]
        },
        {
          "data": {
            "text/plain": [
              "({'slides_pdf': '/Users/youssefjanjar/Documents/formascience/class_parser/volume/slides/cours_1.pdf',\n",
              "  'plan_page': 2},\n",
              " {'save_json': True,\n",
              "  'save_docx': True,\n",
              "  'template_path': '/Users/youssefjanjar/Documents/formascience/class_parser/volume/templates/fs_template.docx',\n",
              "  'output_dir': '/Users/youssefjanjar/Documents/formascience/class_parser/volume/artifacts'},\n",
              " CourseMetadata(name='Architecture du génome humain', course_title='Architecture du génome humain', level='L1', block='SANTE', semester='S1', subject='UE-1 - Les bases de la biologie', chapter=None, year=2024, professor='Youssef Janjar'))"
            ]
          },
          "execution_count": 64,
          "metadata": {},
          "output_type": "execute_result"
        }
      ],
      "source": [
        "refresh_imports()\n",
        "\n",
        "from src.models import PipelineConfig\n",
        "\n",
        "config = PipelineConfig.load(\"pipeline.yaml\")\n",
        "config.inputs, config.outputs, config.metadata"
      ]
    },
    {
      "cell_type": "code",
      "execution_count": 65,
      "metadata": {},
      "outputs": [
        {
          "data": {
            "text/plain": [
              "['architecture_du_génome_humain_20250817_224951.json',\n",
              " '.DS_Store',\n",
              " 'architecture_du_génome_humain_filled.docx',\n",
              " 'docx']"
            ]
          },
          "execution_count": 65,
          "metadata": {},
          "output_type": "execute_result"
        }
      ],
      "source": [
        "import os \n",
        "os.listdir(config.outputs['output_dir'])"
      ]
    },
    {
      "cell_type": "code",
      "execution_count": 66,
      "metadata": {},
      "outputs": [
        {
          "name": "stdout",
          "output_type": "stream",
          "text": [
            "Course Outline:\n",
            "==================================================\n",
            "Introduction\n",
            "  Notions fondamentales\n",
            "Le génome humain\n",
            "  Projet de séquençage\n",
            "  Architecture globale\n",
            "    Génome mitochondrial\n",
            "    Génome nucléaire\n",
            "  Description des principaux éléments constituants\n",
            "    Gènes (codants et non-codants), pseudogènes et éléments répétés\n",
            "Comparaison aux autres génomes\n",
            "Les types de variations du génome humain et leurs conséquences\n",
            "La variabilité du génome humain\n",
            "Evolution des génomes: notions essentielles, mécanismes\n"
          ]
        }
      ],
      "source": [
        "from src.course import Course\n",
        "\n",
        "course = Course.load_from_json(config.outputs['output_dir']+'/architecture_du_génome_humain_20250817_224951.json')\n",
        "\n",
        "print(course.content.print_outline())"
      ]
    },
    {
      "cell_type": "code",
      "execution_count": 67,
      "metadata": {},
      "outputs": [
        {
          "name": "stdout",
          "output_type": "stream",
          "text": [
            "💾 Course saved to: /Users/youssefjanjar/Documents/formascience/class_parser/volume/artifacts/json/architecture_du_génome_humain_20250818_082858.json\n"
          ]
        },
        {
          "data": {
            "text/plain": [
              "'/Users/youssefjanjar/Documents/formascience/class_parser/volume/artifacts/json/architecture_du_génome_humain_20250818_082858.json'"
            ]
          },
          "execution_count": 67,
          "metadata": {},
          "output_type": "execute_result"
        }
      ],
      "source": [
        "course.save_to_json(output_path=config.outputs['output_dir'])"
      ]
    },
    {
      "cell_type": "code",
      "execution_count": 61,
      "metadata": {},
      "outputs": [
        {
          "name": "stdout",
          "output_type": "stream",
          "text": [
            "📄 Course exported to DOCX: /Users/youssefjanjar/Documents/formascience/class_parser/volume/artifacts/docx/architecture_du_génome_humain.docx\n"
          ]
        },
        {
          "data": {
            "text/plain": [
              "'/Users/youssefjanjar/Documents/formascience/class_parser/volume/artifacts/docx/architecture_du_génome_humain.docx'"
            ]
          },
          "execution_count": 61,
          "metadata": {},
          "output_type": "execute_result"
        }
      ],
      "source": [
        "course.to_docx(template_path=config.outputs['template_path'], output_path=config.outputs['output_dir']+'/docx')"
      ]
    },
    {
      "cell_type": "markdown",
      "metadata": {},
      "source": [
        "# Testing the pipeline"
      ]
    },
    {
      "cell_type": "code",
      "execution_count": 68,
      "metadata": {},
      "outputs": [
        {
          "name": "stdout",
          "output_type": "stream",
          "text": [
            "Current working directory: /Users/youssefjanjar/Documents/formascience/class_parser\n",
            "Root folder (pathlib): /Users/youssefjanjar/Documents/formascience/class_parser\n",
            "Absolute path: /Users/youssefjanjar/Documents/formascience/class_parser\n",
            "\n",
            "Contents of root folder:\n",
            "📁 .cursor/\n",
            "📄 .DS_Store\n",
            "📄 create_structure.sh\n",
            "📁 audio_extractor/\n",
            "📄 pyproject.toml\n",
            "📄 data_structure.md\n",
            "📁 tests/\n",
            "📁 __pycache__/\n",
            "📄 README.md\n",
            "📁 .mypy_cache/\n",
            "📄 .gitignore\n",
            "📄 diagram.mermaid\n",
            "📄 .env\n",
            "📁 .venv/\n",
            "📄 pipeline.yaml\n",
            "📄 poetry.lock\n",
            "📁 .git/\n",
            "📄 main.py\n",
            "📄 test_workflow.ipynb\n",
            "📁 data/\n",
            "📁 volume/\n",
            "📁 notebooks/\n",
            "📁 src/\n"
          ]
        }
      ],
      "source": [
        "import os\n",
        "from pathlib import Path\n",
        "\n",
        "# Print current working directory\n",
        "print(\"Current working directory:\", os.getcwd())\n",
        "\n",
        "# Print root folder using pathlib\n",
        "root_path = Path.cwd()\n",
        "print(\"Root folder (pathlib):\", root_path)\n",
        "\n",
        "# Print absolute path\n",
        "print(\"Absolute path:\", root_path.absolute())\n",
        "\n",
        "# List contents of root folder\n",
        "print(\"\\nContents of root folder:\")\n",
        "for item in root_path.iterdir():\n",
        "    if item.is_dir():\n",
        "        print(f\"📁 {item.name}/\")\n",
        "    else:\n",
        "        print(f\"📄 {item.name}\")\n"
      ]
    },
    {
      "cell_type": "code",
      "execution_count": 2,
      "metadata": {},
      "outputs": [
        {
          "name": "stderr",
          "output_type": "stream",
          "text": [
            "2025-08-18 13:10:15,439 - pdfminer.pdfinterp - WARNING - Cannot set gray non-stroke color because /'P412' is an invalid float value\n",
            "2025-08-18 13:10:15,440 - pdfminer.pdfinterp - WARNING - Cannot set gray non-stroke color because /'P414' is an invalid float value\n",
            "2025-08-18 13:10:15,455 - pdfminer.pdfinterp - WARNING - Cannot set gray non-stroke color because /'P444' is an invalid float value\n",
            "2025-08-18 13:10:15,470 - pdfminer.pdfinterp - WARNING - Cannot set gray non-stroke color because /'P451' is an invalid float value\n",
            "2025-08-18 13:10:15,472 - pdfminer.pdfinterp - WARNING - Cannot set gray non-stroke color because /'P455' is an invalid float value\n",
            "2025-08-18 13:10:15,488 - pdfminer.pdfinterp - WARNING - Cannot set gray non-stroke color because /'P465' is an invalid float value\n",
            "2025-08-18 13:10:15,490 - pdfminer.pdfinterp - WARNING - Cannot set gray non-stroke color because /'P467' is an invalid float value\n",
            "2025-08-18 13:10:15,512 - pdfminer.pdfinterp - WARNING - Cannot set gray non-stroke color because /'P482' is an invalid float value\n",
            "2025-08-18 13:10:15,519 - pdfminer.pdfinterp - WARNING - Cannot set gray non-stroke color because /'P488' is an invalid float value\n",
            "2025-08-18 13:10:15,727 - src.pipeline - INFO - 🚀 Processing course 'Architecture du génome humain' (Branch A - Plan Provided)\n",
            "2025-08-18 13:10:15,727 - src.pipeline - INFO - 📝 Generating outline from plan...\n",
            "2025-08-18 13:10:26,263 - httpx - INFO - HTTP Request: POST https://api.openai.com/v1/responses \"HTTP/1.1 200 OK\"\n",
            "2025-08-18 13:10:26,318 - src.pipeline - INFO - ✅ Generated outline with 7 sections\n",
            "2025-08-18 13:10:26,319 - src.pipeline - INFO - 🗺️ Generating section-slide mapping...\n",
            "2025-08-18 13:12:39,982 - httpx - INFO - HTTP Request: POST https://api.openai.com/v1/responses \"HTTP/1.1 200 OK\"\n",
            "2025-08-18 13:12:40,014 - src.pipeline - INFO - ✅ Generated section-slide mapping\n",
            "2025-08-18 13:12:40,015 - src.pipeline - INFO - 🔗 Enriching content with slides...\n",
            "2025-08-18 13:12:40,016 - src.pipeline - INFO - ✅ Content enriched with slide data\n",
            "2025-08-18 13:12:40,017 - src.pipeline - INFO - ✍️ Enhancing content with AI...\n",
            "2025-08-18 13:16:48,819 - httpx - INFO - HTTP Request: POST https://api.openai.com/v1/responses \"HTTP/1.1 502 Bad Gateway\"\n",
            "2025-08-18 13:16:48,831 - openai._base_client - INFO - Retrying request to /responses in 0.390291 seconds\n",
            "2025-08-18 13:20:11,608 - httpx - INFO - HTTP Request: POST https://api.openai.com/v1/responses \"HTTP/1.1 200 OK\"\n",
            "2025-08-18 13:20:11,702 - src.pipeline - INFO - ✅ Content enhanced and finalized\n",
            "2025-08-18 13:20:11,705 - src.pipeline - INFO - 💾 Course saved to JSON\n"
          ]
        },
        {
          "name": "stdout",
          "output_type": "stream",
          "text": [
            "💾 Course saved to: /Users/youssefjanjar/Documents/formascience/class_parser/volume/artifacts/json/architecture_du_génome_humain_20250818_132011.json\n"
          ]
        },
        {
          "name": "stderr",
          "output_type": "stream",
          "text": [
            "2025-08-18 13:20:11,906 - src.pipeline - INFO - 💾 Course saved to DOCX\n",
            "2025-08-18 13:20:11,906 - src.pipeline - INFO - 🎉 Course processing complete!\n"
          ]
        },
        {
          "name": "stdout",
          "output_type": "stream",
          "text": [
            "📄 Course exported to DOCX: /Users/youssefjanjar/Documents/formascience/class_parser/volume/artifacts/docx/architecture_du_génome_humain.docx\n",
            "Processed 7 sections from 110 slides\n"
          ]
        }
      ],
      "source": [
        "import logging\n",
        "import sys\n",
        "from pathlib import Path\n",
        "\n",
        "from src.pipeline import CoursePipeline\n",
        "from src.models import CourseMetadata\n",
        "\n",
        "# Configure logging level\n",
        "logging.basicConfig(\n",
        "    level=logging.INFO,  # Change to DEBUG for more detailed logs, WARNING for less\n",
        "    format='%(asctime)s - %(name)s - %(levelname)s - %(message)s',\n",
        "    handlers=[\n",
        "        logging.StreamHandler(),  # Console output\n",
        "        logging.FileHandler('pipeline.log')  # Optional: save to file\n",
        "    ]\n",
        ")\n",
        "\n",
        "# Initialize the pipeline\n",
        "pipeline = CoursePipeline()\n",
        "# Method 1: Using config file\n",
        "course = pipeline.process_from_config(\"configs/cours_1.yaml\")\n",
        "\n",
        "\n",
        "# Get processing statistics\n",
        "stats = pipeline.get_processing_statistics(course)\n",
        "print(f\"Processed {stats['total_sections']} sections from {stats['total_slides']} slides\")"
      ]
    },
    {
      "cell_type": "code",
      "execution_count": 4,
      "metadata": {},
      "outputs": [
        {
          "name": "stdout",
          "output_type": "stream",
          "text": [
            "Course: Architecture du génome humain\n",
            "Level: L1\n",
            "Block: SANTE\n",
            "Semester: S1\n",
            "Subject: UE-1\n",
            "Chapter: 1\n",
            "\n",
            "\n",
            "Course Outline:\n",
            "==================================================\n",
            "Introduction\n",
            "  Notions fondamentales\n",
            "Le génome humain\n",
            "  Projet de séquençage\n",
            "  Architecture globale\n",
            "    Génome mitochondrial\n",
            "    Génome nucléaire\n",
            "Description des principaux éléments constituants\n",
            "  Gènes (codants et non-codants), pseudogènes et éléments répétés\n",
            "Comparaison aux autres génomes\n",
            "Les types de variations du génome humain et leurs conséquences\n",
            "La variabilité du génome humain\n",
            "Evolution des génomes: notions essentielles, mécanismes\n"
          ]
        }
      ],
      "source": [
        "print(course.print_outline())"
      ]
    },
    {
      "cell_type": "code",
      "execution_count": 6,
      "metadata": {},
      "outputs": [
        {
          "data": {
            "text/plain": [
              "['architecture_du_génome_humain_20250818_113431.json',\n",
              " 'architecture_du_génome_humain_20250818_123215.json',\n",
              " 'réplication_et_réparation_de_l’adn_20250818_120405.json',\n",
              " 'architecture_du_génome_humain_20250818_114200.json',\n",
              " 'architecture_du_génome_humain_20250818_132011.json']"
            ]
          },
          "execution_count": 6,
          "metadata": {},
          "output_type": "execute_result"
        }
      ],
      "source": [
        "import os\n",
        "\n",
        "jsons = os.listdir(\"/Users/youssefjanjar/Documents/formascience/class_parser/volume/artifacts/json/\")\n",
        "file_path = \"/Users/youssefjanjar/Documents/formascience/class_parser/volume/artifacts/json/\" + jsons[-1]\n",
        "\n",
        "jsons"
      ]
    },
    {
      "cell_type": "code",
      "execution_count": 7,
      "metadata": {},
      "outputs": [
        {
          "data": {
            "text/plain": [
              "Course(name='Architecture du génome humain', course_title='Architecture du génome humain', level='L1', block='SANTE', semester='S1', subject='UE-1', chapter=1, content=Content(sections=[ContentSection(id='SEC_1', title='Introduction', content=[\"Ce module aborde les molécules du vivant en plaçant le génome au centre d'un cadre plus large qui comprend également le transcriptome, le protéome et le méthylome. Le programme couvre des notions fondamentales d'évolution et d'homologie, la structure et l'architecture du génome humain (nucléaire et mitochondrial), le projet de séquençage, la description des éléments constitutifs du génome, la comparaison avec d'autres génomes, ainsi que les types et les conséquences des variations génomiques.\", \"Le génome est présenté comme une référence stable de l'information héréditaire d'un organisme, servant de base de comparaison pour les autres couches fonctionnelles (expression, modifications épigénétiques, production protéique). L'étude intégrée de ces différentes couches permet de mieux comprendre la régulation, la variabilité interindividuelle et les mécanismes pathologiques associés aux altérations de l'ADN.\"], subsections=[ContentSection(id='SEC_1.1', title='Notions fondamentales', content=[\"L'arbre du vivant fournit le cadre conceptuel pour comprendre l'origine et la diversification des génomes : l'évolution s'appréhende comme un processus temporel d'accumulation et de sélection de variations, favorisant l'adaptation aux conditions environnementales. La notion de Last Universal Common Ancestor (LUCA) illustre l'existence d'un ancêtre commun pour les grandes lignées du vivant.\", \"Le choix d'organismes modèles en biologie repose sur des critères pratiques et biologiques : intérêts économique et technique, facilité d'hébergement et de manipulation, temps de génération et développement embryonnaire, ainsi que la conservation d'éléments moléculaires communs qui permettent de transférer des connaissances d'un modèle à un autre.\", \"L'homologie désigne un caractère partagé par plusieurs espèces en raison d'un ancêtre commun ; elle se distingue de l'analogie, qui résulte d'évolutions convergentes indépendantes. Sur le plan génétique, l'orthologie regroupe des gènes homologues séparés par un événement de spéciation tandis que la paralogie décrit des gènes homologues issus d'une duplication au sein d'une même lignée.\", \"La détermination de l'homologie s'appuie principalement sur l'alignement des séquences et le calcul de pourcentages d'identité ou de similarité : l'identité correspond aux résidus strictement identiques et la similarité inclut les substitutions conservatrices. Des seuils empiriques existent mais varient selon les familles de protéines et la complexité des séquences ; il convient de rester prudent en présence de régions de faible complexité ou de convergences évolutives qui peuvent engendrer des similitudes non homologues.\", \"Dans le cadre du dogme central, le gène est considéré comme une unité d'information transcrite en ARN, qui peut ensuite servir de matrice pour la synthèse protéique ou exercer des fonctions régulatrices sous forme d'ARN non codants. Cette perspective relie structure génomique, expression et fonction moléculaire.\"], subsections=[])]), ContentSection(id='SEC_2', title='Le génome humain', content=[\"Le génome humain se compose d'un génome nucléaire et d'un génome mitochondrial. Le génome nucléaire comprend 22 paires d'autosomes et une paire de chromosomes sexuels (X et Y) dans la plupart des individus diploïdes, tandis que le génome mitochondrial est généralement une molécule circulaire distincte de petite taille.\", \"La distinction haploïde/diploïde est centrale en génétique : la cellule diploïde dérive de l'association de génomes d'origine paternelle et maternelle, et la nomenclature cytogénétique reflète l'organisation chromosomique. L'organisation chromosomique varie selon l'état du cycle cellulaire (condensation en métaphase versus organisation interphasique du noyau).\", \"Une faible fraction du génome est fortement conservée au cours de l'évolution : seules quelques pourcentages des bases sont soumises à une pression de conservation élevée, ce qui indique que la majorité du génome tolère des variations plus importantes ou est soumise à d'autres formes de contraintes fonctionnelles.\"], subsections=[ContentSection(id='SEC_2.1', title='Projet de séquençage', content=[\"Le projet de détermination de la séquence du génome humain a été conçu comme une entreprise internationale de longue haleine mobilisant des ressources et des efforts soutenus sur plus d'une décennie. L'ambition était de produire une carte de référence de l'euchromatine et d'obtenir une séquence de haute qualité pour servir de support aux recherches fondamentales et médicales.\", \"La stratégie combinait une cartographie génétique, fondée sur les fréquences de recombinaison (mesurées en centiMorgans), et une cartographie physique exprimée en distance réelle (kilobases, mégabases). Ces deux approches ont permis d'ordonner des marqueurs et des fragments avant l'assemblage des lectures de séquençage.\", \"La production de la séquence s'est faite en plusieurs étapes : une version initiale dite « draft » a fourni une couverture importante du génome avec une qualité variable, suivie d'une version finalisée de qualité élevée. Malgré l'atteinte d'une très grande complétude, le génome de référence a continué d'être amélioré au fil du temps pour résoudre des régions répétées ou structurellement complexes.\"], subsections=[]), ContentSection(id='SEC_2.2', title='Architecture globale', content=[\"L'architecture du génome se déploie à différentes échelles et peut être explorée à l'aide d'outils de visualisation qui permettent une navigation du niveau chromosomique au niveau d'un locus précis. Ces interfaces intègrent des annotations variées — gènes, profils protéiques, régions conservées — facilitant l'interprétation fonctionnelle d'une position génomique.\", \"À l'échelle d'un gène, la représentation inclut l'orientation de transcription, la localisation des exons et introns, et les éléments régulateurs adjacents ; le zoom local révèle la structure fine nécessaire à l'interprétation des variations et des mécanismes d'expression.\", \"Un contraste majeur existe entre les génomes nucléaire et mitochondrial : le génome nucléaire haploïde représente plusieurs gigabases, est enrichi en séquences répétées (souvent >50 %), et ne contient qu'une faible proportion de régions codantes (~1 %). Le génome mitochondrial est très compact (quelques dizaines de kilobases), densément codant, dépourvu d'introns et présent en de très nombreux exemplaires par cellule, avec un mode d'héritage et des caractéristiques propres.\"], subsections=[ContentSection(id='SEC_2.2.1', title='Génome mitochondrial', content=[\"Le génome mitochondrial est un petit génome circulaire, d'environ 16,6 kilobases chez l'homme, caractérisé par une organisation compacte et l'encodage d'un ensemble restreint de gènes. Il contient en général 37 gènes au total : treize codants pour des protéines impliquées dans la phosphorylation oxydative et une vingtaine d'ARN de transfert et d'ARN ribosomaux nécessaires à la traduction mitochondriale.\", \"La table codante mitochondriale diffère légèrement de la table standard nucléaire, entraînant des usages spécifiques de certains codons. Cette organisation rappelle l'origine endosymbiotique probable des mitochondries et explique en partie la similitude avec des génomes bactériens.\", \"D'un point de vue héréditaire et populationnel, le génome mitochondrial est transmis majoritairement par voie maternelle et se présente en de très nombreux exemplaires par cellule (>1000), ce qui rend possible la coexistence de variantes différentes au sein d'un même individu (hétéroplasmie) avec des proportions variables selon les tissus et l'âge. Les génomes mitochondriaux varient en taille et en organisation entre espèces, allant de formes très compactes chez de nombreux animaux à des structures plus étendues chez certaines plantes et champignons.\"], subsections=[]), ContentSection(id='SEC_2.2.2', title='Génome nucléaire', content=[\"Le génome nucléaire haploïde humain représente environ 3,1 gigabases de séquence et constitue l'essentiel du matériel génétique codant et non codant. Il a été caractérisé progressivement grâce à des versions de référence publiées au début du XXIe siècle puis complétées et raffinées lors d'itérations ultérieures.\", \"Sa organisation distingue la euchromatine, région relativement ouverte et riche en gènes et en activité transcriptionnelle, et l'hétérochromatine constitutive, zone condensée riche en séquences répétées et généralement transcriptionnellement inactive. Cette dichotomie structure-fonction influence les possibilités d'expression, de recombinaison et la stabilité des régions génomiques.\"], subsections=[])])]), ContentSection(id='SEC_3', title='Description des principaux éléments constituants', content=[\"Les principaux composants du génome humain comprennent les gènes codants et non codants, les pseudogènes et une grande diversité d'éléments répétitifs. Chacun de ces éléments contribue différemment à la structure, à la fonction et à l'évolution du génome.\", \"La connaissance détaillée de ces constituants est essentielle pour comprendre l'expression génique, l'impact des variations et les mécanismes évolutifs ; les sections suivantes décrivent ces classes en précisant leur origine, leur organisation et leurs implications fonctionnelles.\"], subsections=[ContentSection(id='SEC_3.1', title='Gènes (codants et non-codants), pseudogènes et éléments répétés', content=[\"Un gène est défini comme un segment d'ADN utilisé comme matrice pour la synthèse d'un ARN simple brin au cours de la transcription. Les ARN messagers (ARNm) codent pour des protéines tandis que de nombreuses classes d'ARN non codants (ARNt, ARNr, microARN, snoARN, snARN, lncARN, etc.) jouent des rôles essentiels dans la traduction, la régulation et l'organisation nucléaire.\", \"Le génome humain contient environ vingt mille gènes codants identifiés et un nombre nettement supérieur d'ARN non codants ; le bilan global (codants + non codants) se stabilise autour de plusieurs dizaines de milliers d'entités annotées, bien que ces chiffres restent susceptibles d'ajustements au fur et à mesure des améliorations des annotations.\", \"La taille des gènes et des protéines est extrêmement variable : la longueur moyenne d'un gène est de l'ordre de plusieurs dizaines de kilobases, mais des gènes peuvent être très compacts ou s'étendre sur des mégabases. Les protéines vont de très courtes séquences à des protéines géantes, la titine étant l'exemple d'une protéine d'une taille exceptionnelle. De même, le nombre et la taille des exons et introns varient fortement entre gènes, ce qui conditionne la complexité des isoformes transcrites.\", \"Des exemples concrets montrent cette diversité structurelle : certains gènes présentent quelques exons compacts, d'autres des dizaines d'exons et des introns très longs, illustrant que la structure génomique est adaptée à la fonction protéique et aux contraintes d'expression.\", \"L'organisation des gènes sur le génome peut être non regroupée, avec des territoires géniques indépendants et parfois chevauchants, ou bien groupée en clusters résultant de duplications en tandem. Les clusters associent souvent des gènes homologues, des orientations transcriptionnelles conservées et la présence de pseudogènes ; des familles telles que les gènes d'histones ou les récepteurs olfactifs illustrent ces organisations en clusters.\", \"Les gènes non codants sont nombreux et structurés en ensembles spécifiques : on trouve plusieurs centaines de gènes codant pour des ARNt (et des pseudogènes associés) et de multiples copies d'ARN ribosomaux répartis en grands clusters. La quantification exacte de certaines classes, notamment des répétitions d'ARN ribosomal, reste partiellement incertaine en raison de leur structure répétitive.\", \"Les pseudogènes représentent des copies généralement défectueuses de gènes fonctionnels et concernent une proportion notable du génome codant. On distingue des pseudogènes non processés (résultant de duplications conservant structure intron/exon), des pseudogènes processés (issus de rétrotransposition d'ARNm, dépourvus d'introns et de régions régulatrices) et des pseudogènes unitaires (résultant de la dégradation d'un gène unique soumis à une pression de sélection diminuée). Bien que longtemps considérés comme fossiles, certains pseudogènes sont transcrits et peuvent jouer des rôles régulateurs.\", \"Les éléments répétitifs occupent une part importante du génome et se classent en répétitions en tandem (satellites, minisatellites, microsatellites) et en éléments répétés dispersés (dérivés de transposons). Les microsatellites, fréquents et polymorphiques, sont utiles pour le génotypage et l'identification individuelle, tandis que les répétitions dispersées forment une fraction majeure du génome.\", 'Parmi les éléments dispersés, les rétrotransposons se propagent par un mécanisme de type « copié-collé » impliquant une étape ARN puis une rétrotranscription en ADN ; les LINEs (notamment Line-1) constituent de nombreuses copies dont une petite fraction reste potentiellement active et code des protéines nécessaires à la mobilité (ORF1, ORF2). Les SINEs, tels que les éléments Alu chez les primates, sont plus courts et non autonomes, utilisant la machinerie des LINEs pour leur propagation.', \"D'autres éléments répétés comprennent des rétrovirus à LTR, disposant d'une machinerie génétique typique, et des transposons à mécanisme « coupé-collé » dépendant d'une transposase. La plupart de ces éléments sont aujourd'hui inactifs ou fortement dégradés, mais ils constituent un moteur majeur de diversification et d'évolution génomique.\"], subsections=[])]), ContentSection(id='SEC_4', title='Comparaison aux autres génomes', content=[\"La capacité codante d'une espèce n'est pas proportionnelle à la taille totale de son génome ni au nombre de chromosomes ; des organismes très différents peuvent présenter des nombres de gènes comparables alors que leur contenu non codant et répétitif diffère énormément.\", \"La distribution du nombre de gènes varie selon les grands groupes du vivant et ne reflète pas de manière simple la complexité physiologique d'un organisme : unicellulaires et multicellulaires peuvent partager des ordres de grandeur similaires pour le nombre de gènes, la différence résidant souvent dans l'organisation régulatrice et la diversité d'isoformes.\", 'Les génomes compacts et pauvres en séquences répétées tendent à montrer une relation plus linéaire entre taille et nombre de gènes, mais chez les eucaryotes supérieurs le nombre de gènes est largement influencé par des duplications, des éléments répétitifs et des introns qui rendent impossible une corrélation simple entre taille du génome et complexité biologique.'], subsections=[]), ContentSection(id='SEC_5', title='Les types de variations du génome humain et leurs conséquences', content=[\"Dans le langage courant, on parle de mutation pour désigner une modification héritée de l'information contenue dans le génome. En médecine et en génétique, le terme se réserve souvent aux altérations de séquence associées à un phénotype pathologique ; il convient de distinguer les mutations délétères des polymorphismes, ces derniers étant des variations présentes à une fréquence élevée (classiquement ≥ 1 %) dans une population donnée.\", \"Les variations peuvent être classées selon leur taille et leur nature : les variations ponctuelles ou de petite taille (quelques bases jusqu'à une cinquantaine) sont désignées SNV ou petites indels, tandis que les variations de structure touchent des segments plus larges (>50 pb) et comprennent délétions, duplications, inversions et translocations. Les variations de nombre de copies (CNV) font partie des remaniements déséquilibrés affectant la copie d'un segment donné.\", \"Une nomenclature standardisée est utilisée pour décrire les variations à différents niveaux : la notation génomique (g.), la notation sur ARNm (c.) et la notation protéique (p.) permettent de localiser et d'indiquer précisément la nature d'un changement. Les acides aminés sont souvent abrégés par une lettre ou un nom et sont référencés par leur position, par exemple p.Arg22Ser ou p.Arg22* pour une substitution ou un codon stop.\", \"Un individu peut porter de multiples variations sur un même gène ou sur des allèles différents ; la notation phasée ou non phasée (indication que des variations sont sur le même allèle ou sur des allèles différents) est importante pour l'interprétation fonctionnelle et clinique. La représentation correcte des génotypes est essentielle pour évaluer la cooccurrence et les effets combinés de variantes.\", \"Le statut de polymorphisme versus mutation pathogène dépend de la fréquence allélique, des données fonctionnelles, du contexte de transmission et de l'association avec un phénotype. Des exemples cliniques illustrent ces distinctions : une variation délétère sur un gène lié à l'X peut manifester un phénotype sévère chez l'homme tandis que la femme peut être asymptomatique ou présenter un phénotype plus tardif ; d'autres maladies requièrent la présence de deux allèles pathogènes (mode autosomique récessif) pour s'exprimer.\", \"Au plan moléculaire, les substitutions nucléotidiques peuvent être synonymes, faux-sens ou non-sens selon leur effet sur la séquence codante ; les indels conduisent à des décalages du cadre de lecture si leur longueur n'est pas un multiple de trois, entraînant fréquemment des protéines tronquées ou aberrantes. La localisation d'une variation dans l'architecture du gène (exon, intron, jonction d'épissage, régions régulatrices) conditionne souvent son impact fonctionnel.\", \"Les sites d'épissage (site donneur 5' et site accepteur 3') suivent des motifs canoniques (GT-AG pour la grande majorité) et les altérations de ces motifs peuvent provoquer la rétention d'introns, l'usage de sites cryptiques ou le saut d'exons, entraînant souvent des décalages du cadre de lecture ou la perte d'éléments structuraux essentiels de la protéine.\", \"Les expansions de trinucléotides ou autres répétitions unitaires représentent un mécanisme particulier de mutation dynamique : une amplification instable du nombre de répétitions peut se produire lors de la réplication et conduire à des pathologies lorsque le seuil critique est dépassé. Ces mutations dynamiques sont à l'origine d'une vingtaine à plusieurs dizaines de maladies bien caractérisées qui diffèrent par la séquence répétée et sa localisation génique.\", \"Les variations de structure à grande échelle modifient la localisation ou le nombre de copies de larges segments génomiques et sont fréquentes entre génomes individuels : des études comparatives ont mis en évidence plusieurs milliers d’événements de variation structurale entre deux génomes, incluant des grandes délétions, des CNV, des insertions d'éléments mobiles et des inversions. Ces remaniements affectent un grand nombre de bases et représentent la principale source de variabilité en termes de masse de séquence impliquée.\", \"Enfin, d'autres mécanismes (conversion génique entre séquences très homologues, empreinte parentale par méthylation différentielle, etc.) peuvent influencer l'expression et la pathogénicité d'une variation. Les conséquences fonctionnelles des altérations sont classiquement décrites comme perte de fonction, gain de fonction ou effet dominant négatif, et leur interprétation nécessite une évaluation contextuelle fondée sur la biologie moléculaire et les données cliniques.\"], subsections=[]), ContentSection(id='SEC_6', title='La variabilité du génome humain', content=[\"Le génome humain présente une grande diversité qui résulte de multiples sources de variation : substitutions ponctuelles, indels, variations structurales, expansions répétées et insertions d'éléments mobiles. Certaines variations sont rares et potentiellement délétères, d'autres fréquemment retrouvées dans des populations en raison d'effets fondateurs ou de mécanismes récurrents.\", \"Des inventaires de variations cumulées à l'échelle mondiale répertorient à présent des centaines de millions voire plus d'un milliard de variations individuelles et plusieurs millions de variations structurales ; ces catalogues publics illustrent l'étendue de la variabilité observée et constituent un référentiel essentiel pour l'interprétation clinique et l'étude de la population.\"], subsections=[]), ContentSection(id='SEC_7', title='Evolution des génomes: notions essentielles, mécanismes', content=[\"L'évolution des génomes s'inscrit dans les notions fondamentales d'évolution, de temps, d'adaptation et de sélection : les génomes se modifient au fil des générations par l'ajout, la perte et le remaniement de matériel génétique, et ces modifications peuvent conférer des avantages sélectifs ou neutralité, conduisant à l'installation de traits héritables ou à la divergence d'espèces.\", \"Les mécanismes moléculaires responsables de ces changements sont variés : substitutions ponctuelles et petites indels modifient localement les séquences, tandis que les remaniements structuraux (du simple déplacement d'un élément mobile à des délétions/duplications massives) réorganisent l'architecture du génome et créent des opportunités pour l'innovation fonctionnelle.\", \"La duplication d'exons et le brassage d'exons (« exon shuffling ») sont des processus qui génèrent de nouveaux domaines protéiques et modulent la modularité des protéines ; ces événements résultent souvent de recombinaisons non alléliques, d'activités de rétrotransposons ou d'erreurs de réparation des cassures double brin. La duplication de gènes, qu'elle soit partielle ou complète, permet ensuite la néofonctionnalisation ou la sous-division des fonctions (subfunctionalisation) entre copies.\", \"À une échelle plus large, des duplications complètes du génome (polyploïdisation) ont été documentées au cours de l'histoire évolutive de certaines lignées et peuvent provoquer des sauts de complexité adaptative en fournissant des copies supplémentaires de gènes susceptibles d'évoluer librement. Au total, ces mécanismes combinés expliquent la dynamique des génomes et l'émergence de nouvelles fonctions au fil du temps.\"], subsections=[])], slides=None, mapping=None), total_slides=110)"
            ]
          },
          "execution_count": 7,
          "metadata": {},
          "output_type": "execute_result"
        }
      ],
      "source": [
        "from src.course import Course\n",
        "\n",
        "course = Course.load_from_json(\n",
        "file_path)\n",
        "course"
      ]
    },
    {
      "cell_type": "code",
      "execution_count": 10,
      "metadata": {},
      "outputs": [],
      "source": [
        "course.subject = \"UE-2\"\n",
        "course.chapter = \"7.1\""
      ]
    },
    {
      "cell_type": "code",
      "execution_count": 11,
      "metadata": {},
      "outputs": [
        {
          "name": "stdout",
          "output_type": "stream",
          "text": [
            "Course: Architecture du génome humain\n",
            "Level: L1\n",
            "Block: SANTE\n",
            "Semester: S1\n",
            "Subject: UE-2\n",
            "Chapter: 7.1\n",
            "\n",
            "\n",
            "Course Outline:\n",
            "==================================================\n",
            "Introduction\n",
            "  Notions fondamentales\n",
            "Le génome humain\n",
            "  Projet de séquençage\n",
            "  Architecture globale\n",
            "    Génome mitochondrial\n",
            "    Génome nucléaire\n",
            "Description des principaux éléments constituants\n",
            "  Gènes (codants et non-codants), pseudogènes et éléments répétés\n",
            "Comparaison aux autres génomes\n",
            "Les types de variations du génome humain et leurs conséquences\n",
            "La variabilité du génome humain\n",
            "Evolution des génomes: notions essentielles, mécanismes\n"
          ]
        }
      ],
      "source": [
        "print(course.print_outline())"
      ]
    },
    {
      "cell_type": "code",
      "execution_count": 7,
      "metadata": {},
      "outputs": [
        {
          "name": "stdout",
          "output_type": "stream",
          "text": [
            "💾 Course saved to: volume/artifacts/json/architecture_du_génome_humain_20250818_114200.json\n"
          ]
        },
        {
          "data": {
            "text/plain": [
              "'volume/artifacts/json/architecture_du_génome_humain_20250818_114200.json'"
            ]
          },
          "execution_count": 7,
          "metadata": {},
          "output_type": "execute_result"
        }
      ],
      "source": [
        "course.save_to_json(output_path=\"volume/artifacts/json\")"
      ]
    },
    {
      "cell_type": "code",
      "execution_count": 12,
      "metadata": {},
      "outputs": [
        {
          "name": "stdout",
          "output_type": "stream",
          "text": [
            "📄 Course exported to DOCX: volume/artifacts/docx/architecture_du_génome_humain.docx\n"
          ]
        },
        {
          "data": {
            "text/plain": [
              "'volume/artifacts/docx/architecture_du_génome_humain.docx'"
            ]
          },
          "execution_count": 12,
          "metadata": {},
          "output_type": "execute_result"
        }
      ],
      "source": [
        "atifacts_path = \"volume/artifacts/docx\"\n",
        "template_path = \"volume/templates/fs_template.docx\"\n",
        "course.to_docx(output_path=atifacts_path, template_path=template_path)"
      ]
    },
    {
      "cell_type": "markdown",
      "metadata": {},
      "source": [
        "## Step 1: Data Extraction - Slides\n",
        "\n",
        "Extract slides from PDF using the exact logic from poc.ipynb\n"
      ]
    },
    {
      "cell_type": "code",
      "execution_count": null,
      "metadata": {},
      "outputs": [],
      "source": [
        "# Method 2: Direct method call\n",
        "metadata = CourseMetadata(\n",
        "    name=\"Architecture du génome humain\",\n",
        "    course_title=\"Architecture du génome humain\",\n",
        "    level=\"L1\",\n",
        "    block=\"SANTE\",\n",
        "    semester=\"S1\",\n",
        "    subject=\"UE-1 Constitution et transformation de la matière\"\n",
        ")\n",
        "\n",
        "course = pipeline.process_course_no_plan(\n",
        "    slides=slides,  # Your slides list\n",
        "    metadata=metadata,\n",
        "    save_json=True,\n",
        "    save_docx=True,\n",
        "    test_mode=True,  # Process only first 10 slides\n",
        "    output_path=\"\"\n",
        ")\n",
        "\n",
        "# Get processing statistics\n",
        "stats = pipeline.get_processing_statistics(course)\n",
        "print(f\"Processed {stats['total_sections']} sections from {stats['total_slides']} slides\")"
      ]
    }
  ],
  "metadata": {
    "kernelspec": {
      "display_name": ".venv",
      "language": "python",
      "name": "python3"
    },
    "language_info": {
      "codemirror_mode": {
        "name": "ipython",
        "version": 3
      },
      "file_extension": ".py",
      "mimetype": "text/x-python",
      "name": "python",
      "nbconvert_exporter": "python",
      "pygments_lexer": "ipython3",
      "version": "3.11.13"
    }
  },
  "nbformat": 4,
  "nbformat_minor": 2
}
