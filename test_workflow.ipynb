{
  "cells": [
    {
      "cell_type": "markdown",
      "metadata": {},
      "source": [
        "# Class Parser Workflow Test\n",
        "\n",
        "This notebook reproduces the workflow from poc.ipynb step by step using the new src/ structure.\n",
        "Test each component individually and then run the complete pipeline.\n",
        "\n",
        "## Workflow Overview\n",
        "1. **Data Extraction** - Extract slides and plan from PDF (deterministic)\n",
        "2. **Branch A** - With plan: outline_two_pass → mapping_two_pass → enrich → writer\n",
        "3. **Branch B** - No plan: outline_one_shot → enrich → writer\n",
        "4. **Export** - Generate DOCX document\n"
      ]
    },
    {
      "cell_type": "code",
      "execution_count": 1,
      "metadata": {},
      "outputs": [
        {
          "name": "stdout",
          "output_type": "stream",
          "text": [
            "🔁 Imports refreshed\n"
          ]
        }
      ],
      "source": [
        "# Dev hot-reload setup (no kernel restart needed)\n",
        "%load_ext autoreload\n",
        "%autoreload 2\n",
        "\n",
        "import sys, importlib\n",
        "from pathlib import Path\n",
        "# Ensure project root is on sys.path\n",
        "sys.path.insert(0, str(Path('.').resolve()))\n",
        "\n",
        "import src\n",
        "import src.models as models\n",
        "import src.llm as llm\n",
        "import src.data_extraction as data_extraction\n",
        "import src.course as course_mod\n",
        "import src.pipeline as pipeline_mod\n",
        "\n",
        "\n",
        "def refresh_imports():\n",
        "    \"\"\"Reload modules and rebind notebook aliases.\"\"\"\n",
        "    importlib.reload(src)\n",
        "    importlib.reload(models)\n",
        "    importlib.reload(llm)\n",
        "    importlib.reload(data_extraction)\n",
        "    importlib.reload(course_mod)\n",
        "    importlib.reload(pipeline_mod)\n",
        "    \n",
        "    globals().update({\n",
        "        # Models\n",
        "        \"Content\": models.Content,\n",
        "        \"ContentSection\": models.ContentSection,\n",
        "        \"MappingItem\": models.MappingItem,\n",
        "        \"SectionSlideMapping\": models.SectionSlideMapping,\n",
        "        \"Slides\": models.Slides,\n",
        "        \"OutlineAndMapping\": models.OutlineAndMapping,\n",
        "        # LLM\n",
        "        \"OutlineOneShot\": llm.OutlineOneShot,\n",
        "        \"OutlineTwoPass\": llm.OutlineTwoPass,\n",
        "        \"MappingTwoPass\": llm.MappingTwoPass,\n",
        "        \"Writer\": llm.Writer,\n",
        "        \"PromptManager\": llm.PromptManager,\n",
        "        # Deterministic extractors\n",
        "        \"SlidesExtractor\": data_extraction.SlidesExtractor,\n",
        "        \"PlanExtractor\": data_extraction.PlanExtractor,\n",
        "        # Orchestrators\n",
        "        \"Course\": course_mod.Course,\n",
        "        \"CoursePipeline\": pipeline_mod.CoursePipeline,\n",
        "    })\n",
        "    print(\"🔁 Imports refreshed\")\n",
        "\n",
        "# Initial bind\n",
        "refresh_imports()\n"
      ]
    },
    {
      "cell_type": "markdown",
      "metadata": {},
      "source": [
        "## Step 1: Data Extraction - Slides\n",
        "\n",
        "Extract slides from PDF using the exact logic from poc.ipynb\n"
      ]
    },
    {
      "cell_type": "code",
      "execution_count": 2,
      "metadata": {},
      "outputs": [
        {
          "name": "stdout",
          "output_type": "stream",
          "text": [
            "id 0 : cours_4_plan.pdf\n",
            "id 1 : .DS_Store\n",
            "id 2 : Ch6-Code génétique et traduction.pdf\n",
            "id 3 : cours_1.pdf\n",
            "id 4 : cours_4.pdf\n",
            "id 5 : Ch1-Sucres et Lipides.pdf\n",
            "id 6 : Ch3_Métabolisme des glucides.pdf\n",
            "id 7 : Ch2-Acides aminés et protéines.pdf\n",
            "id 8 : Ch7.1-Génome humain.pdf\n",
            "id 9 : Ch7.2-Techniques de biologie moléculaire.pdf\n",
            "id 10 : Ch4-Plan du polycopié.docx\n",
            "id 11 : Ch4-Structure, réplication et réparation de l_ADN.pdf\n",
            "id 12 : Ch5-Transcription, maturation et régulation.pdf\n"
          ]
        }
      ],
      "source": [
        "slides_path = \"/Users/youssefjanjar/Documents/formascience/class_parser/volume/slides/\"\n",
        "import os \n",
        "chapters = os.listdir(slides_path)\n",
        "for index, chapter in enumerate(chapters):\n",
        "    print(f\"id {index} : {chapter}\")"
      ]
    },
    {
      "cell_type": "code",
      "execution_count": 3,
      "metadata": {},
      "outputs": [
        {
          "name": "stdout",
          "output_type": "stream",
          "text": [
            "🔍 Extracting slides from: /Users/youssefjanjar/Documents/formascience/class_parser/volume/slides/Ch2-Acides aminés et protéines.pdf\n"
          ]
        },
        {
          "name": "stderr",
          "output_type": "stream",
          "text": [
            "Cannot set gray non-stroke color because /'P437' is an invalid float value\n",
            "Cannot set gray non-stroke color because /'P439' is an invalid float value\n",
            "Cannot set gray non-stroke color because /'P479' is an invalid float value\n",
            "Cannot set gray non-stroke color because /'P481' is an invalid float value\n",
            "Cannot set gray non-stroke color because /'P483' is an invalid float value\n",
            "Cannot set gray non-stroke color because /'P485' is an invalid float value\n",
            "Cannot set gray non-stroke color because /'P487' is an invalid float value\n",
            "Cannot set gray non-stroke color because /'P489' is an invalid float value\n",
            "Cannot set gray non-stroke color because /'P491' is an invalid float value\n",
            "Cannot set gray non-stroke color because /'P493' is an invalid float value\n",
            "Cannot set gray non-stroke color because /'P495' is an invalid float value\n",
            "Cannot set gray non-stroke color because /'P497' is an invalid float value\n",
            "Cannot set gray non-stroke color because /'P499' is an invalid float value\n",
            "Cannot set gray non-stroke color because /'P501' is an invalid float value\n",
            "Cannot set gray non-stroke color because /'P503' is an invalid float value\n",
            "Cannot set gray non-stroke color because /'P505' is an invalid float value\n",
            "Cannot set gray non-stroke color because /'P558' is an invalid float value\n",
            "Cannot set gray non-stroke color because /'P791' is an invalid float value\n",
            "Cannot set gray non-stroke color because /'P818' is an invalid float value\n",
            "Cannot set gray non-stroke color because /'P1078' is an invalid float value\n",
            "Cannot set gray non-stroke color because /'P1080' is an invalid float value\n",
            "Cannot set gray non-stroke color because /'P1107' is an invalid float value\n",
            "Cannot set gray non-stroke color because /'P1129' is an invalid float value\n"
          ]
        },
        {
          "name": "stdout",
          "output_type": "stream",
          "text": [
            "✅ Extracted 290 slides\n",
            "\n",
            "📋 First 3 slides:\n",
            "\n",
            "--- Slide 1: SL_001 ---\n",
            "Title: Les Molécules du Vivant: Acides aminés, Protéines, Enzymologie\n",
            "Content (first 200 chars): L1SpS - UE2 2024-2025\n",
            "Les Molécules du Vivant: Acides aminés, Protéines, Enzymologie\n",
            "Valérie Lamour\n",
            "Note: Ce document est le support de cours définitf 2024-2025.\n",
            "Le document est à usage exclusif des é...\n",
            "==================================================\n",
            "\n",
            "--- Slide 2: SL_002 ---\n",
            "Title: Introduction\n",
            "Content (first 200 chars): Introduction\n",
            "Échelle du vivant:\n",
            "https://learn.genetics.utah.edu/content/cells/scale/...\n",
            "==================================================\n",
            "\n",
            "--- Slide 3: SL_003 ---\n",
            "Title: Introduction- UE2\n",
            "Content (first 200 chars): Introduction- UE2\n",
            "Chapitre 1 Glucides, lipides :aspects structuraux\n",
            "Chapitre 2 Acides aminés, protéines, enzymologie\n",
            "Chapitre 3 Métabolisme énergétique\n",
            "Chapitre 4 Structure/propriétés des acides nuclé...\n",
            "==================================================\n"
          ]
        }
      ],
      "source": [
        "# Test slides extraction\n",
        "pdf_path = slides_path+chapters[7]\n",
        "\n",
        "# Initialize extractor\n",
        "slides_extractor = SlidesExtractor(\n",
        "    min_avg_len=10,\n",
        "    max_lines=20,\n",
        "    merge_tol=2.0\n",
        ")\n",
        "\n",
        "print(f\"🔍 Extracting slides from: {pdf_path}\")\n",
        "\n",
        "try:\n",
        "    # Extract slides as Slides objects\n",
        "    slides = slides_extractor.extract_slides(pdf_path)\n",
        "    print(f\"✅ Extracted {len(slides)} slides\")\n",
        "    \n",
        "    # Display first few slides\n",
        "    print(\"\\n📋 First 3 slides:\")\n",
        "    for i, slide in enumerate(slides[:3]):\n",
        "        print(f\"\\n--- Slide {i+1}: {slide.id} ---\")\n",
        "        print(f\"Title: {slide.title}\")\n",
        "        print(f\"Content (first 200 chars): {slide.content[:200]}...\")\n",
        "        print(\"=\" * 50)\n",
        "        \n",
        "except FileNotFoundError:\n",
        "    print(f\"❌ PDF file not found: {pdf_path}\")\n",
        "    print(\"Please ensure the PDF file exists in ./volume/slides/\")\n",
        "    slides = []  # Empty list for testing\n",
        "except Exception as e:\n",
        "    print(f\"❌ Error extracting slides: {e}\")\n",
        "    slides = []\n"
      ]
    },
    {
      "cell_type": "code",
      "execution_count": 4,
      "metadata": {},
      "outputs": [
        {
          "name": "stdout",
          "output_type": "stream",
          "text": [
            "📊 Slides JSON dump:\n",
            "Number of slides: 290\n",
            "JSON size: 106247 characters\n",
            "Estimated tokens (GPT-4 encoding): 36075\n",
            "\n",
            "📋 JSON content (first 1000 chars):\n",
            "[\n",
            "  {\n",
            "    \"id\": \"SL_001\",\n",
            "    \"title\": \"Les Molécules du Vivant: Acides aminés, Protéines, Enzymologie\",\n",
            "    \"content\": \"L1SpS - UE2 2024-2025\\nLes Molécules du Vivant: Acides aminés, Protéines, Enzymologie\\nValérie Lamour\\nNote: Ce document est le support de cours définitf 2024-2025.\\nLe document est à usage exclusif des étudiants de L1SpS et ne pas être diffusé pour un autre usage sans\\nautorisation de l’enseignant.\"\n",
            "  },\n",
            "  {\n",
            "    \"id\": \"SL_002\",\n",
            "    \"title\": \"Introduction\",\n",
            "    \"content\": \"Introduction\\nÉchelle du vivant:\\nhttps://learn.genetics.utah.edu/content/cells/scale/\"\n",
            "  },\n",
            "  {\n",
            "    \"id\": \"SL_003\",\n",
            "    \"title\": \"Introduction- UE2\",\n",
            "    \"content\": \"Introduction- UE2\\nChapitre 1 Glucides, lipides :aspects structuraux\\nChapitre 2 Acides aminés, protéines, enzymologie\\nChapitre 3 Métabolisme énergétique\\nChapitre 4 Structure/propriétés des acides nucléiques, Réplication, Réparation de l’ADN\\nChapitre 5 Transcription, Maturation des ARN, Régulation transcriptionnelle\\nChapitre 6 Cod...\n"
          ]
        }
      ],
      "source": [
        "import json\n",
        "import tiktoken\n",
        "\n",
        "# Dump slides to JSON\n",
        "slides_json = json.dumps([slide.model_dump() for slide in slides], ensure_ascii=False, indent=2)\n",
        "\n",
        "# Calculate tokens using GPT-4 encoding (tiktoken doesn't have GPT-5 yet, using GPT-4 as closest)\n",
        "encoding = tiktoken.encoding_for_model(\"gpt-4\")\n",
        "token_count = len(encoding.encode(slides_json))\n",
        "\n",
        "print(f\"📊 Slides JSON dump:\")\n",
        "print(f\"Number of slides: {len(slides)}\")\n",
        "print(f\"JSON size: {len(slides_json)} characters\")\n",
        "print(f\"Estimated tokens (GPT-4 encoding): {token_count}\")\n",
        "\n",
        "# Display the JSON (truncated for readability)\n",
        "print(f\"\\n📋 JSON content (first 1000 chars):\")\n",
        "print(slides_json[:1000] + \"...\" if len(slides_json) > 1000 else slides_json)"
      ]
    },
    {
      "cell_type": "markdown",
      "metadata": {},
      "source": [
        "# Single Shot"
      ]
    },
    {
      "cell_type": "markdown",
      "metadata": {},
      "source": [
        "# Single shot:  Extract the plan for this class "
      ]
    },
    {
      "cell_type": "code",
      "execution_count": 5,
      "metadata": {},
      "outputs": [
        {
          "name": "stdout",
          "output_type": "stream",
          "text": [
            "Course Outline:\n",
            "==================================================\n",
            "Introduction générale : molécules du vivant et échelle\n",
            "  Plan du module et principaux chapitres\n",
            "  Polymères biologiques: ADN, ARN et protéines\n",
            "Acides aminés: structure, classification et propriétés\n",
            "  Structure, stéréochimie et formes ioniques\n",
            "  Classification selon polarité et exemples\n",
            "  Réactivités métaboliques et modifications post‑traductionnelles\n",
            "Protéines: structure, classification et fonctions\n",
            "  Squelette peptidique et structure primaire des protéines\n",
            "  Diversité fonctionnelle et classifications protéiques\n",
            "  Niveaux secondaires: hélices, feuillets et paramètres\n",
            "  Collagène: triple hélice et séquences répétitives\n",
            "  Brins β, feuillets plissés, boucles et coudes\n",
            "  Repliement tertiaire, domaines et rôle de l'eau\n",
            "  Liaisons et ponts (disulfures) stabilisant structures\n",
            "  Structure quaternaire, oligomères et exemples protéiques\n",
            "  Flexibilité conformationnelle, désordre et dénaturation\n",
            "  Détection des protéines: spectres, gels et anticorps\n",
            "  Protéines d'oxygène: myoglobine, hémoglobine et variantes\n",
            "Enzymes: catalyse, régulation, structure et cofacteurs\n",
            "  Principes de la catalyse et classification enzymatique\n",
            "  Mécanismes de régulation: phosphorylation et contrôle\n",
            "  Site actif, mécanismes catalytiques et conséquences des mutations\n",
            "  Cofacteurs, coenzymes et vitamines actives\n",
            "  Complexes enzymatiques, isoenzymes et répartition tissulaire\n",
            "  Complexes multienzymatiques et propriétés oligomériques\n",
            "  Exemple fonctionnel: protéases et activation protéolytique\n",
            "Cinétique enzymatique: modèles et modes d'inhibition\n",
            "  Notions de vitesse et unités enzymatiques\n",
            "  Facteurs influençant la vitesse: température et pH\n",
            "  Modèle de Michaelis‑Menten: Km, Vmax et représentations\n",
            "  Inhibiteurs compétitifs et non compétitifs: cinétique\n",
            "  Enzymes allostériques: systèmes K et V et effecteurs\n",
            "  Spécificité liée au substrat et exemples physiologiques\n"
          ]
        }
      ],
      "source": [
        "outline_one_shot = OutlineOneShot()\n",
        "\n",
        "outline, mapping = outline_one_shot.build_outline_and_mapping(slides)\n",
        "\n",
        "print(outline.print_outline())"
      ]
    },
    {
      "cell_type": "code",
      "execution_count": 6,
      "metadata": {},
      "outputs": [
        {
          "name": "stdout",
          "output_type": "stream",
          "text": [
            "Section-to-Slides Mapping:\n",
            "============================================================\n",
            "\n",
            "[Root] SEC_1\n",
            "Title: Introduction générale : molécules du vivant et échelle\n",
            "Slides: 1 slide(s)\n",
            "Slide IDs: SL_001\n",
            "\n",
            "  [Level 1] SEC_1.1\n",
            "  Title: Plan du module et principaux chapitres\n",
            "  Slides: 2 slide(s)\n",
            "  Slide IDs: SL_002, SL_003\n",
            "\n",
            "  [Level 1] SEC_1.2\n",
            "  Title: Polymères biologiques: ADN, ARN et protéines\n",
            "  Slides: 3 slide(s)\n",
            "  Slide IDs: SL_004, SL_005, SL_006\n",
            "\n",
            "[Root] SEC_2\n",
            "Title: Acides aminés: structure, classification et propriétés\n",
            "Slides: 0 slide(s)\n",
            "Slide IDs: \n",
            "\n",
            "  [Level 1] SEC_2.1\n",
            "  Title: Structure, stéréochimie et formes ioniques\n",
            "  Slides: 4 slide(s)\n",
            "  Slide IDs: SL_007, SL_008, SL_009, SL_019\n",
            "\n",
            "  [Level 1] SEC_2.2\n",
            "  Title: Classification selon polarité et exemples\n",
            "  Slides: 13 slide(s)\n",
            "  Slide IDs: SL_010, SL_011, SL_012, SL_013, SL_014, SL_015, SL_016, SL_017, SL_018, SL_020, SL_021, SL_022, SL_023\n",
            "\n",
            "  [Level 1] SEC_2.3\n",
            "  Title: Réactivités métaboliques et modifications post‑traductionnelles\n",
            "  Slides: 7 slide(s)\n",
            "  Slide IDs: SL_024, SL_025, SL_026, SL_027, SL_028, SL_029, SL_030\n",
            "\n",
            "[Root] SEC_3\n",
            "Title: Protéines: structure, classification et fonctions\n",
            "Slides: 0 slide(s)\n",
            "Slide IDs: \n",
            "\n",
            "  [Level 1] SEC_3.1\n",
            "  Title: Squelette peptidique et structure primaire des protéines\n",
            "  Slides: 4 slide(s)\n",
            "  Slide IDs: SL_031, SL_032, SL_033, SL_034\n",
            "\n",
            "  [Level 1] SEC_3.10\n",
            "  Title: Détection des protéines: spectres, gels et anticorps\n",
            "  Slides: 9 slide(s)\n",
            "  Slide IDs: SL_116, SL_117, SL_118, SL_119, SL_120, SL_121, SL_122, SL_123, SL_125\n",
            "\n",
            "  [Level 1] SEC_3.11\n",
            "  Title: Protéines d'oxygène: myoglobine, hémoglobine et variantes\n",
            "  Slides: 26 slide(s)\n",
            "  Slide IDs: SL_126, SL_127, SL_128, SL_129, SL_130, SL_131, SL_132, SL_133, SL_134, SL_135, SL_136, SL_137, SL_138, SL_139, SL_140, SL_141, SL_142, SL_143, SL_144, SL_145, SL_147, SL_148, SL_150, SL_151, SL_152, SL_153\n",
            "\n",
            "  [Level 1] SEC_3.2\n",
            "  Title: Diversité fonctionnelle et classifications protéiques\n",
            "  Slides: 5 slide(s)\n",
            "  Slide IDs: SL_035, SL_036, SL_037, SL_038, SL_039\n",
            "\n",
            "  [Level 1] SEC_3.3\n",
            "  Title: Niveaux secondaires: hélices, feuillets et paramètres\n",
            "  Slides: 18 slide(s)\n",
            "  Slide IDs: SL_040, SL_041, SL_042, SL_043, SL_044, SL_045, SL_047, SL_048, SL_049, SL_050, SL_051, SL_053, SL_054, SL_055, SL_056, SL_057, SL_058, SL_099\n",
            "\n",
            "  [Level 1] SEC_3.4\n",
            "  Title: Collagène: triple hélice et séquences répétitives\n",
            "  Slides: 6 slide(s)\n",
            "  Slide IDs: SL_059, SL_060, SL_061, SL_062, SL_063, SL_064\n",
            "\n",
            "  [Level 1] SEC_3.5\n",
            "  Title: Brins β, feuillets plissés, boucles et coudes\n",
            "  Slides: 12 slide(s)\n",
            "  Slide IDs: SL_065, SL_066, SL_067, SL_068, SL_069, SL_070, SL_071, SL_072, SL_073, SL_074, SL_075, SL_076\n",
            "\n",
            "  [Level 1] SEC_3.6\n",
            "  Title: Repliement tertiaire, domaines et rôle de l'eau\n",
            "  Slides: 11 slide(s)\n",
            "  Slide IDs: SL_077, SL_078, SL_079, SL_080, SL_081, SL_082, SL_083, SL_084, SL_085, SL_086, SL_100\n",
            "\n",
            "  [Level 1] SEC_3.7\n",
            "  Title: Liaisons et ponts (disulfures) stabilisant structures\n",
            "  Slides: 10 slide(s)\n",
            "  Slide IDs: SL_087, SL_089, SL_090, SL_091, SL_092, SL_093, SL_094, SL_096, SL_097, SL_098\n",
            "\n",
            "  [Level 1] SEC_3.8\n",
            "  Title: Structure quaternaire, oligomères et exemples protéiques\n",
            "  Slides: 6 slide(s)\n",
            "  Slide IDs: SL_101, SL_102, SL_103, SL_104, SL_105, SL_106\n",
            "\n",
            "  [Level 1] SEC_3.9\n",
            "  Title: Flexibilité conformationnelle, désordre et dénaturation\n",
            "  Slides: 9 slide(s)\n",
            "  Slide IDs: SL_107, SL_108, SL_109, SL_110, SL_111, SL_112, SL_113, SL_114, SL_115\n",
            "\n",
            "[Root] SEC_4\n",
            "Title: Enzymes: catalyse, régulation, structure et cofacteurs\n",
            "Slides: 0 slide(s)\n",
            "Slide IDs: \n",
            "\n",
            "  [Level 1] SEC_4.1\n",
            "  Title: Principes de la catalyse et classification enzymatique\n",
            "  Slides: 14 slide(s)\n",
            "  Slide IDs: SL_154, SL_155, SL_156, SL_157, SL_158, SL_159, SL_160, SL_161, SL_162, SL_163, SL_164, SL_165, SL_166, SL_167\n",
            "\n",
            "  [Level 1] SEC_4.2\n",
            "  Title: Mécanismes de régulation: phosphorylation et contrôle\n",
            "  Slides: 11 slide(s)\n",
            "  Slide IDs: SL_168, SL_169, SL_170, SL_171, SL_172, SL_173, SL_174, SL_175, SL_177, SL_178, SL_179\n",
            "\n",
            "  [Level 1] SEC_4.3\n",
            "  Title: Site actif, mécanismes catalytiques et conséquences des mutations\n",
            "  Slides: 15 slide(s)\n",
            "  Slide IDs: SL_181, SL_182, SL_183, SL_184, SL_185, SL_186, SL_187, SL_188, SL_189, SL_190, SL_191, SL_192, SL_193, SL_194, SL_195\n",
            "\n",
            "  [Level 1] SEC_4.4\n",
            "  Title: Cofacteurs, coenzymes et vitamines actives\n",
            "  Slides: 14 slide(s)\n",
            "  Slide IDs: SL_196, SL_197, SL_198, SL_199, SL_200, SL_201, SL_202, SL_203, SL_204, SL_205, SL_206, SL_207, SL_208, SL_209\n",
            "\n",
            "  [Level 1] SEC_4.5\n",
            "  Title: Complexes enzymatiques, isoenzymes et répartition tissulaire\n",
            "  Slides: 0 slide(s)\n",
            "  Slide IDs: \n",
            "\n",
            "  [Level 1] SEC_4.6\n",
            "  Title: Complexes multienzymatiques et propriétés oligomériques\n",
            "  Slides: 12 slide(s)\n",
            "  Slide IDs: SL_210, SL_211, SL_212, SL_213, SL_214, SL_215, SL_216, SL_217, SL_218, SL_219, SL_220, SL_221\n",
            "\n",
            "  [Level 1] SEC_4.7\n",
            "  Title: Exemple fonctionnel: protéases et activation protéolytique\n",
            "  Slides: 15 slide(s)\n",
            "  Slide IDs: SL_222, SL_223, SL_224, SL_225, SL_226, SL_227, SL_228, SL_229, SL_230, SL_231, SL_232, SL_233, SL_234, SL_235, SL_236\n",
            "\n",
            "[Root] SEC_5\n",
            "Title: Cinétique enzymatique: modèles et modes d'inhibition\n",
            "Slides: 0 slide(s)\n",
            "Slide IDs: \n",
            "\n",
            "  [Level 1] SEC_5.1\n",
            "  Title: Notions de vitesse et unités enzymatiques\n",
            "  Slides: 5 slide(s)\n",
            "  Slide IDs: SL_237, SL_238, SL_239, SL_240, SL_241\n",
            "\n",
            "  [Level 1] SEC_5.2\n",
            "  Title: Facteurs influençant la vitesse: température et pH\n",
            "  Slides: 9 slide(s)\n",
            "  Slide IDs: SL_242, SL_243, SL_244, SL_245, SL_246, SL_247, SL_248, SL_249, SL_250\n",
            "\n",
            "  [Level 1] SEC_5.3\n",
            "  Title: Modèle de Michaelis‑Menten: Km, Vmax et représentations\n",
            "  Slides: 16 slide(s)\n",
            "  Slide IDs: SL_251, SL_252, SL_253, SL_254, SL_255, SL_256, SL_257, SL_258, SL_259, SL_260, SL_261, SL_263, SL_264, SL_265, SL_267, SL_268\n",
            "\n",
            "  [Level 1] SEC_5.4\n",
            "  Title: Inhibiteurs compétitifs et non compétitifs: cinétique\n",
            "  Slides: 18 slide(s)\n",
            "  Slide IDs: SL_270, SL_271, SL_272, SL_273, SL_275, SL_276, SL_277, SL_278, SL_280, SL_281, SL_282, SL_284, SL_285, SL_286, SL_288, SL_289, SL_290, SL_291\n",
            "\n",
            "  [Level 1] SEC_5.5\n",
            "  Title: Enzymes allostériques: systèmes K et V et effecteurs\n",
            "  Slides: 11 slide(s)\n",
            "  Slide IDs: SL_292, SL_294, SL_295, SL_296, SL_297, SL_298, SL_299, SL_300, SL_301, SL_302, SL_303\n",
            "\n",
            "  [Level 1] SEC_5.6\n",
            "  Title: Spécificité liée au substrat et exemples physiologiques\n",
            "  Slides: 4 slide(s)\n",
            "  Slide IDs: SL_304, SL_306, SL_307, SL_308\n"
          ]
        }
      ],
      "source": [
        "print(mapping.visualize_mapping(outline))"
      ]
    },
    {
      "cell_type": "markdown",
      "metadata": {},
      "source": [
        "# Single shot: Writing content from mapping and the outline"
      ]
    },
    {
      "cell_type": "code",
      "execution_count": 7,
      "metadata": {},
      "outputs": [
        {
          "data": {
            "text/plain": [
              "src.models.Content"
            ]
          },
          "execution_count": 7,
          "metadata": {},
          "output_type": "execute_result"
        }
      ],
      "source": [
        "outline_with_slides = outline.enrich_with_slides(slides=slides, mapping=mapping)\n",
        "writer = Writer()\n",
        "\n",
        "course = writer.write_course(enriched_content=outline_with_slides)\n",
        "\n",
        "type(course)"
      ]
    },
    {
      "cell_type": "code",
      "execution_count": 8,
      "metadata": {},
      "outputs": [
        {
          "data": {
            "text/plain": [
              "src.models.Content"
            ]
          },
          "execution_count": 8,
          "metadata": {},
          "output_type": "execute_result"
        }
      ],
      "source": [
        "type(course)"
      ]
    },
    {
      "cell_type": "code",
      "execution_count": 9,
      "metadata": {},
      "outputs": [
        {
          "name": "stdout",
          "output_type": "stream",
          "text": [
            "Course Content:\n",
            "============================================================\n",
            "\n",
            "[Root] ID: SEC_1\n",
            "Title: Introduction générale : molécules du vivant et échelle\n",
            "Content:\n",
            "  [1] Ce module aborde les molécules du vivant avec un accent particulier sur\n",
            "      les acides aminés, les protéines et l’enzymologie. Il vise à donner une\n",
            "      compréhension intégrée des relations structure‑fonction à l’échelle\n",
            "      moléculaire et de leurs implications pour le métabolisme et la physiologie\n",
            "      cellulaire.\n",
            "  [2] L’étude se déploie selon une double perspective : description rigoureuse\n",
            "      des structures chimiques et des principes physiques qui gouvernent leur\n",
            "      comportement, puis interprétation fonctionnelle au sein des processus\n",
            "      biologiques. Les compétences visées incluent l’identification des éléments\n",
            "      structuraux, la compréhension des mécanismes catalytiques et la capacité à\n",
            "      relier modifications moléculaires et régulations métaboliques.\n",
            "\n",
            "  [Level 1] ID: SEC_1.1\n",
            "  Title: Plan du module et principaux chapitres\n",
            "  Content:\n",
            "    [1] Le module est organisé en chapitres successifs visant à couvrir les\n",
            "        principaux types de biomolécules et leurs fonctions : aspects\n",
            "        structuraux des glucides et lipides, acides aminés et protéines,\n",
            "        enzymologie, métabolisme énergétique, acides nucléiques et leur\n",
            "        structure, réplication et réparation de l’ADN, transcription et\n",
            "        maturation des ARN, code génétique, traduction, puis notions de\n",
            "        génomique et méthodes biotechnologiques.\n",
            "    [2] Chaque chapitre propose un apprentissage progressif : d’abord l’analyse\n",
            "        des structures chimiques et des propriétés physico‑chimiques, puis\n",
            "        l’étude des mécanismes biologiques fondamentaux et enfin l’exploration\n",
            "        des méthodes expérimentales permettant l’observation et la mesure. Ce\n",
            "        parcours permet de relier la micro‑échelle moléculaire aux phénomènes\n",
            "        cellulaires et tissulaires.\n",
            "    [3] La mise en perspective à l’échelle du vivant permet d’évaluer comment\n",
            "        des changements à l’échelle atomique ou moléculaire (mutations,\n",
            "        modifications post‑traductionnelles) se traduisent à l’échelle\n",
            "        cellulaire et physiologique. L’approche est résolument\n",
            "        interdisciplinaire, articulant chimie, biologie moléculaire et\n",
            "        biochimie.\n",
            "\n",
            "  [Level 1] ID: SEC_1.2\n",
            "  Title: Polymères biologiques: ADN, ARN et protéines\n",
            "  Content:\n",
            "    [1] Les biomolécules polymériques principales sont l’acide\n",
            "        désoxyribonucléique (ADN), l’acide ribonucléique (ARN) et les protéines,\n",
            "        chacune dérivant d’unités monomères spécifiques : nucléotides pour les\n",
            "        acides nucléiques et acides aminés pour les protéines. Ces polymères\n",
            "        codent, transmettent et exécutent l’information biologique selon des\n",
            "        processus interconnectés.\n",
            "    [2] Le flux d’information moléculaire repose sur les étapes de transcription\n",
            "        et de traduction : l’ADN sert de matrice pour la synthèse d’ARN, et\n",
            "        l’ARN messager dirige l’assemblage des acides aminés en protéines. Les\n",
            "        protéines, au nombre d’environ vingt acides aminés naturels, constituent\n",
            "        la plupart des effecteurs fonctionnels au sein des cellules.\n",
            "\n",
            "[Root] ID: SEC_2\n",
            "Title: Acides aminés: structure, classification et propriétés\n",
            "Content:\n",
            "  [1] Les acides aminés constituent les unités de base des protéines et\n",
            "      possèdent une organisation chimique commune autour d’un carbone α portant\n",
            "      un groupe amine, un groupe carboxyle et une chaîne latérale variable\n",
            "      (radical R). Leur diversité structurale (chaînes latérales apolaires,\n",
            "      polaires, ionisables) conditionne les propriétés physico‑chimiques et\n",
            "      biologiques des protéines.\n",
            "  [2] Au plan fonctionnel, les acides aminés interviennent non seulement dans la\n",
            "      construction des protéines mais aussi comme précurseurs métaboliques et\n",
            "      substrats de réactions enzymatiques variées. Leur classification par\n",
            "      polarité, charge et nature chimique facilite l’analyse de la structure\n",
            "      protéique et la prédiction des interactions moléculaires.\n",
            "\n",
            "  [Level 1] ID: SEC_2.1\n",
            "  Title: Structure, stéréochimie et formes ioniques\n",
            "  Content:\n",
            "    [1] La formule générale d’un acide α‑aminé est NH2–CH(R)–COOH, où R\n",
            "        représente la chaîne latérale distinctive. Le carbone α est la plupart\n",
            "        du temps asymétrique, ce qui donne lieu à des énantiomères D et L ; les\n",
            "        acides aminés protéiques naturels sont de configuration L sauf la\n",
            "        glycine qui est achirale.\n",
            "    [2] Dans les conditions physiologiques, les acides aminés existent sous\n",
            "        forme de zwitterions (ion dipolaire) : le groupe amine est protoné et le\n",
            "        groupe carboxyle est déprotoné, conférant à la molécule une grande\n",
            "        solubilité dans l’eau. Le comportement de charge dépend du pH du milieu\n",
            "        et la distribution des espèces cationique, neutre ou anionique est régie\n",
            "        par le point isoélectrique (pI).\n",
            "    [3] Chaque résidu possède un pI caractéristique lié à la nature de sa chaîne\n",
            "        latérale ; par exemple, les acides Asp et Glu ont des pI bas (~3) tandis\n",
            "        que les résidus basiques His, Lys, Arg présentent des pI supérieurs à 7.\n",
            "        Ces différences conditionnent la charge globale des protéines et\n",
            "        influencent leur solubilité, leur migration électrophorétique et leurs\n",
            "        interactions.\n",
            "\n",
            "  [Level 1] ID: SEC_2.2\n",
            "  Title: Classification selon polarité et exemples\n",
            "  Content:\n",
            "    [1] Les acides aminés se classent, selon la polarité de leur chaîne\n",
            "        latérale, en acides aminés apolaires (hydrophobes) tels que Val, Ile,\n",
            "        Leu, Met, Phe, Trp, Ala et Gly, en acides aminés polaires non ionisables\n",
            "        comme Ser, Thr, Asn, Gln, Cys, Tyr, et en acides aminés polaires\n",
            "        ionisables (Asp, Glu, His, Lys, Arg). Cette classification est\n",
            "        déterminante pour le repliement des protéines et la formation d’un cœur\n",
            "        hydrophobe interne.\n",
            "    [2] Certains acides aminés présentent des caractéristiques particulières :\n",
            "        la cystéine peut former des ponts disulfure, la proline introduit des\n",
            "        contraintes conformatoires du fait de son cycle pyrrolidine, et\n",
            "        l’histidine possède un noyau imidazole dont le pKa proche du pH\n",
            "        physiologique lui confère un rôle fréquent dans les sites actifs\n",
            "        enzymatiques.\n",
            "    [3] Les résidus aromatiques (Phe, Trp, Tyr) absorbent fortement dans\n",
            "        l’ultraviolet entre 260 et 280 nm, propriété exploitée pour l’estimation\n",
            "        de la concentration des protéines en solution par spectrophotométrie.\n",
            "        Enfin, l’origine historique des noms et le code à une lettre (A pour\n",
            "        alanine, R pour arginine, etc.) facilitent la notation et la\n",
            "        communication en biochimie.\n",
            "\n",
            "  [Level 1] ID: SEC_2.3\n",
            "  Title: Réactivités métaboliques et modifications post‑traductionnelles\n",
            "  Content:\n",
            "    [1] La chimie des acides aminés sous-tend de nombreuses voies métaboliques :\n",
            "        ils constituent non seulement les briques protéiques mais aussi des\n",
            "        précurseurs de vitamines, de neurotransmetteurs et d’autres métabolites.\n",
            "        Des anomalies enzymatiques dans ces voies peuvent conduire à des\n",
            "        désordres métaboliques d’origine génétique.\n",
            "    [2] Le groupe carboxyle peut subir des réactions de décarboxylation\n",
            "        (formation d’amines biologiquement actives, par exemple la\n",
            "        décaboxylation de l’histidine en histamine) ou être impliqué dans la\n",
            "        formation d’amides (glutamate → glutamine via la glutamine synthétase).\n",
            "    [3] Le groupe amine est au centre des réactions de désamination et de\n",
            "        transamination : la transamination, catalysée par des aminotransférases\n",
            "        en présence du cofacteur phosphate de pyridoxal, permet le transfert\n",
            "        d’azote entre acides aminés et α‑cétoacides et relie ainsi le\n",
            "        métabolisme des acides aminés au cycle de Krebs.\n",
            "    [4] Les chaînes latérales autorisent des modifications post‑traductionnelles\n",
            "        déterminantes pour la fonction protéique : N‑ et O‑glycosylations,\n",
            "        phosphorylations sur Ser/Thr/Tyr, acétylations sur Lys, etc. Ces\n",
            "        modifications modulent la stabilité, la localisation et l’activité\n",
            "        enzymatique et jouent un rôle clé dans la régulation cellulaire.\n",
            "\n",
            "[Root] ID: SEC_3\n",
            "Title: Protéines: structure, classification et fonctions\n",
            "Content:\n",
            "  [1] Les protéines sont des polymères d’acides aminés qui adoptent des\n",
            "      structures hiérarchisées (primaire à quaternaire) responsables de leurs\n",
            "      fonctions biologiques. Leur diversité structurale permet une grande\n",
            "      variété de rôles : catalyse, transport, soutien mécanique, signalisation\n",
            "      et régulation.\n",
            "  [2] L’étude de la structure protéique met l’accent sur la relation entre\n",
            "      séquence d’acides aminés et repliement tridimensionnel, ainsi que sur les\n",
            "      interactions non covalentes et covalentes qui stabilisent ces\n",
            "      conformations. La connaissance de ces principes est essentielle pour\n",
            "      comprendre la mécanistique enzymatique et les conséquences des mutations.\n",
            "\n",
            "  [Level 1] ID: SEC_3.1\n",
            "  Title: Squelette peptidique et structure primaire des protéines\n",
            "  Content:\n",
            "    [1] La liaison peptidique unit les acides aminés par condensation entre le\n",
            "        COOH α d’un résidu et le NH α d’un autre, conférant à la chaîne\n",
            "        polypeptidique une directionnalité N‑terminal → C‑terminal et un plan de\n",
            "        liaison partiellement rigide en raison de son caractère partiellement\n",
            "        double.\n",
            "    [2] La structure primaire correspond à l’ordre linéaire des résidus d’acides\n",
            "        aminés ; elle détermine le repliement ultérieur et donc la fonction. Les\n",
            "        termes peptide, polypeptide et protéine se réfèrent à la longueur et à\n",
            "        la complexité de la chaîne polypeptidique.\n",
            "    [3] Le poids moléculaire des protéines varie largement : un résidu d’acide\n",
            "        aminé pèse en moyenne ~110 Da ; les protéines peuvent aller de quelques\n",
            "        kilodaltons pour de petits peptides à plusieurs centaines de kilodaltons\n",
            "        pour des polypeptides complexes, ce qui explique l’usage de\n",
            "        l’électrophorèse pour les caractériser.\n",
            "\n",
            "  [Level 1] ID: SEC_3.2\n",
            "  Title: Diversité fonctionnelle et classifications protéiques\n",
            "  Content:\n",
            "    [1] Les protéines remplissent de nombreuses fonctions : enzymes\n",
            "        catalytiques, transporteurs (par exemple hémoglobine), protéines de\n",
            "        structure (kératine, collagène), protéines contractiles (actine,\n",
            "        myosine), et protéines de reconnaissance et défense (anticorps,\n",
            "        récepteurs, hormones).\n",
            "    [2] On distingue également les protéines de stockage (ovalbumine, caséine),\n",
            "        les protéines régulatrices (facteurs de transcription) et les protéines\n",
            "        membranaires impliquées dans le transport ou la transduction du signal.\n",
            "        Cette diversité reflète la richesse des structures tridimensionnelles\n",
            "        possibles.\n",
            "    [3] Sur le plan structural, on oppose les holoprotéines (constituées\n",
            "        uniquement d’acides aminés) aux hétéroprotéines qui contiennent un\n",
            "        groupement prosthétique non protéique (glyco‑, lipo‑, phospho‑,\n",
            "        métallo‑protéines). Ces groupements confèrent des propriétés\n",
            "        spécialisées aux protéines.\n",
            "\n",
            "  [Level 1] ID: SEC_3.3\n",
            "  Title: Niveaux secondaires: hélices, feuillets et paramètres\n",
            "  Content:\n",
            "    [1] La structure secondaire correspond aux conformations régulières du\n",
            "        squelette peptidique telles que l’hélice α et les feuillets plissés β.\n",
            "        Ces motifs résultent d’un réseau systématique de liaisons hydrogène\n",
            "        entre les fonctions CO et NH du squelette polypeptidique.\n",
            "    [2] La liaison peptidique est essentiellement plane et l’angle de torsion\n",
            "        autour de la liaison Cα–N (φ) et Cα–C (ψ) définit la conformation\n",
            "        locale. La proline, par son cycle, impose des contraintes particulières\n",
            "        et favorise parfois la configuration cis, modifiant la direction de la\n",
            "        chaîne polypeptidique.\n",
            "    [3] L’hélice α est stabilisée par des liaisons hydrogène entre le CO d’un\n",
            "        résidu i et le NH du résidu i+4, possède environ 3,6 résidus par tour et\n",
            "        un pas de ~5,4 Å ; les chaînes latérales se projettent vers l’extérieur\n",
            "        de l’hélice et déterminent l’interaction avec le milieu environnant.\n",
            "    [4] Les brins β forment des feuillets plissés par appariement de segments\n",
            "        étendus de la chaîne ; ils peuvent être parallèles ou antiparallèles,\n",
            "        présentant des angles φ et ψ caractéristiques pour chaque type. Les\n",
            "        boucles et coudes relient ces éléments secondaires et sont souvent\n",
            "        impliqués dans les sites fonctionnels ou de liaison.\n",
            "    [5] La combinaison et l’organisation de ces motifs secondaires concourent au\n",
            "        repliement global de la protéine et à la formation de domaines\n",
            "        fonctionnels récurrents observés dans de nombreuses protéines.\n",
            "\n",
            "  [Level 1] ID: SEC_3.4\n",
            "  Title: Collagène: triple hélice et séquences répétitives\n",
            "  Content:\n",
            "    [1] Le collagène est une protéine fibrillaire majeure de la matrice\n",
            "        extracellulaire, structurée en tropocollagène : une triple hélice\n",
            "        composée de trois chaînes polypeptidiques d’environ 1000 résidus\n",
            "        chacune. La répétition d’un motif tripeptidique, typiquement Gly‑Pro‑X\n",
            "        (où X peut être souvent l’hydroxyproline), est caractéristique.\n",
            "    [2] La glycine occupe presque un résidu sur trois, permettant l’empilement\n",
            "        serré des trois chaînes au centre de la triple hélice. La présence\n",
            "        abondante de proline et d’hydroxyproline confère rigidité et stabilité\n",
            "        par des liaisons hydrogène interchaînes qui stabilisent l’enroulement\n",
            "        gauche des chaînes et la triple hélice droite globale.\n",
            "    [3] Des modifications post‑traductionnelles comme l’hydroxylation de la\n",
            "        proline et la lysine, puis la glycosylation éventuelle de résidus\n",
            "        d’hydroxylysine, sont essentielles à la stabilité et à la fonctionnalité\n",
            "        du collagène. Ces particularités expliquent les propriétés mécaniques et\n",
            "        la résistance des tissus conjonctifs.\n",
            "\n",
            "  [Level 1] ID: SEC_3.5\n",
            "  Title: Brins β, feuillets plissés, boucles et coudes\n",
            "  Content:\n",
            "    [1] Les brins β sont des segments quasi étirés de la chaîne polypeptidique\n",
            "        qui s’associent en feuillets plissés β par des liaisons hydrogène entre\n",
            "        brins voisins. Ces feuillets peuvent être antiparallèles ou parallèles,\n",
            "        avec des valeurs de φ et ψ distinctes pour chaque configuration.\n",
            "    [2] Les feuillets antiparallèles présentent généralement des angles φ ≈\n",
            "        −139° et ψ ≈ +135°, tandis que les feuillets parallèles montrent des\n",
            "        valeurs légèrement différentes (φ ≈ −119°, ψ ≈ +113°). Ces géométries\n",
            "        influencent la stabilité locale et la topologie de la protéine.\n",
            "    [3] Boucles et coudes (tours) relient des éléments de structure secondaire\n",
            "        et représentent environ un tiers des résidus dans une protéine moyenne ;\n",
            "        ils sont souvent composés de résidus polaires exposés et participent aux\n",
            "        sites de reconnaissance, de liaison ou d’activité catalytique.\n",
            "    [4] Le repliement spécifique des feuillets β peut conduire à des\n",
            "        architectures particulières, comme le tonneau β observé dans des\n",
            "        protéines membranaires (porines) qui forment des canaux traversant la\n",
            "        bicouche lipidique.\n",
            "\n",
            "  [Level 1] ID: SEC_3.6\n",
            "  Title: Repliement tertiaire, domaines et rôle de l'eau\n",
            "  Content:\n",
            "    [1] La structure tertiaire décrit l’organisation tridimensionnelle des\n",
            "        éléments secondaires en un repliement compact qui détermine la fonction\n",
            "        biologique. Ce repliement résulte d’un compromis entre différentes\n",
            "        forces non covalentes (liaisons hydrogène, interactions ioniques,\n",
            "        interactions hydrophobes) et parfois de liaisons covalentes (ponts\n",
            "        disulfure).\n",
            "    [2] Le repliement global est fortement gouverné par l’effet hydrophobe : les\n",
            "        résidus apolaires tendent à s’enfouir dans le cœur de la protéine tandis\n",
            "        que les résidus polaires se retrouvent en surface en interaction avec\n",
            "        l’eau. Cette organisation stabilise la conformation native en milieu\n",
            "        aqueux.\n",
            "    [3] L’eau joue un rôle structural et fonctionnel : des couches d’hydratation\n",
            "        à la surface stabilisent les interactions polaires, et des molécules\n",
            "        d’eau peuvent occuper des sites internes ou participer à la catalyse via\n",
            "        des clusters coordonnés autour d’ions métalliques. La présence d’ions et\n",
            "        d’eau structurée est souvent cruciale pour l’activité enzymatique.\n",
            "    [4] Le concept de domaine correspond à une unité de repliement autonome et\n",
            "        fonctionnelle ; les domaines peuvent être recombinés au cours de\n",
            "        l’évolution pour former des protéines multi‑domaines aux fonctions\n",
            "        modulaires (fixation de ligands, activité catalytique, interactions\n",
            "        d’adhésion, etc.).\n",
            "\n",
            "  [Level 1] ID: SEC_3.7\n",
            "  Title: Liaisons et ponts (disulfures) stabilisant structures\n",
            "  Content:\n",
            "    [1] Plusieurs types de liaisons contribuent à stabiliser la structure\n",
            "        tertiaire et quaternaire : liaisons hydrogène, liaisons ioniques (ponts\n",
            "        salins), interactions hydrophobes et, lorsque présent, des ponts\n",
            "        disulfure covalents formés entre résidus cystéine. Chacun de ces types\n",
            "        joue un rôle déterminant dans la stabilité et l’architecture locale.\n",
            "    [2] Les ponts disulfure peuvent se former à l’intérieur d’une même chaîne\n",
            "        (intracaténaire) ou entre chaînes différentes (intercaténaires),\n",
            "        contribuant à rigidifier des domaines et à maintenir l’intégrité\n",
            "        structurale dans des environnements oxydants, notamment\n",
            "        extracellulaires.\n",
            "    [3] Un exemple typique est le domaine d’immunoglobuline, d’environ 110\n",
            "        résidus, stabilisé par un pont disulfure et organisé en feuillets β\n",
            "        antiparallèles. Dans les protéines sécrétées ou extracellulaires, la\n",
            "        formation et la réarrangement des ponts disulfure sont des étapes\n",
            "        importantes du repliement.\n",
            "    [4] Les protéines membranaires, quant à elles, présentent des segments\n",
            "        hydrophobes insérés dans la bicouche et souvent des régions glycosylées\n",
            "        à l’extérieur cellulaire ; la combinaison de ces caractéristiques\n",
            "        structurelles conditionne leur fonction et leur localisation.\n",
            "\n",
            "  [Level 1] ID: SEC_3.8\n",
            "  Title: Structure quaternaire, oligomères et exemples protéiques\n",
            "  Content:\n",
            "    [1] La structure quaternaire résulte de l’association non covalente de\n",
            "        plusieurs sous‑unités protéiques pour former des oligomères\n",
            "        fonctionnels. Ces assemblages peuvent être homo‑oligomériques\n",
            "        (sous‑unités identiques) ou hétéro‑oligomériques (sous‑unités\n",
            "        différentes) et sont souvent symétriques.\n",
            "    [2] L’association de sous‑unités permet la coopération fonctionnelle, la\n",
            "        régulation allostérique et la formation de sites actifs composites ;\n",
            "        l’alcool déshydrogénase et l’hémoglobine sont des exemples classiques\n",
            "        illustrant l’importance de la quaternarité pour l’activité et la\n",
            "        régulation.\n",
            "    [3] Les immunoglobulines (IgG) illustrent également la quaternarité : deux\n",
            "        chaînes lourdes et deux chaînes légères associées par des ponts\n",
            "        disulfure forment un tétramère dans lequel les domaines variables\n",
            "        assurent la reconnaissance antigénique.\n",
            "\n",
            "  [Level 1] ID: SEC_3.9\n",
            "  Title: Flexibilité conformationnelle, désordre et dénaturation\n",
            "  Content:\n",
            "    [1] Les protéines ne sont pas toujours rigides : la flexibilité\n",
            "        conformationnelle permet des fluctuations locales ou globales\n",
            "        nécessaires à la fonction, à la reconnaissance des ligands et à la\n",
            "        régulation enzymatique. Les changements conformationnels sont au cœur\n",
            "        des mécanismes allostériques et de l’adaptation fonctionnelle.\n",
            "    [2] Une catégorie importante est celle des protéines intrinsèquement\n",
            "        désordonnées (IDP) qui, en l’absence de structure secondaire stable,\n",
            "        adoptent des conformations dynamiques et se structurent souvent lors de\n",
            "        la liaison à des partenaires ou après modifications\n",
            "        post‑traductionnelles. Elles jouent des rôles clés en signalisation et\n",
            "        en régulation transcriptionnelle.\n",
            "    [3] À l’inverse, la perte de structure (dénaturation) par chaleur, agents\n",
            "        chaotropiques (urée, chlorure de guanidium), solvants organiques ou\n",
            "        détergents peut inactiver une protéine. La dénaturation est réversible\n",
            "        ou irréversible selon l’agent et les conditions expérimentales.\n",
            "    [4] Les états non natifs peuvent conduire à des agrégations pathologiques\n",
            "        (plaques amyloïdes, formes prioniennes) impliquées dans des maladies\n",
            "        neurodégénératives. La stabilité conformatoire et la capacité à\n",
            "        retrouver l’état natif sont donc des propriétés biologiques cruciales.\n",
            "\n",
            "  [Level 1] ID: SEC_3.10\n",
            "  Title: Détection des protéines: spectres, gels et anticorps\n",
            "  Content:\n",
            "    [1] Plusieurs méthodes analytiques permettent de détecter et de caractériser\n",
            "        les protéines : la spectroscopie UV exploitant l’absorption des résidus\n",
            "        aromatiques (260–280 nm) est couramment utilisée pour estimer la\n",
            "        concentration en solution.\n",
            "    [2] L’électrophorèse sur gel de polyacrylamide en présence de détergent\n",
            "        (SDS‑PAGE) sépare les protéines selon leur taille après dénaturation,\n",
            "        puis la coloration (par exemple au bleu de Coomassie) rend visibles les\n",
            "        bandes protéiques. La western blot combine séparation électrophorétique\n",
            "        et détection par anticorps pour une identification très spécifique et\n",
            "        sensible.\n",
            "    [3] D’autres méthodes courantes incluent les dosages immuno‑enzymatiques en\n",
            "        solution (ELISA) pour des analyses quantitatives et l’immunohistochimie\n",
            "        pour la localisation tissulaire des protéines. Les approches de biologie\n",
            "        structurale (cryo‑microscopie électronique, cristallographie) permettent\n",
            "        enfin de résoudre la structure tridimensionnelle des protéines.\n",
            "\n",
            "  [Level 1] ID: SEC_3.11\n",
            "  Title: Protéines d'oxygène: myoglobine, hémoglobine et variantes\n",
            "  Content:\n",
            "    [1] La myoglobine et l’hémoglobine sont deux protéines à rôle central dans\n",
            "        le transport et le stockage de l’oxygène. La myoglobine est une protéine\n",
            "        monomérique de 153 résidus associée à un groupement prosthétique hème et\n",
            "        assure le stockage d’oxygène dans les fibres musculaires.\n",
            "    [2] L’hème est un macrocycle tétrapyrrolique coordonnant un ion ferreux\n",
            "        (Fe2+) capable de fixer réversiblement une molécule d’O2 ; la liaison\n",
            "        entre le fer et la protéine est assurée par une histidine proximale,\n",
            "        tandis qu’une histidine distale participe à la stabilisation de la\n",
            "        molécule d’oxygène.\n",
            "    [3] Lorsque le fer est oxydé en Fe3+ (forme ferrique), la protéine ne peut\n",
            "        plus fixer l’oxygène et devient inactive pour le transport (forme\n",
            "        métmyoglobine ou méthémoglobine). La capacité du fer héminique à rester\n",
            "        à l’état ferreux est donc essentielle pour la fonction.\n",
            "    [4] L’hémoglobine adulte est un tétramère α2β2 ; son comportement\n",
            "        allostérique entre deux états (T « tendu » et R « relâché ») explique la\n",
            "        coopérativité de fixation de l’oxygène : la liaison d’O2 à une\n",
            "        sous‑unité favorise le basculement conformationnel et augmente\n",
            "        l’affinité des autres sous‑unités.\n",
            "    [5] Des effecteurs allostériques (H+, CO2, 2,3‑bisphosphoglycérate) modulent\n",
            "        l’affinité de l’hémoglobine pour l’oxygène, favorisant la libération\n",
            "        d’O2 dans les tissus. La fœtale (HbF) présente une affinité plus élevée\n",
            "        pour l’oxygène que l’hémoglobine adulte, ce qui facilite le transport de\n",
            "        l’O2 mère → fœtus.\n",
            "    [6] La drépanocytose illustre l’impact d’une mutation ponctuelle sur la\n",
            "        fonction : la substitution d’un résidu chargé (Glu) par une valine\n",
            "        apolaire sur la chaîne β (position 6) favorise l’agrégation de la\n",
            "        désoxy‑hémoglobine S et la déformation des globules rouges, entraînant\n",
            "        des complications vasculaires.\n",
            "\n",
            "[Root] ID: SEC_4\n",
            "Title: Enzymes: catalyse, régulation, structure et cofacteurs\n",
            "Content:\n",
            "  [1] Les enzymes sont des catalyseurs biologiques, le plus souvent protéiques,\n",
            "      capables d’accélérer de nombreuses réactions chimiques en abaissant\n",
            "      l’énergie d’activation sans modifier l’équilibre thermodynamique. Leur\n",
            "      spécificité de substrat et leur régulation confèrent une organisation\n",
            "      précise au métabolisme cellulaire.\n",
            "  [2] L’analyse des enzymes implique l’étude de leur site actif, des cofacteurs\n",
            "      nécessaires à certaines activités, des mécanismes de régulation\n",
            "      (allostérie, modifications covalentes, activation protéolytique) et des\n",
            "      assemblages quaternaires qui conditionnent souvent leur activité et leur\n",
            "      contrôle.\n",
            "\n",
            "  [Level 1] ID: SEC_4.1\n",
            "  Title: Principes de la catalyse et classification enzymatique\n",
            "  Content:\n",
            "    [1] Une enzyme se lie préférentiellement à un ou plusieurs substrats dans un\n",
            "        site actif tridimensionnel, favorisant la transformation chimique en\n",
            "        stabilisant l’état de transition. Elle modifie la vitesse de la réaction\n",
            "        mais n’altère pas la position d’équilibre thermodynamique.\n",
            "    [2] Les enzymes présentent une spécificité remarquable et opèrent dans des\n",
            "        conditions physiologiques douces ; leur pouvoir catalytique peut\n",
            "        améliorer la vitesse de réaction de plusieurs ordres de grandeur comparé\n",
            "        à la réaction non catalysée.\n",
            "    [3] La classification enzymatique traditionnelle distingue six classes\n",
            "        principales : oxydo‑réductases, transférases, hydrolases, lyases,\n",
            "        isomérases et ligases (synthétases). Chaque classe regroupe des enzymes\n",
            "        selon le type de transformation chimique catalysée.\n",
            "    [4] Un exemple représentatif est l’anhydrase carbonique, une enzyme\n",
            "        zinc‑dépendante qui catalyse l’hydratation du CO2 en acide carbonique,\n",
            "        illustrant l’importance des cofacteurs métalliques pour certaines\n",
            "        activités enzymatiques.\n",
            "\n",
            "  [Level 1] ID: SEC_4.2\n",
            "  Title: Mécanismes de régulation: phosphorylation et contrôle\n",
            "  Content:\n",
            "    [1] La régulation des enzymes s’exerce à plusieurs niveaux : le contrôle de\n",
            "        la synthèse (transcription, traduction) et la modulation de l’activité\n",
            "        des protéines existantes. Les modes de régulation rapide incluent\n",
            "        l’inhibition compétitive, l’allostérie et les modifications covalentes\n",
            "        réversibles.\n",
            "    [2] La phosphorylation sur résidus sérine, thréonine ou tyrosine est un\n",
            "        mécanisme réversible majeur contrôlé par des kinases et des phosphatases\n",
            "        ; l’ajout ou le retrait d’un groupe phosphate modifie la conformation et\n",
            "        l’activité enzymatique et intègre des signaux métaboliques ou hormonaux.\n",
            "    [3] Des régulations irréversibles existent également, notamment l’activation\n",
            "        protéolytique de pro‑enzymes (zymogènes) telle que la conversion du\n",
            "        chymotrypsinogène en chymotrypsine, qui constitue un exemple de contrôle\n",
            "        spatial et irréversible de l’activité protéolytique.\n",
            "    [4] La modulation allostérique et l’association en complexes\n",
            "        multienzymatiques complètent ces mécanismes, permettant une adaptation\n",
            "        fine et coordonnée du flux métabolique en réponse aux variations\n",
            "        cellulaires et physiologiques.\n",
            "\n",
            "  [Level 1] ID: SEC_4.3\n",
            "  Title: Site actif, mécanismes catalytiques et conséquences des mutations\n",
            "  Content:\n",
            "    [1] Le site actif est une poche tridimensionnelle formée par le repliement\n",
            "        tertiaire (et parfois quaternaire) qui rassemble des résidus\n",
            "        catalytiques et des groupements auxiliaires. Il fournit l’environnement\n",
            "        chimique nécessaire aux réactions : nucléophilie, stabilisation de\n",
            "        charges, orientation des substrats.\n",
            "    [2] Les modèles de reconnaissance évoluent du concept « clé‑serrure » vers\n",
            "        le modèle d’« ajustement induit », dans lequel la liaison du substrat\n",
            "        induit des réarrangements locaux favorisant la catalyse. Des résidus\n",
            "        spécifiques (par exemple Ser, His, Asp dans certaines protéases à\n",
            "        sérine) constituent des éléments essentiels de la machinerie\n",
            "        catalytique.\n",
            "    [3] Les mutations affectant des résidus du site actif ou des acides aminés\n",
            "        clés de conformation peuvent réduire ou abolir l’activité enzymatique et\n",
            "        conduire à des phénotypes pathologiques. L’étude des effets des\n",
            "        mutations permet d’identifier des résidus critiques pour la fonction\n",
            "        enzymatique.\n",
            "\n",
            "  [Level 1] ID: SEC_4.4\n",
            "  Title: Cofacteurs, coenzymes et vitamines actives\n",
            "  Content:\n",
            "    [1] Certaines enzymes exigent des cofacteurs inorganiques (ions métalliques)\n",
            "        ou des coenzymes organiques pour être actives. Les cofacteurs\n",
            "        métalliques (Fe2+/Fe3+, Zn2+, Mg2+, Mn2+, Cu2+) interviennent dans la\n",
            "        catalyse ou la stabilisation structurale et forment parfois des centres\n",
            "        de coordination.\n",
            "    [2] Les coenzymes, dérivés de vitamines, agissent comme transporteurs de\n",
            "        groupements chimiques (électrons, acyles, groupements méthyle, etc.).\n",
            "        Ils peuvent être liés de manière transitoire (cosubstrat) ou constituer\n",
            "        un groupement prosthétique étroitement associé à l’apoenzyme.\n",
            "    [3] Parmi les coenzymes fréquents figurent NAD(P)+, FAD, FMN, Coenzyme A,\n",
            "        phosphate de pyridoxal (PLP), biotine, THF, coenzyme B12 et lipoate.\n",
            "        Leur rôle est souvent de transférer des électrons ou des groupements\n",
            "        fonctionnels au cours de la réaction enzymatique.\n",
            "    [4] Un exemple illustratif est la fonction des nicotinamides (NAD+/NADH)\n",
            "        comme transporteurs d’hydrogène dans les réactions d’oxydoréduction,\n",
            "        assurant la connexion entre différentes réactions enzymatiques et\n",
            "        contribuant au couplage métabolique.\n",
            "\n",
            "  [Level 1] ID: SEC_4.5\n",
            "  Title: Complexes enzymatiques, isoenzymes et répartition tissulaire\n",
            "  Content:\n",
            "    [1] Les enzymes peuvent exister sous la forme d’isoenzymes, variantes\n",
            "        moléculaires d’une même activité catalytique mais présentant des\n",
            "        propriétés cinétiques ou des répartitions tissulaires distinctes. Cette\n",
            "        diversité permet une régulation fine en fonction des besoins\n",
            "        métaboliques de chaque tissu.\n",
            "    [2] La répartition tissulaire des isoenzymes est exploitée en diagnostic :\n",
            "        l’augmentation spécifique d’une isoforme dans le sang peut indiquer la\n",
            "        lésion d’un organe particulier. Les complexes enzymatiques et les\n",
            "        isoformes illustrent ainsi l’adaptation fonctionnelle du métabolisme au\n",
            "        contexte physiologique.\n",
            "\n",
            "  [Level 1] ID: SEC_4.6\n",
            "  Title: Complexes multienzymatiques et propriétés oligomériques\n",
            "  Content:\n",
            "    [1] Les complexes multienzymatiques regroupent plusieurs enzymes\n",
            "        responsables d’une même voie métabolique permettant un transfert direct\n",
            "        et rapide des intermédiaires (canalisation) et une régulation\n",
            "        coordonnée. Le complexe pyruvate déshydrogénase est un exemple classique\n",
            "        d’assemblage multi‑enzymatique essentiel au métabolisme énergétique.\n",
            "    [2] La structure oligomérique favorise également la régulation allostérique\n",
            "        et la coopération entre sites catalytiques ; certaines enzymes\n",
            "        n’expriment leur activité régulée qu’en association quaternaire et sont\n",
            "        inactives sous forme de monomère isolé.\n",
            "    [3] Les isoenzymes illustrent les conséquences fonctionnelles de\n",
            "        l’association de sous‑unités différentes : la lactate déshydrogénase\n",
            "        (LDH) existe en plusieurs isoformes composées de sous‑unités H et M dont\n",
            "        la distribution tissulaire diffère et constitue un marqueur diagnostique\n",
            "        clinique.\n",
            "    [4] La modularité structurale et l’association entre protomères permettent\n",
            "        d’adapter l’activité enzymatique aux besoins physiologiques, d’optimiser\n",
            "        les échanges de substrats et de contrôler l’efficacité métabolique.\n",
            "\n",
            "  [Level 1] ID: SEC_4.7\n",
            "  Title: Exemple fonctionnel: protéases et activation protéolytique\n",
            "  Content:\n",
            "    [1] Les protéases sont des enzymes qui hydrolysent des liaisons peptidiques\n",
            "        et se répartissent en exopeptidases et endopeptidases selon leur mode\n",
            "        d’action ; elles sont essentielles pour la digestion, le renouvellement\n",
            "        protéique et de nombreux processus physiologiques.\n",
            "    [2] De nombreuses protéases sont synthétisées sous forme de précurseurs\n",
            "        inactifs (zymogènes) qui sont activés par des clivages protéolytiques\n",
            "        irréversibles ; l’activation du chymotrypsinogène par la trypsine suivie\n",
            "        d’autocoupures produit l’α‑chymotrypsine active, illustrant le contrôle\n",
            "        précis de l’activité protéolytique.\n",
            "    [3] La chymotrypsine est une protéase à sérine dont le site actif repose sur\n",
            "        une triade catalytique (Asp‑His‑Ser) organisée dans une poche qui\n",
            "        reconnaît préférentiellement les résidus aromatiques en position P1. La\n",
            "        topologie du site actif conditionne la spécificité de coupure.\n",
            "    [4] Les différentes classes de protéases (aspartyl, sérine, cystéine,\n",
            "        métalloprotéases) présentent des mécanismes catalytiques distincts et\n",
            "        des spécificités de substrat adaptées à leurs fonctions physiologiques\n",
            "        et pathologiques.\n",
            "\n",
            "[Root] ID: SEC_5\n",
            "Title: Cinétique enzymatique: modèles et modes d'inhibition\n",
            "Content:\n",
            "  [1] La cinétique enzymatique quantifie la vitesse des réactions catalysées par\n",
            "      les enzymes et analyse les dépendances vis‑à‑vis des concentrations en\n",
            "      substrat, enzyme, effecteurs et conditions physico‑chimiques. Les modèles\n",
            "      mathématiques permettent d’extraire des paramètres fonctionnels tels que\n",
            "      Km, Vmax et kcat.\n",
            "  [2] La compréhension de la cinétique est centrale pour caractériser la\n",
            "      spécificité, l’efficacité catalytique, la régulation et l’effet des\n",
            "      inhibiteurs, éléments indispensables à l’étude du métabolisme et au\n",
            "      développement de thérapies ciblées.\n",
            "\n",
            "  [Level 1] ID: SEC_5.1\n",
            "  Title: Notions de vitesse et unités enzymatiques\n",
            "  Content:\n",
            "    [1] La vitesse d’une réaction enzymatique se définit comme la variation de\n",
            "        concentration du substrat ou du produit par unité de temps (v = −d[S]/dt\n",
            "        = d[P]/dt). L’étude expérimentale porte fréquemment sur la vitesse\n",
            "        initiale afin d’éviter l’influence des réactions secondaires.\n",
            "    [2] L’activité enzymatique est exprimée en unités (UE) : une UE correspond à\n",
            "        la quantité d’enzyme qui catalyse la formation d’une micromole de\n",
            "        produit par minute sous conditions définies. L’activité spécifique\n",
            "        (UE/mg protéine) est utilisée pour normaliser cette mesure à la quantité\n",
            "        de protéine enzymatique.\n",
            "\n",
            "  [Level 1] ID: SEC_5.2\n",
            "  Title: Facteurs influençant la vitesse: température et pH\n",
            "  Content:\n",
            "    [1] La vitesse enzymatique dépend de la concentration en enzyme (relation\n",
            "        proportionnelle à l’état initial), de la concentration en substrat\n",
            "        (saturation) et de paramètres environnementaux tels que la température\n",
            "        et le pH. Chaque enzyme possède un optimum de température et de pH où\n",
            "        son activité est maximale.\n",
            "    [2] L’augmentation de température accélère généralement la vitesse jusqu’à\n",
            "        un seuil au‑delà duquel la dénaturation devient prépondérante et la\n",
            "        vitesse chute. De même, le pH modifie l’état d’ionisation des résidus\n",
            "        actifs et du substrat, affectant l’affinité et la catalyse.\n",
            "    [3] D’autres facteurs tels que la présence d’inhibiteurs, d’effecteurs\n",
            "        allostériques, de cofacteurs ou la force ionique du milieu influencent\n",
            "        aussi la cinétique et doivent être contrôlés lors des mesures\n",
            "        expérimentales.\n",
            "\n",
            "  [Level 1] ID: SEC_5.3\n",
            "  Title: Modèle de Michaelis‑Menten: Km, Vmax et représentations\n",
            "  Content:\n",
            "    [1] Le modèle de Michaelis‑Menten décrit la cinétique d’une enzyme simple à\n",
            "        un seul site catalytique par la séquence de réactions E + S ⇄ ES → E +\n",
            "        P, avec des constantes de vitesse k1, k−1 et kcat. Il repose sur\n",
            "        l’hypothèse d’état stationnaire pour le complexe ES.\n",
            "    [2] La constante de Michaelis Km, définie comme (k−1 + kcat)/k1, reflète la\n",
            "        stabilité apparente du complexe ES et est souvent interprétée comme une\n",
            "        mesure inverse de l’affinité de l’enzyme pour le substrat. Une faible\n",
            "        valeur de Km signale une forte affinité apparente.\n",
            "    [3] La vitesse maximale Vmax est atteinte en conditions saturantes de\n",
            "        substrat lorsque toute l’enzyme est sous forme de complexe ES ; Vmax est\n",
            "        proportionnelle à la concentration enzymatique totale et à kcat (Vmax =\n",
            "        kcat [E]tot).\n",
            "    [4] La relation v = (Vmax [S])/(Km + [S]) génère une courbe hyperbolique ;\n",
            "        la représentation linéarisée de Lineweaver‑Burk (1/v en fonction de\n",
            "        1/[S]) permet d’extraire Km et Vmax expérimentalement, bien que cette\n",
            "        méthode ait des inconvénients statistiques.\n",
            "    [5] kcat (constante catalytique) décrit la capacité d’une molécule d’enzyme\n",
            "        à convertir le substrat en produit par unité de temps et, en combinaison\n",
            "        avec Km, permet d’évaluer l’efficacité catalytique (kcat/Km).\n",
            "\n",
            "  [Level 1] ID: SEC_5.4\n",
            "  Title: Inhibiteurs compétitifs et non compétitifs: cinétique\n",
            "  Content:\n",
            "    [1] Les inhibiteurs modifient la cinétique enzymatique par différents\n",
            "        mécanismes. Les inhibiteurs compétitifs se lient au site actif en\n",
            "        compétition avec le substrat ; ils augmentent la Km apparente sans\n",
            "        modifier Vmax, et leur effet peut être surmonté par une augmentation de\n",
            "        [S].\n",
            "    [2] La constante d’inhibition Ki caractérise l’affinité de l’inhibiteur pour\n",
            "        l’enzyme ; la relation Km,app = Km(1 + [I]/Ki) exprime l’impact d’un\n",
            "        inhibiteur compétitif sur l’affinité apparente. Ces inhibiteurs ont des\n",
            "        applications thérapeutiques lorsqu’ils imitent structurellement le\n",
            "        substrat ou l’état de transition.\n",
            "    [3] Les inhibiteurs non compétitifs se lient sur un site distinct pouvant\n",
            "        interagir avec l’enzyme libre ou avec le complexe ES ; dans le cas\n",
            "        typique, ils diminuent Vmax sans modifier Km, car l’affinité du site\n",
            "        actif pour le substrat est inchangée mais la fraction d’enzyme active\n",
            "        est réduite.\n",
            "    [4] Parmi les inhibiteurs on distingue aussi les inhibiteurs irréversibles\n",
            "        (liaison covalente au site actif, ex. agents alkylants) et les\n",
            "        inhibiteurs un‑compétitifs (liaison préférentielle au complexe ES) ; la\n",
            "        compréhension de ces mécanismes est essentielle pour le design de\n",
            "        médicaments.\n",
            "\n",
            "  [Level 1] ID: SEC_5.5\n",
            "  Title: Enzymes allostériques: systèmes K et V et effecteurs\n",
            "  Content:\n",
            "    [1] Les enzymes allostériques sont généralement oligomériques et possèdent\n",
            "        des sites régulateurs distincts du site catalytique. La fixation d’un\n",
            "        effecteur (activateur ou inhibiteur) induit un changement\n",
            "        conformationnel qui modifie l’affinité pour le substrat et/ou la vitesse\n",
            "        catalytique.\n",
            "    [2] On distingue les systèmes K, dans lesquels l’effet d’un effecteur se\n",
            "        traduit principalement par une modification de l’affinité apparente\n",
            "        (Km), et les systèmes V, dans lesquels c’est la vitesse maximale\n",
            "        apparente (Vmax) qui est affectée. Des systèmes mixtes existent\n",
            "        également.\n",
            "    [3] Ces propriétés confèrent aux enzymes allostériques un rôle central dans\n",
            "        la régulation des voies métaboliques, leur permettant d’agir comme\n",
            "        capteurs et intégrateurs des signaux métaboliques.\n",
            "\n",
            "  [Level 1] ID: SEC_5.6\n",
            "  Title: Spécificité liée au substrat et exemples physiologiques\n",
            "  Content:\n",
            "    [1] La spécificité enzymatique peut être large (capacité à transformer\n",
            "        plusieurs substrats apparentés) ou très étroite. Un exemple est la\n",
            "        comparaison entre l’hexokinase, qui phosphoryle divers hexoses, et la\n",
            "        glucokinase, qui présente une spécificité accrue pour le glucose et des\n",
            "        paramètres cinétiques distincts, adaptés à la régulation métabolique\n",
            "        hépatique.\n",
            "    [2] La spécificité est également illustrée par les peptidases : la trypsine\n",
            "        hydrolyse les liaisons après Lys ou Arg, la chymotrypsine préfère les\n",
            "        résidus aromatiques (Phe, Tyr, Trp) et l’élastase cible des résidus\n",
            "        aliphatique de petite taille. Ces préférences découlent de la topologie\n",
            "        et de la chimie du site de reconnaissance.\n"
          ]
        }
      ],
      "source": [
        "print(course.print_content())"
      ]
    },
    {
      "cell_type": "markdown",
      "metadata": {},
      "source": [
        "# Store a course as a artifact that I can load again into Course"
      ]
    },
    {
      "cell_type": "code",
      "execution_count": 10,
      "metadata": {},
      "outputs": [
        {
          "data": {
            "text/plain": [
              "src.models.Content"
            ]
          },
          "execution_count": 10,
          "metadata": {},
          "output_type": "execute_result"
        }
      ],
      "source": [
        "type(course)"
      ]
    },
    {
      "cell_type": "code",
      "execution_count": 11,
      "metadata": {},
      "outputs": [
        {
          "name": "stdout",
          "output_type": "stream",
          "text": [
            "Course Outline:\n",
            "==================================================\n",
            "Introduction générale : molécules du vivant et échelle\n",
            "  Plan du module et principaux chapitres\n",
            "  Polymères biologiques: ADN, ARN et protéines\n",
            "Acides aminés: structure, classification et propriétés\n",
            "  Structure, stéréochimie et formes ioniques\n",
            "  Classification selon polarité et exemples\n",
            "  Réactivités métaboliques et modifications post‑traductionnelles\n",
            "Protéines: structure, classification et fonctions\n",
            "  Squelette peptidique et structure primaire des protéines\n",
            "  Diversité fonctionnelle et classifications protéiques\n",
            "  Niveaux secondaires: hélices, feuillets et paramètres\n",
            "  Collagène: triple hélice et séquences répétitives\n",
            "  Brins β, feuillets plissés, boucles et coudes\n",
            "  Repliement tertiaire, domaines et rôle de l'eau\n",
            "  Liaisons et ponts (disulfures) stabilisant structures\n",
            "  Structure quaternaire, oligomères et exemples protéiques\n",
            "  Flexibilité conformationnelle, désordre et dénaturation\n",
            "  Détection des protéines: spectres, gels et anticorps\n",
            "  Protéines d'oxygène: myoglobine, hémoglobine et variantes\n",
            "Enzymes: catalyse, régulation, structure et cofacteurs\n",
            "  Principes de la catalyse et classification enzymatique\n",
            "  Mécanismes de régulation: phosphorylation et contrôle\n",
            "  Site actif, mécanismes catalytiques et conséquences des mutations\n",
            "  Cofacteurs, coenzymes et vitamines actives\n",
            "  Complexes enzymatiques, isoenzymes et répartition tissulaire\n",
            "  Complexes multienzymatiques et propriétés oligomériques\n",
            "  Exemple fonctionnel: protéases et activation protéolytique\n",
            "Cinétique enzymatique: modèles et modes d'inhibition\n",
            "  Notions de vitesse et unités enzymatiques\n",
            "  Facteurs influençant la vitesse: température et pH\n",
            "  Modèle de Michaelis‑Menten: Km, Vmax et représentations\n",
            "  Inhibiteurs compétitifs et non compétitifs: cinétique\n",
            "  Enzymes allostériques: systèmes K et V et effecteurs\n",
            "  Spécificité liée au substrat et exemples physiologiques\n"
          ]
        }
      ],
      "source": [
        "print(course.print_outline())"
      ]
    },
    {
      "cell_type": "code",
      "execution_count": 12,
      "metadata": {},
      "outputs": [
        {
          "name": "stdout",
          "output_type": "stream",
          "text": [
            "✅ Course created successfully!\n"
          ]
        }
      ],
      "source": [
        "try:\n",
        "    course_json = course.model_dump_json()\n",
        "    course_dict = json.loads(course_json)\n",
        "    course_formatted = Content.model_validate(course_dict)\n",
        "    \n",
        "    pilot_course = Course(\n",
        "        name=\"Acides aminés et protéines\",\n",
        "        course_title=\"Acides aminés et protéines\",\n",
        "        level=\"L1\", \n",
        "        block=\"SANTE\",\n",
        "        semester=\"S1\",\n",
        "        subject=\"UE-2\",\n",
        "        chapter=\"2\",\n",
        "        content=course_formatted\n",
        "    )\n",
        "    \n",
        "    print(\"✅ Course created successfully!\")\n",
        "    \n",
        "except Exception as e:\n",
        "    print(f\"❌ Error creating course: {e}\")\n",
        "    # You could inspect the course_dict here to debug\n",
        "    print(\"Course data structure:\")\n",
        "    print(json.dumps(course_dict, indent=2)[:500] + \"...\")"
      ]
    },
    {
      "cell_type": "code",
      "execution_count": 13,
      "metadata": {},
      "outputs": [
        {
          "name": "stdout",
          "output_type": "stream",
          "text": [
            "Course: Acides aminés et protéines\n",
            "Level: L1\n",
            "Block: SANTE\n",
            "Semester: S1\n",
            "Subject: UE-2\n",
            "Chapter: 2\n",
            "\n",
            "\n",
            "Course Outline:\n",
            "==================================================\n",
            "Introduction générale : molécules du vivant et échelle\n",
            "  Plan du module et principaux chapitres\n",
            "  Polymères biologiques: ADN, ARN et protéines\n",
            "Acides aminés: structure, classification et propriétés\n",
            "  Structure, stéréochimie et formes ioniques\n",
            "  Classification selon polarité et exemples\n",
            "  Réactivités métaboliques et modifications post‑traductionnelles\n",
            "Protéines: structure, classification et fonctions\n",
            "  Squelette peptidique et structure primaire des protéines\n",
            "  Diversité fonctionnelle et classifications protéiques\n",
            "  Niveaux secondaires: hélices, feuillets et paramètres\n",
            "  Collagène: triple hélice et séquences répétitives\n",
            "  Brins β, feuillets plissés, boucles et coudes\n",
            "  Repliement tertiaire, domaines et rôle de l'eau\n",
            "  Liaisons et ponts (disulfures) stabilisant structures\n",
            "  Structure quaternaire, oligomères et exemples protéiques\n",
            "  Flexibilité conformationnelle, désordre et dénaturation\n",
            "  Détection des protéines: spectres, gels et anticorps\n",
            "  Protéines d'oxygène: myoglobine, hémoglobine et variantes\n",
            "Enzymes: catalyse, régulation, structure et cofacteurs\n",
            "  Principes de la catalyse et classification enzymatique\n",
            "  Mécanismes de régulation: phosphorylation et contrôle\n",
            "  Site actif, mécanismes catalytiques et conséquences des mutations\n",
            "  Cofacteurs, coenzymes et vitamines actives\n",
            "  Complexes enzymatiques, isoenzymes et répartition tissulaire\n",
            "  Complexes multienzymatiques et propriétés oligomériques\n",
            "  Exemple fonctionnel: protéases et activation protéolytique\n",
            "Cinétique enzymatique: modèles et modes d'inhibition\n",
            "  Notions de vitesse et unités enzymatiques\n",
            "  Facteurs influençant la vitesse: température et pH\n",
            "  Modèle de Michaelis‑Menten: Km, Vmax et représentations\n",
            "  Inhibiteurs compétitifs et non compétitifs: cinétique\n",
            "  Enzymes allostériques: systèmes K et V et effecteurs\n",
            "  Spécificité liée au substrat et exemples physiologiques\n"
          ]
        }
      ],
      "source": [
        "print(pilot_course.print_outline())"
      ]
    },
    {
      "cell_type": "code",
      "execution_count": 14,
      "metadata": {},
      "outputs": [
        {
          "name": "stdout",
          "output_type": "stream",
          "text": [
            "💾 Course saved to: volume/artifacts/json/acides_aminés_et_protéines_20250818_181001.json\n"
          ]
        },
        {
          "data": {
            "text/plain": [
              "'volume/artifacts/json/acides_aminés_et_protéines_20250818_181001.json'"
            ]
          },
          "execution_count": 14,
          "metadata": {},
          "output_type": "execute_result"
        }
      ],
      "source": [
        "pilot_course.save_to_json(output_path=\"volume/artifacts/json\")"
      ]
    },
    {
      "cell_type": "code",
      "execution_count": 15,
      "metadata": {},
      "outputs": [
        {
          "name": "stdout",
          "output_type": "stream",
          "text": [
            "📄 Course exported to DOCX: volume/artifacts/docx/acides_aminés_et_protéines.docx\n"
          ]
        },
        {
          "data": {
            "text/plain": [
              "'volume/artifacts/docx/acides_aminés_et_protéines.docx'"
            ]
          },
          "execution_count": 15,
          "metadata": {},
          "output_type": "execute_result"
        }
      ],
      "source": [
        "pilot_course.to_docx(output_path=\"volume/artifacts/docx\", template_path=\"volume/templates/fs_template.docx\")"
      ]
    },
    {
      "cell_type": "code",
      "execution_count": 32,
      "metadata": {},
      "outputs": [
        {
          "name": "stdout",
          "output_type": "stream",
          "text": [
            "Type: <class 'src.models.Content'>\n",
            "Is Content? True\n",
            "Sections type: <class 'list'>\n",
            "First section type: <class 'src.models.ContentSection'>\n",
            "First section: id='SEC_1' title='Présentation du module et plan du cours' content=[\"Ce module porte sur l'organisation du génome humain et sur les méthodes biotechnologiques permettant de le caractériser et de l'analyser. Il vise à donner une vision intégrée de la composition, de l'architecture et de la dynamique des génomes, ainsi que des conséquences fonctionnelles et médicales des variations génomiques.\", \"Le plan du cours présente successivement une introduction aux concepts évolutifs et aux organismes modèles, les notions fondamentales de génétique moléculaire, la description du génome humain (nucléaire et mitochondrial), le projet de séquençage, l'architecture globale du génome, la description des éléments constitutifs (gènes codants et non codants, pseudogènes, éléments répétés), la comparaison intergénomique, les différents types de variations et leurs conséquences, la variabilité du génome humain et, enfin, les notions essentielles et mécanismes de l'évolution des génomes.\", \"Les objectifs pédagogiques incluent la compréhension des éléments structuraux et fonctionnels du génome, la capacité à interpréter les résultats de cartographie et de séquençage, et l'aptitude à appréhender les mécanismes évolutifs et les types de variations qui façonnent la diversité génomique. Le cours associera présentations conceptuelles et introduction aux outils d'exploration des données génomiques.\"] subsections=[]\n",
            "Content class: <class 'src.models.Content'>\n",
            "fresh_content's content class: src.models.Content\n"
          ]
        }
      ],
      "source": [
        "# Check what's actually in your fresh_content variable\n",
        "print(f\"Type: {type(fresh_content)}\")\n",
        "print(f\"Is Content? {isinstance(fresh_content, Content)}\")\n",
        "\n",
        "# Check the sections\n",
        "if hasattr(fresh_content, 'sections'):\n",
        "    print(f\"Sections type: {type(fresh_content.sections)}\")\n",
        "    if fresh_content.sections:\n",
        "        print(f\"First section type: {type(fresh_content.sections[0])}\")\n",
        "        print(f\"First section: {fresh_content.sections[0]}\")\n",
        "else:\n",
        "    print(\"No sections attribute\")\n",
        "\n",
        "# Check if it's the right Content class\n",
        "print(f\"Content class: {Content}\")\n",
        "print(f\"fresh_content's content class: {type(fresh_content).__module__}.{type(fresh_content).__name__}\")"
      ]
    },
    {
      "cell_type": "markdown",
      "metadata": {},
      "source": [
        "# Two-shots"
      ]
    },
    {
      "cell_type": "markdown",
      "metadata": {},
      "source": [
        "# Two-shots"
      ]
    },
    {
      "cell_type": "markdown",
      "metadata": {},
      "source": [
        "## Plan from page\n",
        "\n",
        "Extract plan text from PDF for Branch A (two-pass approach)\n"
      ]
    },
    {
      "cell_type": "markdown",
      "metadata": {},
      "source": [
        "## Extract the slides"
      ]
    },
    {
      "cell_type": "code",
      "execution_count": 70,
      "metadata": {},
      "outputs": [
        {
          "name": "stdout",
          "output_type": "stream",
          "text": [
            "2025-08-18 10:12:25,875 [DEBUG] src.data_extraction.slides_extractor: Starting slide extraction from ./volume/slides/cours_1.pdf\n",
            "2025-08-18 10:12:25,924 [DEBUG] src.data_extraction.slides_extractor: PDF opened, found 111 pages\n",
            "2025-08-18 10:12:26,844 [WARNING] pdfminer.pdfinterp: Cannot set gray non-stroke color because /'P412' is an invalid float value\n",
            "2025-08-18 10:12:26,845 [WARNING] pdfminer.pdfinterp: Cannot set gray non-stroke color because /'P414' is an invalid float value\n",
            "2025-08-18 10:12:26,861 [WARNING] pdfminer.pdfinterp: Cannot set gray non-stroke color because /'P444' is an invalid float value\n",
            "2025-08-18 10:12:26,876 [WARNING] pdfminer.pdfinterp: Cannot set gray non-stroke color because /'P451' is an invalid float value\n",
            "2025-08-18 10:12:26,877 [WARNING] pdfminer.pdfinterp: Cannot set gray non-stroke color because /'P455' is an invalid float value\n",
            "2025-08-18 10:12:26,894 [WARNING] pdfminer.pdfinterp: Cannot set gray non-stroke color because /'P465' is an invalid float value\n",
            "2025-08-18 10:12:26,895 [WARNING] pdfminer.pdfinterp: Cannot set gray non-stroke color because /'P467' is an invalid float value\n",
            "2025-08-18 10:12:26,915 [WARNING] pdfminer.pdfinterp: Cannot set gray non-stroke color because /'P482' is an invalid float value\n",
            "2025-08-18 10:12:26,923 [WARNING] pdfminer.pdfinterp: Cannot set gray non-stroke color because /'P488' is an invalid float value\n",
            "2025-08-18 10:12:27,073 [DEBUG] src.data_extraction.slides_extractor: Successfully extracted 110 slides\n"
          ]
        },
        {
          "data": {
            "text/plain": [
              "[Slides(id='SL_001', title='7.1 Architecture du génome', content='L1SpS: UE 2 Les molécules du vivant\\nU.E.2 Les molécules du vivant\\n7. Organisation du génome humain, méthodes en\\nbiotechnologie\\n7.1 Architecture du génome\\nhumain\\nJean Muller\\nLaboratoire Diagnostic Génétique (HUS)\\nLaboratoire de Génétique médicale (Inserm U1112)\\njeanmuller@unistra.fr'),\n",
              " Slides(id='SL_002', title='Plan du cours', content='L1SpS: UE 2 Les molécules du vivant\\nPlan du cours\\n• Introduction\\n• Notions fondamentales\\n• Le génome humain\\n• Projet de séquençage\\n• Architecture globale\\n• Génome mitochondrial\\n• Génome nucléaire\\n• Description des principaux éléments constituants\\n• Gènes (codants et non-codants), pseudogènes et éléments répétés\\n• Comparaison aux autres génomes\\n• Les types de variations du génome humain et leurs conséquences\\n• La variabilité du génome humain\\n• Evolution des génomes: notions essentielles, mécanismes\\n2'),\n",
              " Slides(id='SL_003', title='Introduction', content='L1SpS: UE 2 Les molécules du vivant\\nIntroduction\\n3'),\n",
              " Slides(id='SL_004', title='L’arbre de la vie', content='L1SpS: UE 2 Les molécules du vivant\\nL’arbre de la vie\\nNotions essentielles:\\n• Evolution\\n• Temps\\n• Adaptation\\n• Sélection\\nLUCA\\nLast Universal Common Ancestor\\n4'),\n",
              " Slides(id='SL_005', title='Arbre des eucaryotes', content='L1SpS: UE 2 Les molécules du vivant\\nArbre des eucaryotes\\nChoix d’organismes modèles\\n• Intérêt(s) économique(s)\\n• Intérêt(s) technique(s)\\n• Facilités hébergement,\\n• Développement embryonnaire/temps\\nde génération\\n• Partage d’éléments communs (ADN)\\n• Hérités/Transmis\\n35 eucaryotes\\n18 métazoaires\\n5')]"
            ]
          },
          "execution_count": 70,
          "metadata": {},
          "output_type": "execute_result"
        }
      ],
      "source": [
        "pdf_path = './volume/slides/cours_1.pdf'\n",
        "plan_path = './volume/slides/cours_4_plan.pdf'\n",
        "\n",
        "extractor = SlidesExtractor()\n",
        "\n",
        "slides = extractor.extract_slides(pdf_path=pdf_path)\n",
        "\n",
        "slides[:5]\n",
        "\n"
      ]
    },
    {
      "cell_type": "code",
      "execution_count": 74,
      "metadata": {},
      "outputs": [
        {
          "name": "stdout",
          "output_type": "stream",
          "text": [
            "2025-08-18 10:13:00,872 [DEBUG] src.data_extraction.plan_extractor: Starting plan extraction from ./volume/slides/cours_1.pdf (page 2)\n",
            "2025-08-18 10:13:00,928 [DEBUG] src.data_extraction.plan_extractor: PDF opened, found 111 pages\n",
            "2025-08-18 10:13:00,948 [DEBUG] src.data_extraction.plan_extractor: Successfully extracted plan from page 2 (1599 chars)\n",
            "   L1SpS: UE 2 Les molécules du vivant                                                             \n",
            "      Plan      du     cours                                                                       \n",
            "        •  Introduction                                                                            \n",
            "             •  Notions  fondamentales                                                             \n",
            "        •  Le génome    humain                                                                     \n",
            "             •  Projet de séquençage                                                               \n",
            "             •  Architecture globale                                                               \n",
            "                  •  Génome    mitochondrial                                                       \n",
            "                  •  Génome    nucléaire                                                           \n",
            "             •  Description  des principaux  éléments   constituants                               \n",
            "                  •  Gènes  (codants   et non-codants),  pseudogènes     et éléments  répétés      \n",
            "        •  Comparaison    aux  autres génomes                                                      \n",
            "        •  Les types  de variations  du génome    humain   et leurs conséquences                   \n",
            "        •  La variabilité du génome   humain                                                       \n",
            "        •  Evolution des  génomes:    notions essentielles,  mécanismes                            \n",
            "                                                                                                 2 \n"
          ]
        }
      ],
      "source": [
        "# Test plan extraction\n",
        "plan_extractor = PlanExtractor()\n",
        "\n",
        "plan_txt = plan_extractor.extract_plan_from_page(pdf_path=pdf_path, page_number=2)\n",
        "\n",
        "print(plan_txt)"
      ]
    },
    {
      "cell_type": "markdown",
      "metadata": {},
      "source": [
        "## Build the Outline"
      ]
    },
    {
      "cell_type": "code",
      "execution_count": 75,
      "metadata": {},
      "outputs": [
        {
          "name": "stdout",
          "output_type": "stream",
          "text": [
            "2025-08-18 10:13:26,958 [DEBUG] src.llm.outline_two_pass: Starting outline generation from plan text (1599 chars)\n",
            "2025-08-18 10:13:41,765 [INFO] httpx: HTTP Request: POST https://api.openai.com/v1/responses \"HTTP/1.1 200 OK\"\n",
            "2025-08-18 10:13:41,817 [DEBUG] src.llm.outline_two_pass: Successfully generated outline with 6 sections\n"
          ]
        }
      ],
      "source": [
        "out_builder = OutlineTwoPass()\n",
        "\n",
        "outline = out_builder.build_outline(plan_txt)"
      ]
    },
    {
      "cell_type": "code",
      "execution_count": 78,
      "metadata": {},
      "outputs": [
        {
          "name": "stdout",
          "output_type": "stream",
          "text": [
            "Course Outline:\n",
            "==================================================\n",
            "Introduction\n",
            "  Notions fondamentales\n",
            "Le génome humain\n",
            "  Projet de séquençage\n",
            "  Architecture globale\n",
            "    Génome mitochondrial\n",
            "    Génome nucléaire\n",
            "  Description des principaux éléments constituants\n",
            "    Gènes (codants et non-codants), pseudogènes et éléments répétés\n",
            "Comparaison aux autres génomes\n",
            "Les types de variations du génome humain et leurs conséquences\n",
            "La variabilité du génome humain\n",
            "Evolution des génomes: notions essentielles, mécanismes\n"
          ]
        }
      ],
      "source": [
        "print(outline.print_outline())"
      ]
    },
    {
      "cell_type": "markdown",
      "metadata": {},
      "source": [
        "## Build the mapping"
      ]
    },
    {
      "cell_type": "code",
      "execution_count": 79,
      "metadata": {},
      "outputs": [],
      "source": [
        "slides = slides[:10]"
      ]
    },
    {
      "cell_type": "code",
      "execution_count": 80,
      "metadata": {},
      "outputs": [
        {
          "name": "stdout",
          "output_type": "stream",
          "text": [
            "2025-08-18 10:14:02,625 [DEBUG] src.llm.mapping_two_pass: Starting mapping generation for 10 slides and 6 sections\n",
            "2025-08-18 10:15:20,967 [INFO] httpx: HTTP Request: POST https://api.openai.com/v1/responses \"HTTP/1.1 200 OK\"\n",
            "2025-08-18 10:15:20,996 [DEBUG] src.llm.mapping_two_pass: Successfully generated mapping with 13 entries\n"
          ]
        },
        {
          "data": {
            "text/plain": [
              "src.models.SectionSlideMapping"
            ]
          },
          "execution_count": 80,
          "metadata": {},
          "output_type": "execute_result"
        }
      ],
      "source": [
        "mapping_builder = MappingTwoPass()\n",
        "\n",
        "mapping = mapping_builder.build_mapping(slides=slides, outline=outline) \n",
        "\n",
        "type(mapping)"
      ]
    },
    {
      "cell_type": "code",
      "execution_count": 82,
      "metadata": {},
      "outputs": [
        {
          "name": "stdout",
          "output_type": "stream",
          "text": [
            "Section-to-Slides Mapping:\n",
            "============================================================\n",
            "\n",
            "[Root] SEC_1\n",
            "Title: Introduction\n",
            "Slides: 2 slide(s)\n",
            "Slide IDs: SL_002, SL_003\n",
            "\n",
            "  [Level 1] SEC_1.1\n",
            "  Title: Notions fondamentales\n",
            "  Slides: 7 slide(s)\n",
            "  Slide IDs: SL_004, SL_005, SL_006, SL_007, SL_008, SL_009, SL_010\n",
            "\n",
            "[Root] SEC_2\n",
            "Title: Le génome humain\n",
            "Slides: 1 slide(s)\n",
            "Slide IDs: SL_001\n",
            "\n",
            "  [Level 1] SEC_2.1\n",
            "  Title: Projet de séquençage\n",
            "  Slides: 1 slide(s)\n",
            "  Slide IDs: SL_002\n",
            "\n",
            "  [Level 1] SEC_2.2\n",
            "  Title: Architecture globale\n",
            "  Slides: 1 slide(s)\n",
            "  Slide IDs: SL_001\n",
            "\n",
            "    [Level 2] SEC_2.2.1\n",
            "    Title: Génome mitochondrial\n",
            "    Slides: 1 slide(s)\n",
            "    Slide IDs: SL_001\n",
            "\n",
            "    [Level 2] SEC_2.2.2\n",
            "    Title: Génome nucléaire\n",
            "    Slides: 1 slide(s)\n",
            "    Slide IDs: SL_001\n",
            "\n",
            "  [Level 1] SEC_2.3\n",
            "  Title: Description des principaux éléments constituants\n",
            "  Slides: 1 slide(s)\n",
            "  Slide IDs: SL_001\n",
            "\n",
            "    [Level 2] SEC_2.3.1\n",
            "    Title: Gènes (codants et non-codants), pseudogènes et éléments répétés\n",
            "    Slides: 1 slide(s)\n",
            "    Slide IDs: SL_001\n",
            "\n",
            "[Root] SEC_3\n",
            "Title: Comparaison aux autres génomes\n",
            "Slides: 2 slide(s)\n",
            "Slide IDs: SL_005, SL_009\n",
            "\n",
            "[Root] SEC_4\n",
            "Title: Les types de variations du génome humain et leurs conséquences\n",
            "Slides: 1 slide(s)\n",
            "Slide IDs: SL_009\n",
            "\n",
            "[Root] SEC_5\n",
            "Title: La variabilité du génome humain\n",
            "Slides: 1 slide(s)\n",
            "Slide IDs: SL_006\n",
            "\n",
            "[Root] SEC_6\n",
            "Title: Evolution des génomes: notions essentielles, mécanismes\n",
            "Slides: 2 slide(s)\n",
            "Slide IDs: SL_004, SL_006\n"
          ]
        }
      ],
      "source": [
        "print(mapping.visualize_mapping(outline))"
      ]
    },
    {
      "cell_type": "code",
      "execution_count": 87,
      "metadata": {},
      "outputs": [
        {
          "name": "stdout",
          "output_type": "stream",
          "text": [
            "Course Outline:\n",
            "==================================================\n",
            "Introduction\n",
            "  Notions fondamentales\n",
            "Le génome humain\n",
            "  Projet de séquençage\n",
            "  Architecture globale\n",
            "    Génome mitochondrial\n",
            "    Génome nucléaire\n",
            "  Description des principaux éléments constituants\n",
            "    Gènes (codants et non-codants), pseudogènes et éléments répétés\n",
            "Comparaison aux autres génomes\n",
            "Les types de variations du génome humain et leurs conséquences\n",
            "La variabilité du génome humain\n",
            "Evolution des génomes: notions essentielles, mécanismes\n"
          ]
        }
      ],
      "source": [
        "course_with_slides = outline.enrich_with_slides(slides=slides, mapping=mapping)\n",
        "\n",
        "print(course_with_slides.print_outline())"
      ]
    },
    {
      "cell_type": "markdown",
      "metadata": {},
      "source": [
        "## Write the course"
      ]
    },
    {
      "cell_type": "code",
      "execution_count": 84,
      "metadata": {},
      "outputs": [
        {
          "name": "stdout",
          "output_type": "stream",
          "text": [
            "2025-08-18 10:16:07,926 [DEBUG] src.llm.writer: Starting content enhancement for 6 sections\n",
            "2025-08-18 10:19:58,868 [INFO] httpx: HTTP Request: POST https://api.openai.com/v1/responses \"HTTP/1.1 200 OK\"\n",
            "2025-08-18 10:19:58,980 [DEBUG] src.llm.writer: Successfully enhanced content with 6 sections\n"
          ]
        },
        {
          "data": {
            "text/plain": [
              "src.models.Content"
            ]
          },
          "execution_count": 84,
          "metadata": {},
          "output_type": "execute_result"
        }
      ],
      "source": [
        "writer = Writer()\n",
        "\n",
        "course = writer.write_course(enriched_content=course_with_slides)\n",
        "type(course)"
      ]
    },
    {
      "cell_type": "code",
      "execution_count": 89,
      "metadata": {},
      "outputs": [
        {
          "data": {
            "text/plain": [
              "src.models.Content"
            ]
          },
          "execution_count": 89,
          "metadata": {},
          "output_type": "execute_result"
        }
      ],
      "source": [
        "type(course)"
      ]
    },
    {
      "cell_type": "code",
      "execution_count": 88,
      "metadata": {},
      "outputs": [
        {
          "ename": "ValidationError",
          "evalue": "1 validation error for Course\ncontent\n  Input should be a valid dictionary or instance of Content [type=model_type, input_value=Content(sections=[Content...ides=None, mapping=None), input_type=Content]\n    For further information visit https://errors.pydantic.dev/2.11/v/model_type",
          "output_type": "error",
          "traceback": [
            "\u001b[0;31m---------------------------------------------------------------------------\u001b[0m",
            "\u001b[0;31mValidationError\u001b[0m                           Traceback (most recent call last)",
            "Cell \u001b[0;32mIn[88], line 1\u001b[0m\n\u001b[0;32m----> 1\u001b[0m test_course \u001b[38;5;241m=\u001b[39m \u001b[43mCourse\u001b[49m\u001b[43m(\u001b[49m\n\u001b[1;32m      2\u001b[0m \u001b[43m    \u001b[49m\u001b[43mname\u001b[49m\u001b[38;5;241;43m=\u001b[39;49m\u001b[38;5;124;43m\"\u001b[39;49m\u001b[38;5;124;43mArchitecture du génome humain\u001b[39;49m\u001b[38;5;124;43m\"\u001b[39;49m\u001b[43m,\u001b[49m\n\u001b[1;32m      3\u001b[0m \u001b[43m    \u001b[49m\u001b[43mcourse_title\u001b[49m\u001b[38;5;241;43m=\u001b[39;49m\u001b[38;5;124;43m\"\u001b[39;49m\u001b[38;5;124;43mArchitecture du génome humain\u001b[39;49m\u001b[38;5;124;43m\"\u001b[39;49m\u001b[43m,\u001b[49m\n\u001b[1;32m      4\u001b[0m \u001b[43m    \u001b[49m\u001b[43mlevel\u001b[49m\u001b[38;5;241;43m=\u001b[39;49m\u001b[38;5;124;43m\"\u001b[39;49m\u001b[38;5;124;43mL1\u001b[39;49m\u001b[38;5;124;43m\"\u001b[39;49m\u001b[43m,\u001b[49m\n\u001b[1;32m      5\u001b[0m \u001b[43m    \u001b[49m\u001b[43mblock\u001b[49m\u001b[38;5;241;43m=\u001b[39;49m\u001b[38;5;124;43m\"\u001b[39;49m\u001b[38;5;124;43mSANTE\u001b[39;49m\u001b[38;5;124;43m\"\u001b[39;49m\u001b[43m,\u001b[49m\n\u001b[1;32m      6\u001b[0m \u001b[43m    \u001b[49m\u001b[43msemester\u001b[49m\u001b[38;5;241;43m=\u001b[39;49m\u001b[38;5;124;43m\"\u001b[39;49m\u001b[38;5;124;43mS1\u001b[39;49m\u001b[38;5;124;43m\"\u001b[39;49m\u001b[43m,\u001b[49m\n\u001b[1;32m      7\u001b[0m \u001b[43m    \u001b[49m\u001b[43msubject\u001b[49m\u001b[38;5;241;43m=\u001b[39;49m\u001b[38;5;124;43m\"\u001b[39;49m\u001b[38;5;124;43mUE-1 Constitution et transformation de la matière\u001b[39;49m\u001b[38;5;124;43m\"\u001b[39;49m\u001b[43m,\u001b[49m\n\u001b[1;32m      8\u001b[0m \u001b[43m    \u001b[49m\u001b[43mcontent\u001b[49m\u001b[38;5;241;43m=\u001b[39;49m\u001b[43mcourse\u001b[49m\n\u001b[1;32m      9\u001b[0m \u001b[43m)\u001b[49m\n\u001b[1;32m     11\u001b[0m \u001b[38;5;28mprint\u001b[39m(test_course\u001b[38;5;241m.\u001b[39mprint_outline())\n",
            "File \u001b[0;32m~/Documents/formascience/class_parser/.venv/lib/python3.11/site-packages/pydantic/main.py:253\u001b[0m, in \u001b[0;36mBaseModel.__init__\u001b[0;34m(self, **data)\u001b[0m\n\u001b[1;32m    251\u001b[0m \u001b[38;5;66;03m# `__tracebackhide__` tells pytest and some other tools to omit this function from tracebacks\u001b[39;00m\n\u001b[1;32m    252\u001b[0m __tracebackhide__ \u001b[38;5;241m=\u001b[39m \u001b[38;5;28;01mTrue\u001b[39;00m\n\u001b[0;32m--> 253\u001b[0m validated_self \u001b[38;5;241m=\u001b[39m \u001b[38;5;28;43mself\u001b[39;49m\u001b[38;5;241;43m.\u001b[39;49m\u001b[43m__pydantic_validator__\u001b[49m\u001b[38;5;241;43m.\u001b[39;49m\u001b[43mvalidate_python\u001b[49m\u001b[43m(\u001b[49m\u001b[43mdata\u001b[49m\u001b[43m,\u001b[49m\u001b[43m \u001b[49m\u001b[43mself_instance\u001b[49m\u001b[38;5;241;43m=\u001b[39;49m\u001b[38;5;28;43mself\u001b[39;49m\u001b[43m)\u001b[49m\n\u001b[1;32m    254\u001b[0m \u001b[38;5;28;01mif\u001b[39;00m \u001b[38;5;28mself\u001b[39m \u001b[38;5;129;01mis\u001b[39;00m \u001b[38;5;129;01mnot\u001b[39;00m validated_self:\n\u001b[1;32m    255\u001b[0m     warnings\u001b[38;5;241m.\u001b[39mwarn(\n\u001b[1;32m    256\u001b[0m         \u001b[38;5;124m'\u001b[39m\u001b[38;5;124mA custom validator is returning a value other than `self`.\u001b[39m\u001b[38;5;130;01m\\n\u001b[39;00m\u001b[38;5;124m'\u001b[39m\n\u001b[1;32m    257\u001b[0m         \u001b[38;5;124m\"\u001b[39m\u001b[38;5;124mReturning anything other than `self` from a top level model validator isn\u001b[39m\u001b[38;5;124m'\u001b[39m\u001b[38;5;124mt supported when validating via `__init__`.\u001b[39m\u001b[38;5;130;01m\\n\u001b[39;00m\u001b[38;5;124m\"\u001b[39m\n\u001b[1;32m    258\u001b[0m         \u001b[38;5;124m'\u001b[39m\u001b[38;5;124mSee the `model_validator` docs (https://docs.pydantic.dev/latest/concepts/validators/#model-validators) for more details.\u001b[39m\u001b[38;5;124m'\u001b[39m,\n\u001b[1;32m    259\u001b[0m         stacklevel\u001b[38;5;241m=\u001b[39m\u001b[38;5;241m2\u001b[39m,\n\u001b[1;32m    260\u001b[0m     )\n",
            "\u001b[0;31mValidationError\u001b[0m: 1 validation error for Course\ncontent\n  Input should be a valid dictionary or instance of Content [type=model_type, input_value=Content(sections=[Content...ides=None, mapping=None), input_type=Content]\n    For further information visit https://errors.pydantic.dev/2.11/v/model_type"
          ]
        }
      ],
      "source": [
        "test_course = Course(\n",
        "    name=\"Architecture du génome humain\",\n",
        "    course_title=\"Architecture du génome humain\",\n",
        "    level=\"L1\",\n",
        "    block=\"SANTE\",\n",
        "    semester=\"S1\",\n",
        "    subject=\"UE-1 Constitution et transformation de la matière\",\n",
        "    content=course\n",
        ")\n",
        "\n",
        "print(test_course.print_outline())"
      ]
    },
    {
      "cell_type": "code",
      "execution_count": 90,
      "metadata": {},
      "outputs": [
        {
          "name": "stdout",
          "output_type": "stream",
          "text": [
            "Course content annotation -> <class 'src.models.Content'> src.models\n",
            "Returned content instance -> <class 'src.models.Content'> src.models\n",
            "Same class object? -> False\n"
          ]
        }
      ],
      "source": [
        "from src.models import Content as ModelsContent\n",
        "print(\"Course content annotation ->\", ModelsContent, ModelsContent.__module__)\n",
        "\n",
        "print(\"Returned content instance ->\", type(course), type(course).__module__)\n",
        "\n",
        "print(\"Same class object? ->\", type(course) is ModelsContent)"
      ]
    },
    {
      "cell_type": "markdown",
      "metadata": {},
      "source": [
        "## Tests\n"
      ]
    },
    {
      "cell_type": "code",
      "execution_count": 64,
      "metadata": {},
      "outputs": [
        {
          "name": "stdout",
          "output_type": "stream",
          "text": [
            "🔁 Imports refreshed\n"
          ]
        },
        {
          "data": {
            "text/plain": [
              "({'slides_pdf': '/Users/youssefjanjar/Documents/formascience/class_parser/volume/slides/cours_1.pdf',\n",
              "  'plan_page': 2},\n",
              " {'save_json': True,\n",
              "  'save_docx': True,\n",
              "  'template_path': '/Users/youssefjanjar/Documents/formascience/class_parser/volume/templates/fs_template.docx',\n",
              "  'output_dir': '/Users/youssefjanjar/Documents/formascience/class_parser/volume/artifacts'},\n",
              " CourseMetadata(name='Architecture du génome humain', course_title='Architecture du génome humain', level='L1', block='SANTE', semester='S1', subject='UE-1 - Les bases de la biologie', chapter=None, year=2024, professor='Youssef Janjar'))"
            ]
          },
          "execution_count": 64,
          "metadata": {},
          "output_type": "execute_result"
        }
      ],
      "source": [
        "refresh_imports()\n",
        "\n",
        "from src.models import PipelineConfig\n",
        "\n",
        "config = PipelineConfig.load(\"pipeline.yaml\")\n",
        "config.inputs, config.outputs, config.metadata"
      ]
    },
    {
      "cell_type": "code",
      "execution_count": 65,
      "metadata": {},
      "outputs": [
        {
          "data": {
            "text/plain": [
              "['architecture_du_génome_humain_20250817_224951.json',\n",
              " '.DS_Store',\n",
              " 'architecture_du_génome_humain_filled.docx',\n",
              " 'docx']"
            ]
          },
          "execution_count": 65,
          "metadata": {},
          "output_type": "execute_result"
        }
      ],
      "source": [
        "import os \n",
        "os.listdir(config.outputs['output_dir'])"
      ]
    },
    {
      "cell_type": "code",
      "execution_count": 66,
      "metadata": {},
      "outputs": [
        {
          "name": "stdout",
          "output_type": "stream",
          "text": [
            "Course Outline:\n",
            "==================================================\n",
            "Introduction\n",
            "  Notions fondamentales\n",
            "Le génome humain\n",
            "  Projet de séquençage\n",
            "  Architecture globale\n",
            "    Génome mitochondrial\n",
            "    Génome nucléaire\n",
            "  Description des principaux éléments constituants\n",
            "    Gènes (codants et non-codants), pseudogènes et éléments répétés\n",
            "Comparaison aux autres génomes\n",
            "Les types de variations du génome humain et leurs conséquences\n",
            "La variabilité du génome humain\n",
            "Evolution des génomes: notions essentielles, mécanismes\n"
          ]
        }
      ],
      "source": [
        "from src.course import Course\n",
        "\n",
        "course = Course.load_from_json(config.outputs['output_dir']+'/architecture_du_génome_humain_20250817_224951.json')\n",
        "\n",
        "print(course.content.print_outline())"
      ]
    },
    {
      "cell_type": "code",
      "execution_count": 67,
      "metadata": {},
      "outputs": [
        {
          "name": "stdout",
          "output_type": "stream",
          "text": [
            "💾 Course saved to: /Users/youssefjanjar/Documents/formascience/class_parser/volume/artifacts/json/architecture_du_génome_humain_20250818_082858.json\n"
          ]
        },
        {
          "data": {
            "text/plain": [
              "'/Users/youssefjanjar/Documents/formascience/class_parser/volume/artifacts/json/architecture_du_génome_humain_20250818_082858.json'"
            ]
          },
          "execution_count": 67,
          "metadata": {},
          "output_type": "execute_result"
        }
      ],
      "source": [
        "course.save_to_json(output_path=config.outputs['output_dir'])"
      ]
    },
    {
      "cell_type": "code",
      "execution_count": 61,
      "metadata": {},
      "outputs": [
        {
          "name": "stdout",
          "output_type": "stream",
          "text": [
            "📄 Course exported to DOCX: /Users/youssefjanjar/Documents/formascience/class_parser/volume/artifacts/docx/architecture_du_génome_humain.docx\n"
          ]
        },
        {
          "data": {
            "text/plain": [
              "'/Users/youssefjanjar/Documents/formascience/class_parser/volume/artifacts/docx/architecture_du_génome_humain.docx'"
            ]
          },
          "execution_count": 61,
          "metadata": {},
          "output_type": "execute_result"
        }
      ],
      "source": [
        "course.to_docx(template_path=config.outputs['template_path'], output_path=config.outputs['output_dir']+'/docx')"
      ]
    },
    {
      "cell_type": "markdown",
      "metadata": {},
      "source": [
        "# Testing the pipeline"
      ]
    },
    {
      "cell_type": "code",
      "execution_count": 68,
      "metadata": {},
      "outputs": [
        {
          "name": "stdout",
          "output_type": "stream",
          "text": [
            "Current working directory: /Users/youssefjanjar/Documents/formascience/class_parser\n",
            "Root folder (pathlib): /Users/youssefjanjar/Documents/formascience/class_parser\n",
            "Absolute path: /Users/youssefjanjar/Documents/formascience/class_parser\n",
            "\n",
            "Contents of root folder:\n",
            "📁 .cursor/\n",
            "📄 .DS_Store\n",
            "📄 create_structure.sh\n",
            "📁 audio_extractor/\n",
            "📄 pyproject.toml\n",
            "📄 data_structure.md\n",
            "📁 tests/\n",
            "📁 __pycache__/\n",
            "📄 README.md\n",
            "📁 .mypy_cache/\n",
            "📄 .gitignore\n",
            "📄 diagram.mermaid\n",
            "📄 .env\n",
            "📁 .venv/\n",
            "📄 pipeline.yaml\n",
            "📄 poetry.lock\n",
            "📁 .git/\n",
            "📄 main.py\n",
            "📄 test_workflow.ipynb\n",
            "📁 data/\n",
            "📁 volume/\n",
            "📁 notebooks/\n",
            "📁 src/\n"
          ]
        }
      ],
      "source": [
        "import os\n",
        "from pathlib import Path\n",
        "\n",
        "# Print current working directory\n",
        "print(\"Current working directory:\", os.getcwd())\n",
        "\n",
        "# Print root folder using pathlib\n",
        "root_path = Path.cwd()\n",
        "print(\"Root folder (pathlib):\", root_path)\n",
        "\n",
        "# Print absolute path\n",
        "print(\"Absolute path:\", root_path.absolute())\n",
        "\n",
        "# List contents of root folder\n",
        "print(\"\\nContents of root folder:\")\n",
        "for item in root_path.iterdir():\n",
        "    if item.is_dir():\n",
        "        print(f\"📁 {item.name}/\")\n",
        "    else:\n",
        "        print(f\"📄 {item.name}\")\n"
      ]
    },
    {
      "cell_type": "code",
      "execution_count": 2,
      "metadata": {},
      "outputs": [
        {
          "name": "stderr",
          "output_type": "stream",
          "text": [
            "2025-08-18 13:10:15,439 - pdfminer.pdfinterp - WARNING - Cannot set gray non-stroke color because /'P412' is an invalid float value\n",
            "2025-08-18 13:10:15,440 - pdfminer.pdfinterp - WARNING - Cannot set gray non-stroke color because /'P414' is an invalid float value\n",
            "2025-08-18 13:10:15,455 - pdfminer.pdfinterp - WARNING - Cannot set gray non-stroke color because /'P444' is an invalid float value\n",
            "2025-08-18 13:10:15,470 - pdfminer.pdfinterp - WARNING - Cannot set gray non-stroke color because /'P451' is an invalid float value\n",
            "2025-08-18 13:10:15,472 - pdfminer.pdfinterp - WARNING - Cannot set gray non-stroke color because /'P455' is an invalid float value\n",
            "2025-08-18 13:10:15,488 - pdfminer.pdfinterp - WARNING - Cannot set gray non-stroke color because /'P465' is an invalid float value\n",
            "2025-08-18 13:10:15,490 - pdfminer.pdfinterp - WARNING - Cannot set gray non-stroke color because /'P467' is an invalid float value\n",
            "2025-08-18 13:10:15,512 - pdfminer.pdfinterp - WARNING - Cannot set gray non-stroke color because /'P482' is an invalid float value\n",
            "2025-08-18 13:10:15,519 - pdfminer.pdfinterp - WARNING - Cannot set gray non-stroke color because /'P488' is an invalid float value\n",
            "2025-08-18 13:10:15,727 - src.pipeline - INFO - 🚀 Processing course 'Architecture du génome humain' (Branch A - Plan Provided)\n",
            "2025-08-18 13:10:15,727 - src.pipeline - INFO - 📝 Generating outline from plan...\n",
            "2025-08-18 13:10:26,263 - httpx - INFO - HTTP Request: POST https://api.openai.com/v1/responses \"HTTP/1.1 200 OK\"\n",
            "2025-08-18 13:10:26,318 - src.pipeline - INFO - ✅ Generated outline with 7 sections\n",
            "2025-08-18 13:10:26,319 - src.pipeline - INFO - 🗺️ Generating section-slide mapping...\n",
            "2025-08-18 13:12:39,982 - httpx - INFO - HTTP Request: POST https://api.openai.com/v1/responses \"HTTP/1.1 200 OK\"\n",
            "2025-08-18 13:12:40,014 - src.pipeline - INFO - ✅ Generated section-slide mapping\n",
            "2025-08-18 13:12:40,015 - src.pipeline - INFO - 🔗 Enriching content with slides...\n",
            "2025-08-18 13:12:40,016 - src.pipeline - INFO - ✅ Content enriched with slide data\n",
            "2025-08-18 13:12:40,017 - src.pipeline - INFO - ✍️ Enhancing content with AI...\n",
            "2025-08-18 13:16:48,819 - httpx - INFO - HTTP Request: POST https://api.openai.com/v1/responses \"HTTP/1.1 502 Bad Gateway\"\n",
            "2025-08-18 13:16:48,831 - openai._base_client - INFO - Retrying request to /responses in 0.390291 seconds\n",
            "2025-08-18 13:20:11,608 - httpx - INFO - HTTP Request: POST https://api.openai.com/v1/responses \"HTTP/1.1 200 OK\"\n",
            "2025-08-18 13:20:11,702 - src.pipeline - INFO - ✅ Content enhanced and finalized\n",
            "2025-08-18 13:20:11,705 - src.pipeline - INFO - 💾 Course saved to JSON\n"
          ]
        },
        {
          "name": "stdout",
          "output_type": "stream",
          "text": [
            "💾 Course saved to: /Users/youssefjanjar/Documents/formascience/class_parser/volume/artifacts/json/architecture_du_génome_humain_20250818_132011.json\n"
          ]
        },
        {
          "name": "stderr",
          "output_type": "stream",
          "text": [
            "2025-08-18 13:20:11,906 - src.pipeline - INFO - 💾 Course saved to DOCX\n",
            "2025-08-18 13:20:11,906 - src.pipeline - INFO - 🎉 Course processing complete!\n"
          ]
        },
        {
          "name": "stdout",
          "output_type": "stream",
          "text": [
            "📄 Course exported to DOCX: /Users/youssefjanjar/Documents/formascience/class_parser/volume/artifacts/docx/architecture_du_génome_humain.docx\n",
            "Processed 7 sections from 110 slides\n"
          ]
        }
      ],
      "source": [
        "import logging\n",
        "import sys\n",
        "from pathlib import Path\n",
        "\n",
        "from src.pipeline import CoursePipeline\n",
        "from src.models import CourseMetadata\n",
        "\n",
        "# Configure logging level\n",
        "logging.basicConfig(\n",
        "    level=logging.INFO,  # Change to DEBUG for more detailed logs, WARNING for less\n",
        "    format='%(asctime)s - %(name)s - %(levelname)s - %(message)s',\n",
        "    handlers=[\n",
        "        logging.StreamHandler(),  # Console output\n",
        "        logging.FileHandler('pipeline.log')  # Optional: save to file\n",
        "    ]\n",
        ")\n",
        "\n",
        "# Initialize the pipeline\n",
        "pipeline = CoursePipeline()\n",
        "# Method 1: Using config file\n",
        "course = pipeline.process_from_config(\"configs/cours_1.yaml\")\n",
        "\n",
        "\n",
        "# Get processing statistics\n",
        "stats = pipeline.get_processing_statistics(course)\n",
        "print(f\"Processed {stats['total_sections']} sections from {stats['total_slides']} slides\")"
      ]
    },
    {
      "cell_type": "code",
      "execution_count": 4,
      "metadata": {},
      "outputs": [
        {
          "name": "stdout",
          "output_type": "stream",
          "text": [
            "Course: Architecture du génome humain\n",
            "Level: L1\n",
            "Block: SANTE\n",
            "Semester: S1\n",
            "Subject: UE-1\n",
            "Chapter: 1\n",
            "\n",
            "\n",
            "Course Outline:\n",
            "==================================================\n",
            "Introduction\n",
            "  Notions fondamentales\n",
            "Le génome humain\n",
            "  Projet de séquençage\n",
            "  Architecture globale\n",
            "    Génome mitochondrial\n",
            "    Génome nucléaire\n",
            "Description des principaux éléments constituants\n",
            "  Gènes (codants et non-codants), pseudogènes et éléments répétés\n",
            "Comparaison aux autres génomes\n",
            "Les types de variations du génome humain et leurs conséquences\n",
            "La variabilité du génome humain\n",
            "Evolution des génomes: notions essentielles, mécanismes\n"
          ]
        }
      ],
      "source": [
        "print(course.print_outline())"
      ]
    },
    {
      "cell_type": "code",
      "execution_count": 6,
      "metadata": {},
      "outputs": [
        {
          "data": {
            "text/plain": [
              "['architecture_du_génome_humain_20250818_113431.json',\n",
              " 'architecture_du_génome_humain_20250818_123215.json',\n",
              " 'réplication_et_réparation_de_l’adn_20250818_120405.json',\n",
              " 'architecture_du_génome_humain_20250818_114200.json',\n",
              " 'architecture_du_génome_humain_20250818_132011.json']"
            ]
          },
          "execution_count": 6,
          "metadata": {},
          "output_type": "execute_result"
        }
      ],
      "source": [
        "import os\n",
        "\n",
        "jsons = os.listdir(\"/Users/youssefjanjar/Documents/formascience/class_parser/volume/artifacts/json/\")\n",
        "file_path = \"/Users/youssefjanjar/Documents/formascience/class_parser/volume/artifacts/json/\" + jsons[-1]\n",
        "\n",
        "jsons"
      ]
    },
    {
      "cell_type": "code",
      "execution_count": 7,
      "metadata": {},
      "outputs": [
        {
          "data": {
            "text/plain": [
              "Course(name='Architecture du génome humain', course_title='Architecture du génome humain', level='L1', block='SANTE', semester='S1', subject='UE-1', chapter=1, content=Content(sections=[ContentSection(id='SEC_1', title='Introduction', content=[\"Ce module aborde les molécules du vivant en plaçant le génome au centre d'un cadre plus large qui comprend également le transcriptome, le protéome et le méthylome. Le programme couvre des notions fondamentales d'évolution et d'homologie, la structure et l'architecture du génome humain (nucléaire et mitochondrial), le projet de séquençage, la description des éléments constitutifs du génome, la comparaison avec d'autres génomes, ainsi que les types et les conséquences des variations génomiques.\", \"Le génome est présenté comme une référence stable de l'information héréditaire d'un organisme, servant de base de comparaison pour les autres couches fonctionnelles (expression, modifications épigénétiques, production protéique). L'étude intégrée de ces différentes couches permet de mieux comprendre la régulation, la variabilité interindividuelle et les mécanismes pathologiques associés aux altérations de l'ADN.\"], subsections=[ContentSection(id='SEC_1.1', title='Notions fondamentales', content=[\"L'arbre du vivant fournit le cadre conceptuel pour comprendre l'origine et la diversification des génomes : l'évolution s'appréhende comme un processus temporel d'accumulation et de sélection de variations, favorisant l'adaptation aux conditions environnementales. La notion de Last Universal Common Ancestor (LUCA) illustre l'existence d'un ancêtre commun pour les grandes lignées du vivant.\", \"Le choix d'organismes modèles en biologie repose sur des critères pratiques et biologiques : intérêts économique et technique, facilité d'hébergement et de manipulation, temps de génération et développement embryonnaire, ainsi que la conservation d'éléments moléculaires communs qui permettent de transférer des connaissances d'un modèle à un autre.\", \"L'homologie désigne un caractère partagé par plusieurs espèces en raison d'un ancêtre commun ; elle se distingue de l'analogie, qui résulte d'évolutions convergentes indépendantes. Sur le plan génétique, l'orthologie regroupe des gènes homologues séparés par un événement de spéciation tandis que la paralogie décrit des gènes homologues issus d'une duplication au sein d'une même lignée.\", \"La détermination de l'homologie s'appuie principalement sur l'alignement des séquences et le calcul de pourcentages d'identité ou de similarité : l'identité correspond aux résidus strictement identiques et la similarité inclut les substitutions conservatrices. Des seuils empiriques existent mais varient selon les familles de protéines et la complexité des séquences ; il convient de rester prudent en présence de régions de faible complexité ou de convergences évolutives qui peuvent engendrer des similitudes non homologues.\", \"Dans le cadre du dogme central, le gène est considéré comme une unité d'information transcrite en ARN, qui peut ensuite servir de matrice pour la synthèse protéique ou exercer des fonctions régulatrices sous forme d'ARN non codants. Cette perspective relie structure génomique, expression et fonction moléculaire.\"], subsections=[])]), ContentSection(id='SEC_2', title='Le génome humain', content=[\"Le génome humain se compose d'un génome nucléaire et d'un génome mitochondrial. Le génome nucléaire comprend 22 paires d'autosomes et une paire de chromosomes sexuels (X et Y) dans la plupart des individus diploïdes, tandis que le génome mitochondrial est généralement une molécule circulaire distincte de petite taille.\", \"La distinction haploïde/diploïde est centrale en génétique : la cellule diploïde dérive de l'association de génomes d'origine paternelle et maternelle, et la nomenclature cytogénétique reflète l'organisation chromosomique. L'organisation chromosomique varie selon l'état du cycle cellulaire (condensation en métaphase versus organisation interphasique du noyau).\", \"Une faible fraction du génome est fortement conservée au cours de l'évolution : seules quelques pourcentages des bases sont soumises à une pression de conservation élevée, ce qui indique que la majorité du génome tolère des variations plus importantes ou est soumise à d'autres formes de contraintes fonctionnelles.\"], subsections=[ContentSection(id='SEC_2.1', title='Projet de séquençage', content=[\"Le projet de détermination de la séquence du génome humain a été conçu comme une entreprise internationale de longue haleine mobilisant des ressources et des efforts soutenus sur plus d'une décennie. L'ambition était de produire une carte de référence de l'euchromatine et d'obtenir une séquence de haute qualité pour servir de support aux recherches fondamentales et médicales.\", \"La stratégie combinait une cartographie génétique, fondée sur les fréquences de recombinaison (mesurées en centiMorgans), et une cartographie physique exprimée en distance réelle (kilobases, mégabases). Ces deux approches ont permis d'ordonner des marqueurs et des fragments avant l'assemblage des lectures de séquençage.\", \"La production de la séquence s'est faite en plusieurs étapes : une version initiale dite « draft » a fourni une couverture importante du génome avec une qualité variable, suivie d'une version finalisée de qualité élevée. Malgré l'atteinte d'une très grande complétude, le génome de référence a continué d'être amélioré au fil du temps pour résoudre des régions répétées ou structurellement complexes.\"], subsections=[]), ContentSection(id='SEC_2.2', title='Architecture globale', content=[\"L'architecture du génome se déploie à différentes échelles et peut être explorée à l'aide d'outils de visualisation qui permettent une navigation du niveau chromosomique au niveau d'un locus précis. Ces interfaces intègrent des annotations variées — gènes, profils protéiques, régions conservées — facilitant l'interprétation fonctionnelle d'une position génomique.\", \"À l'échelle d'un gène, la représentation inclut l'orientation de transcription, la localisation des exons et introns, et les éléments régulateurs adjacents ; le zoom local révèle la structure fine nécessaire à l'interprétation des variations et des mécanismes d'expression.\", \"Un contraste majeur existe entre les génomes nucléaire et mitochondrial : le génome nucléaire haploïde représente plusieurs gigabases, est enrichi en séquences répétées (souvent >50 %), et ne contient qu'une faible proportion de régions codantes (~1 %). Le génome mitochondrial est très compact (quelques dizaines de kilobases), densément codant, dépourvu d'introns et présent en de très nombreux exemplaires par cellule, avec un mode d'héritage et des caractéristiques propres.\"], subsections=[ContentSection(id='SEC_2.2.1', title='Génome mitochondrial', content=[\"Le génome mitochondrial est un petit génome circulaire, d'environ 16,6 kilobases chez l'homme, caractérisé par une organisation compacte et l'encodage d'un ensemble restreint de gènes. Il contient en général 37 gènes au total : treize codants pour des protéines impliquées dans la phosphorylation oxydative et une vingtaine d'ARN de transfert et d'ARN ribosomaux nécessaires à la traduction mitochondriale.\", \"La table codante mitochondriale diffère légèrement de la table standard nucléaire, entraînant des usages spécifiques de certains codons. Cette organisation rappelle l'origine endosymbiotique probable des mitochondries et explique en partie la similitude avec des génomes bactériens.\", \"D'un point de vue héréditaire et populationnel, le génome mitochondrial est transmis majoritairement par voie maternelle et se présente en de très nombreux exemplaires par cellule (>1000), ce qui rend possible la coexistence de variantes différentes au sein d'un même individu (hétéroplasmie) avec des proportions variables selon les tissus et l'âge. Les génomes mitochondriaux varient en taille et en organisation entre espèces, allant de formes très compactes chez de nombreux animaux à des structures plus étendues chez certaines plantes et champignons.\"], subsections=[]), ContentSection(id='SEC_2.2.2', title='Génome nucléaire', content=[\"Le génome nucléaire haploïde humain représente environ 3,1 gigabases de séquence et constitue l'essentiel du matériel génétique codant et non codant. Il a été caractérisé progressivement grâce à des versions de référence publiées au début du XXIe siècle puis complétées et raffinées lors d'itérations ultérieures.\", \"Sa organisation distingue la euchromatine, région relativement ouverte et riche en gènes et en activité transcriptionnelle, et l'hétérochromatine constitutive, zone condensée riche en séquences répétées et généralement transcriptionnellement inactive. Cette dichotomie structure-fonction influence les possibilités d'expression, de recombinaison et la stabilité des régions génomiques.\"], subsections=[])])]), ContentSection(id='SEC_3', title='Description des principaux éléments constituants', content=[\"Les principaux composants du génome humain comprennent les gènes codants et non codants, les pseudogènes et une grande diversité d'éléments répétitifs. Chacun de ces éléments contribue différemment à la structure, à la fonction et à l'évolution du génome.\", \"La connaissance détaillée de ces constituants est essentielle pour comprendre l'expression génique, l'impact des variations et les mécanismes évolutifs ; les sections suivantes décrivent ces classes en précisant leur origine, leur organisation et leurs implications fonctionnelles.\"], subsections=[ContentSection(id='SEC_3.1', title='Gènes (codants et non-codants), pseudogènes et éléments répétés', content=[\"Un gène est défini comme un segment d'ADN utilisé comme matrice pour la synthèse d'un ARN simple brin au cours de la transcription. Les ARN messagers (ARNm) codent pour des protéines tandis que de nombreuses classes d'ARN non codants (ARNt, ARNr, microARN, snoARN, snARN, lncARN, etc.) jouent des rôles essentiels dans la traduction, la régulation et l'organisation nucléaire.\", \"Le génome humain contient environ vingt mille gènes codants identifiés et un nombre nettement supérieur d'ARN non codants ; le bilan global (codants + non codants) se stabilise autour de plusieurs dizaines de milliers d'entités annotées, bien que ces chiffres restent susceptibles d'ajustements au fur et à mesure des améliorations des annotations.\", \"La taille des gènes et des protéines est extrêmement variable : la longueur moyenne d'un gène est de l'ordre de plusieurs dizaines de kilobases, mais des gènes peuvent être très compacts ou s'étendre sur des mégabases. Les protéines vont de très courtes séquences à des protéines géantes, la titine étant l'exemple d'une protéine d'une taille exceptionnelle. De même, le nombre et la taille des exons et introns varient fortement entre gènes, ce qui conditionne la complexité des isoformes transcrites.\", \"Des exemples concrets montrent cette diversité structurelle : certains gènes présentent quelques exons compacts, d'autres des dizaines d'exons et des introns très longs, illustrant que la structure génomique est adaptée à la fonction protéique et aux contraintes d'expression.\", \"L'organisation des gènes sur le génome peut être non regroupée, avec des territoires géniques indépendants et parfois chevauchants, ou bien groupée en clusters résultant de duplications en tandem. Les clusters associent souvent des gènes homologues, des orientations transcriptionnelles conservées et la présence de pseudogènes ; des familles telles que les gènes d'histones ou les récepteurs olfactifs illustrent ces organisations en clusters.\", \"Les gènes non codants sont nombreux et structurés en ensembles spécifiques : on trouve plusieurs centaines de gènes codant pour des ARNt (et des pseudogènes associés) et de multiples copies d'ARN ribosomaux répartis en grands clusters. La quantification exacte de certaines classes, notamment des répétitions d'ARN ribosomal, reste partiellement incertaine en raison de leur structure répétitive.\", \"Les pseudogènes représentent des copies généralement défectueuses de gènes fonctionnels et concernent une proportion notable du génome codant. On distingue des pseudogènes non processés (résultant de duplications conservant structure intron/exon), des pseudogènes processés (issus de rétrotransposition d'ARNm, dépourvus d'introns et de régions régulatrices) et des pseudogènes unitaires (résultant de la dégradation d'un gène unique soumis à une pression de sélection diminuée). Bien que longtemps considérés comme fossiles, certains pseudogènes sont transcrits et peuvent jouer des rôles régulateurs.\", \"Les éléments répétitifs occupent une part importante du génome et se classent en répétitions en tandem (satellites, minisatellites, microsatellites) et en éléments répétés dispersés (dérivés de transposons). Les microsatellites, fréquents et polymorphiques, sont utiles pour le génotypage et l'identification individuelle, tandis que les répétitions dispersées forment une fraction majeure du génome.\", 'Parmi les éléments dispersés, les rétrotransposons se propagent par un mécanisme de type « copié-collé » impliquant une étape ARN puis une rétrotranscription en ADN ; les LINEs (notamment Line-1) constituent de nombreuses copies dont une petite fraction reste potentiellement active et code des protéines nécessaires à la mobilité (ORF1, ORF2). Les SINEs, tels que les éléments Alu chez les primates, sont plus courts et non autonomes, utilisant la machinerie des LINEs pour leur propagation.', \"D'autres éléments répétés comprennent des rétrovirus à LTR, disposant d'une machinerie génétique typique, et des transposons à mécanisme « coupé-collé » dépendant d'une transposase. La plupart de ces éléments sont aujourd'hui inactifs ou fortement dégradés, mais ils constituent un moteur majeur de diversification et d'évolution génomique.\"], subsections=[])]), ContentSection(id='SEC_4', title='Comparaison aux autres génomes', content=[\"La capacité codante d'une espèce n'est pas proportionnelle à la taille totale de son génome ni au nombre de chromosomes ; des organismes très différents peuvent présenter des nombres de gènes comparables alors que leur contenu non codant et répétitif diffère énormément.\", \"La distribution du nombre de gènes varie selon les grands groupes du vivant et ne reflète pas de manière simple la complexité physiologique d'un organisme : unicellulaires et multicellulaires peuvent partager des ordres de grandeur similaires pour le nombre de gènes, la différence résidant souvent dans l'organisation régulatrice et la diversité d'isoformes.\", 'Les génomes compacts et pauvres en séquences répétées tendent à montrer une relation plus linéaire entre taille et nombre de gènes, mais chez les eucaryotes supérieurs le nombre de gènes est largement influencé par des duplications, des éléments répétitifs et des introns qui rendent impossible une corrélation simple entre taille du génome et complexité biologique.'], subsections=[]), ContentSection(id='SEC_5', title='Les types de variations du génome humain et leurs conséquences', content=[\"Dans le langage courant, on parle de mutation pour désigner une modification héritée de l'information contenue dans le génome. En médecine et en génétique, le terme se réserve souvent aux altérations de séquence associées à un phénotype pathologique ; il convient de distinguer les mutations délétères des polymorphismes, ces derniers étant des variations présentes à une fréquence élevée (classiquement ≥ 1 %) dans une population donnée.\", \"Les variations peuvent être classées selon leur taille et leur nature : les variations ponctuelles ou de petite taille (quelques bases jusqu'à une cinquantaine) sont désignées SNV ou petites indels, tandis que les variations de structure touchent des segments plus larges (>50 pb) et comprennent délétions, duplications, inversions et translocations. Les variations de nombre de copies (CNV) font partie des remaniements déséquilibrés affectant la copie d'un segment donné.\", \"Une nomenclature standardisée est utilisée pour décrire les variations à différents niveaux : la notation génomique (g.), la notation sur ARNm (c.) et la notation protéique (p.) permettent de localiser et d'indiquer précisément la nature d'un changement. Les acides aminés sont souvent abrégés par une lettre ou un nom et sont référencés par leur position, par exemple p.Arg22Ser ou p.Arg22* pour une substitution ou un codon stop.\", \"Un individu peut porter de multiples variations sur un même gène ou sur des allèles différents ; la notation phasée ou non phasée (indication que des variations sont sur le même allèle ou sur des allèles différents) est importante pour l'interprétation fonctionnelle et clinique. La représentation correcte des génotypes est essentielle pour évaluer la cooccurrence et les effets combinés de variantes.\", \"Le statut de polymorphisme versus mutation pathogène dépend de la fréquence allélique, des données fonctionnelles, du contexte de transmission et de l'association avec un phénotype. Des exemples cliniques illustrent ces distinctions : une variation délétère sur un gène lié à l'X peut manifester un phénotype sévère chez l'homme tandis que la femme peut être asymptomatique ou présenter un phénotype plus tardif ; d'autres maladies requièrent la présence de deux allèles pathogènes (mode autosomique récessif) pour s'exprimer.\", \"Au plan moléculaire, les substitutions nucléotidiques peuvent être synonymes, faux-sens ou non-sens selon leur effet sur la séquence codante ; les indels conduisent à des décalages du cadre de lecture si leur longueur n'est pas un multiple de trois, entraînant fréquemment des protéines tronquées ou aberrantes. La localisation d'une variation dans l'architecture du gène (exon, intron, jonction d'épissage, régions régulatrices) conditionne souvent son impact fonctionnel.\", \"Les sites d'épissage (site donneur 5' et site accepteur 3') suivent des motifs canoniques (GT-AG pour la grande majorité) et les altérations de ces motifs peuvent provoquer la rétention d'introns, l'usage de sites cryptiques ou le saut d'exons, entraînant souvent des décalages du cadre de lecture ou la perte d'éléments structuraux essentiels de la protéine.\", \"Les expansions de trinucléotides ou autres répétitions unitaires représentent un mécanisme particulier de mutation dynamique : une amplification instable du nombre de répétitions peut se produire lors de la réplication et conduire à des pathologies lorsque le seuil critique est dépassé. Ces mutations dynamiques sont à l'origine d'une vingtaine à plusieurs dizaines de maladies bien caractérisées qui diffèrent par la séquence répétée et sa localisation génique.\", \"Les variations de structure à grande échelle modifient la localisation ou le nombre de copies de larges segments génomiques et sont fréquentes entre génomes individuels : des études comparatives ont mis en évidence plusieurs milliers d’événements de variation structurale entre deux génomes, incluant des grandes délétions, des CNV, des insertions d'éléments mobiles et des inversions. Ces remaniements affectent un grand nombre de bases et représentent la principale source de variabilité en termes de masse de séquence impliquée.\", \"Enfin, d'autres mécanismes (conversion génique entre séquences très homologues, empreinte parentale par méthylation différentielle, etc.) peuvent influencer l'expression et la pathogénicité d'une variation. Les conséquences fonctionnelles des altérations sont classiquement décrites comme perte de fonction, gain de fonction ou effet dominant négatif, et leur interprétation nécessite une évaluation contextuelle fondée sur la biologie moléculaire et les données cliniques.\"], subsections=[]), ContentSection(id='SEC_6', title='La variabilité du génome humain', content=[\"Le génome humain présente une grande diversité qui résulte de multiples sources de variation : substitutions ponctuelles, indels, variations structurales, expansions répétées et insertions d'éléments mobiles. Certaines variations sont rares et potentiellement délétères, d'autres fréquemment retrouvées dans des populations en raison d'effets fondateurs ou de mécanismes récurrents.\", \"Des inventaires de variations cumulées à l'échelle mondiale répertorient à présent des centaines de millions voire plus d'un milliard de variations individuelles et plusieurs millions de variations structurales ; ces catalogues publics illustrent l'étendue de la variabilité observée et constituent un référentiel essentiel pour l'interprétation clinique et l'étude de la population.\"], subsections=[]), ContentSection(id='SEC_7', title='Evolution des génomes: notions essentielles, mécanismes', content=[\"L'évolution des génomes s'inscrit dans les notions fondamentales d'évolution, de temps, d'adaptation et de sélection : les génomes se modifient au fil des générations par l'ajout, la perte et le remaniement de matériel génétique, et ces modifications peuvent conférer des avantages sélectifs ou neutralité, conduisant à l'installation de traits héritables ou à la divergence d'espèces.\", \"Les mécanismes moléculaires responsables de ces changements sont variés : substitutions ponctuelles et petites indels modifient localement les séquences, tandis que les remaniements structuraux (du simple déplacement d'un élément mobile à des délétions/duplications massives) réorganisent l'architecture du génome et créent des opportunités pour l'innovation fonctionnelle.\", \"La duplication d'exons et le brassage d'exons (« exon shuffling ») sont des processus qui génèrent de nouveaux domaines protéiques et modulent la modularité des protéines ; ces événements résultent souvent de recombinaisons non alléliques, d'activités de rétrotransposons ou d'erreurs de réparation des cassures double brin. La duplication de gènes, qu'elle soit partielle ou complète, permet ensuite la néofonctionnalisation ou la sous-division des fonctions (subfunctionalisation) entre copies.\", \"À une échelle plus large, des duplications complètes du génome (polyploïdisation) ont été documentées au cours de l'histoire évolutive de certaines lignées et peuvent provoquer des sauts de complexité adaptative en fournissant des copies supplémentaires de gènes susceptibles d'évoluer librement. Au total, ces mécanismes combinés expliquent la dynamique des génomes et l'émergence de nouvelles fonctions au fil du temps.\"], subsections=[])], slides=None, mapping=None), total_slides=110)"
            ]
          },
          "execution_count": 7,
          "metadata": {},
          "output_type": "execute_result"
        }
      ],
      "source": [
        "from src.course import Course\n",
        "\n",
        "course = Course.load_from_json(\n",
        "file_path)\n",
        "course"
      ]
    },
    {
      "cell_type": "code",
      "execution_count": 10,
      "metadata": {},
      "outputs": [],
      "source": [
        "course.subject = \"UE-2\"\n",
        "course.chapter = \"7.1\""
      ]
    },
    {
      "cell_type": "code",
      "execution_count": 11,
      "metadata": {},
      "outputs": [
        {
          "name": "stdout",
          "output_type": "stream",
          "text": [
            "Course: Architecture du génome humain\n",
            "Level: L1\n",
            "Block: SANTE\n",
            "Semester: S1\n",
            "Subject: UE-2\n",
            "Chapter: 7.1\n",
            "\n",
            "\n",
            "Course Outline:\n",
            "==================================================\n",
            "Introduction\n",
            "  Notions fondamentales\n",
            "Le génome humain\n",
            "  Projet de séquençage\n",
            "  Architecture globale\n",
            "    Génome mitochondrial\n",
            "    Génome nucléaire\n",
            "Description des principaux éléments constituants\n",
            "  Gènes (codants et non-codants), pseudogènes et éléments répétés\n",
            "Comparaison aux autres génomes\n",
            "Les types de variations du génome humain et leurs conséquences\n",
            "La variabilité du génome humain\n",
            "Evolution des génomes: notions essentielles, mécanismes\n"
          ]
        }
      ],
      "source": [
        "print(course.print_outline())"
      ]
    },
    {
      "cell_type": "code",
      "execution_count": 7,
      "metadata": {},
      "outputs": [
        {
          "name": "stdout",
          "output_type": "stream",
          "text": [
            "💾 Course saved to: volume/artifacts/json/architecture_du_génome_humain_20250818_114200.json\n"
          ]
        },
        {
          "data": {
            "text/plain": [
              "'volume/artifacts/json/architecture_du_génome_humain_20250818_114200.json'"
            ]
          },
          "execution_count": 7,
          "metadata": {},
          "output_type": "execute_result"
        }
      ],
      "source": [
        "course.save_to_json(output_path=\"volume/artifacts/json\")"
      ]
    },
    {
      "cell_type": "code",
      "execution_count": 12,
      "metadata": {},
      "outputs": [
        {
          "name": "stdout",
          "output_type": "stream",
          "text": [
            "📄 Course exported to DOCX: volume/artifacts/docx/architecture_du_génome_humain.docx\n"
          ]
        },
        {
          "data": {
            "text/plain": [
              "'volume/artifacts/docx/architecture_du_génome_humain.docx'"
            ]
          },
          "execution_count": 12,
          "metadata": {},
          "output_type": "execute_result"
        }
      ],
      "source": [
        "atifacts_path = \"volume/artifacts/docx\"\n",
        "template_path = \"volume/templates/fs_template.docx\"\n",
        "course.to_docx(output_path=atifacts_path, template_path=template_path)"
      ]
    },
    {
      "cell_type": "markdown",
      "metadata": {},
      "source": [
        "## Step 1: Data Extraction - Slides\n",
        "\n",
        "Extract slides from PDF using the exact logic from poc.ipynb\n"
      ]
    },
    {
      "cell_type": "code",
      "execution_count": null,
      "metadata": {},
      "outputs": [],
      "source": [
        "# Method 2: Direct method call\n",
        "metadata = CourseMetadata(\n",
        "    name=\"Architecture du génome humain\",\n",
        "    course_title=\"Architecture du génome humain\",\n",
        "    level=\"L1\",\n",
        "    block=\"SANTE\",\n",
        "    semester=\"S1\",\n",
        "    subject=\"UE-1 Constitution et transformation de la matière\"\n",
        ")\n",
        "\n",
        "course = pipeline.process_course_no_plan(\n",
        "    slides=slides,  # Your slides list\n",
        "    metadata=metadata,\n",
        "    save_json=True,\n",
        "    save_docx=True,\n",
        "    test_mode=True,  # Process only first 10 slides\n",
        "    output_path=\"\"\n",
        ")\n",
        "\n",
        "# Get processing statistics\n",
        "stats = pipeline.get_processing_statistics(course)\n",
        "print(f\"Processed {stats['total_sections']} sections from {stats['total_slides']} slides\")"
      ]
    }
  ],
  "metadata": {
    "kernelspec": {
      "display_name": ".venv",
      "language": "python",
      "name": "python3"
    },
    "language_info": {
      "codemirror_mode": {
        "name": "ipython",
        "version": 3
      },
      "file_extension": ".py",
      "mimetype": "text/x-python",
      "name": "python",
      "nbconvert_exporter": "python",
      "pygments_lexer": "ipython3",
      "version": "3.11.13"
    }
  },
  "nbformat": 4,
  "nbformat_minor": 2
}
