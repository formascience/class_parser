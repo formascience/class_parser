{
  "cells": [
    {
      "cell_type": "markdown",
      "metadata": {},
      "source": [
        "# Class Parser Workflow Test\n",
        "\n",
        "This notebook reproduces the workflow from poc.ipynb step by step using the new src/ structure.\n",
        "Test each component individually and then run the complete pipeline.\n",
        "\n",
        "## Workflow Overview\n",
        "1. **Data Extraction** - Extract slides and plan from PDF (deterministic)\n",
        "2. **Branch A** - With plan: outline_two_pass → mapping_two_pass → enrich → writer\n",
        "3. **Branch B** - No plan: outline_one_shot → enrich → writer\n",
        "4. **Export** - Generate DOCX document\n"
      ]
    },
    {
      "cell_type": "code",
      "execution_count": 1,
      "metadata": {},
      "outputs": [
        {
          "data": {
            "text/plain": [
              "True"
            ]
          },
          "execution_count": 1,
          "metadata": {},
          "output_type": "execute_result"
        }
      ],
      "source": [
        "from dotenv import load_dotenv\n",
        "\n",
        "load_dotenv()"
      ]
    },
    {
      "cell_type": "code",
      "execution_count": 2,
      "metadata": {},
      "outputs": [
        {
          "name": "stdout",
          "output_type": "stream",
          "text": [
            "🔁 Imports refreshed\n"
          ]
        }
      ],
      "source": [
        "# Dev hot-reload setup (no kernel restart needed)\n",
        "%load_ext autoreload\n",
        "%autoreload 2\n",
        "\n",
        "import sys, importlib\n",
        "from pathlib import Path\n",
        "# Ensure project root is on sys.path\n",
        "sys.path.insert(0, str(Path('.').resolve()))\n",
        "\n",
        "import src\n",
        "import src.models as models\n",
        "import src.llm as llm\n",
        "import src.data_extraction as data_extraction\n",
        "import src.course as course_mod\n",
        "import src.pipeline as pipeline_mod\n",
        "\n",
        "\n",
        "def refresh_imports():\n",
        "    \"\"\"Reload modules and rebind notebook aliases.\"\"\"\n",
        "    importlib.reload(src)\n",
        "    importlib.reload(models)\n",
        "    importlib.reload(llm)\n",
        "    importlib.reload(data_extraction)\n",
        "    importlib.reload(course_mod)\n",
        "    importlib.reload(pipeline_mod)\n",
        "    \n",
        "    globals().update({\n",
        "        # Models\n",
        "        \"Content\": models.Content,\n",
        "        \"ContentSection\": models.ContentSection,\n",
        "        \"MappingItem\": models.MappingItem,\n",
        "        \"SectionSlideMapping\": models.SectionSlideMapping,\n",
        "        \"Slides\": models.Slides,\n",
        "        \"OutlineAndMapping\": models.OutlineAndMapping,\n",
        "        \"CourseMetadata\": models.CourseMetadata,\n",
        "        # LLM\n",
        "        \"OutlineOneShot\": llm.OutlineOneShot,\n",
        "        \"OutlineTwoPass\": llm.OutlineTwoPass,\n",
        "        \"MappingTwoPass\": llm.MappingTwoPass,\n",
        "        \"Writer\": llm.Writer,\n",
        "        \"PromptManager\": llm.PromptManager,\n",
        "        # Deterministic extractors\n",
        "        \"SlidesExtractor\": data_extraction.SlidesExtractor,\n",
        "        \"PlanExtractor\": data_extraction.PlanExtractor,\n",
        "        # Orchestrators\n",
        "        \"Course\": course_mod.Course,\n",
        "        \"CoursePipeline\": pipeline_mod.CoursePipeline,\n",
        "    })\n",
        "    print(\"🔁 Imports refreshed\")\n",
        "\n",
        "# Initial bind\n",
        "refresh_imports()\n"
      ]
    },
    {
      "cell_type": "markdown",
      "metadata": {},
      "source": [
        "## Step 1: Data Extraction - Slides\n",
        "\n",
        "Extract slides from PDF using the exact logic from poc.ipynb\n"
      ]
    },
    {
      "cell_type": "code",
      "execution_count": 3,
      "metadata": {},
      "outputs": [
        {
          "name": "stdout",
          "output_type": "stream",
          "text": [
            "id 0 : cours_4_plan.pdf\n",
            "id 1 : .DS_Store\n",
            "id 2 : Ch6-Code génétique et traduction.pdf\n",
            "id 3 : cours_1.pdf\n",
            "id 4 : cours_4.pdf\n",
            "id 5 : Ch1-Sucres et Lipides.pdf\n",
            "id 6 : Ch3_Métabolisme des glucides.pdf\n",
            "id 7 : Ch2-Acides aminés et protéines.pdf\n",
            "id 8 : Ch7.1-Génome humain.pdf\n",
            "id 9 : Ch7.2-Techniques de biologie moléculaire.pdf\n",
            "id 10 : Ch4-Plan du polycopié.docx\n",
            "id 11 : Ch4-Structure, réplication et réparation de l_ADN.pdf\n",
            "id 12 : Ch5-Transcription, maturation et régulation.pdf\n"
          ]
        }
      ],
      "source": [
        "slides_path = \"/Users/youssefjanjar/Documents/formascience/class_parser/volume/slides/\"\n",
        "import os \n",
        "chapters = os.listdir(slides_path)\n",
        "for index, chapter in enumerate(chapters):\n",
        "    print(f\"id {index} : {chapter}\")"
      ]
    },
    {
      "cell_type": "code",
      "execution_count": 4,
      "metadata": {},
      "outputs": [
        {
          "name": "stderr",
          "output_type": "stream",
          "text": [
            "Cannot set gray non-stroke color because /'P40' is an invalid float value\n",
            "Cannot set gray non-stroke color because /'P46' is an invalid float value\n",
            "Cannot set gray non-stroke color because /'P52' is an invalid float value\n",
            "Cannot set gray non-stroke color because /'P58' is an invalid float value\n",
            "Cannot set gray non-stroke color because /'P64' is an invalid float value\n",
            "Cannot set gray non-stroke color because /'P70' is an invalid float value\n",
            "Cannot set gray non-stroke color because /'P76' is an invalid float value\n",
            "Cannot set gray non-stroke color because /'P82' is an invalid float value\n",
            "Cannot set gray non-stroke color because /'P93' is an invalid float value\n"
          ]
        },
        {
          "name": "stdout",
          "output_type": "stream",
          "text": [
            "🔍 Extracting slides from: /Users/youssefjanjar/Documents/formascience/class_parser/volume/slides/Ch3_Métabolisme des glucides.pdf\n"
          ]
        },
        {
          "name": "stderr",
          "output_type": "stream",
          "text": [
            "Cannot set gray non-stroke color because /'P172' is an invalid float value\n",
            "Cannot set gray non-stroke color because /'P178' is an invalid float value\n",
            "Cannot set gray non-stroke color because /'P184' is an invalid float value\n",
            "Cannot set gray non-stroke color because /'P192' is an invalid float value\n",
            "Cannot set gray non-stroke color because /'P198' is an invalid float value\n",
            "Cannot set gray non-stroke color because /'P204' is an invalid float value\n",
            "Cannot set gray non-stroke color because /'P212' is an invalid float value\n",
            "Cannot set gray non-stroke color because /'P218' is an invalid float value\n",
            "Cannot set gray non-stroke color because /'P224' is an invalid float value\n",
            "Cannot set gray non-stroke color because /'P232' is an invalid float value\n",
            "Cannot set gray non-stroke color because /'P238' is an invalid float value\n",
            "Cannot set gray non-stroke color because /'P244' is an invalid float value\n",
            "Cannot set gray non-stroke color because /'P250' is an invalid float value\n",
            "Cannot set gray non-stroke color because /'P258' is an invalid float value\n",
            "Cannot set gray non-stroke color because /'P264' is an invalid float value\n",
            "Cannot set gray non-stroke color because /'P270' is an invalid float value\n",
            "Cannot set gray non-stroke color because /'P276' is an invalid float value\n",
            "Cannot set gray non-stroke color because /'P282' is an invalid float value\n",
            "Cannot set gray non-stroke color because /'P288' is an invalid float value\n",
            "Cannot set gray non-stroke color because /'P294' is an invalid float value\n",
            "Cannot set gray non-stroke color because /'P300' is an invalid float value\n",
            "Cannot set gray non-stroke color because /'P306' is an invalid float value\n",
            "Cannot set gray non-stroke color because /'P312' is an invalid float value\n"
          ]
        },
        {
          "name": "stdout",
          "output_type": "stream",
          "text": [
            "✅ Extracted 71 slides\n",
            "\n",
            "📋 First 3 slides:\n",
            "\n",
            "--- Slide 1: SL_001 ---\n",
            "Title: L1SpS ANNÉE 2024-2025\n",
            "Content (first 200 chars): Moodle L1SpS UE2 Les molécules du vivant\n",
            "L1SpS ANNÉE 2024-2025\n",
            "UE2 santé : Les molécules du vivant\n",
            "Glucides-Lipides- Métabolisme énergétique\n",
            "Des modifications peuvent avoir été apportées suite à l’imp...\n",
            "==================================================\n",
            "\n",
            "--- Slide 2: SL_002 ---\n",
            "Title: BIOCHIMIE STRUCTURALE - LES LIPIDES\n",
            "Content (first 200 chars): BIOCHIMIE STRUCTURALE - LES GLUCIDES\n",
            "BIOCHIMIE STRUCTURALE - LES LIPIDES\n",
            "METABOLISME ENERGETIQUE GLUCIDIQUE\n",
            "2...\n",
            "==================================================\n",
            "\n",
            "--- Slide 3: SL_003 ---\n",
            "Title: METABOLISME ENERGETIQUE GLUCIDIQUE\n",
            "Content (first 200 chars): METABOLISME ENERGETIQUE GLUCIDIQUE\n",
            "I. Généralités\n",
            "II. Les réactions d’intérêt\n",
            "II.a. Les réactions d’oxydoréduction et leurs coenzymes\n",
            "II.b. Les coenzymes de transferts de groupes\n",
            "III. La digestion des...\n",
            "==================================================\n"
          ]
        }
      ],
      "source": [
        "# Test slides extraction\n",
        "pdf_path = slides_path+chapters[6]\n",
        "\n",
        "# Initialize extractor\n",
        "slides_extractor = SlidesExtractor(\n",
        "    min_avg_len=10,\n",
        "    max_lines=20,\n",
        "    merge_tol=2.0\n",
        ")\n",
        "\n",
        "print(f\"🔍 Extracting slides from: {pdf_path}\")\n",
        "\n",
        "try:\n",
        "    # Extract slides as Slides objects\n",
        "    slides = slides_extractor.extract_slides(pdf_path)\n",
        "    print(f\"✅ Extracted {len(slides)} slides\")\n",
        "    \n",
        "    # Display first few slides\n",
        "    print(\"\\n📋 First 3 slides:\")\n",
        "    for i, slide in enumerate(slides[:3]):\n",
        "        print(f\"\\n--- Slide {i+1}: {slide.id} ---\")\n",
        "        print(f\"Title: {slide.title}\")\n",
        "        print(f\"Content (first 200 chars): {slide.content[:200]}...\")\n",
        "        print(\"=\" * 50)\n",
        "        \n",
        "except FileNotFoundError:\n",
        "    print(f\"❌ PDF file not found: {pdf_path}\")\n",
        "    print(\"Please ensure the PDF file exists in ./volume/slides/\")\n",
        "    slides = []  # Empty list for testing\n",
        "except Exception as e:\n",
        "    print(f\"❌ Error extracting slides: {e}\")\n",
        "    slides = []\n"
      ]
    },
    {
      "cell_type": "code",
      "execution_count": 5,
      "metadata": {},
      "outputs": [
        {
          "name": "stdout",
          "output_type": "stream",
          "text": [
            "📊 Slides JSON dump:\n",
            "Number of slides: 71\n",
            "JSON size: 40995 characters\n",
            "Estimated tokens (GPT-4 encoding): 14113\n",
            "\n",
            "📋 JSON content (first 1000 chars):\n",
            "[\n",
            "  {\n",
            "    \"id\": \"SL_001\",\n",
            "    \"title\": \"L1SpS ANNÉE 2024-2025\",\n",
            "    \"content\": \"Moodle L1SpS UE2 Les molécules du vivant\\nL1SpS ANNÉE 2024-2025\\nUE2 santé : Les molécules du vivant\\nGlucides-Lipides- Métabolisme énergétique\\nDes modifications peuvent avoir été apportées suite à l’impression du\\npolycopié\\nCes modifications sont indiquées par un M dans le support sur moodle)\\nDr Eléonore Réal\\nU1112 – Centre de Recherche en Biomédecine de Strasbourg\\neleonore.real@unistra.fr\"\n",
            "  },\n",
            "  {\n",
            "    \"id\": \"SL_002\",\n",
            "    \"title\": \"BIOCHIMIE STRUCTURALE - LES LIPIDES\",\n",
            "    \"content\": \"BIOCHIMIE STRUCTURALE - LES GLUCIDES\\nBIOCHIMIE STRUCTURALE - LES LIPIDES\\nMETABOLISME ENERGETIQUE GLUCIDIQUE\\n2\"\n",
            "  },\n",
            "  {\n",
            "    \"id\": \"SL_003\",\n",
            "    \"title\": \"METABOLISME ENERGETIQUE GLUCIDIQUE\",\n",
            "    \"content\": \"METABOLISME ENERGETIQUE GLUCIDIQUE\\nI. Généralités\\nII. Les réactions d’intérêt\\nII.a. Les réactions d’oxydoréduction et leurs coenzymes\\nII.b. Les coenzymes de transferts de groupes\\nIII. La digestion des glucide...\n"
          ]
        }
      ],
      "source": [
        "import json\n",
        "import tiktoken\n",
        "\n",
        "# Dump slides to JSON\n",
        "slides_json = json.dumps([slide.model_dump() for slide in slides], ensure_ascii=False, indent=2)\n",
        "\n",
        "# Calculate tokens using GPT-4 encoding (tiktoken doesn't have GPT-5 yet, using GPT-4 as closest)\n",
        "encoding = tiktoken.encoding_for_model(\"gpt-4\")\n",
        "token_count = len(encoding.encode(slides_json))\n",
        "\n",
        "print(f\"📊 Slides JSON dump:\")\n",
        "print(f\"Number of slides: {len(slides)}\")\n",
        "print(f\"JSON size: {len(slides_json)} characters\")\n",
        "print(f\"Estimated tokens (GPT-4 encoding): {token_count}\")\n",
        "\n",
        "# Display the JSON (truncated for readability)\n",
        "print(f\"\\n📋 JSON content (first 1000 chars):\")\n",
        "print(slides_json[:1000] + \"...\" if len(slides_json) > 1000 else slides_json)"
      ]
    },
    {
      "cell_type": "code",
      "execution_count": 6,
      "metadata": {},
      "outputs": [],
      "source": [
        "course_metadata = CourseMetadata(\n",
        "    name=\"Transcription, maturation et régulation de l'ADN\",\n",
        "    course_title=\"Transcription, maturation et régulation de l'ADN\",\n",
        "    level=\"L1\", \n",
        "    block=\"SANTE\",\n",
        "    semester=\"S1\",\n",
        "    subject=\"UE2 - Les molécules du vivant\",\n",
        "    chapter=\"5\",\n",
        ")"
      ]
    },
    {
      "cell_type": "markdown",
      "metadata": {},
      "source": [
        "# Single shot:  Extract the plan for this class "
      ]
    },
    {
      "cell_type": "code",
      "execution_count": 8,
      "metadata": {},
      "outputs": [
        {
          "name": "stderr",
          "output_type": "stream",
          "text": [
            "INFO:src.llm.outline_one_shot:Initializing OutlineOneShot with model: gpt-5-mini\n",
            "INFO:src.llm.outline_one_shot:API key is valid\n"
          ]
        },
        {
          "name": "stderr",
          "output_type": "stream",
          "text": [
            "INFO:httpx:HTTP Request: POST https://api.openai.com/v1/responses \"HTTP/1.1 200 OK\"\n"
          ]
        },
        {
          "name": "stdout",
          "output_type": "stream",
          "text": [
            "Course Outline:\n",
            "==================================================\n",
            "Principes généraux du métabolisme glucidique\n",
            "Réactions d'oxydoréduction et coenzymes\n",
            "Coenzymes de transfert de groupements (CoA)\n",
            "Digestion et absorption intestinale des glucides\n",
            "Transport plasmatique et entrée cellulaire des oses (GLUT)\n",
            "ATP et aperçu de la glycolyse\n",
            "Glycolyse (voies, réactions et bilans)\n",
            "  Phase préparatoire (hexoses → fructose-1,6-biphosphate)\n",
            "  Phase de clivage et phase des trioses\n",
            "  Utilisation d'autres oses dans la glycolyse\n",
            "Régulation de la glycolyse et hormones métaboliques\n",
            "  Raisons et niveaux de régulation\n",
            "  Hormones régulatrices (insuline, glucagon) et transporteurs\n",
            "  Mécanismes allostériques et effet produit\n",
            "Destins du pyruvate (anaérobie vs aérobies)\n",
            "Cycle de Krebs (réactions, bilan et intégration métabolique)\n",
            "  Réactions du cycle (1 à 4)\n",
            "  Réactions du cycle (5 à 8) et bilan\n",
            "  Régulation et rôle central du cycle (carrefour métabolique)\n",
            "Chaîne respiratoire mitochondriale et phosphorylation oxydative\n"
          ]
        }
      ],
      "source": [
        "import logging\n",
        "logging.basicConfig(level=logging.INFO)\n",
        "\n",
        "outline_one_shot = OutlineOneShot()\n",
        "\n",
        "outline = outline_one_shot.build_outline_and_mapping(slides, course_metadata, reasoning_effort=\"low\", text_verbosity=\"low\")\n",
        "\n",
        "print(outline.print_outline())"
      ]
    },
    {
      "cell_type": "code",
      "execution_count": 9,
      "metadata": {},
      "outputs": [
        {
          "name": "stdout",
          "output_type": "stream",
          "text": [
            "Section-to-Slides Mapping:\n",
            "============================================================\n",
            "\n",
            "[Root] SEC_1\n",
            "Title: Principes généraux du métabolisme glucidique\n",
            "Slides: 3 slide(s)\n",
            "Slide IDs: SL_004, SL_005, SL_021\n",
            "\n",
            "[Root] SEC_2\n",
            "Title: Réactions d'oxydoréduction et coenzymes\n",
            "Slides: 8 slide(s)\n",
            "Slide IDs: SL_007, SL_008, SL_009, SL_010, SL_011, SL_012, SL_013, SL_016\n",
            "\n",
            "[Root] SEC_3\n",
            "Title: Coenzymes de transfert de groupements (CoA)\n",
            "Slides: 2 slide(s)\n",
            "Slide IDs: SL_018, SL_019\n",
            "\n",
            "[Root] SEC_4\n",
            "Title: Digestion et absorption intestinale des glucides\n",
            "Slides: 2 slide(s)\n",
            "Slide IDs: SL_025, SL_029\n",
            "\n",
            "[Root] SEC_5\n",
            "Title: Transport plasmatique et entrée cellulaire des oses (GLUT)\n",
            "Slides: 2 slide(s)\n",
            "Slide IDs: SL_032, SL_065\n",
            "\n",
            "[Root] SEC_6\n",
            "Title: ATP et aperçu de la glycolyse\n",
            "Slides: 2 slide(s)\n",
            "Slide IDs: SL_037, SL_039\n",
            "\n",
            "[Root] SEC_7\n",
            "Title: Glycolyse (voies, réactions et bilans)\n",
            "Slides: 0 slide(s)\n",
            "Slide IDs: [No slides assigned]\n",
            "\n",
            "  [Level 1] SEC_7.1\n",
            "  Title: Phase préparatoire (hexoses → fructose-1,6-biphosphate)\n",
            "  Slides: 4 slide(s)\n",
            "  Slide IDs: SL_040, SL_041, SL_042, SL_043\n",
            "\n",
            "  [Level 1] SEC_7.2\n",
            "  Title: Phase de clivage et phase des trioses\n",
            "  Slides: 5 slide(s)\n",
            "  Slide IDs: SL_045, SL_046, SL_049, SL_051, SL_053\n",
            "\n",
            "  [Level 1] SEC_7.3\n",
            "  Title: Utilisation d'autres oses dans la glycolyse\n",
            "  Slides: 1 slide(s)\n",
            "  Slide IDs: SL_056\n",
            "\n",
            "[Root] SEC_8\n",
            "Title: Régulation de la glycolyse et hormones métaboliques\n",
            "Slides: 0 slide(s)\n",
            "Slide IDs: [No slides assigned]\n",
            "\n",
            "  [Level 1] SEC_8.1\n",
            "  Title: Raisons et niveaux de régulation\n",
            "  Slides: 5 slide(s)\n",
            "  Slide IDs: SL_058, SL_059, SL_062, SL_064, SL_066\n",
            "\n",
            "  [Level 1] SEC_8.2\n",
            "  Title: Hormones régulatrices (insuline, glucagon) et transporteurs\n",
            "  Slides: 4 slide(s)\n",
            "  Slide IDs: SL_060, SL_061, SL_063, SL_070\n",
            "\n",
            "  [Level 1] SEC_8.3\n",
            "  Title: Mécanismes allostériques et effet produit\n",
            "  Slides: 3 slide(s)\n",
            "  Slide IDs: SL_067, SL_069, SL_068\n",
            "\n",
            "[Root] SEC_9\n",
            "Title: Destins du pyruvate (anaérobie vs aérobies)\n",
            "Slides: 2 slide(s)\n",
            "Slide IDs: SL_074, SL_078\n",
            "\n",
            "[Root] SEC_10\n",
            "Title: Cycle de Krebs (réactions, bilan et intégration métabolique)\n",
            "Slides: 0 slide(s)\n",
            "Slide IDs: [No slides assigned]\n",
            "\n",
            "  [Level 1] SEC_10.1\n",
            "  Title: Réactions du cycle (1 à 4)\n",
            "  Slides: 4 slide(s)\n",
            "  Slide IDs: SL_084, SL_085, SL_086, SL_087\n",
            "\n",
            "  [Level 1] SEC_10.2\n",
            "  Title: Réactions du cycle (5 à 8) et bilan\n",
            "  Slides: 7 slide(s)\n",
            "  Slide IDs: SL_089, SL_090, SL_091, SL_092, SL_093, SL_094, SL_096\n",
            "\n",
            "  [Level 1] SEC_10.3\n",
            "  Title: Régulation et rôle central du cycle (carrefour métabolique)\n",
            "  Slides: 4 slide(s)\n",
            "  Slide IDs: SL_098, SL_101, SL_102, SL_103\n",
            "\n",
            "[Root] SEC_11\n",
            "Title: Chaîne respiratoire mitochondriale et phosphorylation oxydative\n",
            "Slides: 6 slide(s)\n",
            "Slide IDs: SL_106, SL_108, SL_109, SL_110, SL_112, SL_113\n"
          ]
        }
      ],
      "source": [
        "print(outline.visualize_mapping())"
      ]
    },
    {
      "cell_type": "markdown",
      "metadata": {},
      "source": [
        "# Single shot: Writing content from mapping and the outline"
      ]
    },
    {
      "cell_type": "code",
      "execution_count": 10,
      "metadata": {},
      "outputs": [
        {
          "name": "stderr",
          "output_type": "stream",
          "text": [
            "INFO:httpx:HTTP Request: POST https://api.openai.com/v1/responses \"HTTP/1.1 200 OK\"\n"
          ]
        },
        {
          "data": {
            "text/plain": [
              "src.models.Content"
            ]
          },
          "execution_count": 10,
          "metadata": {},
          "output_type": "execute_result"
        }
      ],
      "source": [
        "outline_with_slides = outline.enrich_with_slides(slides=slides)\n",
        "writer = Writer()\n",
        "\n",
        "course = writer.write_course(enriched_content=outline_with_slides)\n",
        "\n",
        "type(course)"
      ]
    },
    {
      "cell_type": "markdown",
      "metadata": {},
      "source": [
        "# Store a course as a artifact that I can load again into Course"
      ]
    },
    {
      "cell_type": "code",
      "execution_count": 11,
      "metadata": {},
      "outputs": [
        {
          "name": "stdout",
          "output_type": "stream",
          "text": [
            "Course Content:\n",
            "============================================================\n",
            "\n",
            "[Root] ID: SEC_1\n",
            "Title: Principes généraux du métabolisme glucidique\n",
            "Content:\n",
            "  [1] Le métabolisme regroupe l’ensemble des réactions chimiques de synthèse et\n",
            "      de dégradation nécessaires au fonctionnement de l’organisme. Ces\n",
            "      réactions, intracellulaires ou extracellulaires (ex. digestion), sont\n",
            "      catalysées par des enzymes.\n",
            "  [2] • Composé de deux ensembles complémentaires : catabolisme (dégradation) et\n",
            "      anabolisme (biosynthèse)\n",
            "  [3] • Les réactions peuvent avoir lieu à l'intérieur ou à l'extérieur des\n",
            "      cellules\n",
            "  [4] • Catalysées par des enzymes, souvent avec des cofacteurs/coenzymes\n",
            "  [5] • Le catabolisme libère de l'énergie ou fournit de petites molécules pour\n",
            "      la cellule\n",
            "  [6] Ce cours se concentre sur le catabolisme des glucides alimentaires et les\n",
            "      voies impliquées dans leur transformation et leur utilisation énergétique.\n",
            "  [7] • Digestion : transformation des glucides alimentaires en oses absorbables\n",
            "  [8] • Absorption intestinale et transport plasmatique des oses\n",
            "  [9] • Entrée cellulaire des oses dans les tissus\n",
            "  [10] • Oxydation des oses pour fournir des coenzymes réduits (glycolyse et\n",
            "      cycle de Krebs)\n",
            "  [11] • Oxydation des coenzymes réduits par la chaîne respiratoire\n",
            "      mitochondriale pour produire de l'ATP\n",
            "  [12] Le glucose est le substrat universel; il circule librement dans le sang\n",
            "      (glycémie ≈ 1 g/L) et se stocke sous forme de glycogène.\n",
            "  [13] • Transport sanguin : glucose libre (glycémie)\n",
            "  [14] • Stockage : glycogène\n",
            "  [15] • Apports alimentaires : monosaccharides, disaccharides (saccharose,\n",
            "      lactose), polysaccharides (amidon)\n",
            "  [16] • Autres oses : fructose et galactose; autres substrats énergétiques :\n",
            "      lipides et protéines\n",
            "\n",
            "[Root] ID: SEC_2\n",
            "Title: Réactions d'oxydoréduction et coenzymes\n",
            "Content:\n",
            "  [1] Les réactions d'oxydo‑réduction impliquent des transferts d'électrons :\n",
            "      oxydation = perte d'électrons, réduction = gain d'électrons.\n",
            "  [2] • Transfert d'électrons libres (ex. Fe2+ → Fe3+ + e‑)\n",
            "  [3] • Transfert d'atomes d'hydrogène (AH2 → A + 2H+ + 2e‑)\n",
            "  [4] • Transfert d'hydrure (NAD+ + H:- → NADH + H+ ; transfert de 2 électrons)\n",
            "  [5] • Transfert impliquant l'oxygène (ex. réduction de O2 en H2O)\n",
            "  [6] Les enzymes oxydoréductases requièrent souvent des coenzymes ou cofacteurs\n",
            "      non protéiques pour transférer des électrons ou des groupements.\n",
            "  [7] • Co‑substrats : faiblement liés, quittent l'enzyme une fois modifiés (ex.\n",
            "      NAD+/NADH)\n",
            "  [8] • Groupements prosthétiques : fortement liés à l'enzyme, restent attachés\n",
            "      (ex. FAD, centres Fe‑S)\n",
            "  [9] • De nombreux coenzymes sont des dérivés de vitamines (niacine,\n",
            "      riboflavine, etc.)\n",
            "  [10] Les coenzymes transfèrent les électrons sous différentes formes selon leur\n",
            "      nature et leurs rôles enzymatiques.\n",
            "  [11] • Ions hydrure : NAD+/NADH (transfert de 2 électrons)\n",
            "  [12] • Hydrogènes/quinones : FAD/FADH2, FMN (transfert de 1 ou 2 électrons avec\n",
            "      protons)\n",
            "  [13] • Électrons simples et oxygène : hèmes, centres Fe‑S\n",
            "  [14] • Les déshydrogénases sont des oxydoréductases clés qui utilisent NAD+/FAD\n",
            "      comme accepteurs\n",
            "\n",
            "[Root] ID: SEC_3\n",
            "Title: Coenzymes de transfert de groupements (CoA)\n",
            "Content:\n",
            "  [1] Le coenzyme A (CoA), dérivé de l'acide pantothénique (vitamine B5), est le\n",
            "      cosubstrat principal des transferts d'acyles.\n",
            "  [2] • CoASH : forme thiol réactive qui se lie aux groupements acyles\n",
            "  [3] • Formation d'acyl‑CoA crée une liaison thioester riche en énergie\n",
            "  [4] • Acétyl‑CoA (R = CH3) est un acyl‑CoA central dans le métabolisme\n",
            "      énergétique et biosynthétique\n",
            "  [5] La formation d'acyl‑CoA rend les acides carboxyliques plus réactifs et\n",
            "      permet leur utilisation dans le cycle de Krebs ou pour la synthèse des\n",
            "      lipides.\n",
            "\n",
            "[Root] ID: SEC_4\n",
            "Title: Digestion et absorption intestinale des glucides\n",
            "Content:\n",
            "  [1] Les glucides sont très polaires et nécessitent des transporteurs pour\n",
            "      traverser la bicouche lipidique des entérocytes.\n",
            "  [2] • Glucose et galactose : entrée par transport actif au pôle apical\n",
            "  [3] • Fructose : entrée par transport facilité (diffusion facilitée) au pôle\n",
            "      apical\n",
            "  [4] Après absorption, les oses sortent de l'entérocyte au pôle basal via un\n",
            "      transport facilité pour rejoindre la circulation.\n",
            "  [5] • Sortie principalement via GLUT2 exprimé à la membrane basale\n",
            "  [6] • Transport facilité suit le gradient de concentration (du cytoplasme vers\n",
            "      le sang)\n",
            "  [7] • Les oses absorbés rejoignent la veine porte vers le foie\n",
            "\n",
            "[Root] ID: SEC_5\n",
            "Title: Transport plasmatique et entrée cellulaire des oses (GLUT)\n",
            "Content:\n",
            "  [1] Les transporteurs de la famille GLUT permettent l'entrée des oses dans les\n",
            "      tissus selon leur affinité et leur régulation.\n",
            "  [2] • GLUT1 : exprimé dans les globules rouges, assure un apport constant aux\n",
            "      cellules glucodépendantes\n",
            "  [3] • GLUT2 : exprimé par le foie et le pancréas, faible affinité — capte le\n",
            "      glucose quand la glycémie est élevée\n",
            "  [4] • GLUT3 : exprimé dans le cerveau et les neurones, forte affinité —\n",
            "      apporte du glucose même à faible glycémie\n",
            "  [5] • GLUT4 : exprimé par le muscle squelettique et les adipocytes,\n",
            "      insulino‑sensible\n",
            "  [6] L'entrée tissulaire du glucose est régulée par l'insuline, notamment via\n",
            "      la translocation de GLUT4 vers la membrane après un repas, favorisant le\n",
            "      stockage (glycogène, TAG).\n",
            "\n",
            "[Root] ID: SEC_6\n",
            "Title: ATP et aperçu de la glycolyse\n",
            "Content:\n",
            "  [1] L'ATP (adénosine triphosphate) est la monnaie énergétique de la cellule ;\n",
            "      la rupture des liaisons phosphate libère l'énergie utilisée par de\n",
            "      nombreuses réactions.\n",
            "  [2] • Composé d'adénine, ribose et trois groupes phosphate\n",
            "  [3] • Formes associées : ADP et AMP (états énergétiques déphosphorylés)\n",
            "  [4] La glycolyse est la voie cytosolique de dégradation du glucose,\n",
            "      indépendante de l'oxygène, organisée en phases d'investissement et de\n",
            "      récupération d'énergie.\n",
            "  [5] • Phase des hexoses phosphates : consommation d'ATP (préparatoire)\n",
            "  [6] • Phase de clivage : division en deux trioses phosphates\n",
            "  [7] • Phase des trioses phosphates : récupération d'énergie (ATP, NADH) et\n",
            "      formation du pyruvate\n",
            "\n",
            "[Root] ID: SEC_7\n",
            "Title: Glycolyse (voies, réactions et bilans)\n",
            "Content:\n",
            "  [1] La glycolyse (voie d'Embden‑Meyerhof‑Parnas) transforme le glucose en\n",
            "      pyruvate par une suite de réactions enzymatiques aboutissant à la\n",
            "      production d'ATP et de NADH.\n",
            "  [2] • Phases : préparation (investissement d'ATP), clivage en trioses,\n",
            "      récupération d'énergie\n",
            "  [3] • Bilan net par glucose : 2 ATP (net) + 2 NADH + 2 pyruvates\n",
            "\n",
            "  [Level 1] ID: SEC_7.1\n",
            "  Title: Phase préparatoire (hexoses → fructose-1,6-biphosphate)\n",
            "  Content:\n",
            "    [1] Phase préparatoire : phosphorylation et isomérisations qui consomment de\n",
            "        l'ATP et piègent le glucose dans la cellule.\n",
            "    [2] • Réaction 1 : Hexokinase/Glucokinase — Glucose → Glucose‑6‑phosphate\n",
            "        (irréversible ; empêche la sortie du glucose)\n",
            "    [3] • Réaction 2 : Phosphoglucose isomérase — Glucose‑6‑P ⇄ Fructose‑6‑P\n",
            "        (réversible ; isomérisation aldose↔cétose)\n",
            "    [4] • Réaction 3 : Phosphofructokinase‑1 (PFK1) — Fructose‑6‑P →\n",
            "        Fructose‑1,6‑bisP (irréversible ; étape limitante, régulée par ATP/ADP\n",
            "        et hormones)\n",
            "\n",
            "  [Level 1] ID: SEC_7.2\n",
            "  Title: Phase de clivage et phase des trioses\n",
            "  Content:\n",
            "    [1] Le clivage du fructose‑1,6‑bisphosphate par l'aldolase génère deux\n",
            "        trioses phosphates ; le dihydroxyacétone phosphate est isomérisé en\n",
            "        glycéraldéhyde‑3‑phosphate (GAP).\n",
            "    [2] 1. Oxydation du GAP (glycéraldéhyde‑3‑P déshydrogénase) : GAP + Pi +\n",
            "        NAD+ → 1,3‑bisphosphoglycérate + NADH\n",
            "    [3] 2. Phosphorylation au niveau du substrat (phosphoglycérate kinase) :\n",
            "        transfert de phosphate → ATP\n",
            "    [4] 3. Réarrangements (phosphoglycérate mutase) : 3‑PG → 2‑PG\n",
            "    [5] 4. Déshydratation (énolase) : 2‑PG → phosphoénolpyruvate (PEP)\n",
            "    [6] 5. Conversion finale (pyruvate kinase) : PEP → pyruvate + ATP\n",
            "    [7] Par glucose (2 trioses) la phase produit des NADH et de l'ATP ; bilan\n",
            "        net de la glycolyse : 2 ATP (net) et 2 NADH par molécule de glucose.\n",
            "\n",
            "  [Level 1] ID: SEC_7.3\n",
            "  Title: Utilisation d'autres oses dans la glycolyse\n",
            "  Content:\n",
            "    [1] D'autres oses alimentent la glycolyse via des voies tissulaires\n",
            "        spécifiques, entraînant des différences de vitesse et de régulation\n",
            "        selon le tissu.\n",
            "    [2] • Fructose dans le muscle : métabolisation lente et similaire au glucose\n",
            "        (régulation plus stricte)\n",
            "    [3] • Fructose dans le foie et l'intestin : métabolisation rapide et peu\n",
            "        régulée (énergie immédiate, non dépendante de l'insuline)\n",
            "\n",
            "[Root] ID: SEC_8\n",
            "Title: Régulation de la glycolyse et hormones métaboliques\n",
            "Content:\n",
            "  [1] La régulation de la glycolyse vise l'homéostasie glucidique et s'opère à\n",
            "      plusieurs niveaux : transport membranaire, modulation allostérique des\n",
            "      enzymes, effet produit et contrôle hormonal.\n",
            "  [2] • Niveaux de régulation : entrée cellulaire, effecteurs allostériques,\n",
            "      régulation par excès de produit, hormones (insuline/glucagon)\n",
            "\n",
            "  [Level 1] ID: SEC_8.1\n",
            "  Title: Raisons et niveaux de régulation\n",
            "  Content:\n",
            "    [1] Objectif principal : maintenir la glycémie à jeun entre 0,70 et 1,10 g/L\n",
            "        en adaptant les voies métaboliques selon l'état nutritionnel.\n",
            "    [2] • En cas d'hyperglycémie : favoriser la consommation du glucose\n",
            "        (glycolyse)\n",
            "    [3] • En cas d'hyperglycémie : favoriser le stockage (glycogénogenèse) et la\n",
            "        lipogenèse pour le stockage en TAG\n",
            "    [4] En cas d'hypoglycémie l'organisme mobilise des réserves et stimule la\n",
            "        production hépatique de glucose pour élever la glycémie.\n",
            "    [5] • En cas d'hypoglycémie : glycogénolyse (hydrolyse du glycogène)\n",
            "    [6] • En cas d'hypoglycémie : néoglucogenèse hépatique ; mobilisation des\n",
            "        lipides et protéines\n",
            "\n",
            "  [Level 1] ID: SEC_8.2\n",
            "  Title: Hormones régulatrices (insuline, glucagon) et transporteurs\n",
            "  Content:\n",
            "    [1] Les hormones centrales sont l'insuline (sécrétée par les cellules β,\n",
            "        signe de l'état nourri) et le glucagon (sécrété par les cellules α,\n",
            "        signe du jeûne).\n",
            "    [2] • Insuline (cellules β) : hypoglycémiante — favorise utilisation du\n",
            "        glucose et stockage (foie, muscle, adipocytes)\n",
            "    [3] • Glucagon (cellules α) : hyperglycémiante — stimule la synthèse\n",
            "        hépatique de glucose et la mobilisation des réserves\n",
            "    [4] Après un repas, l'insuline favorise la translocation de GLUT4 vers la\n",
            "        membrane des muscles et adipocytes, augmentant l'entrée du glucose pour\n",
            "        stockage.\n",
            "    [5] • Effet pratique : augmentation de l'entrée du glucose via GLUT4\n",
            "        (muscle, adipocytes) → stockage sous forme de glycogène et TAG\n",
            "\n",
            "  [Level 1] ID: SEC_8.3\n",
            "  Title: Mécanismes allostériques et effet produit\n",
            "  Content:\n",
            "    [1] La régulation allostérique module rapidement l'activité des enzymes clés\n",
            "        ; la PFK1 est l'exemple majeur d'une enzyme limitante allostériquement\n",
            "        régulée.\n",
            "    [2] • PFK1 : inhibition par ATP et citrate, activation par ADP/AMP (réponse\n",
            "        au statut énergétique)\n",
            "    [3] • Hexokinase : inhibition par son produit (G6P) — effet produit limitant\n",
            "        la voie\n",
            "    [4] Le principe d'effet produit signifie qu'une accumulation de produit\n",
            "        freine la réaction en décalant l'équilibre réactionnel.\n",
            "\n",
            "[Root] ID: SEC_9\n",
            "Title: Destins du pyruvate (anaérobie vs aérobies)\n",
            "Content:\n",
            "  [1] En absence d'oxygène, le pyruvate est réduit en lactate dans le cytoplasme\n",
            "      par la lactate déshydrogénase afin de régénérer le NAD+ nécessaire à la\n",
            "      glycolyse.\n",
            "  [2] • Pyruvate → lactate (LDH) ; oxydation du NADH → NAD+\n",
            "  [3] • Permet la poursuite de la glycolyse en conditions anaérobies\n",
            "  [4] • Importante dans le muscle en action et dans les érythrocytes (absence de\n",
            "      mitochondries)\n",
            "  [5] En présence d'oxygène, le pyruvate entre dans la mitochondrie et subit une\n",
            "      décarboxylation oxydative pour former de l'acétyl‑CoA qui alimente le\n",
            "      cycle de Krebs.\n",
            "  [6] • Entrée dans la matrice via une translocase (symport avec H+)\n",
            "  [7] • Décarboxylation oxydative (complexe pyruvate déshydrogénase) : pyruvate\n",
            "      → acétyl‑CoA + NADH + CO2\n",
            "\n",
            "[Root] ID: SEC_10\n",
            "Title: Cycle de Krebs (réactions, bilan et intégration métabolique)\n",
            "Content:\n",
            "  [1] Le cycle de Krebs (ou cycle des acides tricarboxyliques) est une série de\n",
            "      huit réactions mitochondriales aérobiques qui oxydent l'acétyl‑CoA et\n",
            "      fournissent des coenzymes réduits pour la chaîne respiratoire.\n",
            "  [2] • Localisation : matrice mitochondriale\n",
            "  [3] • Finalité : production de NADH, FADH2 et GTP ; trois étapes irréversibles\n",
            "\n",
            "  [Level 1] ID: SEC_10.1\n",
            "  Title: Réactions du cycle (1 à 4)\n",
            "  Content:\n",
            "    [1] Réactions 1 à 4 : condensation initiale et premières décarboxylations\n",
            "        oxydatives qui génèrent pouvoir réducteur et intermediates à haute\n",
            "        réactivité.\n",
            "    [2] • Réaction 1 (citrate synthase) : Acétyl‑CoA + oxaloacétate → citrate\n",
            "        (irréversible ; activée par ADP, inhibée par citrate/ATP)\n",
            "    [3] • Réaction 2 (aconitase) : citrate ⇄ cis‑aconitate ⇄ isocitrate\n",
            "        (isomérisation réversible)\n",
            "    [4] • Réaction 3 (isocitrate déshydrogénase) : isocitrate → α‑cétoglutarate\n",
            "        + CO2 + NADH (irréversible ; régulation par ATP/ADP et NADH)\n",
            "    [5] • Réaction 4 (α‑cétoglutarate déshydrogénase) : α‑cétoglutarate →\n",
            "        succinyl‑CoA + CO2 + NADH (irréversible ; mécanisme couplé à la\n",
            "        libération d'énergie)\n",
            "\n",
            "  [Level 1] ID: SEC_10.2\n",
            "  Title: Réactions du cycle (5 à 8) et bilan\n",
            "  Content:\n",
            "    [1] Réactions 5 à 8 : récupération d'énergie sous forme de GTP, FADH2 et\n",
            "        NADH et régénération de l'oxaloacétate.\n",
            "    [2] • Réaction 5 (succinyl‑CoA thiokinase) : succinyl‑CoA → succinate + GTP\n",
            "        (transfert d'énergie thioester → GTP)\n",
            "    [3] • Réaction 6 (succinate déshydrogénase) : succinate → fumarate + FADH2\n",
            "        (enzyme liée à la membrane interne ; FAD comme accepteur)\n",
            "    [4] • Réaction 7 (fumarase) : fumarate ⇄ L‑malate (hydration réversible)\n",
            "    [5] • Réaction 8 (malate déshydrogénase) : malate ⇄ oxaloacétate + NADH\n",
            "        (réversible ; régénération de l'oxaloacétate)\n",
            "    [6] Bilans énergétiques : la décarboxylation oxydative du pyruvate et le\n",
            "        cycle fournissent des NADH, FADH2 et GTP utilisables par la chaîne\n",
            "        respiratoire.\n",
            "    [7] • Par pyruvate (décarboxylation oxydative + cycle) → 3 CO2 + 4 NADH + 1\n",
            "        FADH2 + 1 GTP\n",
            "    [8] • Par glucose (2 pyruvates) → 6 CO2 + 10 NADH + 2 FADH2 + 2 ATP/GTP →\n",
            "        rendement théorique ≃ 38 ATP (≈36 selon les navettes)\n",
            "\n",
            "  [Level 1] ID: SEC_10.3\n",
            "  Title: Régulation et rôle central du cycle (carrefour métabolique)\n",
            "  Content:\n",
            "    [1] Le cycle de Krebs est un carrefour métabolique : lipides et protéines\n",
            "        alimentent le cycle et des intermédiaires en sortent pour des voies\n",
            "        biosynthétiques.\n",
            "    [2] • Entrées : pyruvate, acétyl‑CoA (oxydation des acides gras), autres\n",
            "        précurseurs d'intermédiaires\n",
            "    [3] • Sorties : intermédiaires utilisés pour la synthèse d'acides aminés,\n",
            "        nucléotides, etc.\n",
            "    [4] • Le fonctionnement dépend fortement de la disponibilité d'oxaloacétate,\n",
            "        d'acétyl‑CoA et de NAD+\n",
            "    [5] Des réactions anaplérotiques maintiennent les concentrations\n",
            "        d'intermédiaires ; exemple : la pyruvate carboxylase synthétise\n",
            "        l'oxaloacétate à partir du pyruvate.\n",
            "    [6] • Régénération de NAD+ via la chaîne respiratoire\n",
            "    [7] • Pyruvate carboxylase : pyruvate → oxaloacétate (anaplerotique, activée\n",
            "        par acétyl‑CoA)\n",
            "\n",
            "[Root] ID: SEC_11\n",
            "Title: Chaîne respiratoire mitochondriale et phosphorylation oxydative\n",
            "Content:\n",
            "  [1] La chaîne respiratoire mitochondriale est une succession d'oxydoréductions\n",
            "      couplées au pompage de protons et à la synthèse d'ATP par phosphorylation\n",
            "      oxydative.\n",
            "  [2] • Fonctions principales : réoxydation des coenzymes réduits (NADH, FADH2)\n",
            "      et synthèse d'ATP par l'ATP synthase\n",
            "  [3] Le passage des électrons alimente le pompage de protons à travers la\n",
            "      membrane interne ; le gradient de protons entraîne la formation d'ATP.\n",
            "  [4] • NADH (matrice) : translocation ≈ 10 protons → ≈ 3 ATP\n",
            "  [5] • FADH2 : translocation ≈ 6 protons → ≈ 2 ATP\n",
            "  [6] • ≈ 3 protons nécessaires pour synthétiser 1 ATP via l'ATP synthase\n",
            "  [7] Les NADH cytosoliques utilisent des navettes pour transférer leurs\n",
            "      équivalents réducteurs dans la mitochondrie, avec des rendements\n",
            "      différents selon la navette.\n",
            "  [8] • Navette malate‑aspartate (foie, cœur, rein, cerveau) : chaque NADH\n",
            "      cytosolique ≈ 3 ATP\n",
            "  [9] • Navette glycérol‑3‑phosphate (muscle) : chaque NADH cytosolique ≈ 2 ATP\n",
            "  [10] Bilan énergétique global : en conditions aérobies glycolyse +\n",
            "      décarboxylation pyruvate + cycle + chaîne respiratoire donnent un\n",
            "      rendement théorique d'environ 38 ATP par glucose, variable selon les\n",
            "      navettes ; en anaérobie la glycolyse seule fournit 2 ATP.\n",
            "  [11] • Aérobie (théorique) ≃ 38 ATP par glucose (≈36 selon navettes)\n",
            "  [12] • Anaérobie (fermentation lactique) : 2 ATP par glucose\n"
          ]
        }
      ],
      "source": [
        "print(course.print_content())"
      ]
    },
    {
      "cell_type": "code",
      "execution_count": 12,
      "metadata": {},
      "outputs": [
        {
          "name": "stdout",
          "output_type": "stream",
          "text": [
            "❌ Error creating course: 1 validation error for Course\n",
            "content\n",
            "  Input should be a valid dictionary or instance of Content [type=model_type, input_value=Content(sections=[Content...ides=None, mapping=None), input_type=Content]\n",
            "    For further information visit https://errors.pydantic.dev/2.11/v/model_type\n",
            "✅ Course created successfully (alternative method)!\n"
          ]
        }
      ],
      "source": [
        "try:\n",
        "    pilot_course = Course(\n",
        "        name=course_metadata.name or course_metadata.course_title,\n",
        "        course_title=course_metadata.course_title,\n",
        "        level=course_metadata.level,\n",
        "        block=course_metadata.block,\n",
        "        semester=course_metadata.semester,\n",
        "        subject=course_metadata.subject,\n",
        "        chapter=course_metadata.chapter,\n",
        "        content=course,  # Direct assignment should work\n",
        "    )\n",
        "    \n",
        "    print(\"✅ Course created successfully!\")\n",
        "    \n",
        "except Exception as e:\n",
        "    print(f\"❌ Error creating course: {e}\")\n",
        "    \n",
        "    # Alternative approach - create Course without content first, then assign\n",
        "    try:\n",
        "        pilot_course = Course(\n",
        "            name=course_metadata.name or course_metadata.course_title,\n",
        "            course_title=course_metadata.course_title,\n",
        "            level=course_metadata.level,\n",
        "            block=course_metadata.block,\n",
        "            semester=course_metadata.semester,\n",
        "            subject=course_metadata.subject,\n",
        "            chapter=course_metadata.chapter,\n",
        "            # content=None by default\n",
        "        )\n",
        "        \n",
        "        # Assign content directly after creation\n",
        "        pilot_course.content = course\n",
        "        \n",
        "        print(\"✅ Course created successfully (alternative method)!\")\n",
        "        \n",
        "    except Exception as e2:\n",
        "        print(f\"❌ Alternative method also failed: {e2}\")\n",
        "        \n",
        "        # Last resort - recreate Content from dict\n",
        "        try:\n",
        "            course_dict = course.model_dump()\n",
        "            fresh_content = Content.model_validate(course_dict)\n",
        "            \n",
        "            pilot_course = Course(\n",
        "                name=course_metadata.name or course_metadata.course_title,\n",
        "                course_title=course_metadata.course_title,\n",
        "                level=course_metadata.level,\n",
        "                block=course_metadata.block,\n",
        "                semester=course_metadata.semester,\n",
        "                subject=course_metadata.subject,\n",
        "                chapter=course_metadata.chapter,\n",
        "                content=fresh_content,\n",
        "            )\n",
        "            \n",
        "            print(\"✅ Course created successfully (fresh content method)!\")\n",
        "            \n",
        "        except Exception as e3:\n",
        "            print(f\"❌ All methods failed: {e3}\")"
      ]
    },
    {
      "cell_type": "code",
      "execution_count": 13,
      "metadata": {},
      "outputs": [
        {
          "name": "stdout",
          "output_type": "stream",
          "text": [
            "Course: Transcription, maturation et régulation de l'ADN\n",
            "Level: L1\n",
            "Block: SANTE\n",
            "Semester: S1\n",
            "Subject: UE2 - Les molécules du vivant\n",
            "Chapter: 5\n",
            "\n",
            "\n",
            "Course Outline:\n",
            "==================================================\n",
            "Principes généraux du métabolisme glucidique\n",
            "Réactions d'oxydoréduction et coenzymes\n",
            "Coenzymes de transfert de groupements (CoA)\n",
            "Digestion et absorption intestinale des glucides\n",
            "Transport plasmatique et entrée cellulaire des oses (GLUT)\n",
            "ATP et aperçu de la glycolyse\n",
            "Glycolyse (voies, réactions et bilans)\n",
            "  Phase préparatoire (hexoses → fructose-1,6-biphosphate)\n",
            "  Phase de clivage et phase des trioses\n",
            "  Utilisation d'autres oses dans la glycolyse\n",
            "Régulation de la glycolyse et hormones métaboliques\n",
            "  Raisons et niveaux de régulation\n",
            "  Hormones régulatrices (insuline, glucagon) et transporteurs\n",
            "  Mécanismes allostériques et effet produit\n",
            "Destins du pyruvate (anaérobie vs aérobies)\n",
            "Cycle de Krebs (réactions, bilan et intégration métabolique)\n",
            "  Réactions du cycle (1 à 4)\n",
            "  Réactions du cycle (5 à 8) et bilan\n",
            "  Régulation et rôle central du cycle (carrefour métabolique)\n",
            "Chaîne respiratoire mitochondriale et phosphorylation oxydative\n"
          ]
        }
      ],
      "source": [
        "print(pilot_course.print_outline())"
      ]
    },
    {
      "cell_type": "code",
      "execution_count": 15,
      "metadata": {},
      "outputs": [
        {
          "name": "stdout",
          "output_type": "stream",
          "text": [
            "💾 Course saved to: volume/artifacts/json/transcription,_maturation_et_régulation_de_l'adn_20250822_110338.json\n"
          ]
        },
        {
          "data": {
            "text/plain": [
              "\"volume/artifacts/json/transcription,_maturation_et_régulation_de_l'adn_20250822_110338.json\""
            ]
          },
          "execution_count": 15,
          "metadata": {},
          "output_type": "execute_result"
        }
      ],
      "source": [
        "pilot_course.save_to_json(output_path=\"volume/artifacts/json\")"
      ]
    },
    {
      "cell_type": "code",
      "execution_count": 16,
      "metadata": {},
      "outputs": [
        {
          "name": "stdout",
          "output_type": "stream",
          "text": [
            "📄 Course exported to DOCX: volume/artifacts/docx/Chapitre_5_transcription,_maturation_et_régulation_de_l'adn.docx\n"
          ]
        },
        {
          "data": {
            "text/plain": [
              "('volume/artifacts/docx',\n",
              " \"Chapitre_5_transcription,_maturation_et_régulation_de_l'adn.docx\")"
            ]
          },
          "execution_count": 16,
          "metadata": {},
          "output_type": "execute_result"
        }
      ],
      "source": [
        "pilot_course.to_docx(output_path=\"volume/artifacts/docx\", template_path=\"volume/templates/fs_template.docx\")"
      ]
    },
    {
      "cell_type": "code",
      "execution_count": 32,
      "metadata": {},
      "outputs": [
        {
          "name": "stdout",
          "output_type": "stream",
          "text": [
            "Type: <class 'src.models.Content'>\n",
            "Is Content? True\n",
            "Sections type: <class 'list'>\n",
            "First section type: <class 'src.models.ContentSection'>\n",
            "First section: id='SEC_1' title='Présentation du module et plan du cours' content=[\"Ce module porte sur l'organisation du génome humain et sur les méthodes biotechnologiques permettant de le caractériser et de l'analyser. Il vise à donner une vision intégrée de la composition, de l'architecture et de la dynamique des génomes, ainsi que des conséquences fonctionnelles et médicales des variations génomiques.\", \"Le plan du cours présente successivement une introduction aux concepts évolutifs et aux organismes modèles, les notions fondamentales de génétique moléculaire, la description du génome humain (nucléaire et mitochondrial), le projet de séquençage, l'architecture globale du génome, la description des éléments constitutifs (gènes codants et non codants, pseudogènes, éléments répétés), la comparaison intergénomique, les différents types de variations et leurs conséquences, la variabilité du génome humain et, enfin, les notions essentielles et mécanismes de l'évolution des génomes.\", \"Les objectifs pédagogiques incluent la compréhension des éléments structuraux et fonctionnels du génome, la capacité à interpréter les résultats de cartographie et de séquençage, et l'aptitude à appréhender les mécanismes évolutifs et les types de variations qui façonnent la diversité génomique. Le cours associera présentations conceptuelles et introduction aux outils d'exploration des données génomiques.\"] subsections=[]\n",
            "Content class: <class 'src.models.Content'>\n",
            "fresh_content's content class: src.models.Content\n"
          ]
        }
      ],
      "source": [
        "# Check what's actually in your fresh_content variable\n",
        "print(f\"Type: {type(fresh_content)}\")\n",
        "print(f\"Is Content? {isinstance(fresh_content, Content)}\")\n",
        "\n",
        "# Check the sections\n",
        "if hasattr(fresh_content, 'sections'):\n",
        "    print(f\"Sections type: {type(fresh_content.sections)}\")\n",
        "    if fresh_content.sections:\n",
        "        print(f\"First section type: {type(fresh_content.sections[0])}\")\n",
        "        print(f\"First section: {fresh_content.sections[0]}\")\n",
        "else:\n",
        "    print(\"No sections attribute\")\n",
        "\n",
        "# Check if it's the right Content class\n",
        "print(f\"Content class: {Content}\")\n",
        "print(f\"fresh_content's content class: {type(fresh_content).__module__}.{type(fresh_content).__name__}\")"
      ]
    },
    {
      "cell_type": "markdown",
      "metadata": {},
      "source": [
        "# Two-shots"
      ]
    },
    {
      "cell_type": "markdown",
      "metadata": {},
      "source": [
        "# Two-shots"
      ]
    },
    {
      "cell_type": "markdown",
      "metadata": {},
      "source": [
        "## Plan from page\n",
        "\n",
        "Extract plan text from PDF for Branch A (two-pass approach)\n"
      ]
    },
    {
      "cell_type": "markdown",
      "metadata": {},
      "source": [
        "## Extract the slides"
      ]
    },
    {
      "cell_type": "code",
      "execution_count": 70,
      "metadata": {},
      "outputs": [
        {
          "name": "stdout",
          "output_type": "stream",
          "text": [
            "2025-08-18 10:12:25,875 [DEBUG] src.data_extraction.slides_extractor: Starting slide extraction from ./volume/slides/cours_1.pdf\n",
            "2025-08-18 10:12:25,924 [DEBUG] src.data_extraction.slides_extractor: PDF opened, found 111 pages\n",
            "2025-08-18 10:12:26,844 [WARNING] pdfminer.pdfinterp: Cannot set gray non-stroke color because /'P412' is an invalid float value\n",
            "2025-08-18 10:12:26,845 [WARNING] pdfminer.pdfinterp: Cannot set gray non-stroke color because /'P414' is an invalid float value\n",
            "2025-08-18 10:12:26,861 [WARNING] pdfminer.pdfinterp: Cannot set gray non-stroke color because /'P444' is an invalid float value\n",
            "2025-08-18 10:12:26,876 [WARNING] pdfminer.pdfinterp: Cannot set gray non-stroke color because /'P451' is an invalid float value\n",
            "2025-08-18 10:12:26,877 [WARNING] pdfminer.pdfinterp: Cannot set gray non-stroke color because /'P455' is an invalid float value\n",
            "2025-08-18 10:12:26,894 [WARNING] pdfminer.pdfinterp: Cannot set gray non-stroke color because /'P465' is an invalid float value\n",
            "2025-08-18 10:12:26,895 [WARNING] pdfminer.pdfinterp: Cannot set gray non-stroke color because /'P467' is an invalid float value\n",
            "2025-08-18 10:12:26,915 [WARNING] pdfminer.pdfinterp: Cannot set gray non-stroke color because /'P482' is an invalid float value\n",
            "2025-08-18 10:12:26,923 [WARNING] pdfminer.pdfinterp: Cannot set gray non-stroke color because /'P488' is an invalid float value\n",
            "2025-08-18 10:12:27,073 [DEBUG] src.data_extraction.slides_extractor: Successfully extracted 110 slides\n"
          ]
        },
        {
          "data": {
            "text/plain": [
              "[Slides(id='SL_001', title='7.1 Architecture du génome', content='L1SpS: UE 2 Les molécules du vivant\\nU.E.2 Les molécules du vivant\\n7. Organisation du génome humain, méthodes en\\nbiotechnologie\\n7.1 Architecture du génome\\nhumain\\nJean Muller\\nLaboratoire Diagnostic Génétique (HUS)\\nLaboratoire de Génétique médicale (Inserm U1112)\\njeanmuller@unistra.fr'),\n",
              " Slides(id='SL_002', title='Plan du cours', content='L1SpS: UE 2 Les molécules du vivant\\nPlan du cours\\n• Introduction\\n• Notions fondamentales\\n• Le génome humain\\n• Projet de séquençage\\n• Architecture globale\\n• Génome mitochondrial\\n• Génome nucléaire\\n• Description des principaux éléments constituants\\n• Gènes (codants et non-codants), pseudogènes et éléments répétés\\n• Comparaison aux autres génomes\\n• Les types de variations du génome humain et leurs conséquences\\n• La variabilité du génome humain\\n• Evolution des génomes: notions essentielles, mécanismes\\n2'),\n",
              " Slides(id='SL_003', title='Introduction', content='L1SpS: UE 2 Les molécules du vivant\\nIntroduction\\n3'),\n",
              " Slides(id='SL_004', title='L’arbre de la vie', content='L1SpS: UE 2 Les molécules du vivant\\nL’arbre de la vie\\nNotions essentielles:\\n• Evolution\\n• Temps\\n• Adaptation\\n• Sélection\\nLUCA\\nLast Universal Common Ancestor\\n4'),\n",
              " Slides(id='SL_005', title='Arbre des eucaryotes', content='L1SpS: UE 2 Les molécules du vivant\\nArbre des eucaryotes\\nChoix d’organismes modèles\\n• Intérêt(s) économique(s)\\n• Intérêt(s) technique(s)\\n• Facilités hébergement,\\n• Développement embryonnaire/temps\\nde génération\\n• Partage d’éléments communs (ADN)\\n• Hérités/Transmis\\n35 eucaryotes\\n18 métazoaires\\n5')]"
            ]
          },
          "execution_count": 70,
          "metadata": {},
          "output_type": "execute_result"
        }
      ],
      "source": [
        "pdf_path = './volume/slides/cours_1.pdf'\n",
        "plan_path = './volume/slides/cours_4_plan.pdf'\n",
        "\n",
        "extractor = SlidesExtractor()\n",
        "\n",
        "slides = extractor.extract_slides(pdf_path=pdf_path)\n",
        "\n",
        "slides[:5]\n",
        "\n"
      ]
    },
    {
      "cell_type": "code",
      "execution_count": 74,
      "metadata": {},
      "outputs": [
        {
          "name": "stdout",
          "output_type": "stream",
          "text": [
            "2025-08-18 10:13:00,872 [DEBUG] src.data_extraction.plan_extractor: Starting plan extraction from ./volume/slides/cours_1.pdf (page 2)\n",
            "2025-08-18 10:13:00,928 [DEBUG] src.data_extraction.plan_extractor: PDF opened, found 111 pages\n",
            "2025-08-18 10:13:00,948 [DEBUG] src.data_extraction.plan_extractor: Successfully extracted plan from page 2 (1599 chars)\n",
            "   L1SpS: UE 2 Les molécules du vivant                                                             \n",
            "      Plan      du     cours                                                                       \n",
            "        •  Introduction                                                                            \n",
            "             •  Notions  fondamentales                                                             \n",
            "        •  Le génome    humain                                                                     \n",
            "             •  Projet de séquençage                                                               \n",
            "             •  Architecture globale                                                               \n",
            "                  •  Génome    mitochondrial                                                       \n",
            "                  •  Génome    nucléaire                                                           \n",
            "             •  Description  des principaux  éléments   constituants                               \n",
            "                  •  Gènes  (codants   et non-codants),  pseudogènes     et éléments  répétés      \n",
            "        •  Comparaison    aux  autres génomes                                                      \n",
            "        •  Les types  de variations  du génome    humain   et leurs conséquences                   \n",
            "        •  La variabilité du génome   humain                                                       \n",
            "        •  Evolution des  génomes:    notions essentielles,  mécanismes                            \n",
            "                                                                                                 2 \n"
          ]
        }
      ],
      "source": [
        "# Test plan extraction\n",
        "plan_extractor = PlanExtractor()\n",
        "\n",
        "plan_txt = plan_extractor.extract_plan_from_page(pdf_path=pdf_path, page_number=2)\n",
        "\n",
        "print(plan_txt)"
      ]
    },
    {
      "cell_type": "markdown",
      "metadata": {},
      "source": [
        "## Build the Outline"
      ]
    },
    {
      "cell_type": "code",
      "execution_count": 75,
      "metadata": {},
      "outputs": [
        {
          "name": "stdout",
          "output_type": "stream",
          "text": [
            "2025-08-18 10:13:26,958 [DEBUG] src.llm.outline_two_pass: Starting outline generation from plan text (1599 chars)\n",
            "2025-08-18 10:13:41,765 [INFO] httpx: HTTP Request: POST https://api.openai.com/v1/responses \"HTTP/1.1 200 OK\"\n",
            "2025-08-18 10:13:41,817 [DEBUG] src.llm.outline_two_pass: Successfully generated outline with 6 sections\n"
          ]
        }
      ],
      "source": [
        "out_builder = OutlineTwoPass()\n",
        "\n",
        "outline = out_builder.build_outline(plan_txt)"
      ]
    },
    {
      "cell_type": "code",
      "execution_count": 78,
      "metadata": {},
      "outputs": [
        {
          "name": "stdout",
          "output_type": "stream",
          "text": [
            "Course Outline:\n",
            "==================================================\n",
            "Introduction\n",
            "  Notions fondamentales\n",
            "Le génome humain\n",
            "  Projet de séquençage\n",
            "  Architecture globale\n",
            "    Génome mitochondrial\n",
            "    Génome nucléaire\n",
            "  Description des principaux éléments constituants\n",
            "    Gènes (codants et non-codants), pseudogènes et éléments répétés\n",
            "Comparaison aux autres génomes\n",
            "Les types de variations du génome humain et leurs conséquences\n",
            "La variabilité du génome humain\n",
            "Evolution des génomes: notions essentielles, mécanismes\n"
          ]
        }
      ],
      "source": [
        "print(outline.print_outline())"
      ]
    },
    {
      "cell_type": "markdown",
      "metadata": {},
      "source": [
        "## Build the mapping"
      ]
    },
    {
      "cell_type": "code",
      "execution_count": 79,
      "metadata": {},
      "outputs": [],
      "source": [
        "slides = slides[:10]"
      ]
    },
    {
      "cell_type": "code",
      "execution_count": 80,
      "metadata": {},
      "outputs": [
        {
          "name": "stdout",
          "output_type": "stream",
          "text": [
            "2025-08-18 10:14:02,625 [DEBUG] src.llm.mapping_two_pass: Starting mapping generation for 10 slides and 6 sections\n",
            "2025-08-18 10:15:20,967 [INFO] httpx: HTTP Request: POST https://api.openai.com/v1/responses \"HTTP/1.1 200 OK\"\n",
            "2025-08-18 10:15:20,996 [DEBUG] src.llm.mapping_two_pass: Successfully generated mapping with 13 entries\n"
          ]
        },
        {
          "data": {
            "text/plain": [
              "src.models.SectionSlideMapping"
            ]
          },
          "execution_count": 80,
          "metadata": {},
          "output_type": "execute_result"
        }
      ],
      "source": [
        "mapping_builder = MappingTwoPass()\n",
        "\n",
        "mapping = mapping_builder.build_mapping(slides=slides, outline=outline) \n",
        "\n",
        "type(mapping)"
      ]
    },
    {
      "cell_type": "code",
      "execution_count": 82,
      "metadata": {},
      "outputs": [
        {
          "name": "stdout",
          "output_type": "stream",
          "text": [
            "Section-to-Slides Mapping:\n",
            "============================================================\n",
            "\n",
            "[Root] SEC_1\n",
            "Title: Introduction\n",
            "Slides: 2 slide(s)\n",
            "Slide IDs: SL_002, SL_003\n",
            "\n",
            "  [Level 1] SEC_1.1\n",
            "  Title: Notions fondamentales\n",
            "  Slides: 7 slide(s)\n",
            "  Slide IDs: SL_004, SL_005, SL_006, SL_007, SL_008, SL_009, SL_010\n",
            "\n",
            "[Root] SEC_2\n",
            "Title: Le génome humain\n",
            "Slides: 1 slide(s)\n",
            "Slide IDs: SL_001\n",
            "\n",
            "  [Level 1] SEC_2.1\n",
            "  Title: Projet de séquençage\n",
            "  Slides: 1 slide(s)\n",
            "  Slide IDs: SL_002\n",
            "\n",
            "  [Level 1] SEC_2.2\n",
            "  Title: Architecture globale\n",
            "  Slides: 1 slide(s)\n",
            "  Slide IDs: SL_001\n",
            "\n",
            "    [Level 2] SEC_2.2.1\n",
            "    Title: Génome mitochondrial\n",
            "    Slides: 1 slide(s)\n",
            "    Slide IDs: SL_001\n",
            "\n",
            "    [Level 2] SEC_2.2.2\n",
            "    Title: Génome nucléaire\n",
            "    Slides: 1 slide(s)\n",
            "    Slide IDs: SL_001\n",
            "\n",
            "  [Level 1] SEC_2.3\n",
            "  Title: Description des principaux éléments constituants\n",
            "  Slides: 1 slide(s)\n",
            "  Slide IDs: SL_001\n",
            "\n",
            "    [Level 2] SEC_2.3.1\n",
            "    Title: Gènes (codants et non-codants), pseudogènes et éléments répétés\n",
            "    Slides: 1 slide(s)\n",
            "    Slide IDs: SL_001\n",
            "\n",
            "[Root] SEC_3\n",
            "Title: Comparaison aux autres génomes\n",
            "Slides: 2 slide(s)\n",
            "Slide IDs: SL_005, SL_009\n",
            "\n",
            "[Root] SEC_4\n",
            "Title: Les types de variations du génome humain et leurs conséquences\n",
            "Slides: 1 slide(s)\n",
            "Slide IDs: SL_009\n",
            "\n",
            "[Root] SEC_5\n",
            "Title: La variabilité du génome humain\n",
            "Slides: 1 slide(s)\n",
            "Slide IDs: SL_006\n",
            "\n",
            "[Root] SEC_6\n",
            "Title: Evolution des génomes: notions essentielles, mécanismes\n",
            "Slides: 2 slide(s)\n",
            "Slide IDs: SL_004, SL_006\n"
          ]
        }
      ],
      "source": [
        "print(mapping.visualize_mapping(outline))"
      ]
    },
    {
      "cell_type": "code",
      "execution_count": 87,
      "metadata": {},
      "outputs": [
        {
          "name": "stdout",
          "output_type": "stream",
          "text": [
            "Course Outline:\n",
            "==================================================\n",
            "Introduction\n",
            "  Notions fondamentales\n",
            "Le génome humain\n",
            "  Projet de séquençage\n",
            "  Architecture globale\n",
            "    Génome mitochondrial\n",
            "    Génome nucléaire\n",
            "  Description des principaux éléments constituants\n",
            "    Gènes (codants et non-codants), pseudogènes et éléments répétés\n",
            "Comparaison aux autres génomes\n",
            "Les types de variations du génome humain et leurs conséquences\n",
            "La variabilité du génome humain\n",
            "Evolution des génomes: notions essentielles, mécanismes\n"
          ]
        }
      ],
      "source": [
        "course_with_slides = outline.enrich_with_slides(slides=slides, mapping=mapping)\n",
        "\n",
        "print(course_with_slides.print_outline())"
      ]
    },
    {
      "cell_type": "markdown",
      "metadata": {},
      "source": [
        "## Write the course"
      ]
    },
    {
      "cell_type": "code",
      "execution_count": 84,
      "metadata": {},
      "outputs": [
        {
          "name": "stdout",
          "output_type": "stream",
          "text": [
            "2025-08-18 10:16:07,926 [DEBUG] src.llm.writer: Starting content enhancement for 6 sections\n",
            "2025-08-18 10:19:58,868 [INFO] httpx: HTTP Request: POST https://api.openai.com/v1/responses \"HTTP/1.1 200 OK\"\n",
            "2025-08-18 10:19:58,980 [DEBUG] src.llm.writer: Successfully enhanced content with 6 sections\n"
          ]
        },
        {
          "data": {
            "text/plain": [
              "src.models.Content"
            ]
          },
          "execution_count": 84,
          "metadata": {},
          "output_type": "execute_result"
        }
      ],
      "source": [
        "writer = Writer()\n",
        "\n",
        "course = writer.write_course(enriched_content=course_with_slides)\n",
        "type(course)"
      ]
    },
    {
      "cell_type": "code",
      "execution_count": 89,
      "metadata": {},
      "outputs": [
        {
          "data": {
            "text/plain": [
              "src.models.Content"
            ]
          },
          "execution_count": 89,
          "metadata": {},
          "output_type": "execute_result"
        }
      ],
      "source": [
        "type(course)"
      ]
    },
    {
      "cell_type": "code",
      "execution_count": 88,
      "metadata": {},
      "outputs": [
        {
          "ename": "ValidationError",
          "evalue": "1 validation error for Course\ncontent\n  Input should be a valid dictionary or instance of Content [type=model_type, input_value=Content(sections=[Content...ides=None, mapping=None), input_type=Content]\n    For further information visit https://errors.pydantic.dev/2.11/v/model_type",
          "output_type": "error",
          "traceback": [
            "\u001b[0;31m---------------------------------------------------------------------------\u001b[0m",
            "\u001b[0;31mValidationError\u001b[0m                           Traceback (most recent call last)",
            "Cell \u001b[0;32mIn[88], line 1\u001b[0m\n\u001b[0;32m----> 1\u001b[0m test_course \u001b[38;5;241m=\u001b[39m \u001b[43mCourse\u001b[49m\u001b[43m(\u001b[49m\n\u001b[1;32m      2\u001b[0m \u001b[43m    \u001b[49m\u001b[43mname\u001b[49m\u001b[38;5;241;43m=\u001b[39;49m\u001b[38;5;124;43m\"\u001b[39;49m\u001b[38;5;124;43mArchitecture du génome humain\u001b[39;49m\u001b[38;5;124;43m\"\u001b[39;49m\u001b[43m,\u001b[49m\n\u001b[1;32m      3\u001b[0m \u001b[43m    \u001b[49m\u001b[43mcourse_title\u001b[49m\u001b[38;5;241;43m=\u001b[39;49m\u001b[38;5;124;43m\"\u001b[39;49m\u001b[38;5;124;43mArchitecture du génome humain\u001b[39;49m\u001b[38;5;124;43m\"\u001b[39;49m\u001b[43m,\u001b[49m\n\u001b[1;32m      4\u001b[0m \u001b[43m    \u001b[49m\u001b[43mlevel\u001b[49m\u001b[38;5;241;43m=\u001b[39;49m\u001b[38;5;124;43m\"\u001b[39;49m\u001b[38;5;124;43mL1\u001b[39;49m\u001b[38;5;124;43m\"\u001b[39;49m\u001b[43m,\u001b[49m\n\u001b[1;32m      5\u001b[0m \u001b[43m    \u001b[49m\u001b[43mblock\u001b[49m\u001b[38;5;241;43m=\u001b[39;49m\u001b[38;5;124;43m\"\u001b[39;49m\u001b[38;5;124;43mSANTE\u001b[39;49m\u001b[38;5;124;43m\"\u001b[39;49m\u001b[43m,\u001b[49m\n\u001b[1;32m      6\u001b[0m \u001b[43m    \u001b[49m\u001b[43msemester\u001b[49m\u001b[38;5;241;43m=\u001b[39;49m\u001b[38;5;124;43m\"\u001b[39;49m\u001b[38;5;124;43mS1\u001b[39;49m\u001b[38;5;124;43m\"\u001b[39;49m\u001b[43m,\u001b[49m\n\u001b[1;32m      7\u001b[0m \u001b[43m    \u001b[49m\u001b[43msubject\u001b[49m\u001b[38;5;241;43m=\u001b[39;49m\u001b[38;5;124;43m\"\u001b[39;49m\u001b[38;5;124;43mUE-1 Constitution et transformation de la matière\u001b[39;49m\u001b[38;5;124;43m\"\u001b[39;49m\u001b[43m,\u001b[49m\n\u001b[1;32m      8\u001b[0m \u001b[43m    \u001b[49m\u001b[43mcontent\u001b[49m\u001b[38;5;241;43m=\u001b[39;49m\u001b[43mcourse\u001b[49m\n\u001b[1;32m      9\u001b[0m \u001b[43m)\u001b[49m\n\u001b[1;32m     11\u001b[0m \u001b[38;5;28mprint\u001b[39m(test_course\u001b[38;5;241m.\u001b[39mprint_outline())\n",
            "File \u001b[0;32m~/Documents/formascience/class_parser/.venv/lib/python3.11/site-packages/pydantic/main.py:253\u001b[0m, in \u001b[0;36mBaseModel.__init__\u001b[0;34m(self, **data)\u001b[0m\n\u001b[1;32m    251\u001b[0m \u001b[38;5;66;03m# `__tracebackhide__` tells pytest and some other tools to omit this function from tracebacks\u001b[39;00m\n\u001b[1;32m    252\u001b[0m __tracebackhide__ \u001b[38;5;241m=\u001b[39m \u001b[38;5;28;01mTrue\u001b[39;00m\n\u001b[0;32m--> 253\u001b[0m validated_self \u001b[38;5;241m=\u001b[39m \u001b[38;5;28;43mself\u001b[39;49m\u001b[38;5;241;43m.\u001b[39;49m\u001b[43m__pydantic_validator__\u001b[49m\u001b[38;5;241;43m.\u001b[39;49m\u001b[43mvalidate_python\u001b[49m\u001b[43m(\u001b[49m\u001b[43mdata\u001b[49m\u001b[43m,\u001b[49m\u001b[43m \u001b[49m\u001b[43mself_instance\u001b[49m\u001b[38;5;241;43m=\u001b[39;49m\u001b[38;5;28;43mself\u001b[39;49m\u001b[43m)\u001b[49m\n\u001b[1;32m    254\u001b[0m \u001b[38;5;28;01mif\u001b[39;00m \u001b[38;5;28mself\u001b[39m \u001b[38;5;129;01mis\u001b[39;00m \u001b[38;5;129;01mnot\u001b[39;00m validated_self:\n\u001b[1;32m    255\u001b[0m     warnings\u001b[38;5;241m.\u001b[39mwarn(\n\u001b[1;32m    256\u001b[0m         \u001b[38;5;124m'\u001b[39m\u001b[38;5;124mA custom validator is returning a value other than `self`.\u001b[39m\u001b[38;5;130;01m\\n\u001b[39;00m\u001b[38;5;124m'\u001b[39m\n\u001b[1;32m    257\u001b[0m         \u001b[38;5;124m\"\u001b[39m\u001b[38;5;124mReturning anything other than `self` from a top level model validator isn\u001b[39m\u001b[38;5;124m'\u001b[39m\u001b[38;5;124mt supported when validating via `__init__`.\u001b[39m\u001b[38;5;130;01m\\n\u001b[39;00m\u001b[38;5;124m\"\u001b[39m\n\u001b[1;32m    258\u001b[0m         \u001b[38;5;124m'\u001b[39m\u001b[38;5;124mSee the `model_validator` docs (https://docs.pydantic.dev/latest/concepts/validators/#model-validators) for more details.\u001b[39m\u001b[38;5;124m'\u001b[39m,\n\u001b[1;32m    259\u001b[0m         stacklevel\u001b[38;5;241m=\u001b[39m\u001b[38;5;241m2\u001b[39m,\n\u001b[1;32m    260\u001b[0m     )\n",
            "\u001b[0;31mValidationError\u001b[0m: 1 validation error for Course\ncontent\n  Input should be a valid dictionary or instance of Content [type=model_type, input_value=Content(sections=[Content...ides=None, mapping=None), input_type=Content]\n    For further information visit https://errors.pydantic.dev/2.11/v/model_type"
          ]
        }
      ],
      "source": [
        "test_course = Course(\n",
        "    name=\"Architecture du génome humain\",\n",
        "    course_title=\"Architecture du génome humain\",\n",
        "    level=\"L1\",\n",
        "    block=\"SANTE\",\n",
        "    semester=\"S1\",\n",
        "    subject=\"UE-1 Constitution et transformation de la matière\",\n",
        "    content=course\n",
        ")\n",
        "\n",
        "print(test_course.print_outline())"
      ]
    },
    {
      "cell_type": "code",
      "execution_count": 90,
      "metadata": {},
      "outputs": [
        {
          "name": "stdout",
          "output_type": "stream",
          "text": [
            "Course content annotation -> <class 'src.models.Content'> src.models\n",
            "Returned content instance -> <class 'src.models.Content'> src.models\n",
            "Same class object? -> False\n"
          ]
        }
      ],
      "source": [
        "from src.models import Content as ModelsContent\n",
        "print(\"Course content annotation ->\", ModelsContent, ModelsContent.__module__)\n",
        "\n",
        "print(\"Returned content instance ->\", type(course), type(course).__module__)\n",
        "\n",
        "print(\"Same class object? ->\", type(course) is ModelsContent)"
      ]
    },
    {
      "cell_type": "markdown",
      "metadata": {},
      "source": [
        "## Tests\n"
      ]
    },
    {
      "cell_type": "code",
      "execution_count": 64,
      "metadata": {},
      "outputs": [
        {
          "name": "stdout",
          "output_type": "stream",
          "text": [
            "🔁 Imports refreshed\n"
          ]
        },
        {
          "data": {
            "text/plain": [
              "({'slides_pdf': '/Users/youssefjanjar/Documents/formascience/class_parser/volume/slides/cours_1.pdf',\n",
              "  'plan_page': 2},\n",
              " {'save_json': True,\n",
              "  'save_docx': True,\n",
              "  'template_path': '/Users/youssefjanjar/Documents/formascience/class_parser/volume/templates/fs_template.docx',\n",
              "  'output_dir': '/Users/youssefjanjar/Documents/formascience/class_parser/volume/artifacts'},\n",
              " CourseMetadata(name='Architecture du génome humain', course_title='Architecture du génome humain', level='L1', block='SANTE', semester='S1', subject='UE-1 - Les bases de la biologie', chapter=None, year=2024, professor='Youssef Janjar'))"
            ]
          },
          "execution_count": 64,
          "metadata": {},
          "output_type": "execute_result"
        }
      ],
      "source": [
        "refresh_imports()\n",
        "\n",
        "from src.models import PipelineConfig\n",
        "\n",
        "config = PipelineConfig.load(\"pipeline.yaml\")\n",
        "config.inputs, config.outputs, config.metadata"
      ]
    },
    {
      "cell_type": "code",
      "execution_count": 65,
      "metadata": {},
      "outputs": [
        {
          "data": {
            "text/plain": [
              "['architecture_du_génome_humain_20250817_224951.json',\n",
              " '.DS_Store',\n",
              " 'architecture_du_génome_humain_filled.docx',\n",
              " 'docx']"
            ]
          },
          "execution_count": 65,
          "metadata": {},
          "output_type": "execute_result"
        }
      ],
      "source": [
        "import os \n",
        "os.listdir(config.outputs['output_dir'])"
      ]
    },
    {
      "cell_type": "code",
      "execution_count": 66,
      "metadata": {},
      "outputs": [
        {
          "name": "stdout",
          "output_type": "stream",
          "text": [
            "Course Outline:\n",
            "==================================================\n",
            "Introduction\n",
            "  Notions fondamentales\n",
            "Le génome humain\n",
            "  Projet de séquençage\n",
            "  Architecture globale\n",
            "    Génome mitochondrial\n",
            "    Génome nucléaire\n",
            "  Description des principaux éléments constituants\n",
            "    Gènes (codants et non-codants), pseudogènes et éléments répétés\n",
            "Comparaison aux autres génomes\n",
            "Les types de variations du génome humain et leurs conséquences\n",
            "La variabilité du génome humain\n",
            "Evolution des génomes: notions essentielles, mécanismes\n"
          ]
        }
      ],
      "source": [
        "from src.course import Course\n",
        "\n",
        "course = Course.load_from_json(config.outputs['output_dir']+'/architecture_du_génome_humain_20250817_224951.json')\n",
        "\n",
        "print(course.content.print_outline())"
      ]
    },
    {
      "cell_type": "code",
      "execution_count": 67,
      "metadata": {},
      "outputs": [
        {
          "name": "stdout",
          "output_type": "stream",
          "text": [
            "💾 Course saved to: /Users/youssefjanjar/Documents/formascience/class_parser/volume/artifacts/json/architecture_du_génome_humain_20250818_082858.json\n"
          ]
        },
        {
          "data": {
            "text/plain": [
              "'/Users/youssefjanjar/Documents/formascience/class_parser/volume/artifacts/json/architecture_du_génome_humain_20250818_082858.json'"
            ]
          },
          "execution_count": 67,
          "metadata": {},
          "output_type": "execute_result"
        }
      ],
      "source": [
        "course.save_to_json(output_path=config.outputs['output_dir'])"
      ]
    },
    {
      "cell_type": "code",
      "execution_count": 61,
      "metadata": {},
      "outputs": [
        {
          "name": "stdout",
          "output_type": "stream",
          "text": [
            "📄 Course exported to DOCX: /Users/youssefjanjar/Documents/formascience/class_parser/volume/artifacts/docx/architecture_du_génome_humain.docx\n"
          ]
        },
        {
          "data": {
            "text/plain": [
              "'/Users/youssefjanjar/Documents/formascience/class_parser/volume/artifacts/docx/architecture_du_génome_humain.docx'"
            ]
          },
          "execution_count": 61,
          "metadata": {},
          "output_type": "execute_result"
        }
      ],
      "source": [
        "course.to_docx(template_path=config.outputs['template_path'], output_path=config.outputs['output_dir']+'/docx')"
      ]
    },
    {
      "cell_type": "markdown",
      "metadata": {},
      "source": [
        "# Testing the pipeline"
      ]
    },
    {
      "cell_type": "code",
      "execution_count": 1,
      "metadata": {},
      "outputs": [
        {
          "name": "stdout",
          "output_type": "stream",
          "text": [
            "Processing chapter 0: cours_4_plan.pdf\n",
            "PDF path:  /Users/youssefjanjar/Documents/formascience/class_parser/volume/slides/cours_4_plan.pdf\n",
            "Processing chapter 1: .DS_Store\n",
            "PDF path:  /Users/youssefjanjar/Documents/formascience/class_parser/volume/slides/.DS_Store\n",
            "Processing chapter 2: Ch6-Code génétique et traduction.pdf\n",
            "PDF path:  /Users/youssefjanjar/Documents/formascience/class_parser/volume/slides/Ch6-Code génétique et traduction.pdf\n",
            "Processing chapter 3: cours_1.pdf\n",
            "PDF path:  /Users/youssefjanjar/Documents/formascience/class_parser/volume/slides/cours_1.pdf\n",
            "Processing chapter 4: cours_4.pdf\n",
            "PDF path:  /Users/youssefjanjar/Documents/formascience/class_parser/volume/slides/cours_4.pdf\n",
            "Processing chapter 5: Ch1-Sucres et Lipides.pdf\n",
            "PDF path:  /Users/youssefjanjar/Documents/formascience/class_parser/volume/slides/Ch1-Sucres et Lipides.pdf\n",
            "Processing chapter 6: Ch3_Métabolisme des glucides.pdf\n",
            "PDF path:  /Users/youssefjanjar/Documents/formascience/class_parser/volume/slides/Ch3_Métabolisme des glucides.pdf\n",
            "Processing chapter 7: Ch2-Acides aminés et protéines.pdf\n",
            "PDF path:  /Users/youssefjanjar/Documents/formascience/class_parser/volume/slides/Ch2-Acides aminés et protéines.pdf\n",
            "Processing chapter 8: Ch7.1-Génome humain.pdf\n",
            "PDF path:  /Users/youssefjanjar/Documents/formascience/class_parser/volume/slides/Ch7.1-Génome humain.pdf\n",
            "Processing chapter 9: Ch7.2-Techniques de biologie moléculaire.pdf\n",
            "PDF path:  /Users/youssefjanjar/Documents/formascience/class_parser/volume/slides/Ch7.2-Techniques de biologie moléculaire.pdf\n",
            "Processing chapter 10: Ch4-Plan du polycopié.docx\n",
            "PDF path:  /Users/youssefjanjar/Documents/formascience/class_parser/volume/slides/Ch4-Plan du polycopié.docx\n",
            "Processing chapter 11: Ch4-Structure, réplication et réparation de l_ADN.pdf\n",
            "PDF path:  /Users/youssefjanjar/Documents/formascience/class_parser/volume/slides/Ch4-Structure, réplication et réparation de l_ADN.pdf\n",
            "Processing chapter 12: Ch5-Transcription, maturation et régulation.pdf\n",
            "PDF path:  /Users/youssefjanjar/Documents/formascience/class_parser/volume/slides/Ch5-Transcription, maturation et régulation.pdf\n"
          ]
        }
      ],
      "source": [
        "import logging\n",
        "import sys\n",
        "from pathlib import Path\n",
        "import os\n",
        "\n",
        "\n",
        "slides_path = \"/Users/youssefjanjar/Documents/formascience/class_parser/volume/slides/\"\n",
        "chapters = os.listdir(slides_path)\n",
        "for index, chapter in enumerate(chapters):\n",
        "    print(f\"Processing chapter {index}: {chapter}\")\n",
        "    pdf_path = slides_path + chapter\n",
        "    print(f\"PDF path:  {pdf_path}\")\n"
      ]
    },
    {
      "cell_type": "code",
      "execution_count": 2,
      "metadata": {},
      "outputs": [
        {
          "data": {
            "text/plain": [
              "'/Users/youssefjanjar/Documents/formascience/class_parser/volume/slides/Ch6-Code génétique et traduction.pdf'"
            ]
          },
          "execution_count": 2,
          "metadata": {},
          "output_type": "execute_result"
        }
      ],
      "source": [
        "pdf_path = slides_path + chapters[2]\n",
        "pdf_path"
      ]
    },
    {
      "cell_type": "code",
      "execution_count": 4,
      "metadata": {},
      "outputs": [
        {
          "name": "stderr",
          "output_type": "stream",
          "text": [
            "2025-08-22 11:59:07,971 - src.llm.outline_one_shot - INFO - Initializing OutlineOneShot with model: gpt-5-nano\n",
            "2025-08-22 11:59:07,979 - src.llm.outline_one_shot - INFO - API key is valid\n",
            "2025-08-22 11:59:08,000 - src.pipeline - INFO - 🚀 Processing course 'P_test Code Genetique et Traduction' (Branch B - No Plan)\n",
            "2025-08-22 11:59:08,000 - src.pipeline - INFO - 📊 Total slides: 68\n",
            "2025-08-22 11:59:08,001 - src.pipeline - INFO - 🤖 Generating outline and mapping\n",
            "2025-08-22 11:59:08,002 - src.llm.outline_one_shot - INFO - One-shot with verbosity: low and reasoning effort: low\n",
            "2025-08-22 11:59:21,924 - httpx - INFO - HTTP Request: POST https://api.openai.com/v1/responses \"HTTP/1.1 200 OK\"\n",
            "2025-08-22 11:59:21,953 - src.pipeline - INFO - ✅ Generated outline with 4 sections (took 13.95 seconds)\n",
            "2025-08-22 11:59:21,953 - src.pipeline - INFO - 🔗 Enriching content with slides...\n",
            "2025-08-22 11:59:21,954 - src.pipeline - INFO - ✅ Content enriched with slide data (took 0.00 seconds)\n",
            "2025-08-22 11:59:21,954 - src.pipeline - INFO - ✍️ Enhancing content with AI...\n",
            "2025-08-22 11:59:21,955 - src.llm.writer - INFO - Initializing writer with model: gpt-5-nano\n",
            "2025-08-22 11:59:21,955 - src.llm.writer - INFO - Writing content with verbosity: medium and reasoning effort: medium\n",
            "2025-08-22 12:00:24,990 - httpx - INFO - HTTP Request: POST https://api.openai.com/v1/responses \"HTTP/1.1 200 OK\"\n",
            "2025-08-22 12:00:25,072 - src.pipeline - INFO - ✅ Content enhanced and finalized (took 63.12 seconds)\n"
          ]
        },
        {
          "name": "stdout",
          "output_type": "stream",
          "text": [
            "💾 Course saved to: volume/artifacts/json/p_test_code_genetique_et_traduction_20250822_120025.json\n"
          ]
        },
        {
          "name": "stderr",
          "output_type": "stream",
          "text": [
            "2025-08-22 12:00:25,279 - src.pipeline - INFO - 🎉 Course processing complete!\n"
          ]
        },
        {
          "name": "stdout",
          "output_type": "stream",
          "text": [
            "📄 Course exported to DOCX: volume/artifacts/docx/Chapitre_6_p_test_code_genetique_et_traduction.docx\n",
            "Processed 4 sections from 68 slides\n"
          ]
        }
      ],
      "source": [
        "import logging\n",
        "from src.data_extraction import SlidesExtractor\n",
        "from src.models import CourseMetadata\n",
        "from src.pipeline import CoursePipeline\n",
        "\n",
        "\n",
        "# Configure logging level\n",
        "logging.basicConfig(\n",
        "    level=logging.INFO,  # Change to DEBUG for more detailed logs, WARNING for less\n",
        "    format='%(asctime)s - %(name)s - %(levelname)s - %(message)s',\n",
        "    handlers=[\n",
        "        logging.StreamHandler(),  # Console output\n",
        "        logging.FileHandler('pipeline.log')  # Optional: save to file\n",
        "    ]\n",
        ")\n",
        "pdf_path = slides_path + chapters[2]\n",
        "\n",
        "extractor = SlidesExtractor()\n",
        "\n",
        "slides = extractor.extract_slides(pdf_path=pdf_path)\n",
        "\n",
        "course_metadata = CourseMetadata(\n",
        "    name=\"P_test Code Genetique et Traduction\",\n",
        "    course_title=\"P_test Code Genetique et Traduction\",\n",
        "    level=\"L1\", \n",
        "    block=\"SANTE\",\n",
        "    semester=\"S1\",\n",
        "    subject=\"UE2 - Les molécules du vivant\",\n",
        "    chapter=\"6\",\n",
        ")\n",
        "# Initialize the pipeline\n",
        "pipeline = CoursePipeline(model=\"gpt-5-nano\")\n",
        "# Method 1: Using config file\n",
        "course, docx_path, docx_filename = pipeline.process_course_no_plan(slides, course_metadata, test_mode=False)\n",
        "\n",
        "\n",
        "# Get processing statistics\n",
        "stats = pipeline.get_processing_statistics(course)\n",
        "print(f\"Processed {stats['total_sections']} sections from {stats['total_slides']} slides\")"
      ]
    },
    {
      "cell_type": "code",
      "execution_count": 7,
      "metadata": {},
      "outputs": [
        {
          "name": "stdout",
          "output_type": "stream",
          "text": [
            "Course: Code Genetique et Traduction\n",
            "Level: L1\n",
            "Block: SANTE\n",
            "Semester: S1\n",
            "Subject: UE2 - Les molécules du vivant\n",
            "Chapter: 6\n",
            "\n",
            "\n",
            "Course Outline:\n",
            "==================================================\n",
            "Nature et propriétés du code génétique\n",
            "Structure et organisation du message génétique\n",
            "Mécanisme de décryptage par les ARN de transfert\n",
            "Codage des exceptions et variantes\n"
          ]
        }
      ],
      "source": [
        "print(course[0].print_outline())"
      ]
    },
    {
      "cell_type": "code",
      "execution_count": 8,
      "metadata": {},
      "outputs": [
        {
          "name": "stdout",
          "output_type": "stream",
          "text": [
            "Course: Code Genetique et Traduction\n",
            "Level: L1\n",
            "Block: SANTE\n",
            "Semester: S1\n",
            "Subject: UE2 - Les molécules du vivant\n",
            "Chapter: 6\n",
            "\n",
            "\n",
            "Course Content:\n",
            "============================================================\n",
            "\n",
            "[Root] ID: SEC_1\n",
            "Title: Nature et propriétés du code génétique\n",
            "Content:\n",
            "  [1] Le code génétique est le système qui fait le lien entre les codons de\n",
            "      l’ARN messager et les acides aminés des protéines. Il précise comment\n",
            "      chaque triplet de bases détermine un acide aminé ou un signal de\n",
            "      terminaison.\n",
            "  [2] • 61 codons codent pour 20 acides aminés.\n",
            "  [3] • La plupart des acides aminés sont spécifiés par plusieurs codons\n",
            "      (dégénérescence).\n",
            "  [4] • Met et Trp sont codés par un seul codon chacun.\n",
            "  [5] • 3 codons Stop: UAA, UAG, UGA.\n",
            "  [6] • Note: le code génétique n’est pas à connaître sauf pour les codons Stop\n",
            "      et AUG.\n",
            "  [7] Le code génétique est universel.\n",
            "  [8] • Tous les organismes vivants utilisent le même code génétique.\n",
            "  [9] • Cette universalité est une preuve indirecte d’un ancêtre commun.\n",
            "  [10] • Des mutations du code génétique seraient létales car elles modifieraient\n",
            "      des milliers de protéines.\n",
            "  [11] Des évolutions du code génétique ont eu lieu chez certains organelles et\n",
            "      procaryotes à petits génomes.\n",
            "  [12] • Code mitochondrial (vertébré) : le génome code pour 13 protéines.\n",
            "  [13] • Certaines procaryotes symbiotiques ou parasites, ou organelles,\n",
            "      présentent des variations du code.\n",
            "  [14] • D’autres espèces ont conservé le code standard (levure, plantes vertes)\n",
            "      ou montré des variations spécifiques.\n",
            "\n",
            "[Root] ID: SEC_2\n",
            "Title: Structure et organisation du message génétique\n",
            "Content:\n",
            "  [1] La structure du message codant des ARN messagers comprend la séquence\n",
            "      codante et les régions non traduites situées en amont (5’) et en aval\n",
            "      (3’).\n",
            "  [2] • Codons : triplets qui portent l’information et spécifient les acides\n",
            "      aminés.\n",
            "  [3] • Le codon initiateur est AUG et les codons Stop sont UAA, UAG et UGA.\n",
            "  [4] • Le cadre de lecture peut être défini par trois phases possibles.\n",
            "  [5] • Remarque : les limites des exons et des codons ne coïncident pas\n",
            "      toujours; un codon peut être codé dans deux exons consécutifs.\n",
            "  [6] Régions non traduites 5’ et 3’ entourent la séquence codante.\n",
            "  [7] • Ces régions régulent la traduction et la stabilité de l’ARNm.\n",
            "  [8] Concept de phase de lecture\n",
            "  [9] • Trois phases de lecture sont possibles, mais une seule code pour la\n",
            "      protéine.\n",
            "  [10] • Effets des insertions ou délétions de N nucléotides dans la séquence\n",
            "      codante :\n",
            "\n",
            "[Root] ID: SEC_3\n",
            "Title: Mécanisme de décryptage par les ARN de transfert\n",
            "Content:\n",
            "  [1] Les ARNt: les clés du décryptage\n",
            "  [2] • Les ARNt reconnaissent les codons via l’anticodon et portent l’acide\n",
            "      aminé correspondant à leur extrémité 3’.\n",
            "  [3] • Anticodon : triplet de nucléotides complémentaire au codon et alignement\n",
            "      anti-parallèle.\n",
            "  [4] • Un ARNt donné ne peut être couplé qu’à un seul type d’acide aminé.\n",
            "  [5] • Un anticodon donné n’est présent que dans un seul type d’ARNt.\n",
            "  [6] Les ARNt sont sujets à de nombreuses modifications post-\n",
            "      transcriptionnelles\n",
            "  [7] • Structure secondaire conservée en forme de trèfle (4 régions\n",
            "      d’appariement).\n",
            "  [8] • Modifications post-transcriptionnelles fréquentes : méthylations (T,\n",
            "      mG), dihydro-uridine (D), désamination (A → hypoxanthine), isomérisation\n",
            "      (pseudo-uridine), ajout du CCA en 3’.\n",
            "  [9] • L’inosine est fréquente à la position 5' de l’anticodon et facilite la\n",
            "      reconnaissance de codons variés.\n",
            "  [10] Structure tridimensionnelle des ARNt\n",
            "  [11] • Structure en forme de « L » qui facilite l’appariement et le port de\n",
            "      l’acide aminé.\n",
            "  [12] • Stabilisation par des nucléotides non conventionnels et par interactions\n",
            "      anticodon-ARNm.\n",
            "  [13] Structure de certains nucléosides ou bases présentes dans les ARNt\n",
            "  [14] • Uridine, pseudo-uridine, dihydro-uridine, désamination.\n",
            "  [15] • Adénine → hypoxanthine (D désamination) et autres modifications\n",
            "      courantes.\n",
            "  [16] Appariements bancaux (\"wobble pairing\") et dégénérescence du code\n",
            "  [17] • Le nombre d’ARNt est inférieur au nombre de codons (61 codons vs environ\n",
            "      48 ARNt chez l’humain, avec l’ajout de l’ARNt sélénocystéine).\n",
            "  [18] • Certains ARNt reconnaissent plusieurs codons grâce au wobble.\n",
            "  [19] • L’inosine en position 5’ de l’anticodon permet l’appariement avec\n",
            "      plusieurs bases (C, U ou A).\n",
            "\n",
            "[Root] ID: SEC_4\n",
            "Title: Codage des exceptions et variantes\n",
            "Content:\n",
            "  [1] Effet des mutations aux différentes positions des codons\n",
            "  [2] • Première base : mutation peut changer l’acide aminé ou introduire un\n",
            "      codon stop.\n",
            "  [3] • Seconde base : mutation change systématiquement l’acide aminé ou\n",
            "      introduit un codon stop.\n",
            "  [4] • Troisième base : mutations généralement sans effet (conservatrices).\n",
            "  [5] La pseudo-uridine au cœur du prix Nobel de Médecine 2023\n",
            "  [6] • Dans les vaccins à ARN messager, les uridines sont remplacées par des\n",
            "      pseudo-uridines.\n",
            "  [7] • Les nucléotides modifiés présents dans l’ARNm cellulaire aident à\n",
            "      échapper à la reconnaissance immunitaire.\n",
            "  [8] • Les ARNm modifiés ne sont pas reconnus comme étrangers et sont ainsi\n",
            "      moins inflammatoires et plus stables.\n"
          ]
        }
      ],
      "source": [
        "print(course[0].print_content())"
      ]
    },
    {
      "cell_type": "code",
      "execution_count": 6,
      "metadata": {},
      "outputs": [
        {
          "data": {
            "text/plain": [
              "['architecture_du_génome_humain_20250818_113431.json',\n",
              " 'architecture_du_génome_humain_20250818_123215.json',\n",
              " 'réplication_et_réparation_de_l’adn_20250818_120405.json',\n",
              " 'architecture_du_génome_humain_20250818_114200.json',\n",
              " 'architecture_du_génome_humain_20250818_132011.json']"
            ]
          },
          "execution_count": 6,
          "metadata": {},
          "output_type": "execute_result"
        }
      ],
      "source": [
        "import os\n",
        "\n",
        "jsons = os.listdir(\"/Users/youssefjanjar/Documents/formascience/class_parser/volume/artifacts/json/\")\n",
        "file_path = \"/Users/youssefjanjar/Documents/formascience/class_parser/volume/artifacts/json/\" + jsons[-1]\n",
        "\n",
        "jsons"
      ]
    },
    {
      "cell_type": "code",
      "execution_count": 7,
      "metadata": {},
      "outputs": [
        {
          "data": {
            "text/plain": [
              "Course(name='Architecture du génome humain', course_title='Architecture du génome humain', level='L1', block='SANTE', semester='S1', subject='UE-1', chapter=1, content=Content(sections=[ContentSection(id='SEC_1', title='Introduction', content=[\"Ce module aborde les molécules du vivant en plaçant le génome au centre d'un cadre plus large qui comprend également le transcriptome, le protéome et le méthylome. Le programme couvre des notions fondamentales d'évolution et d'homologie, la structure et l'architecture du génome humain (nucléaire et mitochondrial), le projet de séquençage, la description des éléments constitutifs du génome, la comparaison avec d'autres génomes, ainsi que les types et les conséquences des variations génomiques.\", \"Le génome est présenté comme une référence stable de l'information héréditaire d'un organisme, servant de base de comparaison pour les autres couches fonctionnelles (expression, modifications épigénétiques, production protéique). L'étude intégrée de ces différentes couches permet de mieux comprendre la régulation, la variabilité interindividuelle et les mécanismes pathologiques associés aux altérations de l'ADN.\"], subsections=[ContentSection(id='SEC_1.1', title='Notions fondamentales', content=[\"L'arbre du vivant fournit le cadre conceptuel pour comprendre l'origine et la diversification des génomes : l'évolution s'appréhende comme un processus temporel d'accumulation et de sélection de variations, favorisant l'adaptation aux conditions environnementales. La notion de Last Universal Common Ancestor (LUCA) illustre l'existence d'un ancêtre commun pour les grandes lignées du vivant.\", \"Le choix d'organismes modèles en biologie repose sur des critères pratiques et biologiques : intérêts économique et technique, facilité d'hébergement et de manipulation, temps de génération et développement embryonnaire, ainsi que la conservation d'éléments moléculaires communs qui permettent de transférer des connaissances d'un modèle à un autre.\", \"L'homologie désigne un caractère partagé par plusieurs espèces en raison d'un ancêtre commun ; elle se distingue de l'analogie, qui résulte d'évolutions convergentes indépendantes. Sur le plan génétique, l'orthologie regroupe des gènes homologues séparés par un événement de spéciation tandis que la paralogie décrit des gènes homologues issus d'une duplication au sein d'une même lignée.\", \"La détermination de l'homologie s'appuie principalement sur l'alignement des séquences et le calcul de pourcentages d'identité ou de similarité : l'identité correspond aux résidus strictement identiques et la similarité inclut les substitutions conservatrices. Des seuils empiriques existent mais varient selon les familles de protéines et la complexité des séquences ; il convient de rester prudent en présence de régions de faible complexité ou de convergences évolutives qui peuvent engendrer des similitudes non homologues.\", \"Dans le cadre du dogme central, le gène est considéré comme une unité d'information transcrite en ARN, qui peut ensuite servir de matrice pour la synthèse protéique ou exercer des fonctions régulatrices sous forme d'ARN non codants. Cette perspective relie structure génomique, expression et fonction moléculaire.\"], subsections=[])]), ContentSection(id='SEC_2', title='Le génome humain', content=[\"Le génome humain se compose d'un génome nucléaire et d'un génome mitochondrial. Le génome nucléaire comprend 22 paires d'autosomes et une paire de chromosomes sexuels (X et Y) dans la plupart des individus diploïdes, tandis que le génome mitochondrial est généralement une molécule circulaire distincte de petite taille.\", \"La distinction haploïde/diploïde est centrale en génétique : la cellule diploïde dérive de l'association de génomes d'origine paternelle et maternelle, et la nomenclature cytogénétique reflète l'organisation chromosomique. L'organisation chromosomique varie selon l'état du cycle cellulaire (condensation en métaphase versus organisation interphasique du noyau).\", \"Une faible fraction du génome est fortement conservée au cours de l'évolution : seules quelques pourcentages des bases sont soumises à une pression de conservation élevée, ce qui indique que la majorité du génome tolère des variations plus importantes ou est soumise à d'autres formes de contraintes fonctionnelles.\"], subsections=[ContentSection(id='SEC_2.1', title='Projet de séquençage', content=[\"Le projet de détermination de la séquence du génome humain a été conçu comme une entreprise internationale de longue haleine mobilisant des ressources et des efforts soutenus sur plus d'une décennie. L'ambition était de produire une carte de référence de l'euchromatine et d'obtenir une séquence de haute qualité pour servir de support aux recherches fondamentales et médicales.\", \"La stratégie combinait une cartographie génétique, fondée sur les fréquences de recombinaison (mesurées en centiMorgans), et une cartographie physique exprimée en distance réelle (kilobases, mégabases). Ces deux approches ont permis d'ordonner des marqueurs et des fragments avant l'assemblage des lectures de séquençage.\", \"La production de la séquence s'est faite en plusieurs étapes : une version initiale dite « draft » a fourni une couverture importante du génome avec une qualité variable, suivie d'une version finalisée de qualité élevée. Malgré l'atteinte d'une très grande complétude, le génome de référence a continué d'être amélioré au fil du temps pour résoudre des régions répétées ou structurellement complexes.\"], subsections=[]), ContentSection(id='SEC_2.2', title='Architecture globale', content=[\"L'architecture du génome se déploie à différentes échelles et peut être explorée à l'aide d'outils de visualisation qui permettent une navigation du niveau chromosomique au niveau d'un locus précis. Ces interfaces intègrent des annotations variées — gènes, profils protéiques, régions conservées — facilitant l'interprétation fonctionnelle d'une position génomique.\", \"À l'échelle d'un gène, la représentation inclut l'orientation de transcription, la localisation des exons et introns, et les éléments régulateurs adjacents ; le zoom local révèle la structure fine nécessaire à l'interprétation des variations et des mécanismes d'expression.\", \"Un contraste majeur existe entre les génomes nucléaire et mitochondrial : le génome nucléaire haploïde représente plusieurs gigabases, est enrichi en séquences répétées (souvent >50 %), et ne contient qu'une faible proportion de régions codantes (~1 %). Le génome mitochondrial est très compact (quelques dizaines de kilobases), densément codant, dépourvu d'introns et présent en de très nombreux exemplaires par cellule, avec un mode d'héritage et des caractéristiques propres.\"], subsections=[ContentSection(id='SEC_2.2.1', title='Génome mitochondrial', content=[\"Le génome mitochondrial est un petit génome circulaire, d'environ 16,6 kilobases chez l'homme, caractérisé par une organisation compacte et l'encodage d'un ensemble restreint de gènes. Il contient en général 37 gènes au total : treize codants pour des protéines impliquées dans la phosphorylation oxydative et une vingtaine d'ARN de transfert et d'ARN ribosomaux nécessaires à la traduction mitochondriale.\", \"La table codante mitochondriale diffère légèrement de la table standard nucléaire, entraînant des usages spécifiques de certains codons. Cette organisation rappelle l'origine endosymbiotique probable des mitochondries et explique en partie la similitude avec des génomes bactériens.\", \"D'un point de vue héréditaire et populationnel, le génome mitochondrial est transmis majoritairement par voie maternelle et se présente en de très nombreux exemplaires par cellule (>1000), ce qui rend possible la coexistence de variantes différentes au sein d'un même individu (hétéroplasmie) avec des proportions variables selon les tissus et l'âge. Les génomes mitochondriaux varient en taille et en organisation entre espèces, allant de formes très compactes chez de nombreux animaux à des structures plus étendues chez certaines plantes et champignons.\"], subsections=[]), ContentSection(id='SEC_2.2.2', title='Génome nucléaire', content=[\"Le génome nucléaire haploïde humain représente environ 3,1 gigabases de séquence et constitue l'essentiel du matériel génétique codant et non codant. Il a été caractérisé progressivement grâce à des versions de référence publiées au début du XXIe siècle puis complétées et raffinées lors d'itérations ultérieures.\", \"Sa organisation distingue la euchromatine, région relativement ouverte et riche en gènes et en activité transcriptionnelle, et l'hétérochromatine constitutive, zone condensée riche en séquences répétées et généralement transcriptionnellement inactive. Cette dichotomie structure-fonction influence les possibilités d'expression, de recombinaison et la stabilité des régions génomiques.\"], subsections=[])])]), ContentSection(id='SEC_3', title='Description des principaux éléments constituants', content=[\"Les principaux composants du génome humain comprennent les gènes codants et non codants, les pseudogènes et une grande diversité d'éléments répétitifs. Chacun de ces éléments contribue différemment à la structure, à la fonction et à l'évolution du génome.\", \"La connaissance détaillée de ces constituants est essentielle pour comprendre l'expression génique, l'impact des variations et les mécanismes évolutifs ; les sections suivantes décrivent ces classes en précisant leur origine, leur organisation et leurs implications fonctionnelles.\"], subsections=[ContentSection(id='SEC_3.1', title='Gènes (codants et non-codants), pseudogènes et éléments répétés', content=[\"Un gène est défini comme un segment d'ADN utilisé comme matrice pour la synthèse d'un ARN simple brin au cours de la transcription. Les ARN messagers (ARNm) codent pour des protéines tandis que de nombreuses classes d'ARN non codants (ARNt, ARNr, microARN, snoARN, snARN, lncARN, etc.) jouent des rôles essentiels dans la traduction, la régulation et l'organisation nucléaire.\", \"Le génome humain contient environ vingt mille gènes codants identifiés et un nombre nettement supérieur d'ARN non codants ; le bilan global (codants + non codants) se stabilise autour de plusieurs dizaines de milliers d'entités annotées, bien que ces chiffres restent susceptibles d'ajustements au fur et à mesure des améliorations des annotations.\", \"La taille des gènes et des protéines est extrêmement variable : la longueur moyenne d'un gène est de l'ordre de plusieurs dizaines de kilobases, mais des gènes peuvent être très compacts ou s'étendre sur des mégabases. Les protéines vont de très courtes séquences à des protéines géantes, la titine étant l'exemple d'une protéine d'une taille exceptionnelle. De même, le nombre et la taille des exons et introns varient fortement entre gènes, ce qui conditionne la complexité des isoformes transcrites.\", \"Des exemples concrets montrent cette diversité structurelle : certains gènes présentent quelques exons compacts, d'autres des dizaines d'exons et des introns très longs, illustrant que la structure génomique est adaptée à la fonction protéique et aux contraintes d'expression.\", \"L'organisation des gènes sur le génome peut être non regroupée, avec des territoires géniques indépendants et parfois chevauchants, ou bien groupée en clusters résultant de duplications en tandem. Les clusters associent souvent des gènes homologues, des orientations transcriptionnelles conservées et la présence de pseudogènes ; des familles telles que les gènes d'histones ou les récepteurs olfactifs illustrent ces organisations en clusters.\", \"Les gènes non codants sont nombreux et structurés en ensembles spécifiques : on trouve plusieurs centaines de gènes codant pour des ARNt (et des pseudogènes associés) et de multiples copies d'ARN ribosomaux répartis en grands clusters. La quantification exacte de certaines classes, notamment des répétitions d'ARN ribosomal, reste partiellement incertaine en raison de leur structure répétitive.\", \"Les pseudogènes représentent des copies généralement défectueuses de gènes fonctionnels et concernent une proportion notable du génome codant. On distingue des pseudogènes non processés (résultant de duplications conservant structure intron/exon), des pseudogènes processés (issus de rétrotransposition d'ARNm, dépourvus d'introns et de régions régulatrices) et des pseudogènes unitaires (résultant de la dégradation d'un gène unique soumis à une pression de sélection diminuée). Bien que longtemps considérés comme fossiles, certains pseudogènes sont transcrits et peuvent jouer des rôles régulateurs.\", \"Les éléments répétitifs occupent une part importante du génome et se classent en répétitions en tandem (satellites, minisatellites, microsatellites) et en éléments répétés dispersés (dérivés de transposons). Les microsatellites, fréquents et polymorphiques, sont utiles pour le génotypage et l'identification individuelle, tandis que les répétitions dispersées forment une fraction majeure du génome.\", 'Parmi les éléments dispersés, les rétrotransposons se propagent par un mécanisme de type « copié-collé » impliquant une étape ARN puis une rétrotranscription en ADN ; les LINEs (notamment Line-1) constituent de nombreuses copies dont une petite fraction reste potentiellement active et code des protéines nécessaires à la mobilité (ORF1, ORF2). Les SINEs, tels que les éléments Alu chez les primates, sont plus courts et non autonomes, utilisant la machinerie des LINEs pour leur propagation.', \"D'autres éléments répétés comprennent des rétrovirus à LTR, disposant d'une machinerie génétique typique, et des transposons à mécanisme « coupé-collé » dépendant d'une transposase. La plupart de ces éléments sont aujourd'hui inactifs ou fortement dégradés, mais ils constituent un moteur majeur de diversification et d'évolution génomique.\"], subsections=[])]), ContentSection(id='SEC_4', title='Comparaison aux autres génomes', content=[\"La capacité codante d'une espèce n'est pas proportionnelle à la taille totale de son génome ni au nombre de chromosomes ; des organismes très différents peuvent présenter des nombres de gènes comparables alors que leur contenu non codant et répétitif diffère énormément.\", \"La distribution du nombre de gènes varie selon les grands groupes du vivant et ne reflète pas de manière simple la complexité physiologique d'un organisme : unicellulaires et multicellulaires peuvent partager des ordres de grandeur similaires pour le nombre de gènes, la différence résidant souvent dans l'organisation régulatrice et la diversité d'isoformes.\", 'Les génomes compacts et pauvres en séquences répétées tendent à montrer une relation plus linéaire entre taille et nombre de gènes, mais chez les eucaryotes supérieurs le nombre de gènes est largement influencé par des duplications, des éléments répétitifs et des introns qui rendent impossible une corrélation simple entre taille du génome et complexité biologique.'], subsections=[]), ContentSection(id='SEC_5', title='Les types de variations du génome humain et leurs conséquences', content=[\"Dans le langage courant, on parle de mutation pour désigner une modification héritée de l'information contenue dans le génome. En médecine et en génétique, le terme se réserve souvent aux altérations de séquence associées à un phénotype pathologique ; il convient de distinguer les mutations délétères des polymorphismes, ces derniers étant des variations présentes à une fréquence élevée (classiquement ≥ 1 %) dans une population donnée.\", \"Les variations peuvent être classées selon leur taille et leur nature : les variations ponctuelles ou de petite taille (quelques bases jusqu'à une cinquantaine) sont désignées SNV ou petites indels, tandis que les variations de structure touchent des segments plus larges (>50 pb) et comprennent délétions, duplications, inversions et translocations. Les variations de nombre de copies (CNV) font partie des remaniements déséquilibrés affectant la copie d'un segment donné.\", \"Une nomenclature standardisée est utilisée pour décrire les variations à différents niveaux : la notation génomique (g.), la notation sur ARNm (c.) et la notation protéique (p.) permettent de localiser et d'indiquer précisément la nature d'un changement. Les acides aminés sont souvent abrégés par une lettre ou un nom et sont référencés par leur position, par exemple p.Arg22Ser ou p.Arg22* pour une substitution ou un codon stop.\", \"Un individu peut porter de multiples variations sur un même gène ou sur des allèles différents ; la notation phasée ou non phasée (indication que des variations sont sur le même allèle ou sur des allèles différents) est importante pour l'interprétation fonctionnelle et clinique. La représentation correcte des génotypes est essentielle pour évaluer la cooccurrence et les effets combinés de variantes.\", \"Le statut de polymorphisme versus mutation pathogène dépend de la fréquence allélique, des données fonctionnelles, du contexte de transmission et de l'association avec un phénotype. Des exemples cliniques illustrent ces distinctions : une variation délétère sur un gène lié à l'X peut manifester un phénotype sévère chez l'homme tandis que la femme peut être asymptomatique ou présenter un phénotype plus tardif ; d'autres maladies requièrent la présence de deux allèles pathogènes (mode autosomique récessif) pour s'exprimer.\", \"Au plan moléculaire, les substitutions nucléotidiques peuvent être synonymes, faux-sens ou non-sens selon leur effet sur la séquence codante ; les indels conduisent à des décalages du cadre de lecture si leur longueur n'est pas un multiple de trois, entraînant fréquemment des protéines tronquées ou aberrantes. La localisation d'une variation dans l'architecture du gène (exon, intron, jonction d'épissage, régions régulatrices) conditionne souvent son impact fonctionnel.\", \"Les sites d'épissage (site donneur 5' et site accepteur 3') suivent des motifs canoniques (GT-AG pour la grande majorité) et les altérations de ces motifs peuvent provoquer la rétention d'introns, l'usage de sites cryptiques ou le saut d'exons, entraînant souvent des décalages du cadre de lecture ou la perte d'éléments structuraux essentiels de la protéine.\", \"Les expansions de trinucléotides ou autres répétitions unitaires représentent un mécanisme particulier de mutation dynamique : une amplification instable du nombre de répétitions peut se produire lors de la réplication et conduire à des pathologies lorsque le seuil critique est dépassé. Ces mutations dynamiques sont à l'origine d'une vingtaine à plusieurs dizaines de maladies bien caractérisées qui diffèrent par la séquence répétée et sa localisation génique.\", \"Les variations de structure à grande échelle modifient la localisation ou le nombre de copies de larges segments génomiques et sont fréquentes entre génomes individuels : des études comparatives ont mis en évidence plusieurs milliers d’événements de variation structurale entre deux génomes, incluant des grandes délétions, des CNV, des insertions d'éléments mobiles et des inversions. Ces remaniements affectent un grand nombre de bases et représentent la principale source de variabilité en termes de masse de séquence impliquée.\", \"Enfin, d'autres mécanismes (conversion génique entre séquences très homologues, empreinte parentale par méthylation différentielle, etc.) peuvent influencer l'expression et la pathogénicité d'une variation. Les conséquences fonctionnelles des altérations sont classiquement décrites comme perte de fonction, gain de fonction ou effet dominant négatif, et leur interprétation nécessite une évaluation contextuelle fondée sur la biologie moléculaire et les données cliniques.\"], subsections=[]), ContentSection(id='SEC_6', title='La variabilité du génome humain', content=[\"Le génome humain présente une grande diversité qui résulte de multiples sources de variation : substitutions ponctuelles, indels, variations structurales, expansions répétées et insertions d'éléments mobiles. Certaines variations sont rares et potentiellement délétères, d'autres fréquemment retrouvées dans des populations en raison d'effets fondateurs ou de mécanismes récurrents.\", \"Des inventaires de variations cumulées à l'échelle mondiale répertorient à présent des centaines de millions voire plus d'un milliard de variations individuelles et plusieurs millions de variations structurales ; ces catalogues publics illustrent l'étendue de la variabilité observée et constituent un référentiel essentiel pour l'interprétation clinique et l'étude de la population.\"], subsections=[]), ContentSection(id='SEC_7', title='Evolution des génomes: notions essentielles, mécanismes', content=[\"L'évolution des génomes s'inscrit dans les notions fondamentales d'évolution, de temps, d'adaptation et de sélection : les génomes se modifient au fil des générations par l'ajout, la perte et le remaniement de matériel génétique, et ces modifications peuvent conférer des avantages sélectifs ou neutralité, conduisant à l'installation de traits héritables ou à la divergence d'espèces.\", \"Les mécanismes moléculaires responsables de ces changements sont variés : substitutions ponctuelles et petites indels modifient localement les séquences, tandis que les remaniements structuraux (du simple déplacement d'un élément mobile à des délétions/duplications massives) réorganisent l'architecture du génome et créent des opportunités pour l'innovation fonctionnelle.\", \"La duplication d'exons et le brassage d'exons (« exon shuffling ») sont des processus qui génèrent de nouveaux domaines protéiques et modulent la modularité des protéines ; ces événements résultent souvent de recombinaisons non alléliques, d'activités de rétrotransposons ou d'erreurs de réparation des cassures double brin. La duplication de gènes, qu'elle soit partielle ou complète, permet ensuite la néofonctionnalisation ou la sous-division des fonctions (subfunctionalisation) entre copies.\", \"À une échelle plus large, des duplications complètes du génome (polyploïdisation) ont été documentées au cours de l'histoire évolutive de certaines lignées et peuvent provoquer des sauts de complexité adaptative en fournissant des copies supplémentaires de gènes susceptibles d'évoluer librement. Au total, ces mécanismes combinés expliquent la dynamique des génomes et l'émergence de nouvelles fonctions au fil du temps.\"], subsections=[])], slides=None, mapping=None), total_slides=110)"
            ]
          },
          "execution_count": 7,
          "metadata": {},
          "output_type": "execute_result"
        }
      ],
      "source": [
        "from src.course import Course\n",
        "\n",
        "course = Course.load_from_json(\n",
        "file_path)\n",
        "course"
      ]
    },
    {
      "cell_type": "code",
      "execution_count": 10,
      "metadata": {},
      "outputs": [],
      "source": [
        "course.subject = \"UE-2\"\n",
        "course.chapter = \"7.1\""
      ]
    },
    {
      "cell_type": "code",
      "execution_count": 11,
      "metadata": {},
      "outputs": [
        {
          "name": "stdout",
          "output_type": "stream",
          "text": [
            "Course: Architecture du génome humain\n",
            "Level: L1\n",
            "Block: SANTE\n",
            "Semester: S1\n",
            "Subject: UE-2\n",
            "Chapter: 7.1\n",
            "\n",
            "\n",
            "Course Outline:\n",
            "==================================================\n",
            "Introduction\n",
            "  Notions fondamentales\n",
            "Le génome humain\n",
            "  Projet de séquençage\n",
            "  Architecture globale\n",
            "    Génome mitochondrial\n",
            "    Génome nucléaire\n",
            "Description des principaux éléments constituants\n",
            "  Gènes (codants et non-codants), pseudogènes et éléments répétés\n",
            "Comparaison aux autres génomes\n",
            "Les types de variations du génome humain et leurs conséquences\n",
            "La variabilité du génome humain\n",
            "Evolution des génomes: notions essentielles, mécanismes\n"
          ]
        }
      ],
      "source": [
        "print(course.print_outline())"
      ]
    },
    {
      "cell_type": "code",
      "execution_count": 7,
      "metadata": {},
      "outputs": [
        {
          "name": "stdout",
          "output_type": "stream",
          "text": [
            "💾 Course saved to: volume/artifacts/json/architecture_du_génome_humain_20250818_114200.json\n"
          ]
        },
        {
          "data": {
            "text/plain": [
              "'volume/artifacts/json/architecture_du_génome_humain_20250818_114200.json'"
            ]
          },
          "execution_count": 7,
          "metadata": {},
          "output_type": "execute_result"
        }
      ],
      "source": [
        "course.save_to_json(output_path=\"volume/artifacts/json\")"
      ]
    },
    {
      "cell_type": "code",
      "execution_count": 12,
      "metadata": {},
      "outputs": [
        {
          "name": "stdout",
          "output_type": "stream",
          "text": [
            "📄 Course exported to DOCX: volume/artifacts/docx/architecture_du_génome_humain.docx\n"
          ]
        },
        {
          "data": {
            "text/plain": [
              "'volume/artifacts/docx/architecture_du_génome_humain.docx'"
            ]
          },
          "execution_count": 12,
          "metadata": {},
          "output_type": "execute_result"
        }
      ],
      "source": [
        "atifacts_path = \"volume/artifacts/docx\"\n",
        "template_path = \"volume/templates/fs_template.docx\"\n",
        "course.to_docx(output_path=atifacts_path, template_path=template_path)"
      ]
    },
    {
      "cell_type": "markdown",
      "metadata": {},
      "source": [
        "## Step 1: Data Extraction - Slides\n",
        "\n",
        "Extract slides from PDF using the exact logic from poc.ipynb\n"
      ]
    },
    {
      "cell_type": "code",
      "execution_count": null,
      "metadata": {},
      "outputs": [],
      "source": [
        "# Method 2: Direct method call\n",
        "metadata = CourseMetadata(\n",
        "    name=\"Architecture du génome humain\",\n",
        "    course_title=\"Architecture du génome humain\",\n",
        "    level=\"L1\",\n",
        "    block=\"SANTE\",\n",
        "    semester=\"S1\",\n",
        "    subject=\"UE-1 Constitution et transformation de la matière\"\n",
        ")\n",
        "\n",
        "course = pipeline.process_course_no_plan(\n",
        "    slides=slides,  # Your slides list\n",
        "    metadata=metadata,\n",
        "    save_json=True,\n",
        "    save_docx=True,\n",
        "    test_mode=True,  # Process only first 10 slides\n",
        "    output_path=\"\"\n",
        ")\n",
        "\n",
        "# Get processing statistics\n",
        "stats = pipeline.get_processing_statistics(course)\n",
        "print(f\"Processed {stats['total_sections']} sections from {stats['total_slides']} slides\")"
      ]
    }
  ],
  "metadata": {
    "kernelspec": {
      "display_name": ".venv",
      "language": "python",
      "name": "python3"
    },
    "language_info": {
      "codemirror_mode": {
        "name": "ipython",
        "version": 3
      },
      "file_extension": ".py",
      "mimetype": "text/x-python",
      "name": "python",
      "nbconvert_exporter": "python",
      "pygments_lexer": "ipython3",
      "version": "3.11.13"
    }
  },
  "nbformat": 4,
  "nbformat_minor": 2
}
