{
  "cells": [
    {
      "cell_type": "markdown",
      "metadata": {},
      "source": [
        "# Class Parser Workflow Test\n",
        "\n",
        "This notebook reproduces the workflow from poc.ipynb step by step using the new src/ structure.\n",
        "Test each component individually and then run the complete pipeline.\n",
        "\n",
        "## Workflow Overview\n",
        "1. **Data Extraction** - Extract slides and plan from PDF (deterministic)\n",
        "2. **Branch A** - With plan: outline_two_pass → mapping_two_pass → enrich → writer\n",
        "3. **Branch B** - No plan: outline_one_shot → enrich → writer\n",
        "4. **Export** - Generate DOCX document\n"
      ]
    },
    {
      "cell_type": "code",
      "execution_count": 39,
      "metadata": {},
      "outputs": [
        {
          "name": "stdout",
          "output_type": "stream",
          "text": [
            "The autoreload extension is already loaded. To reload it, use:\n",
            "  %reload_ext autoreload\n",
            "🔁 Imports refreshed\n"
          ]
        }
      ],
      "source": [
        "# Dev hot-reload setup (no kernel restart needed)\n",
        "%load_ext autoreload\n",
        "%autoreload 2\n",
        "\n",
        "import sys, importlib\n",
        "from pathlib import Path\n",
        "# Ensure project root is on sys.path\n",
        "sys.path.insert(0, str(Path('.').resolve()))\n",
        "\n",
        "import src\n",
        "import src.models as models\n",
        "import src.llm as llm\n",
        "import src.data_extraction as data_extraction\n",
        "import src.course as course_mod\n",
        "import src.pipeline as pipeline_mod\n",
        "\n",
        "\n",
        "def refresh_imports():\n",
        "    \"\"\"Reload modules and rebind notebook aliases.\"\"\"\n",
        "    importlib.reload(src)\n",
        "    importlib.reload(models)\n",
        "    importlib.reload(llm)\n",
        "    importlib.reload(data_extraction)\n",
        "    importlib.reload(course_mod)\n",
        "    importlib.reload(pipeline_mod)\n",
        "    \n",
        "    globals().update({\n",
        "        # Models\n",
        "        \"Content\": models.Content,\n",
        "        \"ContentSection\": models.ContentSection,\n",
        "        \"MappingItem\": models.MappingItem,\n",
        "        \"SectionSlideMapping\": models.SectionSlideMapping,\n",
        "        \"Slides\": models.Slides,\n",
        "        \"OutlineAndMapping\": models.OutlineAndMapping,\n",
        "        \"CourseMetadata\": models.CourseMetadata,\n",
        "        # LLM\n",
        "        \"OutlineOneShot\": llm.OutlineOneShot,\n",
        "        \"OutlineTwoPass\": llm.OutlineTwoPass,\n",
        "        \"MappingTwoPass\": llm.MappingTwoPass,\n",
        "        \"Writer\": llm.Writer,\n",
        "        \"PromptManager\": llm.PromptManager,\n",
        "        # Deterministic extractors\n",
        "        \"SlidesExtractor\": data_extraction.SlidesExtractor,\n",
        "        \"PlanExtractor\": data_extraction.PlanExtractor,\n",
        "        # Orchestrators\n",
        "        \"Course\": course_mod.Course,\n",
        "        \"CoursePipeline\": pipeline_mod.CoursePipeline,\n",
        "    })\n",
        "    print(\"🔁 Imports refreshed\")\n",
        "\n",
        "# Initial bind\n",
        "refresh_imports()\n"
      ]
    },
    {
      "cell_type": "markdown",
      "metadata": {},
      "source": [
        "## Step 1: Data Extraction - Slides\n",
        "\n",
        "Extract slides from PDF using the exact logic from poc.ipynb\n"
      ]
    },
    {
      "cell_type": "code",
      "execution_count": 40,
      "metadata": {},
      "outputs": [
        {
          "name": "stdout",
          "output_type": "stream",
          "text": [
            "id 0 : cours_4_plan.pdf\n",
            "id 1 : .DS_Store\n",
            "id 2 : Ch6-Code génétique et traduction.pdf\n",
            "id 3 : cours_1.pdf\n",
            "id 4 : cours_4.pdf\n",
            "id 5 : Ch1-Sucres et Lipides.pdf\n",
            "id 6 : Ch3_Métabolisme des glucides.pdf\n",
            "id 7 : Ch2-Acides aminés et protéines.pdf\n",
            "id 8 : Ch7.1-Génome humain.pdf\n",
            "id 9 : Ch7.2-Techniques de biologie moléculaire.pdf\n",
            "id 10 : Ch4-Plan du polycopié.docx\n",
            "id 11 : Ch4-Structure, réplication et réparation de l_ADN.pdf\n",
            "id 12 : Ch5-Transcription, maturation et régulation.pdf\n"
          ]
        }
      ],
      "source": [
        "slides_path = \"/Users/youssefjanjar/Documents/formascience/class_parser/volume/slides/\"\n",
        "import os \n",
        "chapters = os.listdir(slides_path)\n",
        "for index, chapter in enumerate(chapters):\n",
        "    print(f\"id {index} : {chapter}\")"
      ]
    },
    {
      "cell_type": "code",
      "execution_count": 41,
      "metadata": {},
      "outputs": [
        {
          "name": "stdout",
          "output_type": "stream",
          "text": [
            "🔍 Extracting slides from: /Users/youssefjanjar/Documents/formascience/class_parser/volume/slides/Ch5-Transcription, maturation et régulation.pdf\n",
            "✅ Extracted 109 slides\n",
            "\n",
            "📋 First 3 slides:\n",
            "\n",
            "--- Slide 1: SL_001 ---\n",
            "Title: Transcription de l’ADN en ARN\n",
            "Content (first 200 chars): Transcription de l’ADN en ARN\n",
            "1\n",
            "1) Mécanismes généraux de la transcription\n",
            "2) Maturation des ARN chez les eucaryotes\n",
            "3) Régulation de la transcription chez les eucaryotes\n",
            "Texte en italique : informati...\n",
            "==================================================\n",
            "\n",
            "--- Slide 2: SL_002 ---\n",
            "Title: 1. Mécanismes généraux de la transcription\n",
            "Content (first 200 chars): 1. Mécanismes généraux de la transcription\n",
            "2\n",
            "1.1. Définitions: Transcription – Gène – Différents types d’ARN\n",
            "1.2. Machinerie transcriptionnelle : les ARN polymérases\n",
            "3 ARN polymérases nucléaires chez ...\n",
            "==================================================\n",
            "\n",
            "--- Slide 3: SL_003 ---\n",
            "Title: 1.1. Définition: Transcription chez les eucaryotes\n",
            "Content (first 200 chars): 1.1. Définition: Transcription chez les eucaryotes\n",
            "3\n",
            "Place de la transcription:\n",
            "Le ‘dogme central’ de la biologie\n",
            " Définition : Synthèse d’un ARN simple brin à partir d’un ADN double brin\n",
            " Différent...\n",
            "==================================================\n"
          ]
        }
      ],
      "source": [
        "# Test slides extraction\n",
        "pdf_path = slides_path+chapters[12]\n",
        "\n",
        "# Initialize extractor\n",
        "slides_extractor = SlidesExtractor(\n",
        "    min_avg_len=10,\n",
        "    max_lines=20,\n",
        "    merge_tol=2.0\n",
        ")\n",
        "\n",
        "print(f\"🔍 Extracting slides from: {pdf_path}\")\n",
        "\n",
        "try:\n",
        "    # Extract slides as Slides objects\n",
        "    slides = slides_extractor.extract_slides(pdf_path)\n",
        "    print(f\"✅ Extracted {len(slides)} slides\")\n",
        "    \n",
        "    # Display first few slides\n",
        "    print(\"\\n📋 First 3 slides:\")\n",
        "    for i, slide in enumerate(slides[:3]):\n",
        "        print(f\"\\n--- Slide {i+1}: {slide.id} ---\")\n",
        "        print(f\"Title: {slide.title}\")\n",
        "        print(f\"Content (first 200 chars): {slide.content[:200]}...\")\n",
        "        print(\"=\" * 50)\n",
        "        \n",
        "except FileNotFoundError:\n",
        "    print(f\"❌ PDF file not found: {pdf_path}\")\n",
        "    print(\"Please ensure the PDF file exists in ./volume/slides/\")\n",
        "    slides = []  # Empty list for testing\n",
        "except Exception as e:\n",
        "    print(f\"❌ Error extracting slides: {e}\")\n",
        "    slides = []\n"
      ]
    },
    {
      "cell_type": "code",
      "execution_count": 42,
      "metadata": {},
      "outputs": [
        {
          "name": "stdout",
          "output_type": "stream",
          "text": [
            "📊 Slides JSON dump:\n",
            "Number of slides: 109\n",
            "JSON size: 76526 characters\n",
            "Estimated tokens (GPT-4 encoding): 24578\n",
            "\n",
            "📋 JSON content (first 1000 chars):\n",
            "[\n",
            "  {\n",
            "    \"id\": \"SL_001\",\n",
            "    \"title\": \"Transcription de l’ADN en ARN\",\n",
            "    \"content\": \"Transcription de l’ADN en ARN\\n1\\n1) Mécanismes généraux de la transcription\\n2) Maturation des ARN chez les eucaryotes\\n3) Régulation de la transcription chez les eucaryotes\\nTexte en italique : informations complémentaires non requises pour l’examen\\nFigures avec légendes en italique: montrées à titre d’illustration (ne sont pas à apprendre pour l’examen)\\nU.E.2_Organisation et expression du génome humain\\nDidier Devys\"\n",
            "  },\n",
            "  {\n",
            "    \"id\": \"SL_002\",\n",
            "    \"title\": \"1. Mécanismes généraux de la transcription\",\n",
            "    \"content\": \"1. Mécanismes généraux de la transcription\\n2\\n1.1. Définitions: Transcription – Gène – Différents types d’ARN\\n1.2. Machinerie transcriptionnelle : les ARN polymérases\\n3 ARN polymérases nucléaires chez l’homme = 3 classes de gènes\\n1.3. Les gènes de classe II (transcrits par Pol II): Organisation et Régulation\\n1.4. L’initiation de la transcription par Pol II\\n1.4.1. Machinerie...\n"
          ]
        }
      ],
      "source": [
        "import json\n",
        "import tiktoken\n",
        "\n",
        "# Dump slides to JSON\n",
        "slides_json = json.dumps([slide.model_dump() for slide in slides], ensure_ascii=False, indent=2)\n",
        "\n",
        "# Calculate tokens using GPT-4 encoding (tiktoken doesn't have GPT-5 yet, using GPT-4 as closest)\n",
        "encoding = tiktoken.encoding_for_model(\"gpt-4\")\n",
        "token_count = len(encoding.encode(slides_json))\n",
        "\n",
        "print(f\"📊 Slides JSON dump:\")\n",
        "print(f\"Number of slides: {len(slides)}\")\n",
        "print(f\"JSON size: {len(slides_json)} characters\")\n",
        "print(f\"Estimated tokens (GPT-4 encoding): {token_count}\")\n",
        "\n",
        "# Display the JSON (truncated for readability)\n",
        "print(f\"\\n📋 JSON content (first 1000 chars):\")\n",
        "print(slides_json[:1000] + \"...\" if len(slides_json) > 1000 else slides_json)"
      ]
    },
    {
      "cell_type": "code",
      "execution_count": 43,
      "metadata": {},
      "outputs": [],
      "source": [
        "course_metadata = CourseMetadata(\n",
        "    name=\"Transcription, maturation et régulation de l'ADN\",\n",
        "    course_title=\"Transcription, maturation et régulation de l'ADN\",\n",
        "    level=\"L1\", \n",
        "    block=\"SANTE\",\n",
        "    semester=\"S1\",\n",
        "    subject=\"UE2 - Les molécules du vivant\",\n",
        "    chapter=\"5\",\n",
        ")"
      ]
    },
    {
      "cell_type": "markdown",
      "metadata": {},
      "source": [
        "# Single Shot"
      ]
    },
    {
      "cell_type": "markdown",
      "metadata": {},
      "source": [
        "# Single shot:  Extract the plan for this class "
      ]
    },
    {
      "cell_type": "code",
      "execution_count": 44,
      "metadata": {},
      "outputs": [
        {
          "name": "stdout",
          "output_type": "stream",
          "text": [
            "Course Outline:\n",
            "==================================================\n",
            "Mécanismes généraux de la transcription\n",
            "  Définitions et principes de la transcription (types d'ARN, différences ADN/ARN, sens de transcription)\n",
            "  Machinerie transcriptionnelle : ARN polymérases (mitochondriale et nucléaires) et classes de gènes\n",
            "  Gènes de classe II : organisation et régulation (TSS, exons/introns, îlots CpG, méthylation)\n",
            "  Initiation par ARN Pol II : promoteur minimum, facteurs généraux et formation du complexe de pré-initiation\n",
            "  Transition initiation → élongation et élongation de la transcription (CTD, pauses, vitesse, proofreading)\n",
            "Maturation des ARN chez les eucaryotes\n",
            "  Modifications et maturation des pré-ARNm\n",
            "    Coiffage 5’ : formation et fonctions de la coiffe\n",
            "    Épissage : sites consensus, mécanismes et couplage à la transcription\n",
            "    Clivage 3’ et polyadénylation : signal AAUAAA, PAP, PABP\n",
            "  Terminaison de la transcription des pré-ARNm et conséquences pour la maturation\n",
            "  Diversification du protéome (promoteurs alternatifs, épissage alternatif, polyadénylation alternative)\n",
            "    Utilisation de promoteurs alternatifs\n",
            "    Épissage alternatif : production d'isoformes\n",
            "    Sites de clivage et polyadénylation alternatifs\n",
            "    Transcription par ARN Pol I et Pol III et maturation des ARNr/ARNt\n",
            "Régulation de la transcription par l'ARN polymérase II\n",
            "  Structure et remodélisation de la chromatine\n",
            "    Nucléosome : unité de base et protéines histones\n",
            "    États de compaction : euchromatine vs hétérochromatine (constitutive / facultative)\n",
            "    Complexes de remodelage ATP‑dépendants (déplacement/éjection de nucléosomes)\n",
            "    Modifications post‑traductionnelles des histones et conséquences fonctionnelles (acétylation, méthylation, HP1…)\n",
            "  Contrôle de l'expression des gènes : facteurs de transcription et séquences régulatrices\n",
            "    Pourquoi la transcription est‑elle régulée ? (développement, différenciation, réponses aux signaux)\n",
            "    Acteurs de la régulation : facteurs de transcription et séquences cis/trans (promoteurs, enhancers)\n",
            "    Liaison des FT à l'ADN : spécificité et domaines de liaison (Leucine zipper, bHLH, zinc‑finger…)\n",
            "    Fixation coopérative et contrôle combinatoire des facteurs de transcription\n",
            "    Modes d'action des FT : co‑activateurs, médiateur, remodelage chromatinien et looping enhancer‑promoteur\n",
            "    Conclusions : intégration des signaux et régulation de l'activité des facteurs de transcription\n"
          ]
        }
      ],
      "source": [
        "outline_one_shot = OutlineOneShot()\n",
        "\n",
        "outline, mapping = outline_one_shot.build_outline_and_mapping(slides, course_metadata)\n",
        "\n",
        "print(outline.print_outline())"
      ]
    },
    {
      "cell_type": "code",
      "execution_count": 45,
      "metadata": {},
      "outputs": [
        {
          "name": "stdout",
          "output_type": "stream",
          "text": [
            "Section-to-Slides Mapping:\n",
            "============================================================\n",
            "\n",
            "[Root] SEC_1\n",
            "Title: Mécanismes généraux de la transcription\n",
            "Slides: 34 slide(s)\n",
            "Slide IDs: SL_003, SL_004, SL_005, SL_006, SL_007, SL_008, SL_009, SL_010, SL_011, SL_012, SL_013, SL_014, SL_015, SL_016, SL_017, SL_018, SL_019, SL_026, SL_027, SL_020, SL_021, SL_022, SL_023, SL_024, SL_025, SL_031, SL_032, SL_033, SL_034, SL_035, SL_036, SL_037, SL_038, SL_039\n",
            "\n",
            "  [Level 1] SEC_1.1\n",
            "  Title: Définitions et principes de la transcription (types d'ARN, différences ADN/ARN, sens de transcription)\n",
            "  Slides: 5 slide(s)\n",
            "  Slide IDs: SL_003, SL_004, SL_005, SL_006, SL_007\n",
            "\n",
            "  [Level 1] SEC_1.2\n",
            "  Title: Machinerie transcriptionnelle : ARN polymérases (mitochondriale et nucléaires) et classes de gènes\n",
            "  Slides: 8 slide(s)\n",
            "  Slide IDs: SL_008, SL_009, SL_010, SL_011, SL_012, SL_013, SL_014, SL_015\n",
            "\n",
            "  [Level 1] SEC_1.3\n",
            "  Title: Gènes de classe II : organisation et régulation (TSS, exons/introns, îlots CpG, méthylation)\n",
            "  Slides: 6 slide(s)\n",
            "  Slide IDs: SL_016, SL_017, SL_018, SL_019, SL_026, SL_027\n",
            "\n",
            "  [Level 1] SEC_1.4\n",
            "  Title: Initiation par ARN Pol II : promoteur minimum, facteurs généraux et formation du complexe de pré-initiation\n",
            "  Slides: 12 slide(s)\n",
            "  Slide IDs: SL_020, SL_021, SL_022, SL_023, SL_024, SL_025, SL_031, SL_032, SL_033, SL_034, SL_035, SL_036\n",
            "\n",
            "  [Level 1] SEC_1.5\n",
            "  Title: Transition initiation → élongation et élongation de la transcription (CTD, pauses, vitesse, proofreading)\n",
            "  Slides: 3 slide(s)\n",
            "  Slide IDs: SL_037, SL_038, SL_039\n",
            "\n",
            "[Root] SEC_2\n",
            "Title: Maturation des ARN chez les eucaryotes\n",
            "Slides: 22 slide(s)\n",
            "Slide IDs: SL_041, SL_043, SL_044, SL_045, SL_046, SL_049, SL_050, SL_053, SL_054, SL_055, SL_056, SL_057, SL_058, SL_059, SL_060, SL_061, SL_062, SL_063, SL_064, SL_065, SL_066, SL_067\n",
            "\n",
            "  [Level 1] SEC_2.1\n",
            "  Title: Modifications et maturation des pré-ARNm\n",
            "  Slides: 1 slide(s)\n",
            "  Slide IDs: SL_041\n",
            "\n",
            "    [Level 2] SEC_2.1.1\n",
            "    Title: Coiffage 5’ : formation et fonctions de la coiffe\n",
            "    Slides: 2 slide(s)\n",
            "    Slide IDs: SL_043, SL_044\n",
            "\n",
            "    [Level 2] SEC_2.1.2\n",
            "    Title: Épissage : sites consensus, mécanismes et couplage à la transcription\n",
            "    Slides: 6 slide(s)\n",
            "    Slide IDs: SL_045, SL_046, SL_049, SL_050, SL_053, SL_054\n",
            "\n",
            "    [Level 2] SEC_2.1.3\n",
            "    Title: Clivage 3’ et polyadénylation : signal AAUAAA, PAP, PABP\n",
            "    Slides: 3 slide(s)\n",
            "    Slide IDs: SL_055, SL_056, SL_057\n",
            "\n",
            "  [Level 1] SEC_2.2\n",
            "  Title: Terminaison de la transcription des pré-ARNm et conséquences pour la maturation\n",
            "  Slides: 2 slide(s)\n",
            "  Slide IDs: SL_058, SL_059\n",
            "\n",
            "    [Level 2] SEC_2.3.1\n",
            "    Title: Utilisation de promoteurs alternatifs\n",
            "    Slides: 3 slide(s)\n",
            "    Slide IDs: SL_060, SL_061, SL_062\n",
            "\n",
            "    [Level 2] SEC_2.3.2\n",
            "    Title: Épissage alternatif : production d'isoformes\n",
            "    Slides: 3 slide(s)\n",
            "    Slide IDs: SL_063, SL_064, SL_065\n",
            "\n",
            "    [Level 2] SEC_2.3.3\n",
            "    Title: Sites de clivage et polyadénylation alternatifs\n",
            "    Slides: 1 slide(s)\n",
            "    Slide IDs: SL_066\n",
            "\n",
            "    [Level 2] SEC_2.3.4\n",
            "    Title: Transcription par ARN Pol I et Pol III et maturation des ARNr/ARNt\n",
            "    Slides: 1 slide(s)\n",
            "    Slide IDs: SL_067\n",
            "\n",
            "[Root] SEC_3\n",
            "Title: Régulation de la transcription par l'ARN polymérase II\n",
            "Slides: 42 slide(s)\n",
            "Slide IDs: SL_069, SL_070, SL_071, SL_072, SL_073, SL_074, SL_075, SL_076, SL_077, SL_078, SL_079, SL_080, SL_081, SL_082, SL_083, SL_084, SL_085, SL_086, SL_087, SL_089, SL_090, SL_091, SL_092, SL_093, SL_094, SL_095, SL_096, SL_097, SL_098, SL_099, SL_100, SL_101, SL_102, SL_103, SL_104, SL_105, SL_106, SL_107, SL_108, SL_109, SL_110, SL_111\n",
            "\n",
            "    [Level 2] SEC_3.1.1\n",
            "    Title: Nucléosome : unité de base et protéines histones\n",
            "    Slides: 6 slide(s)\n",
            "    Slide IDs: SL_069, SL_070, SL_071, SL_072, SL_073, SL_074\n",
            "\n",
            "    [Level 2] SEC_3.1.2\n",
            "    Title: États de compaction : euchromatine vs hétérochromatine (constitutive / facultative)\n",
            "    Slides: 5 slide(s)\n",
            "    Slide IDs: SL_075, SL_076, SL_084, SL_085, SL_086\n",
            "\n",
            "    [Level 2] SEC_3.1.3\n",
            "    Title: Complexes de remodelage ATP‑dépendants (déplacement/éjection de nucléosomes)\n",
            "    Slides: 3 slide(s)\n",
            "    Slide IDs: SL_077, SL_078, SL_087\n",
            "\n",
            "    [Level 2] SEC_3.1.4\n",
            "    Title: Modifications post‑traductionnelles des histones et conséquences fonctionnelles (acétylation, méthylation, HP1…)\n",
            "    Slides: 5 slide(s)\n",
            "    Slide IDs: SL_079, SL_080, SL_081, SL_082, SL_083\n",
            "\n",
            "    [Level 2] SEC_3.2.1\n",
            "    Title: Pourquoi la transcription est‑elle régulée ? (développement, différenciation, réponses aux signaux)\n",
            "    Slides: 3 slide(s)\n",
            "    Slide IDs: SL_089, SL_090, SL_091\n",
            "\n",
            "    [Level 2] SEC_3.2.2\n",
            "    Title: Acteurs de la régulation : facteurs de transcription et séquences cis/trans (promoteurs, enhancers)\n",
            "    Slides: 3 slide(s)\n",
            "    Slide IDs: SL_092, SL_093, SL_094\n",
            "\n",
            "    [Level 2] SEC_3.2.3\n",
            "    Title: Liaison des FT à l'ADN : spécificité et domaines de liaison (Leucine zipper, bHLH, zinc‑finger…)\n",
            "    Slides: 6 slide(s)\n",
            "    Slide IDs: SL_095, SL_096, SL_097, SL_098, SL_099, SL_100\n",
            "\n",
            "    [Level 2] SEC_3.2.4\n",
            "    Title: Fixation coopérative et contrôle combinatoire des facteurs de transcription\n",
            "    Slides: 2 slide(s)\n",
            "    Slide IDs: SL_101, SL_102\n",
            "\n",
            "    [Level 2] SEC_3.2.5\n",
            "    Title: Modes d'action des FT : co‑activateurs, médiateur, remodelage chromatinien et looping enhancer‑promoteur\n",
            "    Slides: 6 slide(s)\n",
            "    Slide IDs: SL_103, SL_104, SL_105, SL_106, SL_107, SL_108\n",
            "\n",
            "    [Level 2] SEC_3.2.6\n",
            "    Title: Conclusions : intégration des signaux et régulation de l'activité des facteurs de transcription\n",
            "    Slides: 3 slide(s)\n",
            "    Slide IDs: SL_109, SL_110, SL_111\n"
          ]
        }
      ],
      "source": [
        "print(mapping.visualize_mapping(outline))"
      ]
    },
    {
      "cell_type": "markdown",
      "metadata": {},
      "source": [
        "# Single shot: Writing content from mapping and the outline"
      ]
    },
    {
      "cell_type": "code",
      "execution_count": 46,
      "metadata": {},
      "outputs": [
        {
          "data": {
            "text/plain": [
              "src.models.Content"
            ]
          },
          "execution_count": 46,
          "metadata": {},
          "output_type": "execute_result"
        }
      ],
      "source": [
        "outline_with_slides = outline.enrich_with_slides(slides=slides, mapping=mapping)\n",
        "writer = Writer()\n",
        "\n",
        "course = writer.write_course(enriched_content=outline_with_slides)\n",
        "\n",
        "type(course)"
      ]
    },
    {
      "cell_type": "markdown",
      "metadata": {},
      "source": [
        "# Store a course as a artifact that I can load again into Course"
      ]
    },
    {
      "cell_type": "code",
      "execution_count": 47,
      "metadata": {},
      "outputs": [
        {
          "data": {
            "text/plain": [
              "src.models.Content"
            ]
          },
          "execution_count": 47,
          "metadata": {},
          "output_type": "execute_result"
        }
      ],
      "source": [
        "type(course)"
      ]
    },
    {
      "cell_type": "code",
      "execution_count": 48,
      "metadata": {},
      "outputs": [
        {
          "name": "stdout",
          "output_type": "stream",
          "text": [
            "Course Content:\n",
            "============================================================\n",
            "\n",
            "[Root] ID: SEC_1\n",
            "Title: Mécanismes généraux de la transcription\n",
            "Content:\n",
            "  [1] Cette partie présente les principes essentiels de la transcription chez\n",
            "      les eucaryotes : définitions, machinerie enzymatique, organisation des\n",
            "      gènes et étapes clés (initiation, élongation, terminaison).\n",
            "  [2] • Définitions et types d'ARN (ARNm, ARNt, ARNr) et notion de pré-ARN et\n",
            "      maturation\n",
            "  [3] • ARN polymérases : Pol I, Pol II, Pol III (nucléaires) et POLRMT\n",
            "      (mitochondriale)\n",
            "  [4] • Organisation des gènes de classe II : TSS, promoteur minimum,\n",
            "      exons/introns, îlots CpG\n",
            "  [5] • Initiation par Pol II : facteurs généraux, assemblage du PIC, rôle du\n",
            "      TFIIH et phosphorylation du CTD\n",
            "  [6] • Transition initiation → élongation : pauses, kinases CDK7/CDK9, vitesse\n",
            "      et fidélité de l'élongation\n",
            "\n",
            "  [Level 1] ID: SEC_1.1\n",
            "  Title: Définitions et principes de la transcription (types d'ARN, différences ADN/ARN, sens de transcription)\n",
            "  Content:\n",
            "    [1] Définition : la transcription est la synthèse d'un ARN simple brin à\n",
            "        partir d'un ADN double brin ; elle se situe au cœur du dogme central ADN\n",
            "        → ARN → protéine.\n",
            "    [2] • ARNm : ARN messager, intermédiaire codant pour la synthèse protéique\n",
            "    [3] • ARNt : ARN de transfert, adapte les codons de l'ARNm aux acides aminés\n",
            "    [4] • ARNr : ARN ribosomique, composant structurel et fonctionnel des\n",
            "        ribosomes\n",
            "    [5] Un gène est un segment d'ADN permettant la synthèse d'un pré-ARN qui\n",
            "        sera ensuite maturé en ARN fonctionnel.\n",
            "    [6] • ARN vs ADN : l'ARN contient un ribose avec 2'-OH (plus labile),\n",
            "        utilise l'uracile au lieu de la thymine et est majoritairement simple\n",
            "        brin formant des structures secondaires (tiges-boucles).\n",
            "    [7] La transcription est orientée : l'ARN est synthétisé 5'→3' en copiant le\n",
            "        brin matriciel (lu 3'→5') ; le brin non-matriciel a la même séquence que\n",
            "        l'ARN (T → U).\n",
            "\n",
            "  [Level 1] ID: SEC_1.2\n",
            "  Title: Machinerie transcriptionnelle : ARN polymérases (mitochondriale et nucléaires) et classes de gènes\n",
            "  Content:\n",
            "    [1] Les ARN polymérases catalysent la synthèse d'ARN à partir d'un brin\n",
            "        matriciel d'ADN en formant des liaisons phosphodiester et en faisant\n",
            "        progresser une bulle transcriptionnelle.\n",
            "    [2] • Ouverture locale de l'ADN (bulle transcriptionnelle) ; appariement des\n",
            "        rNTPs sur le brin matriciel\n",
            "    [3] • Formation d'une liaison 3'→5' phosphodiester avec libération de\n",
            "        pyrophosphate (PPi)\n",
            "    [4] • Déplacement de la bulle en aval et réappariement des brins en amont ;\n",
            "        fin = dissociation et libération de l'ARN\n",
            "    [5] Points communs et différences avec les ADN polymérases :\n",
            "    [6] • Similitudes : catalyse d'une liaison 3'→5' par complémentarité de\n",
            "        bases, site actif positionnant l'extrémité 3' et les nucléotides\n",
            "    [7] • Différences : insertion de ribonucléotides, pas d'amorce requise,\n",
            "        synthèse d'un brin simple, l'ARN ne reste pas apparié longtemps et les\n",
            "        ARN pol ont une forte processivité\n",
            "    [8] Chez l'homme : transcription mitochondriale par POLRMT (polypeptide\n",
            "        unique codé nucléAire) produit les ARNr, ARNt et ARNm mitochondriaux.\n",
            "    [9] • POLRMT transcrit brin lourd (H) et brin léger (L) → pré-ARNs qui\n",
            "        seront clivés et maturés\n",
            "    [10] Trois ARN polymérases nucléaires (Pol I, Pol II, Pol III) responsables\n",
            "        de classes de gènes distinctes :\n",
            "    [11] • Pol I → pré-ARNr (45S → 28S, 18S, 5,8S) (très abondant)\n",
            "    [12] • Pol II → pré-ARNm et nombreux petits et grands ncRNA (snRNA, snoRNA,\n",
            "        miRNA, lncRNA)\n",
            "    [13] • Pol III → pré-ARNt, ARNr 5S, snRNA U6…\n",
            "    [14] Les Pol I/III produisent des transcrits très abondants (ARNr, ARNt) avec\n",
            "        des demi-vies longues ; Pol II transcrit la majorité des gènes codants\n",
            "        pour protéines et est finement régulée.\n",
            "\n",
            "  [Level 1] ID: SEC_1.3\n",
            "  Title: Gènes de classe II : organisation et régulation (TSS, exons/introns, îlots CpG, méthylation)\n",
            "  Content:\n",
            "    [1] Les gènes transcrits par Pol II (classe II) sont très nombreux et leur\n",
            "        expression est contrôlée de façon précise selon le type cellulaire et\n",
            "        les stimuli.\n",
            "    [2] • Gènes « housekeeping » : exprimés dans tous les types cellulaires pour\n",
            "        maintenir les fonctions de base\n",
            "    [3] • Gènes régulés : expression restreinte à certains tissus ou inductible\n",
            "        en réponse à des signaux\n",
            "    [4] Structure générale d'un gène de classe II : TSS, promoteur minimum,\n",
            "        exons et introns et signaux de maturation (site de polyadénylation).\n",
            "    [5] • Exons : séquences conservées dans l'ARNm mature (5' UTR, séquence\n",
            "        codante, 3' UTR)\n",
            "    [6] • Introns : séquences transcrites puis éliminées par épissage\n",
            "    [7] La méthylation des dinucléotides CpG (par DNMT) transforme la cytosine\n",
            "        en 5-méthyl-cytosine ; les CpG méthylés sont sujets à désamination et\n",
            "        mutent plus souvent en TpG, expliquant la raréfaction des CpG au cours\n",
            "        de l'évolution.\n",
            "    [8] • Îlots CpG : régions riches en CpG, souvent en 5' des gènes et\n",
            "        généralement non méthylées (sauf répressions stables comme le X inactif)\n",
            "\n",
            "  [Level 1] ID: SEC_1.4\n",
            "  Title: Initiation par ARN Pol II : promoteur minimum, facteurs généraux et formation du complexe de pré-initiation\n",
            "  Content:\n",
            "    [1] Les étapes principales de la transcription par Pol II sont l'initiation,\n",
            "        l'élongation et la terminaison ; la maturation des ARNm est souvent\n",
            "        couplée à ces étapes.\n",
            "    [2] • Initiation : fixation spécifique et orientée de Pol II sur le\n",
            "        promoteur\n",
            "    [3] • Élongation : synthèse de la chaîne d'ARN et modifications du CTD\n",
            "    [4] • Terminaison : arrêt, dissociation et libération de l'ARN naissant\n",
            "    [5] Pol II ne peut initier seule sur un promoteur minimum ; des facteurs\n",
            "        généraux de transcription (FGTs) sont requis pour la transcription\n",
            "        basale.\n",
            "    [6] • FGTs essentiels : TFIIA, TFIIB, TFIID, TFIIE, TFIIF, TFIIH\n",
            "    [7] Rôles des FGTs : reconnaissance du promoteur, recrutement et\n",
            "        positionnement de Pol II, ouverture de l'ADN et définition du site\n",
            "        d'initiation.\n",
            "    [8] Assemblage séquentiel du complexe de pré-initiation (PIC) :\n",
            "    [9] 1. TFIID (TBP + TAFs) se fixe en premier sur le promoteur (TBP peut\n",
            "        courber l'ADN).\n",
            "    [10] 2. TFIIA stabilise TBP ; TFIIB relie le promoteur à Pol II.\n",
            "    [11] 3. TFIIF arrive avec Pol II ; TFIIE et TFIIH complètent le PIC fermé.\n",
            "    [12] 4. TFIIH (XPB/XPD et CDK7) ouvre la double hélice et phosphoryle le CTD\n",
            "        → PIC ouvert puis départ du promoteur.\n",
            "    [13] Éléments de séquence du promoteur minimum (présents en combinaisons\n",
            "        variables) :\n",
            "    [14] • TATA box (fixation de TBP) — environ 20 % des promoteurs humains\n",
            "    [15] • Inr (Initiator) autour du TSS, reconnu par TFIID\n",
            "    [16] • BRE (élément de reconnaissance de TFIIB)\n",
            "    [17] • DPE (Downstream Promoter Element) reconnu par TFIID\n",
            "\n",
            "  [Level 1] ID: SEC_1.5\n",
            "  Title: Transition initiation → élongation et élongation de la transcription (CTD, pauses, vitesse, proofreading)\n",
            "  Content:\n",
            "    [1] Après le départ du promoteur, Pol II peut marquer une pause proximale\n",
            "        contrôlée avant d'entrer en élongation productive.\n",
            "    [2] • Pause proximal : facteurs DSIF et NELF induisent une pause ∼50\n",
            "        nucléotides en aval du TSS\n",
            "    [3] Le déclenchement de l'élongation productive implique le recrutement de\n",
            "        la kinase CDK9 (P-TEFb) et la phosphorylation du CTD de Pol II.\n",
            "    [4] • CDK9 phosphoryle la Ser2 du CTD et modifie DSIF/NELF (libération de\n",
            "        NELF ; DSIF phosphorylé devient facteur d'élongation)\n",
            "    [5] Le domaine CTD de la sous-unité RPB1 est une plateforme régulatrice :\n",
            "        phosphorylation en Ser5 (CDK7) pour l'initiation et en Ser2 (CDK9) pour\n",
            "        l'élongation permet le recrutement des complexes de maturation (coiffe,\n",
            "        épissage, polyadénylation).\n",
            "    [6] Vitesse et fidélité de l'élongation : Pol II transcrit à ≈ 3 kb/min (≈\n",
            "        50 nt/s) ; son activité de proofreading est moindre que celle des ADN\n",
            "        polymérases (taux d'erreur ≈ 10⁻⁴).\n",
            "\n",
            "[Root] ID: SEC_2\n",
            "Title: Maturation des ARN chez les eucaryotes\n",
            "Content:\n",
            "  [1] Les pré-ARNm eucaryotes subissent des modifications co-transcriptionnelles\n",
            "      essentielles : coiffage 5', épissage des introns et\n",
            "      clivage/polyadénylation 3'.\n",
            "  [2] • Ces étapes sont couplées à la phosphorylation du CTD de Pol II et se\n",
            "      déroulent dans le noyau\n",
            "  [3] • Elles déterminent la stabilité, l'export et la traductibilité des ARNm\n",
            "      (formation de mRNP)\n",
            "\n",
            "  [Level 1] ID: SEC_2.1\n",
            "  Title: Modifications et maturation des pré-ARNm\n",
            "  Content:\n",
            "    [1] Comparaison rapide : les ARNm procaryotes sont souvent polycistroniques\n",
            "        et non modifiés aux extrémités, alors que les ARNm eucaryotes sont\n",
            "        majoritairement monocistroniques et maturés en 5' et 3'.\n",
            "    [2] • Eucaryotes : coiffage 5', épissage, polyadénylation 3' → ARNm mature\n",
            "        lié par protéines spécifiques\n",
            "    [3] • Procaryotes : pas de coiffe ni de polyA majoritaire, translation\n",
            "        souvent couplée à la transcription\n",
            "\n",
            "    [Level 2] ID: SEC_2.1.1\n",
            "    Title: Coiffage 5’ : formation et fonctions de la coiffe\n",
            "    Content:\n",
            "      [1] La formation de la coiffe 5' est co-transcriptionnelle et dépend de\n",
            "          l'interaction des enzymes de coiffage avec le CTD de Pol II\n",
            "          phosphorylé en Ser5.\n",
            "      [2] 1. Phosphatase enlève un phosphate terminal 5' du pré-ARN\n",
            "      [3] 2. Guanyl transférase ajoute une GMP par une liaison 5'-5'\n",
            "          triphosphate (liaison inhabituelle)\n",
            "      [4] 3. Méthyltransférase méthyle la guanosine en 7-méthylguanosine (cap 0)\n",
            "          ; des méthylations des riboses suivants peuvent exister\n",
            "      [5] Rôles de la coiffe :\n",
            "      [6] • Protection contre les exonucléases 5' et stabilisation de l'ARNm\n",
            "      [7] • Recrutement du CBC (cap-binding complex) et facilitation de l'export\n",
            "          nucléaire\n",
            "      [8] • Rôle essentiel dans l'initiation de la traduction cytoplasmique\n",
            "\n",
            "    [Level 2] ID: SEC_2.1.2\n",
            "    Title: Épissage : sites consensus, mécanismes et couplage à la transcription\n",
            "    Content:\n",
            "      [1] L'épissage élimine les introns et rejoint les exons pour produire\n",
            "          l'ARNm mature ; la réaction est catalysée par le spliceosome, un grand\n",
            "          complexe d'ARN-protéines.\n",
            "      [2] • Exons : conservés dans l'ARNm mature ; Introns : excisés\n",
            "      [3] Chez les mammifères la plupart des gènes codants contiennent plusieurs\n",
            "          introns et exons, avec des tailles très variables.\n",
            "      [4] Sites consensus et éléments clés :\n",
            "      [5] • Donneur d'épissage (5' de l'intron) → motif GT presque invariant\n",
            "      [6] • Accepteur d'épissage (3' de l'intron) → motif AG presque invariant\n",
            "      [7] • Site de branchement ≈ 20 nt en amont du site accepteur\n",
            "      [8] Précision et mécanisme :\n",
            "      [9] • Le spliceosome (snRNPs U1, U2, U4/U6, U5) réalise deux réactions de\n",
            "          transestérification successives après réarrangements\n",
            "      [10] • L'épissage est couplé à la transcription : certaines snRNPs sont\n",
            "          recrutées via le CTD Ser2P et se fixent sur le pré-ARNm au fur et à\n",
            "          mesure de sa sortie de Pol II\n",
            "\n",
            "    [Level 2] ID: SEC_2.1.3\n",
            "    Title: Clivage 3’ et polyadénylation : signal AAUAAA, PAP, PABP\n",
            "    Content:\n",
            "      [1] La terminaison de la transcription par Pol II est couplée au clivage\n",
            "          3' du pré-ARNm et à l'ajout d'une queue poly(A) qui n'est pas codée\n",
            "          dans le génome.\n",
            "      [2] • Signal de polyadénylation : séquence consensus AAUAAA dans le\n",
            "          transcrit\n",
            "      [3] • Complexes CPSF et CstF, associés au CTD Ser2P, reconnaissent le\n",
            "          signal et déterminent le site de clivage (≈ 10–30 nt en aval)\n",
            "      [4] Après clivage :\n",
            "      [5] • PAP (polyA polymerase) ajoute ≈ 200 adénosines en bout 3' sans\n",
            "          matrice d'ADN\n",
            "      [6] • PABP (polyA-binding proteins) se lient au polyA\n",
            "      [7] Fonctions de la queue polyA et des protéines associées :\n",
            "      [8] • Stabilisation de l'ARNm, facilitation de l'export cytoplasmique et\n",
            "          implication dans la traduction\n",
            "\n",
            "  [Level 1] ID: SEC_2.2\n",
            "  Title: Terminaison de la transcription des pré-ARNm et conséquences pour la maturation\n",
            "  Content:\n",
            "    [1] La terminaison par Pol II intervient après le clivage 3' : Pol II\n",
            "        continue souvent à transcrire en aval du site de clivage jusqu'à sa\n",
            "        dissociation.\n",
            "    [2] • Après clivage, le fragment 5' restant (non coiffé) est dégradé par une\n",
            "        exonucléase 5' → défaillance de la « queue » favorise la libération de\n",
            "        Pol II\n",
            "    [3] Conséquences pratiques :\n",
            "    [4] • Tous les ARNm matures ont une coiffe 5' et, sauf exceptions, une queue\n",
            "        polyA 3'\n",
            "    [5] • Les ARNm matures sont assemblés en mRNP : CBC en 5', EJC aux jonctions\n",
            "        exon-exon, PABP en 3' et d'autres protéines favorisant liaison au pore\n",
            "        nucléaire (NPC) pour export\n",
            "    [6] Toutes ces étapes ont lieu dans le noyau avant export vers le cytoplasme\n",
            "        où s'effectue la traduction.\n",
            "\n",
            "  [Level 1] ID: SEC_2.3\n",
            "  Title: Diversification du protéome (promoteurs alternatifs, épissage alternatif, polyadénylation alternative)\n",
            "  Content:\n",
            "    [1] Un gène peut donner plusieurs protéines (isoformes) par l'utilisation de\n",
            "        promoteurs alternatifs, d'épissage alternatif et de sites de\n",
            "        polyadénylation alternatifs.\n",
            "    [2] • Ces mécanismes augmentent la diversité protéique sans augmenter le\n",
            "        nombre de gènes\n",
            "    [3] • Ils permettent une régulation spatiale et temporelle fine de\n",
            "        l'expression protéique\n",
            "\n",
            "    [Level 2] ID: SEC_2.3.1\n",
            "    Title: Utilisation de promoteurs alternatifs\n",
            "    Content:\n",
            "      [1] Certains gènes possèdent plusieurs promoteurs alternatifs, chacun avec\n",
            "          son TSS et souvent un premier exon distinct.\n",
            "      [2] • L'utilisation d'un promoteur alternatif peut être spécifique d'un\n",
            "          tissu ou d'un état physiologique\n",
            "      [3] • Permet de générer des transcrits ayant des 5' UTR et parfois des\n",
            "          codages différents, modulant la régulation et la fonction protéique\n",
            "\n",
            "    [Level 2] ID: SEC_2.3.2\n",
            "    Title: Épissage alternatif : production d'isoformes\n",
            "    Content:\n",
            "      [1] L'épissage alternatif permet l'inclusion ou l'exclusion d'exons et\n",
            "          l'utilisation de sites donneurs/accepteurs alternatifs pour générer\n",
            "          plusieurs ARNm à partir d'un même gène.\n",
            "      [2] • Types courants : exon skipping (exon inclus/exclu), sites donneurs\n",
            "          ou accepteurs alternatifs, intron retention moins fréquent\n",
            "      [3] • Mode : constitutif (plusieurs transcrits produits en continu) ou\n",
            "          régulé (tissu- ou développement-spécifique) → source majeure de\n",
            "          diversité fonctionnelle\n",
            "\n",
            "    [Level 2] ID: SEC_2.3.3\n",
            "    Title: Sites de clivage et polyadénylation alternatifs\n",
            "    Content:\n",
            "      [1] L'utilisation de sites de polyadénylation alternatifs modifie la\n",
            "          longueur de la région 3' UTR ou, parfois, la région codante\n",
            "          C-terminale de la protéine.\n",
            "      [2] • Conséquences : régulation post-transcriptionnelle différente\n",
            "          (stabilité, localisation, traduction) et isoformes protéiques\n",
            "          distinctes selon le tissu\n",
            "\n",
            "    [Level 2] ID: SEC_2.3.4\n",
            "    Title: Transcription par ARN Pol I et Pol III et maturation des ARNr/ARNt\n",
            "    Content:\n",
            "      [1] Les promoteurs et les facteurs généraux pour Pol I et Pol III\n",
            "          diffèrent de ceux de Pol II ; TBP intervient néanmoins comme facteur\n",
            "          commun dans les trois systèmes.\n",
            "      [2] • Pol I : transcription des pré-ARNr (maturation par clivages et\n",
            "          modifications), réalisée dans le nucléole\n",
            "      [3] • Pol III : transcription des ARNt et ARNr 5S ; ARN maturés par\n",
            "          clivage et modifications\n",
            "      [4] La maturation des pré-ARNr implique des snoRNPs (ARNs petits\n",
            "          nucléolaires associés à des protéines) qui guident les modifications\n",
            "          chimiques et les clivages.\n",
            "\n",
            "[Root] ID: SEC_3\n",
            "Title: Régulation de la transcription par l'ARN polymérase II\n",
            "Content:\n",
            "  [1] La transcription par Pol II est fortement contrôlée au niveau de la\n",
            "      chromatine, de la fixation des facteurs de transcription (FT) et par le\n",
            "      recrutement de cofacteurs adaptateurs et de complexes remodelants.\n",
            "  [2] • L'accessibilité de l'ADN dépend de la position des nucléosomes et des\n",
            "      marques d'histones\n",
            "  [3] • Les FT lisent les séquences cis-régulatrices et recrutent coactivateurs\n",
            "      et complexes qui ouvrent la chromatine et favorisent le PIC\n",
            "\n",
            "  [Level 1] ID: SEC_3.1\n",
            "  Title: Structure et remodélisation de la chromatine\n",
            "  Content:\n",
            "    [1] L'état de compaction de la chromatine conditionne l'accès des facteurs\n",
            "        de transcription et de la machinerie transcriptionnelle aux séquences\n",
            "        d'ADN.\n",
            "\n",
            "    [Level 2] ID: SEC_3.1.1\n",
            "    Title: Nucléosome : unité de base et protéines histones\n",
            "    Content:\n",
            "      [1] La chromatine est composée d'ADN associé aux histones ; le nucléosome\n",
            "          est l'unité de base où ≈147 pb d'ADN s'enroulent autour d'un octamère\n",
            "          d'histones (2 × H2A, H2B, H3, H4).\n",
            "      [2] • Entre nucléosomes : ADN linker variable (quelques à ≈80 pb)\n",
            "      [3] • Les histones ont une queue N-terminale exposée et un 'histone fold'\n",
            "          qui organise l'octamère\n",
            "      [4] • Une cellule humaine contient des dizaines de millions de nucléosomes\n",
            "          (≈ 1 nucléosome tous les ≈200 pb)\n",
            "\n",
            "    [Level 2] ID: SEC_3.1.2\n",
            "    Title: États de compaction : euchromatine vs hétérochromatine (constitutive / facultative)\n",
            "    Content:\n",
            "      [1] Deux grands états : euchromatine (ouverte, riche en gènes exprimés) et\n",
            "          hétérochromatine (condensée, pauvre en expression).\n",
            "      [2] • Hétérochromatine constitutive : régions inactives dans toutes les\n",
            "          cellules (télomères, centromères)\n",
            "      [3] • Hétérochromatine facultative : répression réversible (p.ex. X\n",
            "          inactivation) ; peut être activée selon le contexte\n",
            "\n",
            "    [Level 2] ID: SEC_3.1.3\n",
            "    Title: Complexes de remodelage ATP‑dépendants (déplacement/éjection de nucléosomes)\n",
            "    Content:\n",
            "      [1] Des complexes multi‑protéiques ATP‑dépendants modifient la position\n",
            "          des nucléosomes ou éjectent des dimères histones pour rendre l'ADN\n",
            "          accessible.\n",
            "      [2] • Ils utilisent l'énergie de l'ATP pour transloquer l'ADN autour de\n",
            "          l'octamère ou pour retirer un dimère H2A–H2B\n",
            "      [3] • Leur activité est régulée localement pour ouvrir des régions\n",
            "          promotrices ou enhancer\n",
            "\n",
            "    [Level 2] ID: SEC_3.1.4\n",
            "    Title: Modifications post‑traductionnelles des histones et conséquences fonctionnelles (acétylation, méthylation, HP1…)\n",
            "    Content:\n",
            "      [1] Les queues N‑terminales des histones subissent de nombreuses\n",
            "          modifications réversibles (acétylation, méthylation, phosphorylation…)\n",
            "          qui constituent des « marques » influençant l'accessibilité\n",
            "          chromatinienne.\n",
            "      [2] • Acétylation des lysines (HAT) : neutralise la charge positive,\n",
            "          favorise ouverture de la chromatine et transcription active\n",
            "      [3] • Méthylation des lysines (HMT) : effet dépend du site et du degré\n",
            "          (ex. H3K4me3 associé à promoteurs actifs ; H3K9me3 associé à\n",
            "          hétérochromatine constitutive)\n",
            "      [4] • Des protéines reconnaissent ces marques : ex. HP1 se lie à H3K9me3\n",
            "          via un chromodomaine et favorise la compaction et la propagation de\n",
            "          l'hétérochromatine\n",
            "      [5] Les marques sont déposées et enlevées par des enzymes spécifiques\n",
            "          (HAT/HDAC, HMT/déméthylases) et guident le recrutement d'autres\n",
            "          complexes (remodelers, médiateur, complexes d'assemblage du PIC).\n",
            "\n",
            "    [Level 2] ID: SEC_3.1.5\n",
            "    Title: Résumé : facteurs contrôlant les différents états de compaction de chromatine\n",
            "    Content:\n",
            "      [1] Deux états fonctionnels : chromatine fermée (condensée, répressive) vs\n",
            "          chromatine ouverte (accessible, active).\n",
            "      [2] • Transition vers chromatine ouverte : acétylation des histones,\n",
            "          repositionnement/éviction des nucléosomes par remodelers\n",
            "      [3] • Transition vers chromatine fermée : déacétylation, dépôt de marques\n",
            "          répressives (ex. H3K9me3) et recrutement de facteurs compacts (ex.\n",
            "          HP1)\n",
            "\n",
            "  [Level 1] ID: SEC_3.2\n",
            "  Title: Contrôle de l'expression des gènes : facteurs de transcription et séquences régulatrices\n",
            "  Content:\n",
            "    [1] La régulation transcriptionnelle par Pol II résulte de l'intégration\n",
            "        d'informations codées par les séquences cis (promoteurs, enhancers) et\n",
            "        par la disponibilité/activité des facteurs de transcription (trans).\n",
            "    [2] • Objectif : définir quels gènes sont exprimés, quand et à quel niveau\n",
            "        dans chaque cellule\n",
            "\n",
            "    [Level 2] ID: SEC_3.2.1\n",
            "    Title: Pourquoi la transcription est‑elle régulée ? (développement, différenciation, réponses aux signaux)\n",
            "    Content:\n",
            "      [1] La régulation transcriptionnelle met en place les programmes\n",
            "          d'expression spécifiques du développement et de la différenciation, et\n",
            "          permet aux cellules de répondre aux signaux et variations\n",
            "          environnementales.\n",
            "      [2] • Elle se concentre principalement au niveau de l'initiation\n",
            "          (fréquence des recrutements de Pol II) mais intervient aussi à\n",
            "          l'élongation, maturité et export\n",
            "      [3] • La combinaison de FT exprimés et actifs dans une cellule détermine\n",
            "          son profil d'expression\n",
            "\n",
            "    [Level 2] ID: SEC_3.2.2\n",
            "    Title: Acteurs de la régulation : facteurs de transcription et séquences cis/trans (promoteurs, enhancers)\n",
            "    Content:\n",
            "      [1] Les facteurs de transcription (FT) sont des protéines qui\n",
            "          reconnaissent des séquences courtes en cis et recrutent coactivateurs\n",
            "          ou corépresseurs.\n",
            "      [2] • Séquences cis : promoteurs proximaux (près du TSS) et enhancers\n",
            "          distaux (peuvent agir à distance)\n",
            "      [3] • Facteurs en trans : protéines codées ailleurs dans le génome,\n",
            "          capables de réguler plusieurs gènes via leurs sites de liaison\n",
            "\n",
            "    [Level 2] ID: SEC_3.2.3\n",
            "    Title: Liaison des FT à l'ADN : spécificité et domaines de liaison (Leucine zipper, bHLH, zinc‑finger…)\n",
            "    Content:\n",
            "      [1] Les FT lisent les paires de bases via des interactions\n",
            "          hydrogène/hydrophobes principalement dans le grand sillon de l'ADN ;\n",
            "          chaque FT reconnaît un motif préféré (5–10 pb).\n",
            "      [2] Domaines de liaison à l'ADN fréquents :\n",
            "      [3] • Leucine zipper (zipper à leucines) : dimérisation par hélices α et\n",
            "          région basique qui interagit avec l'ADN\n",
            "      [4] • Hélice-boucle-hélice basique (bHLH) : domaine basique pour la\n",
            "          liaison + dimerisation par hélices\n",
            "      [5] • Doigt de zinc (Zn finger) : petit motif stabilisé par Zn; plusieurs\n",
            "          doigts forment des interactions séquentielles avec l'ADN\n",
            "\n",
            "    [Level 2] ID: SEC_3.2.4\n",
            "    Title: Fixation coopérative et contrôle combinatoire des facteurs de transcription\n",
            "    Content:\n",
            "      [1] La fixation coopérative (dimérisation, interactions\n",
            "          protéines‑protéines) et la combinaison de nombreux FT sur un même\n",
            "          enhancer expliquent la grande spécificité du contrôle\n",
            "          transcriptionnel.\n",
            "      [2] • De multiples sites faibles proches peuvent conférer une forte\n",
            "          affinité globale par coopération\n",
            "      [3] • Chaque gène est contrôlé par une combinaison unique de FT,\n",
            "          expliquant la diversité des programmes d'expression\n",
            "\n",
            "    [Level 2] ID: SEC_3.2.5\n",
            "    Title: Modes d'action des FT : co‑activateurs, médiateur, remodelage chromatinien et looping enhancer‑promoteur\n",
            "    Content:\n",
            "      [1] Les activateurs n'agissent pas directement sur Pol II mais recrutent\n",
            "          des co-activateurs (remodelers, HAT, médiateur) qui facilitent\n",
            "          l'assemblage du PIC et l'ouverture de la chromatine.\n",
            "      [2] • Complexes remodelants : déplacent ou éjectent des nucléosomes pour\n",
            "          exposer le promoteur\n",
            "      [3] • Complexes modifiant les histones (HAT, HMT) déposent des marques\n",
            "          favorables à l'activation (ex. H3K4me3, acétylations H3/H4)\n",
            "      [4] • Médiateur : complexe adaptateur multi-sous-unités reliant\n",
            "          activateurs liés à l'enhancer à Pol II et aux FGTs\n",
            "      [5] • Looping (bouclage) : l'enhancer et le promoteur entrent en contact\n",
            "          physique, rapprochant coactivateurs et PIC pour stimuler l'initiation\n",
            "\n",
            "    [Level 2] ID: SEC_3.2.6\n",
            "    Title: Conclusions : intégration des signaux et régulation de l'activité des facteurs de transcription\n",
            "    Content:\n",
            "      [1] Le contrôle transcriptionnel est la somme d'une architecture cis\n",
            "          (motifs, enhancers), d'un contexte chromatinien et de l'état\n",
            "          d'activité/expression des FT.\n",
            "      [2] • Un FT peut agir sur de nombreux gènes (multiplicité des sites de\n",
            "          liaison) ; la plupart des gènes sont contrôlés par plusieurs FT\n",
            "      [3] • L'activité des FT est régulée par leur expression, modifications\n",
            "          post‑traductionnelles et voies de signalisation ; cela permet aux\n",
            "          cellules d'intégrer des signaux et d'ajuster rapidement l'expression\n",
            "          génique\n"
          ]
        }
      ],
      "source": [
        "print(course.print_content())"
      ]
    },
    {
      "cell_type": "code",
      "execution_count": 49,
      "metadata": {},
      "outputs": [
        {
          "name": "stdout",
          "output_type": "stream",
          "text": [
            "❌ Error creating course: 1 validation error for Course\n",
            "content\n",
            "  Input should be a valid dictionary or instance of Content [type=model_type, input_value=Content(sections=[Content... 'SL_110', 'SL_111'])])), input_type=Content]\n",
            "    For further information visit https://errors.pydantic.dev/2.11/v/model_type\n",
            "✅ Course created successfully (alternative method)!\n"
          ]
        }
      ],
      "source": [
        "try:\n",
        "    pilot_course = Course(\n",
        "        name=course_metadata.name or course_metadata.course_title,\n",
        "        course_title=course_metadata.course_title,\n",
        "        level=course_metadata.level,\n",
        "        block=course_metadata.block,\n",
        "        semester=course_metadata.semester,\n",
        "        subject=course_metadata.subject,\n",
        "        chapter=course_metadata.chapter,\n",
        "        content=course,  # Direct assignment should work\n",
        "    )\n",
        "    \n",
        "    print(\"✅ Course created successfully!\")\n",
        "    \n",
        "except Exception as e:\n",
        "    print(f\"❌ Error creating course: {e}\")\n",
        "    \n",
        "    # Alternative approach - create Course without content first, then assign\n",
        "    try:\n",
        "        pilot_course = Course(\n",
        "            name=course_metadata.name or course_metadata.course_title,\n",
        "            course_title=course_metadata.course_title,\n",
        "            level=course_metadata.level,\n",
        "            block=course_metadata.block,\n",
        "            semester=course_metadata.semester,\n",
        "            subject=course_metadata.subject,\n",
        "            chapter=course_metadata.chapter,\n",
        "            # content=None by default\n",
        "        )\n",
        "        \n",
        "        # Assign content directly after creation\n",
        "        pilot_course.content = course\n",
        "        \n",
        "        print(\"✅ Course created successfully (alternative method)!\")\n",
        "        \n",
        "    except Exception as e2:\n",
        "        print(f\"❌ Alternative method also failed: {e2}\")\n",
        "        \n",
        "        # Last resort - recreate Content from dict\n",
        "        try:\n",
        "            course_dict = course.model_dump()\n",
        "            fresh_content = Content.model_validate(course_dict)\n",
        "            \n",
        "            pilot_course = Course(\n",
        "                name=course_metadata.name or course_metadata.course_title,\n",
        "                course_title=course_metadata.course_title,\n",
        "                level=course_metadata.level,\n",
        "                block=course_metadata.block,\n",
        "                semester=course_metadata.semester,\n",
        "                subject=course_metadata.subject,\n",
        "                chapter=course_metadata.chapter,\n",
        "                content=fresh_content,\n",
        "            )\n",
        "            \n",
        "            print(\"✅ Course created successfully (fresh content method)!\")\n",
        "            \n",
        "        except Exception as e3:\n",
        "            print(f\"❌ All methods failed: {e3}\")"
      ]
    },
    {
      "cell_type": "code",
      "execution_count": 50,
      "metadata": {},
      "outputs": [
        {
          "name": "stdout",
          "output_type": "stream",
          "text": [
            "Course: Transcription, maturation et régulation de l'ADN\n",
            "Level: L1\n",
            "Block: SANTE\n",
            "Semester: S1\n",
            "Subject: UE2 - Les molécules du vivant\n",
            "Chapter: 5\n",
            "\n",
            "\n",
            "Course Outline:\n",
            "==================================================\n",
            "Mécanismes généraux de la transcription\n",
            "  Définitions et principes de la transcription (types d'ARN, différences ADN/ARN, sens de transcription)\n",
            "  Machinerie transcriptionnelle : ARN polymérases (mitochondriale et nucléaires) et classes de gènes\n",
            "  Gènes de classe II : organisation et régulation (TSS, exons/introns, îlots CpG, méthylation)\n",
            "  Initiation par ARN Pol II : promoteur minimum, facteurs généraux et formation du complexe de pré-initiation\n",
            "  Transition initiation → élongation et élongation de la transcription (CTD, pauses, vitesse, proofreading)\n",
            "Maturation des ARN chez les eucaryotes\n",
            "  Modifications et maturation des pré-ARNm\n",
            "    Coiffage 5’ : formation et fonctions de la coiffe\n",
            "    Épissage : sites consensus, mécanismes et couplage à la transcription\n",
            "    Clivage 3’ et polyadénylation : signal AAUAAA, PAP, PABP\n",
            "  Terminaison de la transcription des pré-ARNm et conséquences pour la maturation\n",
            "  Diversification du protéome (promoteurs alternatifs, épissage alternatif, polyadénylation alternative)\n",
            "    Utilisation de promoteurs alternatifs\n",
            "    Épissage alternatif : production d'isoformes\n",
            "    Sites de clivage et polyadénylation alternatifs\n",
            "    Transcription par ARN Pol I et Pol III et maturation des ARNr/ARNt\n",
            "Régulation de la transcription par l'ARN polymérase II\n",
            "  Structure et remodélisation de la chromatine\n",
            "    Nucléosome : unité de base et protéines histones\n",
            "    États de compaction : euchromatine vs hétérochromatine (constitutive / facultative)\n",
            "    Complexes de remodelage ATP‑dépendants (déplacement/éjection de nucléosomes)\n",
            "    Modifications post‑traductionnelles des histones et conséquences fonctionnelles (acétylation, méthylation, HP1…)\n",
            "    Résumé : facteurs contrôlant les différents états de compaction de chromatine\n",
            "  Contrôle de l'expression des gènes : facteurs de transcription et séquences régulatrices\n",
            "    Pourquoi la transcription est‑elle régulée ? (développement, différenciation, réponses aux signaux)\n",
            "    Acteurs de la régulation : facteurs de transcription et séquences cis/trans (promoteurs, enhancers)\n",
            "    Liaison des FT à l'ADN : spécificité et domaines de liaison (Leucine zipper, bHLH, zinc‑finger…)\n",
            "    Fixation coopérative et contrôle combinatoire des facteurs de transcription\n",
            "    Modes d'action des FT : co‑activateurs, médiateur, remodelage chromatinien et looping enhancer‑promoteur\n",
            "    Conclusions : intégration des signaux et régulation de l'activité des facteurs de transcription\n"
          ]
        }
      ],
      "source": [
        "print(pilot_course.print_outline())"
      ]
    },
    {
      "cell_type": "code",
      "execution_count": 51,
      "metadata": {},
      "outputs": [
        {
          "name": "stdout",
          "output_type": "stream",
          "text": [
            "💾 Course saved to: volume/artifacts/json/transcription,_maturation_et_régulation_de_l'adn_20250821_093019.json\n"
          ]
        },
        {
          "data": {
            "text/plain": [
              "\"volume/artifacts/json/transcription,_maturation_et_régulation_de_l'adn_20250821_093019.json\""
            ]
          },
          "execution_count": 51,
          "metadata": {},
          "output_type": "execute_result"
        }
      ],
      "source": [
        "pilot_course.save_to_json(output_path=\"volume/artifacts/json\")"
      ]
    },
    {
      "cell_type": "code",
      "execution_count": 38,
      "metadata": {},
      "outputs": [
        {
          "name": "stdout",
          "output_type": "stream",
          "text": [
            "📄 Course exported to DOCX: volume/artifacts/docx/Chapitre_6_code_genetique_et_traduction.docx\n"
          ]
        },
        {
          "data": {
            "text/plain": [
              "'volume/artifacts/docx/Chapitre_6_code_genetique_et_traduction.docx'"
            ]
          },
          "execution_count": 38,
          "metadata": {},
          "output_type": "execute_result"
        }
      ],
      "source": [
        "pilot_course.to_docx(output_path=\"volume/artifacts/docx\", template_path=\"volume/templates/fs_template.docx\")"
      ]
    },
    {
      "cell_type": "code",
      "execution_count": 32,
      "metadata": {},
      "outputs": [
        {
          "name": "stdout",
          "output_type": "stream",
          "text": [
            "Type: <class 'src.models.Content'>\n",
            "Is Content? True\n",
            "Sections type: <class 'list'>\n",
            "First section type: <class 'src.models.ContentSection'>\n",
            "First section: id='SEC_1' title='Présentation du module et plan du cours' content=[\"Ce module porte sur l'organisation du génome humain et sur les méthodes biotechnologiques permettant de le caractériser et de l'analyser. Il vise à donner une vision intégrée de la composition, de l'architecture et de la dynamique des génomes, ainsi que des conséquences fonctionnelles et médicales des variations génomiques.\", \"Le plan du cours présente successivement une introduction aux concepts évolutifs et aux organismes modèles, les notions fondamentales de génétique moléculaire, la description du génome humain (nucléaire et mitochondrial), le projet de séquençage, l'architecture globale du génome, la description des éléments constitutifs (gènes codants et non codants, pseudogènes, éléments répétés), la comparaison intergénomique, les différents types de variations et leurs conséquences, la variabilité du génome humain et, enfin, les notions essentielles et mécanismes de l'évolution des génomes.\", \"Les objectifs pédagogiques incluent la compréhension des éléments structuraux et fonctionnels du génome, la capacité à interpréter les résultats de cartographie et de séquençage, et l'aptitude à appréhender les mécanismes évolutifs et les types de variations qui façonnent la diversité génomique. Le cours associera présentations conceptuelles et introduction aux outils d'exploration des données génomiques.\"] subsections=[]\n",
            "Content class: <class 'src.models.Content'>\n",
            "fresh_content's content class: src.models.Content\n"
          ]
        }
      ],
      "source": [
        "# Check what's actually in your fresh_content variable\n",
        "print(f\"Type: {type(fresh_content)}\")\n",
        "print(f\"Is Content? {isinstance(fresh_content, Content)}\")\n",
        "\n",
        "# Check the sections\n",
        "if hasattr(fresh_content, 'sections'):\n",
        "    print(f\"Sections type: {type(fresh_content.sections)}\")\n",
        "    if fresh_content.sections:\n",
        "        print(f\"First section type: {type(fresh_content.sections[0])}\")\n",
        "        print(f\"First section: {fresh_content.sections[0]}\")\n",
        "else:\n",
        "    print(\"No sections attribute\")\n",
        "\n",
        "# Check if it's the right Content class\n",
        "print(f\"Content class: {Content}\")\n",
        "print(f\"fresh_content's content class: {type(fresh_content).__module__}.{type(fresh_content).__name__}\")"
      ]
    },
    {
      "cell_type": "markdown",
      "metadata": {},
      "source": [
        "# Two-shots"
      ]
    },
    {
      "cell_type": "markdown",
      "metadata": {},
      "source": [
        "# Two-shots"
      ]
    },
    {
      "cell_type": "markdown",
      "metadata": {},
      "source": [
        "## Plan from page\n",
        "\n",
        "Extract plan text from PDF for Branch A (two-pass approach)\n"
      ]
    },
    {
      "cell_type": "markdown",
      "metadata": {},
      "source": [
        "## Extract the slides"
      ]
    },
    {
      "cell_type": "code",
      "execution_count": 70,
      "metadata": {},
      "outputs": [
        {
          "name": "stdout",
          "output_type": "stream",
          "text": [
            "2025-08-18 10:12:25,875 [DEBUG] src.data_extraction.slides_extractor: Starting slide extraction from ./volume/slides/cours_1.pdf\n",
            "2025-08-18 10:12:25,924 [DEBUG] src.data_extraction.slides_extractor: PDF opened, found 111 pages\n",
            "2025-08-18 10:12:26,844 [WARNING] pdfminer.pdfinterp: Cannot set gray non-stroke color because /'P412' is an invalid float value\n",
            "2025-08-18 10:12:26,845 [WARNING] pdfminer.pdfinterp: Cannot set gray non-stroke color because /'P414' is an invalid float value\n",
            "2025-08-18 10:12:26,861 [WARNING] pdfminer.pdfinterp: Cannot set gray non-stroke color because /'P444' is an invalid float value\n",
            "2025-08-18 10:12:26,876 [WARNING] pdfminer.pdfinterp: Cannot set gray non-stroke color because /'P451' is an invalid float value\n",
            "2025-08-18 10:12:26,877 [WARNING] pdfminer.pdfinterp: Cannot set gray non-stroke color because /'P455' is an invalid float value\n",
            "2025-08-18 10:12:26,894 [WARNING] pdfminer.pdfinterp: Cannot set gray non-stroke color because /'P465' is an invalid float value\n",
            "2025-08-18 10:12:26,895 [WARNING] pdfminer.pdfinterp: Cannot set gray non-stroke color because /'P467' is an invalid float value\n",
            "2025-08-18 10:12:26,915 [WARNING] pdfminer.pdfinterp: Cannot set gray non-stroke color because /'P482' is an invalid float value\n",
            "2025-08-18 10:12:26,923 [WARNING] pdfminer.pdfinterp: Cannot set gray non-stroke color because /'P488' is an invalid float value\n",
            "2025-08-18 10:12:27,073 [DEBUG] src.data_extraction.slides_extractor: Successfully extracted 110 slides\n"
          ]
        },
        {
          "data": {
            "text/plain": [
              "[Slides(id='SL_001', title='7.1 Architecture du génome', content='L1SpS: UE 2 Les molécules du vivant\\nU.E.2 Les molécules du vivant\\n7. Organisation du génome humain, méthodes en\\nbiotechnologie\\n7.1 Architecture du génome\\nhumain\\nJean Muller\\nLaboratoire Diagnostic Génétique (HUS)\\nLaboratoire de Génétique médicale (Inserm U1112)\\njeanmuller@unistra.fr'),\n",
              " Slides(id='SL_002', title='Plan du cours', content='L1SpS: UE 2 Les molécules du vivant\\nPlan du cours\\n• Introduction\\n• Notions fondamentales\\n• Le génome humain\\n• Projet de séquençage\\n• Architecture globale\\n• Génome mitochondrial\\n• Génome nucléaire\\n• Description des principaux éléments constituants\\n• Gènes (codants et non-codants), pseudogènes et éléments répétés\\n• Comparaison aux autres génomes\\n• Les types de variations du génome humain et leurs conséquences\\n• La variabilité du génome humain\\n• Evolution des génomes: notions essentielles, mécanismes\\n2'),\n",
              " Slides(id='SL_003', title='Introduction', content='L1SpS: UE 2 Les molécules du vivant\\nIntroduction\\n3'),\n",
              " Slides(id='SL_004', title='L’arbre de la vie', content='L1SpS: UE 2 Les molécules du vivant\\nL’arbre de la vie\\nNotions essentielles:\\n• Evolution\\n• Temps\\n• Adaptation\\n• Sélection\\nLUCA\\nLast Universal Common Ancestor\\n4'),\n",
              " Slides(id='SL_005', title='Arbre des eucaryotes', content='L1SpS: UE 2 Les molécules du vivant\\nArbre des eucaryotes\\nChoix d’organismes modèles\\n• Intérêt(s) économique(s)\\n• Intérêt(s) technique(s)\\n• Facilités hébergement,\\n• Développement embryonnaire/temps\\nde génération\\n• Partage d’éléments communs (ADN)\\n• Hérités/Transmis\\n35 eucaryotes\\n18 métazoaires\\n5')]"
            ]
          },
          "execution_count": 70,
          "metadata": {},
          "output_type": "execute_result"
        }
      ],
      "source": [
        "pdf_path = './volume/slides/cours_1.pdf'\n",
        "plan_path = './volume/slides/cours_4_plan.pdf'\n",
        "\n",
        "extractor = SlidesExtractor()\n",
        "\n",
        "slides = extractor.extract_slides(pdf_path=pdf_path)\n",
        "\n",
        "slides[:5]\n",
        "\n"
      ]
    },
    {
      "cell_type": "code",
      "execution_count": 74,
      "metadata": {},
      "outputs": [
        {
          "name": "stdout",
          "output_type": "stream",
          "text": [
            "2025-08-18 10:13:00,872 [DEBUG] src.data_extraction.plan_extractor: Starting plan extraction from ./volume/slides/cours_1.pdf (page 2)\n",
            "2025-08-18 10:13:00,928 [DEBUG] src.data_extraction.plan_extractor: PDF opened, found 111 pages\n",
            "2025-08-18 10:13:00,948 [DEBUG] src.data_extraction.plan_extractor: Successfully extracted plan from page 2 (1599 chars)\n",
            "   L1SpS: UE 2 Les molécules du vivant                                                             \n",
            "      Plan      du     cours                                                                       \n",
            "        •  Introduction                                                                            \n",
            "             •  Notions  fondamentales                                                             \n",
            "        •  Le génome    humain                                                                     \n",
            "             •  Projet de séquençage                                                               \n",
            "             •  Architecture globale                                                               \n",
            "                  •  Génome    mitochondrial                                                       \n",
            "                  •  Génome    nucléaire                                                           \n",
            "             •  Description  des principaux  éléments   constituants                               \n",
            "                  •  Gènes  (codants   et non-codants),  pseudogènes     et éléments  répétés      \n",
            "        •  Comparaison    aux  autres génomes                                                      \n",
            "        •  Les types  de variations  du génome    humain   et leurs conséquences                   \n",
            "        •  La variabilité du génome   humain                                                       \n",
            "        •  Evolution des  génomes:    notions essentielles,  mécanismes                            \n",
            "                                                                                                 2 \n"
          ]
        }
      ],
      "source": [
        "# Test plan extraction\n",
        "plan_extractor = PlanExtractor()\n",
        "\n",
        "plan_txt = plan_extractor.extract_plan_from_page(pdf_path=pdf_path, page_number=2)\n",
        "\n",
        "print(plan_txt)"
      ]
    },
    {
      "cell_type": "markdown",
      "metadata": {},
      "source": [
        "## Build the Outline"
      ]
    },
    {
      "cell_type": "code",
      "execution_count": 75,
      "metadata": {},
      "outputs": [
        {
          "name": "stdout",
          "output_type": "stream",
          "text": [
            "2025-08-18 10:13:26,958 [DEBUG] src.llm.outline_two_pass: Starting outline generation from plan text (1599 chars)\n",
            "2025-08-18 10:13:41,765 [INFO] httpx: HTTP Request: POST https://api.openai.com/v1/responses \"HTTP/1.1 200 OK\"\n",
            "2025-08-18 10:13:41,817 [DEBUG] src.llm.outline_two_pass: Successfully generated outline with 6 sections\n"
          ]
        }
      ],
      "source": [
        "out_builder = OutlineTwoPass()\n",
        "\n",
        "outline = out_builder.build_outline(plan_txt)"
      ]
    },
    {
      "cell_type": "code",
      "execution_count": 78,
      "metadata": {},
      "outputs": [
        {
          "name": "stdout",
          "output_type": "stream",
          "text": [
            "Course Outline:\n",
            "==================================================\n",
            "Introduction\n",
            "  Notions fondamentales\n",
            "Le génome humain\n",
            "  Projet de séquençage\n",
            "  Architecture globale\n",
            "    Génome mitochondrial\n",
            "    Génome nucléaire\n",
            "  Description des principaux éléments constituants\n",
            "    Gènes (codants et non-codants), pseudogènes et éléments répétés\n",
            "Comparaison aux autres génomes\n",
            "Les types de variations du génome humain et leurs conséquences\n",
            "La variabilité du génome humain\n",
            "Evolution des génomes: notions essentielles, mécanismes\n"
          ]
        }
      ],
      "source": [
        "print(outline.print_outline())"
      ]
    },
    {
      "cell_type": "markdown",
      "metadata": {},
      "source": [
        "## Build the mapping"
      ]
    },
    {
      "cell_type": "code",
      "execution_count": 79,
      "metadata": {},
      "outputs": [],
      "source": [
        "slides = slides[:10]"
      ]
    },
    {
      "cell_type": "code",
      "execution_count": 80,
      "metadata": {},
      "outputs": [
        {
          "name": "stdout",
          "output_type": "stream",
          "text": [
            "2025-08-18 10:14:02,625 [DEBUG] src.llm.mapping_two_pass: Starting mapping generation for 10 slides and 6 sections\n",
            "2025-08-18 10:15:20,967 [INFO] httpx: HTTP Request: POST https://api.openai.com/v1/responses \"HTTP/1.1 200 OK\"\n",
            "2025-08-18 10:15:20,996 [DEBUG] src.llm.mapping_two_pass: Successfully generated mapping with 13 entries\n"
          ]
        },
        {
          "data": {
            "text/plain": [
              "src.models.SectionSlideMapping"
            ]
          },
          "execution_count": 80,
          "metadata": {},
          "output_type": "execute_result"
        }
      ],
      "source": [
        "mapping_builder = MappingTwoPass()\n",
        "\n",
        "mapping = mapping_builder.build_mapping(slides=slides, outline=outline) \n",
        "\n",
        "type(mapping)"
      ]
    },
    {
      "cell_type": "code",
      "execution_count": 82,
      "metadata": {},
      "outputs": [
        {
          "name": "stdout",
          "output_type": "stream",
          "text": [
            "Section-to-Slides Mapping:\n",
            "============================================================\n",
            "\n",
            "[Root] SEC_1\n",
            "Title: Introduction\n",
            "Slides: 2 slide(s)\n",
            "Slide IDs: SL_002, SL_003\n",
            "\n",
            "  [Level 1] SEC_1.1\n",
            "  Title: Notions fondamentales\n",
            "  Slides: 7 slide(s)\n",
            "  Slide IDs: SL_004, SL_005, SL_006, SL_007, SL_008, SL_009, SL_010\n",
            "\n",
            "[Root] SEC_2\n",
            "Title: Le génome humain\n",
            "Slides: 1 slide(s)\n",
            "Slide IDs: SL_001\n",
            "\n",
            "  [Level 1] SEC_2.1\n",
            "  Title: Projet de séquençage\n",
            "  Slides: 1 slide(s)\n",
            "  Slide IDs: SL_002\n",
            "\n",
            "  [Level 1] SEC_2.2\n",
            "  Title: Architecture globale\n",
            "  Slides: 1 slide(s)\n",
            "  Slide IDs: SL_001\n",
            "\n",
            "    [Level 2] SEC_2.2.1\n",
            "    Title: Génome mitochondrial\n",
            "    Slides: 1 slide(s)\n",
            "    Slide IDs: SL_001\n",
            "\n",
            "    [Level 2] SEC_2.2.2\n",
            "    Title: Génome nucléaire\n",
            "    Slides: 1 slide(s)\n",
            "    Slide IDs: SL_001\n",
            "\n",
            "  [Level 1] SEC_2.3\n",
            "  Title: Description des principaux éléments constituants\n",
            "  Slides: 1 slide(s)\n",
            "  Slide IDs: SL_001\n",
            "\n",
            "    [Level 2] SEC_2.3.1\n",
            "    Title: Gènes (codants et non-codants), pseudogènes et éléments répétés\n",
            "    Slides: 1 slide(s)\n",
            "    Slide IDs: SL_001\n",
            "\n",
            "[Root] SEC_3\n",
            "Title: Comparaison aux autres génomes\n",
            "Slides: 2 slide(s)\n",
            "Slide IDs: SL_005, SL_009\n",
            "\n",
            "[Root] SEC_4\n",
            "Title: Les types de variations du génome humain et leurs conséquences\n",
            "Slides: 1 slide(s)\n",
            "Slide IDs: SL_009\n",
            "\n",
            "[Root] SEC_5\n",
            "Title: La variabilité du génome humain\n",
            "Slides: 1 slide(s)\n",
            "Slide IDs: SL_006\n",
            "\n",
            "[Root] SEC_6\n",
            "Title: Evolution des génomes: notions essentielles, mécanismes\n",
            "Slides: 2 slide(s)\n",
            "Slide IDs: SL_004, SL_006\n"
          ]
        }
      ],
      "source": [
        "print(mapping.visualize_mapping(outline))"
      ]
    },
    {
      "cell_type": "code",
      "execution_count": 87,
      "metadata": {},
      "outputs": [
        {
          "name": "stdout",
          "output_type": "stream",
          "text": [
            "Course Outline:\n",
            "==================================================\n",
            "Introduction\n",
            "  Notions fondamentales\n",
            "Le génome humain\n",
            "  Projet de séquençage\n",
            "  Architecture globale\n",
            "    Génome mitochondrial\n",
            "    Génome nucléaire\n",
            "  Description des principaux éléments constituants\n",
            "    Gènes (codants et non-codants), pseudogènes et éléments répétés\n",
            "Comparaison aux autres génomes\n",
            "Les types de variations du génome humain et leurs conséquences\n",
            "La variabilité du génome humain\n",
            "Evolution des génomes: notions essentielles, mécanismes\n"
          ]
        }
      ],
      "source": [
        "course_with_slides = outline.enrich_with_slides(slides=slides, mapping=mapping)\n",
        "\n",
        "print(course_with_slides.print_outline())"
      ]
    },
    {
      "cell_type": "markdown",
      "metadata": {},
      "source": [
        "## Write the course"
      ]
    },
    {
      "cell_type": "code",
      "execution_count": 84,
      "metadata": {},
      "outputs": [
        {
          "name": "stdout",
          "output_type": "stream",
          "text": [
            "2025-08-18 10:16:07,926 [DEBUG] src.llm.writer: Starting content enhancement for 6 sections\n",
            "2025-08-18 10:19:58,868 [INFO] httpx: HTTP Request: POST https://api.openai.com/v1/responses \"HTTP/1.1 200 OK\"\n",
            "2025-08-18 10:19:58,980 [DEBUG] src.llm.writer: Successfully enhanced content with 6 sections\n"
          ]
        },
        {
          "data": {
            "text/plain": [
              "src.models.Content"
            ]
          },
          "execution_count": 84,
          "metadata": {},
          "output_type": "execute_result"
        }
      ],
      "source": [
        "writer = Writer()\n",
        "\n",
        "course = writer.write_course(enriched_content=course_with_slides)\n",
        "type(course)"
      ]
    },
    {
      "cell_type": "code",
      "execution_count": 89,
      "metadata": {},
      "outputs": [
        {
          "data": {
            "text/plain": [
              "src.models.Content"
            ]
          },
          "execution_count": 89,
          "metadata": {},
          "output_type": "execute_result"
        }
      ],
      "source": [
        "type(course)"
      ]
    },
    {
      "cell_type": "code",
      "execution_count": 88,
      "metadata": {},
      "outputs": [
        {
          "ename": "ValidationError",
          "evalue": "1 validation error for Course\ncontent\n  Input should be a valid dictionary or instance of Content [type=model_type, input_value=Content(sections=[Content...ides=None, mapping=None), input_type=Content]\n    For further information visit https://errors.pydantic.dev/2.11/v/model_type",
          "output_type": "error",
          "traceback": [
            "\u001b[0;31m---------------------------------------------------------------------------\u001b[0m",
            "\u001b[0;31mValidationError\u001b[0m                           Traceback (most recent call last)",
            "Cell \u001b[0;32mIn[88], line 1\u001b[0m\n\u001b[0;32m----> 1\u001b[0m test_course \u001b[38;5;241m=\u001b[39m \u001b[43mCourse\u001b[49m\u001b[43m(\u001b[49m\n\u001b[1;32m      2\u001b[0m \u001b[43m    \u001b[49m\u001b[43mname\u001b[49m\u001b[38;5;241;43m=\u001b[39;49m\u001b[38;5;124;43m\"\u001b[39;49m\u001b[38;5;124;43mArchitecture du génome humain\u001b[39;49m\u001b[38;5;124;43m\"\u001b[39;49m\u001b[43m,\u001b[49m\n\u001b[1;32m      3\u001b[0m \u001b[43m    \u001b[49m\u001b[43mcourse_title\u001b[49m\u001b[38;5;241;43m=\u001b[39;49m\u001b[38;5;124;43m\"\u001b[39;49m\u001b[38;5;124;43mArchitecture du génome humain\u001b[39;49m\u001b[38;5;124;43m\"\u001b[39;49m\u001b[43m,\u001b[49m\n\u001b[1;32m      4\u001b[0m \u001b[43m    \u001b[49m\u001b[43mlevel\u001b[49m\u001b[38;5;241;43m=\u001b[39;49m\u001b[38;5;124;43m\"\u001b[39;49m\u001b[38;5;124;43mL1\u001b[39;49m\u001b[38;5;124;43m\"\u001b[39;49m\u001b[43m,\u001b[49m\n\u001b[1;32m      5\u001b[0m \u001b[43m    \u001b[49m\u001b[43mblock\u001b[49m\u001b[38;5;241;43m=\u001b[39;49m\u001b[38;5;124;43m\"\u001b[39;49m\u001b[38;5;124;43mSANTE\u001b[39;49m\u001b[38;5;124;43m\"\u001b[39;49m\u001b[43m,\u001b[49m\n\u001b[1;32m      6\u001b[0m \u001b[43m    \u001b[49m\u001b[43msemester\u001b[49m\u001b[38;5;241;43m=\u001b[39;49m\u001b[38;5;124;43m\"\u001b[39;49m\u001b[38;5;124;43mS1\u001b[39;49m\u001b[38;5;124;43m\"\u001b[39;49m\u001b[43m,\u001b[49m\n\u001b[1;32m      7\u001b[0m \u001b[43m    \u001b[49m\u001b[43msubject\u001b[49m\u001b[38;5;241;43m=\u001b[39;49m\u001b[38;5;124;43m\"\u001b[39;49m\u001b[38;5;124;43mUE-1 Constitution et transformation de la matière\u001b[39;49m\u001b[38;5;124;43m\"\u001b[39;49m\u001b[43m,\u001b[49m\n\u001b[1;32m      8\u001b[0m \u001b[43m    \u001b[49m\u001b[43mcontent\u001b[49m\u001b[38;5;241;43m=\u001b[39;49m\u001b[43mcourse\u001b[49m\n\u001b[1;32m      9\u001b[0m \u001b[43m)\u001b[49m\n\u001b[1;32m     11\u001b[0m \u001b[38;5;28mprint\u001b[39m(test_course\u001b[38;5;241m.\u001b[39mprint_outline())\n",
            "File \u001b[0;32m~/Documents/formascience/class_parser/.venv/lib/python3.11/site-packages/pydantic/main.py:253\u001b[0m, in \u001b[0;36mBaseModel.__init__\u001b[0;34m(self, **data)\u001b[0m\n\u001b[1;32m    251\u001b[0m \u001b[38;5;66;03m# `__tracebackhide__` tells pytest and some other tools to omit this function from tracebacks\u001b[39;00m\n\u001b[1;32m    252\u001b[0m __tracebackhide__ \u001b[38;5;241m=\u001b[39m \u001b[38;5;28;01mTrue\u001b[39;00m\n\u001b[0;32m--> 253\u001b[0m validated_self \u001b[38;5;241m=\u001b[39m \u001b[38;5;28;43mself\u001b[39;49m\u001b[38;5;241;43m.\u001b[39;49m\u001b[43m__pydantic_validator__\u001b[49m\u001b[38;5;241;43m.\u001b[39;49m\u001b[43mvalidate_python\u001b[49m\u001b[43m(\u001b[49m\u001b[43mdata\u001b[49m\u001b[43m,\u001b[49m\u001b[43m \u001b[49m\u001b[43mself_instance\u001b[49m\u001b[38;5;241;43m=\u001b[39;49m\u001b[38;5;28;43mself\u001b[39;49m\u001b[43m)\u001b[49m\n\u001b[1;32m    254\u001b[0m \u001b[38;5;28;01mif\u001b[39;00m \u001b[38;5;28mself\u001b[39m \u001b[38;5;129;01mis\u001b[39;00m \u001b[38;5;129;01mnot\u001b[39;00m validated_self:\n\u001b[1;32m    255\u001b[0m     warnings\u001b[38;5;241m.\u001b[39mwarn(\n\u001b[1;32m    256\u001b[0m         \u001b[38;5;124m'\u001b[39m\u001b[38;5;124mA custom validator is returning a value other than `self`.\u001b[39m\u001b[38;5;130;01m\\n\u001b[39;00m\u001b[38;5;124m'\u001b[39m\n\u001b[1;32m    257\u001b[0m         \u001b[38;5;124m\"\u001b[39m\u001b[38;5;124mReturning anything other than `self` from a top level model validator isn\u001b[39m\u001b[38;5;124m'\u001b[39m\u001b[38;5;124mt supported when validating via `__init__`.\u001b[39m\u001b[38;5;130;01m\\n\u001b[39;00m\u001b[38;5;124m\"\u001b[39m\n\u001b[1;32m    258\u001b[0m         \u001b[38;5;124m'\u001b[39m\u001b[38;5;124mSee the `model_validator` docs (https://docs.pydantic.dev/latest/concepts/validators/#model-validators) for more details.\u001b[39m\u001b[38;5;124m'\u001b[39m,\n\u001b[1;32m    259\u001b[0m         stacklevel\u001b[38;5;241m=\u001b[39m\u001b[38;5;241m2\u001b[39m,\n\u001b[1;32m    260\u001b[0m     )\n",
            "\u001b[0;31mValidationError\u001b[0m: 1 validation error for Course\ncontent\n  Input should be a valid dictionary or instance of Content [type=model_type, input_value=Content(sections=[Content...ides=None, mapping=None), input_type=Content]\n    For further information visit https://errors.pydantic.dev/2.11/v/model_type"
          ]
        }
      ],
      "source": [
        "test_course = Course(\n",
        "    name=\"Architecture du génome humain\",\n",
        "    course_title=\"Architecture du génome humain\",\n",
        "    level=\"L1\",\n",
        "    block=\"SANTE\",\n",
        "    semester=\"S1\",\n",
        "    subject=\"UE-1 Constitution et transformation de la matière\",\n",
        "    content=course\n",
        ")\n",
        "\n",
        "print(test_course.print_outline())"
      ]
    },
    {
      "cell_type": "code",
      "execution_count": 90,
      "metadata": {},
      "outputs": [
        {
          "name": "stdout",
          "output_type": "stream",
          "text": [
            "Course content annotation -> <class 'src.models.Content'> src.models\n",
            "Returned content instance -> <class 'src.models.Content'> src.models\n",
            "Same class object? -> False\n"
          ]
        }
      ],
      "source": [
        "from src.models import Content as ModelsContent\n",
        "print(\"Course content annotation ->\", ModelsContent, ModelsContent.__module__)\n",
        "\n",
        "print(\"Returned content instance ->\", type(course), type(course).__module__)\n",
        "\n",
        "print(\"Same class object? ->\", type(course) is ModelsContent)"
      ]
    },
    {
      "cell_type": "markdown",
      "metadata": {},
      "source": [
        "## Tests\n"
      ]
    },
    {
      "cell_type": "code",
      "execution_count": 64,
      "metadata": {},
      "outputs": [
        {
          "name": "stdout",
          "output_type": "stream",
          "text": [
            "🔁 Imports refreshed\n"
          ]
        },
        {
          "data": {
            "text/plain": [
              "({'slides_pdf': '/Users/youssefjanjar/Documents/formascience/class_parser/volume/slides/cours_1.pdf',\n",
              "  'plan_page': 2},\n",
              " {'save_json': True,\n",
              "  'save_docx': True,\n",
              "  'template_path': '/Users/youssefjanjar/Documents/formascience/class_parser/volume/templates/fs_template.docx',\n",
              "  'output_dir': '/Users/youssefjanjar/Documents/formascience/class_parser/volume/artifacts'},\n",
              " CourseMetadata(name='Architecture du génome humain', course_title='Architecture du génome humain', level='L1', block='SANTE', semester='S1', subject='UE-1 - Les bases de la biologie', chapter=None, year=2024, professor='Youssef Janjar'))"
            ]
          },
          "execution_count": 64,
          "metadata": {},
          "output_type": "execute_result"
        }
      ],
      "source": [
        "refresh_imports()\n",
        "\n",
        "from src.models import PipelineConfig\n",
        "\n",
        "config = PipelineConfig.load(\"pipeline.yaml\")\n",
        "config.inputs, config.outputs, config.metadata"
      ]
    },
    {
      "cell_type": "code",
      "execution_count": 65,
      "metadata": {},
      "outputs": [
        {
          "data": {
            "text/plain": [
              "['architecture_du_génome_humain_20250817_224951.json',\n",
              " '.DS_Store',\n",
              " 'architecture_du_génome_humain_filled.docx',\n",
              " 'docx']"
            ]
          },
          "execution_count": 65,
          "metadata": {},
          "output_type": "execute_result"
        }
      ],
      "source": [
        "import os \n",
        "os.listdir(config.outputs['output_dir'])"
      ]
    },
    {
      "cell_type": "code",
      "execution_count": 66,
      "metadata": {},
      "outputs": [
        {
          "name": "stdout",
          "output_type": "stream",
          "text": [
            "Course Outline:\n",
            "==================================================\n",
            "Introduction\n",
            "  Notions fondamentales\n",
            "Le génome humain\n",
            "  Projet de séquençage\n",
            "  Architecture globale\n",
            "    Génome mitochondrial\n",
            "    Génome nucléaire\n",
            "  Description des principaux éléments constituants\n",
            "    Gènes (codants et non-codants), pseudogènes et éléments répétés\n",
            "Comparaison aux autres génomes\n",
            "Les types de variations du génome humain et leurs conséquences\n",
            "La variabilité du génome humain\n",
            "Evolution des génomes: notions essentielles, mécanismes\n"
          ]
        }
      ],
      "source": [
        "from src.course import Course\n",
        "\n",
        "course = Course.load_from_json(config.outputs['output_dir']+'/architecture_du_génome_humain_20250817_224951.json')\n",
        "\n",
        "print(course.content.print_outline())"
      ]
    },
    {
      "cell_type": "code",
      "execution_count": 67,
      "metadata": {},
      "outputs": [
        {
          "name": "stdout",
          "output_type": "stream",
          "text": [
            "💾 Course saved to: /Users/youssefjanjar/Documents/formascience/class_parser/volume/artifacts/json/architecture_du_génome_humain_20250818_082858.json\n"
          ]
        },
        {
          "data": {
            "text/plain": [
              "'/Users/youssefjanjar/Documents/formascience/class_parser/volume/artifacts/json/architecture_du_génome_humain_20250818_082858.json'"
            ]
          },
          "execution_count": 67,
          "metadata": {},
          "output_type": "execute_result"
        }
      ],
      "source": [
        "course.save_to_json(output_path=config.outputs['output_dir'])"
      ]
    },
    {
      "cell_type": "code",
      "execution_count": 61,
      "metadata": {},
      "outputs": [
        {
          "name": "stdout",
          "output_type": "stream",
          "text": [
            "📄 Course exported to DOCX: /Users/youssefjanjar/Documents/formascience/class_parser/volume/artifacts/docx/architecture_du_génome_humain.docx\n"
          ]
        },
        {
          "data": {
            "text/plain": [
              "'/Users/youssefjanjar/Documents/formascience/class_parser/volume/artifacts/docx/architecture_du_génome_humain.docx'"
            ]
          },
          "execution_count": 61,
          "metadata": {},
          "output_type": "execute_result"
        }
      ],
      "source": [
        "course.to_docx(template_path=config.outputs['template_path'], output_path=config.outputs['output_dir']+'/docx')"
      ]
    },
    {
      "cell_type": "markdown",
      "metadata": {},
      "source": [
        "# Testing the pipeline"
      ]
    },
    {
      "cell_type": "code",
      "execution_count": 68,
      "metadata": {},
      "outputs": [
        {
          "name": "stdout",
          "output_type": "stream",
          "text": [
            "Current working directory: /Users/youssefjanjar/Documents/formascience/class_parser\n",
            "Root folder (pathlib): /Users/youssefjanjar/Documents/formascience/class_parser\n",
            "Absolute path: /Users/youssefjanjar/Documents/formascience/class_parser\n",
            "\n",
            "Contents of root folder:\n",
            "📁 .cursor/\n",
            "📄 .DS_Store\n",
            "📄 create_structure.sh\n",
            "📁 audio_extractor/\n",
            "📄 pyproject.toml\n",
            "📄 data_structure.md\n",
            "📁 tests/\n",
            "📁 __pycache__/\n",
            "📄 README.md\n",
            "📁 .mypy_cache/\n",
            "📄 .gitignore\n",
            "📄 diagram.mermaid\n",
            "📄 .env\n",
            "📁 .venv/\n",
            "📄 pipeline.yaml\n",
            "📄 poetry.lock\n",
            "📁 .git/\n",
            "📄 main.py\n",
            "📄 test_workflow.ipynb\n",
            "📁 data/\n",
            "📁 volume/\n",
            "📁 notebooks/\n",
            "📁 src/\n"
          ]
        }
      ],
      "source": [
        "import os\n",
        "from pathlib import Path\n",
        "\n",
        "# Print current working directory\n",
        "print(\"Current working directory:\", os.getcwd())\n",
        "\n",
        "# Print root folder using pathlib\n",
        "root_path = Path.cwd()\n",
        "print(\"Root folder (pathlib):\", root_path)\n",
        "\n",
        "# Print absolute path\n",
        "print(\"Absolute path:\", root_path.absolute())\n",
        "\n",
        "# List contents of root folder\n",
        "print(\"\\nContents of root folder:\")\n",
        "for item in root_path.iterdir():\n",
        "    if item.is_dir():\n",
        "        print(f\"📁 {item.name}/\")\n",
        "    else:\n",
        "        print(f\"📄 {item.name}\")\n"
      ]
    },
    {
      "cell_type": "code",
      "execution_count": 2,
      "metadata": {},
      "outputs": [
        {
          "name": "stderr",
          "output_type": "stream",
          "text": [
            "2025-08-18 13:10:15,439 - pdfminer.pdfinterp - WARNING - Cannot set gray non-stroke color because /'P412' is an invalid float value\n",
            "2025-08-18 13:10:15,440 - pdfminer.pdfinterp - WARNING - Cannot set gray non-stroke color because /'P414' is an invalid float value\n",
            "2025-08-18 13:10:15,455 - pdfminer.pdfinterp - WARNING - Cannot set gray non-stroke color because /'P444' is an invalid float value\n",
            "2025-08-18 13:10:15,470 - pdfminer.pdfinterp - WARNING - Cannot set gray non-stroke color because /'P451' is an invalid float value\n",
            "2025-08-18 13:10:15,472 - pdfminer.pdfinterp - WARNING - Cannot set gray non-stroke color because /'P455' is an invalid float value\n",
            "2025-08-18 13:10:15,488 - pdfminer.pdfinterp - WARNING - Cannot set gray non-stroke color because /'P465' is an invalid float value\n",
            "2025-08-18 13:10:15,490 - pdfminer.pdfinterp - WARNING - Cannot set gray non-stroke color because /'P467' is an invalid float value\n",
            "2025-08-18 13:10:15,512 - pdfminer.pdfinterp - WARNING - Cannot set gray non-stroke color because /'P482' is an invalid float value\n",
            "2025-08-18 13:10:15,519 - pdfminer.pdfinterp - WARNING - Cannot set gray non-stroke color because /'P488' is an invalid float value\n",
            "2025-08-18 13:10:15,727 - src.pipeline - INFO - 🚀 Processing course 'Architecture du génome humain' (Branch A - Plan Provided)\n",
            "2025-08-18 13:10:15,727 - src.pipeline - INFO - 📝 Generating outline from plan...\n",
            "2025-08-18 13:10:26,263 - httpx - INFO - HTTP Request: POST https://api.openai.com/v1/responses \"HTTP/1.1 200 OK\"\n",
            "2025-08-18 13:10:26,318 - src.pipeline - INFO - ✅ Generated outline with 7 sections\n",
            "2025-08-18 13:10:26,319 - src.pipeline - INFO - 🗺️ Generating section-slide mapping...\n",
            "2025-08-18 13:12:39,982 - httpx - INFO - HTTP Request: POST https://api.openai.com/v1/responses \"HTTP/1.1 200 OK\"\n",
            "2025-08-18 13:12:40,014 - src.pipeline - INFO - ✅ Generated section-slide mapping\n",
            "2025-08-18 13:12:40,015 - src.pipeline - INFO - 🔗 Enriching content with slides...\n",
            "2025-08-18 13:12:40,016 - src.pipeline - INFO - ✅ Content enriched with slide data\n",
            "2025-08-18 13:12:40,017 - src.pipeline - INFO - ✍️ Enhancing content with AI...\n",
            "2025-08-18 13:16:48,819 - httpx - INFO - HTTP Request: POST https://api.openai.com/v1/responses \"HTTP/1.1 502 Bad Gateway\"\n",
            "2025-08-18 13:16:48,831 - openai._base_client - INFO - Retrying request to /responses in 0.390291 seconds\n",
            "2025-08-18 13:20:11,608 - httpx - INFO - HTTP Request: POST https://api.openai.com/v1/responses \"HTTP/1.1 200 OK\"\n",
            "2025-08-18 13:20:11,702 - src.pipeline - INFO - ✅ Content enhanced and finalized\n",
            "2025-08-18 13:20:11,705 - src.pipeline - INFO - 💾 Course saved to JSON\n"
          ]
        },
        {
          "name": "stdout",
          "output_type": "stream",
          "text": [
            "💾 Course saved to: /Users/youssefjanjar/Documents/formascience/class_parser/volume/artifacts/json/architecture_du_génome_humain_20250818_132011.json\n"
          ]
        },
        {
          "name": "stderr",
          "output_type": "stream",
          "text": [
            "2025-08-18 13:20:11,906 - src.pipeline - INFO - 💾 Course saved to DOCX\n",
            "2025-08-18 13:20:11,906 - src.pipeline - INFO - 🎉 Course processing complete!\n"
          ]
        },
        {
          "name": "stdout",
          "output_type": "stream",
          "text": [
            "📄 Course exported to DOCX: /Users/youssefjanjar/Documents/formascience/class_parser/volume/artifacts/docx/architecture_du_génome_humain.docx\n",
            "Processed 7 sections from 110 slides\n"
          ]
        }
      ],
      "source": [
        "import logging\n",
        "import sys\n",
        "from pathlib import Path\n",
        "\n",
        "from src.pipeline import CoursePipeline\n",
        "from src.models import CourseMetadata\n",
        "\n",
        "# Configure logging level\n",
        "logging.basicConfig(\n",
        "    level=logging.INFO,  # Change to DEBUG for more detailed logs, WARNING for less\n",
        "    format='%(asctime)s - %(name)s - %(levelname)s - %(message)s',\n",
        "    handlers=[\n",
        "        logging.StreamHandler(),  # Console output\n",
        "        logging.FileHandler('pipeline.log')  # Optional: save to file\n",
        "    ]\n",
        ")\n",
        "\n",
        "# Initialize the pipeline\n",
        "pipeline = CoursePipeline()\n",
        "# Method 1: Using config file\n",
        "course = pipeline.process_from_config(\"configs/cours_1.yaml\")\n",
        "\n",
        "\n",
        "# Get processing statistics\n",
        "stats = pipeline.get_processing_statistics(course)\n",
        "print(f\"Processed {stats['total_sections']} sections from {stats['total_slides']} slides\")"
      ]
    },
    {
      "cell_type": "code",
      "execution_count": 4,
      "metadata": {},
      "outputs": [
        {
          "name": "stdout",
          "output_type": "stream",
          "text": [
            "Course: Architecture du génome humain\n",
            "Level: L1\n",
            "Block: SANTE\n",
            "Semester: S1\n",
            "Subject: UE-1\n",
            "Chapter: 1\n",
            "\n",
            "\n",
            "Course Outline:\n",
            "==================================================\n",
            "Introduction\n",
            "  Notions fondamentales\n",
            "Le génome humain\n",
            "  Projet de séquençage\n",
            "  Architecture globale\n",
            "    Génome mitochondrial\n",
            "    Génome nucléaire\n",
            "Description des principaux éléments constituants\n",
            "  Gènes (codants et non-codants), pseudogènes et éléments répétés\n",
            "Comparaison aux autres génomes\n",
            "Les types de variations du génome humain et leurs conséquences\n",
            "La variabilité du génome humain\n",
            "Evolution des génomes: notions essentielles, mécanismes\n"
          ]
        }
      ],
      "source": [
        "print(course.print_outline())"
      ]
    },
    {
      "cell_type": "code",
      "execution_count": 6,
      "metadata": {},
      "outputs": [
        {
          "data": {
            "text/plain": [
              "['architecture_du_génome_humain_20250818_113431.json',\n",
              " 'architecture_du_génome_humain_20250818_123215.json',\n",
              " 'réplication_et_réparation_de_l’adn_20250818_120405.json',\n",
              " 'architecture_du_génome_humain_20250818_114200.json',\n",
              " 'architecture_du_génome_humain_20250818_132011.json']"
            ]
          },
          "execution_count": 6,
          "metadata": {},
          "output_type": "execute_result"
        }
      ],
      "source": [
        "import os\n",
        "\n",
        "jsons = os.listdir(\"/Users/youssefjanjar/Documents/formascience/class_parser/volume/artifacts/json/\")\n",
        "file_path = \"/Users/youssefjanjar/Documents/formascience/class_parser/volume/artifacts/json/\" + jsons[-1]\n",
        "\n",
        "jsons"
      ]
    },
    {
      "cell_type": "code",
      "execution_count": 7,
      "metadata": {},
      "outputs": [
        {
          "data": {
            "text/plain": [
              "Course(name='Architecture du génome humain', course_title='Architecture du génome humain', level='L1', block='SANTE', semester='S1', subject='UE-1', chapter=1, content=Content(sections=[ContentSection(id='SEC_1', title='Introduction', content=[\"Ce module aborde les molécules du vivant en plaçant le génome au centre d'un cadre plus large qui comprend également le transcriptome, le protéome et le méthylome. Le programme couvre des notions fondamentales d'évolution et d'homologie, la structure et l'architecture du génome humain (nucléaire et mitochondrial), le projet de séquençage, la description des éléments constitutifs du génome, la comparaison avec d'autres génomes, ainsi que les types et les conséquences des variations génomiques.\", \"Le génome est présenté comme une référence stable de l'information héréditaire d'un organisme, servant de base de comparaison pour les autres couches fonctionnelles (expression, modifications épigénétiques, production protéique). L'étude intégrée de ces différentes couches permet de mieux comprendre la régulation, la variabilité interindividuelle et les mécanismes pathologiques associés aux altérations de l'ADN.\"], subsections=[ContentSection(id='SEC_1.1', title='Notions fondamentales', content=[\"L'arbre du vivant fournit le cadre conceptuel pour comprendre l'origine et la diversification des génomes : l'évolution s'appréhende comme un processus temporel d'accumulation et de sélection de variations, favorisant l'adaptation aux conditions environnementales. La notion de Last Universal Common Ancestor (LUCA) illustre l'existence d'un ancêtre commun pour les grandes lignées du vivant.\", \"Le choix d'organismes modèles en biologie repose sur des critères pratiques et biologiques : intérêts économique et technique, facilité d'hébergement et de manipulation, temps de génération et développement embryonnaire, ainsi que la conservation d'éléments moléculaires communs qui permettent de transférer des connaissances d'un modèle à un autre.\", \"L'homologie désigne un caractère partagé par plusieurs espèces en raison d'un ancêtre commun ; elle se distingue de l'analogie, qui résulte d'évolutions convergentes indépendantes. Sur le plan génétique, l'orthologie regroupe des gènes homologues séparés par un événement de spéciation tandis que la paralogie décrit des gènes homologues issus d'une duplication au sein d'une même lignée.\", \"La détermination de l'homologie s'appuie principalement sur l'alignement des séquences et le calcul de pourcentages d'identité ou de similarité : l'identité correspond aux résidus strictement identiques et la similarité inclut les substitutions conservatrices. Des seuils empiriques existent mais varient selon les familles de protéines et la complexité des séquences ; il convient de rester prudent en présence de régions de faible complexité ou de convergences évolutives qui peuvent engendrer des similitudes non homologues.\", \"Dans le cadre du dogme central, le gène est considéré comme une unité d'information transcrite en ARN, qui peut ensuite servir de matrice pour la synthèse protéique ou exercer des fonctions régulatrices sous forme d'ARN non codants. Cette perspective relie structure génomique, expression et fonction moléculaire.\"], subsections=[])]), ContentSection(id='SEC_2', title='Le génome humain', content=[\"Le génome humain se compose d'un génome nucléaire et d'un génome mitochondrial. Le génome nucléaire comprend 22 paires d'autosomes et une paire de chromosomes sexuels (X et Y) dans la plupart des individus diploïdes, tandis que le génome mitochondrial est généralement une molécule circulaire distincte de petite taille.\", \"La distinction haploïde/diploïde est centrale en génétique : la cellule diploïde dérive de l'association de génomes d'origine paternelle et maternelle, et la nomenclature cytogénétique reflète l'organisation chromosomique. L'organisation chromosomique varie selon l'état du cycle cellulaire (condensation en métaphase versus organisation interphasique du noyau).\", \"Une faible fraction du génome est fortement conservée au cours de l'évolution : seules quelques pourcentages des bases sont soumises à une pression de conservation élevée, ce qui indique que la majorité du génome tolère des variations plus importantes ou est soumise à d'autres formes de contraintes fonctionnelles.\"], subsections=[ContentSection(id='SEC_2.1', title='Projet de séquençage', content=[\"Le projet de détermination de la séquence du génome humain a été conçu comme une entreprise internationale de longue haleine mobilisant des ressources et des efforts soutenus sur plus d'une décennie. L'ambition était de produire une carte de référence de l'euchromatine et d'obtenir une séquence de haute qualité pour servir de support aux recherches fondamentales et médicales.\", \"La stratégie combinait une cartographie génétique, fondée sur les fréquences de recombinaison (mesurées en centiMorgans), et une cartographie physique exprimée en distance réelle (kilobases, mégabases). Ces deux approches ont permis d'ordonner des marqueurs et des fragments avant l'assemblage des lectures de séquençage.\", \"La production de la séquence s'est faite en plusieurs étapes : une version initiale dite « draft » a fourni une couverture importante du génome avec une qualité variable, suivie d'une version finalisée de qualité élevée. Malgré l'atteinte d'une très grande complétude, le génome de référence a continué d'être amélioré au fil du temps pour résoudre des régions répétées ou structurellement complexes.\"], subsections=[]), ContentSection(id='SEC_2.2', title='Architecture globale', content=[\"L'architecture du génome se déploie à différentes échelles et peut être explorée à l'aide d'outils de visualisation qui permettent une navigation du niveau chromosomique au niveau d'un locus précis. Ces interfaces intègrent des annotations variées — gènes, profils protéiques, régions conservées — facilitant l'interprétation fonctionnelle d'une position génomique.\", \"À l'échelle d'un gène, la représentation inclut l'orientation de transcription, la localisation des exons et introns, et les éléments régulateurs adjacents ; le zoom local révèle la structure fine nécessaire à l'interprétation des variations et des mécanismes d'expression.\", \"Un contraste majeur existe entre les génomes nucléaire et mitochondrial : le génome nucléaire haploïde représente plusieurs gigabases, est enrichi en séquences répétées (souvent >50 %), et ne contient qu'une faible proportion de régions codantes (~1 %). Le génome mitochondrial est très compact (quelques dizaines de kilobases), densément codant, dépourvu d'introns et présent en de très nombreux exemplaires par cellule, avec un mode d'héritage et des caractéristiques propres.\"], subsections=[ContentSection(id='SEC_2.2.1', title='Génome mitochondrial', content=[\"Le génome mitochondrial est un petit génome circulaire, d'environ 16,6 kilobases chez l'homme, caractérisé par une organisation compacte et l'encodage d'un ensemble restreint de gènes. Il contient en général 37 gènes au total : treize codants pour des protéines impliquées dans la phosphorylation oxydative et une vingtaine d'ARN de transfert et d'ARN ribosomaux nécessaires à la traduction mitochondriale.\", \"La table codante mitochondriale diffère légèrement de la table standard nucléaire, entraînant des usages spécifiques de certains codons. Cette organisation rappelle l'origine endosymbiotique probable des mitochondries et explique en partie la similitude avec des génomes bactériens.\", \"D'un point de vue héréditaire et populationnel, le génome mitochondrial est transmis majoritairement par voie maternelle et se présente en de très nombreux exemplaires par cellule (>1000), ce qui rend possible la coexistence de variantes différentes au sein d'un même individu (hétéroplasmie) avec des proportions variables selon les tissus et l'âge. Les génomes mitochondriaux varient en taille et en organisation entre espèces, allant de formes très compactes chez de nombreux animaux à des structures plus étendues chez certaines plantes et champignons.\"], subsections=[]), ContentSection(id='SEC_2.2.2', title='Génome nucléaire', content=[\"Le génome nucléaire haploïde humain représente environ 3,1 gigabases de séquence et constitue l'essentiel du matériel génétique codant et non codant. Il a été caractérisé progressivement grâce à des versions de référence publiées au début du XXIe siècle puis complétées et raffinées lors d'itérations ultérieures.\", \"Sa organisation distingue la euchromatine, région relativement ouverte et riche en gènes et en activité transcriptionnelle, et l'hétérochromatine constitutive, zone condensée riche en séquences répétées et généralement transcriptionnellement inactive. Cette dichotomie structure-fonction influence les possibilités d'expression, de recombinaison et la stabilité des régions génomiques.\"], subsections=[])])]), ContentSection(id='SEC_3', title='Description des principaux éléments constituants', content=[\"Les principaux composants du génome humain comprennent les gènes codants et non codants, les pseudogènes et une grande diversité d'éléments répétitifs. Chacun de ces éléments contribue différemment à la structure, à la fonction et à l'évolution du génome.\", \"La connaissance détaillée de ces constituants est essentielle pour comprendre l'expression génique, l'impact des variations et les mécanismes évolutifs ; les sections suivantes décrivent ces classes en précisant leur origine, leur organisation et leurs implications fonctionnelles.\"], subsections=[ContentSection(id='SEC_3.1', title='Gènes (codants et non-codants), pseudogènes et éléments répétés', content=[\"Un gène est défini comme un segment d'ADN utilisé comme matrice pour la synthèse d'un ARN simple brin au cours de la transcription. Les ARN messagers (ARNm) codent pour des protéines tandis que de nombreuses classes d'ARN non codants (ARNt, ARNr, microARN, snoARN, snARN, lncARN, etc.) jouent des rôles essentiels dans la traduction, la régulation et l'organisation nucléaire.\", \"Le génome humain contient environ vingt mille gènes codants identifiés et un nombre nettement supérieur d'ARN non codants ; le bilan global (codants + non codants) se stabilise autour de plusieurs dizaines de milliers d'entités annotées, bien que ces chiffres restent susceptibles d'ajustements au fur et à mesure des améliorations des annotations.\", \"La taille des gènes et des protéines est extrêmement variable : la longueur moyenne d'un gène est de l'ordre de plusieurs dizaines de kilobases, mais des gènes peuvent être très compacts ou s'étendre sur des mégabases. Les protéines vont de très courtes séquences à des protéines géantes, la titine étant l'exemple d'une protéine d'une taille exceptionnelle. De même, le nombre et la taille des exons et introns varient fortement entre gènes, ce qui conditionne la complexité des isoformes transcrites.\", \"Des exemples concrets montrent cette diversité structurelle : certains gènes présentent quelques exons compacts, d'autres des dizaines d'exons et des introns très longs, illustrant que la structure génomique est adaptée à la fonction protéique et aux contraintes d'expression.\", \"L'organisation des gènes sur le génome peut être non regroupée, avec des territoires géniques indépendants et parfois chevauchants, ou bien groupée en clusters résultant de duplications en tandem. Les clusters associent souvent des gènes homologues, des orientations transcriptionnelles conservées et la présence de pseudogènes ; des familles telles que les gènes d'histones ou les récepteurs olfactifs illustrent ces organisations en clusters.\", \"Les gènes non codants sont nombreux et structurés en ensembles spécifiques : on trouve plusieurs centaines de gènes codant pour des ARNt (et des pseudogènes associés) et de multiples copies d'ARN ribosomaux répartis en grands clusters. La quantification exacte de certaines classes, notamment des répétitions d'ARN ribosomal, reste partiellement incertaine en raison de leur structure répétitive.\", \"Les pseudogènes représentent des copies généralement défectueuses de gènes fonctionnels et concernent une proportion notable du génome codant. On distingue des pseudogènes non processés (résultant de duplications conservant structure intron/exon), des pseudogènes processés (issus de rétrotransposition d'ARNm, dépourvus d'introns et de régions régulatrices) et des pseudogènes unitaires (résultant de la dégradation d'un gène unique soumis à une pression de sélection diminuée). Bien que longtemps considérés comme fossiles, certains pseudogènes sont transcrits et peuvent jouer des rôles régulateurs.\", \"Les éléments répétitifs occupent une part importante du génome et se classent en répétitions en tandem (satellites, minisatellites, microsatellites) et en éléments répétés dispersés (dérivés de transposons). Les microsatellites, fréquents et polymorphiques, sont utiles pour le génotypage et l'identification individuelle, tandis que les répétitions dispersées forment une fraction majeure du génome.\", 'Parmi les éléments dispersés, les rétrotransposons se propagent par un mécanisme de type « copié-collé » impliquant une étape ARN puis une rétrotranscription en ADN ; les LINEs (notamment Line-1) constituent de nombreuses copies dont une petite fraction reste potentiellement active et code des protéines nécessaires à la mobilité (ORF1, ORF2). Les SINEs, tels que les éléments Alu chez les primates, sont plus courts et non autonomes, utilisant la machinerie des LINEs pour leur propagation.', \"D'autres éléments répétés comprennent des rétrovirus à LTR, disposant d'une machinerie génétique typique, et des transposons à mécanisme « coupé-collé » dépendant d'une transposase. La plupart de ces éléments sont aujourd'hui inactifs ou fortement dégradés, mais ils constituent un moteur majeur de diversification et d'évolution génomique.\"], subsections=[])]), ContentSection(id='SEC_4', title='Comparaison aux autres génomes', content=[\"La capacité codante d'une espèce n'est pas proportionnelle à la taille totale de son génome ni au nombre de chromosomes ; des organismes très différents peuvent présenter des nombres de gènes comparables alors que leur contenu non codant et répétitif diffère énormément.\", \"La distribution du nombre de gènes varie selon les grands groupes du vivant et ne reflète pas de manière simple la complexité physiologique d'un organisme : unicellulaires et multicellulaires peuvent partager des ordres de grandeur similaires pour le nombre de gènes, la différence résidant souvent dans l'organisation régulatrice et la diversité d'isoformes.\", 'Les génomes compacts et pauvres en séquences répétées tendent à montrer une relation plus linéaire entre taille et nombre de gènes, mais chez les eucaryotes supérieurs le nombre de gènes est largement influencé par des duplications, des éléments répétitifs et des introns qui rendent impossible une corrélation simple entre taille du génome et complexité biologique.'], subsections=[]), ContentSection(id='SEC_5', title='Les types de variations du génome humain et leurs conséquences', content=[\"Dans le langage courant, on parle de mutation pour désigner une modification héritée de l'information contenue dans le génome. En médecine et en génétique, le terme se réserve souvent aux altérations de séquence associées à un phénotype pathologique ; il convient de distinguer les mutations délétères des polymorphismes, ces derniers étant des variations présentes à une fréquence élevée (classiquement ≥ 1 %) dans une population donnée.\", \"Les variations peuvent être classées selon leur taille et leur nature : les variations ponctuelles ou de petite taille (quelques bases jusqu'à une cinquantaine) sont désignées SNV ou petites indels, tandis que les variations de structure touchent des segments plus larges (>50 pb) et comprennent délétions, duplications, inversions et translocations. Les variations de nombre de copies (CNV) font partie des remaniements déséquilibrés affectant la copie d'un segment donné.\", \"Une nomenclature standardisée est utilisée pour décrire les variations à différents niveaux : la notation génomique (g.), la notation sur ARNm (c.) et la notation protéique (p.) permettent de localiser et d'indiquer précisément la nature d'un changement. Les acides aminés sont souvent abrégés par une lettre ou un nom et sont référencés par leur position, par exemple p.Arg22Ser ou p.Arg22* pour une substitution ou un codon stop.\", \"Un individu peut porter de multiples variations sur un même gène ou sur des allèles différents ; la notation phasée ou non phasée (indication que des variations sont sur le même allèle ou sur des allèles différents) est importante pour l'interprétation fonctionnelle et clinique. La représentation correcte des génotypes est essentielle pour évaluer la cooccurrence et les effets combinés de variantes.\", \"Le statut de polymorphisme versus mutation pathogène dépend de la fréquence allélique, des données fonctionnelles, du contexte de transmission et de l'association avec un phénotype. Des exemples cliniques illustrent ces distinctions : une variation délétère sur un gène lié à l'X peut manifester un phénotype sévère chez l'homme tandis que la femme peut être asymptomatique ou présenter un phénotype plus tardif ; d'autres maladies requièrent la présence de deux allèles pathogènes (mode autosomique récessif) pour s'exprimer.\", \"Au plan moléculaire, les substitutions nucléotidiques peuvent être synonymes, faux-sens ou non-sens selon leur effet sur la séquence codante ; les indels conduisent à des décalages du cadre de lecture si leur longueur n'est pas un multiple de trois, entraînant fréquemment des protéines tronquées ou aberrantes. La localisation d'une variation dans l'architecture du gène (exon, intron, jonction d'épissage, régions régulatrices) conditionne souvent son impact fonctionnel.\", \"Les sites d'épissage (site donneur 5' et site accepteur 3') suivent des motifs canoniques (GT-AG pour la grande majorité) et les altérations de ces motifs peuvent provoquer la rétention d'introns, l'usage de sites cryptiques ou le saut d'exons, entraînant souvent des décalages du cadre de lecture ou la perte d'éléments structuraux essentiels de la protéine.\", \"Les expansions de trinucléotides ou autres répétitions unitaires représentent un mécanisme particulier de mutation dynamique : une amplification instable du nombre de répétitions peut se produire lors de la réplication et conduire à des pathologies lorsque le seuil critique est dépassé. Ces mutations dynamiques sont à l'origine d'une vingtaine à plusieurs dizaines de maladies bien caractérisées qui diffèrent par la séquence répétée et sa localisation génique.\", \"Les variations de structure à grande échelle modifient la localisation ou le nombre de copies de larges segments génomiques et sont fréquentes entre génomes individuels : des études comparatives ont mis en évidence plusieurs milliers d’événements de variation structurale entre deux génomes, incluant des grandes délétions, des CNV, des insertions d'éléments mobiles et des inversions. Ces remaniements affectent un grand nombre de bases et représentent la principale source de variabilité en termes de masse de séquence impliquée.\", \"Enfin, d'autres mécanismes (conversion génique entre séquences très homologues, empreinte parentale par méthylation différentielle, etc.) peuvent influencer l'expression et la pathogénicité d'une variation. Les conséquences fonctionnelles des altérations sont classiquement décrites comme perte de fonction, gain de fonction ou effet dominant négatif, et leur interprétation nécessite une évaluation contextuelle fondée sur la biologie moléculaire et les données cliniques.\"], subsections=[]), ContentSection(id='SEC_6', title='La variabilité du génome humain', content=[\"Le génome humain présente une grande diversité qui résulte de multiples sources de variation : substitutions ponctuelles, indels, variations structurales, expansions répétées et insertions d'éléments mobiles. Certaines variations sont rares et potentiellement délétères, d'autres fréquemment retrouvées dans des populations en raison d'effets fondateurs ou de mécanismes récurrents.\", \"Des inventaires de variations cumulées à l'échelle mondiale répertorient à présent des centaines de millions voire plus d'un milliard de variations individuelles et plusieurs millions de variations structurales ; ces catalogues publics illustrent l'étendue de la variabilité observée et constituent un référentiel essentiel pour l'interprétation clinique et l'étude de la population.\"], subsections=[]), ContentSection(id='SEC_7', title='Evolution des génomes: notions essentielles, mécanismes', content=[\"L'évolution des génomes s'inscrit dans les notions fondamentales d'évolution, de temps, d'adaptation et de sélection : les génomes se modifient au fil des générations par l'ajout, la perte et le remaniement de matériel génétique, et ces modifications peuvent conférer des avantages sélectifs ou neutralité, conduisant à l'installation de traits héritables ou à la divergence d'espèces.\", \"Les mécanismes moléculaires responsables de ces changements sont variés : substitutions ponctuelles et petites indels modifient localement les séquences, tandis que les remaniements structuraux (du simple déplacement d'un élément mobile à des délétions/duplications massives) réorganisent l'architecture du génome et créent des opportunités pour l'innovation fonctionnelle.\", \"La duplication d'exons et le brassage d'exons (« exon shuffling ») sont des processus qui génèrent de nouveaux domaines protéiques et modulent la modularité des protéines ; ces événements résultent souvent de recombinaisons non alléliques, d'activités de rétrotransposons ou d'erreurs de réparation des cassures double brin. La duplication de gènes, qu'elle soit partielle ou complète, permet ensuite la néofonctionnalisation ou la sous-division des fonctions (subfunctionalisation) entre copies.\", \"À une échelle plus large, des duplications complètes du génome (polyploïdisation) ont été documentées au cours de l'histoire évolutive de certaines lignées et peuvent provoquer des sauts de complexité adaptative en fournissant des copies supplémentaires de gènes susceptibles d'évoluer librement. Au total, ces mécanismes combinés expliquent la dynamique des génomes et l'émergence de nouvelles fonctions au fil du temps.\"], subsections=[])], slides=None, mapping=None), total_slides=110)"
            ]
          },
          "execution_count": 7,
          "metadata": {},
          "output_type": "execute_result"
        }
      ],
      "source": [
        "from src.course import Course\n",
        "\n",
        "course = Course.load_from_json(\n",
        "file_path)\n",
        "course"
      ]
    },
    {
      "cell_type": "code",
      "execution_count": 10,
      "metadata": {},
      "outputs": [],
      "source": [
        "course.subject = \"UE-2\"\n",
        "course.chapter = \"7.1\""
      ]
    },
    {
      "cell_type": "code",
      "execution_count": 11,
      "metadata": {},
      "outputs": [
        {
          "name": "stdout",
          "output_type": "stream",
          "text": [
            "Course: Architecture du génome humain\n",
            "Level: L1\n",
            "Block: SANTE\n",
            "Semester: S1\n",
            "Subject: UE-2\n",
            "Chapter: 7.1\n",
            "\n",
            "\n",
            "Course Outline:\n",
            "==================================================\n",
            "Introduction\n",
            "  Notions fondamentales\n",
            "Le génome humain\n",
            "  Projet de séquençage\n",
            "  Architecture globale\n",
            "    Génome mitochondrial\n",
            "    Génome nucléaire\n",
            "Description des principaux éléments constituants\n",
            "  Gènes (codants et non-codants), pseudogènes et éléments répétés\n",
            "Comparaison aux autres génomes\n",
            "Les types de variations du génome humain et leurs conséquences\n",
            "La variabilité du génome humain\n",
            "Evolution des génomes: notions essentielles, mécanismes\n"
          ]
        }
      ],
      "source": [
        "print(course.print_outline())"
      ]
    },
    {
      "cell_type": "code",
      "execution_count": 7,
      "metadata": {},
      "outputs": [
        {
          "name": "stdout",
          "output_type": "stream",
          "text": [
            "💾 Course saved to: volume/artifacts/json/architecture_du_génome_humain_20250818_114200.json\n"
          ]
        },
        {
          "data": {
            "text/plain": [
              "'volume/artifacts/json/architecture_du_génome_humain_20250818_114200.json'"
            ]
          },
          "execution_count": 7,
          "metadata": {},
          "output_type": "execute_result"
        }
      ],
      "source": [
        "course.save_to_json(output_path=\"volume/artifacts/json\")"
      ]
    },
    {
      "cell_type": "code",
      "execution_count": 12,
      "metadata": {},
      "outputs": [
        {
          "name": "stdout",
          "output_type": "stream",
          "text": [
            "📄 Course exported to DOCX: volume/artifacts/docx/architecture_du_génome_humain.docx\n"
          ]
        },
        {
          "data": {
            "text/plain": [
              "'volume/artifacts/docx/architecture_du_génome_humain.docx'"
            ]
          },
          "execution_count": 12,
          "metadata": {},
          "output_type": "execute_result"
        }
      ],
      "source": [
        "atifacts_path = \"volume/artifacts/docx\"\n",
        "template_path = \"volume/templates/fs_template.docx\"\n",
        "course.to_docx(output_path=atifacts_path, template_path=template_path)"
      ]
    },
    {
      "cell_type": "markdown",
      "metadata": {},
      "source": [
        "## Step 1: Data Extraction - Slides\n",
        "\n",
        "Extract slides from PDF using the exact logic from poc.ipynb\n"
      ]
    },
    {
      "cell_type": "code",
      "execution_count": null,
      "metadata": {},
      "outputs": [],
      "source": [
        "# Method 2: Direct method call\n",
        "metadata = CourseMetadata(\n",
        "    name=\"Architecture du génome humain\",\n",
        "    course_title=\"Architecture du génome humain\",\n",
        "    level=\"L1\",\n",
        "    block=\"SANTE\",\n",
        "    semester=\"S1\",\n",
        "    subject=\"UE-1 Constitution et transformation de la matière\"\n",
        ")\n",
        "\n",
        "course = pipeline.process_course_no_plan(\n",
        "    slides=slides,  # Your slides list\n",
        "    metadata=metadata,\n",
        "    save_json=True,\n",
        "    save_docx=True,\n",
        "    test_mode=True,  # Process only first 10 slides\n",
        "    output_path=\"\"\n",
        ")\n",
        "\n",
        "# Get processing statistics\n",
        "stats = pipeline.get_processing_statistics(course)\n",
        "print(f\"Processed {stats['total_sections']} sections from {stats['total_slides']} slides\")"
      ]
    }
  ],
  "metadata": {
    "kernelspec": {
      "display_name": ".venv",
      "language": "python",
      "name": "python3"
    },
    "language_info": {
      "codemirror_mode": {
        "name": "ipython",
        "version": 3
      },
      "file_extension": ".py",
      "mimetype": "text/x-python",
      "name": "python",
      "nbconvert_exporter": "python",
      "pygments_lexer": "ipython3",
      "version": "3.11.13"
    }
  },
  "nbformat": 4,
  "nbformat_minor": 2
}
